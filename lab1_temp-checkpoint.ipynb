{
  "cells": [
    {
      "cell_type": "markdown",
      "metadata": {
        "collapsed": false,
        "jupyter": {
          "outputs_hidden": false
        },
        "pycharm": {
          "name": "#%% md\n"
        },
        "id": "thWWuLkWeq_S"
      },
      "source": [
        "# NLP 2025\n",
        "# Lab 1: Tokenization\n",
        "\n",
        "Tokenization is a fundamental step in **Natural Language Processing (NLP)** 🧠💬 that transforms raw text into structured data for computational models. In this lab, you will explore different **tokenization techniques** 📝, preprocess text data 🔍, and implement **tokenization pipelines** using popular NLP libraries 🏗️.  \n",
        "\n",
        "You will also gain **hands-on experience** with **Hugging Face Datasets 🤗📚**, while assessing the impact of tokenization choices on downstream NLP tasks.\n",
        "\n",
        "By the end of this lab, you will have a **strong foundation** in tokenization techniques and be able to apply them effectively in **real-world NLP applications** 🌍.  \n",
        "\n",
        "---\n",
        "\n",
        "### 🎯 **Learning Goals**  \n",
        "\n",
        "By the end of this lab, you should be able to:  \n",
        "\n",
        "✅ **Understand the role of tokenization in NLP** 🧠💡  \n",
        "✅ **Explain why tokenization is important** and how it affects text processing 📖🔍  \n",
        "✅ **Implement different tokenization techniques** – Apply **word** 📝, **subword** 🔢, and **character-level** 🔠 tokenization using built-in libraries.  \n",
        "✅ **Use Hugging Face Datasets** 🤗📊 – Load and preprocess text datasets efficiently.  \n",
        "✅ **Evaluate tokenization impact** 📉🔎 – Analyze how different tokenization methods influence model performance.  \n",
        "✅ **Identify challenges in tokenization** ❗🔍 – Recognize issues like **out-of-vocabulary (OOV) words**, **ambiguity**, and **multilingual tokenization** 🌍.  \n",
        "\n",
        "### Score breakdown\n",
        "\n",
        "| Exercise            | Points |\n",
        "|---------------------|--------|\n",
        "| [Exercise 1](#e1)   | 5      |\n",
        "| [Exercise 2](#e2)   | 6      |\n",
        "| [Exercise 3](#e3)   | 5      |\n",
        "| [Exercise 4](#e4)   | 12     |\n",
        "| [Exercise 5](#e5)   | 5      |\n",
        "| [Exercise 6](#e6)   | 22     |\n",
        "| [Exercise 7](#e7)   | 5      |\n",
        "| [Exercise 8](#e8)   | 5      |\n",
        "| [Exercise 9](#e9)   | 10     |\n",
        "| [Exercise 10](#e10) | 25     |\n",
        "| Total               | 100    |\n",
        "\n",
        "This score will be scaled down to 0.5 and that will be your final lab score.\n",
        "\n",
        "### 📌 **Instructions for Delivery** (📅 **Deadline: 11/Apr 18:00**, 🎭 *wildcards possible*)  \n",
        "\n",
        "✅ **Submission Requirements**  \n",
        "+ 📄 You need to submit a **PDF of your report** (use the templates provided in **LaTeX** 🖋️ (*preferred*) or **Word** 📑) and a **copy of your notebook** 📓 with the code.  \n",
        "+ ⚡ Make sure that **all cells are executed properly** ⚙️ and that **all figures/results/plots** 📊 you include in the report are also visible in your **executed notebook**.  \n",
        "\n",
        "✅ **Collaboration & Integrity**  \n",
        "+ 🗣️ While you may **discuss** the lab with others, you must **write your solutions with your group only**. If you **discuss specific tasks** with others, please **include their names** in the appendix of the report.  \n",
        "+ 📜 **Honor Code applies** to this lab. For more details, check **Syllabus §7.2** ⚖️.  \n",
        "+ 📢 **Mandatory Disclosure**:  \n",
        "   - Any **websites** 🌐 (e.g., **Stack Overflow** 💡) or **other resources** used must be **listed and disclosed**.  \n",
        "   - Any **GenAI tools** 🤖 (e.g., **ChatGPT**) used must be **explicitly mentioned**.  \n",
        "   - 🚨 **Failure to disclose these resources is a violation of academic integrity**. See **Syllabus §7.3** for details.   "
      ]
    },
    {
      "cell_type": "markdown",
      "metadata": {
        "collapsed": false,
        "jupyter": {
          "outputs_hidden": false
        },
        "pycharm": {
          "name": "#%% md\n"
        },
        "id": "0yF1yMN4eq_T"
      },
      "source": [
        "## Preparation"
      ]
    },
    {
      "cell_type": "code",
      "metadata": {
        "jupyter": {
          "outputs_hidden": false
        },
        "pycharm": {
          "name": "#%%\n"
        },
        "ExecuteTime": {
          "end_time": "2025-04-05T21:31:53.106030Z",
          "start_time": "2025-04-05T21:31:46.154244Z"
        },
        "colab": {
          "base_uri": "https://localhost:8080/"
        },
        "id": "s9315Zmkeq_U",
        "outputId": "ebbb104b-75f9-483d-cf03-5a7a71932149"
      },
      "source": [
        "!pip install -U datasets~=3.2.0\n",
        "!python -m pip install -U matplotlib"
      ],
      "outputs": [
        {
          "output_type": "stream",
          "name": "stdout",
          "text": [
            "Collecting datasets~=3.2.0\n",
            "  Downloading datasets-3.2.0-py3-none-any.whl.metadata (20 kB)\n",
            "Requirement already satisfied: filelock in /usr/local/lib/python3.11/dist-packages (from datasets~=3.2.0) (3.18.0)\n",
            "Requirement already satisfied: numpy>=1.17 in /usr/local/lib/python3.11/dist-packages (from datasets~=3.2.0) (2.0.2)\n",
            "Requirement already satisfied: pyarrow>=15.0.0 in /usr/local/lib/python3.11/dist-packages (from datasets~=3.2.0) (18.1.0)\n",
            "Collecting dill<0.3.9,>=0.3.0 (from datasets~=3.2.0)\n",
            "  Downloading dill-0.3.8-py3-none-any.whl.metadata (10 kB)\n",
            "Requirement already satisfied: pandas in /usr/local/lib/python3.11/dist-packages (from datasets~=3.2.0) (2.2.2)\n",
            "Requirement already satisfied: requests>=2.32.2 in /usr/local/lib/python3.11/dist-packages (from datasets~=3.2.0) (2.32.3)\n",
            "Requirement already satisfied: tqdm>=4.66.3 in /usr/local/lib/python3.11/dist-packages (from datasets~=3.2.0) (4.67.1)\n",
            "Collecting xxhash (from datasets~=3.2.0)\n",
            "  Downloading xxhash-3.5.0-cp311-cp311-manylinux_2_17_x86_64.manylinux2014_x86_64.whl.metadata (12 kB)\n",
            "Collecting multiprocess<0.70.17 (from datasets~=3.2.0)\n",
            "  Downloading multiprocess-0.70.16-py311-none-any.whl.metadata (7.2 kB)\n",
            "Collecting fsspec<=2024.9.0,>=2023.1.0 (from fsspec[http]<=2024.9.0,>=2023.1.0->datasets~=3.2.0)\n",
            "  Downloading fsspec-2024.9.0-py3-none-any.whl.metadata (11 kB)\n",
            "Requirement already satisfied: aiohttp in /usr/local/lib/python3.11/dist-packages (from datasets~=3.2.0) (3.11.15)\n",
            "Requirement already satisfied: huggingface-hub>=0.23.0 in /usr/local/lib/python3.11/dist-packages (from datasets~=3.2.0) (0.30.1)\n",
            "Requirement already satisfied: packaging in /usr/local/lib/python3.11/dist-packages (from datasets~=3.2.0) (24.2)\n",
            "Requirement already satisfied: pyyaml>=5.1 in /usr/local/lib/python3.11/dist-packages (from datasets~=3.2.0) (6.0.2)\n",
            "Requirement already satisfied: aiohappyeyeballs>=2.3.0 in /usr/local/lib/python3.11/dist-packages (from aiohttp->datasets~=3.2.0) (2.6.1)\n",
            "Requirement already satisfied: aiosignal>=1.1.2 in /usr/local/lib/python3.11/dist-packages (from aiohttp->datasets~=3.2.0) (1.3.2)\n",
            "Requirement already satisfied: attrs>=17.3.0 in /usr/local/lib/python3.11/dist-packages (from aiohttp->datasets~=3.2.0) (25.3.0)\n",
            "Requirement already satisfied: frozenlist>=1.1.1 in /usr/local/lib/python3.11/dist-packages (from aiohttp->datasets~=3.2.0) (1.5.0)\n",
            "Requirement already satisfied: multidict<7.0,>=4.5 in /usr/local/lib/python3.11/dist-packages (from aiohttp->datasets~=3.2.0) (6.2.0)\n",
            "Requirement already satisfied: propcache>=0.2.0 in /usr/local/lib/python3.11/dist-packages (from aiohttp->datasets~=3.2.0) (0.3.1)\n",
            "Requirement already satisfied: yarl<2.0,>=1.17.0 in /usr/local/lib/python3.11/dist-packages (from aiohttp->datasets~=3.2.0) (1.18.3)\n",
            "Requirement already satisfied: typing-extensions>=3.7.4.3 in /usr/local/lib/python3.11/dist-packages (from huggingface-hub>=0.23.0->datasets~=3.2.0) (4.13.1)\n",
            "Requirement already satisfied: charset-normalizer<4,>=2 in /usr/local/lib/python3.11/dist-packages (from requests>=2.32.2->datasets~=3.2.0) (3.4.1)\n",
            "Requirement already satisfied: idna<4,>=2.5 in /usr/local/lib/python3.11/dist-packages (from requests>=2.32.2->datasets~=3.2.0) (3.10)\n",
            "Requirement already satisfied: urllib3<3,>=1.21.1 in /usr/local/lib/python3.11/dist-packages (from requests>=2.32.2->datasets~=3.2.0) (2.3.0)\n",
            "Requirement already satisfied: certifi>=2017.4.17 in /usr/local/lib/python3.11/dist-packages (from requests>=2.32.2->datasets~=3.2.0) (2025.1.31)\n",
            "Requirement already satisfied: python-dateutil>=2.8.2 in /usr/local/lib/python3.11/dist-packages (from pandas->datasets~=3.2.0) (2.8.2)\n",
            "Requirement already satisfied: pytz>=2020.1 in /usr/local/lib/python3.11/dist-packages (from pandas->datasets~=3.2.0) (2025.2)\n",
            "Requirement already satisfied: tzdata>=2022.7 in /usr/local/lib/python3.11/dist-packages (from pandas->datasets~=3.2.0) (2025.2)\n",
            "Requirement already satisfied: six>=1.5 in /usr/local/lib/python3.11/dist-packages (from python-dateutil>=2.8.2->pandas->datasets~=3.2.0) (1.17.0)\n",
            "Downloading datasets-3.2.0-py3-none-any.whl (480 kB)\n",
            "\u001b[2K   \u001b[90m━━━━━━━━━━━━━━━━━━━━━━━━━━━━━━━━━━━━━━━━\u001b[0m \u001b[32m480.6/480.6 kB\u001b[0m \u001b[31m7.1 MB/s\u001b[0m eta \u001b[36m0:00:00\u001b[0m\n",
            "\u001b[?25hDownloading dill-0.3.8-py3-none-any.whl (116 kB)\n",
            "\u001b[2K   \u001b[90m━━━━━━━━━━━━━━━━━━━━━━━━━━━━━━━━━━━━━━━━\u001b[0m \u001b[32m116.3/116.3 kB\u001b[0m \u001b[31m5.6 MB/s\u001b[0m eta \u001b[36m0:00:00\u001b[0m\n",
            "\u001b[?25hDownloading fsspec-2024.9.0-py3-none-any.whl (179 kB)\n",
            "\u001b[2K   \u001b[90m━━━━━━━━━━━━━━━━━━━━━━━━━━━━━━━━━━━━━━━━\u001b[0m \u001b[32m179.3/179.3 kB\u001b[0m \u001b[31m11.3 MB/s\u001b[0m eta \u001b[36m0:00:00\u001b[0m\n",
            "\u001b[?25hDownloading multiprocess-0.70.16-py311-none-any.whl (143 kB)\n",
            "\u001b[2K   \u001b[90m━━━━━━━━━━━━━━━━━━━━━━━━━━━━━━━━━━━━━━━━\u001b[0m \u001b[32m143.5/143.5 kB\u001b[0m \u001b[31m4.9 MB/s\u001b[0m eta \u001b[36m0:00:00\u001b[0m\n",
            "\u001b[?25hDownloading xxhash-3.5.0-cp311-cp311-manylinux_2_17_x86_64.manylinux2014_x86_64.whl (194 kB)\n",
            "\u001b[2K   \u001b[90m━━━━━━━━━━━━━━━━━━━━━━━━━━━━━━━━━━━━━━━━\u001b[0m \u001b[32m194.8/194.8 kB\u001b[0m \u001b[31m8.9 MB/s\u001b[0m eta \u001b[36m0:00:00\u001b[0m\n",
            "\u001b[?25hInstalling collected packages: xxhash, fsspec, dill, multiprocess, datasets\n",
            "  Attempting uninstall: fsspec\n",
            "    Found existing installation: fsspec 2025.3.2\n",
            "    Uninstalling fsspec-2025.3.2:\n",
            "      Successfully uninstalled fsspec-2025.3.2\n",
            "\u001b[31mERROR: pip's dependency resolver does not currently take into account all the packages that are installed. This behaviour is the source of the following dependency conflicts.\n",
            "torch 2.6.0+cu124 requires nvidia-cublas-cu12==12.4.5.8; platform_system == \"Linux\" and platform_machine == \"x86_64\", but you have nvidia-cublas-cu12 12.5.3.2 which is incompatible.\n",
            "torch 2.6.0+cu124 requires nvidia-cuda-cupti-cu12==12.4.127; platform_system == \"Linux\" and platform_machine == \"x86_64\", but you have nvidia-cuda-cupti-cu12 12.5.82 which is incompatible.\n",
            "torch 2.6.0+cu124 requires nvidia-cuda-nvrtc-cu12==12.4.127; platform_system == \"Linux\" and platform_machine == \"x86_64\", but you have nvidia-cuda-nvrtc-cu12 12.5.82 which is incompatible.\n",
            "torch 2.6.0+cu124 requires nvidia-cuda-runtime-cu12==12.4.127; platform_system == \"Linux\" and platform_machine == \"x86_64\", but you have nvidia-cuda-runtime-cu12 12.5.82 which is incompatible.\n",
            "torch 2.6.0+cu124 requires nvidia-cudnn-cu12==9.1.0.70; platform_system == \"Linux\" and platform_machine == \"x86_64\", but you have nvidia-cudnn-cu12 9.3.0.75 which is incompatible.\n",
            "torch 2.6.0+cu124 requires nvidia-cufft-cu12==11.2.1.3; platform_system == \"Linux\" and platform_machine == \"x86_64\", but you have nvidia-cufft-cu12 11.2.3.61 which is incompatible.\n",
            "torch 2.6.0+cu124 requires nvidia-curand-cu12==10.3.5.147; platform_system == \"Linux\" and platform_machine == \"x86_64\", but you have nvidia-curand-cu12 10.3.6.82 which is incompatible.\n",
            "torch 2.6.0+cu124 requires nvidia-cusolver-cu12==11.6.1.9; platform_system == \"Linux\" and platform_machine == \"x86_64\", but you have nvidia-cusolver-cu12 11.6.3.83 which is incompatible.\n",
            "torch 2.6.0+cu124 requires nvidia-cusparse-cu12==12.3.1.170; platform_system == \"Linux\" and platform_machine == \"x86_64\", but you have nvidia-cusparse-cu12 12.5.1.3 which is incompatible.\n",
            "torch 2.6.0+cu124 requires nvidia-nvjitlink-cu12==12.4.127; platform_system == \"Linux\" and platform_machine == \"x86_64\", but you have nvidia-nvjitlink-cu12 12.5.82 which is incompatible.\n",
            "gcsfs 2025.3.2 requires fsspec==2025.3.2, but you have fsspec 2024.9.0 which is incompatible.\u001b[0m\u001b[31m\n",
            "\u001b[0mSuccessfully installed datasets-3.2.0 dill-0.3.8 fsspec-2024.9.0 multiprocess-0.70.16 xxhash-3.5.0\n",
            "Requirement already satisfied: matplotlib in /usr/local/lib/python3.11/dist-packages (3.10.0)\n",
            "Collecting matplotlib\n",
            "  Downloading matplotlib-3.10.1-cp311-cp311-manylinux_2_17_x86_64.manylinux2014_x86_64.whl.metadata (11 kB)\n",
            "Requirement already satisfied: contourpy>=1.0.1 in /usr/local/lib/python3.11/dist-packages (from matplotlib) (1.3.1)\n",
            "Requirement already satisfied: cycler>=0.10 in /usr/local/lib/python3.11/dist-packages (from matplotlib) (0.12.1)\n",
            "Requirement already satisfied: fonttools>=4.22.0 in /usr/local/lib/python3.11/dist-packages (from matplotlib) (4.57.0)\n",
            "Requirement already satisfied: kiwisolver>=1.3.1 in /usr/local/lib/python3.11/dist-packages (from matplotlib) (1.4.8)\n",
            "Requirement already satisfied: numpy>=1.23 in /usr/local/lib/python3.11/dist-packages (from matplotlib) (2.0.2)\n",
            "Requirement already satisfied: packaging>=20.0 in /usr/local/lib/python3.11/dist-packages (from matplotlib) (24.2)\n",
            "Requirement already satisfied: pillow>=8 in /usr/local/lib/python3.11/dist-packages (from matplotlib) (11.1.0)\n",
            "Requirement already satisfied: pyparsing>=2.3.1 in /usr/local/lib/python3.11/dist-packages (from matplotlib) (3.2.3)\n",
            "Requirement already satisfied: python-dateutil>=2.7 in /usr/local/lib/python3.11/dist-packages (from matplotlib) (2.8.2)\n",
            "Requirement already satisfied: six>=1.5 in /usr/local/lib/python3.11/dist-packages (from python-dateutil>=2.7->matplotlib) (1.17.0)\n",
            "Downloading matplotlib-3.10.1-cp311-cp311-manylinux_2_17_x86_64.manylinux2014_x86_64.whl (8.6 MB)\n",
            "\u001b[2K   \u001b[90m━━━━━━━━━━━━━━━━━━━━━━━━━━━━━━━━━━━━━━━━\u001b[0m \u001b[32m8.6/8.6 MB\u001b[0m \u001b[31m39.2 MB/s\u001b[0m eta \u001b[36m0:00:00\u001b[0m\n",
            "\u001b[?25hInstalling collected packages: matplotlib\n",
            "  Attempting uninstall: matplotlib\n",
            "    Found existing installation: matplotlib 3.10.0\n",
            "    Uninstalling matplotlib-3.10.0:\n",
            "      Successfully uninstalled matplotlib-3.10.0\n",
            "Successfully installed matplotlib-3.10.1\n"
          ]
        }
      ],
      "execution_count": 1
    },
    {
      "cell_type": "code",
      "metadata": {
        "jupyter": {
          "outputs_hidden": false
        },
        "pycharm": {
          "name": "#%%\n"
        },
        "ExecuteTime": {
          "end_time": "2025-04-05T21:34:05.461382Z",
          "start_time": "2025-04-05T21:34:04.599115Z"
        },
        "id": "Nv3jY1X0eq_U"
      },
      "source": [
        "import re\n",
        "from collections import Counter\n",
        "\n",
        "import datasets\n",
        "import pandas as pd\n",
        "import tqdm"
      ],
      "outputs": [],
      "execution_count": 2
    },
    {
      "cell_type": "markdown",
      "metadata": {
        "collapsed": false,
        "jupyter": {
          "outputs_hidden": false
        },
        "pycharm": {
          "name": "#%% md\n"
        },
        "id": "6aw5Vr2leq_V"
      },
      "source": [
        "## 0. Intro to regular expressions\n",
        "\n",
        "In this introduction section, you can practice the use of regular expressions in python. You can find the documentation here: [https://docs.python.org/3/library/re.html](https://docs.python.org/3/library/re.html). The main functions of the re module are:\n",
        "- `re.search()` - searches for a pattern in a string, returns the first match,\n",
        "- `re.findall()` - similar to `search()`, but returns a list of all matches,\n",
        "- `re.sub()` - replaces the matches with a string.\n",
        "\n",
        "All above functions accept the regular expression pattern as their argument. The patterns are strings that represent the rules for matching the text. In python they start with `r` character, e.g. `r'\\d'` is a pattern that matches a digit.\n",
        "\n",
        "Let us start with a simple example. We will search for the word \"world\" in the string \"Hello, world!\"."
      ]
    },
    {
      "cell_type": "code",
      "metadata": {
        "jupyter": {
          "outputs_hidden": false
        },
        "pycharm": {
          "name": "#%%\n"
        },
        "ExecuteTime": {
          "end_time": "2025-04-05T21:34:08.356967Z",
          "start_time": "2025-04-05T21:34:08.354488Z"
        },
        "colab": {
          "base_uri": "https://localhost:8080/"
        },
        "id": "9C9JcAp8eq_V",
        "outputId": "0e64be4d-94aa-4908-c395-99614e1420e3"
      },
      "source": [
        "text = \"Hello, world!\"\n",
        "pattern = r'world'\n",
        "match = re.search(pattern, text)\n",
        "print(match)"
      ],
      "outputs": [
        {
          "output_type": "stream",
          "name": "stdout",
          "text": [
            "<re.Match object; span=(7, 12), match='world'>\n"
          ]
        }
      ],
      "execution_count": 3
    },
    {
      "cell_type": "markdown",
      "metadata": {
        "collapsed": false,
        "jupyter": {
          "outputs_hidden": false
        },
        "pycharm": {
          "name": "#%% md\n"
        },
        "id": "YzprPQODeq_V"
      },
      "source": [
        "The `search()` function returns a match object that tells us where the match was found (`span` argument) and the exact part of the string that matched the pattern (`group` argument).\n",
        "\n",
        "Below you can find the examples from the lecture."
      ]
    },
    {
      "cell_type": "code",
      "metadata": {
        "jupyter": {
          "outputs_hidden": false
        },
        "pycharm": {
          "name": "#%%\n"
        },
        "ExecuteTime": {
          "end_time": "2025-04-05T21:34:49.456657Z",
          "start_time": "2025-04-05T21:34:49.454299Z"
        },
        "id": "PsppeQ_Neq_V"
      },
      "source": [
        "# Disjunctions\n",
        "pattern = r'[wW]oodchuck'  # matches both \"woodchuck\" and \"Woodchuck\"\n",
        "pattern = r'[1234567890]'  # matches any digit\n",
        "pattern = r'[0-9]'  # matches any digit\n",
        "pattern = r'[A-Z]'  # matches any uppercase letter\n",
        "pattern = r'[a-z]'  # matches any lowercase letter\n",
        "pattern = r'[A-Za-z]'  # matches any letter\n",
        "\n",
        "# Disjunctions with pipe |\n",
        "pattern = r'groundhog|Woodchuck'  # matches both \"groundhog\" and \"Woodchuck\"\n",
        "\n",
        "# Negation (only when in [])\n",
        "pattern = r'[^0-9]'  # matches any character that is not a digit\n",
        "pattern = r'[^Ss]'  # matches any character that is not 'S' or 's'\n",
        "pattern = r'a^b'  # matches the string \"a^b\"\n",
        "\n",
        "# Quantifiers (+, *, ?, .)\n",
        "pattern = r'baa+'  # matches \"ba\" followed by one or more \"a\" (e.g. \"baa\", \"baaa\", \"baaaa\", ...)\n",
        "pattern = r'oo*h'  # matches \"o\" followed by zero or more \"o\" and then \"h\" (e.g. \"oh\", \"ooh\", \"oooh\", ...)\n",
        "pattern = r'colou?r'  # matches \"color\" and \"colour\"\n",
        "pattern = r'beg.n'  # matches \"begun\", \"begin\", \"begnn\", ...\n",
        "\n",
        "# Anchors (^, $)\n",
        "pattern = r'^Hello'  # matches \"Hello\" at the beginning of the string\n",
        "pattern = r'world!$'  # matches \"world!\" at the end of the string"
      ],
      "outputs": [],
      "execution_count": 4
    },
    {
      "cell_type": "markdown",
      "metadata": {
        "collapsed": false,
        "jupyter": {
          "outputs_hidden": false
        },
        "pycharm": {
          "name": "#%% md\n"
        },
        "id": "cp94A5tLeq_V"
      },
      "source": [
        "## 1. Huggingface datasets\n",
        "\n",
        "For this lab, we will use the **Hugging Face Datasets** library ([Hugging Face Datasets](https://huggingface.co/datasets)), which provides an extensive collection of ready-to-use NLP datasets. The library is designed to be lightweight, efficient, and compatible with popular deep learning frameworks such as PyTorch and TensorFlow.  \n",
        "\n",
        "You can find the full documentation and tutorials here:  \n",
        "📌 [Hugging Face Datasets Documentation](https://huggingface.co/docs/datasets/en/index)  \n",
        "\n",
        "### **Why use Hugging Face Datasets?**  \n",
        "- **Easy Access:** Load datasets with a single command without manual downloads.  \n",
        "- **Standardized Format:** Datasets come in a unified structure, making them easy to preprocess and integrate into ML pipelines.  \n",
        "- **Large Collection:** Provides datasets for a wide range of NLP tasks, including classification, translation, summarization, and more.  \n",
        "- **Seamless Integration:** Works with `transformers` and `sklearn` for preprocessing and model training.  \n",
        "\n",
        "### **Dataset for this lab: TweetEval - Emoji Subset**  \n",
        "\n",
        "In this lab, we will work with the **TweetEval** dataset, specifically the **emoji** subset. The TweetEval dataset is a benchmark for evaluating NLP models on Twitter-related tasks, covering tasks such as sentiment analysis, hate speech detection, and irony detection.  \n",
        "\n",
        "For tokenization, we will focus only on the **text** (the content of the tweets), but we will also examine the **labels** to understand the dataset structure.  \n",
        "\n",
        "🔗 The dataset description and details are available in its dataset card: [**TweetEval Dataset**](https://huggingface.co/datasets/cardiffnlp/tweet_eval)\n",
        "\n",
        "💡 Exploring More Datasets\n",
        "Hugging Face provides a vast selection of datasets across different NLP tasks. You can browse and explore more at:\n",
        "🔗 [Hugging Face Datasets Collection](https://huggingface.co/datasets)"
      ]
    },
    {
      "cell_type": "code",
      "metadata": {
        "jupyter": {
          "outputs_hidden": false
        },
        "pycharm": {
          "name": "#%%\n"
        },
        "ExecuteTime": {
          "end_time": "2025-04-05T21:38:31.452852Z",
          "start_time": "2025-04-05T21:38:21.483363Z"
        },
        "colab": {
          "base_uri": "https://localhost:8080/",
          "height": 588,
          "referenced_widgets": [
            "3ae1765734c24be38b757a649568b832",
            "f1fa4e00fa7a4b73bf12219d1602bc83",
            "4bd8dd729f714541823df8718d292977",
            "cab75918002445c98aa6949c7dfa1551",
            "de9b00638ae64d39beea5d29887b448a",
            "a912511a87864991b68fe4d4d9a74b92",
            "1e72ba0414aa40db96973296cacc4aad",
            "8ae9208219c14b5bb31c4b69e1adb9f7",
            "495f33f69408428eacf4a4b6e1f53bf5",
            "83a3fdb1457c48da84257eb90e65f168",
            "8fdbf8f09a7047f2870348c9383eb1c9",
            "6276c2c7afd4467087c7fa91c86a41d9",
            "dafafee84cd04980b963ce3cdbaad1d8",
            "c0281fc2842f4eff93e8c65ca1117e6d",
            "2df7652e0e55435e82135131b74e0c75",
            "14c40236be2b45e2821a32eb3e4321c9",
            "8d547e220e5941f0a5bfe63974df0ed5",
            "896a15e8a84441e8829c21b2f0b2c8bc",
            "bc514d98b58f4ec3a62de20f9635b250",
            "dfc1c261da844c70a392d0661e22c7f9",
            "8e1af8a74e56451fa5b686f11cc9f53a",
            "49136b9457224292b3ad3b7adb69774d",
            "b43edde732644294ac45d762b00fbcf0",
            "7d6d8837280b41eb8c3817f15fbf5116",
            "a7be57eefecc40758e5958a42d52d32b",
            "0adcdd90c7e24fcf9e5c805f3685b2ad",
            "4029d047cc8a4a6793356d5bce64e9d1",
            "d8f743f1f5ef433baad6e5c2d26affa7",
            "1ec173df60c040eeb0ec7aece54bd0ab",
            "3876525e167f4c1485b91d6db06e8f66",
            "1145fbf437824ff69345fa7f1298992e",
            "55d0f0f548d94114bb122eb39698bf3b",
            "50be69b4ebe746d0b37c72cc27c6a493",
            "aeb816e8c3bf4889abeabc47dc97b95e",
            "d2ca55bbb2f14a129ad7f150850e464f",
            "358d7e338710422da23a704b05026d55",
            "46aeb211497e471ebcb7f0db00d2eff9",
            "b20d381c368a44e094acbc8af343209b",
            "ee3593f6364a40c18ccf84f363f57d57",
            "c6e550a0144a46f4bf713ef8c1c58e8c",
            "92bb7c125b8a45d0a0e47344b362bf5c",
            "e4f4dc0a78e4430b919ade3aee19c7e7",
            "e6d34d7d1dc54eb4865db47d0586dae0",
            "518a2cd55aa546d5ae0cf7d7698e8b47",
            "0ea79ec7c75d4164a61ec22f43da2a92",
            "11e4d636be734483a7bd2110eeb6e260",
            "1fbe41f2a08f453b8c0c3a1b37b82825",
            "90c5f782450b436d81734a8fbf58cb18",
            "00e5ddf4cebe4abf9e0dabe7538a605a",
            "12f77938166a40639dc0865f2f3be235",
            "8f1313b1f4364b72b9c9d61d60cb380b",
            "fe4ef441ab4f4f1cbf4b386d10f640d9",
            "f2d886d9e5f6440f9230c66e80ae5a13",
            "545bd8fc484347b5a898ccdbacb287d1",
            "2b1a2df92e7045d380e0b31656c0fa26",
            "45d5e3b09e7749d195e716ae826fd631",
            "bb932f21480d4303a5974511b062f9fe",
            "733cf56d3c504467b694ac3911995fce",
            "8032d4dc16d84ffdaba7aa9daf8cd8bd",
            "c54271fca15742aaa2e44d589014d117",
            "30d34ebf3bed484b9794a5fa980c2e4e",
            "961b6ba078274749aacd7f821a25d926",
            "1ec9fec122e1454f84f3c6efba43b0d7",
            "89f7f7b8cdae4c94a78858613ba440d7",
            "c4891522cc6546108162ab951c5c17d3",
            "854794df1c5544bfa2637cc49a8dcdb8",
            "736c07ed6d1b446382b88fc919ab9e05",
            "fae08140500048b3bf673a76038fb6d9",
            "bc6bb18582404ad699542878890f82ce",
            "041c9f8eeb5b4537b0cc4be9d7f0b277",
            "394cf5b9211845cf85be7ca470d47106",
            "d7f936615fff4932a8c246a1b8ad3e10",
            "fe4a5c6bdf5b4a0c9fc6dba3cc85ec4b",
            "baa788d9fa444c0b82a4c161821dafc3",
            "5ee1f5649696499d88a7ec8db3f42238",
            "6401848085324891a1d7f6a00881cc60",
            "3647254b06734904a63b27407e5587af"
          ]
        },
        "id": "513VmDlieq_W",
        "outputId": "7340f19a-8b34-4bcf-c2cb-32238b2e1831"
      },
      "source": [
        "tweet_ds = datasets.load_dataset('tweet_eval', 'emoji')\n",
        "print(tweet_ds)"
      ],
      "outputs": [
        {
          "output_type": "stream",
          "name": "stderr",
          "text": [
            "/usr/local/lib/python3.11/dist-packages/huggingface_hub/utils/_auth.py:94: UserWarning: \n",
            "The secret `HF_TOKEN` does not exist in your Colab secrets.\n",
            "To authenticate with the Hugging Face Hub, create a token in your settings tab (https://huggingface.co/settings/tokens), set it as secret in your Google Colab and restart your session.\n",
            "You will be able to reuse this secret in all of your notebooks.\n",
            "Please note that authentication is recommended but still optional to access public models or datasets.\n",
            "  warnings.warn(\n"
          ]
        },
        {
          "output_type": "display_data",
          "data": {
            "text/plain": [
              "README.md:   0%|          | 0.00/23.9k [00:00<?, ?B/s]"
            ],
            "application/vnd.jupyter.widget-view+json": {
              "version_major": 2,
              "version_minor": 0,
              "model_id": "3ae1765734c24be38b757a649568b832"
            }
          },
          "metadata": {}
        },
        {
          "output_type": "display_data",
          "data": {
            "text/plain": [
              "train-00000-of-00001.parquet:   0%|          | 0.00/2.61M [00:00<?, ?B/s]"
            ],
            "application/vnd.jupyter.widget-view+json": {
              "version_major": 2,
              "version_minor": 0,
              "model_id": "6276c2c7afd4467087c7fa91c86a41d9"
            }
          },
          "metadata": {}
        },
        {
          "output_type": "display_data",
          "data": {
            "text/plain": [
              "test-00000-of-00001.parquet:   0%|          | 0.00/3.05M [00:00<?, ?B/s]"
            ],
            "application/vnd.jupyter.widget-view+json": {
              "version_major": 2,
              "version_minor": 0,
              "model_id": "b43edde732644294ac45d762b00fbcf0"
            }
          },
          "metadata": {}
        },
        {
          "output_type": "display_data",
          "data": {
            "text/plain": [
              "validation-00000-of-00001.parquet:   0%|          | 0.00/282k [00:00<?, ?B/s]"
            ],
            "application/vnd.jupyter.widget-view+json": {
              "version_major": 2,
              "version_minor": 0,
              "model_id": "aeb816e8c3bf4889abeabc47dc97b95e"
            }
          },
          "metadata": {}
        },
        {
          "output_type": "display_data",
          "data": {
            "text/plain": [
              "Generating train split:   0%|          | 0/45000 [00:00<?, ? examples/s]"
            ],
            "application/vnd.jupyter.widget-view+json": {
              "version_major": 2,
              "version_minor": 0,
              "model_id": "0ea79ec7c75d4164a61ec22f43da2a92"
            }
          },
          "metadata": {}
        },
        {
          "output_type": "display_data",
          "data": {
            "text/plain": [
              "Generating test split:   0%|          | 0/50000 [00:00<?, ? examples/s]"
            ],
            "application/vnd.jupyter.widget-view+json": {
              "version_major": 2,
              "version_minor": 0,
              "model_id": "45d5e3b09e7749d195e716ae826fd631"
            }
          },
          "metadata": {}
        },
        {
          "output_type": "display_data",
          "data": {
            "text/plain": [
              "Generating validation split:   0%|          | 0/5000 [00:00<?, ? examples/s]"
            ],
            "application/vnd.jupyter.widget-view+json": {
              "version_major": 2,
              "version_minor": 0,
              "model_id": "736c07ed6d1b446382b88fc919ab9e05"
            }
          },
          "metadata": {}
        },
        {
          "output_type": "stream",
          "name": "stdout",
          "text": [
            "DatasetDict({\n",
            "    train: Dataset({\n",
            "        features: ['text', 'label'],\n",
            "        num_rows: 45000\n",
            "    })\n",
            "    test: Dataset({\n",
            "        features: ['text', 'label'],\n",
            "        num_rows: 50000\n",
            "    })\n",
            "    validation: Dataset({\n",
            "        features: ['text', 'label'],\n",
            "        num_rows: 5000\n",
            "    })\n",
            "})\n"
          ]
        }
      ],
      "execution_count": 5
    },
    {
      "cell_type": "markdown",
      "metadata": {
        "collapsed": false,
        "jupyter": {
          "outputs_hidden": false
        },
        "pycharm": {
          "name": "#%% md\n"
        },
        "id": "tXEXRvmheq_W"
      },
      "source": [
        "The loaded dataset contains three subsets (“train”, “validation”, and “test”). Each consists of two columns: “text” and “label”. Label is an integer from 0 to 19 representing an emoji. See the dataset's card for more information. We can access the elements of the dataset like so:"
      ]
    },
    {
      "cell_type": "code",
      "metadata": {
        "jupyter": {
          "outputs_hidden": false
        },
        "pycharm": {
          "name": "#%%\n"
        },
        "ExecuteTime": {
          "end_time": "2025-04-05T21:39:28.007111Z",
          "start_time": "2025-04-05T21:39:28.002012Z"
        },
        "colab": {
          "base_uri": "https://localhost:8080/"
        },
        "id": "q0v0vyCDeq_W",
        "outputId": "d6913e99-21bd-4c4d-e3c5-ef63e7fa0d45"
      },
      "source": [
        "for i in range(10):\n",
        "    print(tweet_ds['train'][i])"
      ],
      "outputs": [
        {
          "output_type": "stream",
          "name": "stdout",
          "text": [
            "{'text': 'Sunday afternoon walking through Venice in the sun with @user ️ ️ ️ @ Abbot Kinney, Venice', 'label': 12}\n",
            "{'text': \"Time for some BBQ and whiskey libations. Chomp, belch, chomp! (@ Lucille's Smokehouse Bar-B-Que)\", 'label': 19}\n",
            "{'text': 'Love love love all these people ️ ️ ️ #friends #bff #celebrate #blessed #sundayfunday @ San…', 'label': 0}\n",
            "{'text': '️ ️ ️ ️ @ Toys\"R\"Us', 'label': 0}\n",
            "{'text': 'Man these are the funniest kids ever!! That face! #HappyBirthdayBubb @ FLIPnOUT Xtreme', 'label': 2}\n",
            "{'text': '#sandiego @ San Diego, California', 'label': 11}\n",
            "{'text': 'My little ️ ️ ️ ️ ️ #ObsessedWithMyDog @ Cafe Solstice Capitol Hill', 'label': 0}\n",
            "{'text': 'More #tinyepic things #tinyepicwestern, this one is crazy @user I may be one of your…', 'label': 19}\n",
            "{'text': 'Last night ️ @ Omnia Night Club At Caesars Palace', 'label': 0}\n",
            "{'text': 'friendship at its finest. ....#pixar #toystory #buzz #woody #friends #friendship #bff…', 'label': 7}\n"
          ]
        }
      ],
      "execution_count": 6
    },
    {
      "cell_type": "markdown",
      "metadata": {
        "collapsed": false,
        "jupyter": {
          "outputs_hidden": false
        },
        "pycharm": {
          "name": "#%% md\n"
        },
        "id": "CE0Eze_Ceq_W"
      },
      "source": [
        "You can easily cast the dataset to the pandas DataFrame."
      ]
    },
    {
      "cell_type": "code",
      "metadata": {
        "jupyter": {
          "outputs_hidden": false
        },
        "pycharm": {
          "name": "#%%\n"
        },
        "ExecuteTime": {
          "end_time": "2025-04-05T21:40:38.524566Z",
          "start_time": "2025-04-05T21:40:38.048018Z"
        },
        "colab": {
          "base_uri": "https://localhost:8080/"
        },
        "id": "gV59gzrPeq_W",
        "outputId": "ec4b571c-29fa-4572-b2b6-8dfdad497906"
      },
      "source": [
        "tweet_train_df = pd.DataFrame(tweet_ds['train'])\n",
        "print(tweet_train_df)"
      ],
      "outputs": [
        {
          "output_type": "stream",
          "name": "stdout",
          "text": [
            "                                                    text  label\n",
            "0      Sunday afternoon walking through Venice in the...     12\n",
            "1      Time for some BBQ and whiskey libations. Chomp...     19\n",
            "2      Love love love all these people ️ ️ ️ #friends...      0\n",
            "3                                    ️ ️ ️ ️ @ Toys\"R\"Us      0\n",
            "4      Man these are the funniest kids ever!! That fa...      2\n",
            "...                                                  ...    ...\n",
            "44995  Here to celebrate the Nunez wedding! Love my b...      0\n",
            "44996  1 night in Paris.... Wait... @ Paris Las Vegas...      1\n",
            "44997  Be safe this weekend everyone. #happylaborday ...     11\n",
            "44998          Pizza (@ Five50 - @user in Las Vegas, NV)      1\n",
            "44999  my mini is perfect, no one deserves her @ Las ...     13\n",
            "\n",
            "[45000 rows x 2 columns]\n"
          ]
        }
      ],
      "execution_count": 7
    },
    {
      "cell_type": "markdown",
      "metadata": {
        "collapsed": false,
        "jupyter": {
          "outputs_hidden": false
        },
        "pycharm": {
          "name": "#%% md\n"
        },
        "id": "uoPIggE_eq_W"
      },
      "source": [
        "We can plot the distribution of the labels in the training subset."
      ]
    },
    {
      "cell_type": "code",
      "metadata": {
        "jupyter": {
          "outputs_hidden": false
        },
        "pycharm": {
          "name": "#%%\n"
        },
        "ExecuteTime": {
          "end_time": "2025-04-05T21:41:14.085746Z",
          "start_time": "2025-04-05T21:41:13.364935Z"
        },
        "colab": {
          "base_uri": "https://localhost:8080/",
          "height": 470
        },
        "id": "g0mLhXNHeq_W",
        "outputId": "2451efc1-0db5-4d81-dcb5-e445a89c3462"
      },
      "source": [
        "tweet_train_df.groupby('label').count().plot.bar()"
      ],
      "outputs": [
        {
          "output_type": "execute_result",
          "data": {
            "text/plain": [
              "<Axes: xlabel='label'>"
            ]
          },
          "metadata": {},
          "execution_count": 8
        },
        {
          "output_type": "display_data",
          "data": {
            "text/plain": [
              "<Figure size 640x480 with 1 Axes>"
            ],
            "image/png": "[encoded data removed]"
          },
          "metadata": {}
        }
      ],
      "execution_count": 8
    },
    {
      "cell_type": "markdown",
      "metadata": {
        "collapsed": false,
        "jupyter": {
          "outputs_hidden": false
        },
        "pycharm": {
          "name": "#%% md\n"
        },
        "id": "26HDdA3Leq_W"
      },
      "source": [
        "### Dataset's filter function\n",
        "We can filter the examples using ```filter()``` method. See this link for more details https://huggingface.co/docs/datasets/en/use_dataset. Here is an example of filtering the short tweets (less than 20 characters) from the ```train``` subset."
      ]
    },
    {
      "cell_type": "code",
      "metadata": {
        "jupyter": {
          "outputs_hidden": false
        },
        "pycharm": {
          "name": "#%%\n"
        },
        "ExecuteTime": {
          "end_time": "2025-04-05T21:42:04.919411Z",
          "start_time": "2025-04-05T21:42:04.843823Z"
        },
        "colab": {
          "base_uri": "https://localhost:8080/",
          "height": 118,
          "referenced_widgets": [
            "110a2bbe15324c15b46c2a91ee8ab46c",
            "299ef8a96d18446a8f3e8950ce964746",
            "fac4b824061a4b36a9d5ba154f7ce184",
            "b182f847f8674644862bca04e6f4c3dc",
            "f5b4940e25194623be691b7ee2b1e0e9",
            "764dc922c4064d6a92834c9e7a420463",
            "1d642befb5de4168833501fc340172bc",
            "edf6990a553f4a39a7ed8da0cde264ff",
            "3207b0564c8142f290d57843c04bf503",
            "ab4eb8a309354ee1a73c3fec2acec916",
            "65a0f7ce1639426bbc5e83fb3b6813c7"
          ]
        },
        "id": "fofrRHLXeq_X",
        "outputId": "91ed1f49-9e00-49b2-9466-005ebea35c31"
      },
      "source": [
        "short_tweets = tweet_ds['train'].filter(lambda example: len(example['text']) < 20)\n",
        "print(short_tweets)"
      ],
      "outputs": [
        {
          "output_type": "display_data",
          "data": {
            "text/plain": [
              "Filter:   0%|          | 0/45000 [00:00<?, ? examples/s]"
            ],
            "application/vnd.jupyter.widget-view+json": {
              "version_major": 2,
              "version_minor": 0,
              "model_id": "110a2bbe15324c15b46c2a91ee8ab46c"
            }
          },
          "metadata": {}
        },
        {
          "output_type": "stream",
          "name": "stdout",
          "text": [
            "Dataset({\n",
            "    features: ['text', 'label'],\n",
            "    num_rows: 506\n",
            "})\n"
          ]
        }
      ],
      "execution_count": 9
    },
    {
      "cell_type": "code",
      "metadata": {
        "jupyter": {
          "outputs_hidden": false
        },
        "pycharm": {
          "name": "#%%\n"
        },
        "ExecuteTime": {
          "end_time": "2025-04-05T21:42:16.795136Z",
          "start_time": "2025-04-05T21:42:16.792159Z"
        },
        "colab": {
          "base_uri": "https://localhost:8080/"
        },
        "id": "VlfJvEkAeq_X",
        "outputId": "eb02e99d-3ebd-48bf-f037-647cab7b6050"
      },
      "source": [
        "for i in range(10):\n",
        "    print(short_tweets[i])"
      ],
      "outputs": [
        {
          "output_type": "stream",
          "name": "stdout",
          "text": [
            "{'text': '️ ️ ️ ️ @ Toys\"R\"Us', 'label': 0}\n",
            "{'text': '️ @ Columbia River', 'label': 12}\n",
            "{'text': 'My weekend: @user 3', 'label': 6}\n",
            "{'text': 'good day today', 'label': 3}\n",
            "{'text': 'My last RT...', 'label': 2}\n",
            "{'text': '@ On Lake Cowichan', 'label': 13}\n",
            "{'text': '@ Macroplaza', 'label': 4}\n",
            "{'text': '@ BART Train', 'label': 6}\n",
            "{'text': '️ 4 a tbh&amp; rate', 'label': 0}\n",
            "{'text': '@user Oh nice!!', 'label': 14}\n"
          ]
        }
      ],
      "execution_count": 10
    },
    {
      "cell_type": "markdown",
      "metadata": {
        "collapsed": false,
        "jupyter": {
          "outputs_hidden": false
        },
        "pycharm": {
          "name": "#%% md\n"
        },
        "id": "_MGxFAFReq_X"
      },
      "source": [
        "### Dataset's map function\n",
        "Datasets library contains a very useful method map. It expects a function that will receive an example from the dataset. This function will be applied to all entries. We will calculate the length of the text (in characters) in each example."
      ]
    },
    {
      "cell_type": "code",
      "metadata": {
        "jupyter": {
          "outputs_hidden": false
        },
        "pycharm": {
          "name": "#%%\n"
        },
        "ExecuteTime": {
          "end_time": "2025-04-05T21:43:29.900247Z",
          "start_time": "2025-04-05T21:43:29.898351Z"
        },
        "id": "yN7vMQ-Aeq_X"
      },
      "source": [
        "def calculate_text_length(example):\n",
        "    example['text_length'] = len(example['text'])\n",
        "    return example"
      ],
      "outputs": [],
      "execution_count": 11
    },
    {
      "cell_type": "code",
      "metadata": {
        "jupyter": {
          "outputs_hidden": false
        },
        "pycharm": {
          "name": "#%%\n"
        },
        "ExecuteTime": {
          "end_time": "2025-04-05T21:43:33.167705Z",
          "start_time": "2025-04-05T21:43:31.568935Z"
        },
        "colab": {
          "base_uri": "https://localhost:8080/",
          "height": 356,
          "referenced_widgets": [
            "fdedb21bef5b4a77b3d980a5b37ae432",
            "53cb3e32467748ada2c400ad71c39469",
            "584c4cc913fb404ab4183a88588c672c",
            "2ef3a20a9e244f48a35a80d21325c283",
            "f57a37b563124272940876839b1944e1",
            "a686b5a0d7954a89991025bf91288c8d",
            "7fcf08a5e6344e3f9f2909338f009869",
            "8c224abe915f47be84470102c688b74a",
            "44e71c65319e42d1a8649b8cd7d5a9a4",
            "5c9d3cb6c8ac40aea974916d31705c6e",
            "362863cfe3384bcfb5ac05fa5fd20380",
            "dff38299e43843b081fb1ebbbbe8543d",
            "57778415a49e482ba435b5da6ed5989f",
            "756563d5a1934cd89e75d6d53635f33f",
            "7a0f350777d64f428a99ad61b58d12e4",
            "8b5ad2f5273941e69722e6758c564ce6",
            "a8db83fd920d4ffaa60e1ee50f7d0bba",
            "11914203a3384e7e98e4aeddd2f80a5a",
            "0975b736e15948e8acfadc78d86ce9ce",
            "e32f9ba7b4474e989312eef3ef845a01",
            "6fa17668331e4cc5a164d38468db694f",
            "e90ae8c08a774f83b3ff6692cdaef468",
            "32c2df3155e0452187724769ae9bbd9a",
            "ef76f8caa97342318cf5927a58b9df48",
            "d1697b92552e4c01b1ab79d76f1b316f",
            "3ca660a09bf64c378a7eaa70fdba2473",
            "81c33b2043f149b5a6189846b1d0b602",
            "1f266099611843cc9fa53f785b96d247",
            "ba596d58d079425f834f6b4699ec16fc",
            "4cd11b9752f64ca28f3ccbe3768044cc",
            "df650884930d4002868f18d66ce98e57",
            "491f1f6270a54ce7a3f971b62a385c98",
            "4dc58b6fa77b4f6b95776b02e09e94e1"
          ]
        },
        "id": "6vMyUd0Ueq_X",
        "outputId": "5323300d-7086-49c6-e7dc-a032e002cd9e"
      },
      "source": [
        "tweet_ds = tweet_ds.map(calculate_text_length)\n",
        "print(tweet_ds)"
      ],
      "outputs": [
        {
          "output_type": "display_data",
          "data": {
            "text/plain": [
              "Map:   0%|          | 0/45000 [00:00<?, ? examples/s]"
            ],
            "application/vnd.jupyter.widget-view+json": {
              "version_major": 2,
              "version_minor": 0,
              "model_id": "fdedb21bef5b4a77b3d980a5b37ae432"
            }
          },
          "metadata": {}
        },
        {
          "output_type": "display_data",
          "data": {
            "text/plain": [
              "Map:   0%|          | 0/50000 [00:00<?, ? examples/s]"
            ],
            "application/vnd.jupyter.widget-view+json": {
              "version_major": 2,
              "version_minor": 0,
              "model_id": "dff38299e43843b081fb1ebbbbe8543d"
            }
          },
          "metadata": {}
        },
        {
          "output_type": "display_data",
          "data": {
            "text/plain": [
              "Map:   0%|          | 0/5000 [00:00<?, ? examples/s]"
            ],
            "application/vnd.jupyter.widget-view+json": {
              "version_major": 2,
              "version_minor": 0,
              "model_id": "32c2df3155e0452187724769ae9bbd9a"
            }
          },
          "metadata": {}
        },
        {
          "output_type": "stream",
          "name": "stdout",
          "text": [
            "DatasetDict({\n",
            "    train: Dataset({\n",
            "        features: ['text', 'label', 'text_length'],\n",
            "        num_rows: 45000\n",
            "    })\n",
            "    test: Dataset({\n",
            "        features: ['text', 'label', 'text_length'],\n",
            "        num_rows: 50000\n",
            "    })\n",
            "    validation: Dataset({\n",
            "        features: ['text', 'label', 'text_length'],\n",
            "        num_rows: 5000\n",
            "    })\n",
            "})\n"
          ]
        }
      ],
      "execution_count": 12
    },
    {
      "cell_type": "markdown",
      "metadata": {
        "collapsed": false,
        "jupyter": {
          "outputs_hidden": false
        },
        "pycharm": {
          "name": "#%% md\n"
        },
        "id": "O80WsP_Oeq_X"
      },
      "source": [
        "We can plot the histogram of the text lengths."
      ]
    },
    {
      "cell_type": "code",
      "metadata": {
        "jupyter": {
          "outputs_hidden": false
        },
        "pycharm": {
          "name": "#%%\n"
        },
        "ExecuteTime": {
          "end_time": "2025-04-05T21:46:39.528138Z",
          "start_time": "2025-04-05T21:46:38.840011Z"
        },
        "colab": {
          "base_uri": "https://localhost:8080/",
          "height": 447
        },
        "id": "89n8dKWQeq_X",
        "outputId": "466dec3c-a7b6-4e7b-babe-d389299a5bd5"
      },
      "source": [
        "pd.DataFrame(tweet_ds['train']).groupby('text_length')['text_length'].count().plot.hist(bins=50)"
      ],
      "outputs": [
        {
          "output_type": "execute_result",
          "data": {
            "text/plain": [
              "<Axes: ylabel='Frequency'>"
            ]
          },
          "metadata": {},
          "execution_count": 13
        },
        {
          "output_type": "display_data",
          "data": {
            "text/plain": [
              "<Figure size 640x480 with 1 Axes>"
            ],
            "image/png": "[encoded data removed]"
          },
          "metadata": {}
        }
      ],
      "execution_count": 13
    },
    {
      "cell_type": "markdown",
      "metadata": {
        "collapsed": false,
        "jupyter": {
          "outputs_hidden": false
        },
        "pycharm": {
          "name": "#%% md\n"
        },
        "id": "6wiitK0Peq_X"
      },
      "source": [
        "<a name=\"e1\"></a>\n",
        "\n",
        "### Exercise 1: Questions about the datasets\n",
        "1. (1p) What is the size of the training, test and validation datasets?\n",
        "2. (1p) What are the top 5 most frequent emojis in the validation dataset?\n",
        "3. (1p) Compare the distributions of labels (emojis) between training and validation datasets.\n",
        "4. (1p) How many examples with the \"fire\" emoji are in the training dataset?\n",
        "5. (1p) What is the average length (in characters) of the tweets in the training dataset?"
      ]
    },
    {
      "cell_type": "markdown",
      "metadata": {
        "collapsed": false,
        "jupyter": {
          "outputs_hidden": false
        },
        "pycharm": {
          "name": "#%% md\n"
        },
        "id": "UMRIL7yzeq_Y"
      },
      "source": [
        "You can add cells here to answer the questions"
      ]
    },
    {
      "cell_type": "code",
      "metadata": {
        "jupyter": {
          "outputs_hidden": false
        },
        "pycharm": {
          "name": "#%%\n"
        },
        "ExecuteTime": {
          "end_time": "2025-04-05T21:49:19.086357Z",
          "start_time": "2025-04-05T21:49:18.307141Z"
        },
        "colab": {
          "base_uri": "https://localhost:8080/",
          "height": 1000
        },
        "id": "yR5vP_xReq_Y",
        "outputId": "2da16cf1-62cc-463f-e713-2514bdf3153a"
      },
      "source": [
        "#Question 1\n",
        "print(\"Training dataset size:\", len(tweet_ds[\"train\"]))\n",
        "print(\"Test dataset size:\", len(tweet_ds[\"test\"]))\n",
        "print(\"Validation dataset size:\", len(tweet_ds[\"validation\"]))\n",
        "print(\" \")\n",
        "\n",
        "#Question 2\n",
        "df_val = pd.DataFrame(tweet_ds['validation'])\n",
        "label_names = tweet_ds[\"train\"].features[\"label\"].names\n",
        "val_label_counts = df_val['label'].value_counts()\n",
        "\n",
        "top5_val = val_label_counts.head(5)\n",
        "for idx in top5_val.index:\n",
        "    print(f\"Label {idx} ({label_names[idx]}): {top5_val[idx]} tweets\")\n",
        "\n",
        "print(\" \")\n",
        "\n",
        "#Question 3\n",
        "import matplotlib.pyplot as plt\n",
        "\n",
        "df_train = pd.DataFrame(tweet_ds['train'])\n",
        "\n",
        "train_counts = df_train['label'].value_counts(normalize=True).sort_index()\n",
        "val_counts = df_val['label'].value_counts(normalize=True).sort_index()\n",
        "\n",
        "plt.figure(figsize=(12, 6))\n",
        "plt.plot(train_counts.values, label=\"Train\", marker='o')\n",
        "plt.plot(val_counts.values, label=\"Validation\", marker='x')\n",
        "plt.xticks(range(len(label_names)), label_names, rotation=45, ha='right')\n",
        "plt.title(\"Label Distribution Comparison (Train vs Validation)\")\n",
        "plt.xlabel(\"Emoji Labels\")\n",
        "plt.ylabel(\"Frequency\")\n",
        "plt.legend()\n",
        "plt.tight_layout()\n",
        "plt.show()\n",
        "print(\"  \")\n",
        "\n",
        "#Question 4\n",
        "fire_label_index = label_names.index(\"🔥\")\n",
        "\n",
        "fire_count = (df_train['label'] == fire_label_index).sum()\n",
        "print(\"Number of 'fire' tweets in training dataset:\", fire_count)\n",
        "print(\"  \")\n",
        "\n",
        "#Question 5\n",
        "tweet_lengths = df_train['text'].apply(len)\n",
        "\n",
        "avg_length = tweet_lengths.mean()\n",
        "print(\"Average tweet length in training dataset:\", round(avg_length, 2))"
      ],
      "outputs": [
        {
          "output_type": "stream",
          "name": "stdout",
          "text": [
            "Training dataset size: 45000\n",
            "Test dataset size: 50000\n",
            "Validation dataset size: 5000\n",
            " \n",
            "Label 0 (❤): 1056 tweets\n",
            "Label 1 (😍): 521 tweets\n",
            "Label 2 (😂): 504 tweets\n",
            "Label 3 (💕): 308 tweets\n",
            "Label 4 (🔥): 243 tweets\n",
            " \n"
          ]
        },
        {
          "output_type": "stream",
          "name": "stderr",
          "text": [
            "<ipython-input-14-f2d151301a0d>:34: UserWarning: Glyph 128149 (\\N{TWO HEARTS}) missing from font(s) DejaVu Sans.\n",
            "  plt.tight_layout()\n",
            "<ipython-input-14-f2d151301a0d>:34: UserWarning: Glyph 128293 (\\N{FIRE}) missing from font(s) DejaVu Sans.\n",
            "  plt.tight_layout()\n",
            "<ipython-input-14-f2d151301a0d>:34: UserWarning: Glyph 10024 (\\N{SPARKLES}) missing from font(s) DejaVu Sans.\n",
            "  plt.tight_layout()\n",
            "<ipython-input-14-f2d151301a0d>:34: UserWarning: Glyph 128153 (\\N{BLUE HEART}) missing from font(s) DejaVu Sans.\n",
            "  plt.tight_layout()\n",
            "<ipython-input-14-f2d151301a0d>:34: UserWarning: Glyph 128247 (\\N{CAMERA}) missing from font(s) DejaVu Sans.\n",
            "  plt.tight_layout()\n",
            "<ipython-input-14-f2d151301a0d>:34: UserWarning: Glyph 127482 (\\N{REGIONAL INDICATOR SYMBOL LETTER U}) missing from font(s) DejaVu Sans.\n",
            "  plt.tight_layout()\n",
            "<ipython-input-14-f2d151301a0d>:34: UserWarning: Glyph 127480 (\\N{REGIONAL INDICATOR SYMBOL LETTER S}) missing from font(s) DejaVu Sans.\n",
            "  plt.tight_layout()\n",
            "<ipython-input-14-f2d151301a0d>:34: UserWarning: Glyph 128156 (\\N{PURPLE HEART}) missing from font(s) DejaVu Sans.\n",
            "  plt.tight_layout()\n",
            "<ipython-input-14-f2d151301a0d>:34: UserWarning: Glyph 128175 (\\N{HUNDRED POINTS SYMBOL}) missing from font(s) DejaVu Sans.\n",
            "  plt.tight_layout()\n",
            "<ipython-input-14-f2d151301a0d>:34: UserWarning: Glyph 127876 (\\N{CHRISTMAS TREE}) missing from font(s) DejaVu Sans.\n",
            "  plt.tight_layout()\n",
            "<ipython-input-14-f2d151301a0d>:34: UserWarning: Glyph 128248 (\\N{CAMERA WITH FLASH}) missing from font(s) DejaVu Sans.\n",
            "  plt.tight_layout()\n",
            "/usr/local/lib/python3.11/dist-packages/IPython/core/pylabtools.py:151: UserWarning: Glyph 128149 (\\N{TWO HEARTS}) missing from font(s) DejaVu Sans.\n",
            "  fig.canvas.print_figure(bytes_io, **kw)\n",
            "/usr/local/lib/python3.11/dist-packages/IPython/core/pylabtools.py:151: UserWarning: Glyph 128293 (\\N{FIRE}) missing from font(s) DejaVu Sans.\n",
            "  fig.canvas.print_figure(bytes_io, **kw)\n",
            "/usr/local/lib/python3.11/dist-packages/IPython/core/pylabtools.py:151: UserWarning: Glyph 10024 (\\N{SPARKLES}) missing from font(s) DejaVu Sans.\n",
            "  fig.canvas.print_figure(bytes_io, **kw)\n",
            "/usr/local/lib/python3.11/dist-packages/IPython/core/pylabtools.py:151: UserWarning: Glyph 128153 (\\N{BLUE HEART}) missing from font(s) DejaVu Sans.\n",
            "  fig.canvas.print_figure(bytes_io, **kw)\n",
            "/usr/local/lib/python3.11/dist-packages/IPython/core/pylabtools.py:151: UserWarning: Glyph 128247 (\\N{CAMERA}) missing from font(s) DejaVu Sans.\n",
            "  fig.canvas.print_figure(bytes_io, **kw)\n",
            "/usr/local/lib/python3.11/dist-packages/IPython/core/pylabtools.py:151: UserWarning: Glyph 127482 (\\N{REGIONAL INDICATOR SYMBOL LETTER U}) missing from font(s) DejaVu Sans.\n",
            "  fig.canvas.print_figure(bytes_io, **kw)\n",
            "/usr/local/lib/python3.11/dist-packages/IPython/core/pylabtools.py:151: UserWarning: Glyph 127480 (\\N{REGIONAL INDICATOR SYMBOL LETTER S}) missing from font(s) DejaVu Sans.\n",
            "  fig.canvas.print_figure(bytes_io, **kw)\n",
            "/usr/local/lib/python3.11/dist-packages/IPython/core/pylabtools.py:151: UserWarning: Glyph 128156 (\\N{PURPLE HEART}) missing from font(s) DejaVu Sans.\n",
            "  fig.canvas.print_figure(bytes_io, **kw)\n",
            "/usr/local/lib/python3.11/dist-packages/IPython/core/pylabtools.py:151: UserWarning: Glyph 128175 (\\N{HUNDRED POINTS SYMBOL}) missing from font(s) DejaVu Sans.\n",
            "  fig.canvas.print_figure(bytes_io, **kw)\n",
            "/usr/local/lib/python3.11/dist-packages/IPython/core/pylabtools.py:151: UserWarning: Glyph 127876 (\\N{CHRISTMAS TREE}) missing from font(s) DejaVu Sans.\n",
            "  fig.canvas.print_figure(bytes_io, **kw)\n",
            "/usr/local/lib/python3.11/dist-packages/IPython/core/pylabtools.py:151: UserWarning: Glyph 128248 (\\N{CAMERA WITH FLASH}) missing from font(s) DejaVu Sans.\n",
            "  fig.canvas.print_figure(bytes_io, **kw)\n"
          ]
        },
        {
          "output_type": "display_data",
          "data": {
            "text/plain": [
              "<Figure size 1200x600 with 1 Axes>"
            ],
            "image/png": "[encoded data removed]"
          },
          "metadata": {}
        },
        {
          "output_type": "stream",
          "name": "stdout",
          "text": [
            "  \n",
            "Number of 'fire' tweets in training dataset: 2146\n",
            "  \n",
            "Average tweet length in training dataset: 71.02\n"
          ]
        }
      ],
      "execution_count": 14
    },
    {
      "cell_type": "markdown",
      "metadata": {
        "collapsed": false,
        "jupyter": {
          "outputs_hidden": false
        },
        "pycharm": {
          "name": "#%% md\n"
        },
        "id": "LaxgPGTPeq_Y"
      },
      "source": [
        "## 2. Tokenization\n",
        "\n",
        "In this section we will preprocess the dataset by cleaning and tokenizing the entries.\n",
        "Datasets library contains a very useful method map. It expects a function that will receive an example from the dataset. This function will be applied to all entries."
      ]
    },
    {
      "cell_type": "markdown",
      "metadata": {
        "collapsed": false,
        "jupyter": {
          "outputs_hidden": false
        },
        "pycharm": {
          "name": "#%% md\n"
        },
        "id": "jX1sKzeLeq_Y"
      },
      "source": [
        "### 2.1 Cleaning the text"
      ]
    },
    {
      "cell_type": "markdown",
      "metadata": {
        "collapsed": false,
        "jupyter": {
          "outputs_hidden": false
        },
        "pycharm": {
          "name": "#%% md\n"
        },
        "id": "zKiVN4dSeq_Y"
      },
      "source": [
        "<a name=\"e2\"></a>\n",
        "### Exercise 2: Write the text cleaning function\n",
        "\n",
        "Include at least the following steps:\n",
        "- (1p) remove comma between numbers, i.e. 15,000 -> 15000\n",
        "- (1p) remove multiple spaces\n",
        "- (1p) space out the punctuation (i.e. \"hello, world.\" -> \"hello , world .\")\n",
        "- (3x1p) three more cleaning steps of your choice"
      ]
    },
    {
      "cell_type": "code",
      "metadata": {
        "jupyter": {
          "outputs_hidden": false
        },
        "pycharm": {
          "name": "#%%\n"
        },
        "ExecuteTime": {
          "end_time": "2025-04-05T22:04:18.223594Z",
          "start_time": "2025-04-05T22:04:18.219294Z"
        },
        "id": "8-Z_hTPieq_Y"
      },
      "source": [
        "import re\n",
        "\n",
        "\n",
        "def clean(example):\n",
        "    \"\"\"\n",
        "    Cleans the example from the Dataset\n",
        "    Args:\n",
        "        example: an example from the Dataset\n",
        "\n",
        "    Returns: update example containing 'clean' column\n",
        "\n",
        "    \"\"\"\n",
        "    text = example['text']\n",
        "\n",
        "    # Empty text\n",
        "    if text == '':\n",
        "        example['clean'] = ''\n",
        "        return example\n",
        "\n",
        "    # 'text' from the example can be of type numpy.str_, let's convert it to a python str\n",
        "    text = str(text)\n",
        "\n",
        "    ### YOUR CODE HERE\n",
        "    text = text.lower()\n",
        "\n",
        "    # remove comma between numbers\n",
        "    text = re.sub(r'(?<=[0-9])\\,(?=[0-9])', \"\", text)\n",
        "\n",
        "    # remove multiple spaces\n",
        "    text = re.sub(r'\\s+', ' ', text).strip()\n",
        "\n",
        "    # space out the punctuation\n",
        "    text = re.sub(\"\\'s\", \" \",\n",
        "                  text)  # we have cases like \"Sam is\" or \"Sam's\" (i.e. his) these two cases aren't separable, I choose to compromise are kill \"'s\" directly\n",
        "    text = re.sub(\" whats \", \" what is \", text, flags=re.IGNORECASE)\n",
        "    text = re.sub(\"\\'ve\", \" have \", text)\n",
        "    text = re.sub(r'([.,!?;:])', r' \\1 ', text)\n",
        "\n",
        "    # three more cleaning steps\n",
        "    text = re.sub(r\"\\'s\", \" \", text)  # possessive case\n",
        "    text = re.sub(r\"\\bwhats\\b\", \"what is\", text, flags=re.IGNORECASE)\n",
        "    text = re.sub(r\"\\'ve\", \" have \", text)\n",
        "\n",
        "    text = re.sub(r\"n\\'t\", \" not \", text)  # stuff like \"don't\", \"won't\", etc.\n",
        "\n",
        "    text = re.sub(r\"\\'re\", \" are \", text)  # \"you're\", \"they're\", etc.\n",
        "    text = re.sub(r\"\\'d\", \" would \", text)  # \"I'd\", \"he'd\", etc.\n",
        "    text = re.sub(r\"\\'ll\", \" will \", text)  # \"I'll\", \"you'll\", etc.\n",
        "    text = re.sub(r\"\\bi\\b\", \"i\", text)  # replace \"i\" with lowercase \"i\"\n",
        "\n",
        "    text = re.sub(r\"[^a-z0-9\\s.,!?;:]\", \"\", text)  # removing non-alphanumeric characters except space\n",
        "\n",
        "    ### YOUR CODE ENDS HERE\n",
        "\n",
        "    # Update the example with the cleaned text\n",
        "    example['clean'] = text.strip()\n",
        "    return example"
      ],
      "outputs": [],
      "execution_count": 15
    },
    {
      "cell_type": "markdown",
      "metadata": {
        "collapsed": false,
        "jupyter": {
          "outputs_hidden": false
        },
        "pycharm": {
          "name": "#%% md\n"
        },
        "id": "IfmedPbLeq_Y"
      },
      "source": [
        "This is an example of applying the ```clean()``` function you just wrote to a single entry of the dataset. The function added a 'clean' field to the example."
      ]
    },
    {
      "cell_type": "code",
      "metadata": {
        "jupyter": {
          "outputs_hidden": false
        },
        "pycharm": {
          "name": "#%%\n"
        },
        "ExecuteTime": {
          "end_time": "2025-04-05T22:12:37.352873Z",
          "start_time": "2025-04-05T22:12:37.345260Z"
        },
        "colab": {
          "base_uri": "https://localhost:8080/"
        },
        "id": "aJ3hk91-eq_Y",
        "outputId": "c47cb994-7cb1-4bdc-9539-f96d2a92e5d4"
      },
      "source": [
        "print('Original tweet item:')\n",
        "print(tweet_ds['train'][1]['text'])\n",
        "print('Cleaned tweet item:')\n",
        "print(clean(tweet_ds['train'][1])['clean'])"
      ],
      "outputs": [
        {
          "output_type": "stream",
          "name": "stdout",
          "text": [
            "Original tweet item:\n",
            "Time for some BBQ and whiskey libations. Chomp, belch, chomp! (@ Lucille's Smokehouse Bar-B-Que)\n",
            "Cleaned tweet item:\n",
            "time for some bbq and whiskey libations .  chomp ,  belch ,  chomp !   lucille  smokehouse barbque\n"
          ]
        }
      ],
      "execution_count": 16
    },
    {
      "cell_type": "markdown",
      "metadata": {
        "collapsed": false,
        "jupyter": {
          "outputs_hidden": false
        },
        "pycharm": {
          "name": "#%% md\n"
        },
        "id": "duMBPvRIeq_Y"
      },
      "source": [
        "Let's finally use the ```map()``` method and apply your `clean()` function to all entries of the dataset. You can see that the ```clean``` column has been added to each split."
      ]
    },
    {
      "cell_type": "markdown",
      "metadata": {
        "collapsed": false,
        "jupyter": {
          "outputs_hidden": false
        },
        "pycharm": {
          "name": "#%% md\n"
        },
        "id": "UntDDdNkeq_Z"
      },
      "source": [
        "Below, we will apply your function to all entries in the dataset."
      ]
    },
    {
      "cell_type": "code",
      "metadata": {
        "jupyter": {
          "outputs_hidden": false
        },
        "pycharm": {
          "name": "#%%\n"
        },
        "ExecuteTime": {
          "end_time": "2025-04-05T22:13:15.128539Z",
          "start_time": "2025-04-05T22:13:11.586112Z"
        },
        "colab": {
          "base_uri": "https://localhost:8080/",
          "height": 356,
          "referenced_widgets": [
            "ccf32b1b62a6405fba59398ff3aae885",
            "925bd68cc2c64a968822aa81f2053255",
            "1983b1179ef54a97b847b78fe695b2d4",
            "7a889e94289747a9ae53f51243f0525c",
            "02db1a7dc0fa4620b4667f382a20b824",
            "551938b8a7424b6aba8c4aeb472dcee6",
            "c70485e823ee4792aa65eec14a5877ad",
            "367ab753dff945b8b8bea72123685b07",
            "25c835b9e04f40359b3dc4c48304ff06",
            "e77a6975084d453eafe6c8c17a97ec69",
            "2a4b1ff8ee8943bbab08b7f330c79775",
            "2811eab4f0994e57a49fa2643b3a587e",
            "7b87acab729445eabd0bbf4ee0a4326d",
            "fc0e7d6dd6f24cd790e986d83ed105ab",
            "846c794626544eb398d045f74de3339b",
            "a761fb68a1ba43629e97a8fc5dc4ce65",
            "492bf3a6fb1d456ea2f801a3d81fef92",
            "d0df307a37e84a50bc46760b025d3230",
            "702b679c3ee54ae3a4ad77c10c07c3c3",
            "7b5c3546d94f483396890a55b5f10227",
            "37f184ae29344b1f908407fefa25a110",
            "41a76b1e7c734ba3b671e26b1b174b76",
            "e02934a365fc4b7099bc729eea9e9c49",
            "b90d70ad407a4cdabacaba6b6e44f7e2",
            "82d815667b11433887cc6c749bbb87cc",
            "4988f144ab5c43f8a607b5ef7ef41a48",
            "650cad0c57464bb183a84006c11692b9",
            "07d6d44b30be41828c49fc3be64573de",
            "ea69136e9100405288a3b1ff1dfa6f3e",
            "8373cf54b5ed44eba04dd0b51b5e948d",
            "5d40473967ca4b549115b78e0392a4b7",
            "531a82c4390446198038846898325679",
            "b525c74b53344597b50ba7e315651658"
          ]
        },
        "id": "4HWps2uYeq_Z",
        "outputId": "ba1e17c3-9eba-4534-8cbf-707dbdddd1fc"
      },
      "source": [
        "tweet_ds = tweet_ds.map(clean)\n",
        "print(tweet_ds)"
      ],
      "outputs": [
        {
          "output_type": "display_data",
          "data": {
            "text/plain": [
              "Map:   0%|          | 0/45000 [00:00<?, ? examples/s]"
            ],
            "application/vnd.jupyter.widget-view+json": {
              "version_major": 2,
              "version_minor": 0,
              "model_id": "ccf32b1b62a6405fba59398ff3aae885"
            }
          },
          "metadata": {}
        },
        {
          "output_type": "display_data",
          "data": {
            "text/plain": [
              "Map:   0%|          | 0/50000 [00:00<?, ? examples/s]"
            ],
            "application/vnd.jupyter.widget-view+json": {
              "version_major": 2,
              "version_minor": 0,
              "model_id": "2811eab4f0994e57a49fa2643b3a587e"
            }
          },
          "metadata": {}
        },
        {
          "output_type": "display_data",
          "data": {
            "text/plain": [
              "Map:   0%|          | 0/5000 [00:00<?, ? examples/s]"
            ],
            "application/vnd.jupyter.widget-view+json": {
              "version_major": 2,
              "version_minor": 0,
              "model_id": "e02934a365fc4b7099bc729eea9e9c49"
            }
          },
          "metadata": {}
        },
        {
          "output_type": "stream",
          "name": "stdout",
          "text": [
            "DatasetDict({\n",
            "    train: Dataset({\n",
            "        features: ['text', 'label', 'text_length', 'clean'],\n",
            "        num_rows: 45000\n",
            "    })\n",
            "    test: Dataset({\n",
            "        features: ['text', 'label', 'text_length', 'clean'],\n",
            "        num_rows: 50000\n",
            "    })\n",
            "    validation: Dataset({\n",
            "        features: ['text', 'label', 'text_length', 'clean'],\n",
            "        num_rows: 5000\n",
            "    })\n",
            "})\n"
          ]
        }
      ],
      "execution_count": 17
    },
    {
      "cell_type": "markdown",
      "metadata": {
        "collapsed": false,
        "jupyter": {
          "outputs_hidden": false
        },
        "pycharm": {
          "name": "#%% md\n"
        },
        "id": "ZbIeWNejeq_Z"
      },
      "source": [
        "### 2.2 Build vocabulary\n",
        "\n",
        "In the previous section, we implemented the cleaning of the dataset. Now, we will tokenize the text splitting it by spaces. We will build a vocabulary based on the cleaned text of the `train` split. We will investigate some properties of corpora (e.g. Zipf's law).\n",
        "\n",
        "The function below builds a vocabulary from the dataset. It counts the occurrences of the words in the dataset using the Counter class. Check the documentation here [collections.Counter](https://docs.python.org/3/library/collections.html#collections.Counter)."
      ]
    },
    {
      "cell_type": "markdown",
      "metadata": {
        "collapsed": false,
        "jupyter": {
          "outputs_hidden": false
        },
        "pycharm": {
          "name": "#%% md\n"
        },
        "id": "EWs_X0Speq_Z"
      },
      "source": [
        "### Exercise 3: Build the vocabulary\n",
        "(5p) Fill in the function below to build the vocabulary from the dataset. The function should return a `Counter` object with the words and their frequencies. The variable named `vocab` is already initialized as an empty `Counter` object."
      ]
    },
    {
      "cell_type": "code",
      "metadata": {
        "jupyter": {
          "outputs_hidden": false
        },
        "pycharm": {
          "name": "#%%\n"
        },
        "ExecuteTime": {
          "end_time": "2025-04-05T22:17:47.354296Z",
          "start_time": "2025-04-05T22:17:47.349392Z"
        },
        "id": "hjoBvbo4eq_Z"
      },
      "source": [
        "def build_vocab_counter(dataset):\n",
        "    \"\"\"\n",
        "    Builds a vocabulary from the dataset\n",
        "    Args:\n",
        "        dataset: a dataset\n",
        "\n",
        "    Returns: a vocabulary\n",
        "\n",
        "    \"\"\"\n",
        "    vocab = Counter()\n",
        "\n",
        "    ### YOUR CODE HERE\n",
        "    for example in dataset:\n",
        "        text = example.get(\"clean\", \"\")\n",
        "        words = text.split()\n",
        "        vocab.update(words)\n",
        "    ### YOUR CODE ENDS HERE\n",
        "    return vocab"
      ],
      "outputs": [],
      "execution_count": 18
    },
    {
      "cell_type": "code",
      "metadata": {
        "jupyter": {
          "outputs_hidden": false
        },
        "pycharm": {
          "name": "#%%\n"
        },
        "ExecuteTime": {
          "end_time": "2025-04-05T22:18:11.830103Z",
          "start_time": "2025-04-05T22:18:10.954266Z"
        },
        "colab": {
          "base_uri": "https://localhost:8080/"
        },
        "id": "GPCFeCJNeq_Z",
        "outputId": "36721907-463e-4767-d5d5-34e5a91b396b"
      },
      "source": [
        "vocab_counter = build_vocab_counter(tweet_ds['train'])\n",
        "print('Size of the vocabulary:', len(vocab_counter))"
      ],
      "outputs": [
        {
          "output_type": "stream",
          "name": "stdout",
          "text": [
            "Size of the vocabulary: 54830\n"
          ]
        }
      ],
      "execution_count": 19
    },
    {
      "cell_type": "markdown",
      "metadata": {
        "collapsed": false,
        "jupyter": {
          "outputs_hidden": false
        },
        "pycharm": {
          "name": "#%% md\n"
        },
        "id": "KnLN2IvEeq_Z"
      },
      "source": [
        "Because we created a counter, we can easily check the most and least common words in the vocabulary. Do the most common words make sense? How about the least common ones?"
      ]
    },
    {
      "cell_type": "code",
      "metadata": {
        "jupyter": {
          "outputs_hidden": false
        },
        "pycharm": {
          "name": "#%%\n"
        },
        "ExecuteTime": {
          "end_time": "2025-04-05T22:18:35.733048Z",
          "start_time": "2025-04-05T22:18:35.720153Z"
        },
        "colab": {
          "base_uri": "https://localhost:8080/"
        },
        "id": "Nqb6QJhceq_Z",
        "outputId": "22607380-d693-448e-c41d-963b93775a21"
      },
      "source": [
        "print('Most common:')\n",
        "print(vocab_counter.most_common(10))\n",
        "#'the', 'to', 'my', 'i', 'a', 'in' these are typical high-frequency function words in English.\n",
        "#'user': This is a placeholder for mentions (@user → 'user')\n",
        "#These are all logical high-frequency tokens.\n",
        "print('Least common:')\n",
        "print(vocab_counter.most_common()[-10:])\n",
        "#These low-frequency tokens make sense and reflect the long-tail nature of vocabulary in user-generated content."
      ],
      "outputs": [
        {
          "output_type": "stream",
          "name": "stdout",
          "text": [
            "Most common:\n",
            "[('.', 23674), ('!', 16957), ('the', 13861), (',', 12383), ('user', 12236), ('to', 7825), ('my', 7644), ('i', 7363), ('a', 6987), ('in', 6025)]\n",
            "Least common:\n",
            "[('corban', 1), ('southbayla', 1), ('thedabberchick', 1), ('nector', 1), ('chefking1921express', 1), ('rolltide', 1), ('bffweekend', 1), ('nunez', 1), ('happylaborday', 1), ('five50', 1)]\n"
          ]
        }
      ],
      "execution_count": 20
    },
    {
      "cell_type": "markdown",
      "metadata": {
        "collapsed": false,
        "jupyter": {
          "outputs_hidden": false
        },
        "pycharm": {
          "name": "#%% md\n"
        },
        "id": "SOvQqv6seq_a"
      },
      "source": [
        "We can also plot the counts of the words. You can check the [Power law](https://en.wikipedia.org/wiki/Power_law) if you are more interested."
      ]
    },
    {
      "cell_type": "code",
      "metadata": {
        "jupyter": {
          "outputs_hidden": false
        },
        "pycharm": {
          "name": "#%%\n"
        },
        "ExecuteTime": {
          "end_time": "2025-04-05T22:23:16.675190Z",
          "start_time": "2025-04-05T22:23:16.414618Z"
        },
        "colab": {
          "base_uri": "https://localhost:8080/",
          "height": 471
        },
        "id": "dv_7sTPYeq_a",
        "outputId": "52d48040-bd0d-46b3-eab3-c28e3832efc4"
      },
      "source": [
        "import matplotlib.pyplot as plt\n",
        "\n",
        "plt.loglog([val for word, val in vocab_counter.most_common()])\n",
        "plt.xlabel('rank')\n",
        "plt.ylabel('count')"
      ],
      "outputs": [
        {
          "output_type": "execute_result",
          "data": {
            "text/plain": [
              "Text(0, 0.5, 'count')"
            ]
          },
          "metadata": {},
          "execution_count": 21
        },
        {
          "output_type": "display_data",
          "data": {
            "text/plain": [
              "<Figure size 640x480 with 1 Axes>"
            ],
            "image/png": "[encoded data removed]"
          },
          "metadata": {}
        }
      ],
      "execution_count": 21
    },
    {
      "cell_type": "markdown",
      "metadata": {
        "collapsed": false,
        "jupyter": {
          "outputs_hidden": false
        },
        "pycharm": {
          "name": "#%% md\n"
        },
        "id": "JqupoKnLeq_a"
      },
      "source": [
        "The plot shows that the distribution of the words in the vocabulary follows the Zipf's law. The most frequent word occurs approximately twice as often as the second most frequent word, three times as often as the third most frequent word, etc.\n",
        "\n",
        "We can also filter the vocabulary by the frequency of the words. We will only consider the most frequent words and mark the rest as the `<unk>` token. Here we set the maximum vocabulary size to 10,000. But in the later steps, you will experiment with different sizes."
      ]
    },
    {
      "cell_type": "code",
      "metadata": {
        "jupyter": {
          "outputs_hidden": false
        },
        "pycharm": {
          "name": "#%%\n"
        },
        "ExecuteTime": {
          "end_time": "2025-04-05T22:25:08.576095Z",
          "start_time": "2025-04-05T22:25:08.560091Z"
        },
        "colab": {
          "base_uri": "https://localhost:8080/"
        },
        "id": "s01nE9KVeq_a",
        "outputId": "0bd5e1b0-39c8-4dd1-8fb2-737feafad52f"
      },
      "source": [
        "max_vocab_size = 10000\n",
        "vocab = vocab_counter.most_common(max_vocab_size)\n",
        "# cast to list of words\n",
        "vocab = [word for word, _ in vocab]\n",
        "print(len(vocab))"
      ],
      "outputs": [
        {
          "output_type": "stream",
          "name": "stdout",
          "text": [
            "10000\n"
          ]
        }
      ],
      "execution_count": 22
    },
    {
      "cell_type": "markdown",
      "metadata": {
        "collapsed": false,
        "jupyter": {
          "outputs_hidden": false
        },
        "pycharm": {
          "name": "#%% md\n"
        },
        "id": "mTiz0mSUeq_a"
      },
      "source": [
        "### Exercise 4: Frequency of pairs of words (bigrams)\n",
        "Calculate the frequency of (neighbouring) pairs of words in the training dataset.\n",
        "- (5p) List the most and least common pairs. Do the most common pairs make sense?\n",
        "- (2p) How many pairs occur only once in the dataset?\n",
        "- (5p) Plot the distribution of the pair frequencies."
      ]
    },
    {
      "metadata": {
        "ExecuteTime": {
          "end_time": "2025-04-05T22:35:29.456303Z",
          "start_time": "2025-04-05T22:35:28.410364Z"
        },
        "colab": {
          "base_uri": "https://localhost:8080/"
        },
        "id": "DfsMJW8keq_a",
        "outputId": "463634e9-406d-4d3b-bc1d-cf4986965a7f"
      },
      "cell_type": "code",
      "source": [
        "def compute_bigram_frequencies(dataset):\n",
        "    bigram_counter = Counter()\n",
        "\n",
        "    for example in dataset:\n",
        "        text = example.get(\"clean\", \"\")\n",
        "        words = text.split()\n",
        "\n",
        "        bigrams = zip(words, words[1:])\n",
        "        bigram_counter.update(bigrams)\n",
        "\n",
        "    return bigram_counter\n",
        "\n",
        "\n",
        "bigram_counter = compute_bigram_frequencies(tweet_ds[\"train\"])\n",
        "\n",
        "most_common_bigrams = bigram_counter.most_common(10)\n",
        "least_common_bigrams = bigram_counter.most_common()[-10:]\n",
        "\n",
        "print(\"Most common bigrams:\")\n",
        "for bigram, freq in most_common_bigrams:\n",
        "    print(f\"{bigram} : {freq}\")\n",
        "\n",
        "print(\"\\nLeast common bigrams:\")\n",
        "for bigram, freq in least_common_bigrams:\n",
        "    print(f\"{bigram} : {freq}\")"
      ],
      "outputs": [
        {
          "output_type": "stream",
          "name": "stdout",
          "text": [
            "Most common bigrams:\n",
            "('.', '.') : 7742\n",
            "('!', '!') : 4947\n",
            "(',', 'california') : 3343\n",
            "('amp', ';') : 2019\n",
            "('los', 'angeles') : 1744\n",
            "('with', 'my') : 1084\n",
            "('in', 'the') : 1025\n",
            "('las', 'vegas') : 1004\n",
            "('user', 'user') : 1003\n",
            "('angeles', ',') : 998\n",
            "\n",
            "Least common bigrams:\n",
            "('safe', 'this') : 1\n",
            "('.', 'happylaborday') : 1\n",
            "('happylaborday', 'beer') : 1\n",
            "('beer', 'nv') : 1\n",
            "('pizza', 'five50') : 1\n",
            "('five50', 'user') : 1\n",
            "('mini', 'is') : 1\n",
            "('one', 'deserves') : 1\n",
            "('deserves', 'her') : 1\n",
            "('her', 'las') : 1\n"
          ]
        }
      ],
      "execution_count": 23
    },
    {
      "metadata": {
        "id": "xuuhNBcKeq_a"
      },
      "cell_type": "code",
      "outputs": [],
      "execution_count": 24,
      "source": [
        "#These most common bigrams reflect exactly what we'd expect from a tweet dataset:\n",
        "#Heavy use of punctuation, common location names, frequent phrases and user mentions"
      ]
    },
    {
      "metadata": {
        "ExecuteTime": {
          "end_time": "2025-04-05T22:36:47.084185Z",
          "start_time": "2025-04-05T22:36:47.073740Z"
        },
        "colab": {
          "base_uri": "https://localhost:8080/"
        },
        "id": "7Y84fzlXeq_a",
        "outputId": "6f45a15d-ca35-499d-a85a-fadc41d53c80"
      },
      "cell_type": "code",
      "source": [
        "single_occurrence_count = sum(1 for freq in bigram_counter.values() if freq == 1)\n",
        "print(f\"\\nNumber of bigrams that occur only once: {single_occurrence_count}\")\n"
      ],
      "outputs": [
        {
          "output_type": "stream",
          "name": "stdout",
          "text": [
            "\n",
            "Number of bigrams that occur only once: 189141\n"
          ]
        }
      ],
      "execution_count": 25
    },
    {
      "metadata": {
        "ExecuteTime": {
          "end_time": "2025-04-05T22:37:36.306559Z",
          "start_time": "2025-04-05T22:37:35.894125Z"
        },
        "colab": {
          "base_uri": "https://localhost:8080/",
          "height": 607
        },
        "id": "hNQyNFm6eq_b",
        "outputId": "119fc4e4-fb4d-4ae7-d1dd-4876305156cd"
      },
      "cell_type": "code",
      "source": [
        "frequencies = list(bigram_counter.values())\n",
        "\n",
        "plt.figure(figsize=(10, 6))\n",
        "plt.hist(frequencies, bins=50, log=True)\n",
        "plt.title(\"Distribution of Bigram Frequencies\")\n",
        "plt.xlabel(\"Frequency\")\n",
        "plt.ylabel(\"Number of Bigrams\")\n",
        "plt.grid(True)\n",
        "plt.tight_layout()\n",
        "plt.show()\n"
      ],
      "outputs": [
        {
          "output_type": "display_data",
          "data": {
            "text/plain": [
              "<Figure size 1000x600 with 1 Axes>"
            ],
            "image/png": "[encoded data removed]"
          },
          "metadata": {}
        }
      ],
      "execution_count": 26
    },
    {
      "cell_type": "markdown",
      "metadata": {
        "collapsed": false,
        "jupyter": {
          "outputs_hidden": false
        },
        "pycharm": {
          "name": "#%% md\n"
        },
        "id": "7xIeQuyOeq_b"
      },
      "source": [
        "### 2.3 Tokenize the dataset\n",
        "The function below tokenizes the cleaned text (```example['clean']```) by splitting it on spaces. It replaces the words that are not in the vocabulary with the `<unk>` token."
      ]
    },
    {
      "cell_type": "markdown",
      "metadata": {
        "collapsed": false,
        "jupyter": {
          "outputs_hidden": false
        },
        "pycharm": {
          "name": "#%% md\n"
        },
        "id": "FrhtqMM2eq_b"
      },
      "source": [
        "### Exercise 5: Tokenize the dataset\n",
        "\n",
        "(5p) Fill in the function below to tokenize the dataset. The function will be applied to the dataset through the `map()` method, so it returns the updated example. Your task is to split the text by spaces and replace the words that are not in the vocabulary with the `<unk>` token."
      ]
    },
    {
      "cell_type": "code",
      "metadata": {
        "jupyter": {
          "outputs_hidden": false
        },
        "pycharm": {
          "name": "#%%\n"
        },
        "ExecuteTime": {
          "end_time": "2025-04-05T22:44:03.774123Z",
          "start_time": "2025-04-05T22:44:03.767542Z"
        },
        "id": "IITSw7wteq_b"
      },
      "source": [
        "def tokenize(example, vocab, unknown_token='<unk>'):\n",
        "    \"\"\"\n",
        "    Tokenizes the example from the Dataset\n",
        "    Args:\n",
        "        example: an example from the Dataset\n",
        "        vocab: a vocabulary as a list of words\n",
        "        unknown_token: a token to replace the words that are not in the vocabulary\n",
        "    Returns: update example containing 'tokens' column\n",
        "\n",
        "    \"\"\"\n",
        "    text = example['clean']\n",
        "    tokens = None  # list of tokens, your code should fill this variable\n",
        "\n",
        "    ### YOUR CODE HERE\n",
        "    tokens = [word if word in vocab else unknown_token for word in text.split()]\n",
        "    ### YOUR CODE ENDS HERE\n",
        "\n",
        "    example['tokens'] = tokens\n",
        "    return example"
      ],
      "outputs": [],
      "execution_count": 27
    },
    {
      "cell_type": "code",
      "metadata": {
        "jupyter": {
          "outputs_hidden": false
        },
        "pycharm": {
          "name": "#%%\n"
        },
        "ExecuteTime": {
          "end_time": "2025-04-05T22:44:30.168203Z",
          "start_time": "2025-04-05T22:44:09.765348Z"
        },
        "colab": {
          "base_uri": "https://localhost:8080/",
          "height": 356,
          "referenced_widgets": [
            "dda7a86cf9df4032a6234f82b7151297",
            "c7d96d917bc14ce1a6f42b1d5c730eb9",
            "186427556a4542fab6e31ba1b35fc252",
            "80fc72ef9edb4b79b8be8bc01960f669",
            "fd10da235be644d6bb65e90918420237",
            "8fe0156e48bd46e8999241b08814ee07",
            "b45931f5992e44c4a58e8d918089eba4",
            "b9ba82bad7aa414ea1b9890cdac6c321",
            "4e2108ee8b4646448e633e091e77b441",
            "8f3ca5eb66f34720b5a3ee601686ae3a",
            "45704f77ba0c4cd68c9a7187aced633b",
            "275d8a73ebb3468b8fe55a03b4f22615",
            "4a88757baafd4bb99601707440b0560a",
            "c06feda3cdeb42fcb9659eb12086562b",
            "1c3d04994ba347d7be671a959e3d4019",
            "3aab8c89f9fe4ae68a64b4b130cc10d0",
            "340262e9375441d8a9216a97b54b6e9a",
            "fa22d4e9966e4496912b3499ca54e9eb",
            "c78a331644164c8394c50680951dfb99",
            "64fa49c30fdc4e64b5aa4b26c1cf9bf0",
            "21385a5c6f5641bc9b545d4949a162a9",
            "1689872ce2cc461d9347b099008fefd8",
            "b80518161d144cf7b7a64f0445ed8153",
            "cd6f4b8a745e45fc9538b704fe99dbb6",
            "3390cb17149a4ca98453077a8f7d93d7",
            "38e97c77ba5f400eb7882955c79e8f95",
            "43f5b0e1ec4e423b8b3df6b660f71c4d",
            "cca3ba6184084fcc9eea1d324037d441",
            "b5e6cabd01f140b9a022117cacd87873",
            "6059c6877360414abc6fcd076276c4d9",
            "bffa91e08a854e46aebdd6c0be5a0c46",
            "4cb4ed6688124510923d96d73e164de3",
            "f3db72f3bd464c6281b2068847b4402b"
          ]
        },
        "id": "Vpvueo-4eq_b",
        "outputId": "795df6a6-a100-40de-fbd4-3e25cd6a9ecb"
      },
      "source": [
        "tweet_ds = tweet_ds.map(tokenize, fn_kwargs={'vocab': vocab})\n",
        "print(tweet_ds)"
      ],
      "outputs": [
        {
          "output_type": "display_data",
          "data": {
            "text/plain": [
              "Map:   0%|          | 0/45000 [00:00<?, ? examples/s]"
            ],
            "application/vnd.jupyter.widget-view+json": {
              "version_major": 2,
              "version_minor": 0,
              "model_id": "dda7a86cf9df4032a6234f82b7151297"
            }
          },
          "metadata": {}
        },
        {
          "output_type": "display_data",
          "data": {
            "text/plain": [
              "Map:   0%|          | 0/50000 [00:00<?, ? examples/s]"
            ],
            "application/vnd.jupyter.widget-view+json": {
              "version_major": 2,
              "version_minor": 0,
              "model_id": "275d8a73ebb3468b8fe55a03b4f22615"
            }
          },
          "metadata": {}
        },
        {
          "output_type": "display_data",
          "data": {
            "text/plain": [
              "Map:   0%|          | 0/5000 [00:00<?, ? examples/s]"
            ],
            "application/vnd.jupyter.widget-view+json": {
              "version_major": 2,
              "version_minor": 0,
              "model_id": "b80518161d144cf7b7a64f0445ed8153"
            }
          },
          "metadata": {}
        },
        {
          "output_type": "stream",
          "name": "stdout",
          "text": [
            "DatasetDict({\n",
            "    train: Dataset({\n",
            "        features: ['text', 'label', 'text_length', 'clean', 'tokens'],\n",
            "        num_rows: 45000\n",
            "    })\n",
            "    test: Dataset({\n",
            "        features: ['text', 'label', 'text_length', 'clean', 'tokens'],\n",
            "        num_rows: 50000\n",
            "    })\n",
            "    validation: Dataset({\n",
            "        features: ['text', 'label', 'text_length', 'clean', 'tokens'],\n",
            "        num_rows: 5000\n",
            "    })\n",
            "})\n"
          ]
        }
      ],
      "execution_count": 28
    },
    {
      "cell_type": "markdown",
      "metadata": {
        "collapsed": false,
        "jupyter": {
          "outputs_hidden": false
        },
        "pycharm": {
          "name": "#%% md\n"
        },
        "id": "zFy5y67Leq_b"
      },
      "source": [
        "Let us examine several entries from the dataset. We can see that the `tokens` column has been added to each example."
      ]
    },
    {
      "cell_type": "code",
      "metadata": {
        "jupyter": {
          "outputs_hidden": false
        },
        "pycharm": {
          "name": "#%%\n"
        },
        "ExecuteTime": {
          "end_time": "2025-04-05T22:44:48.181739Z",
          "start_time": "2025-04-05T22:44:48.177418Z"
        },
        "colab": {
          "base_uri": "https://localhost:8080/"
        },
        "id": "8MxoPSEfeq_b",
        "outputId": "e10ab063-170e-4b80-d77a-4993dbd1c45e"
      },
      "source": [
        "for i in range(10):\n",
        "    print('Original tweet:')\n",
        "    print(tweet_ds['train'][i]['text'])\n",
        "    print('Tokenized tweet:')\n",
        "    print(tweet_ds['train'][i]['tokens'])"
      ],
      "outputs": [
        {
          "output_type": "stream",
          "name": "stdout",
          "text": [
            "Original tweet:\n",
            "Sunday afternoon walking through Venice in the sun with @user ️ ️ ️ @ Abbot Kinney, Venice\n",
            "Tokenized tweet:\n",
            "['sunday', 'afternoon', 'walking', 'through', 'venice', 'in', 'the', 'sun', 'with', 'user', 'abbot', 'kinney', ',', 'venice']\n",
            "Original tweet:\n",
            "Time for some BBQ and whiskey libations. Chomp, belch, chomp! (@ Lucille's Smokehouse Bar-B-Que)\n",
            "Tokenized tweet:\n",
            "['time', 'for', 'some', 'bbq', 'and', 'whiskey', 'libations', '.', '<unk>', ',', '<unk>', ',', '<unk>', '!', 'lucille', 'smokehouse', 'barbque']\n",
            "Original tweet:\n",
            "Love love love all these people ️ ️ ️ #friends #bff #celebrate #blessed #sundayfunday @ San…\n",
            "Tokenized tweet:\n",
            "['love', 'love', 'love', 'all', 'these', 'people', 'friends', 'bff', 'celebrate', 'blessed', 'sundayfunday', 'san']\n",
            "Original tweet:\n",
            "️ ️ ️ ️ @ Toys\"R\"Us\n",
            "Tokenized tweet:\n",
            "['<unk>']\n",
            "Original tweet:\n",
            "Man these are the funniest kids ever!! That face! #HappyBirthdayBubb @ FLIPnOUT Xtreme\n",
            "Tokenized tweet:\n",
            "['man', 'these', 'are', 'the', 'funniest', 'kids', 'ever', '!', '!', 'that', 'face', '!', '<unk>', '<unk>', '<unk>']\n",
            "Original tweet:\n",
            "#sandiego @ San Diego, California\n",
            "Tokenized tweet:\n",
            "['sandiego', 'san', 'diego', ',', 'california']\n",
            "Original tweet:\n",
            "My little ️ ️ ️ ️ ️ #ObsessedWithMyDog @ Cafe Solstice Capitol Hill\n",
            "Tokenized tweet:\n",
            "['my', 'little', '<unk>', 'cafe', 'solstice', 'capitol', 'hill']\n",
            "Original tweet:\n",
            "More #tinyepic things #tinyepicwestern, this one is crazy @user I may be one of your…\n",
            "Tokenized tweet:\n",
            "['more', '<unk>', 'things', '<unk>', ',', 'this', 'one', 'is', 'crazy', 'user', 'i', 'may', 'be', 'one', 'of', 'your']\n",
            "Original tweet:\n",
            "Last night ️ @ Omnia Night Club At Caesars Palace\n",
            "Tokenized tweet:\n",
            "['last', 'night', 'omnia', 'night', 'club', 'at', 'caesars', 'palace']\n",
            "Original tweet:\n",
            "friendship at its finest. ....#pixar #toystory #buzz #woody #friends #friendship #bff…\n",
            "Tokenized tweet:\n",
            "['friendship', 'at', 'its', 'finest', '.', '.', '.', '.', '.', '<unk>', '<unk>', 'buzz', 'woody', 'friends', 'friendship', 'bff']\n"
          ]
        }
      ],
      "execution_count": 29
    },
    {
      "cell_type": "markdown",
      "metadata": {
        "collapsed": false,
        "jupyter": {
          "outputs_hidden": false
        },
        "pycharm": {
          "name": "#%% md\n"
        },
        "id": "BPZOu5uIeq_b"
      },
      "source": [
        "Make sure that the tokenization works as you intended. If not, revisit the cleaning and tokenization functions."
      ]
    },
    {
      "cell_type": "markdown",
      "metadata": {
        "collapsed": false,
        "jupyter": {
          "outputs_hidden": false
        },
        "pycharm": {
          "name": "#%% md\n"
        },
        "id": "_OOezkazeq_b"
      },
      "source": [
        "### Exercise 6: Questions about the tokenization\n",
        "1. (3p) How many unknown tokens are in the validation dataset after tokenization?\n",
        "2. (3p) What is the distribution of the number of tokens in the training dataset?\n",
        "3. (4p) How the number of tokens corresponds to the number of characters in our dataset?\n",
        "4. (4p) How the size of the vocabulary (```max_vocab_size```) affects the number of unknown tokens?\n",
        "5. (4p) How does the size of the vocabulary affect the number of tokens in the dataset?\n",
        "6. (4p) Think about the advantages and disadvantages of the tokenization method we used. What are the cases when it will not work well?\n",
        "\n",
        "For answering these questions make sure to include a proper mix of numbers/plots/tables etc. and comments."
      ]
    },
    {
      "metadata": {
        "ExecuteTime": {
          "end_time": "2025-04-05T22:50:22.726444Z",
          "start_time": "2025-04-05T22:50:22.578146Z"
        },
        "colab": {
          "base_uri": "https://localhost:8080/"
        },
        "id": "xTaUWqyyeq_c",
        "outputId": "54f82e6c-3036-4664-9aa6-380f7d92e372"
      },
      "cell_type": "code",
      "source": [
        "#Question 1\n",
        "def count_unknowns(dataset, unknown_token=\"<unk>\"):\n",
        "    return sum(token == unknown_token for example in dataset for token in example[\"tokens\"])\n",
        "\n",
        "\n",
        "unk_count_val = count_unknowns(tweet_ds[\"validation\"])\n",
        "print(f\"Number of unknown tokens in validation dataset: {unk_count_val}\")"
      ],
      "outputs": [
        {
          "output_type": "stream",
          "name": "stdout",
          "text": [
            "Number of unknown tokens in validation dataset: 7601\n"
          ]
        }
      ],
      "execution_count": 30
    },
    {
      "metadata": {
        "ExecuteTime": {
          "end_time": "2025-04-05T22:51:21.398925Z",
          "start_time": "2025-04-05T22:51:19.997208Z"
        },
        "colab": {
          "base_uri": "https://localhost:8080/",
          "height": 542
        },
        "id": "RI9wTnrfeq_c",
        "outputId": "ba122f03-71f0-403f-ee40-df7ef8772609"
      },
      "cell_type": "code",
      "source": [
        "import numpy as np\n",
        "\n",
        "#Question 2\n",
        "token_lengths = [len(example[\"tokens\"]) for example in tweet_ds[\"train\"]]\n",
        "\n",
        "print(\"Token Count Summary:\")\n",
        "print(\n",
        "    f\"Mean: {np.mean(token_lengths):.2f}, Median: {np.median(token_lengths)}, Max: {max(token_lengths)}, Min: {min(token_lengths)}\")\n",
        "\n",
        "plt.figure(figsize=(10, 5))\n",
        "plt.hist(token_lengths, bins=50, color='skyblue')\n",
        "plt.title(\"Distribution of Token Counts per Tweet (Training Set)\")\n",
        "plt.xlabel(\"Number of Tokens\")\n",
        "plt.ylabel(\"Number of Tweets\")\n",
        "plt.grid(True)\n",
        "plt.tight_layout()\n",
        "plt.show()"
      ],
      "outputs": [
        {
          "output_type": "stream",
          "name": "stdout",
          "text": [
            "Token Count Summary:\n",
            "Mean: 12.31, Median: 12.0, Max: 41, Min: 1\n"
          ]
        },
        {
          "output_type": "display_data",
          "data": {
            "text/plain": [
              "<Figure size 1000x500 with 1 Axes>"
            ],
            "image/png": "[encoded data removed]"
          },
          "metadata": {}
        }
      ],
      "execution_count": 31
    },
    {
      "metadata": {
        "ExecuteTime": {
          "end_time": "2025-04-05T22:53:34.295720Z",
          "start_time": "2025-04-05T22:53:32.841232Z"
        },
        "colab": {
          "base_uri": "https://localhost:8080/",
          "height": 507
        },
        "id": "Sg5j7BY6eq_c",
        "outputId": "22316168-0b37-46e1-c233-62efe387a35c"
      },
      "cell_type": "code",
      "source": [
        "#QUestion 3\n",
        "num_tokens = []\n",
        "num_chars = []\n",
        "\n",
        "for example in tweet_ds[\"train\"]:\n",
        "    num_tokens.append(len(example[\"tokens\"]))\n",
        "    num_chars.append(len(example[\"clean\"]))\n",
        "\n",
        "# Calculate correlation\n",
        "correlation = np.corrcoef(num_chars, num_tokens)[0, 1]\n",
        "\n",
        "# Scatter plot\n",
        "plt.figure(figsize=(8, 5))\n",
        "plt.scatter(num_chars, num_tokens, alpha=0.3)\n",
        "plt.xlabel(\"Number of Characters\")\n",
        "plt.ylabel(\"Number of Tokens\")\n",
        "plt.title(f\"Tokens vs Characters in Training Set (correlation = {correlation:.2f})\")\n",
        "plt.grid(True)\n",
        "plt.tight_layout()\n",
        "plt.show()\n",
        "\n",
        "#There's a strong relationship between characters and tokens.\n",
        "#The plot show a positive linear trend, as longer tweets tend to have more tokens.\n",
        "#However, some long tweets may have fewer tokens due to punctuation, and vice versa."
      ],
      "outputs": [
        {
          "output_type": "display_data",
          "data": {
            "text/plain": [
              "<Figure size 800x500 with 1 Axes>"
            ],
            "image/png": "[encoded data removed]"
          },
          "metadata": {}
        }
      ],
      "execution_count": 32
    },
    {
      "metadata": {
        "ExecuteTime": {
          "end_time": "2025-04-05T22:57:20.345203Z",
          "start_time": "2025-04-05T22:57:16.045953Z"
        },
        "colab": {
          "base_uri": "https://localhost:8080/",
          "height": 507
        },
        "id": "Wr1Gfp44eq_c",
        "outputId": "05d608c0-5208-4442-a569-f14a4768b87e"
      },
      "cell_type": "code",
      "source": [
        "#Question 4\n",
        "def get_unk_count(vocab_size):\n",
        "    vocab = [word for word, _ in vocab_counter.most_common(vocab_size)]\n",
        "    unk_count = 0\n",
        "    for example in tweet_ds[\"validation\"]:\n",
        "        for word in example[\"tokens\"]:\n",
        "            if word not in vocab:\n",
        "                unk_count += 1\n",
        "    return unk_count\n",
        "\n",
        "\n",
        "vocab_sizes = [1000, 3000, 5000, 10000,\n",
        "               20000]  # Ff question 5 asking to compare vocab sizes then below graph is the answer.\n",
        "unk_counts = [get_unk_count(vs) for vs in vocab_sizes]\n",
        "\n",
        "plt.figure(figsize=(8, 5))\n",
        "plt.plot(vocab_sizes, unk_counts, marker='o')\n",
        "plt.title(\"Unknown Tokens vs Vocabulary Size\")\n",
        "plt.xlabel(\"Vocabulary Size\")\n",
        "plt.ylabel(\"Number of <unk> Tokens\")\n",
        "plt.grid(True)\n",
        "plt.tight_layout()\n",
        "plt.show()\n",
        "\n",
        "#As vocabulary size increases, the number of <unk> tokens decreases sharply.\n",
        "#From graph we can see that 10000 vocabulary size is a good choice for balance."
      ],
      "outputs": [
        {
          "output_type": "display_data",
          "data": {
            "text/plain": [
              "<Figure size 800x500 with 1 Axes>"
            ],
            "image/png": "[encoded data removed]"
          },
          "metadata": {}
        }
      ],
      "execution_count": 33
    },
    {
      "metadata": {
        "id": "azkG0A6geq_c"
      },
      "cell_type": "code",
      "outputs": [],
      "execution_count": 34,
      "source": [
        "#Question 5\n",
        "#Vocab size doesn't change the number of tokens, but it reduces how many are unknown. A larger vocab have better representation, but slower models and larger memory."
      ]
    },
    {
      "metadata": {
        "id": "oDrj4uyReq_c"
      },
      "cell_type": "code",
      "outputs": [],
      "execution_count": 35,
      "source": [
        "#Question 6\n",
        "#Advantages: Simple\tJust split by spaces; very fast and easy to implement, tokens are readable words, can trace exact words and where <unk> is used\n",
        "#Disadvantages: Any unseen word becomes <unk> losing information, no morphological understanding, sensitive to typos, inefficient for rare words (e.g. usernames, hashtags, slang). Also fails when using some languages which don't have spaces between words."
      ]
    },
    {
      "cell_type": "markdown",
      "metadata": {
        "collapsed": false,
        "jupyter": {
          "outputs_hidden": false
        },
        "pycharm": {
          "name": "#%% md\n"
        },
        "id": "MXLaCou_eq_c"
      },
      "source": [
        "## 3. Byte Pair Encoding\n",
        "\n",
        "In this section, you will build the Byte Pair Encoding (BPE) tokenizer. BPE is an algorithm that replaces the most frequent pair of tokens (initially characters) with a new token. The algorithm is configured by the number of merges that are performed. You can find the paper here [Neural Machine Translation of Rare Words with Subword Units](https://arxiv.org/abs/1508.07909)."
      ]
    },
    {
      "cell_type": "markdown",
      "metadata": {
        "collapsed": false,
        "jupyter": {
          "outputs_hidden": false
        },
        "pycharm": {
          "name": "#%% md\n"
        },
        "id": "DqORAFeMeq_c"
      },
      "source": [
        "### 3.1 Finding the initial set of characters\n",
        "BPE algorithm starts with the set of characters that occur in the dataset. We will build a character counter from the dataset."
      ]
    },
    {
      "cell_type": "markdown",
      "metadata": {
        "collapsed": false,
        "jupyter": {
          "outputs_hidden": false
        },
        "pycharm": {
          "name": "#%% md\n"
        },
        "id": "NX5Fam2Seq_d"
      },
      "source": [
        "### Exercise 7: Counting the characters\n",
        "\n",
        "(5p) In this exercise, we build a counter with the frequencies of all characters in the dataset. Iterate over the dataset and count the characters in the `clean` column. The function returns a `Counter` object with the characters and their frequencies."
      ]
    },
    {
      "cell_type": "code",
      "metadata": {
        "jupyter": {
          "outputs_hidden": false
        },
        "pycharm": {
          "name": "#%%\n"
        },
        "ExecuteTime": {
          "end_time": "2025-04-05T23:13:02.213883Z",
          "start_time": "2025-04-05T23:13:02.211647Z"
        },
        "id": "2VmfGbjneq_d"
      },
      "source": [
        "def build_character_counter(dataset):\n",
        "    \"\"\"\n",
        "    Builds a character counter from the dataset\n",
        "    Args:\n",
        "        dataset: a dataset\n",
        "\n",
        "    Returns: a character counter\n",
        "\n",
        "    \"\"\"\n",
        "    char_counter = Counter()\n",
        "\n",
        "    ### YOUR CODE HERE\n",
        "    for example in dataset:\n",
        "        text = example.get(\"clean\", \"\")\n",
        "        char_counter.update(text)\n",
        "    ### YOUR CODE ENDS HERE\n",
        "\n",
        "    return char_counter"
      ],
      "outputs": [],
      "execution_count": 36
    },
    {
      "cell_type": "markdown",
      "metadata": {
        "collapsed": false,
        "jupyter": {
          "outputs_hidden": false
        },
        "pycharm": {
          "name": "#%% md\n"
        },
        "id": "ORO3vAoneq_d"
      },
      "source": [
        "The next cell applies the function to the training dataset and prints the size of the vocabulary and the most common characters."
      ]
    },
    {
      "cell_type": "code",
      "metadata": {
        "jupyter": {
          "outputs_hidden": false
        },
        "pycharm": {
          "name": "#%%\n"
        },
        "ExecuteTime": {
          "end_time": "2025-04-05T23:13:05.343555Z",
          "start_time": "2025-04-05T23:13:03.968512Z"
        },
        "colab": {
          "base_uri": "https://localhost:8080/"
        },
        "id": "zer-Hdb6eq_d",
        "outputId": "5d4ec529-1407-41a8-d7bc-61e2fe8b672c"
      },
      "source": [
        "char_counter = build_character_counter(tweet_ds['train'])\n",
        "print(len(char_counter))\n",
        "print(char_counter.most_common(100))"
      ],
      "outputs": [
        {
          "output_type": "stream",
          "name": "stdout",
          "text": [
            "43\n",
            "[(' ', 609583), ('e', 263859), ('a', 223394), ('o', 193232), ('t', 187223), ('i', 176617), ('s', 167495), ('n', 157316), ('r', 152188), ('l', 122384), ('h', 106811), ('d', 81100), ('u', 79954), ('m', 73881), ('c', 73644), ('y', 70573), ('g', 62967), ('f', 54175), ('p', 51445), ('w', 47450), ('b', 46238), ('k', 31217), ('v', 30824), ('.', 23674), ('!', 16957), (',', 12383), ('j', 6660), ('x', 4469), ('1', 4449), ('z', 4402), ('2', 3592), ('0', 3541), (':', 2784), (';', 2354), ('q', 2078), ('6', 1852), ('?', 1624), ('5', 1561), ('3', 1430), ('4', 1096), ('7', 945), ('9', 817), ('8', 761)]\n"
          ]
        }
      ],
      "execution_count": 37
    },
    {
      "cell_type": "markdown",
      "metadata": {
        "collapsed": false,
        "jupyter": {
          "outputs_hidden": false
        },
        "pycharm": {
          "name": "#%% md\n"
        },
        "id": "kYDGaMHmeq_d"
      },
      "source": [
        "We will filter the characters that occur less than 10 times in the dataset. We will also replace the space character with the `__` token. This is necessary because we want to preserve the spaces between the words in the tokenization process."
      ]
    },
    {
      "cell_type": "code",
      "metadata": {
        "jupyter": {
          "outputs_hidden": false
        },
        "pycharm": {
          "name": "#%%\n"
        },
        "ExecuteTime": {
          "end_time": "2025-04-05T23:14:42.831141Z",
          "start_time": "2025-04-05T23:14:42.828405Z"
        },
        "colab": {
          "base_uri": "https://localhost:8080/"
        },
        "id": "NcddDu5peq_d",
        "outputId": "32feb459-b88c-473e-dc09-281b815c82cb"
      },
      "source": [
        "bpe_init_vocab = sorted([char for char, _ in char_counter.most_common() if char_counter[char] >= 10])\n",
        "bpe_init_vocab[bpe_init_vocab.index(' ')] = '__'\n",
        "print(bpe_init_vocab)"
      ],
      "outputs": [
        {
          "output_type": "stream",
          "name": "stdout",
          "text": [
            "['__', '!', ',', '.', '0', '1', '2', '3', '4', '5', '6', '7', '8', '9', ':', ';', '?', 'a', 'b', 'c', 'd', 'e', 'f', 'g', 'h', 'i', 'j', 'k', 'l', 'm', 'n', 'o', 'p', 'q', 'r', 's', 't', 'u', 'v', 'w', 'x', 'y', 'z']\n"
          ]
        }
      ],
      "execution_count": 38
    },
    {
      "cell_type": "markdown",
      "metadata": {
        "collapsed": false,
        "jupyter": {
          "outputs_hidden": false
        },
        "pycharm": {
          "name": "#%% md\n"
        },
        "id": "o8CubuVeeq_d"
      },
      "source": [
        "### 3.2 Training the BPE tokenizer\n",
        "\n",
        "In this section, we will implement the BPE algorithm. We will start by initializing the BPE corpus. The corpus is a list of words from the dataset with their frequency. This makes it easier to find the most frequent pairs of neighbouring tokens (or characters in the beginning). Each word is split into characters and the space (the ```__``` token) is added at the end of each word."
      ]
    },
    {
      "cell_type": "code",
      "metadata": {
        "jupyter": {
          "outputs_hidden": false
        },
        "pycharm": {
          "name": "#%%\n"
        },
        "ExecuteTime": {
          "end_time": "2025-04-05T23:15:42.037288Z",
          "start_time": "2025-04-05T23:15:42.034711Z"
        },
        "id": "FUBecqCWeq_d"
      },
      "source": [
        "def init_bpe_corpus(dataset):\n",
        "    \"\"\"\n",
        "    Initializes the BPE corpus\n",
        "    Args:\n",
        "        dataset: a dataset\n",
        "\n",
        "    Returns: a BPE corpus\n",
        "\n",
        "    \"\"\"\n",
        "\n",
        "    corpus = Counter()\n",
        "    for example in dataset:\n",
        "        words = example['clean'].split()\n",
        "        words = [' '.join(list(word)) + ' __' for word in words]\n",
        "        corpus.update(words)\n",
        "    return corpus"
      ],
      "outputs": [],
      "execution_count": 39
    },
    {
      "cell_type": "code",
      "metadata": {
        "jupyter": {
          "outputs_hidden": false
        },
        "pycharm": {
          "name": "#%%\n"
        },
        "ExecuteTime": {
          "end_time": "2025-04-05T23:15:55.545653Z",
          "start_time": "2025-04-05T23:15:54.063227Z"
        },
        "colab": {
          "base_uri": "https://localhost:8080/"
        },
        "id": "9jTS4WvHeq_d",
        "outputId": "488a5652-b6c2-473e-f965-39595232ad2d"
      },
      "source": [
        "bpe_corpus = init_bpe_corpus(tweet_ds['train'])\n",
        "print(len(bpe_corpus))"
      ],
      "outputs": [
        {
          "output_type": "stream",
          "name": "stdout",
          "text": [
            "54830\n"
          ]
        }
      ],
      "execution_count": 40
    },
    {
      "cell_type": "markdown",
      "metadata": {
        "collapsed": false,
        "jupyter": {
          "outputs_hidden": false
        },
        "pycharm": {
          "name": "#%% md\n"
        },
        "id": "fp_FRCVAeq_d"
      },
      "source": [
        "We can check the most common words in the corpus along with their frequencies."
      ]
    },
    {
      "cell_type": "code",
      "metadata": {
        "jupyter": {
          "outputs_hidden": false
        },
        "pycharm": {
          "name": "#%%\n"
        },
        "ExecuteTime": {
          "end_time": "2025-04-05T23:16:05.106288Z",
          "start_time": "2025-04-05T23:16:05.100378Z"
        },
        "colab": {
          "base_uri": "https://localhost:8080/"
        },
        "id": "A4ZFiLxGeq_e",
        "outputId": "868801a5-e171-4224-8ff6-6dd30184a390"
      },
      "source": [
        "bpe_corpus.most_common(30)"
      ],
      "outputs": [
        {
          "output_type": "execute_result",
          "data": {
            "text/plain": [
              "[('. __', 23674),\n",
              " ('! __', 16957),\n",
              " ('t h e __', 13861),\n",
              " (', __', 12383),\n",
              " ('u s e r __', 12236),\n",
              " ('t o __', 7825),\n",
              " ('m y __', 7644),\n",
              " ('i __', 7363),\n",
              " ('a __', 6987),\n",
              " ('i n __', 6025),\n",
              " ('a n d __', 5796),\n",
              " ('y o u __', 5746),\n",
              " ('w i t h __', 5278),\n",
              " ('o f __', 5191),\n",
              " ('f o r __', 4876),\n",
              " ('t h i s __', 4621),\n",
              " ('c a l i f o r n i a __', 4427),\n",
              " ('a t __', 3706),\n",
              " ('i s __', 3603),\n",
              " ('i t __', 3599),\n",
              " ('l o v e __', 3561),\n",
              " ('o n __', 2836),\n",
              " (': __', 2784),\n",
              " ('n o t __', 2551),\n",
              " ('s o __', 2384),\n",
              " ('; __', 2354),\n",
              " ('m e __', 2285),\n",
              " ('w e __', 2169),\n",
              " ('a m p __', 2020),\n",
              " ('h a p p y __', 1946)]"
            ]
          },
          "metadata": {},
          "execution_count": 41
        }
      ],
      "execution_count": 41
    },
    {
      "cell_type": "markdown",
      "metadata": {
        "collapsed": false,
        "jupyter": {
          "outputs_hidden": false
        },
        "pycharm": {
          "name": "#%% md\n"
        },
        "id": "oGYewp_Aeq_e"
      },
      "source": [
        "Our BPE implementation will consist of the following steps:\n",
        "1. Calculate the frequency statistics of adjacent symbol pairs in the corpus.\n",
        "2. Find the most frequent pair.\n",
        "3. Merge the most frequent pair.\n",
        "4. Repeat until the specified number of merges is reached.\n",
        "\n",
        "The following function calculates the frequency statistics of adjacent symbol pairs in the corpus."
      ]
    },
    {
      "cell_type": "markdown",
      "metadata": {
        "collapsed": false,
        "jupyter": {
          "outputs_hidden": false
        },
        "pycharm": {
          "name": "#%% md\n"
        },
        "id": "yK-a8KH9eq_e"
      },
      "source": [
        "### Exercise 8: Calculate the frequency statistics of adjacent symbol pairs\n",
        "(5p) Fill in the function below to calculate the frequency statistics of adjacent symbol pairs in the corpus. The function returns a Counter object with the counts of adjacent token pairs. The pairs are represented as tuples of two tokens (e.g., `('cali', 'for')`)."
      ]
    },
    {
      "cell_type": "code",
      "metadata": {
        "jupyter": {
          "outputs_hidden": false
        },
        "pycharm": {
          "name": "#%%\n"
        },
        "ExecuteTime": {
          "end_time": "2025-04-05T23:20:09.509108Z",
          "start_time": "2025-04-05T23:20:09.504198Z"
        },
        "id": "n69Mgzy_eq_e"
      },
      "source": [
        "def calculate_bpe_corpus_stats(corpus):\n",
        "    \"\"\"\n",
        "    Calculates the frequency statistics of adjacent symbol pairs in the corpus.\n",
        "    Args:\n",
        "        corpus: a BPE corpus as a Counter object with words split by space into tokens (initially characters)\n",
        "\n",
        "    Returns: a Counter object with the frequency statistics of adjacent symbol pairs\n",
        "    \"\"\"\n",
        "    stats = Counter()\n",
        "\n",
        "    for word, freq in corpus.items():\n",
        "\n",
        "        ### YOUR CODE HERE\n",
        "        symbols = word.split()\n",
        "        for i in range(len(symbols) - 1):\n",
        "            pair = (symbols[i], symbols[i + 1])\n",
        "            stats[pair] += freq\n",
        "        ### YOUR CODE ENDS HERE\n",
        "\n",
        "    return stats"
      ],
      "outputs": [],
      "execution_count": 42
    },
    {
      "cell_type": "markdown",
      "metadata": {
        "collapsed": false,
        "jupyter": {
          "outputs_hidden": false
        },
        "pycharm": {
          "name": "#%% md\n"
        },
        "id": "xc_XtMijeq_e"
      },
      "source": [
        "We can check the most common pairs of characters in the initial corpus."
      ]
    },
    {
      "cell_type": "code",
      "metadata": {
        "jupyter": {
          "outputs_hidden": false
        },
        "pycharm": {
          "name": "#%%\n"
        },
        "ExecuteTime": {
          "end_time": "2025-04-05T23:20:13.491818Z",
          "start_time": "2025-04-05T23:20:13.396272Z"
        },
        "colab": {
          "base_uri": "https://localhost:8080/"
        },
        "id": "m-9dyt1jeq_e",
        "outputId": "89298ffa-f6fc-44af-c96d-017b95c9bb75"
      },
      "source": [
        "stats = calculate_bpe_corpus_stats(bpe_corpus)\n",
        "print(stats.most_common(10))"
      ],
      "outputs": [
        {
          "output_type": "stream",
          "name": "stdout",
          "text": [
            "[(('e', '__'), 79589), (('s', '__'), 55260), (('t', '__'), 46878), (('t', 'h'), 42899), (('e', 'r'), 41971), (('y', '__'), 41854), (('i', 'n'), 40384), (('r', '__'), 38016), (('a', 'n'), 34577), (('n', '__'), 33330)]\n"
          ]
        }
      ],
      "execution_count": 43
    },
    {
      "cell_type": "markdown",
      "metadata": {
        "collapsed": false,
        "jupyter": {
          "outputs_hidden": false
        },
        "pycharm": {
          "name": "#%% md\n"
        },
        "id": "syqWJ_R2eq_e"
      },
      "source": [
        "Next, we will implement the function that merges the most frequent pair of symbols in the corpus. The function takes the corpus and the most frequent pair of symbols as input and returns the updated corpus."
      ]
    },
    {
      "cell_type": "code",
      "metadata": {
        "jupyter": {
          "outputs_hidden": false
        },
        "pycharm": {
          "name": "#%%\n"
        },
        "ExecuteTime": {
          "end_time": "2025-04-05T23:21:02.442644Z",
          "start_time": "2025-04-05T23:21:02.439988Z"
        },
        "id": "99j3e8d3eq_e"
      },
      "source": [
        "def merge_corpus(corpus, pair):\n",
        "    \"\"\"\n",
        "    Merges the most frequent pair of symbols in the corpus.\n",
        "    Args:\n",
        "        corpus (dict): Keys are words as space-separated symbols (e.g., \"l o w\"),\n",
        "                       and values are the frequency counts.\n",
        "        pair (tuple): A pair of symbols to merge.\n",
        "\n",
        "    Returns:\n",
        "        dict: Updated corpus after merging the pair of symbols.\n",
        "    \"\"\"\n",
        "    new_corpus = Counter()\n",
        "    bigram = \" \".join(pair)\n",
        "    replacement = \"\".join(pair)\n",
        "    for word, freq in corpus.items():\n",
        "        new_word = word.replace(bigram, replacement)\n",
        "        new_corpus[new_word] = freq\n",
        "    return new_corpus"
      ],
      "outputs": [],
      "execution_count": 44
    },
    {
      "cell_type": "markdown",
      "metadata": {
        "collapsed": false,
        "jupyter": {
          "outputs_hidden": false
        },
        "pycharm": {
          "name": "#%% md\n"
        },
        "id": "RXs2WDz1eq_e"
      },
      "source": [
        "The last step is to implement the BPE algorithm. The function takes the initial vocabulary, the corpus, and the number of merges as input. It returns the updated vocabulary, corpus, and the list of merges.\n",
        "Returning the list of merges is useful for the tokenization process - it makes it faster to tokenize the text. It contains the tuples of the two tokens that were merged. For example, ('to', 'day__') will merge the tokens 'to' and 'day__' into the 'today__' token."
      ]
    },
    {
      "cell_type": "markdown",
      "metadata": {
        "collapsed": false,
        "jupyter": {
          "outputs_hidden": false
        },
        "pycharm": {
          "name": "#%% md\n"
        },
        "id": "4vXcQS5Beq_f"
      },
      "source": [
        "### Exercise 9: BPE algorithm\n",
        "\n",
        "(10p) Implement the BPE algorithm in the following function. The function should return the updated vocabulary, corpus, and the list of merges. The function should perform the specified number of merges. The vocabulary is a list of tokens, the corpus is a Counter object with the words split by space into tokens, and the merges is a list of tuples with the merged tokens.\n",
        "\n",
        "You should use the functions you implemented earlier in this section (```calculate_bpe_corpus_stats()```, ```merge_corpus()```)."
      ]
    },
    {
      "cell_type": "code",
      "metadata": {
        "jupyter": {
          "outputs_hidden": false
        },
        "pycharm": {
          "name": "#%%\n"
        },
        "ExecuteTime": {
          "end_time": "2025-04-05T23:28:43.637083Z",
          "start_time": "2025-04-05T23:28:43.634207Z"
        },
        "id": "IJ7J52hleq_f"
      },
      "source": [
        "def bpe(vocab, corpus, num_merges):\n",
        "    \"\"\"\n",
        "    Applies the BPE algorithm to the corpus. Merges the most frequent adjacent symbol pairs. The function performs the specified number of merges.\n",
        "\n",
        "    Args:\n",
        "        vocab (list): A list of tokens representing the BPE vocabulary.\n",
        "        corpus (Counter): A Counter object with words split by space into tokens.\n",
        "        num_merges (int): The number of merges to perform.\n",
        "\n",
        "    Returns:\n",
        "        list: Updated vocabulary.\n",
        "        Counter: Updated corpus.\n",
        "        list: List of merges.\n",
        "    \"\"\"\n",
        "    vocab = vocab.copy()\n",
        "    corpus = corpus.copy()\n",
        "    merges = []\n",
        "\n",
        "    for i in tqdm.tqdm(range(num_merges)):\n",
        "        ### YOUR CODE HERE\n",
        "        stats = calculate_bpe_corpus_stats(corpus)\n",
        "        if not stats:\n",
        "            break\n",
        "        most_frequent = stats.most_common(1)[0][0]\n",
        "        corpus = merge_corpus(corpus, most_frequent)\n",
        "        merges.append(most_frequent)\n",
        "        merged_token = \"\".join(most_frequent)\n",
        "        vocab.append(merged_token)\n",
        "        ### YOUR CODE ENDS HERE\n",
        "    return vocab, corpus, merges"
      ],
      "outputs": [],
      "execution_count": 45
    },
    {
      "cell_type": "markdown",
      "metadata": {
        "collapsed": false,
        "jupyter": {
          "outputs_hidden": false
        },
        "pycharm": {
          "name": "#%% md\n"
        },
        "id": "b1X_q3Vieq_f"
      },
      "source": [
        "The following cell applies the BPE algorithm to the initial vocabulary and corpus. We will perform 100 merges at first, but you will experiment with different numbers."
      ]
    },
    {
      "cell_type": "code",
      "metadata": {
        "jupyter": {
          "outputs_hidden": false
        },
        "pycharm": {
          "name": "#%%\n"
        },
        "ExecuteTime": {
          "end_time": "2025-04-05T23:28:55.739661Z",
          "start_time": "2025-04-05T23:28:45.967387Z"
        },
        "colab": {
          "base_uri": "https://localhost:8080/"
        },
        "id": "nyo6NCtfeq_f",
        "outputId": "53f4630a-3573-4373-b277-38ce2b7cb871"
      },
      "source": [
        "bpe_vocab, updated_bpe_corpus, bpe_merges = bpe(bpe_init_vocab, bpe_corpus, num_merges=100)"
      ],
      "outputs": [
        {
          "output_type": "stream",
          "name": "stderr",
          "text": [
            "100%|██████████| 100/100 [00:21<00:00,  4.58it/s]\n"
          ]
        }
      ],
      "execution_count": 46
    },
    {
      "cell_type": "markdown",
      "metadata": {
        "collapsed": false,
        "jupyter": {
          "outputs_hidden": false
        },
        "pycharm": {
          "name": "#%% md\n"
        },
        "id": "wSuuuODFeq_f"
      },
      "source": [
        "We can check the size of the BPE vocabulary and the most common tokens."
      ]
    },
    {
      "cell_type": "code",
      "metadata": {
        "jupyter": {
          "outputs_hidden": false
        },
        "pycharm": {
          "name": "#%%\n"
        },
        "ExecuteTime": {
          "end_time": "2025-04-05T23:29:15.316781Z",
          "start_time": "2025-04-05T23:29:15.314546Z"
        },
        "colab": {
          "base_uri": "https://localhost:8080/"
        },
        "id": "at9NQ9T-eq_f",
        "outputId": "fdaf30f5-f0d6-4f68-e866-dbef59da3033"
      },
      "source": [
        "print(len(bpe_vocab))\n",
        "print(bpe_vocab[:150])"
      ],
      "outputs": [
        {
          "output_type": "stream",
          "name": "stdout",
          "text": [
            "143\n",
            "['__', '!', ',', '.', '0', '1', '2', '3', '4', '5', '6', '7', '8', '9', ':', ';', '?', 'a', 'b', 'c', 'd', 'e', 'f', 'g', 'h', 'i', 'j', 'k', 'l', 'm', 'n', 'o', 'p', 'q', 'r', 's', 't', 'u', 'v', 'w', 'x', 'y', 'z', 'e__', 's__', 't__', 'th', 'er', 'y__', 'in', 'an', 'd__', 'a__', 'or', 'er__', '.__', 'o__', 'on', 'al', 'ou', 'ar', 'ing', 'en', 'us', '!__', 'st', 'ing__', 'the__', 'ch', 're', 'l__', 'lo', ',__', 'user__', 'da', 'am', 'at', 'for', 'om', 'li', 'be', 'ri', 'le', 'k__', 'on__', 'is__', 'i__', 'to__', 'ni', 'la', 'ho', 'in__', 'f__', 'you', 'my__', 'wi', 've__', 'day__', 'p__', 'ha', 'oo', 'se', 'th__', 'w__', 'ti', 'ne', 'di', 'and__', 'gh', 'as__', 'you__', 'un', 'ir', 'an__', 'ac', 'ge', 've', 'with__', 'no', 'of__', 'it__', 'ro', 'we', 'cali', 'for__', 'to', 'es__', 'califor', 'californi', 'pp', 'this__', 'm__', 'il', 'california__', 'ic', 'sh', 'me__', 'it', 'de', 'the', 'r__', 'ra', 'ma']\n"
          ]
        }
      ],
      "execution_count": 47
    },
    {
      "cell_type": "markdown",
      "metadata": {
        "collapsed": false,
        "jupyter": {
          "outputs_hidden": false
        },
        "pycharm": {
          "name": "#%% md\n"
        },
        "id": "h03dlzXJeq_f"
      },
      "source": [
        "We can also check the most common merges."
      ]
    },
    {
      "cell_type": "code",
      "metadata": {
        "jupyter": {
          "outputs_hidden": false
        },
        "pycharm": {
          "name": "#%%\n"
        },
        "ExecuteTime": {
          "end_time": "2025-04-05T23:29:17.623873Z",
          "start_time": "2025-04-05T23:29:17.621944Z"
        },
        "colab": {
          "base_uri": "https://localhost:8080/"
        },
        "id": "SAXWAN4Ceq_f",
        "outputId": "bf9bbcb1-63dd-4811-80cd-225f66e8652e"
      },
      "source": [
        "print(bpe_merges[:150])"
      ],
      "outputs": [
        {
          "output_type": "stream",
          "name": "stdout",
          "text": [
            "[('e', '__'), ('s', '__'), ('t', '__'), ('t', 'h'), ('e', 'r'), ('y', '__'), ('i', 'n'), ('a', 'n'), ('d', '__'), ('a', '__'), ('o', 'r'), ('er', '__'), ('.', '__'), ('o', '__'), ('o', 'n'), ('a', 'l'), ('o', 'u'), ('a', 'r'), ('in', 'g'), ('e', 'n'), ('u', 's'), ('!', '__'), ('s', 't'), ('ing', '__'), ('th', 'e__'), ('c', 'h'), ('r', 'e'), ('l', '__'), ('l', 'o'), (',', '__'), ('us', 'er__'), ('d', 'a'), ('a', 'm'), ('a', 't'), ('f', 'or'), ('o', 'm'), ('l', 'i'), ('b', 'e'), ('r', 'i'), ('l', 'e'), ('k', '__'), ('on', '__'), ('i', 's__'), ('i', '__'), ('t', 'o__'), ('n', 'i'), ('l', 'a'), ('h', 'o'), ('in', '__'), ('f', '__'), ('y', 'ou'), ('m', 'y__'), ('w', 'i'), ('v', 'e__'), ('da', 'y__'), ('p', '__'), ('h', 'a'), ('o', 'o'), ('s', 'e'), ('th', '__'), ('w', '__'), ('t', 'i'), ('n', 'e'), ('d', 'i'), ('an', 'd__'), ('g', 'h'), ('a', 's__'), ('you', '__'), ('u', 'n'), ('i', 'r'), ('an', '__'), ('a', 'c'), ('g', 'e'), ('v', 'e'), ('wi', 'th__'), ('n', 'o'), ('o', 'f__'), ('i', 't__'), ('r', 'o'), ('w', 'e'), ('c', 'ali'), ('for', '__'), ('t', 'o'), ('e', 's__'), ('cali', 'for'), ('califor', 'ni'), ('p', 'p'), ('th', 'is__'), ('m', '__'), ('i', 'l'), ('californi', 'a__'), ('i', 'c'), ('s', 'h'), ('m', 'e__'), ('i', 't'), ('d', 'e'), ('th', 'e'), ('r', '__'), ('r', 'a'), ('m', 'a')]\n"
          ]
        }
      ],
      "execution_count": 48
    },
    {
      "cell_type": "markdown",
      "metadata": {
        "collapsed": false,
        "jupyter": {
          "outputs_hidden": false
        },
        "pycharm": {
          "name": "#%% md\n"
        },
        "id": "bNcrwiTDeq_f"
      },
      "source": [
        "### 3.3 Tokenizing the text using BPE\n",
        "\n",
        "With the tokenizer trained we can now tokenize the text using the BPE vocabulary. We will first build a function that tokenizes any text using our BPE tokenizer (vocabulary and merges). Next we will apply it to our dataset.\n",
        "\n",
        "The following function tokenizes the text using the BPE vocabulary. It replaces the most frequent pairs of tokens with the new token. The function also replaces the tokens that are not in the vocabulary with the `<unk>` token."
      ]
    },
    {
      "cell_type": "code",
      "metadata": {
        "jupyter": {
          "outputs_hidden": false
        },
        "pycharm": {
          "name": "#%%\n"
        },
        "ExecuteTime": {
          "end_time": "2025-04-05T23:37:16.579654Z",
          "start_time": "2025-04-05T23:37:16.574168Z"
        },
        "colab": {
          "base_uri": "https://localhost:8080/"
        },
        "id": "-QvVOIZheq_f",
        "outputId": "ab131c8b-a77c-464d-c12d-0121d9de7377"
      },
      "source": [
        "def apply_bpe_tokenization(text, vocab, merges, unk_token='<unk>'):\n",
        "    \"\"\"\n",
        "    Tokenizes the text using BPE vocabulary, preserving spaces as '__'.\n",
        "\n",
        "    Args:\n",
        "        text (str): The input text to be tokenized.\n",
        "        vocab (set): A set containing the BPE vocabulary tokens.\n",
        "\n",
        "    Returns:\n",
        "        list: A list of tokens representing the input text.\n",
        "    \"\"\"\n",
        "\n",
        "    words = re.split(r'\\s', text)\n",
        "    words = [' ' + ' '.join(list(word)) + (' __ ' if i < len(words) - 1 else ' ') for i, word in enumerate(words)]\n",
        "\n",
        "    bpe_tokens = []\n",
        "\n",
        "    for i, word in enumerate(words):\n",
        "        for merge in merges:\n",
        "            word = word.replace(' ' + ' '.join(merge) + ' ', ' ' + ''.join(merge) + ' ')\n",
        "        bpe_tokens.extend(word.split())\n",
        "\n",
        "    for i, token in enumerate(bpe_tokens):\n",
        "        if token not in vocab:\n",
        "            bpe_tokens[i] = unk_token\n",
        "    return bpe_tokens\n",
        "\n",
        "\n",
        "# A test example with a special character. Is the character tokenized correctly as <unk> token?\n",
        "print(apply_bpe_tokenization(tweet_ds['train'][0]['clean'] + ' 🇺', bpe_vocab, bpe_merges))"
      ],
      "outputs": [
        {
          "output_type": "stream",
          "name": "stdout",
          "text": [
            "['s', 'un', 'day__', 'a', 'f', 't', 'er', 'no', 'on__', 'w', 'al', 'k', 'ing__', 'th', 'r', 'ou', 'gh', '__', 'v', 'en', 'ic', 'e__', 'in__', 'the__', 's', 'un', '__', 'with__', 'user__', '__', '__', '__', '__', 'a', 'b', 'b', 'o', 't__', 'k', 'in', 'ne', 'y__', ',__', '__', 'v', 'en', 'ic', 'e__', '<unk>']\n"
          ]
        }
      ],
      "execution_count": 49
    },
    {
      "cell_type": "markdown",
      "metadata": {
        "collapsed": false,
        "jupyter": {
          "outputs_hidden": false
        },
        "pycharm": {
          "name": "#%% md\n"
        },
        "id": "FEqV9VfHeq_g"
      },
      "source": [
        "The function below will apply our BPE tokenizer to the dataset. It will add a new column `bpe_tokens` to each example."
      ]
    },
    {
      "cell_type": "code",
      "metadata": {
        "jupyter": {
          "outputs_hidden": false
        },
        "pycharm": {
          "name": "#%%\n"
        },
        "ExecuteTime": {
          "end_time": "2025-04-05T23:38:59.216314Z",
          "start_time": "2025-04-05T23:38:21.687178Z"
        },
        "colab": {
          "base_uri": "https://localhost:8080/",
          "height": 356,
          "referenced_widgets": [
            "e18fa3eca76d46e18cb94845ddbd3328",
            "77c612f246e04e479e1866b3145e8713",
            "3727750a90654a289cb2e9a802cf778f",
            "b9d2c6ea7cdd4ead941b93eff2fede2b",
            "2f134e543f6648c8af1e440da4a07916",
            "35fe1fb81196403ca4f8ecae9b7a7631",
            "9a8b094f61ca4a20862c850a947b8ee7",
            "bea721bcd9e745ccb35af8359d274b5f",
            "d9dcad963f7948d4ba81a0c83f64dc84",
            "2a29f2226625434d83fefac6d00fcee7",
            "d857871ed1b3415d87077d528a8b6299",
            "388ba7bbab4e488586da8b0bf793f431",
            "27c55f06f45f4636904e09fc28fda718",
            "598c4aaf064d4f819365cb0b4fea2d31",
            "7fda835e9f244cd5aaac46ac9ee58229",
            "a66bfaec18a14c60b42a491813db86af",
            "e27bc738fd214364bd11f1fe3c787fda",
            "419deb9404314f5d91d84f5f9f766e5b",
            "628dd58f27174183839bc21302b463bb",
            "b7606457b5b9455094a95a399332b058",
            "bc455c96ea104991bb59dffbcb4b5a1c",
            "2a787ca7a05e4cfcb47052adb7230da4",
            "6997eb05b6144288a4768a851efb4c13",
            "dee93730d6384c70961b2202476bd979",
            "90f7ac899567465989476e4300f33be1",
            "87a7fc36530649fa920628922c28ba45",
            "96a22230a2124071a3258736eb209e38",
            "4e6818654818403e8b724da164538411",
            "b66c0f039b814257ba0861edc0d11c28",
            "cce93772bdc04fc3805ff6af4730b6a2",
            "845bd801d09342ba87966eeb9cd0fa39",
            "85a8e2025c8c4b63be225a59ce5f29fa",
            "b4e021265bdf46f48ae5326f6b8eb079"
          ]
        },
        "id": "KwQDaQBJeq_g",
        "outputId": "43178010-a1c1-486f-8e81-a628d420ea13"
      },
      "source": [
        "def tokenize_bpe(example, vocab, merges, unk_token='<unk>'):\n",
        "    \"\"\"\n",
        "    Tokenizes the example from the Dataset using BPE\n",
        "    Args:\n",
        "        example: an example from the Dataset\n",
        "        vocab: a BPE vocabulary\n",
        "\n",
        "    Returns: update example containing 'bpe_tokens' column\n",
        "\n",
        "    \"\"\"\n",
        "    text = example['clean']\n",
        "    bpe_tokens = apply_bpe_tokenization(text, vocab, merges, unk_token)\n",
        "    example['bpe_tokens'] = bpe_tokens\n",
        "    return example\n",
        "\n",
        "\n",
        "tweet_ds = tweet_ds.map(tokenize_bpe, fn_kwargs={'vocab': bpe_vocab, 'merges': bpe_merges})\n",
        "print(tweet_ds)"
      ],
      "outputs": [
        {
          "output_type": "display_data",
          "data": {
            "text/plain": [
              "Map:   0%|          | 0/45000 [00:00<?, ? examples/s]"
            ],
            "application/vnd.jupyter.widget-view+json": {
              "version_major": 2,
              "version_minor": 0,
              "model_id": "e18fa3eca76d46e18cb94845ddbd3328"
            }
          },
          "metadata": {}
        },
        {
          "output_type": "display_data",
          "data": {
            "text/plain": [
              "Map:   0%|          | 0/50000 [00:00<?, ? examples/s]"
            ],
            "application/vnd.jupyter.widget-view+json": {
              "version_major": 2,
              "version_minor": 0,
              "model_id": "388ba7bbab4e488586da8b0bf793f431"
            }
          },
          "metadata": {}
        },
        {
          "output_type": "display_data",
          "data": {
            "text/plain": [
              "Map:   0%|          | 0/5000 [00:00<?, ? examples/s]"
            ],
            "application/vnd.jupyter.widget-view+json": {
              "version_major": 2,
              "version_minor": 0,
              "model_id": "6997eb05b6144288a4768a851efb4c13"
            }
          },
          "metadata": {}
        },
        {
          "output_type": "stream",
          "name": "stdout",
          "text": [
            "DatasetDict({\n",
            "    train: Dataset({\n",
            "        features: ['text', 'label', 'text_length', 'clean', 'tokens', 'bpe_tokens'],\n",
            "        num_rows: 45000\n",
            "    })\n",
            "    test: Dataset({\n",
            "        features: ['text', 'label', 'text_length', 'clean', 'tokens', 'bpe_tokens'],\n",
            "        num_rows: 50000\n",
            "    })\n",
            "    validation: Dataset({\n",
            "        features: ['text', 'label', 'text_length', 'clean', 'tokens', 'bpe_tokens'],\n",
            "        num_rows: 5000\n",
            "    })\n",
            "})\n"
          ]
        }
      ],
      "execution_count": 50
    },
    {
      "cell_type": "markdown",
      "metadata": {
        "collapsed": false,
        "jupyter": {
          "outputs_hidden": false
        },
        "pycharm": {
          "name": "#%% md\n"
        },
        "id": "sF80IdV3eq_g"
      },
      "source": [
        "We will inspect the both tokenizations of several examples from the ```validation``` subset. Try to find the ```<unk>``` tokens in the printed examples."
      ]
    },
    {
      "cell_type": "code",
      "metadata": {
        "jupyter": {
          "outputs_hidden": false
        },
        "pycharm": {
          "name": "#%%\n"
        },
        "ExecuteTime": {
          "end_time": "2025-04-05T23:39:14.371685Z",
          "start_time": "2025-04-05T23:39:14.366182Z"
        },
        "colab": {
          "base_uri": "https://localhost:8080/"
        },
        "id": "u4n23ULbeq_g",
        "outputId": "2d0186c4-8d7f-478b-9a70-ecfd347e6302"
      },
      "source": [
        "for i in range(10):\n",
        "    print('Original tweet:')\n",
        "    print(tweet_ds['validation'][i]['text'])\n",
        "    print('Word tokenization:')\n",
        "    print(tweet_ds['validation'][i]['tokens'])\n",
        "    print('BPE tokenization:')\n",
        "    print(tweet_ds['validation'][i]['bpe_tokens'])\n",
        "    print()"
      ],
      "outputs": [
        {
          "output_type": "stream",
          "name": "stdout",
          "text": [
            "Original tweet:\n",
            "A little throwback with my favourite person @ Water Wall\n",
            "Word tokenization:\n",
            "['a', 'little', 'throwback', 'with', 'my', 'favourite', 'person', 'water', 'wall']\n",
            "BPE tokenization:\n",
            "['a__', 'li', 't', 't', 'l', 'e__', 'th', 'ro', 'w', 'b', 'ac', 'k__', 'with__', 'my__', 'f', 'a', 'v', 'ou', 'ri', 't', 'e__', 'p', 'er', 's', 'on__', '__', 'w', 'at', 'er__', 'w', 'al', 'l']\n",
            "\n",
            "Original tweet:\n",
            "glam on @user yesterday for #kcon makeup using @user in #featherette,…\n",
            "Word tokenization:\n",
            "['glam', 'on', 'user', 'yesterday', 'for', 'kcon', 'makeup', 'using', 'user', 'in', '<unk>', ',']\n",
            "BPE tokenization:\n",
            "['g', 'l', 'am', '__', 'on__', 'user__', 'y', 'e', 'st', 'er', 'day__', 'for__', 'k', 'c', 'on__', 'ma', 'k', 'e', 'u', 'p__', 'us', 'ing__', 'user__', 'in__', 'f', 'e', 'a', 'th', 'er', 'e', 't', 't', 'e__', ',']\n",
            "\n",
            "Original tweet:\n",
            "Democracy Plaza in the wake of a stunning outcome #Decision2016 @ NBC News\n",
            "Word tokenization:\n",
            "['<unk>', 'plaza', 'in', 'the', 'wake', 'of', 'a', 'stunning', '<unk>', '<unk>', '<unk>', 'news']\n",
            "BPE tokenization:\n",
            "['de', 'm', 'o', 'c', 'r', 'ac', 'y__', 'p', 'la', 'z', 'a__', 'in__', 'the__', 'w', 'a', 'k', 'e__', 'of__', 'a__', 'st', 'un', 'n', 'ing__', 'ou', 't', 'c', 'om', 'e__', 'de', 'c', 'i', 's', 'i', 'on', '2', '0', '1', '6', '__', '__', 'n', 'b', 'c', '__', 'ne', 'w', 's']\n",
            "\n",
            "Original tweet:\n",
            "Then &amp; Now. VILO @ Walt Disney Magic Kingdom\n",
            "Word tokenization:\n",
            "['then', 'amp', ';', 'now', '.', '<unk>', 'walt', 'disney', 'magic', 'kingdom']\n",
            "BPE tokenization:\n",
            "['th', 'en', '__', 'am', 'p__', ';', '__', '__', 'no', 'w__', '.__', '__', 'v', 'il', 'o__', '__', 'w', 'al', 't__', 'di', 's', 'ne', 'y__', 'ma', 'g', 'ic', '__', 'k', 'ing', 'd', 'om']\n",
            "\n",
            "Original tweet:\n",
            "Who never... @ A Galaxy Far Far Away\n",
            "Word tokenization:\n",
            "['who', 'never', '.', '.', '.', 'a', 'galaxy', 'far', 'far', 'away']\n",
            "BPE tokenization:\n",
            "['w', 'h', 'o__', 'ne', 'v', 'er__', '.__', '__', '.__', '__', '.__', '__', '__', 'a__', 'g', 'al', 'a', 'x', 'y__', 'f', 'ar', '__', 'f', 'ar', '__', 'a', 'w', 'a', 'y']\n",
            "\n",
            "Original tweet:\n",
            "Dinner in FLA tonight // Pan-seared salmon over couscous veggie salad #yum #dinner #florida #salmon…\n",
            "Word tokenization:\n",
            "['dinner', 'in', '<unk>', 'tonight', '<unk>', 'salmon', 'over', '<unk>', 'veggie', 'salad', 'yum', 'dinner', '<unk>', 'salmon']\n",
            "BPE tokenization:\n",
            "['d', 'in', 'n', 'er__', 'in__', 'f', 'l', 'a__', 't', 'on', 'i', 'gh', 't__', '__', 'p', 'an', 'se', 'ar', 'e', 'd__', 's', 'al', 'm', 'on__', 'o', 'v', 'er__', 'c', 'ou', 's', 'c', 'ou', 's__', 've', 'g', 'g', 'i', 'e__', 's', 'al', 'a', 'd__', 'y', 'u', 'm__', 'd', 'in', 'n', 'er__', 'f', 'l', 'or', 'i', 'd', 'a__', 's', 'al', 'm', 'on']\n",
            "\n",
            "Original tweet:\n",
            "It's my fav seniors last game congrats on beating west @ West Salem…\n",
            "Word tokenization:\n",
            "['it', 'my', 'fav', 'seniors', 'last', 'game', 'congrats', 'on', 'beating', 'west', 'west', 'salem']\n",
            "BPE tokenization:\n",
            "['it__', '__', 'my__', 'f', 'a', 'v', '__', 's', 'en', 'i', 'or', 's__', 'la', 's', 't__', 'g', 'am', 'e__', 'c', 'on', 'g', 'r', 'at', 's__', 'on__', 'be', 'at', 'ing__', 'we', 's', 't__', '__', 'we', 's', 't__', 's', 'al', 'e', 'm']\n",
            "\n",
            "Original tweet:\n",
            "I got to to go formal with my best friend @ Phi Mu at JSU\n",
            "Word tokenization:\n",
            "['i', 'got', 'to', 'to', 'go', 'formal', 'with', 'my', 'best', 'friend', 'phi', 'mu', 'at', '<unk>']\n",
            "BPE tokenization:\n",
            "['i__', 'g', 'o', 't__', 'to__', 'to__', 'g', 'o__', 'for', 'm', 'al', '__', 'with__', 'my__', 'be', 's', 't__', 'f', 'ri', 'en', 'd__', '__', 'p', 'h', 'i__', 'm', 'u', '__', 'a', 't__', 'j', 's', 'u']\n",
            "\n",
            "Original tweet:\n",
            "'Cause I Miss My Little Homies .#Throwback #CousinLove @ Indiana University\n",
            "Word tokenization:\n",
            "['cause', 'i', 'miss', 'my', 'little', 'homies', '.', 'throwback', 'cousinlove', '<unk>', 'university']\n",
            "BPE tokenization:\n",
            "['c', 'a', 'us', 'e__', 'i__', 'm', 'i', 's', 's__', 'my__', 'li', 't', 't', 'l', 'e__', 'h', 'om', 'i', 'es__', '__', '.__', 'th', 'ro', 'w', 'b', 'ac', 'k__', 'c', 'ou', 's', 'in', 'lo', 've__', '__', 'in', 'di', 'an', 'a__', 'u', 'ni', 'v', 'er', 's', 'it', 'y']\n",
            "\n",
            "Original tweet:\n",
            "Birthday Kisses @ Madison, Wisconsin\n",
            "Word tokenization:\n",
            "['birthday', 'kisses', 'madison', ',', '<unk>']\n",
            "BPE tokenization:\n",
            "['b', 'ir', 'th', 'day__', 'k', 'i', 's', 'se', 's__', '__', 'ma', 'di', 's', 'on__', ',__', '__', 'wi', 's', 'c', 'on', 's', 'in']\n",
            "\n"
          ]
        }
      ],
      "execution_count": 51
    },
    {
      "cell_type": "markdown",
      "metadata": {
        "collapsed": false,
        "jupyter": {
          "outputs_hidden": false
        },
        "pycharm": {
          "name": "#%% md\n"
        },
        "id": "aDXoUdBYeq_g"
      },
      "source": [
        "### Exercise 10: Comparing tokenizers\n",
        "\n",
        "Train the BPE tokenizer with different number of merges. Compare the tokenization results with the word tokenization.\n",
        "1. (5p) What are the differences?\n",
        "2. (5p) Compare the number of tokens created by your tokenizers.\n",
        "3. (5p) Calculate the number of `<unk>` tokens in the validation dataset for each tokenizer.\n",
        "4. (5p) Compare the average length in tokens between different tokenizers.\n",
        "5. (5p) What are the advantages and disadvantages of the BPE tokenizer?"
      ]
    },
    {
      "cell_type": "markdown",
      "metadata": {
        "collapsed": false,
        "jupyter": {
          "outputs_hidden": false
        },
        "pycharm": {
          "name": "#%% md\n"
        },
        "id": "fgpqwFGQeq_g"
      },
      "source": [
        "For answering these questions make sure to include a proper mix of numbers/plots/tables etc. and comments."
      ]
    },
    {
      "cell_type": "markdown",
      "metadata": {
        "collapsed": false,
        "jupyter": {
          "outputs_hidden": false
        },
        "pycharm": {
          "name": "#%% md\n"
        },
        "id": "5-dGccIMeq_g"
      },
      "source": []
    },
    {
      "cell_type": "code",
      "source": [
        "\n",
        "def count_tokens(dataset, column_name):\n",
        "    return sum(len(example[column_name]) for example in dataset)\n",
        "\n",
        "def count_unk_tokens(dataset, column_name, unk_token='<unk>'):\n",
        "    return sum(token == unk_token for example in dataset for token in example[column_name])\n",
        "\n",
        "def avg_token_len(dataset, column_name):\n",
        "    return np.mean([len(example[column_name]) for example in dataset])\n",
        "\n",
        "\n",
        "num_merges_list = [50, 100, 200, 500]\n",
        "results = []\n",
        "\n",
        "for num_merges in num_merges_list:\n",
        "    bpe_vocab, updated_bpe_corpus, bpe_merges = bpe(bpe_init_vocab, bpe_corpus, num_merges=num_merges)\n",
        "\n",
        "    tweet_ds = tweet_ds.map(tokenize_bpe, fn_kwargs={'vocab': bpe_vocab, 'merges': bpe_merges})\n",
        "\n",
        "    word_token_count = count_tokens(tweet_ds['validation'], 'tokens')\n",
        "    bpe_token_count = count_tokens(tweet_ds['validation'], 'bpe_tokens')\n",
        "\n",
        "    word_unk_count = count_unk_tokens(tweet_ds['validation'], 'tokens')\n",
        "    bpe_unk_count = count_unk_tokens(tweet_ds['validation'], 'bpe_tokens')\n",
        "\n",
        "    word_avg_len = avg_token_len(tweet_ds['validation'], 'tokens')\n",
        "    bpe_avg_len = avg_token_len(tweet_ds['validation'], 'bpe_tokens')\n",
        "\n",
        "    results.append({\n",
        "        'num_merges': num_merges,\n",
        "        'word_token_count': word_token_count,\n",
        "        'bpe_token_count': bpe_token_count,\n",
        "        'word_unk_count': word_unk_count,\n",
        "        'bpe_unk_count': bpe_unk_count,\n",
        "        'word_avg_len': word_avg_len,\n",
        "        'bpe_avg_len': bpe_avg_len,\n",
        "    })\n",
        "\n",
        "results_df = pd.DataFrame(results)\n",
        "results_df\n",
        "\n",
        "# 1. Differences:\n",
        "# BPE creates subword units, handling out-of-vocabulary words better. Word tokenization treats unknown words as <unk>.\n",
        "\n",
        "# 2. Number of tokens:\n",
        "# BPE generally creates more tokens than word tokenization, especially with higher merge counts.\n",
        "\n",
        "# 3. Number of <unk> tokens:\n",
        "# BPE reduces <unk> tokens compared to word tokenization because it can represent parts of unknown words.\n",
        "\n",
        "# 4. Average token length:\n",
        "# BPE tokens tend to be shorter on average than word tokens.\n",
        "\n",
        "# 5. Advantages and disadvantages of BPE:\n",
        "# Advantages: Handles out-of-vocabulary words better, captures morphological variations.\n",
        "# Disadvantages: Increased vocabulary size, potential for ambiguity.\n"
      ],
      "metadata": {
        "id": "9mGE05iig-sx"
      },
      "execution_count": null,
      "outputs": []
    }
  ],
  "metadata": {
    "kernelspec": {
      "display_name": "Python 3 (ipykernel)",
      "language": "python",
      "name": "python3"
    },
    "language_info": {
      "codemirror_mode": {
        "name": "ipython",
        "version": 3
      },
      "file_extension": ".py",
      "mimetype": "text/x-python",
      "name": "python",
      "nbconvert_exporter": "python",
      "pygments_lexer": "ipython3",
      "version": "3.12.2"
    },
    "colab": {
      "provenance": []
    },
    "widgets": {
      "application/vnd.jupyter.widget-state+json": {
        "3ae1765734c24be38b757a649568b832": {
          "model_module": "@jupyter-widgets/controls",
          "model_name": "HBoxModel",
          "model_module_version": "1.5.0",
          "state": {
            "_dom_classes": [],
            "_model_module": "@jupyter-widgets/controls",
            "_model_module_version": "1.5.0",
            "_model_name": "HBoxModel",
            "_view_count": null,
            "_view_module": "@jupyter-widgets/controls",
            "_view_module_version": "1.5.0",
            "_view_name": "HBoxView",
            "box_style": "",
            "children": [
              "IPY_MODEL_f1fa4e00fa7a4b73bf12219d1602bc83",
              "IPY_MODEL_4bd8dd729f714541823df8718d292977",
              "IPY_MODEL_cab75918002445c98aa6949c7dfa1551"
            ],
            "layout": "IPY_MODEL_de9b00638ae64d39beea5d29887b448a"
          }
        },
        "f1fa4e00fa7a4b73bf12219d1602bc83": {
          "model_module": "@jupyter-widgets/controls",
          "model_name": "HTMLModel",
          "model_module_version": "1.5.0",
          "state": {
            "_dom_classes": [],
            "_model_module": "@jupyter-widgets/controls",
            "_model_module_version": "1.5.0",
            "_model_name": "HTMLModel",
            "_view_count": null,
            "_view_module": "@jupyter-widgets/controls",
            "_view_module_version": "1.5.0",
            "_view_name": "HTMLView",
            "description": "",
            "description_tooltip": null,
            "layout": "IPY_MODEL_a912511a87864991b68fe4d4d9a74b92",
            "placeholder": "​",
            "style": "IPY_MODEL_1e72ba0414aa40db96973296cacc4aad",
            "value": "README.md: 100%"
          }
        },
        "4bd8dd729f714541823df8718d292977": {
          "model_module": "@jupyter-widgets/controls",
          "model_name": "FloatProgressModel",
          "model_module_version": "1.5.0",
          "state": {
            "_dom_classes": [],
            "_model_module": "@jupyter-widgets/controls",
            "_model_module_version": "1.5.0",
            "_model_name": "FloatProgressModel",
            "_view_count": null,
            "_view_module": "@jupyter-widgets/controls",
            "_view_module_version": "1.5.0",
            "_view_name": "ProgressView",
            "bar_style": "success",
            "description": "",
            "description_tooltip": null,
            "layout": "IPY_MODEL_8ae9208219c14b5bb31c4b69e1adb9f7",
            "max": 23943,
            "min": 0,
            "orientation": "horizontal",
            "style": "IPY_MODEL_495f33f69408428eacf4a4b6e1f53bf5",
            "value": 23943
          }
        },
        "cab75918002445c98aa6949c7dfa1551": {
          "model_module": "@jupyter-widgets/controls",
          "model_name": "HTMLModel",
          "model_module_version": "1.5.0",
          "state": {
            "_dom_classes": [],
            "_model_module": "@jupyter-widgets/controls",
            "_model_module_version": "1.5.0",
            "_model_name": "HTMLModel",
            "_view_count": null,
            "_view_module": "@jupyter-widgets/controls",
            "_view_module_version": "1.5.0",
            "_view_name": "HTMLView",
            "description": "",
            "description_tooltip": null,
            "layout": "IPY_MODEL_83a3fdb1457c48da84257eb90e65f168",
            "placeholder": "​",
            "style": "IPY_MODEL_8fdbf8f09a7047f2870348c9383eb1c9",
            "value": " 23.9k/23.9k [00:00&lt;00:00, 1.10MB/s]"
          }
        },
        "de9b00638ae64d39beea5d29887b448a": {
          "model_module": "@jupyter-widgets/base",
          "model_name": "LayoutModel",
          "model_module_version": "1.2.0",
          "state": {
            "_model_module": "@jupyter-widgets/base",
            "_model_module_version": "1.2.0",
            "_model_name": "LayoutModel",
            "_view_count": null,
            "_view_module": "@jupyter-widgets/base",
            "_view_module_version": "1.2.0",
            "_view_name": "LayoutView",
            "align_content": null,
            "align_items": null,
            "align_self": null,
            "border": null,
            "bottom": null,
            "display": null,
            "flex": null,
            "flex_flow": null,
            "grid_area": null,
            "grid_auto_columns": null,
            "grid_auto_flow": null,
            "grid_auto_rows": null,
            "grid_column": null,
            "grid_gap": null,
            "grid_row": null,
            "grid_template_areas": null,
            "grid_template_columns": null,
            "grid_template_rows": null,
            "height": null,
            "justify_content": null,
            "justify_items": null,
            "left": null,
            "margin": null,
            "max_height": null,
            "max_width": null,
            "min_height": null,
            "min_width": null,
            "object_fit": null,
            "object_position": null,
            "order": null,
            "overflow": null,
            "overflow_x": null,
            "overflow_y": null,
            "padding": null,
            "right": null,
            "top": null,
            "visibility": null,
            "width": null
          }
        },
        "a912511a87864991b68fe4d4d9a74b92": {
          "model_module": "@jupyter-widgets/base",
          "model_name": "LayoutModel",
          "model_module_version": "1.2.0",
          "state": {
            "_model_module": "@jupyter-widgets/base",
            "_model_module_version": "1.2.0",
            "_model_name": "LayoutModel",
            "_view_count": null,
            "_view_module": "@jupyter-widgets/base",
            "_view_module_version": "1.2.0",
            "_view_name": "LayoutView",
            "align_content": null,
            "align_items": null,
            "align_self": null,
            "border": null,
            "bottom": null,
            "display": null,
            "flex": null,
            "flex_flow": null,
            "grid_area": null,
            "grid_auto_columns": null,
            "grid_auto_flow": null,
            "grid_auto_rows": null,
            "grid_column": null,
            "grid_gap": null,
            "grid_row": null,
            "grid_template_areas": null,
            "grid_template_columns": null,
            "grid_template_rows": null,
            "height": null,
            "justify_content": null,
            "justify_items": null,
            "left": null,
            "margin": null,
            "max_height": null,
            "max_width": null,
            "min_height": null,
            "min_width": null,
            "object_fit": null,
            "object_position": null,
            "order": null,
            "overflow": null,
            "overflow_x": null,
            "overflow_y": null,
            "padding": null,
            "right": null,
            "top": null,
            "visibility": null,
            "width": null
          }
        },
        "1e72ba0414aa40db96973296cacc4aad": {
          "model_module": "@jupyter-widgets/controls",
          "model_name": "DescriptionStyleModel",
          "model_module_version": "1.5.0",
          "state": {
            "_model_module": "@jupyter-widgets/controls",
            "_model_module_version": "1.5.0",
            "_model_name": "DescriptionStyleModel",
            "_view_count": null,
            "_view_module": "@jupyter-widgets/base",
            "_view_module_version": "1.2.0",
            "_view_name": "StyleView",
            "description_width": ""
          }
        },
        "8ae9208219c14b5bb31c4b69e1adb9f7": {
          "model_module": "@jupyter-widgets/base",
          "model_name": "LayoutModel",
          "model_module_version": "1.2.0",
          "state": {
            "_model_module": "@jupyter-widgets/base",
            "_model_module_version": "1.2.0",
            "_model_name": "LayoutModel",
            "_view_count": null,
            "_view_module": "@jupyter-widgets/base",
            "_view_module_version": "1.2.0",
            "_view_name": "LayoutView",
            "align_content": null,
            "align_items": null,
            "align_self": null,
            "border": null,
            "bottom": null,
            "display": null,
            "flex": null,
            "flex_flow": null,
            "grid_area": null,
            "grid_auto_columns": null,
            "grid_auto_flow": null,
            "grid_auto_rows": null,
            "grid_column": null,
            "grid_gap": null,
            "grid_row": null,
            "grid_template_areas": null,
            "grid_template_columns": null,
            "grid_template_rows": null,
            "height": null,
            "justify_content": null,
            "justify_items": null,
            "left": null,
            "margin": null,
            "max_height": null,
            "max_width": null,
            "min_height": null,
            "min_width": null,
            "object_fit": null,
            "object_position": null,
            "order": null,
            "overflow": null,
            "overflow_x": null,
            "overflow_y": null,
            "padding": null,
            "right": null,
            "top": null,
            "visibility": null,
            "width": null
          }
        },
        "495f33f69408428eacf4a4b6e1f53bf5": {
          "model_module": "@jupyter-widgets/controls",
          "model_name": "ProgressStyleModel",
          "model_module_version": "1.5.0",
          "state": {
            "_model_module": "@jupyter-widgets/controls",
            "_model_module_version": "1.5.0",
            "_model_name": "ProgressStyleModel",
            "_view_count": null,
            "_view_module": "@jupyter-widgets/base",
            "_view_module_version": "1.2.0",
            "_view_name": "StyleView",
            "bar_color": null,
            "description_width": ""
          }
        },
        "83a3fdb1457c48da84257eb90e65f168": {
          "model_module": "@jupyter-widgets/base",
          "model_name": "LayoutModel",
          "model_module_version": "1.2.0",
          "state": {
            "_model_module": "@jupyter-widgets/base",
            "_model_module_version": "1.2.0",
            "_model_name": "LayoutModel",
            "_view_count": null,
            "_view_module": "@jupyter-widgets/base",
            "_view_module_version": "1.2.0",
            "_view_name": "LayoutView",
            "align_content": null,
            "align_items": null,
            "align_self": null,
            "border": null,
            "bottom": null,
            "display": null,
            "flex": null,
            "flex_flow": null,
            "grid_area": null,
            "grid_auto_columns": null,
            "grid_auto_flow": null,
            "grid_auto_rows": null,
            "grid_column": null,
            "grid_gap": null,
            "grid_row": null,
            "grid_template_areas": null,
            "grid_template_columns": null,
            "grid_template_rows": null,
            "height": null,
            "justify_content": null,
            "justify_items": null,
            "left": null,
            "margin": null,
            "max_height": null,
            "max_width": null,
            "min_height": null,
            "min_width": null,
            "object_fit": null,
            "object_position": null,
            "order": null,
            "overflow": null,
            "overflow_x": null,
            "overflow_y": null,
            "padding": null,
            "right": null,
            "top": null,
            "visibility": null,
            "width": null
          }
        },
        "8fdbf8f09a7047f2870348c9383eb1c9": {
          "model_module": "@jupyter-widgets/controls",
          "model_name": "DescriptionStyleModel",
          "model_module_version": "1.5.0",
          "state": {
            "_model_module": "@jupyter-widgets/controls",
            "_model_module_version": "1.5.0",
            "_model_name": "DescriptionStyleModel",
            "_view_count": null,
            "_view_module": "@jupyter-widgets/base",
            "_view_module_version": "1.2.0",
            "_view_name": "StyleView",
            "description_width": ""
          }
        },
        "6276c2c7afd4467087c7fa91c86a41d9": {
          "model_module": "@jupyter-widgets/controls",
          "model_name": "HBoxModel",
          "model_module_version": "1.5.0",
          "state": {
            "_dom_classes": [],
            "_model_module": "@jupyter-widgets/controls",
            "_model_module_version": "1.5.0",
            "_model_name": "HBoxModel",
            "_view_count": null,
            "_view_module": "@jupyter-widgets/controls",
            "_view_module_version": "1.5.0",
            "_view_name": "HBoxView",
            "box_style": "",
            "children": [
              "IPY_MODEL_dafafee84cd04980b963ce3cdbaad1d8",
              "IPY_MODEL_c0281fc2842f4eff93e8c65ca1117e6d",
              "IPY_MODEL_2df7652e0e55435e82135131b74e0c75"
            ],
            "layout": "IPY_MODEL_14c40236be2b45e2821a32eb3e4321c9"
          }
        },
        "dafafee84cd04980b963ce3cdbaad1d8": {
          "model_module": "@jupyter-widgets/controls",
          "model_name": "HTMLModel",
          "model_module_version": "1.5.0",
          "state": {
            "_dom_classes": [],
            "_model_module": "@jupyter-widgets/controls",
            "_model_module_version": "1.5.0",
            "_model_name": "HTMLModel",
            "_view_count": null,
            "_view_module": "@jupyter-widgets/controls",
            "_view_module_version": "1.5.0",
            "_view_name": "HTMLView",
            "description": "",
            "description_tooltip": null,
            "layout": "IPY_MODEL_8d547e220e5941f0a5bfe63974df0ed5",
            "placeholder": "​",
            "style": "IPY_MODEL_896a15e8a84441e8829c21b2f0b2c8bc",
            "value": "train-00000-of-00001.parquet: 100%"
          }
        },
        "c0281fc2842f4eff93e8c65ca1117e6d": {
          "model_module": "@jupyter-widgets/controls",
          "model_name": "FloatProgressModel",
          "model_module_version": "1.5.0",
          "state": {
            "_dom_classes": [],
            "_model_module": "@jupyter-widgets/controls",
            "_model_module_version": "1.5.0",
            "_model_name": "FloatProgressModel",
            "_view_count": null,
            "_view_module": "@jupyter-widgets/controls",
            "_view_module_version": "1.5.0",
            "_view_name": "ProgressView",
            "bar_style": "success",
            "description": "",
            "description_tooltip": null,
            "layout": "IPY_MODEL_bc514d98b58f4ec3a62de20f9635b250",
            "max": 2609973,
            "min": 0,
            "orientation": "horizontal",
            "style": "IPY_MODEL_dfc1c261da844c70a392d0661e22c7f9",
            "value": 2609973
          }
        },
        "2df7652e0e55435e82135131b74e0c75": {
          "model_module": "@jupyter-widgets/controls",
          "model_name": "HTMLModel",
          "model_module_version": "1.5.0",
          "state": {
            "_dom_classes": [],
            "_model_module": "@jupyter-widgets/controls",
            "_model_module_version": "1.5.0",
            "_model_name": "HTMLModel",
            "_view_count": null,
            "_view_module": "@jupyter-widgets/controls",
            "_view_module_version": "1.5.0",
            "_view_name": "HTMLView",
            "description": "",
            "description_tooltip": null,
            "layout": "IPY_MODEL_8e1af8a74e56451fa5b686f11cc9f53a",
            "placeholder": "​",
            "style": "IPY_MODEL_49136b9457224292b3ad3b7adb69774d",
            "value": " 2.61M/2.61M [00:00&lt;00:00, 8.97MB/s]"
          }
        },
        "14c40236be2b45e2821a32eb3e4321c9": {
          "model_module": "@jupyter-widgets/base",
          "model_name": "LayoutModel",
          "model_module_version": "1.2.0",
          "state": {
            "_model_module": "@jupyter-widgets/base",
            "_model_module_version": "1.2.0",
            "_model_name": "LayoutModel",
            "_view_count": null,
            "_view_module": "@jupyter-widgets/base",
            "_view_module_version": "1.2.0",
            "_view_name": "LayoutView",
            "align_content": null,
            "align_items": null,
            "align_self": null,
            "border": null,
            "bottom": null,
            "display": null,
            "flex": null,
            "flex_flow": null,
            "grid_area": null,
            "grid_auto_columns": null,
            "grid_auto_flow": null,
            "grid_auto_rows": null,
            "grid_column": null,
            "grid_gap": null,
            "grid_row": null,
            "grid_template_areas": null,
            "grid_template_columns": null,
            "grid_template_rows": null,
            "height": null,
            "justify_content": null,
            "justify_items": null,
            "left": null,
            "margin": null,
            "max_height": null,
            "max_width": null,
            "min_height": null,
            "min_width": null,
            "object_fit": null,
            "object_position": null,
            "order": null,
            "overflow": null,
            "overflow_x": null,
            "overflow_y": null,
            "padding": null,
            "right": null,
            "top": null,
            "visibility": null,
            "width": null
          }
        },
        "8d547e220e5941f0a5bfe63974df0ed5": {
          "model_module": "@jupyter-widgets/base",
          "model_name": "LayoutModel",
          "model_module_version": "1.2.0",
          "state": {
            "_model_module": "@jupyter-widgets/base",
            "_model_module_version": "1.2.0",
            "_model_name": "LayoutModel",
            "_view_count": null,
            "_view_module": "@jupyter-widgets/base",
            "_view_module_version": "1.2.0",
            "_view_name": "LayoutView",
            "align_content": null,
            "align_items": null,
            "align_self": null,
            "border": null,
            "bottom": null,
            "display": null,
            "flex": null,
            "flex_flow": null,
            "grid_area": null,
            "grid_auto_columns": null,
            "grid_auto_flow": null,
            "grid_auto_rows": null,
            "grid_column": null,
            "grid_gap": null,
            "grid_row": null,
            "grid_template_areas": null,
            "grid_template_columns": null,
            "grid_template_rows": null,
            "height": null,
            "justify_content": null,
            "justify_items": null,
            "left": null,
            "margin": null,
            "max_height": null,
            "max_width": null,
            "min_height": null,
            "min_width": null,
            "object_fit": null,
            "object_position": null,
            "order": null,
            "overflow": null,
            "overflow_x": null,
            "overflow_y": null,
            "padding": null,
            "right": null,
            "top": null,
            "visibility": null,
            "width": null
          }
        },
        "896a15e8a84441e8829c21b2f0b2c8bc": {
          "model_module": "@jupyter-widgets/controls",
          "model_name": "DescriptionStyleModel",
          "model_module_version": "1.5.0",
          "state": {
            "_model_module": "@jupyter-widgets/controls",
            "_model_module_version": "1.5.0",
            "_model_name": "DescriptionStyleModel",
            "_view_count": null,
            "_view_module": "@jupyter-widgets/base",
            "_view_module_version": "1.2.0",
            "_view_name": "StyleView",
            "description_width": ""
          }
        },
        "bc514d98b58f4ec3a62de20f9635b250": {
          "model_module": "@jupyter-widgets/base",
          "model_name": "LayoutModel",
          "model_module_version": "1.2.0",
          "state": {
            "_model_module": "@jupyter-widgets/base",
            "_model_module_version": "1.2.0",
            "_model_name": "LayoutModel",
            "_view_count": null,
            "_view_module": "@jupyter-widgets/base",
            "_view_module_version": "1.2.0",
            "_view_name": "LayoutView",
            "align_content": null,
            "align_items": null,
            "align_self": null,
            "border": null,
            "bottom": null,
            "display": null,
            "flex": null,
            "flex_flow": null,
            "grid_area": null,
            "grid_auto_columns": null,
            "grid_auto_flow": null,
            "grid_auto_rows": null,
            "grid_column": null,
            "grid_gap": null,
            "grid_row": null,
            "grid_template_areas": null,
            "grid_template_columns": null,
            "grid_template_rows": null,
            "height": null,
            "justify_content": null,
            "justify_items": null,
            "left": null,
            "margin": null,
            "max_height": null,
            "max_width": null,
            "min_height": null,
            "min_width": null,
            "object_fit": null,
            "object_position": null,
            "order": null,
            "overflow": null,
            "overflow_x": null,
            "overflow_y": null,
            "padding": null,
            "right": null,
            "top": null,
            "visibility": null,
            "width": null
          }
        },
        "dfc1c261da844c70a392d0661e22c7f9": {
          "model_module": "@jupyter-widgets/controls",
          "model_name": "ProgressStyleModel",
          "model_module_version": "1.5.0",
          "state": {
            "_model_module": "@jupyter-widgets/controls",
            "_model_module_version": "1.5.0",
            "_model_name": "ProgressStyleModel",
            "_view_count": null,
            "_view_module": "@jupyter-widgets/base",
            "_view_module_version": "1.2.0",
            "_view_name": "StyleView",
            "bar_color": null,
            "description_width": ""
          }
        },
        "8e1af8a74e56451fa5b686f11cc9f53a": {
          "model_module": "@jupyter-widgets/base",
          "model_name": "LayoutModel",
          "model_module_version": "1.2.0",
          "state": {
            "_model_module": "@jupyter-widgets/base",
            "_model_module_version": "1.2.0",
            "_model_name": "LayoutModel",
            "_view_count": null,
            "_view_module": "@jupyter-widgets/base",
            "_view_module_version": "1.2.0",
            "_view_name": "LayoutView",
            "align_content": null,
            "align_items": null,
            "align_self": null,
            "border": null,
            "bottom": null,
            "display": null,
            "flex": null,
            "flex_flow": null,
            "grid_area": null,
            "grid_auto_columns": null,
            "grid_auto_flow": null,
            "grid_auto_rows": null,
            "grid_column": null,
            "grid_gap": null,
            "grid_row": null,
            "grid_template_areas": null,
            "grid_template_columns": null,
            "grid_template_rows": null,
            "height": null,
            "justify_content": null,
            "justify_items": null,
            "left": null,
            "margin": null,
            "max_height": null,
            "max_width": null,
            "min_height": null,
            "min_width": null,
            "object_fit": null,
            "object_position": null,
            "order": null,
            "overflow": null,
            "overflow_x": null,
            "overflow_y": null,
            "padding": null,
            "right": null,
            "top": null,
            "visibility": null,
            "width": null
          }
        },
        "49136b9457224292b3ad3b7adb69774d": {
          "model_module": "@jupyter-widgets/controls",
          "model_name": "DescriptionStyleModel",
          "model_module_version": "1.5.0",
          "state": {
            "_model_module": "@jupyter-widgets/controls",
            "_model_module_version": "1.5.0",
            "_model_name": "DescriptionStyleModel",
            "_view_count": null,
            "_view_module": "@jupyter-widgets/base",
            "_view_module_version": "1.2.0",
            "_view_name": "StyleView",
            "description_width": ""
          }
        },
        "b43edde732644294ac45d762b00fbcf0": {
          "model_module": "@jupyter-widgets/controls",
          "model_name": "HBoxModel",
          "model_module_version": "1.5.0",
          "state": {
            "_dom_classes": [],
            "_model_module": "@jupyter-widgets/controls",
            "_model_module_version": "1.5.0",
            "_model_name": "HBoxModel",
            "_view_count": null,
            "_view_module": "@jupyter-widgets/controls",
            "_view_module_version": "1.5.0",
            "_view_name": "HBoxView",
            "box_style": "",
            "children": [
              "IPY_MODEL_7d6d8837280b41eb8c3817f15fbf5116",
              "IPY_MODEL_a7be57eefecc40758e5958a42d52d32b",
              "IPY_MODEL_0adcdd90c7e24fcf9e5c805f3685b2ad"
            ],
            "layout": "IPY_MODEL_4029d047cc8a4a6793356d5bce64e9d1"
          }
        },
        "7d6d8837280b41eb8c3817f15fbf5116": {
          "model_module": "@jupyter-widgets/controls",
          "model_name": "HTMLModel",
          "model_module_version": "1.5.0",
          "state": {
            "_dom_classes": [],
            "_model_module": "@jupyter-widgets/controls",
            "_model_module_version": "1.5.0",
            "_model_name": "HTMLModel",
            "_view_count": null,
            "_view_module": "@jupyter-widgets/controls",
            "_view_module_version": "1.5.0",
            "_view_name": "HTMLView",
            "description": "",
            "description_tooltip": null,
            "layout": "IPY_MODEL_d8f743f1f5ef433baad6e5c2d26affa7",
            "placeholder": "​",
            "style": "IPY_MODEL_1ec173df60c040eeb0ec7aece54bd0ab",
            "value": "test-00000-of-00001.parquet: 100%"
          }
        },
        "a7be57eefecc40758e5958a42d52d32b": {
          "model_module": "@jupyter-widgets/controls",
          "model_name": "FloatProgressModel",
          "model_module_version": "1.5.0",
          "state": {
            "_dom_classes": [],
            "_model_module": "@jupyter-widgets/controls",
            "_model_module_version": "1.5.0",
            "_model_name": "FloatProgressModel",
            "_view_count": null,
            "_view_module": "@jupyter-widgets/controls",
            "_view_module_version": "1.5.0",
            "_view_name": "ProgressView",
            "bar_style": "success",
            "description": "",
            "description_tooltip": null,
            "layout": "IPY_MODEL_3876525e167f4c1485b91d6db06e8f66",
            "max": 3047341,
            "min": 0,
            "orientation": "horizontal",
            "style": "IPY_MODEL_1145fbf437824ff69345fa7f1298992e",
            "value": 3047341
          }
        },
        "0adcdd90c7e24fcf9e5c805f3685b2ad": {
          "model_module": "@jupyter-widgets/controls",
          "model_name": "HTMLModel",
          "model_module_version": "1.5.0",
          "state": {
            "_dom_classes": [],
            "_model_module": "@jupyter-widgets/controls",
            "_model_module_version": "1.5.0",
            "_model_name": "HTMLModel",
            "_view_count": null,
            "_view_module": "@jupyter-widgets/controls",
            "_view_module_version": "1.5.0",
            "_view_name": "HTMLView",
            "description": "",
            "description_tooltip": null,
            "layout": "IPY_MODEL_55d0f0f548d94114bb122eb39698bf3b",
            "placeholder": "​",
            "style": "IPY_MODEL_50be69b4ebe746d0b37c72cc27c6a493",
            "value": " 3.05M/3.05M [00:00&lt;00:00, 23.0MB/s]"
          }
        },
        "4029d047cc8a4a6793356d5bce64e9d1": {
          "model_module": "@jupyter-widgets/base",
          "model_name": "LayoutModel",
          "model_module_version": "1.2.0",
          "state": {
            "_model_module": "@jupyter-widgets/base",
            "_model_module_version": "1.2.0",
            "_model_name": "LayoutModel",
            "_view_count": null,
            "_view_module": "@jupyter-widgets/base",
            "_view_module_version": "1.2.0",
            "_view_name": "LayoutView",
            "align_content": null,
            "align_items": null,
            "align_self": null,
            "border": null,
            "bottom": null,
            "display": null,
            "flex": null,
            "flex_flow": null,
            "grid_area": null,
            "grid_auto_columns": null,
            "grid_auto_flow": null,
            "grid_auto_rows": null,
            "grid_column": null,
            "grid_gap": null,
            "grid_row": null,
            "grid_template_areas": null,
            "grid_template_columns": null,
            "grid_template_rows": null,
            "height": null,
            "justify_content": null,
            "justify_items": null,
            "left": null,
            "margin": null,
            "max_height": null,
            "max_width": null,
            "min_height": null,
            "min_width": null,
            "object_fit": null,
            "object_position": null,
            "order": null,
            "overflow": null,
            "overflow_x": null,
            "overflow_y": null,
            "padding": null,
            "right": null,
            "top": null,
            "visibility": null,
            "width": null
          }
        },
        "d8f743f1f5ef433baad6e5c2d26affa7": {
          "model_module": "@jupyter-widgets/base",
          "model_name": "LayoutModel",
          "model_module_version": "1.2.0",
          "state": {
            "_model_module": "@jupyter-widgets/base",
            "_model_module_version": "1.2.0",
            "_model_name": "LayoutModel",
            "_view_count": null,
            "_view_module": "@jupyter-widgets/base",
            "_view_module_version": "1.2.0",
            "_view_name": "LayoutView",
            "align_content": null,
            "align_items": null,
            "align_self": null,
            "border": null,
            "bottom": null,
            "display": null,
            "flex": null,
            "flex_flow": null,
            "grid_area": null,
            "grid_auto_columns": null,
            "grid_auto_flow": null,
            "grid_auto_rows": null,
            "grid_column": null,
            "grid_gap": null,
            "grid_row": null,
            "grid_template_areas": null,
            "grid_template_columns": null,
            "grid_template_rows": null,
            "height": null,
            "justify_content": null,
            "justify_items": null,
            "left": null,
            "margin": null,
            "max_height": null,
            "max_width": null,
            "min_height": null,
            "min_width": null,
            "object_fit": null,
            "object_position": null,
            "order": null,
            "overflow": null,
            "overflow_x": null,
            "overflow_y": null,
            "padding": null,
            "right": null,
            "top": null,
            "visibility": null,
            "width": null
          }
        },
        "1ec173df60c040eeb0ec7aece54bd0ab": {
          "model_module": "@jupyter-widgets/controls",
          "model_name": "DescriptionStyleModel",
          "model_module_version": "1.5.0",
          "state": {
            "_model_module": "@jupyter-widgets/controls",
            "_model_module_version": "1.5.0",
            "_model_name": "DescriptionStyleModel",
            "_view_count": null,
            "_view_module": "@jupyter-widgets/base",
            "_view_module_version": "1.2.0",
            "_view_name": "StyleView",
            "description_width": ""
          }
        },
        "3876525e167f4c1485b91d6db06e8f66": {
          "model_module": "@jupyter-widgets/base",
          "model_name": "LayoutModel",
          "model_module_version": "1.2.0",
          "state": {
            "_model_module": "@jupyter-widgets/base",
            "_model_module_version": "1.2.0",
            "_model_name": "LayoutModel",
            "_view_count": null,
            "_view_module": "@jupyter-widgets/base",
            "_view_module_version": "1.2.0",
            "_view_name": "LayoutView",
            "align_content": null,
            "align_items": null,
            "align_self": null,
            "border": null,
            "bottom": null,
            "display": null,
            "flex": null,
            "flex_flow": null,
            "grid_area": null,
            "grid_auto_columns": null,
            "grid_auto_flow": null,
            "grid_auto_rows": null,
            "grid_column": null,
            "grid_gap": null,
            "grid_row": null,
            "grid_template_areas": null,
            "grid_template_columns": null,
            "grid_template_rows": null,
            "height": null,
            "justify_content": null,
            "justify_items": null,
            "left": null,
            "margin": null,
            "max_height": null,
            "max_width": null,
            "min_height": null,
            "min_width": null,
            "object_fit": null,
            "object_position": null,
            "order": null,
            "overflow": null,
            "overflow_x": null,
            "overflow_y": null,
            "padding": null,
            "right": null,
            "top": null,
            "visibility": null,
            "width": null
          }
        },
        "1145fbf437824ff69345fa7f1298992e": {
          "model_module": "@jupyter-widgets/controls",
          "model_name": "ProgressStyleModel",
          "model_module_version": "1.5.0",
          "state": {
            "_model_module": "@jupyter-widgets/controls",
            "_model_module_version": "1.5.0",
            "_model_name": "ProgressStyleModel",
            "_view_count": null,
            "_view_module": "@jupyter-widgets/base",
            "_view_module_version": "1.2.0",
            "_view_name": "StyleView",
            "bar_color": null,
            "description_width": ""
          }
        },
        "55d0f0f548d94114bb122eb39698bf3b": {
          "model_module": "@jupyter-widgets/base",
          "model_name": "LayoutModel",
          "model_module_version": "1.2.0",
          "state": {
            "_model_module": "@jupyter-widgets/base",
            "_model_module_version": "1.2.0",
            "_model_name": "LayoutModel",
            "_view_count": null,
            "_view_module": "@jupyter-widgets/base",
            "_view_module_version": "1.2.0",
            "_view_name": "LayoutView",
            "align_content": null,
            "align_items": null,
            "align_self": null,
            "border": null,
            "bottom": null,
            "display": null,
            "flex": null,
            "flex_flow": null,
            "grid_area": null,
            "grid_auto_columns": null,
            "grid_auto_flow": null,
            "grid_auto_rows": null,
            "grid_column": null,
            "grid_gap": null,
            "grid_row": null,
            "grid_template_areas": null,
            "grid_template_columns": null,
            "grid_template_rows": null,
            "height": null,
            "justify_content": null,
            "justify_items": null,
            "left": null,
            "margin": null,
            "max_height": null,
            "max_width": null,
            "min_height": null,
            "min_width": null,
            "object_fit": null,
            "object_position": null,
            "order": null,
            "overflow": null,
            "overflow_x": null,
            "overflow_y": null,
            "padding": null,
            "right": null,
            "top": null,
            "visibility": null,
            "width": null
          }
        },
        "50be69b4ebe746d0b37c72cc27c6a493": {
          "model_module": "@jupyter-widgets/controls",
          "model_name": "DescriptionStyleModel",
          "model_module_version": "1.5.0",
          "state": {
            "_model_module": "@jupyter-widgets/controls",
            "_model_module_version": "1.5.0",
            "_model_name": "DescriptionStyleModel",
            "_view_count": null,
            "_view_module": "@jupyter-widgets/base",
            "_view_module_version": "1.2.0",
            "_view_name": "StyleView",
            "description_width": ""
          }
        },
        "aeb816e8c3bf4889abeabc47dc97b95e": {
          "model_module": "@jupyter-widgets/controls",
          "model_name": "HBoxModel",
          "model_module_version": "1.5.0",
          "state": {
            "_dom_classes": [],
            "_model_module": "@jupyter-widgets/controls",
            "_model_module_version": "1.5.0",
            "_model_name": "HBoxModel",
            "_view_count": null,
            "_view_module": "@jupyter-widgets/controls",
            "_view_module_version": "1.5.0",
            "_view_name": "HBoxView",
            "box_style": "",
            "children": [
              "IPY_MODEL_d2ca55bbb2f14a129ad7f150850e464f",
              "IPY_MODEL_358d7e338710422da23a704b05026d55",
              "IPY_MODEL_46aeb211497e471ebcb7f0db00d2eff9"
            ],
            "layout": "IPY_MODEL_b20d381c368a44e094acbc8af343209b"
          }
        },
        "d2ca55bbb2f14a129ad7f150850e464f": {
          "model_module": "@jupyter-widgets/controls",
          "model_name": "HTMLModel",
          "model_module_version": "1.5.0",
          "state": {
            "_dom_classes": [],
            "_model_module": "@jupyter-widgets/controls",
            "_model_module_version": "1.5.0",
            "_model_name": "HTMLModel",
            "_view_count": null,
            "_view_module": "@jupyter-widgets/controls",
            "_view_module_version": "1.5.0",
            "_view_name": "HTMLView",
            "description": "",
            "description_tooltip": null,
            "layout": "IPY_MODEL_ee3593f6364a40c18ccf84f363f57d57",
            "placeholder": "​",
            "style": "IPY_MODEL_c6e550a0144a46f4bf713ef8c1c58e8c",
            "value": "validation-00000-of-00001.parquet: 100%"
          }
        },
        "358d7e338710422da23a704b05026d55": {
          "model_module": "@jupyter-widgets/controls",
          "model_name": "FloatProgressModel",
          "model_module_version": "1.5.0",
          "state": {
            "_dom_classes": [],
            "_model_module": "@jupyter-widgets/controls",
            "_model_module_version": "1.5.0",
            "_model_name": "FloatProgressModel",
            "_view_count": null,
            "_view_module": "@jupyter-widgets/controls",
            "_view_module_version": "1.5.0",
            "_view_name": "ProgressView",
            "bar_style": "success",
            "description": "",
            "description_tooltip": null,
            "layout": "IPY_MODEL_92bb7c125b8a45d0a0e47344b362bf5c",
            "max": 281994,
            "min": 0,
            "orientation": "horizontal",
            "style": "IPY_MODEL_e4f4dc0a78e4430b919ade3aee19c7e7",
            "value": 281994
          }
        },
        "46aeb211497e471ebcb7f0db00d2eff9": {
          "model_module": "@jupyter-widgets/controls",
          "model_name": "HTMLModel",
          "model_module_version": "1.5.0",
          "state": {
            "_dom_classes": [],
            "_model_module": "@jupyter-widgets/controls",
            "_model_module_version": "1.5.0",
            "_model_name": "HTMLModel",
            "_view_count": null,
            "_view_module": "@jupyter-widgets/controls",
            "_view_module_version": "1.5.0",
            "_view_name": "HTMLView",
            "description": "",
            "description_tooltip": null,
            "layout": "IPY_MODEL_e6d34d7d1dc54eb4865db47d0586dae0",
            "placeholder": "​",
            "style": "IPY_MODEL_518a2cd55aa546d5ae0cf7d7698e8b47",
            "value": " 282k/282k [00:00&lt;00:00, 4.14MB/s]"
          }
        },
        "b20d381c368a44e094acbc8af343209b": {
          "model_module": "@jupyter-widgets/base",
          "model_name": "LayoutModel",
          "model_module_version": "1.2.0",
          "state": {
            "_model_module": "@jupyter-widgets/base",
            "_model_module_version": "1.2.0",
            "_model_name": "LayoutModel",
            "_view_count": null,
            "_view_module": "@jupyter-widgets/base",
            "_view_module_version": "1.2.0",
            "_view_name": "LayoutView",
            "align_content": null,
            "align_items": null,
            "align_self": null,
            "border": null,
            "bottom": null,
            "display": null,
            "flex": null,
            "flex_flow": null,
            "grid_area": null,
            "grid_auto_columns": null,
            "grid_auto_flow": null,
            "grid_auto_rows": null,
            "grid_column": null,
            "grid_gap": null,
            "grid_row": null,
            "grid_template_areas": null,
            "grid_template_columns": null,
            "grid_template_rows": null,
            "height": null,
            "justify_content": null,
            "justify_items": null,
            "left": null,
            "margin": null,
            "max_height": null,
            "max_width": null,
            "min_height": null,
            "min_width": null,
            "object_fit": null,
            "object_position": null,
            "order": null,
            "overflow": null,
            "overflow_x": null,
            "overflow_y": null,
            "padding": null,
            "right": null,
            "top": null,
            "visibility": null,
            "width": null
          }
        },
        "ee3593f6364a40c18ccf84f363f57d57": {
          "model_module": "@jupyter-widgets/base",
          "model_name": "LayoutModel",
          "model_module_version": "1.2.0",
          "state": {
            "_model_module": "@jupyter-widgets/base",
            "_model_module_version": "1.2.0",
            "_model_name": "LayoutModel",
            "_view_count": null,
            "_view_module": "@jupyter-widgets/base",
            "_view_module_version": "1.2.0",
            "_view_name": "LayoutView",
            "align_content": null,
            "align_items": null,
            "align_self": null,
            "border": null,
            "bottom": null,
            "display": null,
            "flex": null,
            "flex_flow": null,
            "grid_area": null,
            "grid_auto_columns": null,
            "grid_auto_flow": null,
            "grid_auto_rows": null,
            "grid_column": null,
            "grid_gap": null,
            "grid_row": null,
            "grid_template_areas": null,
            "grid_template_columns": null,
            "grid_template_rows": null,
            "height": null,
            "justify_content": null,
            "justify_items": null,
            "left": null,
            "margin": null,
            "max_height": null,
            "max_width": null,
            "min_height": null,
            "min_width": null,
            "object_fit": null,
            "object_position": null,
            "order": null,
            "overflow": null,
            "overflow_x": null,
            "overflow_y": null,
            "padding": null,
            "right": null,
            "top": null,
            "visibility": null,
            "width": null
          }
        },
        "c6e550a0144a46f4bf713ef8c1c58e8c": {
          "model_module": "@jupyter-widgets/controls",
          "model_name": "DescriptionStyleModel",
          "model_module_version": "1.5.0",
          "state": {
            "_model_module": "@jupyter-widgets/controls",
            "_model_module_version": "1.5.0",
            "_model_name": "DescriptionStyleModel",
            "_view_count": null,
            "_view_module": "@jupyter-widgets/base",
            "_view_module_version": "1.2.0",
            "_view_name": "StyleView",
            "description_width": ""
          }
        },
        "92bb7c125b8a45d0a0e47344b362bf5c": {
          "model_module": "@jupyter-widgets/base",
          "model_name": "LayoutModel",
          "model_module_version": "1.2.0",
          "state": {
            "_model_module": "@jupyter-widgets/base",
            "_model_module_version": "1.2.0",
            "_model_name": "LayoutModel",
            "_view_count": null,
            "_view_module": "@jupyter-widgets/base",
            "_view_module_version": "1.2.0",
            "_view_name": "LayoutView",
            "align_content": null,
            "align_items": null,
            "align_self": null,
            "border": null,
            "bottom": null,
            "display": null,
            "flex": null,
            "flex_flow": null,
            "grid_area": null,
            "grid_auto_columns": null,
            "grid_auto_flow": null,
            "grid_auto_rows": null,
            "grid_column": null,
            "grid_gap": null,
            "grid_row": null,
            "grid_template_areas": null,
            "grid_template_columns": null,
            "grid_template_rows": null,
            "height": null,
            "justify_content": null,
            "justify_items": null,
            "left": null,
            "margin": null,
            "max_height": null,
            "max_width": null,
            "min_height": null,
            "min_width": null,
            "object_fit": null,
            "object_position": null,
            "order": null,
            "overflow": null,
            "overflow_x": null,
            "overflow_y": null,
            "padding": null,
            "right": null,
            "top": null,
            "visibility": null,
            "width": null
          }
        },
        "e4f4dc0a78e4430b919ade3aee19c7e7": {
          "model_module": "@jupyter-widgets/controls",
          "model_name": "ProgressStyleModel",
          "model_module_version": "1.5.0",
          "state": {
            "_model_module": "@jupyter-widgets/controls",
            "_model_module_version": "1.5.0",
            "_model_name": "ProgressStyleModel",
            "_view_count": null,
            "_view_module": "@jupyter-widgets/base",
            "_view_module_version": "1.2.0",
            "_view_name": "StyleView",
            "bar_color": null,
            "description_width": ""
          }
        },
        "e6d34d7d1dc54eb4865db47d0586dae0": {
          "model_module": "@jupyter-widgets/base",
          "model_name": "LayoutModel",
          "model_module_version": "1.2.0",
          "state": {
            "_model_module": "@jupyter-widgets/base",
            "_model_module_version": "1.2.0",
            "_model_name": "LayoutModel",
            "_view_count": null,
            "_view_module": "@jupyter-widgets/base",
            "_view_module_version": "1.2.0",
            "_view_name": "LayoutView",
            "align_content": null,
            "align_items": null,
            "align_self": null,
            "border": null,
            "bottom": null,
            "display": null,
            "flex": null,
            "flex_flow": null,
            "grid_area": null,
            "grid_auto_columns": null,
            "grid_auto_flow": null,
            "grid_auto_rows": null,
            "grid_column": null,
            "grid_gap": null,
            "grid_row": null,
            "grid_template_areas": null,
            "grid_template_columns": null,
            "grid_template_rows": null,
            "height": null,
            "justify_content": null,
            "justify_items": null,
            "left": null,
            "margin": null,
            "max_height": null,
            "max_width": null,
            "min_height": null,
            "min_width": null,
            "object_fit": null,
            "object_position": null,
            "order": null,
            "overflow": null,
            "overflow_x": null,
            "overflow_y": null,
            "padding": null,
            "right": null,
            "top": null,
            "visibility": null,
            "width": null
          }
        },
        "518a2cd55aa546d5ae0cf7d7698e8b47": {
          "model_module": "@jupyter-widgets/controls",
          "model_name": "DescriptionStyleModel",
          "model_module_version": "1.5.0",
          "state": {
            "_model_module": "@jupyter-widgets/controls",
            "_model_module_version": "1.5.0",
            "_model_name": "DescriptionStyleModel",
            "_view_count": null,
            "_view_module": "@jupyter-widgets/base",
            "_view_module_version": "1.2.0",
            "_view_name": "StyleView",
            "description_width": ""
          }
        },
        "0ea79ec7c75d4164a61ec22f43da2a92": {
          "model_module": "@jupyter-widgets/controls",
          "model_name": "HBoxModel",
          "model_module_version": "1.5.0",
          "state": {
            "_dom_classes": [],
            "_model_module": "@jupyter-widgets/controls",
            "_model_module_version": "1.5.0",
            "_model_name": "HBoxModel",
            "_view_count": null,
            "_view_module": "@jupyter-widgets/controls",
            "_view_module_version": "1.5.0",
            "_view_name": "HBoxView",
            "box_style": "",
            "children": [
              "IPY_MODEL_11e4d636be734483a7bd2110eeb6e260",
              "IPY_MODEL_1fbe41f2a08f453b8c0c3a1b37b82825",
              "IPY_MODEL_90c5f782450b436d81734a8fbf58cb18"
            ],
            "layout": "IPY_MODEL_00e5ddf4cebe4abf9e0dabe7538a605a"
          }
        },
        "11e4d636be734483a7bd2110eeb6e260": {
          "model_module": "@jupyter-widgets/controls",
          "model_name": "HTMLModel",
          "model_module_version": "1.5.0",
          "state": {
            "_dom_classes": [],
            "_model_module": "@jupyter-widgets/controls",
            "_model_module_version": "1.5.0",
            "_model_name": "HTMLModel",
            "_view_count": null,
            "_view_module": "@jupyter-widgets/controls",
            "_view_module_version": "1.5.0",
            "_view_name": "HTMLView",
            "description": "",
            "description_tooltip": null,
            "layout": "IPY_MODEL_12f77938166a40639dc0865f2f3be235",
            "placeholder": "​",
            "style": "IPY_MODEL_8f1313b1f4364b72b9c9d61d60cb380b",
            "value": "Generating train split: 100%"
          }
        },
        "1fbe41f2a08f453b8c0c3a1b37b82825": {
          "model_module": "@jupyter-widgets/controls",
          "model_name": "FloatProgressModel",
          "model_module_version": "1.5.0",
          "state": {
            "_dom_classes": [],
            "_model_module": "@jupyter-widgets/controls",
            "_model_module_version": "1.5.0",
            "_model_name": "FloatProgressModel",
            "_view_count": null,
            "_view_module": "@jupyter-widgets/controls",
            "_view_module_version": "1.5.0",
            "_view_name": "ProgressView",
            "bar_style": "success",
            "description": "",
            "description_tooltip": null,
            "layout": "IPY_MODEL_fe4ef441ab4f4f1cbf4b386d10f640d9",
            "max": 45000,
            "min": 0,
            "orientation": "horizontal",
            "style": "IPY_MODEL_f2d886d9e5f6440f9230c66e80ae5a13",
            "value": 45000
          }
        },
        "90c5f782450b436d81734a8fbf58cb18": {
          "model_module": "@jupyter-widgets/controls",
          "model_name": "HTMLModel",
          "model_module_version": "1.5.0",
          "state": {
            "_dom_classes": [],
            "_model_module": "@jupyter-widgets/controls",
            "_model_module_version": "1.5.0",
            "_model_name": "HTMLModel",
            "_view_count": null,
            "_view_module": "@jupyter-widgets/controls",
            "_view_module_version": "1.5.0",
            "_view_name": "HTMLView",
            "description": "",
            "description_tooltip": null,
            "layout": "IPY_MODEL_545bd8fc484347b5a898ccdbacb287d1",
            "placeholder": "​",
            "style": "IPY_MODEL_2b1a2df92e7045d380e0b31656c0fa26",
            "value": " 45000/45000 [00:00&lt;00:00, 7573.16 examples/s]"
          }
        },
        "00e5ddf4cebe4abf9e0dabe7538a605a": {
          "model_module": "@jupyter-widgets/base",
          "model_name": "LayoutModel",
          "model_module_version": "1.2.0",
          "state": {
            "_model_module": "@jupyter-widgets/base",
            "_model_module_version": "1.2.0",
            "_model_name": "LayoutModel",
            "_view_count": null,
            "_view_module": "@jupyter-widgets/base",
            "_view_module_version": "1.2.0",
            "_view_name": "LayoutView",
            "align_content": null,
            "align_items": null,
            "align_self": null,
            "border": null,
            "bottom": null,
            "display": null,
            "flex": null,
            "flex_flow": null,
            "grid_area": null,
            "grid_auto_columns": null,
            "grid_auto_flow": null,
            "grid_auto_rows": null,
            "grid_column": null,
            "grid_gap": null,
            "grid_row": null,
            "grid_template_areas": null,
            "grid_template_columns": null,
            "grid_template_rows": null,
            "height": null,
            "justify_content": null,
            "justify_items": null,
            "left": null,
            "margin": null,
            "max_height": null,
            "max_width": null,
            "min_height": null,
            "min_width": null,
            "object_fit": null,
            "object_position": null,
            "order": null,
            "overflow": null,
            "overflow_x": null,
            "overflow_y": null,
            "padding": null,
            "right": null,
            "top": null,
            "visibility": null,
            "width": null
          }
        },
        "12f77938166a40639dc0865f2f3be235": {
          "model_module": "@jupyter-widgets/base",
          "model_name": "LayoutModel",
          "model_module_version": "1.2.0",
          "state": {
            "_model_module": "@jupyter-widgets/base",
            "_model_module_version": "1.2.0",
            "_model_name": "LayoutModel",
            "_view_count": null,
            "_view_module": "@jupyter-widgets/base",
            "_view_module_version": "1.2.0",
            "_view_name": "LayoutView",
            "align_content": null,
            "align_items": null,
            "align_self": null,
            "border": null,
            "bottom": null,
            "display": null,
            "flex": null,
            "flex_flow": null,
            "grid_area": null,
            "grid_auto_columns": null,
            "grid_auto_flow": null,
            "grid_auto_rows": null,
            "grid_column": null,
            "grid_gap": null,
            "grid_row": null,
            "grid_template_areas": null,
            "grid_template_columns": null,
            "grid_template_rows": null,
            "height": null,
            "justify_content": null,
            "justify_items": null,
            "left": null,
            "margin": null,
            "max_height": null,
            "max_width": null,
            "min_height": null,
            "min_width": null,
            "object_fit": null,
            "object_position": null,
            "order": null,
            "overflow": null,
            "overflow_x": null,
            "overflow_y": null,
            "padding": null,
            "right": null,
            "top": null,
            "visibility": null,
            "width": null
          }
        },
        "8f1313b1f4364b72b9c9d61d60cb380b": {
          "model_module": "@jupyter-widgets/controls",
          "model_name": "DescriptionStyleModel",
          "model_module_version": "1.5.0",
          "state": {
            "_model_module": "@jupyter-widgets/controls",
            "_model_module_version": "1.5.0",
            "_model_name": "DescriptionStyleModel",
            "_view_count": null,
            "_view_module": "@jupyter-widgets/base",
            "_view_module_version": "1.2.0",
            "_view_name": "StyleView",
            "description_width": ""
          }
        },
        "fe4ef441ab4f4f1cbf4b386d10f640d9": {
          "model_module": "@jupyter-widgets/base",
          "model_name": "LayoutModel",
          "model_module_version": "1.2.0",
          "state": {
            "_model_module": "@jupyter-widgets/base",
            "_model_module_version": "1.2.0",
            "_model_name": "LayoutModel",
            "_view_count": null,
            "_view_module": "@jupyter-widgets/base",
            "_view_module_version": "1.2.0",
            "_view_name": "LayoutView",
            "align_content": null,
            "align_items": null,
            "align_self": null,
            "border": null,
            "bottom": null,
            "display": null,
            "flex": null,
            "flex_flow": null,
            "grid_area": null,
            "grid_auto_columns": null,
            "grid_auto_flow": null,
            "grid_auto_rows": null,
            "grid_column": null,
            "grid_gap": null,
            "grid_row": null,
            "grid_template_areas": null,
            "grid_template_columns": null,
            "grid_template_rows": null,
            "height": null,
            "justify_content": null,
            "justify_items": null,
            "left": null,
            "margin": null,
            "max_height": null,
            "max_width": null,
            "min_height": null,
            "min_width": null,
            "object_fit": null,
            "object_position": null,
            "order": null,
            "overflow": null,
            "overflow_x": null,
            "overflow_y": null,
            "padding": null,
            "right": null,
            "top": null,
            "visibility": null,
            "width": null
          }
        },
        "f2d886d9e5f6440f9230c66e80ae5a13": {
          "model_module": "@jupyter-widgets/controls",
          "model_name": "ProgressStyleModel",
          "model_module_version": "1.5.0",
          "state": {
            "_model_module": "@jupyter-widgets/controls",
            "_model_module_version": "1.5.0",
            "_model_name": "ProgressStyleModel",
            "_view_count": null,
            "_view_module": "@jupyter-widgets/base",
            "_view_module_version": "1.2.0",
            "_view_name": "StyleView",
            "bar_color": null,
            "description_width": ""
          }
        },
        "545bd8fc484347b5a898ccdbacb287d1": {
          "model_module": "@jupyter-widgets/base",
          "model_name": "LayoutModel",
          "model_module_version": "1.2.0",
          "state": {
            "_model_module": "@jupyter-widgets/base",
            "_model_module_version": "1.2.0",
            "_model_name": "LayoutModel",
            "_view_count": null,
            "_view_module": "@jupyter-widgets/base",
            "_view_module_version": "1.2.0",
            "_view_name": "LayoutView",
            "align_content": null,
            "align_items": null,
            "align_self": null,
            "border": null,
            "bottom": null,
            "display": null,
            "flex": null,
            "flex_flow": null,
            "grid_area": null,
            "grid_auto_columns": null,
            "grid_auto_flow": null,
            "grid_auto_rows": null,
            "grid_column": null,
            "grid_gap": null,
            "grid_row": null,
            "grid_template_areas": null,
            "grid_template_columns": null,
            "grid_template_rows": null,
            "height": null,
            "justify_content": null,
            "justify_items": null,
            "left": null,
            "margin": null,
            "max_height": null,
            "max_width": null,
            "min_height": null,
            "min_width": null,
            "object_fit": null,
            "object_position": null,
            "order": null,
            "overflow": null,
            "overflow_x": null,
            "overflow_y": null,
            "padding": null,
            "right": null,
            "top": null,
            "visibility": null,
            "width": null
          }
        },
        "2b1a2df92e7045d380e0b31656c0fa26": {
          "model_module": "@jupyter-widgets/controls",
          "model_name": "DescriptionStyleModel",
          "model_module_version": "1.5.0",
          "state": {
            "_model_module": "@jupyter-widgets/controls",
            "_model_module_version": "1.5.0",
            "_model_name": "DescriptionStyleModel",
            "_view_count": null,
            "_view_module": "@jupyter-widgets/base",
            "_view_module_version": "1.2.0",
            "_view_name": "StyleView",
            "description_width": ""
          }
        },
        "45d5e3b09e7749d195e716ae826fd631": {
          "model_module": "@jupyter-widgets/controls",
          "model_name": "HBoxModel",
          "model_module_version": "1.5.0",
          "state": {
            "_dom_classes": [],
            "_model_module": "@jupyter-widgets/controls",
            "_model_module_version": "1.5.0",
            "_model_name": "HBoxModel",
            "_view_count": null,
            "_view_module": "@jupyter-widgets/controls",
            "_view_module_version": "1.5.0",
            "_view_name": "HBoxView",
            "box_style": "",
            "children": [
              "IPY_MODEL_bb932f21480d4303a5974511b062f9fe",
              "IPY_MODEL_733cf56d3c504467b694ac3911995fce",
              "IPY_MODEL_8032d4dc16d84ffdaba7aa9daf8cd8bd"
            ],
            "layout": "IPY_MODEL_c54271fca15742aaa2e44d589014d117"
          }
        },
        "bb932f21480d4303a5974511b062f9fe": {
          "model_module": "@jupyter-widgets/controls",
          "model_name": "HTMLModel",
          "model_module_version": "1.5.0",
          "state": {
            "_dom_classes": [],
            "_model_module": "@jupyter-widgets/controls",
            "_model_module_version": "1.5.0",
            "_model_name": "HTMLModel",
            "_view_count": null,
            "_view_module": "@jupyter-widgets/controls",
            "_view_module_version": "1.5.0",
            "_view_name": "HTMLView",
            "description": "",
            "description_tooltip": null,
            "layout": "IPY_MODEL_30d34ebf3bed484b9794a5fa980c2e4e",
            "placeholder": "​",
            "style": "IPY_MODEL_961b6ba078274749aacd7f821a25d926",
            "value": "Generating test split: 100%"
          }
        },
        "733cf56d3c504467b694ac3911995fce": {
          "model_module": "@jupyter-widgets/controls",
          "model_name": "FloatProgressModel",
          "model_module_version": "1.5.0",
          "state": {
            "_dom_classes": [],
            "_model_module": "@jupyter-widgets/controls",
            "_model_module_version": "1.5.0",
            "_model_name": "FloatProgressModel",
            "_view_count": null,
            "_view_module": "@jupyter-widgets/controls",
            "_view_module_version": "1.5.0",
            "_view_name": "ProgressView",
            "bar_style": "success",
            "description": "",
            "description_tooltip": null,
            "layout": "IPY_MODEL_1ec9fec122e1454f84f3c6efba43b0d7",
            "max": 50000,
            "min": 0,
            "orientation": "horizontal",
            "style": "IPY_MODEL_89f7f7b8cdae4c94a78858613ba440d7",
            "value": 50000
          }
        },
        "8032d4dc16d84ffdaba7aa9daf8cd8bd": {
          "model_module": "@jupyter-widgets/controls",
          "model_name": "HTMLModel",
          "model_module_version": "1.5.0",
          "state": {
            "_dom_classes": [],
            "_model_module": "@jupyter-widgets/controls",
            "_model_module_version": "1.5.0",
            "_model_name": "HTMLModel",
            "_view_count": null,
            "_view_module": "@jupyter-widgets/controls",
            "_view_module_version": "1.5.0",
            "_view_name": "HTMLView",
            "description": "",
            "description_tooltip": null,
            "layout": "IPY_MODEL_c4891522cc6546108162ab951c5c17d3",
            "placeholder": "​",
            "style": "IPY_MODEL_854794df1c5544bfa2637cc49a8dcdb8",
            "value": " 50000/50000 [00:00&lt;00:00, 176903.60 examples/s]"
          }
        },
        "c54271fca15742aaa2e44d589014d117": {
          "model_module": "@jupyter-widgets/base",
          "model_name": "LayoutModel",
          "model_module_version": "1.2.0",
          "state": {
            "_model_module": "@jupyter-widgets/base",
            "_model_module_version": "1.2.0",
            "_model_name": "LayoutModel",
            "_view_count": null,
            "_view_module": "@jupyter-widgets/base",
            "_view_module_version": "1.2.0",
            "_view_name": "LayoutView",
            "align_content": null,
            "align_items": null,
            "align_self": null,
            "border": null,
            "bottom": null,
            "display": null,
            "flex": null,
            "flex_flow": null,
            "grid_area": null,
            "grid_auto_columns": null,
            "grid_auto_flow": null,
            "grid_auto_rows": null,
            "grid_column": null,
            "grid_gap": null,
            "grid_row": null,
            "grid_template_areas": null,
            "grid_template_columns": null,
            "grid_template_rows": null,
            "height": null,
            "justify_content": null,
            "justify_items": null,
            "left": null,
            "margin": null,
            "max_height": null,
            "max_width": null,
            "min_height": null,
            "min_width": null,
            "object_fit": null,
            "object_position": null,
            "order": null,
            "overflow": null,
            "overflow_x": null,
            "overflow_y": null,
            "padding": null,
            "right": null,
            "top": null,
            "visibility": null,
            "width": null
          }
        },
        "30d34ebf3bed484b9794a5fa980c2e4e": {
          "model_module": "@jupyter-widgets/base",
          "model_name": "LayoutModel",
          "model_module_version": "1.2.0",
          "state": {
            "_model_module": "@jupyter-widgets/base",
            "_model_module_version": "1.2.0",
            "_model_name": "LayoutModel",
            "_view_count": null,
            "_view_module": "@jupyter-widgets/base",
            "_view_module_version": "1.2.0",
            "_view_name": "LayoutView",
            "align_content": null,
            "align_items": null,
            "align_self": null,
            "border": null,
            "bottom": null,
            "display": null,
            "flex": null,
            "flex_flow": null,
            "grid_area": null,
            "grid_auto_columns": null,
            "grid_auto_flow": null,
            "grid_auto_rows": null,
            "grid_column": null,
            "grid_gap": null,
            "grid_row": null,
            "grid_template_areas": null,
            "grid_template_columns": null,
            "grid_template_rows": null,
            "height": null,
            "justify_content": null,
            "justify_items": null,
            "left": null,
            "margin": null,
            "max_height": null,
            "max_width": null,
            "min_height": null,
            "min_width": null,
            "object_fit": null,
            "object_position": null,
            "order": null,
            "overflow": null,
            "overflow_x": null,
            "overflow_y": null,
            "padding": null,
            "right": null,
            "top": null,
            "visibility": null,
            "width": null
          }
        },
        "961b6ba078274749aacd7f821a25d926": {
          "model_module": "@jupyter-widgets/controls",
          "model_name": "DescriptionStyleModel",
          "model_module_version": "1.5.0",
          "state": {
            "_model_module": "@jupyter-widgets/controls",
            "_model_module_version": "1.5.0",
            "_model_name": "DescriptionStyleModel",
            "_view_count": null,
            "_view_module": "@jupyter-widgets/base",
            "_view_module_version": "1.2.0",
            "_view_name": "StyleView",
            "description_width": ""
          }
        },
        "1ec9fec122e1454f84f3c6efba43b0d7": {
          "model_module": "@jupyter-widgets/base",
          "model_name": "LayoutModel",
          "model_module_version": "1.2.0",
          "state": {
            "_model_module": "@jupyter-widgets/base",
            "_model_module_version": "1.2.0",
            "_model_name": "LayoutModel",
            "_view_count": null,
            "_view_module": "@jupyter-widgets/base",
            "_view_module_version": "1.2.0",
            "_view_name": "LayoutView",
            "align_content": null,
            "align_items": null,
            "align_self": null,
            "border": null,
            "bottom": null,
            "display": null,
            "flex": null,
            "flex_flow": null,
            "grid_area": null,
            "grid_auto_columns": null,
            "grid_auto_flow": null,
            "grid_auto_rows": null,
            "grid_column": null,
            "grid_gap": null,
            "grid_row": null,
            "grid_template_areas": null,
            "grid_template_columns": null,
            "grid_template_rows": null,
            "height": null,
            "justify_content": null,
            "justify_items": null,
            "left": null,
            "margin": null,
            "max_height": null,
            "max_width": null,
            "min_height": null,
            "min_width": null,
            "object_fit": null,
            "object_position": null,
            "order": null,
            "overflow": null,
            "overflow_x": null,
            "overflow_y": null,
            "padding": null,
            "right": null,
            "top": null,
            "visibility": null,
            "width": null
          }
        },
        "89f7f7b8cdae4c94a78858613ba440d7": {
          "model_module": "@jupyter-widgets/controls",
          "model_name": "ProgressStyleModel",
          "model_module_version": "1.5.0",
          "state": {
            "_model_module": "@jupyter-widgets/controls",
            "_model_module_version": "1.5.0",
            "_model_name": "ProgressStyleModel",
            "_view_count": null,
            "_view_module": "@jupyter-widgets/base",
            "_view_module_version": "1.2.0",
            "_view_name": "StyleView",
            "bar_color": null,
            "description_width": ""
          }
        },
        "c4891522cc6546108162ab951c5c17d3": {
          "model_module": "@jupyter-widgets/base",
          "model_name": "LayoutModel",
          "model_module_version": "1.2.0",
          "state": {
            "_model_module": "@jupyter-widgets/base",
            "_model_module_version": "1.2.0",
            "_model_name": "LayoutModel",
            "_view_count": null,
            "_view_module": "@jupyter-widgets/base",
            "_view_module_version": "1.2.0",
            "_view_name": "LayoutView",
            "align_content": null,
            "align_items": null,
            "align_self": null,
            "border": null,
            "bottom": null,
            "display": null,
            "flex": null,
            "flex_flow": null,
            "grid_area": null,
            "grid_auto_columns": null,
            "grid_auto_flow": null,
            "grid_auto_rows": null,
            "grid_column": null,
            "grid_gap": null,
            "grid_row": null,
            "grid_template_areas": null,
            "grid_template_columns": null,
            "grid_template_rows": null,
            "height": null,
            "justify_content": null,
            "justify_items": null,
            "left": null,
            "margin": null,
            "max_height": null,
            "max_width": null,
            "min_height": null,
            "min_width": null,
            "object_fit": null,
            "object_position": null,
            "order": null,
            "overflow": null,
            "overflow_x": null,
            "overflow_y": null,
            "padding": null,
            "right": null,
            "top": null,
            "visibility": null,
            "width": null
          }
        },
        "854794df1c5544bfa2637cc49a8dcdb8": {
          "model_module": "@jupyter-widgets/controls",
          "model_name": "DescriptionStyleModel",
          "model_module_version": "1.5.0",
          "state": {
            "_model_module": "@jupyter-widgets/controls",
            "_model_module_version": "1.5.0",
            "_model_name": "DescriptionStyleModel",
            "_view_count": null,
            "_view_module": "@jupyter-widgets/base",
            "_view_module_version": "1.2.0",
            "_view_name": "StyleView",
            "description_width": ""
          }
        },
        "736c07ed6d1b446382b88fc919ab9e05": {
          "model_module": "@jupyter-widgets/controls",
          "model_name": "HBoxModel",
          "model_module_version": "1.5.0",
          "state": {
            "_dom_classes": [],
            "_model_module": "@jupyter-widgets/controls",
            "_model_module_version": "1.5.0",
            "_model_name": "HBoxModel",
            "_view_count": null,
            "_view_module": "@jupyter-widgets/controls",
            "_view_module_version": "1.5.0",
            "_view_name": "HBoxView",
            "box_style": "",
            "children": [
              "IPY_MODEL_fae08140500048b3bf673a76038fb6d9",
              "IPY_MODEL_bc6bb18582404ad699542878890f82ce",
              "IPY_MODEL_041c9f8eeb5b4537b0cc4be9d7f0b277"
            ],
            "layout": "IPY_MODEL_394cf5b9211845cf85be7ca470d47106"
          }
        },
        "fae08140500048b3bf673a76038fb6d9": {
          "model_module": "@jupyter-widgets/controls",
          "model_name": "HTMLModel",
          "model_module_version": "1.5.0",
          "state": {
            "_dom_classes": [],
            "_model_module": "@jupyter-widgets/controls",
            "_model_module_version": "1.5.0",
            "_model_name": "HTMLModel",
            "_view_count": null,
            "_view_module": "@jupyter-widgets/controls",
            "_view_module_version": "1.5.0",
            "_view_name": "HTMLView",
            "description": "",
            "description_tooltip": null,
            "layout": "IPY_MODEL_d7f936615fff4932a8c246a1b8ad3e10",
            "placeholder": "​",
            "style": "IPY_MODEL_fe4a5c6bdf5b4a0c9fc6dba3cc85ec4b",
            "value": "Generating validation split: 100%"
          }
        },
        "bc6bb18582404ad699542878890f82ce": {
          "model_module": "@jupyter-widgets/controls",
          "model_name": "FloatProgressModel",
          "model_module_version": "1.5.0",
          "state": {
            "_dom_classes": [],
            "_model_module": "@jupyter-widgets/controls",
            "_model_module_version": "1.5.0",
            "_model_name": "FloatProgressModel",
            "_view_count": null,
            "_view_module": "@jupyter-widgets/controls",
            "_view_module_version": "1.5.0",
            "_view_name": "ProgressView",
            "bar_style": "success",
            "description": "",
            "description_tooltip": null,
            "layout": "IPY_MODEL_baa788d9fa444c0b82a4c161821dafc3",
            "max": 5000,
            "min": 0,
            "orientation": "horizontal",
            "style": "IPY_MODEL_5ee1f5649696499d88a7ec8db3f42238",
            "value": 5000
          }
        },
        "041c9f8eeb5b4537b0cc4be9d7f0b277": {
          "model_module": "@jupyter-widgets/controls",
          "model_name": "HTMLModel",
          "model_module_version": "1.5.0",
          "state": {
            "_dom_classes": [],
            "_model_module": "@jupyter-widgets/controls",
            "_model_module_version": "1.5.0",
            "_model_name": "HTMLModel",
            "_view_count": null,
            "_view_module": "@jupyter-widgets/controls",
            "_view_module_version": "1.5.0",
            "_view_name": "HTMLView",
            "description": "",
            "description_tooltip": null,
            "layout": "IPY_MODEL_6401848085324891a1d7f6a00881cc60",
            "placeholder": "​",
            "style": "IPY_MODEL_3647254b06734904a63b27407e5587af",
            "value": " 5000/5000 [00:00&lt;00:00, 54570.42 examples/s]"
          }
        },
        "394cf5b9211845cf85be7ca470d47106": {
          "model_module": "@jupyter-widgets/base",
          "model_name": "LayoutModel",
          "model_module_version": "1.2.0",
          "state": {
            "_model_module": "@jupyter-widgets/base",
            "_model_module_version": "1.2.0",
            "_model_name": "LayoutModel",
            "_view_count": null,
            "_view_module": "@jupyter-widgets/base",
            "_view_module_version": "1.2.0",
            "_view_name": "LayoutView",
            "align_content": null,
            "align_items": null,
            "align_self": null,
            "border": null,
            "bottom": null,
            "display": null,
            "flex": null,
            "flex_flow": null,
            "grid_area": null,
            "grid_auto_columns": null,
            "grid_auto_flow": null,
            "grid_auto_rows": null,
            "grid_column": null,
            "grid_gap": null,
            "grid_row": null,
            "grid_template_areas": null,
            "grid_template_columns": null,
            "grid_template_rows": null,
            "height": null,
            "justify_content": null,
            "justify_items": null,
            "left": null,
            "margin": null,
            "max_height": null,
            "max_width": null,
            "min_height": null,
            "min_width": null,
            "object_fit": null,
            "object_position": null,
            "order": null,
            "overflow": null,
            "overflow_x": null,
            "overflow_y": null,
            "padding": null,
            "right": null,
            "top": null,
            "visibility": null,
            "width": null
          }
        },
        "d7f936615fff4932a8c246a1b8ad3e10": {
          "model_module": "@jupyter-widgets/base",
          "model_name": "LayoutModel",
          "model_module_version": "1.2.0",
          "state": {
            "_model_module": "@jupyter-widgets/base",
            "_model_module_version": "1.2.0",
            "_model_name": "LayoutModel",
            "_view_count": null,
            "_view_module": "@jupyter-widgets/base",
            "_view_module_version": "1.2.0",
            "_view_name": "LayoutView",
            "align_content": null,
            "align_items": null,
            "align_self": null,
            "border": null,
            "bottom": null,
            "display": null,
            "flex": null,
            "flex_flow": null,
            "grid_area": null,
            "grid_auto_columns": null,
            "grid_auto_flow": null,
            "grid_auto_rows": null,
            "grid_column": null,
            "grid_gap": null,
            "grid_row": null,
            "grid_template_areas": null,
            "grid_template_columns": null,
            "grid_template_rows": null,
            "height": null,
            "justify_content": null,
            "justify_items": null,
            "left": null,
            "margin": null,
            "max_height": null,
            "max_width": null,
            "min_height": null,
            "min_width": null,
            "object_fit": null,
            "object_position": null,
            "order": null,
            "overflow": null,
            "overflow_x": null,
            "overflow_y": null,
            "padding": null,
            "right": null,
            "top": null,
            "visibility": null,
            "width": null
          }
        },
        "fe4a5c6bdf5b4a0c9fc6dba3cc85ec4b": {
          "model_module": "@jupyter-widgets/controls",
          "model_name": "DescriptionStyleModel",
          "model_module_version": "1.5.0",
          "state": {
            "_model_module": "@jupyter-widgets/controls",
            "_model_module_version": "1.5.0",
            "_model_name": "DescriptionStyleModel",
            "_view_count": null,
            "_view_module": "@jupyter-widgets/base",
            "_view_module_version": "1.2.0",
            "_view_name": "StyleView",
            "description_width": ""
          }
        },
        "baa788d9fa444c0b82a4c161821dafc3": {
          "model_module": "@jupyter-widgets/base",
          "model_name": "LayoutModel",
          "model_module_version": "1.2.0",
          "state": {
            "_model_module": "@jupyter-widgets/base",
            "_model_module_version": "1.2.0",
            "_model_name": "LayoutModel",
            "_view_count": null,
            "_view_module": "@jupyter-widgets/base",
            "_view_module_version": "1.2.0",
            "_view_name": "LayoutView",
            "align_content": null,
            "align_items": null,
            "align_self": null,
            "border": null,
            "bottom": null,
            "display": null,
            "flex": null,
            "flex_flow": null,
            "grid_area": null,
            "grid_auto_columns": null,
            "grid_auto_flow": null,
            "grid_auto_rows": null,
            "grid_column": null,
            "grid_gap": null,
            "grid_row": null,
            "grid_template_areas": null,
            "grid_template_columns": null,
            "grid_template_rows": null,
            "height": null,
            "justify_content": null,
            "justify_items": null,
            "left": null,
            "margin": null,
            "max_height": null,
            "max_width": null,
            "min_height": null,
            "min_width": null,
            "object_fit": null,
            "object_position": null,
            "order": null,
            "overflow": null,
            "overflow_x": null,
            "overflow_y": null,
            "padding": null,
            "right": null,
            "top": null,
            "visibility": null,
            "width": null
          }
        },
        "5ee1f5649696499d88a7ec8db3f42238": {
          "model_module": "@jupyter-widgets/controls",
          "model_name": "ProgressStyleModel",
          "model_module_version": "1.5.0",
          "state": {
            "_model_module": "@jupyter-widgets/controls",
            "_model_module_version": "1.5.0",
            "_model_name": "ProgressStyleModel",
            "_view_count": null,
            "_view_module": "@jupyter-widgets/base",
            "_view_module_version": "1.2.0",
            "_view_name": "StyleView",
            "bar_color": null,
            "description_width": ""
          }
        },
        "6401848085324891a1d7f6a00881cc60": {
          "model_module": "@jupyter-widgets/base",
          "model_name": "LayoutModel",
          "model_module_version": "1.2.0",
          "state": {
            "_model_module": "@jupyter-widgets/base",
            "_model_module_version": "1.2.0",
            "_model_name": "LayoutModel",
            "_view_count": null,
            "_view_module": "@jupyter-widgets/base",
            "_view_module_version": "1.2.0",
            "_view_name": "LayoutView",
            "align_content": null,
            "align_items": null,
            "align_self": null,
            "border": null,
            "bottom": null,
            "display": null,
            "flex": null,
            "flex_flow": null,
            "grid_area": null,
            "grid_auto_columns": null,
            "grid_auto_flow": null,
            "grid_auto_rows": null,
            "grid_column": null,
            "grid_gap": null,
            "grid_row": null,
            "grid_template_areas": null,
            "grid_template_columns": null,
            "grid_template_rows": null,
            "height": null,
            "justify_content": null,
            "justify_items": null,
            "left": null,
            "margin": null,
            "max_height": null,
            "max_width": null,
            "min_height": null,
            "min_width": null,
            "object_fit": null,
            "object_position": null,
            "order": null,
            "overflow": null,
            "overflow_x": null,
            "overflow_y": null,
            "padding": null,
            "right": null,
            "top": null,
            "visibility": null,
            "width": null
          }
        },
        "3647254b06734904a63b27407e5587af": {
          "model_module": "@jupyter-widgets/controls",
          "model_name": "DescriptionStyleModel",
          "model_module_version": "1.5.0",
          "state": {
            "_model_module": "@jupyter-widgets/controls",
            "_model_module_version": "1.5.0",
            "_model_name": "DescriptionStyleModel",
            "_view_count": null,
            "_view_module": "@jupyter-widgets/base",
            "_view_module_version": "1.2.0",
            "_view_name": "StyleView",
            "description_width": ""
          }
        },
        "110a2bbe15324c15b46c2a91ee8ab46c": {
          "model_module": "@jupyter-widgets/controls",
          "model_name": "HBoxModel",
          "model_module_version": "1.5.0",
          "state": {
            "_dom_classes": [],
            "_model_module": "@jupyter-widgets/controls",
            "_model_module_version": "1.5.0",
            "_model_name": "HBoxModel",
            "_view_count": null,
            "_view_module": "@jupyter-widgets/controls",
            "_view_module_version": "1.5.0",
            "_view_name": "HBoxView",
            "box_style": "",
            "children": [
              "IPY_MODEL_299ef8a96d18446a8f3e8950ce964746",
              "IPY_MODEL_fac4b824061a4b36a9d5ba154f7ce184",
              "IPY_MODEL_b182f847f8674644862bca04e6f4c3dc"
            ],
            "layout": "IPY_MODEL_f5b4940e25194623be691b7ee2b1e0e9"
          }
        },
        "299ef8a96d18446a8f3e8950ce964746": {
          "model_module": "@jupyter-widgets/controls",
          "model_name": "HTMLModel",
          "model_module_version": "1.5.0",
          "state": {
            "_dom_classes": [],
            "_model_module": "@jupyter-widgets/controls",
            "_model_module_version": "1.5.0",
            "_model_name": "HTMLModel",
            "_view_count": null,
            "_view_module": "@jupyter-widgets/controls",
            "_view_module_version": "1.5.0",
            "_view_name": "HTMLView",
            "description": "",
            "description_tooltip": null,
            "layout": "IPY_MODEL_764dc922c4064d6a92834c9e7a420463",
            "placeholder": "​",
            "style": "IPY_MODEL_1d642befb5de4168833501fc340172bc",
            "value": "Filter: 100%"
          }
        },
        "fac4b824061a4b36a9d5ba154f7ce184": {
          "model_module": "@jupyter-widgets/controls",
          "model_name": "FloatProgressModel",
          "model_module_version": "1.5.0",
          "state": {
            "_dom_classes": [],
            "_model_module": "@jupyter-widgets/controls",
            "_model_module_version": "1.5.0",
            "_model_name": "FloatProgressModel",
            "_view_count": null,
            "_view_module": "@jupyter-widgets/controls",
            "_view_module_version": "1.5.0",
            "_view_name": "ProgressView",
            "bar_style": "success",
            "description": "",
            "description_tooltip": null,
            "layout": "IPY_MODEL_edf6990a553f4a39a7ed8da0cde264ff",
            "max": 45000,
            "min": 0,
            "orientation": "horizontal",
            "style": "IPY_MODEL_3207b0564c8142f290d57843c04bf503",
            "value": 45000
          }
        },
        "b182f847f8674644862bca04e6f4c3dc": {
          "model_module": "@jupyter-widgets/controls",
          "model_name": "HTMLModel",
          "model_module_version": "1.5.0",
          "state": {
            "_dom_classes": [],
            "_model_module": "@jupyter-widgets/controls",
            "_model_module_version": "1.5.0",
            "_model_name": "HTMLModel",
            "_view_count": null,
            "_view_module": "@jupyter-widgets/controls",
            "_view_module_version": "1.5.0",
            "_view_name": "HTMLView",
            "description": "",
            "description_tooltip": null,
            "layout": "IPY_MODEL_ab4eb8a309354ee1a73c3fec2acec916",
            "placeholder": "​",
            "style": "IPY_MODEL_65a0f7ce1639426bbc5e83fb3b6813c7",
            "value": " 45000/45000 [00:00&lt;00:00, 220643.86 examples/s]"
          }
        },
        "f5b4940e25194623be691b7ee2b1e0e9": {
          "model_module": "@jupyter-widgets/base",
          "model_name": "LayoutModel",
          "model_module_version": "1.2.0",
          "state": {
            "_model_module": "@jupyter-widgets/base",
            "_model_module_version": "1.2.0",
            "_model_name": "LayoutModel",
            "_view_count": null,
            "_view_module": "@jupyter-widgets/base",
            "_view_module_version": "1.2.0",
            "_view_name": "LayoutView",
            "align_content": null,
            "align_items": null,
            "align_self": null,
            "border": null,
            "bottom": null,
            "display": null,
            "flex": null,
            "flex_flow": null,
            "grid_area": null,
            "grid_auto_columns": null,
            "grid_auto_flow": null,
            "grid_auto_rows": null,
            "grid_column": null,
            "grid_gap": null,
            "grid_row": null,
            "grid_template_areas": null,
            "grid_template_columns": null,
            "grid_template_rows": null,
            "height": null,
            "justify_content": null,
            "justify_items": null,
            "left": null,
            "margin": null,
            "max_height": null,
            "max_width": null,
            "min_height": null,
            "min_width": null,
            "object_fit": null,
            "object_position": null,
            "order": null,
            "overflow": null,
            "overflow_x": null,
            "overflow_y": null,
            "padding": null,
            "right": null,
            "top": null,
            "visibility": null,
            "width": null
          }
        },
        "764dc922c4064d6a92834c9e7a420463": {
          "model_module": "@jupyter-widgets/base",
          "model_name": "LayoutModel",
          "model_module_version": "1.2.0",
          "state": {
            "_model_module": "@jupyter-widgets/base",
            "_model_module_version": "1.2.0",
            "_model_name": "LayoutModel",
            "_view_count": null,
            "_view_module": "@jupyter-widgets/base",
            "_view_module_version": "1.2.0",
            "_view_name": "LayoutView",
            "align_content": null,
            "align_items": null,
            "align_self": null,
            "border": null,
            "bottom": null,
            "display": null,
            "flex": null,
            "flex_flow": null,
            "grid_area": null,
            "grid_auto_columns": null,
            "grid_auto_flow": null,
            "grid_auto_rows": null,
            "grid_column": null,
            "grid_gap": null,
            "grid_row": null,
            "grid_template_areas": null,
            "grid_template_columns": null,
            "grid_template_rows": null,
            "height": null,
            "justify_content": null,
            "justify_items": null,
            "left": null,
            "margin": null,
            "max_height": null,
            "max_width": null,
            "min_height": null,
            "min_width": null,
            "object_fit": null,
            "object_position": null,
            "order": null,
            "overflow": null,
            "overflow_x": null,
            "overflow_y": null,
            "padding": null,
            "right": null,
            "top": null,
            "visibility": null,
            "width": null
          }
        },
        "1d642befb5de4168833501fc340172bc": {
          "model_module": "@jupyter-widgets/controls",
          "model_name": "DescriptionStyleModel",
          "model_module_version": "1.5.0",
          "state": {
            "_model_module": "@jupyter-widgets/controls",
            "_model_module_version": "1.5.0",
            "_model_name": "DescriptionStyleModel",
            "_view_count": null,
            "_view_module": "@jupyter-widgets/base",
            "_view_module_version": "1.2.0",
            "_view_name": "StyleView",
            "description_width": ""
          }
        },
        "edf6990a553f4a39a7ed8da0cde264ff": {
          "model_module": "@jupyter-widgets/base",
          "model_name": "LayoutModel",
          "model_module_version": "1.2.0",
          "state": {
            "_model_module": "@jupyter-widgets/base",
            "_model_module_version": "1.2.0",
            "_model_name": "LayoutModel",
            "_view_count": null,
            "_view_module": "@jupyter-widgets/base",
            "_view_module_version": "1.2.0",
            "_view_name": "LayoutView",
            "align_content": null,
            "align_items": null,
            "align_self": null,
            "border": null,
            "bottom": null,
            "display": null,
            "flex": null,
            "flex_flow": null,
            "grid_area": null,
            "grid_auto_columns": null,
            "grid_auto_flow": null,
            "grid_auto_rows": null,
            "grid_column": null,
            "grid_gap": null,
            "grid_row": null,
            "grid_template_areas": null,
            "grid_template_columns": null,
            "grid_template_rows": null,
            "height": null,
            "justify_content": null,
            "justify_items": null,
            "left": null,
            "margin": null,
            "max_height": null,
            "max_width": null,
            "min_height": null,
            "min_width": null,
            "object_fit": null,
            "object_position": null,
            "order": null,
            "overflow": null,
            "overflow_x": null,
            "overflow_y": null,
            "padding": null,
            "right": null,
            "top": null,
            "visibility": null,
            "width": null
          }
        },
        "3207b0564c8142f290d57843c04bf503": {
          "model_module": "@jupyter-widgets/controls",
          "model_name": "ProgressStyleModel",
          "model_module_version": "1.5.0",
          "state": {
            "_model_module": "@jupyter-widgets/controls",
            "_model_module_version": "1.5.0",
            "_model_name": "ProgressStyleModel",
            "_view_count": null,
            "_view_module": "@jupyter-widgets/base",
            "_view_module_version": "1.2.0",
            "_view_name": "StyleView",
            "bar_color": null,
            "description_width": ""
          }
        },
        "ab4eb8a309354ee1a73c3fec2acec916": {
          "model_module": "@jupyter-widgets/base",
          "model_name": "LayoutModel",
          "model_module_version": "1.2.0",
          "state": {
            "_model_module": "@jupyter-widgets/base",
            "_model_module_version": "1.2.0",
            "_model_name": "LayoutModel",
            "_view_count": null,
            "_view_module": "@jupyter-widgets/base",
            "_view_module_version": "1.2.0",
            "_view_name": "LayoutView",
            "align_content": null,
            "align_items": null,
            "align_self": null,
            "border": null,
            "bottom": null,
            "display": null,
            "flex": null,
            "flex_flow": null,
            "grid_area": null,
            "grid_auto_columns": null,
            "grid_auto_flow": null,
            "grid_auto_rows": null,
            "grid_column": null,
            "grid_gap": null,
            "grid_row": null,
            "grid_template_areas": null,
            "grid_template_columns": null,
            "grid_template_rows": null,
            "height": null,
            "justify_content": null,
            "justify_items": null,
            "left": null,
            "margin": null,
            "max_height": null,
            "max_width": null,
            "min_height": null,
            "min_width": null,
            "object_fit": null,
            "object_position": null,
            "order": null,
            "overflow": null,
            "overflow_x": null,
            "overflow_y": null,
            "padding": null,
            "right": null,
            "top": null,
            "visibility": null,
            "width": null
          }
        },
        "65a0f7ce1639426bbc5e83fb3b6813c7": {
          "model_module": "@jupyter-widgets/controls",
          "model_name": "DescriptionStyleModel",
          "model_module_version": "1.5.0",
          "state": {
            "_model_module": "@jupyter-widgets/controls",
            "_model_module_version": "1.5.0",
            "_model_name": "DescriptionStyleModel",
            "_view_count": null,
            "_view_module": "@jupyter-widgets/base",
            "_view_module_version": "1.2.0",
            "_view_name": "StyleView",
            "description_width": ""
          }
        },
        "fdedb21bef5b4a77b3d980a5b37ae432": {
          "model_module": "@jupyter-widgets/controls",
          "model_name": "HBoxModel",
          "model_module_version": "1.5.0",
          "state": {
            "_dom_classes": [],
            "_model_module": "@jupyter-widgets/controls",
            "_model_module_version": "1.5.0",
            "_model_name": "HBoxModel",
            "_view_count": null,
            "_view_module": "@jupyter-widgets/controls",
            "_view_module_version": "1.5.0",
            "_view_name": "HBoxView",
            "box_style": "",
            "children": [
              "IPY_MODEL_53cb3e32467748ada2c400ad71c39469",
              "IPY_MODEL_584c4cc913fb404ab4183a88588c672c",
              "IPY_MODEL_2ef3a20a9e244f48a35a80d21325c283"
            ],
            "layout": "IPY_MODEL_f57a37b563124272940876839b1944e1"
          }
        },
        "53cb3e32467748ada2c400ad71c39469": {
          "model_module": "@jupyter-widgets/controls",
          "model_name": "HTMLModel",
          "model_module_version": "1.5.0",
          "state": {
            "_dom_classes": [],
            "_model_module": "@jupyter-widgets/controls",
            "_model_module_version": "1.5.0",
            "_model_name": "HTMLModel",
            "_view_count": null,
            "_view_module": "@jupyter-widgets/controls",
            "_view_module_version": "1.5.0",
            "_view_name": "HTMLView",
            "description": "",
            "description_tooltip": null,
            "layout": "IPY_MODEL_a686b5a0d7954a89991025bf91288c8d",
            "placeholder": "​",
            "style": "IPY_MODEL_7fcf08a5e6344e3f9f2909338f009869",
            "value": "Map: 100%"
          }
        },
        "584c4cc913fb404ab4183a88588c672c": {
          "model_module": "@jupyter-widgets/controls",
          "model_name": "FloatProgressModel",
          "model_module_version": "1.5.0",
          "state": {
            "_dom_classes": [],
            "_model_module": "@jupyter-widgets/controls",
            "_model_module_version": "1.5.0",
            "_model_name": "FloatProgressModel",
            "_view_count": null,
            "_view_module": "@jupyter-widgets/controls",
            "_view_module_version": "1.5.0",
            "_view_name": "ProgressView",
            "bar_style": "success",
            "description": "",
            "description_tooltip": null,
            "layout": "IPY_MODEL_8c224abe915f47be84470102c688b74a",
            "max": 45000,
            "min": 0,
            "orientation": "horizontal",
            "style": "IPY_MODEL_44e71c65319e42d1a8649b8cd7d5a9a4",
            "value": 45000
          }
        },
        "2ef3a20a9e244f48a35a80d21325c283": {
          "model_module": "@jupyter-widgets/controls",
          "model_name": "HTMLModel",
          "model_module_version": "1.5.0",
          "state": {
            "_dom_classes": [],
            "_model_module": "@jupyter-widgets/controls",
            "_model_module_version": "1.5.0",
            "_model_name": "HTMLModel",
            "_view_count": null,
            "_view_module": "@jupyter-widgets/controls",
            "_view_module_version": "1.5.0",
            "_view_name": "HTMLView",
            "description": "",
            "description_tooltip": null,
            "layout": "IPY_MODEL_5c9d3cb6c8ac40aea974916d31705c6e",
            "placeholder": "​",
            "style": "IPY_MODEL_362863cfe3384bcfb5ac05fa5fd20380",
            "value": " 45000/45000 [00:02&lt;00:00, 21002.15 examples/s]"
          }
        },
        "f57a37b563124272940876839b1944e1": {
          "model_module": "@jupyter-widgets/base",
          "model_name": "LayoutModel",
          "model_module_version": "1.2.0",
          "state": {
            "_model_module": "@jupyter-widgets/base",
            "_model_module_version": "1.2.0",
            "_model_name": "LayoutModel",
            "_view_count": null,
            "_view_module": "@jupyter-widgets/base",
            "_view_module_version": "1.2.0",
            "_view_name": "LayoutView",
            "align_content": null,
            "align_items": null,
            "align_self": null,
            "border": null,
            "bottom": null,
            "display": null,
            "flex": null,
            "flex_flow": null,
            "grid_area": null,
            "grid_auto_columns": null,
            "grid_auto_flow": null,
            "grid_auto_rows": null,
            "grid_column": null,
            "grid_gap": null,
            "grid_row": null,
            "grid_template_areas": null,
            "grid_template_columns": null,
            "grid_template_rows": null,
            "height": null,
            "justify_content": null,
            "justify_items": null,
            "left": null,
            "margin": null,
            "max_height": null,
            "max_width": null,
            "min_height": null,
            "min_width": null,
            "object_fit": null,
            "object_position": null,
            "order": null,
            "overflow": null,
            "overflow_x": null,
            "overflow_y": null,
            "padding": null,
            "right": null,
            "top": null,
            "visibility": null,
            "width": null
          }
        },
        "a686b5a0d7954a89991025bf91288c8d": {
          "model_module": "@jupyter-widgets/base",
          "model_name": "LayoutModel",
          "model_module_version": "1.2.0",
          "state": {
            "_model_module": "@jupyter-widgets/base",
            "_model_module_version": "1.2.0",
            "_model_name": "LayoutModel",
            "_view_count": null,
            "_view_module": "@jupyter-widgets/base",
            "_view_module_version": "1.2.0",
            "_view_name": "LayoutView",
            "align_content": null,
            "align_items": null,
            "align_self": null,
            "border": null,
            "bottom": null,
            "display": null,
            "flex": null,
            "flex_flow": null,
            "grid_area": null,
            "grid_auto_columns": null,
            "grid_auto_flow": null,
            "grid_auto_rows": null,
            "grid_column": null,
            "grid_gap": null,
            "grid_row": null,
            "grid_template_areas": null,
            "grid_template_columns": null,
            "grid_template_rows": null,
            "height": null,
            "justify_content": null,
            "justify_items": null,
            "left": null,
            "margin": null,
            "max_height": null,
            "max_width": null,
            "min_height": null,
            "min_width": null,
            "object_fit": null,
            "object_position": null,
            "order": null,
            "overflow": null,
            "overflow_x": null,
            "overflow_y": null,
            "padding": null,
            "right": null,
            "top": null,
            "visibility": null,
            "width": null
          }
        },
        "7fcf08a5e6344e3f9f2909338f009869": {
          "model_module": "@jupyter-widgets/controls",
          "model_name": "DescriptionStyleModel",
          "model_module_version": "1.5.0",
          "state": {
            "_model_module": "@jupyter-widgets/controls",
            "_model_module_version": "1.5.0",
            "_model_name": "DescriptionStyleModel",
            "_view_count": null,
            "_view_module": "@jupyter-widgets/base",
            "_view_module_version": "1.2.0",
            "_view_name": "StyleView",
            "description_width": ""
          }
        },
        "8c224abe915f47be84470102c688b74a": {
          "model_module": "@jupyter-widgets/base",
          "model_name": "LayoutModel",
          "model_module_version": "1.2.0",
          "state": {
            "_model_module": "@jupyter-widgets/base",
            "_model_module_version": "1.2.0",
            "_model_name": "LayoutModel",
            "_view_count": null,
            "_view_module": "@jupyter-widgets/base",
            "_view_module_version": "1.2.0",
            "_view_name": "LayoutView",
            "align_content": null,
            "align_items": null,
            "align_self": null,
            "border": null,
            "bottom": null,
            "display": null,
            "flex": null,
            "flex_flow": null,
            "grid_area": null,
            "grid_auto_columns": null,
            "grid_auto_flow": null,
            "grid_auto_rows": null,
            "grid_column": null,
            "grid_gap": null,
            "grid_row": null,
            "grid_template_areas": null,
            "grid_template_columns": null,
            "grid_template_rows": null,
            "height": null,
            "justify_content": null,
            "justify_items": null,
            "left": null,
            "margin": null,
            "max_height": null,
            "max_width": null,
            "min_height": null,
            "min_width": null,
            "object_fit": null,
            "object_position": null,
            "order": null,
            "overflow": null,
            "overflow_x": null,
            "overflow_y": null,
            "padding": null,
            "right": null,
            "top": null,
            "visibility": null,
            "width": null
          }
        },
        "44e71c65319e42d1a8649b8cd7d5a9a4": {
          "model_module": "@jupyter-widgets/controls",
          "model_name": "ProgressStyleModel",
          "model_module_version": "1.5.0",
          "state": {
            "_model_module": "@jupyter-widgets/controls",
            "_model_module_version": "1.5.0",
            "_model_name": "ProgressStyleModel",
            "_view_count": null,
            "_view_module": "@jupyter-widgets/base",
            "_view_module_version": "1.2.0",
            "_view_name": "StyleView",
            "bar_color": null,
            "description_width": ""
          }
        },
        "5c9d3cb6c8ac40aea974916d31705c6e": {
          "model_module": "@jupyter-widgets/base",
          "model_name": "LayoutModel",
          "model_module_version": "1.2.0",
          "state": {
            "_model_module": "@jupyter-widgets/base",
            "_model_module_version": "1.2.0",
            "_model_name": "LayoutModel",
            "_view_count": null,
            "_view_module": "@jupyter-widgets/base",
            "_view_module_version": "1.2.0",
            "_view_name": "LayoutView",
            "align_content": null,
            "align_items": null,
            "align_self": null,
            "border": null,
            "bottom": null,
            "display": null,
            "flex": null,
            "flex_flow": null,
            "grid_area": null,
            "grid_auto_columns": null,
            "grid_auto_flow": null,
            "grid_auto_rows": null,
            "grid_column": null,
            "grid_gap": null,
            "grid_row": null,
            "grid_template_areas": null,
            "grid_template_columns": null,
            "grid_template_rows": null,
            "height": null,
            "justify_content": null,
            "justify_items": null,
            "left": null,
            "margin": null,
            "max_height": null,
            "max_width": null,
            "min_height": null,
            "min_width": null,
            "object_fit": null,
            "object_position": null,
            "order": null,
            "overflow": null,
            "overflow_x": null,
            "overflow_y": null,
            "padding": null,
            "right": null,
            "top": null,
            "visibility": null,
            "width": null
          }
        },
        "362863cfe3384bcfb5ac05fa5fd20380": {
          "model_module": "@jupyter-widgets/controls",
          "model_name": "DescriptionStyleModel",
          "model_module_version": "1.5.0",
          "state": {
            "_model_module": "@jupyter-widgets/controls",
            "_model_module_version": "1.5.0",
            "_model_name": "DescriptionStyleModel",
            "_view_count": null,
            "_view_module": "@jupyter-widgets/base",
            "_view_module_version": "1.2.0",
            "_view_name": "StyleView",
            "description_width": ""
          }
        },
        "dff38299e43843b081fb1ebbbbe8543d": {
          "model_module": "@jupyter-widgets/controls",
          "model_name": "HBoxModel",
          "model_module_version": "1.5.0",
          "state": {
            "_dom_classes": [],
            "_model_module": "@jupyter-widgets/controls",
            "_model_module_version": "1.5.0",
            "_model_name": "HBoxModel",
            "_view_count": null,
            "_view_module": "@jupyter-widgets/controls",
            "_view_module_version": "1.5.0",
            "_view_name": "HBoxView",
            "box_style": "",
            "children": [
              "IPY_MODEL_57778415a49e482ba435b5da6ed5989f",
              "IPY_MODEL_756563d5a1934cd89e75d6d53635f33f",
              "IPY_MODEL_7a0f350777d64f428a99ad61b58d12e4"
            ],
            "layout": "IPY_MODEL_8b5ad2f5273941e69722e6758c564ce6"
          }
        },
        "57778415a49e482ba435b5da6ed5989f": {
          "model_module": "@jupyter-widgets/controls",
          "model_name": "HTMLModel",
          "model_module_version": "1.5.0",
          "state": {
            "_dom_classes": [],
            "_model_module": "@jupyter-widgets/controls",
            "_model_module_version": "1.5.0",
            "_model_name": "HTMLModel",
            "_view_count": null,
            "_view_module": "@jupyter-widgets/controls",
            "_view_module_version": "1.5.0",
            "_view_name": "HTMLView",
            "description": "",
            "description_tooltip": null,
            "layout": "IPY_MODEL_a8db83fd920d4ffaa60e1ee50f7d0bba",
            "placeholder": "​",
            "style": "IPY_MODEL_11914203a3384e7e98e4aeddd2f80a5a",
            "value": "Map: 100%"
          }
        },
        "756563d5a1934cd89e75d6d53635f33f": {
          "model_module": "@jupyter-widgets/controls",
          "model_name": "FloatProgressModel",
          "model_module_version": "1.5.0",
          "state": {
            "_dom_classes": [],
            "_model_module": "@jupyter-widgets/controls",
            "_model_module_version": "1.5.0",
            "_model_name": "FloatProgressModel",
            "_view_count": null,
            "_view_module": "@jupyter-widgets/controls",
            "_view_module_version": "1.5.0",
            "_view_name": "ProgressView",
            "bar_style": "success",
            "description": "",
            "description_tooltip": null,
            "layout": "IPY_MODEL_0975b736e15948e8acfadc78d86ce9ce",
            "max": 50000,
            "min": 0,
            "orientation": "horizontal",
            "style": "IPY_MODEL_e32f9ba7b4474e989312eef3ef845a01",
            "value": 50000
          }
        },
        "7a0f350777d64f428a99ad61b58d12e4": {
          "model_module": "@jupyter-widgets/controls",
          "model_name": "HTMLModel",
          "model_module_version": "1.5.0",
          "state": {
            "_dom_classes": [],
            "_model_module": "@jupyter-widgets/controls",
            "_model_module_version": "1.5.0",
            "_model_name": "HTMLModel",
            "_view_count": null,
            "_view_module": "@jupyter-widgets/controls",
            "_view_module_version": "1.5.0",
            "_view_name": "HTMLView",
            "description": "",
            "description_tooltip": null,
            "layout": "IPY_MODEL_6fa17668331e4cc5a164d38468db694f",
            "placeholder": "​",
            "style": "IPY_MODEL_e90ae8c08a774f83b3ff6692cdaef468",
            "value": " 50000/50000 [00:02&lt;00:00, 21161.62 examples/s]"
          }
        },
        "8b5ad2f5273941e69722e6758c564ce6": {
          "model_module": "@jupyter-widgets/base",
          "model_name": "LayoutModel",
          "model_module_version": "1.2.0",
          "state": {
            "_model_module": "@jupyter-widgets/base",
            "_model_module_version": "1.2.0",
            "_model_name": "LayoutModel",
            "_view_count": null,
            "_view_module": "@jupyter-widgets/base",
            "_view_module_version": "1.2.0",
            "_view_name": "LayoutView",
            "align_content": null,
            "align_items": null,
            "align_self": null,
            "border": null,
            "bottom": null,
            "display": null,
            "flex": null,
            "flex_flow": null,
            "grid_area": null,
            "grid_auto_columns": null,
            "grid_auto_flow": null,
            "grid_auto_rows": null,
            "grid_column": null,
            "grid_gap": null,
            "grid_row": null,
            "grid_template_areas": null,
            "grid_template_columns": null,
            "grid_template_rows": null,
            "height": null,
            "justify_content": null,
            "justify_items": null,
            "left": null,
            "margin": null,
            "max_height": null,
            "max_width": null,
            "min_height": null,
            "min_width": null,
            "object_fit": null,
            "object_position": null,
            "order": null,
            "overflow": null,
            "overflow_x": null,
            "overflow_y": null,
            "padding": null,
            "right": null,
            "top": null,
            "visibility": null,
            "width": null
          }
        },
        "a8db83fd920d4ffaa60e1ee50f7d0bba": {
          "model_module": "@jupyter-widgets/base",
          "model_name": "LayoutModel",
          "model_module_version": "1.2.0",
          "state": {
            "_model_module": "@jupyter-widgets/base",
            "_model_module_version": "1.2.0",
            "_model_name": "LayoutModel",
            "_view_count": null,
            "_view_module": "@jupyter-widgets/base",
            "_view_module_version": "1.2.0",
            "_view_name": "LayoutView",
            "align_content": null,
            "align_items": null,
            "align_self": null,
            "border": null,
            "bottom": null,
            "display": null,
            "flex": null,
            "flex_flow": null,
            "grid_area": null,
            "grid_auto_columns": null,
            "grid_auto_flow": null,
            "grid_auto_rows": null,
            "grid_column": null,
            "grid_gap": null,
            "grid_row": null,
            "grid_template_areas": null,
            "grid_template_columns": null,
            "grid_template_rows": null,
            "height": null,
            "justify_content": null,
            "justify_items": null,
            "left": null,
            "margin": null,
            "max_height": null,
            "max_width": null,
            "min_height": null,
            "min_width": null,
            "object_fit": null,
            "object_position": null,
            "order": null,
            "overflow": null,
            "overflow_x": null,
            "overflow_y": null,
            "padding": null,
            "right": null,
            "top": null,
            "visibility": null,
            "width": null
          }
        },
        "11914203a3384e7e98e4aeddd2f80a5a": {
          "model_module": "@jupyter-widgets/controls",
          "model_name": "DescriptionStyleModel",
          "model_module_version": "1.5.0",
          "state": {
            "_model_module": "@jupyter-widgets/controls",
            "_model_module_version": "1.5.0",
            "_model_name": "DescriptionStyleModel",
            "_view_count": null,
            "_view_module": "@jupyter-widgets/base",
            "_view_module_version": "1.2.0",
            "_view_name": "StyleView",
            "description_width": ""
          }
        },
        "0975b736e15948e8acfadc78d86ce9ce": {
          "model_module": "@jupyter-widgets/base",
          "model_name": "LayoutModel",
          "model_module_version": "1.2.0",
          "state": {
            "_model_module": "@jupyter-widgets/base",
            "_model_module_version": "1.2.0",
            "_model_name": "LayoutModel",
            "_view_count": null,
            "_view_module": "@jupyter-widgets/base",
            "_view_module_version": "1.2.0",
            "_view_name": "LayoutView",
            "align_content": null,
            "align_items": null,
            "align_self": null,
            "border": null,
            "bottom": null,
            "display": null,
            "flex": null,
            "flex_flow": null,
            "grid_area": null,
            "grid_auto_columns": null,
            "grid_auto_flow": null,
            "grid_auto_rows": null,
            "grid_column": null,
            "grid_gap": null,
            "grid_row": null,
            "grid_template_areas": null,
            "grid_template_columns": null,
            "grid_template_rows": null,
            "height": null,
            "justify_content": null,
            "justify_items": null,
            "left": null,
            "margin": null,
            "max_height": null,
            "max_width": null,
            "min_height": null,
            "min_width": null,
            "object_fit": null,
            "object_position": null,
            "order": null,
            "overflow": null,
            "overflow_x": null,
            "overflow_y": null,
            "padding": null,
            "right": null,
            "top": null,
            "visibility": null,
            "width": null
          }
        },
        "e32f9ba7b4474e989312eef3ef845a01": {
          "model_module": "@jupyter-widgets/controls",
          "model_name": "ProgressStyleModel",
          "model_module_version": "1.5.0",
          "state": {
            "_model_module": "@jupyter-widgets/controls",
            "_model_module_version": "1.5.0",
            "_model_name": "ProgressStyleModel",
            "_view_count": null,
            "_view_module": "@jupyter-widgets/base",
            "_view_module_version": "1.2.0",
            "_view_name": "StyleView",
            "bar_color": null,
            "description_width": ""
          }
        },
        "6fa17668331e4cc5a164d38468db694f": {
          "model_module": "@jupyter-widgets/base",
          "model_name": "LayoutModel",
          "model_module_version": "1.2.0",
          "state": {
            "_model_module": "@jupyter-widgets/base",
            "_model_module_version": "1.2.0",
            "_model_name": "LayoutModel",
            "_view_count": null,
            "_view_module": "@jupyter-widgets/base",
            "_view_module_version": "1.2.0",
            "_view_name": "LayoutView",
            "align_content": null,
            "align_items": null,
            "align_self": null,
            "border": null,
            "bottom": null,
            "display": null,
            "flex": null,
            "flex_flow": null,
            "grid_area": null,
            "grid_auto_columns": null,
            "grid_auto_flow": null,
            "grid_auto_rows": null,
            "grid_column": null,
            "grid_gap": null,
            "grid_row": null,
            "grid_template_areas": null,
            "grid_template_columns": null,
            "grid_template_rows": null,
            "height": null,
            "justify_content": null,
            "justify_items": null,
            "left": null,
            "margin": null,
            "max_height": null,
            "max_width": null,
            "min_height": null,
            "min_width": null,
            "object_fit": null,
            "object_position": null,
            "order": null,
            "overflow": null,
            "overflow_x": null,
            "overflow_y": null,
            "padding": null,
            "right": null,
            "top": null,
            "visibility": null,
            "width": null
          }
        },
        "e90ae8c08a774f83b3ff6692cdaef468": {
          "model_module": "@jupyter-widgets/controls",
          "model_name": "DescriptionStyleModel",
          "model_module_version": "1.5.0",
          "state": {
            "_model_module": "@jupyter-widgets/controls",
            "_model_module_version": "1.5.0",
            "_model_name": "DescriptionStyleModel",
            "_view_count": null,
            "_view_module": "@jupyter-widgets/base",
            "_view_module_version": "1.2.0",
            "_view_name": "StyleView",
            "description_width": ""
          }
        },
        "32c2df3155e0452187724769ae9bbd9a": {
          "model_module": "@jupyter-widgets/controls",
          "model_name": "HBoxModel",
          "model_module_version": "1.5.0",
          "state": {
            "_dom_classes": [],
            "_model_module": "@jupyter-widgets/controls",
            "_model_module_version": "1.5.0",
            "_model_name": "HBoxModel",
            "_view_count": null,
            "_view_module": "@jupyter-widgets/controls",
            "_view_module_version": "1.5.0",
            "_view_name": "HBoxView",
            "box_style": "",
            "children": [
              "IPY_MODEL_ef76f8caa97342318cf5927a58b9df48",
              "IPY_MODEL_d1697b92552e4c01b1ab79d76f1b316f",
              "IPY_MODEL_3ca660a09bf64c378a7eaa70fdba2473"
            ],
            "layout": "IPY_MODEL_81c33b2043f149b5a6189846b1d0b602"
          }
        },
        "ef76f8caa97342318cf5927a58b9df48": {
          "model_module": "@jupyter-widgets/controls",
          "model_name": "HTMLModel",
          "model_module_version": "1.5.0",
          "state": {
            "_dom_classes": [],
            "_model_module": "@jupyter-widgets/controls",
            "_model_module_version": "1.5.0",
            "_model_name": "HTMLModel",
            "_view_count": null,
            "_view_module": "@jupyter-widgets/controls",
            "_view_module_version": "1.5.0",
            "_view_name": "HTMLView",
            "description": "",
            "description_tooltip": null,
            "layout": "IPY_MODEL_1f266099611843cc9fa53f785b96d247",
            "placeholder": "​",
            "style": "IPY_MODEL_ba596d58d079425f834f6b4699ec16fc",
            "value": "Map: 100%"
          }
        },
        "d1697b92552e4c01b1ab79d76f1b316f": {
          "model_module": "@jupyter-widgets/controls",
          "model_name": "FloatProgressModel",
          "model_module_version": "1.5.0",
          "state": {
            "_dom_classes": [],
            "_model_module": "@jupyter-widgets/controls",
            "_model_module_version": "1.5.0",
            "_model_name": "FloatProgressModel",
            "_view_count": null,
            "_view_module": "@jupyter-widgets/controls",
            "_view_module_version": "1.5.0",
            "_view_name": "ProgressView",
            "bar_style": "success",
            "description": "",
            "description_tooltip": null,
            "layout": "IPY_MODEL_4cd11b9752f64ca28f3ccbe3768044cc",
            "max": 5000,
            "min": 0,
            "orientation": "horizontal",
            "style": "IPY_MODEL_df650884930d4002868f18d66ce98e57",
            "value": 5000
          }
        },
        "3ca660a09bf64c378a7eaa70fdba2473": {
          "model_module": "@jupyter-widgets/controls",
          "model_name": "HTMLModel",
          "model_module_version": "1.5.0",
          "state": {
            "_dom_classes": [],
            "_model_module": "@jupyter-widgets/controls",
            "_model_module_version": "1.5.0",
            "_model_name": "HTMLModel",
            "_view_count": null,
            "_view_module": "@jupyter-widgets/controls",
            "_view_module_version": "1.5.0",
            "_view_name": "HTMLView",
            "description": "",
            "description_tooltip": null,
            "layout": "IPY_MODEL_491f1f6270a54ce7a3f971b62a385c98",
            "placeholder": "​",
            "style": "IPY_MODEL_4dc58b6fa77b4f6b95776b02e09e94e1",
            "value": " 5000/5000 [00:00&lt;00:00, 17810.71 examples/s]"
          }
        },
        "81c33b2043f149b5a6189846b1d0b602": {
          "model_module": "@jupyter-widgets/base",
          "model_name": "LayoutModel",
          "model_module_version": "1.2.0",
          "state": {
            "_model_module": "@jupyter-widgets/base",
            "_model_module_version": "1.2.0",
            "_model_name": "LayoutModel",
            "_view_count": null,
            "_view_module": "@jupyter-widgets/base",
            "_view_module_version": "1.2.0",
            "_view_name": "LayoutView",
            "align_content": null,
            "align_items": null,
            "align_self": null,
            "border": null,
            "bottom": null,
            "display": null,
            "flex": null,
            "flex_flow": null,
            "grid_area": null,
            "grid_auto_columns": null,
            "grid_auto_flow": null,
            "grid_auto_rows": null,
            "grid_column": null,
            "grid_gap": null,
            "grid_row": null,
            "grid_template_areas": null,
            "grid_template_columns": null,
            "grid_template_rows": null,
            "height": null,
            "justify_content": null,
            "justify_items": null,
            "left": null,
            "margin": null,
            "max_height": null,
            "max_width": null,
            "min_height": null,
            "min_width": null,
            "object_fit": null,
            "object_position": null,
            "order": null,
            "overflow": null,
            "overflow_x": null,
            "overflow_y": null,
            "padding": null,
            "right": null,
            "top": null,
            "visibility": null,
            "width": null
          }
        },
        "1f266099611843cc9fa53f785b96d247": {
          "model_module": "@jupyter-widgets/base",
          "model_name": "LayoutModel",
          "model_module_version": "1.2.0",
          "state": {
            "_model_module": "@jupyter-widgets/base",
            "_model_module_version": "1.2.0",
            "_model_name": "LayoutModel",
            "_view_count": null,
            "_view_module": "@jupyter-widgets/base",
            "_view_module_version": "1.2.0",
            "_view_name": "LayoutView",
            "align_content": null,
            "align_items": null,
            "align_self": null,
            "border": null,
            "bottom": null,
            "display": null,
            "flex": null,
            "flex_flow": null,
            "grid_area": null,
            "grid_auto_columns": null,
            "grid_auto_flow": null,
            "grid_auto_rows": null,
            "grid_column": null,
            "grid_gap": null,
            "grid_row": null,
            "grid_template_areas": null,
            "grid_template_columns": null,
            "grid_template_rows": null,
            "height": null,
            "justify_content": null,
            "justify_items": null,
            "left": null,
            "margin": null,
            "max_height": null,
            "max_width": null,
            "min_height": null,
            "min_width": null,
            "object_fit": null,
            "object_position": null,
            "order": null,
            "overflow": null,
            "overflow_x": null,
            "overflow_y": null,
            "padding": null,
            "right": null,
            "top": null,
            "visibility": null,
            "width": null
          }
        },
        "ba596d58d079425f834f6b4699ec16fc": {
          "model_module": "@jupyter-widgets/controls",
          "model_name": "DescriptionStyleModel",
          "model_module_version": "1.5.0",
          "state": {
            "_model_module": "@jupyter-widgets/controls",
            "_model_module_version": "1.5.0",
            "_model_name": "DescriptionStyleModel",
            "_view_count": null,
            "_view_module": "@jupyter-widgets/base",
            "_view_module_version": "1.2.0",
            "_view_name": "StyleView",
            "description_width": ""
          }
        },
        "4cd11b9752f64ca28f3ccbe3768044cc": {
          "model_module": "@jupyter-widgets/base",
          "model_name": "LayoutModel",
          "model_module_version": "1.2.0",
          "state": {
            "_model_module": "@jupyter-widgets/base",
            "_model_module_version": "1.2.0",
            "_model_name": "LayoutModel",
            "_view_count": null,
            "_view_module": "@jupyter-widgets/base",
            "_view_module_version": "1.2.0",
            "_view_name": "LayoutView",
            "align_content": null,
            "align_items": null,
            "align_self": null,
            "border": null,
            "bottom": null,
            "display": null,
            "flex": null,
            "flex_flow": null,
            "grid_area": null,
            "grid_auto_columns": null,
            "grid_auto_flow": null,
            "grid_auto_rows": null,
            "grid_column": null,
            "grid_gap": null,
            "grid_row": null,
            "grid_template_areas": null,
            "grid_template_columns": null,
            "grid_template_rows": null,
            "height": null,
            "justify_content": null,
            "justify_items": null,
            "left": null,
            "margin": null,
            "max_height": null,
            "max_width": null,
            "min_height": null,
            "min_width": null,
            "object_fit": null,
            "object_position": null,
            "order": null,
            "overflow": null,
            "overflow_x": null,
            "overflow_y": null,
            "padding": null,
            "right": null,
            "top": null,
            "visibility": null,
            "width": null
          }
        },
        "df650884930d4002868f18d66ce98e57": {
          "model_module": "@jupyter-widgets/controls",
          "model_name": "ProgressStyleModel",
          "model_module_version": "1.5.0",
          "state": {
            "_model_module": "@jupyter-widgets/controls",
            "_model_module_version": "1.5.0",
            "_model_name": "ProgressStyleModel",
            "_view_count": null,
            "_view_module": "@jupyter-widgets/base",
            "_view_module_version": "1.2.0",
            "_view_name": "StyleView",
            "bar_color": null,
            "description_width": ""
          }
        },
        "491f1f6270a54ce7a3f971b62a385c98": {
          "model_module": "@jupyter-widgets/base",
          "model_name": "LayoutModel",
          "model_module_version": "1.2.0",
          "state": {
            "_model_module": "@jupyter-widgets/base",
            "_model_module_version": "1.2.0",
            "_model_name": "LayoutModel",
            "_view_count": null,
            "_view_module": "@jupyter-widgets/base",
            "_view_module_version": "1.2.0",
            "_view_name": "LayoutView",
            "align_content": null,
            "align_items": null,
            "align_self": null,
            "border": null,
            "bottom": null,
            "display": null,
            "flex": null,
            "flex_flow": null,
            "grid_area": null,
            "grid_auto_columns": null,
            "grid_auto_flow": null,
            "grid_auto_rows": null,
            "grid_column": null,
            "grid_gap": null,
            "grid_row": null,
            "grid_template_areas": null,
            "grid_template_columns": null,
            "grid_template_rows": null,
            "height": null,
            "justify_content": null,
            "justify_items": null,
            "left": null,
            "margin": null,
            "max_height": null,
            "max_width": null,
            "min_height": null,
            "min_width": null,
            "object_fit": null,
            "object_position": null,
            "order": null,
            "overflow": null,
            "overflow_x": null,
            "overflow_y": null,
            "padding": null,
            "right": null,
            "top": null,
            "visibility": null,
            "width": null
          }
        },
        "4dc58b6fa77b4f6b95776b02e09e94e1": {
          "model_module": "@jupyter-widgets/controls",
          "model_name": "DescriptionStyleModel",
          "model_module_version": "1.5.0",
          "state": {
            "_model_module": "@jupyter-widgets/controls",
            "_model_module_version": "1.5.0",
            "_model_name": "DescriptionStyleModel",
            "_view_count": null,
            "_view_module": "@jupyter-widgets/base",
            "_view_module_version": "1.2.0",
            "_view_name": "StyleView",
            "description_width": ""
          }
        },
        "ccf32b1b62a6405fba59398ff3aae885": {
          "model_module": "@jupyter-widgets/controls",
          "model_name": "HBoxModel",
          "model_module_version": "1.5.0",
          "state": {
            "_dom_classes": [],
            "_model_module": "@jupyter-widgets/controls",
            "_model_module_version": "1.5.0",
            "_model_name": "HBoxModel",
            "_view_count": null,
            "_view_module": "@jupyter-widgets/controls",
            "_view_module_version": "1.5.0",
            "_view_name": "HBoxView",
            "box_style": "",
            "children": [
              "IPY_MODEL_925bd68cc2c64a968822aa81f2053255",
              "IPY_MODEL_1983b1179ef54a97b847b78fe695b2d4",
              "IPY_MODEL_7a889e94289747a9ae53f51243f0525c"
            ],
            "layout": "IPY_MODEL_02db1a7dc0fa4620b4667f382a20b824"
          }
        },
        "925bd68cc2c64a968822aa81f2053255": {
          "model_module": "@jupyter-widgets/controls",
          "model_name": "HTMLModel",
          "model_module_version": "1.5.0",
          "state": {
            "_dom_classes": [],
            "_model_module": "@jupyter-widgets/controls",
            "_model_module_version": "1.5.0",
            "_model_name": "HTMLModel",
            "_view_count": null,
            "_view_module": "@jupyter-widgets/controls",
            "_view_module_version": "1.5.0",
            "_view_name": "HTMLView",
            "description": "",
            "description_tooltip": null,
            "layout": "IPY_MODEL_551938b8a7424b6aba8c4aeb472dcee6",
            "placeholder": "​",
            "style": "IPY_MODEL_c70485e823ee4792aa65eec14a5877ad",
            "value": "Map: 100%"
          }
        },
        "1983b1179ef54a97b847b78fe695b2d4": {
          "model_module": "@jupyter-widgets/controls",
          "model_name": "FloatProgressModel",
          "model_module_version": "1.5.0",
          "state": {
            "_dom_classes": [],
            "_model_module": "@jupyter-widgets/controls",
            "_model_module_version": "1.5.0",
            "_model_name": "FloatProgressModel",
            "_view_count": null,
            "_view_module": "@jupyter-widgets/controls",
            "_view_module_version": "1.5.0",
            "_view_name": "ProgressView",
            "bar_style": "success",
            "description": "",
            "description_tooltip": null,
            "layout": "IPY_MODEL_367ab753dff945b8b8bea72123685b07",
            "max": 45000,
            "min": 0,
            "orientation": "horizontal",
            "style": "IPY_MODEL_25c835b9e04f40359b3dc4c48304ff06",
            "value": 45000
          }
        },
        "7a889e94289747a9ae53f51243f0525c": {
          "model_module": "@jupyter-widgets/controls",
          "model_name": "HTMLModel",
          "model_module_version": "1.5.0",
          "state": {
            "_dom_classes": [],
            "_model_module": "@jupyter-widgets/controls",
            "_model_module_version": "1.5.0",
            "_model_name": "HTMLModel",
            "_view_count": null,
            "_view_module": "@jupyter-widgets/controls",
            "_view_module_version": "1.5.0",
            "_view_name": "HTMLView",
            "description": "",
            "description_tooltip": null,
            "layout": "IPY_MODEL_e77a6975084d453eafe6c8c17a97ec69",
            "placeholder": "​",
            "style": "IPY_MODEL_2a4b1ff8ee8943bbab08b7f330c79775",
            "value": " 45000/45000 [00:05&lt;00:00, 7698.01 examples/s]"
          }
        },
        "02db1a7dc0fa4620b4667f382a20b824": {
          "model_module": "@jupyter-widgets/base",
          "model_name": "LayoutModel",
          "model_module_version": "1.2.0",
          "state": {
            "_model_module": "@jupyter-widgets/base",
            "_model_module_version": "1.2.0",
            "_model_name": "LayoutModel",
            "_view_count": null,
            "_view_module": "@jupyter-widgets/base",
            "_view_module_version": "1.2.0",
            "_view_name": "LayoutView",
            "align_content": null,
            "align_items": null,
            "align_self": null,
            "border": null,
            "bottom": null,
            "display": null,
            "flex": null,
            "flex_flow": null,
            "grid_area": null,
            "grid_auto_columns": null,
            "grid_auto_flow": null,
            "grid_auto_rows": null,
            "grid_column": null,
            "grid_gap": null,
            "grid_row": null,
            "grid_template_areas": null,
            "grid_template_columns": null,
            "grid_template_rows": null,
            "height": null,
            "justify_content": null,
            "justify_items": null,
            "left": null,
            "margin": null,
            "max_height": null,
            "max_width": null,
            "min_height": null,
            "min_width": null,
            "object_fit": null,
            "object_position": null,
            "order": null,
            "overflow": null,
            "overflow_x": null,
            "overflow_y": null,
            "padding": null,
            "right": null,
            "top": null,
            "visibility": null,
            "width": null
          }
        },
        "551938b8a7424b6aba8c4aeb472dcee6": {
          "model_module": "@jupyter-widgets/base",
          "model_name": "LayoutModel",
          "model_module_version": "1.2.0",
          "state": {
            "_model_module": "@jupyter-widgets/base",
            "_model_module_version": "1.2.0",
            "_model_name": "LayoutModel",
            "_view_count": null,
            "_view_module": "@jupyter-widgets/base",
            "_view_module_version": "1.2.0",
            "_view_name": "LayoutView",
            "align_content": null,
            "align_items": null,
            "align_self": null,
            "border": null,
            "bottom": null,
            "display": null,
            "flex": null,
            "flex_flow": null,
            "grid_area": null,
            "grid_auto_columns": null,
            "grid_auto_flow": null,
            "grid_auto_rows": null,
            "grid_column": null,
            "grid_gap": null,
            "grid_row": null,
            "grid_template_areas": null,
            "grid_template_columns": null,
            "grid_template_rows": null,
            "height": null,
            "justify_content": null,
            "justify_items": null,
            "left": null,
            "margin": null,
            "max_height": null,
            "max_width": null,
            "min_height": null,
            "min_width": null,
            "object_fit": null,
            "object_position": null,
            "order": null,
            "overflow": null,
            "overflow_x": null,
            "overflow_y": null,
            "padding": null,
            "right": null,
            "top": null,
            "visibility": null,
            "width": null
          }
        },
        "c70485e823ee4792aa65eec14a5877ad": {
          "model_module": "@jupyter-widgets/controls",
          "model_name": "DescriptionStyleModel",
          "model_module_version": "1.5.0",
          "state": {
            "_model_module": "@jupyter-widgets/controls",
            "_model_module_version": "1.5.0",
            "_model_name": "DescriptionStyleModel",
            "_view_count": null,
            "_view_module": "@jupyter-widgets/base",
            "_view_module_version": "1.2.0",
            "_view_name": "StyleView",
            "description_width": ""
          }
        },
        "367ab753dff945b8b8bea72123685b07": {
          "model_module": "@jupyter-widgets/base",
          "model_name": "LayoutModel",
          "model_module_version": "1.2.0",
          "state": {
            "_model_module": "@jupyter-widgets/base",
            "_model_module_version": "1.2.0",
            "_model_name": "LayoutModel",
            "_view_count": null,
            "_view_module": "@jupyter-widgets/base",
            "_view_module_version": "1.2.0",
            "_view_name": "LayoutView",
            "align_content": null,
            "align_items": null,
            "align_self": null,
            "border": null,
            "bottom": null,
            "display": null,
            "flex": null,
            "flex_flow": null,
            "grid_area": null,
            "grid_auto_columns": null,
            "grid_auto_flow": null,
            "grid_auto_rows": null,
            "grid_column": null,
            "grid_gap": null,
            "grid_row": null,
            "grid_template_areas": null,
            "grid_template_columns": null,
            "grid_template_rows": null,
            "height": null,
            "justify_content": null,
            "justify_items": null,
            "left": null,
            "margin": null,
            "max_height": null,
            "max_width": null,
            "min_height": null,
            "min_width": null,
            "object_fit": null,
            "object_position": null,
            "order": null,
            "overflow": null,
            "overflow_x": null,
            "overflow_y": null,
            "padding": null,
            "right": null,
            "top": null,
            "visibility": null,
            "width": null
          }
        },
        "25c835b9e04f40359b3dc4c48304ff06": {
          "model_module": "@jupyter-widgets/controls",
          "model_name": "ProgressStyleModel",
          "model_module_version": "1.5.0",
          "state": {
            "_model_module": "@jupyter-widgets/controls",
            "_model_module_version": "1.5.0",
            "_model_name": "ProgressStyleModel",
            "_view_count": null,
            "_view_module": "@jupyter-widgets/base",
            "_view_module_version": "1.2.0",
            "_view_name": "StyleView",
            "bar_color": null,
            "description_width": ""
          }
        },
        "e77a6975084d453eafe6c8c17a97ec69": {
          "model_module": "@jupyter-widgets/base",
          "model_name": "LayoutModel",
          "model_module_version": "1.2.0",
          "state": {
            "_model_module": "@jupyter-widgets/base",
            "_model_module_version": "1.2.0",
            "_model_name": "LayoutModel",
            "_view_count": null,
            "_view_module": "@jupyter-widgets/base",
            "_view_module_version": "1.2.0",
            "_view_name": "LayoutView",
            "align_content": null,
            "align_items": null,
            "align_self": null,
            "border": null,
            "bottom": null,
            "display": null,
            "flex": null,
            "flex_flow": null,
            "grid_area": null,
            "grid_auto_columns": null,
            "grid_auto_flow": null,
            "grid_auto_rows": null,
            "grid_column": null,
            "grid_gap": null,
            "grid_row": null,
            "grid_template_areas": null,
            "grid_template_columns": null,
            "grid_template_rows": null,
            "height": null,
            "justify_content": null,
            "justify_items": null,
            "left": null,
            "margin": null,
            "max_height": null,
            "max_width": null,
            "min_height": null,
            "min_width": null,
            "object_fit": null,
            "object_position": null,
            "order": null,
            "overflow": null,
            "overflow_x": null,
            "overflow_y": null,
            "padding": null,
            "right": null,
            "top": null,
            "visibility": null,
            "width": null
          }
        },
        "2a4b1ff8ee8943bbab08b7f330c79775": {
          "model_module": "@jupyter-widgets/controls",
          "model_name": "DescriptionStyleModel",
          "model_module_version": "1.5.0",
          "state": {
            "_model_module": "@jupyter-widgets/controls",
            "_model_module_version": "1.5.0",
            "_model_name": "DescriptionStyleModel",
            "_view_count": null,
            "_view_module": "@jupyter-widgets/base",
            "_view_module_version": "1.2.0",
            "_view_name": "StyleView",
            "description_width": ""
          }
        },
        "2811eab4f0994e57a49fa2643b3a587e": {
          "model_module": "@jupyter-widgets/controls",
          "model_name": "HBoxModel",
          "model_module_version": "1.5.0",
          "state": {
            "_dom_classes": [],
            "_model_module": "@jupyter-widgets/controls",
            "_model_module_version": "1.5.0",
            "_model_name": "HBoxModel",
            "_view_count": null,
            "_view_module": "@jupyter-widgets/controls",
            "_view_module_version": "1.5.0",
            "_view_name": "HBoxView",
            "box_style": "",
            "children": [
              "IPY_MODEL_7b87acab729445eabd0bbf4ee0a4326d",
              "IPY_MODEL_fc0e7d6dd6f24cd790e986d83ed105ab",
              "IPY_MODEL_846c794626544eb398d045f74de3339b"
            ],
            "layout": "IPY_MODEL_a761fb68a1ba43629e97a8fc5dc4ce65"
          }
        },
        "7b87acab729445eabd0bbf4ee0a4326d": {
          "model_module": "@jupyter-widgets/controls",
          "model_name": "HTMLModel",
          "model_module_version": "1.5.0",
          "state": {
            "_dom_classes": [],
            "_model_module": "@jupyter-widgets/controls",
            "_model_module_version": "1.5.0",
            "_model_name": "HTMLModel",
            "_view_count": null,
            "_view_module": "@jupyter-widgets/controls",
            "_view_module_version": "1.5.0",
            "_view_name": "HTMLView",
            "description": "",
            "description_tooltip": null,
            "layout": "IPY_MODEL_492bf3a6fb1d456ea2f801a3d81fef92",
            "placeholder": "​",
            "style": "IPY_MODEL_d0df307a37e84a50bc46760b025d3230",
            "value": "Map: 100%"
          }
        },
        "fc0e7d6dd6f24cd790e986d83ed105ab": {
          "model_module": "@jupyter-widgets/controls",
          "model_name": "FloatProgressModel",
          "model_module_version": "1.5.0",
          "state": {
            "_dom_classes": [],
            "_model_module": "@jupyter-widgets/controls",
            "_model_module_version": "1.5.0",
            "_model_name": "FloatProgressModel",
            "_view_count": null,
            "_view_module": "@jupyter-widgets/controls",
            "_view_module_version": "1.5.0",
            "_view_name": "ProgressView",
            "bar_style": "success",
            "description": "",
            "description_tooltip": null,
            "layout": "IPY_MODEL_702b679c3ee54ae3a4ad77c10c07c3c3",
            "max": 50000,
            "min": 0,
            "orientation": "horizontal",
            "style": "IPY_MODEL_7b5c3546d94f483396890a55b5f10227",
            "value": 50000
          }
        },
        "846c794626544eb398d045f74de3339b": {
          "model_module": "@jupyter-widgets/controls",
          "model_name": "HTMLModel",
          "model_module_version": "1.5.0",
          "state": {
            "_dom_classes": [],
            "_model_module": "@jupyter-widgets/controls",
            "_model_module_version": "1.5.0",
            "_model_name": "HTMLModel",
            "_view_count": null,
            "_view_module": "@jupyter-widgets/controls",
            "_view_module_version": "1.5.0",
            "_view_name": "HTMLView",
            "description": "",
            "description_tooltip": null,
            "layout": "IPY_MODEL_37f184ae29344b1f908407fefa25a110",
            "placeholder": "​",
            "style": "IPY_MODEL_41a76b1e7c734ba3b671e26b1b174b76",
            "value": " 50000/50000 [00:05&lt;00:00, 8814.38 examples/s]"
          }
        },
        "a761fb68a1ba43629e97a8fc5dc4ce65": {
          "model_module": "@jupyter-widgets/base",
          "model_name": "LayoutModel",
          "model_module_version": "1.2.0",
          "state": {
            "_model_module": "@jupyter-widgets/base",
            "_model_module_version": "1.2.0",
            "_model_name": "LayoutModel",
            "_view_count": null,
            "_view_module": "@jupyter-widgets/base",
            "_view_module_version": "1.2.0",
            "_view_name": "LayoutView",
            "align_content": null,
            "align_items": null,
            "align_self": null,
            "border": null,
            "bottom": null,
            "display": null,
            "flex": null,
            "flex_flow": null,
            "grid_area": null,
            "grid_auto_columns": null,
            "grid_auto_flow": null,
            "grid_auto_rows": null,
            "grid_column": null,
            "grid_gap": null,
            "grid_row": null,
            "grid_template_areas": null,
            "grid_template_columns": null,
            "grid_template_rows": null,
            "height": null,
            "justify_content": null,
            "justify_items": null,
            "left": null,
            "margin": null,
            "max_height": null,
            "max_width": null,
            "min_height": null,
            "min_width": null,
            "object_fit": null,
            "object_position": null,
            "order": null,
            "overflow": null,
            "overflow_x": null,
            "overflow_y": null,
            "padding": null,
            "right": null,
            "top": null,
            "visibility": null,
            "width": null
          }
        },
        "492bf3a6fb1d456ea2f801a3d81fef92": {
          "model_module": "@jupyter-widgets/base",
          "model_name": "LayoutModel",
          "model_module_version": "1.2.0",
          "state": {
            "_model_module": "@jupyter-widgets/base",
            "_model_module_version": "1.2.0",
            "_model_name": "LayoutModel",
            "_view_count": null,
            "_view_module": "@jupyter-widgets/base",
            "_view_module_version": "1.2.0",
            "_view_name": "LayoutView",
            "align_content": null,
            "align_items": null,
            "align_self": null,
            "border": null,
            "bottom": null,
            "display": null,
            "flex": null,
            "flex_flow": null,
            "grid_area": null,
            "grid_auto_columns": null,
            "grid_auto_flow": null,
            "grid_auto_rows": null,
            "grid_column": null,
            "grid_gap": null,
            "grid_row": null,
            "grid_template_areas": null,
            "grid_template_columns": null,
            "grid_template_rows": null,
            "height": null,
            "justify_content": null,
            "justify_items": null,
            "left": null,
            "margin": null,
            "max_height": null,
            "max_width": null,
            "min_height": null,
            "min_width": null,
            "object_fit": null,
            "object_position": null,
            "order": null,
            "overflow": null,
            "overflow_x": null,
            "overflow_y": null,
            "padding": null,
            "right": null,
            "top": null,
            "visibility": null,
            "width": null
          }
        },
        "d0df307a37e84a50bc46760b025d3230": {
          "model_module": "@jupyter-widgets/controls",
          "model_name": "DescriptionStyleModel",
          "model_module_version": "1.5.0",
          "state": {
            "_model_module": "@jupyter-widgets/controls",
            "_model_module_version": "1.5.0",
            "_model_name": "DescriptionStyleModel",
            "_view_count": null,
            "_view_module": "@jupyter-widgets/base",
            "_view_module_version": "1.2.0",
            "_view_name": "StyleView",
            "description_width": ""
          }
        },
        "702b679c3ee54ae3a4ad77c10c07c3c3": {
          "model_module": "@jupyter-widgets/base",
          "model_name": "LayoutModel",
          "model_module_version": "1.2.0",
          "state": {
            "_model_module": "@jupyter-widgets/base",
            "_model_module_version": "1.2.0",
            "_model_name": "LayoutModel",
            "_view_count": null,
            "_view_module": "@jupyter-widgets/base",
            "_view_module_version": "1.2.0",
            "_view_name": "LayoutView",
            "align_content": null,
            "align_items": null,
            "align_self": null,
            "border": null,
            "bottom": null,
            "display": null,
            "flex": null,
            "flex_flow": null,
            "grid_area": null,
            "grid_auto_columns": null,
            "grid_auto_flow": null,
            "grid_auto_rows": null,
            "grid_column": null,
            "grid_gap": null,
            "grid_row": null,
            "grid_template_areas": null,
            "grid_template_columns": null,
            "grid_template_rows": null,
            "height": null,
            "justify_content": null,
            "justify_items": null,
            "left": null,
            "margin": null,
            "max_height": null,
            "max_width": null,
            "min_height": null,
            "min_width": null,
            "object_fit": null,
            "object_position": null,
            "order": null,
            "overflow": null,
            "overflow_x": null,
            "overflow_y": null,
            "padding": null,
            "right": null,
            "top": null,
            "visibility": null,
            "width": null
          }
        },
        "7b5c3546d94f483396890a55b5f10227": {
          "model_module": "@jupyter-widgets/controls",
          "model_name": "ProgressStyleModel",
          "model_module_version": "1.5.0",
          "state": {
            "_model_module": "@jupyter-widgets/controls",
            "_model_module_version": "1.5.0",
            "_model_name": "ProgressStyleModel",
            "_view_count": null,
            "_view_module": "@jupyter-widgets/base",
            "_view_module_version": "1.2.0",
            "_view_name": "StyleView",
            "bar_color": null,
            "description_width": ""
          }
        },
        "37f184ae29344b1f908407fefa25a110": {
          "model_module": "@jupyter-widgets/base",
          "model_name": "LayoutModel",
          "model_module_version": "1.2.0",
          "state": {
            "_model_module": "@jupyter-widgets/base",
            "_model_module_version": "1.2.0",
            "_model_name": "LayoutModel",
            "_view_count": null,
            "_view_module": "@jupyter-widgets/base",
            "_view_module_version": "1.2.0",
            "_view_name": "LayoutView",
            "align_content": null,
            "align_items": null,
            "align_self": null,
            "border": null,
            "bottom": null,
            "display": null,
            "flex": null,
            "flex_flow": null,
            "grid_area": null,
            "grid_auto_columns": null,
            "grid_auto_flow": null,
            "grid_auto_rows": null,
            "grid_column": null,
            "grid_gap": null,
            "grid_row": null,
            "grid_template_areas": null,
            "grid_template_columns": null,
            "grid_template_rows": null,
            "height": null,
            "justify_content": null,
            "justify_items": null,
            "left": null,
            "margin": null,
            "max_height": null,
            "max_width": null,
            "min_height": null,
            "min_width": null,
            "object_fit": null,
            "object_position": null,
            "order": null,
            "overflow": null,
            "overflow_x": null,
            "overflow_y": null,
            "padding": null,
            "right": null,
            "top": null,
            "visibility": null,
            "width": null
          }
        },
        "41a76b1e7c734ba3b671e26b1b174b76": {
          "model_module": "@jupyter-widgets/controls",
          "model_name": "DescriptionStyleModel",
          "model_module_version": "1.5.0",
          "state": {
            "_model_module": "@jupyter-widgets/controls",
            "_model_module_version": "1.5.0",
            "_model_name": "DescriptionStyleModel",
            "_view_count": null,
            "_view_module": "@jupyter-widgets/base",
            "_view_module_version": "1.2.0",
            "_view_name": "StyleView",
            "description_width": ""
          }
        },
        "e02934a365fc4b7099bc729eea9e9c49": {
          "model_module": "@jupyter-widgets/controls",
          "model_name": "HBoxModel",
          "model_module_version": "1.5.0",
          "state": {
            "_dom_classes": [],
            "_model_module": "@jupyter-widgets/controls",
            "_model_module_version": "1.5.0",
            "_model_name": "HBoxModel",
            "_view_count": null,
            "_view_module": "@jupyter-widgets/controls",
            "_view_module_version": "1.5.0",
            "_view_name": "HBoxView",
            "box_style": "",
            "children": [
              "IPY_MODEL_b90d70ad407a4cdabacaba6b6e44f7e2",
              "IPY_MODEL_82d815667b11433887cc6c749bbb87cc",
              "IPY_MODEL_4988f144ab5c43f8a607b5ef7ef41a48"
            ],
            "layout": "IPY_MODEL_650cad0c57464bb183a84006c11692b9"
          }
        },
        "b90d70ad407a4cdabacaba6b6e44f7e2": {
          "model_module": "@jupyter-widgets/controls",
          "model_name": "HTMLModel",
          "model_module_version": "1.5.0",
          "state": {
            "_dom_classes": [],
            "_model_module": "@jupyter-widgets/controls",
            "_model_module_version": "1.5.0",
            "_model_name": "HTMLModel",
            "_view_count": null,
            "_view_module": "@jupyter-widgets/controls",
            "_view_module_version": "1.5.0",
            "_view_name": "HTMLView",
            "description": "",
            "description_tooltip": null,
            "layout": "IPY_MODEL_07d6d44b30be41828c49fc3be64573de",
            "placeholder": "​",
            "style": "IPY_MODEL_ea69136e9100405288a3b1ff1dfa6f3e",
            "value": "Map: 100%"
          }
        },
        "82d815667b11433887cc6c749bbb87cc": {
          "model_module": "@jupyter-widgets/controls",
          "model_name": "FloatProgressModel",
          "model_module_version": "1.5.0",
          "state": {
            "_dom_classes": [],
            "_model_module": "@jupyter-widgets/controls",
            "_model_module_version": "1.5.0",
            "_model_name": "FloatProgressModel",
            "_view_count": null,
            "_view_module": "@jupyter-widgets/controls",
            "_view_module_version": "1.5.0",
            "_view_name": "ProgressView",
            "bar_style": "success",
            "description": "",
            "description_tooltip": null,
            "layout": "IPY_MODEL_8373cf54b5ed44eba04dd0b51b5e948d",
            "max": 5000,
            "min": 0,
            "orientation": "horizontal",
            "style": "IPY_MODEL_5d40473967ca4b549115b78e0392a4b7",
            "value": 5000
          }
        },
        "4988f144ab5c43f8a607b5ef7ef41a48": {
          "model_module": "@jupyter-widgets/controls",
          "model_name": "HTMLModel",
          "model_module_version": "1.5.0",
          "state": {
            "_dom_classes": [],
            "_model_module": "@jupyter-widgets/controls",
            "_model_module_version": "1.5.0",
            "_model_name": "HTMLModel",
            "_view_count": null,
            "_view_module": "@jupyter-widgets/controls",
            "_view_module_version": "1.5.0",
            "_view_name": "HTMLView",
            "description": "",
            "description_tooltip": null,
            "layout": "IPY_MODEL_531a82c4390446198038846898325679",
            "placeholder": "​",
            "style": "IPY_MODEL_b525c74b53344597b50ba7e315651658",
            "value": " 5000/5000 [00:00&lt;00:00, 5837.71 examples/s]"
          }
        },
        "650cad0c57464bb183a84006c11692b9": {
          "model_module": "@jupyter-widgets/base",
          "model_name": "LayoutModel",
          "model_module_version": "1.2.0",
          "state": {
            "_model_module": "@jupyter-widgets/base",
            "_model_module_version": "1.2.0",
            "_model_name": "LayoutModel",
            "_view_count": null,
            "_view_module": "@jupyter-widgets/base",
            "_view_module_version": "1.2.0",
            "_view_name": "LayoutView",
            "align_content": null,
            "align_items": null,
            "align_self": null,
            "border": null,
            "bottom": null,
            "display": null,
            "flex": null,
            "flex_flow": null,
            "grid_area": null,
            "grid_auto_columns": null,
            "grid_auto_flow": null,
            "grid_auto_rows": null,
            "grid_column": null,
            "grid_gap": null,
            "grid_row": null,
            "grid_template_areas": null,
            "grid_template_columns": null,
            "grid_template_rows": null,
            "height": null,
            "justify_content": null,
            "justify_items": null,
            "left": null,
            "margin": null,
            "max_height": null,
            "max_width": null,
            "min_height": null,
            "min_width": null,
            "object_fit": null,
            "object_position": null,
            "order": null,
            "overflow": null,
            "overflow_x": null,
            "overflow_y": null,
            "padding": null,
            "right": null,
            "top": null,
            "visibility": null,
            "width": null
          }
        },
        "07d6d44b30be41828c49fc3be64573de": {
          "model_module": "@jupyter-widgets/base",
          "model_name": "LayoutModel",
          "model_module_version": "1.2.0",
          "state": {
            "_model_module": "@jupyter-widgets/base",
            "_model_module_version": "1.2.0",
            "_model_name": "LayoutModel",
            "_view_count": null,
            "_view_module": "@jupyter-widgets/base",
            "_view_module_version": "1.2.0",
            "_view_name": "LayoutView",
            "align_content": null,
            "align_items": null,
            "align_self": null,
            "border": null,
            "bottom": null,
            "display": null,
            "flex": null,
            "flex_flow": null,
            "grid_area": null,
            "grid_auto_columns": null,
            "grid_auto_flow": null,
            "grid_auto_rows": null,
            "grid_column": null,
            "grid_gap": null,
            "grid_row": null,
            "grid_template_areas": null,
            "grid_template_columns": null,
            "grid_template_rows": null,
            "height": null,
            "justify_content": null,
            "justify_items": null,
            "left": null,
            "margin": null,
            "max_height": null,
            "max_width": null,
            "min_height": null,
            "min_width": null,
            "object_fit": null,
            "object_position": null,
            "order": null,
            "overflow": null,
            "overflow_x": null,
            "overflow_y": null,
            "padding": null,
            "right": null,
            "top": null,
            "visibility": null,
            "width": null
          }
        },
        "ea69136e9100405288a3b1ff1dfa6f3e": {
          "model_module": "@jupyter-widgets/controls",
          "model_name": "DescriptionStyleModel",
          "model_module_version": "1.5.0",
          "state": {
            "_model_module": "@jupyter-widgets/controls",
            "_model_module_version": "1.5.0",
            "_model_name": "DescriptionStyleModel",
            "_view_count": null,
            "_view_module": "@jupyter-widgets/base",
            "_view_module_version": "1.2.0",
            "_view_name": "StyleView",
            "description_width": ""
          }
        },
        "8373cf54b5ed44eba04dd0b51b5e948d": {
          "model_module": "@jupyter-widgets/base",
          "model_name": "LayoutModel",
          "model_module_version": "1.2.0",
          "state": {
            "_model_module": "@jupyter-widgets/base",
            "_model_module_version": "1.2.0",
            "_model_name": "LayoutModel",
            "_view_count": null,
            "_view_module": "@jupyter-widgets/base",
            "_view_module_version": "1.2.0",
            "_view_name": "LayoutView",
            "align_content": null,
            "align_items": null,
            "align_self": null,
            "border": null,
            "bottom": null,
            "display": null,
            "flex": null,
            "flex_flow": null,
            "grid_area": null,
            "grid_auto_columns": null,
            "grid_auto_flow": null,
            "grid_auto_rows": null,
            "grid_column": null,
            "grid_gap": null,
            "grid_row": null,
            "grid_template_areas": null,
            "grid_template_columns": null,
            "grid_template_rows": null,
            "height": null,
            "justify_content": null,
            "justify_items": null,
            "left": null,
            "margin": null,
            "max_height": null,
            "max_width": null,
            "min_height": null,
            "min_width": null,
            "object_fit": null,
            "object_position": null,
            "order": null,
            "overflow": null,
            "overflow_x": null,
            "overflow_y": null,
            "padding": null,
            "right": null,
            "top": null,
            "visibility": null,
            "width": null
          }
        },
        "5d40473967ca4b549115b78e0392a4b7": {
          "model_module": "@jupyter-widgets/controls",
          "model_name": "ProgressStyleModel",
          "model_module_version": "1.5.0",
          "state": {
            "_model_module": "@jupyter-widgets/controls",
            "_model_module_version": "1.5.0",
            "_model_name": "ProgressStyleModel",
            "_view_count": null,
            "_view_module": "@jupyter-widgets/base",
            "_view_module_version": "1.2.0",
            "_view_name": "StyleView",
            "bar_color": null,
            "description_width": ""
          }
        },
        "531a82c4390446198038846898325679": {
          "model_module": "@jupyter-widgets/base",
          "model_name": "LayoutModel",
          "model_module_version": "1.2.0",
          "state": {
            "_model_module": "@jupyter-widgets/base",
            "_model_module_version": "1.2.0",
            "_model_name": "LayoutModel",
            "_view_count": null,
            "_view_module": "@jupyter-widgets/base",
            "_view_module_version": "1.2.0",
            "_view_name": "LayoutView",
            "align_content": null,
            "align_items": null,
            "align_self": null,
            "border": null,
            "bottom": null,
            "display": null,
            "flex": null,
            "flex_flow": null,
            "grid_area": null,
            "grid_auto_columns": null,
            "grid_auto_flow": null,
            "grid_auto_rows": null,
            "grid_column": null,
            "grid_gap": null,
            "grid_row": null,
            "grid_template_areas": null,
            "grid_template_columns": null,
            "grid_template_rows": null,
            "height": null,
            "justify_content": null,
            "justify_items": null,
            "left": null,
            "margin": null,
            "max_height": null,
            "max_width": null,
            "min_height": null,
            "min_width": null,
            "object_fit": null,
            "object_position": null,
            "order": null,
            "overflow": null,
            "overflow_x": null,
            "overflow_y": null,
            "padding": null,
            "right": null,
            "top": null,
            "visibility": null,
            "width": null
          }
        },
        "b525c74b53344597b50ba7e315651658": {
          "model_module": "@jupyter-widgets/controls",
          "model_name": "DescriptionStyleModel",
          "model_module_version": "1.5.0",
          "state": {
            "_model_module": "@jupyter-widgets/controls",
            "_model_module_version": "1.5.0",
            "_model_name": "DescriptionStyleModel",
            "_view_count": null,
            "_view_module": "@jupyter-widgets/base",
            "_view_module_version": "1.2.0",
            "_view_name": "StyleView",
            "description_width": ""
          }
        },
        "dda7a86cf9df4032a6234f82b7151297": {
          "model_module": "@jupyter-widgets/controls",
          "model_name": "HBoxModel",
          "model_module_version": "1.5.0",
          "state": {
            "_dom_classes": [],
            "_model_module": "@jupyter-widgets/controls",
            "_model_module_version": "1.5.0",
            "_model_name": "HBoxModel",
            "_view_count": null,
            "_view_module": "@jupyter-widgets/controls",
            "_view_module_version": "1.5.0",
            "_view_name": "HBoxView",
            "box_style": "",
            "children": [
              "IPY_MODEL_c7d96d917bc14ce1a6f42b1d5c730eb9",
              "IPY_MODEL_186427556a4542fab6e31ba1b35fc252",
              "IPY_MODEL_80fc72ef9edb4b79b8be8bc01960f669"
            ],
            "layout": "IPY_MODEL_fd10da235be644d6bb65e90918420237"
          }
        },
        "c7d96d917bc14ce1a6f42b1d5c730eb9": {
          "model_module": "@jupyter-widgets/controls",
          "model_name": "HTMLModel",
          "model_module_version": "1.5.0",
          "state": {
            "_dom_classes": [],
            "_model_module": "@jupyter-widgets/controls",
            "_model_module_version": "1.5.0",
            "_model_name": "HTMLModel",
            "_view_count": null,
            "_view_module": "@jupyter-widgets/controls",
            "_view_module_version": "1.5.0",
            "_view_name": "HTMLView",
            "description": "",
            "description_tooltip": null,
            "layout": "IPY_MODEL_8fe0156e48bd46e8999241b08814ee07",
            "placeholder": "​",
            "style": "IPY_MODEL_b45931f5992e44c4a58e8d918089eba4",
            "value": "Map: 100%"
          }
        },
        "186427556a4542fab6e31ba1b35fc252": {
          "model_module": "@jupyter-widgets/controls",
          "model_name": "FloatProgressModel",
          "model_module_version": "1.5.0",
          "state": {
            "_dom_classes": [],
            "_model_module": "@jupyter-widgets/controls",
            "_model_module_version": "1.5.0",
            "_model_name": "FloatProgressModel",
            "_view_count": null,
            "_view_module": "@jupyter-widgets/controls",
            "_view_module_version": "1.5.0",
            "_view_name": "ProgressView",
            "bar_style": "success",
            "description": "",
            "description_tooltip": null,
            "layout": "IPY_MODEL_b9ba82bad7aa414ea1b9890cdac6c321",
            "max": 45000,
            "min": 0,
            "orientation": "horizontal",
            "style": "IPY_MODEL_4e2108ee8b4646448e633e091e77b441",
            "value": 45000
          }
        },
        "80fc72ef9edb4b79b8be8bc01960f669": {
          "model_module": "@jupyter-widgets/controls",
          "model_name": "HTMLModel",
          "model_module_version": "1.5.0",
          "state": {
            "_dom_classes": [],
            "_model_module": "@jupyter-widgets/controls",
            "_model_module_version": "1.5.0",
            "_model_name": "HTMLModel",
            "_view_count": null,
            "_view_module": "@jupyter-widgets/controls",
            "_view_module_version": "1.5.0",
            "_view_name": "HTMLView",
            "description": "",
            "description_tooltip": null,
            "layout": "IPY_MODEL_8f3ca5eb66f34720b5a3ee601686ae3a",
            "placeholder": "​",
            "style": "IPY_MODEL_45704f77ba0c4cd68c9a7187aced633b",
            "value": " 45000/45000 [00:24&lt;00:00, 2133.09 examples/s]"
          }
        },
        "fd10da235be644d6bb65e90918420237": {
          "model_module": "@jupyter-widgets/base",
          "model_name": "LayoutModel",
          "model_module_version": "1.2.0",
          "state": {
            "_model_module": "@jupyter-widgets/base",
            "_model_module_version": "1.2.0",
            "_model_name": "LayoutModel",
            "_view_count": null,
            "_view_module": "@jupyter-widgets/base",
            "_view_module_version": "1.2.0",
            "_view_name": "LayoutView",
            "align_content": null,
            "align_items": null,
            "align_self": null,
            "border": null,
            "bottom": null,
            "display": null,
            "flex": null,
            "flex_flow": null,
            "grid_area": null,
            "grid_auto_columns": null,
            "grid_auto_flow": null,
            "grid_auto_rows": null,
            "grid_column": null,
            "grid_gap": null,
            "grid_row": null,
            "grid_template_areas": null,
            "grid_template_columns": null,
            "grid_template_rows": null,
            "height": null,
            "justify_content": null,
            "justify_items": null,
            "left": null,
            "margin": null,
            "max_height": null,
            "max_width": null,
            "min_height": null,
            "min_width": null,
            "object_fit": null,
            "object_position": null,
            "order": null,
            "overflow": null,
            "overflow_x": null,
            "overflow_y": null,
            "padding": null,
            "right": null,
            "top": null,
            "visibility": null,
            "width": null
          }
        },
        "8fe0156e48bd46e8999241b08814ee07": {
          "model_module": "@jupyter-widgets/base",
          "model_name": "LayoutModel",
          "model_module_version": "1.2.0",
          "state": {
            "_model_module": "@jupyter-widgets/base",
            "_model_module_version": "1.2.0",
            "_model_name": "LayoutModel",
            "_view_count": null,
            "_view_module": "@jupyter-widgets/base",
            "_view_module_version": "1.2.0",
            "_view_name": "LayoutView",
            "align_content": null,
            "align_items": null,
            "align_self": null,
            "border": null,
            "bottom": null,
            "display": null,
            "flex": null,
            "flex_flow": null,
            "grid_area": null,
            "grid_auto_columns": null,
            "grid_auto_flow": null,
            "grid_auto_rows": null,
            "grid_column": null,
            "grid_gap": null,
            "grid_row": null,
            "grid_template_areas": null,
            "grid_template_columns": null,
            "grid_template_rows": null,
            "height": null,
            "justify_content": null,
            "justify_items": null,
            "left": null,
            "margin": null,
            "max_height": null,
            "max_width": null,
            "min_height": null,
            "min_width": null,
            "object_fit": null,
            "object_position": null,
            "order": null,
            "overflow": null,
            "overflow_x": null,
            "overflow_y": null,
            "padding": null,
            "right": null,
            "top": null,
            "visibility": null,
            "width": null
          }
        },
        "b45931f5992e44c4a58e8d918089eba4": {
          "model_module": "@jupyter-widgets/controls",
          "model_name": "DescriptionStyleModel",
          "model_module_version": "1.5.0",
          "state": {
            "_model_module": "@jupyter-widgets/controls",
            "_model_module_version": "1.5.0",
            "_model_name": "DescriptionStyleModel",
            "_view_count": null,
            "_view_module": "@jupyter-widgets/base",
            "_view_module_version": "1.2.0",
            "_view_name": "StyleView",
            "description_width": ""
          }
        },
        "b9ba82bad7aa414ea1b9890cdac6c321": {
          "model_module": "@jupyter-widgets/base",
          "model_name": "LayoutModel",
          "model_module_version": "1.2.0",
          "state": {
            "_model_module": "@jupyter-widgets/base",
            "_model_module_version": "1.2.0",
            "_model_name": "LayoutModel",
            "_view_count": null,
            "_view_module": "@jupyter-widgets/base",
            "_view_module_version": "1.2.0",
            "_view_name": "LayoutView",
            "align_content": null,
            "align_items": null,
            "align_self": null,
            "border": null,
            "bottom": null,
            "display": null,
            "flex": null,
            "flex_flow": null,
            "grid_area": null,
            "grid_auto_columns": null,
            "grid_auto_flow": null,
            "grid_auto_rows": null,
            "grid_column": null,
            "grid_gap": null,
            "grid_row": null,
            "grid_template_areas": null,
            "grid_template_columns": null,
            "grid_template_rows": null,
            "height": null,
            "justify_content": null,
            "justify_items": null,
            "left": null,
            "margin": null,
            "max_height": null,
            "max_width": null,
            "min_height": null,
            "min_width": null,
            "object_fit": null,
            "object_position": null,
            "order": null,
            "overflow": null,
            "overflow_x": null,
            "overflow_y": null,
            "padding": null,
            "right": null,
            "top": null,
            "visibility": null,
            "width": null
          }
        },
        "4e2108ee8b4646448e633e091e77b441": {
          "model_module": "@jupyter-widgets/controls",
          "model_name": "ProgressStyleModel",
          "model_module_version": "1.5.0",
          "state": {
            "_model_module": "@jupyter-widgets/controls",
            "_model_module_version": "1.5.0",
            "_model_name": "ProgressStyleModel",
            "_view_count": null,
            "_view_module": "@jupyter-widgets/base",
            "_view_module_version": "1.2.0",
            "_view_name": "StyleView",
            "bar_color": null,
            "description_width": ""
          }
        },
        "8f3ca5eb66f34720b5a3ee601686ae3a": {
          "model_module": "@jupyter-widgets/base",
          "model_name": "LayoutModel",
          "model_module_version": "1.2.0",
          "state": {
            "_model_module": "@jupyter-widgets/base",
            "_model_module_version": "1.2.0",
            "_model_name": "LayoutModel",
            "_view_count": null,
            "_view_module": "@jupyter-widgets/base",
            "_view_module_version": "1.2.0",
            "_view_name": "LayoutView",
            "align_content": null,
            "align_items": null,
            "align_self": null,
            "border": null,
            "bottom": null,
            "display": null,
            "flex": null,
            "flex_flow": null,
            "grid_area": null,
            "grid_auto_columns": null,
            "grid_auto_flow": null,
            "grid_auto_rows": null,
            "grid_column": null,
            "grid_gap": null,
            "grid_row": null,
            "grid_template_areas": null,
            "grid_template_columns": null,
            "grid_template_rows": null,
            "height": null,
            "justify_content": null,
            "justify_items": null,
            "left": null,
            "margin": null,
            "max_height": null,
            "max_width": null,
            "min_height": null,
            "min_width": null,
            "object_fit": null,
            "object_position": null,
            "order": null,
            "overflow": null,
            "overflow_x": null,
            "overflow_y": null,
            "padding": null,
            "right": null,
            "top": null,
            "visibility": null,
            "width": null
          }
        },
        "45704f77ba0c4cd68c9a7187aced633b": {
          "model_module": "@jupyter-widgets/controls",
          "model_name": "DescriptionStyleModel",
          "model_module_version": "1.5.0",
          "state": {
            "_model_module": "@jupyter-widgets/controls",
            "_model_module_version": "1.5.0",
            "_model_name": "DescriptionStyleModel",
            "_view_count": null,
            "_view_module": "@jupyter-widgets/base",
            "_view_module_version": "1.2.0",
            "_view_name": "StyleView",
            "description_width": ""
          }
        },
        "275d8a73ebb3468b8fe55a03b4f22615": {
          "model_module": "@jupyter-widgets/controls",
          "model_name": "HBoxModel",
          "model_module_version": "1.5.0",
          "state": {
            "_dom_classes": [],
            "_model_module": "@jupyter-widgets/controls",
            "_model_module_version": "1.5.0",
            "_model_name": "HBoxModel",
            "_view_count": null,
            "_view_module": "@jupyter-widgets/controls",
            "_view_module_version": "1.5.0",
            "_view_name": "HBoxView",
            "box_style": "",
            "children": [
              "IPY_MODEL_4a88757baafd4bb99601707440b0560a",
              "IPY_MODEL_c06feda3cdeb42fcb9659eb12086562b",
              "IPY_MODEL_1c3d04994ba347d7be671a959e3d4019"
            ],
            "layout": "IPY_MODEL_3aab8c89f9fe4ae68a64b4b130cc10d0"
          }
        },
        "4a88757baafd4bb99601707440b0560a": {
          "model_module": "@jupyter-widgets/controls",
          "model_name": "HTMLModel",
          "model_module_version": "1.5.0",
          "state": {
            "_dom_classes": [],
            "_model_module": "@jupyter-widgets/controls",
            "_model_module_version": "1.5.0",
            "_model_name": "HTMLModel",
            "_view_count": null,
            "_view_module": "@jupyter-widgets/controls",
            "_view_module_version": "1.5.0",
            "_view_name": "HTMLView",
            "description": "",
            "description_tooltip": null,
            "layout": "IPY_MODEL_340262e9375441d8a9216a97b54b6e9a",
            "placeholder": "​",
            "style": "IPY_MODEL_fa22d4e9966e4496912b3499ca54e9eb",
            "value": "Map: 100%"
          }
        },
        "c06feda3cdeb42fcb9659eb12086562b": {
          "model_module": "@jupyter-widgets/controls",
          "model_name": "FloatProgressModel",
          "model_module_version": "1.5.0",
          "state": {
            "_dom_classes": [],
            "_model_module": "@jupyter-widgets/controls",
            "_model_module_version": "1.5.0",
            "_model_name": "FloatProgressModel",
            "_view_count": null,
            "_view_module": "@jupyter-widgets/controls",
            "_view_module_version": "1.5.0",
            "_view_name": "ProgressView",
            "bar_style": "success",
            "description": "",
            "description_tooltip": null,
            "layout": "IPY_MODEL_c78a331644164c8394c50680951dfb99",
            "max": 50000,
            "min": 0,
            "orientation": "horizontal",
            "style": "IPY_MODEL_64fa49c30fdc4e64b5aa4b26c1cf9bf0",
            "value": 50000
          }
        },
        "1c3d04994ba347d7be671a959e3d4019": {
          "model_module": "@jupyter-widgets/controls",
          "model_name": "HTMLModel",
          "model_module_version": "1.5.0",
          "state": {
            "_dom_classes": [],
            "_model_module": "@jupyter-widgets/controls",
            "_model_module_version": "1.5.0",
            "_model_name": "HTMLModel",
            "_view_count": null,
            "_view_module": "@jupyter-widgets/controls",
            "_view_module_version": "1.5.0",
            "_view_name": "HTMLView",
            "description": "",
            "description_tooltip": null,
            "layout": "IPY_MODEL_21385a5c6f5641bc9b545d4949a162a9",
            "placeholder": "​",
            "style": "IPY_MODEL_1689872ce2cc461d9347b099008fefd8",
            "value": " 50000/50000 [00:32&lt;00:00, 1060.99 examples/s]"
          }
        },
        "3aab8c89f9fe4ae68a64b4b130cc10d0": {
          "model_module": "@jupyter-widgets/base",
          "model_name": "LayoutModel",
          "model_module_version": "1.2.0",
          "state": {
            "_model_module": "@jupyter-widgets/base",
            "_model_module_version": "1.2.0",
            "_model_name": "LayoutModel",
            "_view_count": null,
            "_view_module": "@jupyter-widgets/base",
            "_view_module_version": "1.2.0",
            "_view_name": "LayoutView",
            "align_content": null,
            "align_items": null,
            "align_self": null,
            "border": null,
            "bottom": null,
            "display": null,
            "flex": null,
            "flex_flow": null,
            "grid_area": null,
            "grid_auto_columns": null,
            "grid_auto_flow": null,
            "grid_auto_rows": null,
            "grid_column": null,
            "grid_gap": null,
            "grid_row": null,
            "grid_template_areas": null,
            "grid_template_columns": null,
            "grid_template_rows": null,
            "height": null,
            "justify_content": null,
            "justify_items": null,
            "left": null,
            "margin": null,
            "max_height": null,
            "max_width": null,
            "min_height": null,
            "min_width": null,
            "object_fit": null,
            "object_position": null,
            "order": null,
            "overflow": null,
            "overflow_x": null,
            "overflow_y": null,
            "padding": null,
            "right": null,
            "top": null,
            "visibility": null,
            "width": null
          }
        },
        "340262e9375441d8a9216a97b54b6e9a": {
          "model_module": "@jupyter-widgets/base",
          "model_name": "LayoutModel",
          "model_module_version": "1.2.0",
          "state": {
            "_model_module": "@jupyter-widgets/base",
            "_model_module_version": "1.2.0",
            "_model_name": "LayoutModel",
            "_view_count": null,
            "_view_module": "@jupyter-widgets/base",
            "_view_module_version": "1.2.0",
            "_view_name": "LayoutView",
            "align_content": null,
            "align_items": null,
            "align_self": null,
            "border": null,
            "bottom": null,
            "display": null,
            "flex": null,
            "flex_flow": null,
            "grid_area": null,
            "grid_auto_columns": null,
            "grid_auto_flow": null,
            "grid_auto_rows": null,
            "grid_column": null,
            "grid_gap": null,
            "grid_row": null,
            "grid_template_areas": null,
            "grid_template_columns": null,
            "grid_template_rows": null,
            "height": null,
            "justify_content": null,
            "justify_items": null,
            "left": null,
            "margin": null,
            "max_height": null,
            "max_width": null,
            "min_height": null,
            "min_width": null,
            "object_fit": null,
            "object_position": null,
            "order": null,
            "overflow": null,
            "overflow_x": null,
            "overflow_y": null,
            "padding": null,
            "right": null,
            "top": null,
            "visibility": null,
            "width": null
          }
        },
        "fa22d4e9966e4496912b3499ca54e9eb": {
          "model_module": "@jupyter-widgets/controls",
          "model_name": "DescriptionStyleModel",
          "model_module_version": "1.5.0",
          "state": {
            "_model_module": "@jupyter-widgets/controls",
            "_model_module_version": "1.5.0",
            "_model_name": "DescriptionStyleModel",
            "_view_count": null,
            "_view_module": "@jupyter-widgets/base",
            "_view_module_version": "1.2.0",
            "_view_name": "StyleView",
            "description_width": ""
          }
        },
        "c78a331644164c8394c50680951dfb99": {
          "model_module": "@jupyter-widgets/base",
          "model_name": "LayoutModel",
          "model_module_version": "1.2.0",
          "state": {
            "_model_module": "@jupyter-widgets/base",
            "_model_module_version": "1.2.0",
            "_model_name": "LayoutModel",
            "_view_count": null,
            "_view_module": "@jupyter-widgets/base",
            "_view_module_version": "1.2.0",
            "_view_name": "LayoutView",
            "align_content": null,
            "align_items": null,
            "align_self": null,
            "border": null,
            "bottom": null,
            "display": null,
            "flex": null,
            "flex_flow": null,
            "grid_area": null,
            "grid_auto_columns": null,
            "grid_auto_flow": null,
            "grid_auto_rows": null,
            "grid_column": null,
            "grid_gap": null,
            "grid_row": null,
            "grid_template_areas": null,
            "grid_template_columns": null,
            "grid_template_rows": null,
            "height": null,
            "justify_content": null,
            "justify_items": null,
            "left": null,
            "margin": null,
            "max_height": null,
            "max_width": null,
            "min_height": null,
            "min_width": null,
            "object_fit": null,
            "object_position": null,
            "order": null,
            "overflow": null,
            "overflow_x": null,
            "overflow_y": null,
            "padding": null,
            "right": null,
            "top": null,
            "visibility": null,
            "width": null
          }
        },
        "64fa49c30fdc4e64b5aa4b26c1cf9bf0": {
          "model_module": "@jupyter-widgets/controls",
          "model_name": "ProgressStyleModel",
          "model_module_version": "1.5.0",
          "state": {
            "_model_module": "@jupyter-widgets/controls",
            "_model_module_version": "1.5.0",
            "_model_name": "ProgressStyleModel",
            "_view_count": null,
            "_view_module": "@jupyter-widgets/base",
            "_view_module_version": "1.2.0",
            "_view_name": "StyleView",
            "bar_color": null,
            "description_width": ""
          }
        },
        "21385a5c6f5641bc9b545d4949a162a9": {
          "model_module": "@jupyter-widgets/base",
          "model_name": "LayoutModel",
          "model_module_version": "1.2.0",
          "state": {
            "_model_module": "@jupyter-widgets/base",
            "_model_module_version": "1.2.0",
            "_model_name": "LayoutModel",
            "_view_count": null,
            "_view_module": "@jupyter-widgets/base",
            "_view_module_version": "1.2.0",
            "_view_name": "LayoutView",
            "align_content": null,
            "align_items": null,
            "align_self": null,
            "border": null,
            "bottom": null,
            "display": null,
            "flex": null,
            "flex_flow": null,
            "grid_area": null,
            "grid_auto_columns": null,
            "grid_auto_flow": null,
            "grid_auto_rows": null,
            "grid_column": null,
            "grid_gap": null,
            "grid_row": null,
            "grid_template_areas": null,
            "grid_template_columns": null,
            "grid_template_rows": null,
            "height": null,
            "justify_content": null,
            "justify_items": null,
            "left": null,
            "margin": null,
            "max_height": null,
            "max_width": null,
            "min_height": null,
            "min_width": null,
            "object_fit": null,
            "object_position": null,
            "order": null,
            "overflow": null,
            "overflow_x": null,
            "overflow_y": null,
            "padding": null,
            "right": null,
            "top": null,
            "visibility": null,
            "width": null
          }
        },
        "1689872ce2cc461d9347b099008fefd8": {
          "model_module": "@jupyter-widgets/controls",
          "model_name": "DescriptionStyleModel",
          "model_module_version": "1.5.0",
          "state": {
            "_model_module": "@jupyter-widgets/controls",
            "_model_module_version": "1.5.0",
            "_model_name": "DescriptionStyleModel",
            "_view_count": null,
            "_view_module": "@jupyter-widgets/base",
            "_view_module_version": "1.2.0",
            "_view_name": "StyleView",
            "description_width": ""
          }
        },
        "b80518161d144cf7b7a64f0445ed8153": {
          "model_module": "@jupyter-widgets/controls",
          "model_name": "HBoxModel",
          "model_module_version": "1.5.0",
          "state": {
            "_dom_classes": [],
            "_model_module": "@jupyter-widgets/controls",
            "_model_module_version": "1.5.0",
            "_model_name": "HBoxModel",
            "_view_count": null,
            "_view_module": "@jupyter-widgets/controls",
            "_view_module_version": "1.5.0",
            "_view_name": "HBoxView",
            "box_style": "",
            "children": [
              "IPY_MODEL_cd6f4b8a745e45fc9538b704fe99dbb6",
              "IPY_MODEL_3390cb17149a4ca98453077a8f7d93d7",
              "IPY_MODEL_38e97c77ba5f400eb7882955c79e8f95"
            ],
            "layout": "IPY_MODEL_43f5b0e1ec4e423b8b3df6b660f71c4d"
          }
        },
        "cd6f4b8a745e45fc9538b704fe99dbb6": {
          "model_module": "@jupyter-widgets/controls",
          "model_name": "HTMLModel",
          "model_module_version": "1.5.0",
          "state": {
            "_dom_classes": [],
            "_model_module": "@jupyter-widgets/controls",
            "_model_module_version": "1.5.0",
            "_model_name": "HTMLModel",
            "_view_count": null,
            "_view_module": "@jupyter-widgets/controls",
            "_view_module_version": "1.5.0",
            "_view_name": "HTMLView",
            "description": "",
            "description_tooltip": null,
            "layout": "IPY_MODEL_cca3ba6184084fcc9eea1d324037d441",
            "placeholder": "​",
            "style": "IPY_MODEL_b5e6cabd01f140b9a022117cacd87873",
            "value": "Map: 100%"
          }
        },
        "3390cb17149a4ca98453077a8f7d93d7": {
          "model_module": "@jupyter-widgets/controls",
          "model_name": "FloatProgressModel",
          "model_module_version": "1.5.0",
          "state": {
            "_dom_classes": [],
            "_model_module": "@jupyter-widgets/controls",
            "_model_module_version": "1.5.0",
            "_model_name": "FloatProgressModel",
            "_view_count": null,
            "_view_module": "@jupyter-widgets/controls",
            "_view_module_version": "1.5.0",
            "_view_name": "ProgressView",
            "bar_style": "success",
            "description": "",
            "description_tooltip": null,
            "layout": "IPY_MODEL_6059c6877360414abc6fcd076276c4d9",
            "max": 5000,
            "min": 0,
            "orientation": "horizontal",
            "style": "IPY_MODEL_bffa91e08a854e46aebdd6c0be5a0c46",
            "value": 5000
          }
        },
        "38e97c77ba5f400eb7882955c79e8f95": {
          "model_module": "@jupyter-widgets/controls",
          "model_name": "HTMLModel",
          "model_module_version": "1.5.0",
          "state": {
            "_dom_classes": [],
            "_model_module": "@jupyter-widgets/controls",
            "_model_module_version": "1.5.0",
            "_model_name": "HTMLModel",
            "_view_count": null,
            "_view_module": "@jupyter-widgets/controls",
            "_view_module_version": "1.5.0",
            "_view_name": "HTMLView",
            "description": "",
            "description_tooltip": null,
            "layout": "IPY_MODEL_4cb4ed6688124510923d96d73e164de3",
            "placeholder": "​",
            "style": "IPY_MODEL_f3db72f3bd464c6281b2068847b4402b",
            "value": " 5000/5000 [00:03&lt;00:00, 1911.32 examples/s]"
          }
        },
        "43f5b0e1ec4e423b8b3df6b660f71c4d": {
          "model_module": "@jupyter-widgets/base",
          "model_name": "LayoutModel",
          "model_module_version": "1.2.0",
          "state": {
            "_model_module": "@jupyter-widgets/base",
            "_model_module_version": "1.2.0",
            "_model_name": "LayoutModel",
            "_view_count": null,
            "_view_module": "@jupyter-widgets/base",
            "_view_module_version": "1.2.0",
            "_view_name": "LayoutView",
            "align_content": null,
            "align_items": null,
            "align_self": null,
            "border": null,
            "bottom": null,
            "display": null,
            "flex": null,
            "flex_flow": null,
            "grid_area": null,
            "grid_auto_columns": null,
            "grid_auto_flow": null,
            "grid_auto_rows": null,
            "grid_column": null,
            "grid_gap": null,
            "grid_row": null,
            "grid_template_areas": null,
            "grid_template_columns": null,
            "grid_template_rows": null,
            "height": null,
            "justify_content": null,
            "justify_items": null,
            "left": null,
            "margin": null,
            "max_height": null,
            "max_width": null,
            "min_height": null,
            "min_width": null,
            "object_fit": null,
            "object_position": null,
            "order": null,
            "overflow": null,
            "overflow_x": null,
            "overflow_y": null,
            "padding": null,
            "right": null,
            "top": null,
            "visibility": null,
            "width": null
          }
        },
        "cca3ba6184084fcc9eea1d324037d441": {
          "model_module": "@jupyter-widgets/base",
          "model_name": "LayoutModel",
          "model_module_version": "1.2.0",
          "state": {
            "_model_module": "@jupyter-widgets/base",
            "_model_module_version": "1.2.0",
            "_model_name": "LayoutModel",
            "_view_count": null,
            "_view_module": "@jupyter-widgets/base",
            "_view_module_version": "1.2.0",
            "_view_name": "LayoutView",
            "align_content": null,
            "align_items": null,
            "align_self": null,
            "border": null,
            "bottom": null,
            "display": null,
            "flex": null,
            "flex_flow": null,
            "grid_area": null,
            "grid_auto_columns": null,
            "grid_auto_flow": null,
            "grid_auto_rows": null,
            "grid_column": null,
            "grid_gap": null,
            "grid_row": null,
            "grid_template_areas": null,
            "grid_template_columns": null,
            "grid_template_rows": null,
            "height": null,
            "justify_content": null,
            "justify_items": null,
            "left": null,
            "margin": null,
            "max_height": null,
            "max_width": null,
            "min_height": null,
            "min_width": null,
            "object_fit": null,
            "object_position": null,
            "order": null,
            "overflow": null,
            "overflow_x": null,
            "overflow_y": null,
            "padding": null,
            "right": null,
            "top": null,
            "visibility": null,
            "width": null
          }
        },
        "b5e6cabd01f140b9a022117cacd87873": {
          "model_module": "@jupyter-widgets/controls",
          "model_name": "DescriptionStyleModel",
          "model_module_version": "1.5.0",
          "state": {
            "_model_module": "@jupyter-widgets/controls",
            "_model_module_version": "1.5.0",
            "_model_name": "DescriptionStyleModel",
            "_view_count": null,
            "_view_module": "@jupyter-widgets/base",
            "_view_module_version": "1.2.0",
            "_view_name": "StyleView",
            "description_width": ""
          }
        },
        "6059c6877360414abc6fcd076276c4d9": {
          "model_module": "@jupyter-widgets/base",
          "model_name": "LayoutModel",
          "model_module_version": "1.2.0",
          "state": {
            "_model_module": "@jupyter-widgets/base",
            "_model_module_version": "1.2.0",
            "_model_name": "LayoutModel",
            "_view_count": null,
            "_view_module": "@jupyter-widgets/base",
            "_view_module_version": "1.2.0",
            "_view_name": "LayoutView",
            "align_content": null,
            "align_items": null,
            "align_self": null,
            "border": null,
            "bottom": null,
            "display": null,
            "flex": null,
            "flex_flow": null,
            "grid_area": null,
            "grid_auto_columns": null,
            "grid_auto_flow": null,
            "grid_auto_rows": null,
            "grid_column": null,
            "grid_gap": null,
            "grid_row": null,
            "grid_template_areas": null,
            "grid_template_columns": null,
            "grid_template_rows": null,
            "height": null,
            "justify_content": null,
            "justify_items": null,
            "left": null,
            "margin": null,
            "max_height": null,
            "max_width": null,
            "min_height": null,
            "min_width": null,
            "object_fit": null,
            "object_position": null,
            "order": null,
            "overflow": null,
            "overflow_x": null,
            "overflow_y": null,
            "padding": null,
            "right": null,
            "top": null,
            "visibility": null,
            "width": null
          }
        },
        "bffa91e08a854e46aebdd6c0be5a0c46": {
          "model_module": "@jupyter-widgets/controls",
          "model_name": "ProgressStyleModel",
          "model_module_version": "1.5.0",
          "state": {
            "_model_module": "@jupyter-widgets/controls",
            "_model_module_version": "1.5.0",
            "_model_name": "ProgressStyleModel",
            "_view_count": null,
            "_view_module": "@jupyter-widgets/base",
            "_view_module_version": "1.2.0",
            "_view_name": "StyleView",
            "bar_color": null,
            "description_width": ""
          }
        },
        "4cb4ed6688124510923d96d73e164de3": {
          "model_module": "@jupyter-widgets/base",
          "model_name": "LayoutModel",
          "model_module_version": "1.2.0",
          "state": {
            "_model_module": "@jupyter-widgets/base",
            "_model_module_version": "1.2.0",
            "_model_name": "LayoutModel",
            "_view_count": null,
            "_view_module": "@jupyter-widgets/base",
            "_view_module_version": "1.2.0",
            "_view_name": "LayoutView",
            "align_content": null,
            "align_items": null,
            "align_self": null,
            "border": null,
            "bottom": null,
            "display": null,
            "flex": null,
            "flex_flow": null,
            "grid_area": null,
            "grid_auto_columns": null,
            "grid_auto_flow": null,
            "grid_auto_rows": null,
            "grid_column": null,
            "grid_gap": null,
            "grid_row": null,
            "grid_template_areas": null,
            "grid_template_columns": null,
            "grid_template_rows": null,
            "height": null,
            "justify_content": null,
            "justify_items": null,
            "left": null,
            "margin": null,
            "max_height": null,
            "max_width": null,
            "min_height": null,
            "min_width": null,
            "object_fit": null,
            "object_position": null,
            "order": null,
            "overflow": null,
            "overflow_x": null,
            "overflow_y": null,
            "padding": null,
            "right": null,
            "top": null,
            "visibility": null,
            "width": null
          }
        },
        "f3db72f3bd464c6281b2068847b4402b": {
          "model_module": "@jupyter-widgets/controls",
          "model_name": "DescriptionStyleModel",
          "model_module_version": "1.5.0",
          "state": {
            "_model_module": "@jupyter-widgets/controls",
            "_model_module_version": "1.5.0",
            "_model_name": "DescriptionStyleModel",
            "_view_count": null,
            "_view_module": "@jupyter-widgets/base",
            "_view_module_version": "1.2.0",
            "_view_name": "StyleView",
            "description_width": ""
          }
        },
        "e18fa3eca76d46e18cb94845ddbd3328": {
          "model_module": "@jupyter-widgets/controls",
          "model_name": "HBoxModel",
          "model_module_version": "1.5.0",
          "state": {
            "_dom_classes": [],
            "_model_module": "@jupyter-widgets/controls",
            "_model_module_version": "1.5.0",
            "_model_name": "HBoxModel",
            "_view_count": null,
            "_view_module": "@jupyter-widgets/controls",
            "_view_module_version": "1.5.0",
            "_view_name": "HBoxView",
            "box_style": "",
            "children": [
              "IPY_MODEL_77c612f246e04e479e1866b3145e8713",
              "IPY_MODEL_3727750a90654a289cb2e9a802cf778f",
              "IPY_MODEL_b9d2c6ea7cdd4ead941b93eff2fede2b"
            ],
            "layout": "IPY_MODEL_2f134e543f6648c8af1e440da4a07916"
          }
        },
        "77c612f246e04e479e1866b3145e8713": {
          "model_module": "@jupyter-widgets/controls",
          "model_name": "HTMLModel",
          "model_module_version": "1.5.0",
          "state": {
            "_dom_classes": [],
            "_model_module": "@jupyter-widgets/controls",
            "_model_module_version": "1.5.0",
            "_model_name": "HTMLModel",
            "_view_count": null,
            "_view_module": "@jupyter-widgets/controls",
            "_view_module_version": "1.5.0",
            "_view_name": "HTMLView",
            "description": "",
            "description_tooltip": null,
            "layout": "IPY_MODEL_35fe1fb81196403ca4f8ecae9b7a7631",
            "placeholder": "​",
            "style": "IPY_MODEL_9a8b094f61ca4a20862c850a947b8ee7",
            "value": "Map: 100%"
          }
        },
        "3727750a90654a289cb2e9a802cf778f": {
          "model_module": "@jupyter-widgets/controls",
          "model_name": "FloatProgressModel",
          "model_module_version": "1.5.0",
          "state": {
            "_dom_classes": [],
            "_model_module": "@jupyter-widgets/controls",
            "_model_module_version": "1.5.0",
            "_model_name": "FloatProgressModel",
            "_view_count": null,
            "_view_module": "@jupyter-widgets/controls",
            "_view_module_version": "1.5.0",
            "_view_name": "ProgressView",
            "bar_style": "success",
            "description": "",
            "description_tooltip": null,
            "layout": "IPY_MODEL_bea721bcd9e745ccb35af8359d274b5f",
            "max": 45000,
            "min": 0,
            "orientation": "horizontal",
            "style": "IPY_MODEL_d9dcad963f7948d4ba81a0c83f64dc84",
            "value": 45000
          }
        },
        "b9d2c6ea7cdd4ead941b93eff2fede2b": {
          "model_module": "@jupyter-widgets/controls",
          "model_name": "HTMLModel",
          "model_module_version": "1.5.0",
          "state": {
            "_dom_classes": [],
            "_model_module": "@jupyter-widgets/controls",
            "_model_module_version": "1.5.0",
            "_model_name": "HTMLModel",
            "_view_count": null,
            "_view_module": "@jupyter-widgets/controls",
            "_view_module_version": "1.5.0",
            "_view_name": "HTMLView",
            "description": "",
            "description_tooltip": null,
            "layout": "IPY_MODEL_2a29f2226625434d83fefac6d00fcee7",
            "placeholder": "​",
            "style": "IPY_MODEL_d857871ed1b3415d87077d528a8b6299",
            "value": " 45000/45000 [00:43&lt;00:00, 1286.51 examples/s]"
          }
        },
        "2f134e543f6648c8af1e440da4a07916": {
          "model_module": "@jupyter-widgets/base",
          "model_name": "LayoutModel",
          "model_module_version": "1.2.0",
          "state": {
            "_model_module": "@jupyter-widgets/base",
            "_model_module_version": "1.2.0",
            "_model_name": "LayoutModel",
            "_view_count": null,
            "_view_module": "@jupyter-widgets/base",
            "_view_module_version": "1.2.0",
            "_view_name": "LayoutView",
            "align_content": null,
            "align_items": null,
            "align_self": null,
            "border": null,
            "bottom": null,
            "display": null,
            "flex": null,
            "flex_flow": null,
            "grid_area": null,
            "grid_auto_columns": null,
            "grid_auto_flow": null,
            "grid_auto_rows": null,
            "grid_column": null,
            "grid_gap": null,
            "grid_row": null,
            "grid_template_areas": null,
            "grid_template_columns": null,
            "grid_template_rows": null,
            "height": null,
            "justify_content": null,
            "justify_items": null,
            "left": null,
            "margin": null,
            "max_height": null,
            "max_width": null,
            "min_height": null,
            "min_width": null,
            "object_fit": null,
            "object_position": null,
            "order": null,
            "overflow": null,
            "overflow_x": null,
            "overflow_y": null,
            "padding": null,
            "right": null,
            "top": null,
            "visibility": null,
            "width": null
          }
        },
        "35fe1fb81196403ca4f8ecae9b7a7631": {
          "model_module": "@jupyter-widgets/base",
          "model_name": "LayoutModel",
          "model_module_version": "1.2.0",
          "state": {
            "_model_module": "@jupyter-widgets/base",
            "_model_module_version": "1.2.0",
            "_model_name": "LayoutModel",
            "_view_count": null,
            "_view_module": "@jupyter-widgets/base",
            "_view_module_version": "1.2.0",
            "_view_name": "LayoutView",
            "align_content": null,
            "align_items": null,
            "align_self": null,
            "border": null,
            "bottom": null,
            "display": null,
            "flex": null,
            "flex_flow": null,
            "grid_area": null,
            "grid_auto_columns": null,
            "grid_auto_flow": null,
            "grid_auto_rows": null,
            "grid_column": null,
            "grid_gap": null,
            "grid_row": null,
            "grid_template_areas": null,
            "grid_template_columns": null,
            "grid_template_rows": null,
            "height": null,
            "justify_content": null,
            "justify_items": null,
            "left": null,
            "margin": null,
            "max_height": null,
            "max_width": null,
            "min_height": null,
            "min_width": null,
            "object_fit": null,
            "object_position": null,
            "order": null,
            "overflow": null,
            "overflow_x": null,
            "overflow_y": null,
            "padding": null,
            "right": null,
            "top": null,
            "visibility": null,
            "width": null
          }
        },
        "9a8b094f61ca4a20862c850a947b8ee7": {
          "model_module": "@jupyter-widgets/controls",
          "model_name": "DescriptionStyleModel",
          "model_module_version": "1.5.0",
          "state": {
            "_model_module": "@jupyter-widgets/controls",
            "_model_module_version": "1.5.0",
            "_model_name": "DescriptionStyleModel",
            "_view_count": null,
            "_view_module": "@jupyter-widgets/base",
            "_view_module_version": "1.2.0",
            "_view_name": "StyleView",
            "description_width": ""
          }
        },
        "bea721bcd9e745ccb35af8359d274b5f": {
          "model_module": "@jupyter-widgets/base",
          "model_name": "LayoutModel",
          "model_module_version": "1.2.0",
          "state": {
            "_model_module": "@jupyter-widgets/base",
            "_model_module_version": "1.2.0",
            "_model_name": "LayoutModel",
            "_view_count": null,
            "_view_module": "@jupyter-widgets/base",
            "_view_module_version": "1.2.0",
            "_view_name": "LayoutView",
            "align_content": null,
            "align_items": null,
            "align_self": null,
            "border": null,
            "bottom": null,
            "display": null,
            "flex": null,
            "flex_flow": null,
            "grid_area": null,
            "grid_auto_columns": null,
            "grid_auto_flow": null,
            "grid_auto_rows": null,
            "grid_column": null,
            "grid_gap": null,
            "grid_row": null,
            "grid_template_areas": null,
            "grid_template_columns": null,
            "grid_template_rows": null,
            "height": null,
            "justify_content": null,
            "justify_items": null,
            "left": null,
            "margin": null,
            "max_height": null,
            "max_width": null,
            "min_height": null,
            "min_width": null,
            "object_fit": null,
            "object_position": null,
            "order": null,
            "overflow": null,
            "overflow_x": null,
            "overflow_y": null,
            "padding": null,
            "right": null,
            "top": null,
            "visibility": null,
            "width": null
          }
        },
        "d9dcad963f7948d4ba81a0c83f64dc84": {
          "model_module": "@jupyter-widgets/controls",
          "model_name": "ProgressStyleModel",
          "model_module_version": "1.5.0",
          "state": {
            "_model_module": "@jupyter-widgets/controls",
            "_model_module_version": "1.5.0",
            "_model_name": "ProgressStyleModel",
            "_view_count": null,
            "_view_module": "@jupyter-widgets/base",
            "_view_module_version": "1.2.0",
            "_view_name": "StyleView",
            "bar_color": null,
            "description_width": ""
          }
        },
        "2a29f2226625434d83fefac6d00fcee7": {
          "model_module": "@jupyter-widgets/base",
          "model_name": "LayoutModel",
          "model_module_version": "1.2.0",
          "state": {
            "_model_module": "@jupyter-widgets/base",
            "_model_module_version": "1.2.0",
            "_model_name": "LayoutModel",
            "_view_count": null,
            "_view_module": "@jupyter-widgets/base",
            "_view_module_version": "1.2.0",
            "_view_name": "LayoutView",
            "align_content": null,
            "align_items": null,
            "align_self": null,
            "border": null,
            "bottom": null,
            "display": null,
            "flex": null,
            "flex_flow": null,
            "grid_area": null,
            "grid_auto_columns": null,
            "grid_auto_flow": null,
            "grid_auto_rows": null,
            "grid_column": null,
            "grid_gap": null,
            "grid_row": null,
            "grid_template_areas": null,
            "grid_template_columns": null,
            "grid_template_rows": null,
            "height": null,
            "justify_content": null,
            "justify_items": null,
            "left": null,
            "margin": null,
            "max_height": null,
            "max_width": null,
            "min_height": null,
            "min_width": null,
            "object_fit": null,
            "object_position": null,
            "order": null,
            "overflow": null,
            "overflow_x": null,
            "overflow_y": null,
            "padding": null,
            "right": null,
            "top": null,
            "visibility": null,
            "width": null
          }
        },
        "d857871ed1b3415d87077d528a8b6299": {
          "model_module": "@jupyter-widgets/controls",
          "model_name": "DescriptionStyleModel",
          "model_module_version": "1.5.0",
          "state": {
            "_model_module": "@jupyter-widgets/controls",
            "_model_module_version": "1.5.0",
            "_model_name": "DescriptionStyleModel",
            "_view_count": null,
            "_view_module": "@jupyter-widgets/base",
            "_view_module_version": "1.2.0",
            "_view_name": "StyleView",
            "description_width": ""
          }
        },
        "388ba7bbab4e488586da8b0bf793f431": {
          "model_module": "@jupyter-widgets/controls",
          "model_name": "HBoxModel",
          "model_module_version": "1.5.0",
          "state": {
            "_dom_classes": [],
            "_model_module": "@jupyter-widgets/controls",
            "_model_module_version": "1.5.0",
            "_model_name": "HBoxModel",
            "_view_count": null,
            "_view_module": "@jupyter-widgets/controls",
            "_view_module_version": "1.5.0",
            "_view_name": "HBoxView",
            "box_style": "",
            "children": [
              "IPY_MODEL_27c55f06f45f4636904e09fc28fda718",
              "IPY_MODEL_598c4aaf064d4f819365cb0b4fea2d31",
              "IPY_MODEL_7fda835e9f244cd5aaac46ac9ee58229"
            ],
            "layout": "IPY_MODEL_a66bfaec18a14c60b42a491813db86af"
          }
        },
        "27c55f06f45f4636904e09fc28fda718": {
          "model_module": "@jupyter-widgets/controls",
          "model_name": "HTMLModel",
          "model_module_version": "1.5.0",
          "state": {
            "_dom_classes": [],
            "_model_module": "@jupyter-widgets/controls",
            "_model_module_version": "1.5.0",
            "_model_name": "HTMLModel",
            "_view_count": null,
            "_view_module": "@jupyter-widgets/controls",
            "_view_module_version": "1.5.0",
            "_view_name": "HTMLView",
            "description": "",
            "description_tooltip": null,
            "layout": "IPY_MODEL_e27bc738fd214364bd11f1fe3c787fda",
            "placeholder": "​",
            "style": "IPY_MODEL_419deb9404314f5d91d84f5f9f766e5b",
            "value": "Map: 100%"
          }
        },
        "598c4aaf064d4f819365cb0b4fea2d31": {
          "model_module": "@jupyter-widgets/controls",
          "model_name": "FloatProgressModel",
          "model_module_version": "1.5.0",
          "state": {
            "_dom_classes": [],
            "_model_module": "@jupyter-widgets/controls",
            "_model_module_version": "1.5.0",
            "_model_name": "FloatProgressModel",
            "_view_count": null,
            "_view_module": "@jupyter-widgets/controls",
            "_view_module_version": "1.5.0",
            "_view_name": "ProgressView",
            "bar_style": "success",
            "description": "",
            "description_tooltip": null,
            "layout": "IPY_MODEL_628dd58f27174183839bc21302b463bb",
            "max": 50000,
            "min": 0,
            "orientation": "horizontal",
            "style": "IPY_MODEL_b7606457b5b9455094a95a399332b058",
            "value": 50000
          }
        },
        "7fda835e9f244cd5aaac46ac9ee58229": {
          "model_module": "@jupyter-widgets/controls",
          "model_name": "HTMLModel",
          "model_module_version": "1.5.0",
          "state": {
            "_dom_classes": [],
            "_model_module": "@jupyter-widgets/controls",
            "_model_module_version": "1.5.0",
            "_model_name": "HTMLModel",
            "_view_count": null,
            "_view_module": "@jupyter-widgets/controls",
            "_view_module_version": "1.5.0",
            "_view_name": "HTMLView",
            "description": "",
            "description_tooltip": null,
            "layout": "IPY_MODEL_bc455c96ea104991bb59dffbcb4b5a1c",
            "placeholder": "​",
            "style": "IPY_MODEL_2a787ca7a05e4cfcb47052adb7230da4",
            "value": " 50000/50000 [00:49&lt;00:00, 1023.66 examples/s]"
          }
        },
        "a66bfaec18a14c60b42a491813db86af": {
          "model_module": "@jupyter-widgets/base",
          "model_name": "LayoutModel",
          "model_module_version": "1.2.0",
          "state": {
            "_model_module": "@jupyter-widgets/base",
            "_model_module_version": "1.2.0",
            "_model_name": "LayoutModel",
            "_view_count": null,
            "_view_module": "@jupyter-widgets/base",
            "_view_module_version": "1.2.0",
            "_view_name": "LayoutView",
            "align_content": null,
            "align_items": null,
            "align_self": null,
            "border": null,
            "bottom": null,
            "display": null,
            "flex": null,
            "flex_flow": null,
            "grid_area": null,
            "grid_auto_columns": null,
            "grid_auto_flow": null,
            "grid_auto_rows": null,
            "grid_column": null,
            "grid_gap": null,
            "grid_row": null,
            "grid_template_areas": null,
            "grid_template_columns": null,
            "grid_template_rows": null,
            "height": null,
            "justify_content": null,
            "justify_items": null,
            "left": null,
            "margin": null,
            "max_height": null,
            "max_width": null,
            "min_height": null,
            "min_width": null,
            "object_fit": null,
            "object_position": null,
            "order": null,
            "overflow": null,
            "overflow_x": null,
            "overflow_y": null,
            "padding": null,
            "right": null,
            "top": null,
            "visibility": null,
            "width": null
          }
        },
        "e27bc738fd214364bd11f1fe3c787fda": {
          "model_module": "@jupyter-widgets/base",
          "model_name": "LayoutModel",
          "model_module_version": "1.2.0",
          "state": {
            "_model_module": "@jupyter-widgets/base",
            "_model_module_version": "1.2.0",
            "_model_name": "LayoutModel",
            "_view_count": null,
            "_view_module": "@jupyter-widgets/base",
            "_view_module_version": "1.2.0",
            "_view_name": "LayoutView",
            "align_content": null,
            "align_items": null,
            "align_self": null,
            "border": null,
            "bottom": null,
            "display": null,
            "flex": null,
            "flex_flow": null,
            "grid_area": null,
            "grid_auto_columns": null,
            "grid_auto_flow": null,
            "grid_auto_rows": null,
            "grid_column": null,
            "grid_gap": null,
            "grid_row": null,
            "grid_template_areas": null,
            "grid_template_columns": null,
            "grid_template_rows": null,
            "height": null,
            "justify_content": null,
            "justify_items": null,
            "left": null,
            "margin": null,
            "max_height": null,
            "max_width": null,
            "min_height": null,
            "min_width": null,
            "object_fit": null,
            "object_position": null,
            "order": null,
            "overflow": null,
            "overflow_x": null,
            "overflow_y": null,
            "padding": null,
            "right": null,
            "top": null,
            "visibility": null,
            "width": null
          }
        },
        "419deb9404314f5d91d84f5f9f766e5b": {
          "model_module": "@jupyter-widgets/controls",
          "model_name": "DescriptionStyleModel",
          "model_module_version": "1.5.0",
          "state": {
            "_model_module": "@jupyter-widgets/controls",
            "_model_module_version": "1.5.0",
            "_model_name": "DescriptionStyleModel",
            "_view_count": null,
            "_view_module": "@jupyter-widgets/base",
            "_view_module_version": "1.2.0",
            "_view_name": "StyleView",
            "description_width": ""
          }
        },
        "628dd58f27174183839bc21302b463bb": {
          "model_module": "@jupyter-widgets/base",
          "model_name": "LayoutModel",
          "model_module_version": "1.2.0",
          "state": {
            "_model_module": "@jupyter-widgets/base",
            "_model_module_version": "1.2.0",
            "_model_name": "LayoutModel",
            "_view_count": null,
            "_view_module": "@jupyter-widgets/base",
            "_view_module_version": "1.2.0",
            "_view_name": "LayoutView",
            "align_content": null,
            "align_items": null,
            "align_self": null,
            "border": null,
            "bottom": null,
            "display": null,
            "flex": null,
            "flex_flow": null,
            "grid_area": null,
            "grid_auto_columns": null,
            "grid_auto_flow": null,
            "grid_auto_rows": null,
            "grid_column": null,
            "grid_gap": null,
            "grid_row": null,
            "grid_template_areas": null,
            "grid_template_columns": null,
            "grid_template_rows": null,
            "height": null,
            "justify_content": null,
            "justify_items": null,
            "left": null,
            "margin": null,
            "max_height": null,
            "max_width": null,
            "min_height": null,
            "min_width": null,
            "object_fit": null,
            "object_position": null,
            "order": null,
            "overflow": null,
            "overflow_x": null,
            "overflow_y": null,
            "padding": null,
            "right": null,
            "top": null,
            "visibility": null,
            "width": null
          }
        },
        "b7606457b5b9455094a95a399332b058": {
          "model_module": "@jupyter-widgets/controls",
          "model_name": "ProgressStyleModel",
          "model_module_version": "1.5.0",
          "state": {
            "_model_module": "@jupyter-widgets/controls",
            "_model_module_version": "1.5.0",
            "_model_name": "ProgressStyleModel",
            "_view_count": null,
            "_view_module": "@jupyter-widgets/base",
            "_view_module_version": "1.2.0",
            "_view_name": "StyleView",
            "bar_color": null,
            "description_width": ""
          }
        },
        "bc455c96ea104991bb59dffbcb4b5a1c": {
          "model_module": "@jupyter-widgets/base",
          "model_name": "LayoutModel",
          "model_module_version": "1.2.0",
          "state": {
            "_model_module": "@jupyter-widgets/base",
            "_model_module_version": "1.2.0",
            "_model_name": "LayoutModel",
            "_view_count": null,
            "_view_module": "@jupyter-widgets/base",
            "_view_module_version": "1.2.0",
            "_view_name": "LayoutView",
            "align_content": null,
            "align_items": null,
            "align_self": null,
            "border": null,
            "bottom": null,
            "display": null,
            "flex": null,
            "flex_flow": null,
            "grid_area": null,
            "grid_auto_columns": null,
            "grid_auto_flow": null,
            "grid_auto_rows": null,
            "grid_column": null,
            "grid_gap": null,
            "grid_row": null,
            "grid_template_areas": null,
            "grid_template_columns": null,
            "grid_template_rows": null,
            "height": null,
            "justify_content": null,
            "justify_items": null,
            "left": null,
            "margin": null,
            "max_height": null,
            "max_width": null,
            "min_height": null,
            "min_width": null,
            "object_fit": null,
            "object_position": null,
            "order": null,
            "overflow": null,
            "overflow_x": null,
            "overflow_y": null,
            "padding": null,
            "right": null,
            "top": null,
            "visibility": null,
            "width": null
          }
        },
        "2a787ca7a05e4cfcb47052adb7230da4": {
          "model_module": "@jupyter-widgets/controls",
          "model_name": "DescriptionStyleModel",
          "model_module_version": "1.5.0",
          "state": {
            "_model_module": "@jupyter-widgets/controls",
            "_model_module_version": "1.5.0",
            "_model_name": "DescriptionStyleModel",
            "_view_count": null,
            "_view_module": "@jupyter-widgets/base",
            "_view_module_version": "1.2.0",
            "_view_name": "StyleView",
            "description_width": ""
          }
        },
        "6997eb05b6144288a4768a851efb4c13": {
          "model_module": "@jupyter-widgets/controls",
          "model_name": "HBoxModel",
          "model_module_version": "1.5.0",
          "state": {
            "_dom_classes": [],
            "_model_module": "@jupyter-widgets/controls",
            "_model_module_version": "1.5.0",
            "_model_name": "HBoxModel",
            "_view_count": null,
            "_view_module": "@jupyter-widgets/controls",
            "_view_module_version": "1.5.0",
            "_view_name": "HBoxView",
            "box_style": "",
            "children": [
              "IPY_MODEL_dee93730d6384c70961b2202476bd979",
              "IPY_MODEL_90f7ac899567465989476e4300f33be1",
              "IPY_MODEL_87a7fc36530649fa920628922c28ba45"
            ],
            "layout": "IPY_MODEL_96a22230a2124071a3258736eb209e38"
          }
        },
        "dee93730d6384c70961b2202476bd979": {
          "model_module": "@jupyter-widgets/controls",
          "model_name": "HTMLModel",
          "model_module_version": "1.5.0",
          "state": {
            "_dom_classes": [],
            "_model_module": "@jupyter-widgets/controls",
            "_model_module_version": "1.5.0",
            "_model_name": "HTMLModel",
            "_view_count": null,
            "_view_module": "@jupyter-widgets/controls",
            "_view_module_version": "1.5.0",
            "_view_name": "HTMLView",
            "description": "",
            "description_tooltip": null,
            "layout": "IPY_MODEL_4e6818654818403e8b724da164538411",
            "placeholder": "​",
            "style": "IPY_MODEL_b66c0f039b814257ba0861edc0d11c28",
            "value": "Map: 100%"
          }
        },
        "90f7ac899567465989476e4300f33be1": {
          "model_module": "@jupyter-widgets/controls",
          "model_name": "FloatProgressModel",
          "model_module_version": "1.5.0",
          "state": {
            "_dom_classes": [],
            "_model_module": "@jupyter-widgets/controls",
            "_model_module_version": "1.5.0",
            "_model_name": "FloatProgressModel",
            "_view_count": null,
            "_view_module": "@jupyter-widgets/controls",
            "_view_module_version": "1.5.0",
            "_view_name": "ProgressView",
            "bar_style": "success",
            "description": "",
            "description_tooltip": null,
            "layout": "IPY_MODEL_cce93772bdc04fc3805ff6af4730b6a2",
            "max": 5000,
            "min": 0,
            "orientation": "horizontal",
            "style": "IPY_MODEL_845bd801d09342ba87966eeb9cd0fa39",
            "value": 5000
          }
        },
        "87a7fc36530649fa920628922c28ba45": {
          "model_module": "@jupyter-widgets/controls",
          "model_name": "HTMLModel",
          "model_module_version": "1.5.0",
          "state": {
            "_dom_classes": [],
            "_model_module": "@jupyter-widgets/controls",
            "_model_module_version": "1.5.0",
            "_model_name": "HTMLModel",
            "_view_count": null,
            "_view_module": "@jupyter-widgets/controls",
            "_view_module_version": "1.5.0",
            "_view_name": "HTMLView",
            "description": "",
            "description_tooltip": null,
            "layout": "IPY_MODEL_85a8e2025c8c4b63be225a59ce5f29fa",
            "placeholder": "​",
            "style": "IPY_MODEL_b4e021265bdf46f48ae5326f6b8eb079",
            "value": " 5000/5000 [00:04&lt;00:00, 1155.35 examples/s]"
          }
        },
        "96a22230a2124071a3258736eb209e38": {
          "model_module": "@jupyter-widgets/base",
          "model_name": "LayoutModel",
          "model_module_version": "1.2.0",
          "state": {
            "_model_module": "@jupyter-widgets/base",
            "_model_module_version": "1.2.0",
            "_model_name": "LayoutModel",
            "_view_count": null,
            "_view_module": "@jupyter-widgets/base",
            "_view_module_version": "1.2.0",
            "_view_name": "LayoutView",
            "align_content": null,
            "align_items": null,
            "align_self": null,
            "border": null,
            "bottom": null,
            "display": null,
            "flex": null,
            "flex_flow": null,
            "grid_area": null,
            "grid_auto_columns": null,
            "grid_auto_flow": null,
            "grid_auto_rows": null,
            "grid_column": null,
            "grid_gap": null,
            "grid_row": null,
            "grid_template_areas": null,
            "grid_template_columns": null,
            "grid_template_rows": null,
            "height": null,
            "justify_content": null,
            "justify_items": null,
            "left": null,
            "margin": null,
            "max_height": null,
            "max_width": null,
            "min_height": null,
            "min_width": null,
            "object_fit": null,
            "object_position": null,
            "order": null,
            "overflow": null,
            "overflow_x": null,
            "overflow_y": null,
            "padding": null,
            "right": null,
            "top": null,
            "visibility": null,
            "width": null
          }
        },
        "4e6818654818403e8b724da164538411": {
          "model_module": "@jupyter-widgets/base",
          "model_name": "LayoutModel",
          "model_module_version": "1.2.0",
          "state": {
            "_model_module": "@jupyter-widgets/base",
            "_model_module_version": "1.2.0",
            "_model_name": "LayoutModel",
            "_view_count": null,
            "_view_module": "@jupyter-widgets/base",
            "_view_module_version": "1.2.0",
            "_view_name": "LayoutView",
            "align_content": null,
            "align_items": null,
            "align_self": null,
            "border": null,
            "bottom": null,
            "display": null,
            "flex": null,
            "flex_flow": null,
            "grid_area": null,
            "grid_auto_columns": null,
            "grid_auto_flow": null,
            "grid_auto_rows": null,
            "grid_column": null,
            "grid_gap": null,
            "grid_row": null,
            "grid_template_areas": null,
            "grid_template_columns": null,
            "grid_template_rows": null,
            "height": null,
            "justify_content": null,
            "justify_items": null,
            "left": null,
            "margin": null,
            "max_height": null,
            "max_width": null,
            "min_height": null,
            "min_width": null,
            "object_fit": null,
            "object_position": null,
            "order": null,
            "overflow": null,
            "overflow_x": null,
            "overflow_y": null,
            "padding": null,
            "right": null,
            "top": null,
            "visibility": null,
            "width": null
          }
        },
        "b66c0f039b814257ba0861edc0d11c28": {
          "model_module": "@jupyter-widgets/controls",
          "model_name": "DescriptionStyleModel",
          "model_module_version": "1.5.0",
          "state": {
            "_model_module": "@jupyter-widgets/controls",
            "_model_module_version": "1.5.0",
            "_model_name": "DescriptionStyleModel",
            "_view_count": null,
            "_view_module": "@jupyter-widgets/base",
            "_view_module_version": "1.2.0",
            "_view_name": "StyleView",
            "description_width": ""
          }
        },
        "cce93772bdc04fc3805ff6af4730b6a2": {
          "model_module": "@jupyter-widgets/base",
          "model_name": "LayoutModel",
          "model_module_version": "1.2.0",
          "state": {
            "_model_module": "@jupyter-widgets/base",
            "_model_module_version": "1.2.0",
            "_model_name": "LayoutModel",
            "_view_count": null,
            "_view_module": "@jupyter-widgets/base",
            "_view_module_version": "1.2.0",
            "_view_name": "LayoutView",
            "align_content": null,
            "align_items": null,
            "align_self": null,
            "border": null,
            "bottom": null,
            "display": null,
            "flex": null,
            "flex_flow": null,
            "grid_area": null,
            "grid_auto_columns": null,
            "grid_auto_flow": null,
            "grid_auto_rows": null,
            "grid_column": null,
            "grid_gap": null,
            "grid_row": null,
            "grid_template_areas": null,
            "grid_template_columns": null,
            "grid_template_rows": null,
            "height": null,
            "justify_content": null,
            "justify_items": null,
            "left": null,
            "margin": null,
            "max_height": null,
            "max_width": null,
            "min_height": null,
            "min_width": null,
            "object_fit": null,
            "object_position": null,
            "order": null,
            "overflow": null,
            "overflow_x": null,
            "overflow_y": null,
            "padding": null,
            "right": null,
            "top": null,
            "visibility": null,
            "width": null
          }
        },
        "845bd801d09342ba87966eeb9cd0fa39": {
          "model_module": "@jupyter-widgets/controls",
          "model_name": "ProgressStyleModel",
          "model_module_version": "1.5.0",
          "state": {
            "_model_module": "@jupyter-widgets/controls",
            "_model_module_version": "1.5.0",
            "_model_name": "ProgressStyleModel",
            "_view_count": null,
            "_view_module": "@jupyter-widgets/base",
            "_view_module_version": "1.2.0",
            "_view_name": "StyleView",
            "bar_color": null,
            "description_width": ""
          }
        },
        "85a8e2025c8c4b63be225a59ce5f29fa": {
          "model_module": "@jupyter-widgets/base",
          "model_name": "LayoutModel",
          "model_module_version": "1.2.0",
          "state": {
            "_model_module": "@jupyter-widgets/base",
            "_model_module_version": "1.2.0",
            "_model_name": "LayoutModel",
            "_view_count": null,
            "_view_module": "@jupyter-widgets/base",
            "_view_module_version": "1.2.0",
            "_view_name": "LayoutView",
            "align_content": null,
            "align_items": null,
            "align_self": null,
            "border": null,
            "bottom": null,
            "display": null,
            "flex": null,
            "flex_flow": null,
            "grid_area": null,
            "grid_auto_columns": null,
            "grid_auto_flow": null,
            "grid_auto_rows": null,
            "grid_column": null,
            "grid_gap": null,
            "grid_row": null,
            "grid_template_areas": null,
            "grid_template_columns": null,
            "grid_template_rows": null,
            "height": null,
            "justify_content": null,
            "justify_items": null,
            "left": null,
            "margin": null,
            "max_height": null,
            "max_width": null,
            "min_height": null,
            "min_width": null,
            "object_fit": null,
            "object_position": null,
            "order": null,
            "overflow": null,
            "overflow_x": null,
            "overflow_y": null,
            "padding": null,
            "right": null,
            "top": null,
            "visibility": null,
            "width": null
          }
        },
        "b4e021265bdf46f48ae5326f6b8eb079": {
          "model_module": "@jupyter-widgets/controls",
          "model_name": "DescriptionStyleModel",
          "model_module_version": "1.5.0",
          "state": {
            "_model_module": "@jupyter-widgets/controls",
            "_model_module_version": "1.5.0",
            "_model_name": "DescriptionStyleModel",
            "_view_count": null,
            "_view_module": "@jupyter-widgets/base",
            "_view_module_version": "1.2.0",
            "_view_name": "StyleView",
            "description_width": ""
          }
        }
      }
    }
  },
  "nbformat": 4,
  "nbformat_minor": 0
}