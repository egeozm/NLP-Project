{
 "cells": [
  {
   "cell_type": "markdown",
   "metadata": {
    "collapsed": false,
    "id": "od2YkWY8pSOC",
    "pycharm": {
     "name": "#%% md\n"
    }
   },
   "source": [
    "# NLP 2025\n",
    "# Lab 2: Word Vectors and Information Retrieval\n",
    "\n",
    "During the first few weeks, we discussed various ways to represent text 📝. One key question was: What should be the basic unit of representation? Words are the fundamental building blocks 🧱.\n",
    "\n",
    "In this lab, we will explore different text representation models, such as Bag-of-Words (BoW), TF-IDF and word embeddings 🔤➡️🔢. Among these, word embeddings are the most effective in terms of performance. They represent each word as a vector of numbers, where each vector captures the meaning of the word 🧠📊.\n",
    "\n",
    "These numerical representations (or weights) are learned using machine learning models 🤖. We’ll dive deeper into how these vectors are learned in the next lecture 📚.\n",
    "\n",
    "For now, we’ll focus on how different representation methods affect performance in an information retrieval task 🔍."
   ]
  },
  {
   "cell_type": "markdown",
   "metadata": {
    "collapsed": false,
    "id": "s93LS5bspSOD",
    "pycharm": {
     "name": "#%% md\n"
    }
   },
   "source": [
    "By the end of this lab, you should be able to:\n",
    "\n",
    "+ 🧼🔁 Implement and/or use built-in functions to preprocess your data (once again!)\n",
    "+ 🧱👜 Build a Bag-of-Words representation of the dataset\n",
    "+ 📊✨ Implement TF-IDF\n",
    "+ 📥🔤 Load pre-trained word embeddings\n",
    "+ 🔍🧠 Inspect and test word embedding properties\n",
    "+ 🗣️➡️📐 Use word embeddings to get sentence representations (aka sentence embeddings)\n",
    "+ 🧩🔎 Use sentence embeddings to solve more complex tasks like information retrieval\n",
    "+ 🧪📏 Design evaluation frameworks for specific NLP tasks and assess their difficulty\n",
    "\n",
    "### Score breakdown\n",
    "\n",
    "| Exercise            | Points |\n",
    "|---------------------|--------|\n",
    "| [Exercise 1](#e1)   | 1      |\n",
    "| [Exercise 2](#e2)   | 1      |\n",
    "| [Exercise 3](#e3)   | 1      |\n",
    "| [Exercise 4](#e4)   | 1      |\n",
    "| [Exercise 5](#e5)   | 1      |\n",
    "| [Exercise 6](#e6)   | 2      |\n",
    "| [Exercise 7](#e7)   | 10     |\n",
    "| [Exercise 8](#e8)   | 5      |\n",
    "| [Exercise 9](#e9)   | 15     |\n",
    "| [Exercise 10](#e10) | 10     |\n",
    "| [Exercise 11](#e11) | 10     |\n",
    "| [Exercise 12](#e12) | 5      |\n",
    "| [Exercise 13](#e13) | 15     |\n",
    "| [Exercise 14](#e14) | 3      |\n",
    "| [Exercise 15](#e15) | 10     |\n",
    "| [Exercise 16](#e16) | 10     |\n",
    "| Total               | 100    |\n",
    "\n",
    "This score will be scaled down to 1 and that will be your final lab score.\n",
    "\n",
    "### 📌 **Instructions for Delivery** (📅 **Deadline: 18/Apr 18:00**, 🎭 *wildcards possible*)\n",
    "\n",
    "✅ **Submission Requirements**\n",
    "+ 📄 You need to submit a **PDF of your report** (use the templates provided in **LaTeX** 🖋️ (*preferred*) or **Word** 📑) and a **copy of your notebook** 📓 with the code.\n",
    "+ ⚡ Make sure that **all cells are executed properly** ⚙️ and that **all figures/results/plots** 📊 you include in the report are also visible in your **executed notebook**.\n",
    "\n",
    "✅ **Collaboration & Integrity**\n",
    "+ 🗣️ While you may **discuss** the lab with others, you must **write your solutions with your group only**. If you **discuss specific tasks** with others, please **include their names** in the appendix of the report.\n",
    "+ 📜 **Honor Code applies** to this lab. For more details, check **Syllabus §7.2** ⚖️.\n",
    "+ 📢 **Mandatory Disclosure**:\n",
    "   - Any **websites** 🌐 (e.g., **Stack Overflow** 💡) or **other resources** used must be **listed and disclosed**.\n",
    "   - Any **GenAI tools** 🤖 (e.g., **ChatGPT**) used must be **explicitly mentioned**.\n",
    "   - 🚨 **Failure to disclose these resources is a violation of academic integrity**. See **Syllabus §7.3** for details."
   ]
  },
  {
   "cell_type": "markdown",
   "metadata": {
    "collapsed": false,
    "id": "aHYGq5RUpSOD",
    "pycharm": {
     "name": "#%% md\n"
    }
   },
   "source": [
    "## 0. Setup\n",
    "\n",
    "As in the last lab, we will be using huggingface datasets library ([https://huggingface.co/datasets](https://huggingface.co/datasets)). You can find the detailed documentation and tutorials here: [https://huggingface.co/docs/datasets/en/index](https://huggingface.co/docs/datasets/en/index)\n",
    "\n",
    "If you don't have it installed you can run the code below or install it via `pip` in your terminal. If you are using Google Colab, you can uncomment and run the code below in a code cell. Restarting of the runtime may be required after installation (Runtime/Restart session)."
   ]
  },
  {
   "cell_type": "code",
   "metadata": {
    "id": "rhEG8hKrpSOE",
    "pycharm": {
     "name": "#%%\n"
    },
    "ExecuteTime": {
     "end_time": "2025-04-15T11:56:11.445958Z",
     "start_time": "2025-04-15T11:56:11.444070Z"
    }
   },
   "source": [
    "# ! pip install -U datasets~=3.5.0\n",
    "# ! pip install -U gensim\n",
    "# ! python -m pip install -U matplotlib\n",
    "# ! pip install nltk\n",
    "# ! pip install -U scikit-learn"
   ],
   "outputs": [],
   "execution_count": 3
  },
  {
   "cell_type": "markdown",
   "source": [
    "Previously installed datasets library version of 3.2.0 had an error when combined with numpy version >2. If you encounter an error at some point it might require to update the datasets library to the newer version. You can do that by running the code below. If you are using Google Colab, you can run the code below in a code cell. If you are using Jupyter Notebook, you can run the code below in a code cell or in a terminal."
   ],
   "metadata": {
    "collapsed": false,
    "pycharm": {
     "name": "#%% md\n"
    }
   }
  },
  {
   "cell_type": "code",
   "source": [
    "# ! pip install --upgrade --force-reinstall datasets"
   ],
   "metadata": {
    "collapsed": false,
    "pycharm": {
     "name": "#%%\n"
    },
    "ExecuteTime": {
     "end_time": "2025-04-15T11:56:11.474198Z",
     "start_time": "2025-04-15T11:56:11.472427Z"
    }
   },
   "outputs": [],
   "execution_count": 4
  },
  {
   "cell_type": "markdown",
   "metadata": {
    "collapsed": false,
    "id": "5CCI1TPJpSOF",
    "pycharm": {
     "name": "#%% md\n"
    }
   },
   "source": [
    "As usual, we start by importing some essential Python libraries and we will be using. Apart from `gensim` (which is going to be used for word embeddings), we have already seen the others."
   ]
  },
  {
   "cell_type": "code",
   "metadata": {
    "id": "CRe8W4hKpSOF",
    "pycharm": {
     "name": "#%%\n"
    },
    "ExecuteTime": {
     "end_time": "2025-04-15T11:56:31.519934Z",
     "start_time": "2025-04-15T11:56:11.484992Z"
    }
   },
   "source": [
    "import re\n",
    "import string\n",
    "\n",
    "import numpy as np\n",
    "import matplotlib.pyplot as plt\n",
    "import datasets\n",
    "import nltk\n",
    "import tqdm\n",
    "import gensim\n",
    "from nltk import word_tokenize, pos_tag, WordNetLemmatizer\n",
    "from nltk.app.wordnet_app import lemma_property\n",
    "from nltk.corpus import stopwords\n",
    "from tensorflow.python.ops.gen_math_ops import euclidean_norm\n",
    "\n",
    "nltk.download('stopwords')\n",
    "nltk.download('punkt_tab')"
   ],
   "outputs": [
    {
     "name": "stderr",
     "output_type": "stream",
     "text": [
      "[nltk_data] Downloading package stopwords to\n",
      "[nltk_data]     /Users/egeozm/nltk_data...\n",
      "[nltk_data]   Package stopwords is already up-to-date!\n",
      "[nltk_data] Downloading package punkt_tab to\n",
      "[nltk_data]     /Users/egeozm/nltk_data...\n",
      "[nltk_data]   Unzipping tokenizers/punkt_tab.zip.\n"
     ]
    },
    {
     "data": {
      "text/plain": [
       "True"
      ]
     },
     "execution_count": 5,
     "metadata": {},
     "output_type": "execute_result"
    }
   ],
   "execution_count": 5
  },
  {
   "cell_type": "markdown",
   "metadata": {
    "collapsed": false,
    "id": "NXy-1KiCpSOF",
    "pycharm": {
     "name": "#%% md\n"
    }
   },
   "source": [
    "## 1. Load and Preprocess Data\n",
    "\n",
    "*Sentence compression* involves rephrasing sentences to make them shorter while still retaining the original meaning. A reliable compression system would be valuable for mobile devices and could also serve as a component in an extractive summarization system.\n",
    "\n",
    "The dataset we are going to use can be found on [Huggingface](https://huggingface.co/datasets/embedding-data/sentence-compression). It concerns a set of 180,000 pairs of sentences, aka it is a parallel corpus of sentences and their equivalent compressions. It has been collected by harvesting news articles from the Internet where the headline appears to be similar to the first sentence and that property is used to find an \"extractive\" compression of the sentence.\n",
    "\n",
    "For example, for the sentence\n",
    "\n",
    "`\"Regulators Friday shut down a small Florida bank, bringing to 119 the number of US bank failures this year amid mounting loan defaults\"`\n",
    "\n",
    "the compressed equivalent (based on the dataset) is:\n",
    "\n",
    "`\"Regulators shut down small Florida bank\"`.\n",
    "\n",
    "\n",
    "For more information you can read the original paper (from Google) [here](https://aclanthology.org/D13-1155.pdf). We strongly recommend going over the paper to gain further insights. Notice that the paper is from 2013, therefore word embeddings have not been widely introduced yet in NLP tasks, meaning that the methods applied were based on the traditional NLP pipeline (feature extraction + ML)."
   ]
  },
  {
   "cell_type": "markdown",
   "metadata": {
    "collapsed": false,
    "id": "ztJX2GRVpSOF",
    "pycharm": {
     "name": "#%% md\n"
    }
   },
   "source": [
    "### 1.1 Loading the Dataset\n",
    "\n",
    "The dataset will be loaded as a Pandas DataFrame. This may take a few minutes because of the large size of the data.\n",
    "\n",
    "Make sure to inspect the dataset and make sure it is imported properly."
   ]
  },
  {
   "cell_type": "code",
   "metadata": {
    "id": "tay2NXPTpSOG",
    "pycharm": {
     "name": "#%%\n"
    },
    "ExecuteTime": {
     "end_time": "2025-04-15T11:56:33.537629Z",
     "start_time": "2025-04-15T11:56:31.527753Z"
    }
   },
   "source": [
    "ds = datasets.load_dataset('embedding-data/sentence-compression')\n",
    "print(ds)"
   ],
   "outputs": [
    {
     "name": "stdout",
     "output_type": "stream",
     "text": [
      "DatasetDict({\n",
      "    train: Dataset({\n",
      "        features: ['set'],\n",
      "        num_rows: 180000\n",
      "    })\n",
      "})\n"
     ]
    }
   ],
   "execution_count": 6
  },
  {
   "cell_type": "code",
   "metadata": {
    "id": "bUud3eZVpSOH",
    "pycharm": {
     "name": "#%%\n"
    },
    "ExecuteTime": {
     "end_time": "2025-04-15T11:56:33.548860Z",
     "start_time": "2025-04-15T11:56:33.544983Z"
    }
   },
   "source": [
    "for i in range(10):\n",
    "    print(ds['train'][i])"
   ],
   "outputs": [
    {
     "name": "stdout",
     "output_type": "stream",
     "text": [
      "{'set': [\"The USHL completed an expansion draft on Monday as 10 players who were on the rosters of USHL teams during the 2009-10 season were selected by the League's two newest entries, the Muskegon Lumberjacks and Dubuque Fighting Saints.\", 'USHL completes expansion draft']}\n",
      "{'set': ['Major League Baseball Commissioner Bud Selig will be speaking at St. Norbert College next month.', 'Bud Selig to speak at St. Norbert College']}\n",
      "{'set': [\"It's fresh cherry time in Michigan and the best time to enjoy this delicious and nutritious fruit.\", \"It's cherry time\"]}\n",
      "{'set': ['An Evesham man is facing charges in Pennsylvania after he allegedly dragged his girlfriend from the side of his pickup truck on the campus of Kutztown University in the early morning hours of Dec. 5, police said.', 'Evesham man faces charges for Pa.']}\n",
      "{'set': [\"NRT LLC, one of the nation's largest residential real estate brokerage companies, announced several executive appointments within its Coldwell Banker Residential Brokerage operations in Southern California.\", 'NRT announces executive appointments at its Coldwell Banker operations in Southern California']}\n",
      "{'set': ['THE JSE kept toying with an all time high by midday today as resources continued to fuel the bourse.', 'JSE keeps toying with all time high']}\n",
      "{'set': ['The government is defending the latest police crime statistics despite a worrying rise in the recorded amount of violent offending.', 'Government defends crime statistics']}\n",
      "{'set': ['The renovated Marappalam bridge, which had been opened for two-wheelers last week, was opened for other vehicles also on Friday.', 'Marappalam bridge opened']}\n",
      "{'set': ['A new survey shows 30 percent of Californians use Twitter, and more and more of us are using our smart phones to go online.', 'Survey: 30 percent of Californians use Twitter']}\n",
      "{'set': ['Brightpoint ,a provider of logistic services to the mobile industry, has started operations in the Turkish market.', 'Brightpoint starts operations on Turkish market']}\n"
     ]
    }
   ],
   "execution_count": 7
  },
  {
   "cell_type": "markdown",
   "metadata": {
    "collapsed": false,
    "id": "HfJSiWxrpSOH",
    "pycharm": {
     "name": "#%% md\n"
    }
   },
   "source": [
    "The dataset comes with only the `train` split so we will have to split it ourselves."
   ]
  },
  {
   "cell_type": "code",
   "metadata": {
    "id": "tATL53MWpSOH",
    "pycharm": {
     "name": "#%%\n"
    },
    "ExecuteTime": {
     "end_time": "2025-04-15T11:56:33.591718Z",
     "start_time": "2025-04-15T11:56:33.563193Z"
    }
   },
   "source": [
    "split_ds = ds['train'].train_test_split(test_size=0.2)\n",
    "print(split_ds)"
   ],
   "outputs": [
    {
     "name": "stdout",
     "output_type": "stream",
     "text": [
      "DatasetDict({\n",
      "    train: Dataset({\n",
      "        features: ['set'],\n",
      "        num_rows: 144000\n",
      "    })\n",
      "    test: Dataset({\n",
      "        features: ['set'],\n",
      "        num_rows: 36000\n",
      "    })\n",
      "})\n"
     ]
    }
   ],
   "execution_count": 8
  },
  {
   "cell_type": "markdown",
   "metadata": {
    "collapsed": false,
    "id": "L133t3CqpSOH",
    "pycharm": {
     "name": "#%% md\n"
    }
   },
   "source": [
    "### 1.2 Preprocessing the dataset\n",
    "In this section we will prepare the dataset, aka clean the sentences and tokenize.\n",
    "\n",
    "First, let's write the function to clean the text. It can be similar to the one from the previous lab (Lab1) but make sure that it makes sense for this dataset and task.\n",
    "\n",
    "More specifically, think about lower-casing, punctuation, stop-words and lemmatization/stemming and the impact it might have on the dataset. Also reflect on the fact that with word embeddings we want to uncover semantic relationships between words, whereas with bag-of-words we were trying to capture different morphological variations."
   ]
  },
  {
   "cell_type": "markdown",
   "metadata": {
    "collapsed": false,
    "id": "mQszN6GNpSOH",
    "pycharm": {
     "name": "#%% md\n"
    }
   },
   "source": [
    "<a name='e1'></a>\n",
    "### Exercise 1: Clean function\n",
    "(1p) Fill in the following function ot clean the dataset. Implement at least 3 different steps."
   ]
  },
  {
   "metadata": {
    "id": "TxjfLQj6pSOH",
    "pycharm": {
     "name": "#%%\n"
    },
    "ExecuteTime": {
     "end_time": "2025-04-15T11:56:33.598569Z",
     "start_time": "2025-04-15T11:56:33.596323Z"
    }
   },
   "cell_type": "code",
   "source": [
    "def clean(text):\n",
    "    \"\"\"\n",
    "    Cleans the given text\n",
    "    Args:\n",
    "        text: a str with the text to clean\n",
    "\n",
    "    Returns: a str with the cleaned text\n",
    "\n",
    "    \"\"\"\n",
    "\n",
    "    # Empty text\n",
    "    if text == '':\n",
    "        return text\n",
    "\n",
    "    # 'text' from the example can be of type numpy.str_, let's convert it to a python str\n",
    "    text = str(text)\n",
    "\n",
    "    #you might need more\n",
    "    #add them here\n",
    "\n",
    "    ### YOUR CODE HERE\n",
    "\n",
    "    text = text.lower() #1\n",
    "    text = re.sub(r'[^\\w\\s]', '', text) #2\n",
    "    text = re.sub(r'\\s+', ' ', text).strip()\n",
    "    words = text.split()\n",
    "    filtered_words = [word for word in words if word not in stopwords.words('english')] #3\n",
    "\n",
    "    ### YOUR CODE ENDS HERE\n",
    "\n",
    "    text = ' '.join(filtered_words)\n",
    "\n",
    "    # Update the example with the cleaned text\n",
    "    return text"
   ],
   "outputs": [],
   "execution_count": 9
  },
  {
   "cell_type": "markdown",
   "metadata": {
    "collapsed": false,
    "id": "gAqf1AoupSOJ",
    "pycharm": {
     "name": "#%% md\n"
    }
   },
   "source": [
    "The following function will apply the function (sic) you just wrote to the whole dataset. More specifically, it takes the first entry (`sentence`) from the set of uncompressed/compressed pairs, applies the `clean` function and saves the processed sentence in the field `clean_sentence`. The same is dome for the compressed version of the sentence (saved as `clean_compressed`)."
   ]
  },
  {
   "cell_type": "code",
   "metadata": {
    "id": "WZn-M4_vpSOJ",
    "pycharm": {
     "name": "#%%\n"
    },
    "ExecuteTime": {
     "end_time": "2025-04-15T11:56:33.615392Z",
     "start_time": "2025-04-15T11:56:33.613418Z"
    }
   },
   "source": [
    "def clean_dataset(example):\n",
    "    \"\"\"\n",
    "    Cleans the sentence and compressed sentence in the example from the Dataset\n",
    "    Args:\n",
    "        example: an example from the Dataset\n",
    "\n",
    "    Returns: updated example with 'clean_sentence' and 'clean_compressed' cleaned\n",
    "\n",
    "    \"\"\"\n",
    "    sentence, compressed = example['set']\n",
    "    clean_sentence = clean(sentence)\n",
    "    clean_compressed = clean(compressed)\n",
    "    example['clean_sentence'] = clean_sentence\n",
    "    example['clean_compressed'] = clean_compressed\n",
    "    return example"
   ],
   "outputs": [],
   "execution_count": 10
  },
  {
   "cell_type": "markdown",
   "metadata": {
    "collapsed": false,
    "id": "_KVujosKpSOJ",
    "pycharm": {
     "name": "#%% md\n"
    }
   },
   "source": [
    "Below we apply the function to the whole dataset (using `map`) and we can also inspect the result."
   ]
  },
  {
   "cell_type": "code",
   "metadata": {
    "id": "NBS1JbISpSOJ",
    "pycharm": {
     "name": "#%%\n"
    },
    "ExecuteTime": {
     "end_time": "2025-04-15T12:00:22.792674Z",
     "start_time": "2025-04-15T11:56:33.626636Z"
    }
   },
   "source": [
    "split_ds = split_ds.map(clean_dataset)\n",
    "print(split_ds)"
   ],
   "outputs": [
    {
     "data": {
      "text/plain": [
       "Map:   0%|          | 0/144000 [00:00<?, ? examples/s]"
      ],
      "application/vnd.jupyter.widget-view+json": {
       "version_major": 2,
       "version_minor": 0,
       "model_id": "48ce23b7f0c24ea7b1c9c75f10356273"
      }
     },
     "metadata": {},
     "output_type": "display_data"
    },
    {
     "data": {
      "text/plain": [
       "Map:   0%|          | 0/36000 [00:00<?, ? examples/s]"
      ],
      "application/vnd.jupyter.widget-view+json": {
       "version_major": 2,
       "version_minor": 0,
       "model_id": "4ca53313be454729872a39317a11b541"
      }
     },
     "metadata": {},
     "output_type": "display_data"
    },
    {
     "name": "stdout",
     "output_type": "stream",
     "text": [
      "DatasetDict({\n",
      "    train: Dataset({\n",
      "        features: ['set', 'clean_sentence', 'clean_compressed'],\n",
      "        num_rows: 144000\n",
      "    })\n",
      "    test: Dataset({\n",
      "        features: ['set', 'clean_sentence', 'clean_compressed'],\n",
      "        num_rows: 36000\n",
      "    })\n",
      "})\n"
     ]
    }
   ],
   "execution_count": 11
  },
  {
   "cell_type": "markdown",
   "metadata": {
    "collapsed": false,
    "id": "X_ThE9H-pSOJ",
    "pycharm": {
     "name": "#%% md\n"
    }
   },
   "source": [
    "Let's examine some examples from the dataset and make sure that we got the results we wanted. At this step, it might be necessary to revisit some pre-processing steps if you are not happy with the results."
   ]
  },
  {
   "cell_type": "code",
   "metadata": {
    "id": "hP-qOPijpSOJ",
    "pycharm": {
     "name": "#%%\n"
    },
    "ExecuteTime": {
     "end_time": "2025-04-15T12:00:22.813886Z",
     "start_time": "2025-04-15T12:00:22.811383Z"
    }
   },
   "source": [
    "for i in range(10):\n",
    "    print(split_ds['train'][i])"
   ],
   "outputs": [
    {
     "name": "stdout",
     "output_type": "stream",
     "text": [
      "{'set': ['Gold futures hit a record high of Rs 31,029 per 10 grams on Thursday at the MCX as investors shifted funds to the yellow metal on global cues and a weakened dollar.', 'Gold futures hit record high of Rs 31,029'], 'clean_sentence': 'gold futures hit record high rs 31029 per 10 grams thursday mcx investors shifted funds yellow metal global cues weakened dollar', 'clean_compressed': 'gold futures hit record high rs 31029'}\n",
      "{'set': ['St Neots continued their unbeaten run with a crushing 76-10 victory over bottom placed Stamford College Old Boys on Saturday.', 'St Neots continue unbeaten run'], 'clean_sentence': 'st neots continued unbeaten run crushing 7610 victory bottom placed stamford college old boys saturday', 'clean_compressed': 'st neots continue unbeaten run'}\n",
      "{'set': ['Bristol, RI, June 15, 2011 --- Displays2go.com, a wholesale display specialty store has just released their new line of adjustable height podiums and lecture stands.', 'Displays2go.com releases new adjustable height podiums'], 'clean_sentence': 'bristol ri june 15 2011 displays2gocom wholesale display specialty store released new line adjustable height podiums lecture stands', 'clean_compressed': 'displays2gocom releases new adjustable height podiums'}\n",
      "{'set': [\"When sun and moon campaign for BJP in Uttar Pradesh, who cares for 'star' campaigners?\", \"When sun and moon campaign who cares for the 'stars'?\"], 'clean_sentence': 'sun moon campaign bjp uttar pradesh cares star campaigners', 'clean_compressed': 'sun moon campaign cares stars'}\n",
      "{'set': [\"China will start issuing a new type of passport with an electronic chip that will contain a record of cardholder's personal information.\", 'China to issue passports with electronic chips'], 'clean_sentence': 'china start issuing new type passport electronic chip contain record cardholders personal information', 'clean_compressed': 'china issue passports electronic chips'}\n",
      "{'set': [\"The first Police and Crime Commissioner for the West Midlands has stopped controversial plans to allow private firms to run parts of the force's core services.\", 'Police and Crime Commissioner stops controversial plans'], 'clean_sentence': 'first police crime commissioner west midlands stopped controversial plans allow private firms run parts forces core services', 'clean_compressed': 'police crime commissioner stops controversial plans'}\n",
      "{'set': ['Sacramento Kings rookie Thomas Robinson will be suspended for two games for throwing an elbow at Detroit Pistons forward Jonas Jerebko on Wednesday night, according to Brian Windhorst of ESPN.', 'Kings rookie Thomas Robinson suspended for thrown elbow vs. Pistons'], 'clean_sentence': 'sacramento kings rookie thomas robinson suspended two games throwing elbow detroit pistons forward jonas jerebko wednesday night according brian windhorst espn', 'clean_compressed': 'kings rookie thomas robinson suspended thrown elbow vs pistons'}\n",
      "{'set': ['Three females suffer minor injuries after a rollover Monday morning into a water filled ditch south of Saskatoon.', 'Minor injuries after rollover into water filled ditch south of Saskatoon'], 'clean_sentence': 'three females suffer minor injuries rollover monday morning water filled ditch south saskatoon', 'clean_compressed': 'minor injuries rollover water filled ditch south saskatoon'}\n",
      "{'set': ['The University of North Carolina says former Olympic sprinter Antonio Pettigrew was found dead in Chatham County early Tuesday.', 'Former olympian Antonio Pettigrew found dead'], 'clean_sentence': 'university north carolina says former olympic sprinter antonio pettigrew found dead chatham county early tuesday', 'clean_compressed': 'former olympian antonio pettigrew found dead'}\n",
      "{'set': [\"It now appears that the chief executive of E.On, Paul Golby, said that coal plants are vital back up for the UK's energy needs.\", 'E.On says coal plants are vital for back up'], 'clean_sentence': 'appears chief executive eon paul golby said coal plants vital back uks energy needs', 'clean_compressed': 'eon says coal plants vital back'}\n"
     ]
    }
   ],
   "execution_count": 12
  },
  {
   "cell_type": "markdown",
   "metadata": {
    "collapsed": false,
    "id": "7LI2KlfypSOJ",
    "pycharm": {
     "name": "#%% md\n"
    }
   },
   "source": [
    "<a name='e2'></a>\n",
    "### Exercise 2: Tokenize function\n",
    "\n",
    "(1p) As always, we will need to tokenize the dataset in order to create bat-of-words and TF-IDF representations in the next sections. We will use the [Natural Language Toolkit (NLTK) library]([https://www.nltk.org/]) (https://www.nltk.org/). Complete the following function to split the text into tokens using the `word_tokenize()` function. Check the [documentation](https://www.nltk.org/api/nltk.tokenize.word_tokenize.html?highlight=word_tokenize) first.\n",
    "Note that there are different tokenizers e.g. `RegexpTokenizer` where you can enter your own regexp, `WhitespaceTokenizer` (similar to Python's string.split()) and `BlanklineTokenizer`."
   ]
  },
  {
   "cell_type": "code",
   "metadata": {
    "id": "sb-M3V6ApSOK",
    "pycharm": {
     "name": "#%%\n"
    },
    "ExecuteTime": {
     "end_time": "2025-04-15T12:00:22.860855Z",
     "start_time": "2025-04-15T12:00:22.858991Z"
    }
   },
   "source": [
    "def tokenize(text):\n",
    "    \"\"\"\n",
    "    Tokenizes the `text` parameter using nltk library\n",
    "    Args:\n",
    "        text: a string representing a sentence to be tokenized\n",
    "\n",
    "    Returns: a list of tokens (strings)\n",
    "\n",
    "    \"\"\"\n",
    "\n",
    "    ### YOUR CODE HERE\n",
    "\n",
    "\n",
    "    tokens = word_tokenize(text)\n",
    "\n",
    "\n",
    "    ### YOUR CODE ENDS HERE\n",
    "    return tokens"
   ],
   "outputs": [],
   "execution_count": 13
  },
  {
   "cell_type": "markdown",
   "metadata": {
    "collapsed": false,
    "id": "gwsHqZc9pSOK",
    "pycharm": {
     "name": "#%% md\n"
    }
   },
   "source": [
    "Next, the function will be applied to the whole dataset (as we did with the pre-processing) and `sentence_tokens` field will be created to store the result."
   ]
  },
  {
   "cell_type": "code",
   "metadata": {
    "id": "6sTX-AcTpSOK",
    "pycharm": {
     "name": "#%%\n"
    },
    "ExecuteTime": {
     "end_time": "2025-04-15T12:00:22.887499Z",
     "start_time": "2025-04-15T12:00:22.885489Z"
    }
   },
   "source": [
    "def tokenize_dataset(example):\n",
    "    \"\"\"\n",
    "    Tokenizes 'clean_sentence' columns in the example from the Dataset\n",
    "    Args:\n",
    "        example: an example from the Dataset\n",
    "\n",
    "    Returns: updated example with 'sentence_tokens' columns\n",
    "\n",
    "    \"\"\"\n",
    "    example['sentence_tokens'] = tokenize(example['clean_sentence'])\n",
    "    example['compressed_tokens'] = tokenize(example['clean_compressed'])\n",
    "    return example"
   ],
   "outputs": [],
   "execution_count": 14
  },
  {
   "cell_type": "code",
   "metadata": {
    "id": "jvwmXLj2pSOK",
    "pycharm": {
     "name": "#%%\n"
    },
    "ExecuteTime": {
     "end_time": "2025-04-15T12:00:37.983573Z",
     "start_time": "2025-04-15T12:00:22.920234Z"
    }
   },
   "source": [
    "split_ds = split_ds.map(tokenize_dataset)"
   ],
   "outputs": [
    {
     "data": {
      "text/plain": [
       "Map:   0%|          | 0/144000 [00:00<?, ? examples/s]"
      ],
      "application/vnd.jupyter.widget-view+json": {
       "version_major": 2,
       "version_minor": 0,
       "model_id": "17d2870f127f4007b9e1c403d75ae696"
      }
     },
     "metadata": {},
     "output_type": "display_data"
    },
    {
     "data": {
      "text/plain": [
       "Map:   0%|          | 0/36000 [00:00<?, ? examples/s]"
      ],
      "application/vnd.jupyter.widget-view+json": {
       "version_major": 2,
       "version_minor": 0,
       "model_id": "f3076d42e5ac47e3a4cbfcecca279436"
      }
     },
     "metadata": {},
     "output_type": "display_data"
    }
   ],
   "execution_count": 15
  },
  {
   "cell_type": "code",
   "metadata": {
    "id": "yXnje31SpSOK",
    "pycharm": {
     "name": "#%%\n"
    },
    "ExecuteTime": {
     "end_time": "2025-04-15T12:00:37.993184Z",
     "start_time": "2025-04-15T12:00:37.989122Z"
    }
   },
   "source": [
    "for i in range(10):\n",
    "    print(split_ds['train'][i])"
   ],
   "outputs": [
    {
     "name": "stdout",
     "output_type": "stream",
     "text": [
      "{'set': ['Gold futures hit a record high of Rs 31,029 per 10 grams on Thursday at the MCX as investors shifted funds to the yellow metal on global cues and a weakened dollar.', 'Gold futures hit record high of Rs 31,029'], 'clean_sentence': 'gold futures hit record high rs 31029 per 10 grams thursday mcx investors shifted funds yellow metal global cues weakened dollar', 'clean_compressed': 'gold futures hit record high rs 31029', 'sentence_tokens': ['gold', 'futures', 'hit', 'record', 'high', 'rs', '31029', 'per', '10', 'grams', 'thursday', 'mcx', 'investors', 'shifted', 'funds', 'yellow', 'metal', 'global', 'cues', 'weakened', 'dollar'], 'compressed_tokens': ['gold', 'futures', 'hit', 'record', 'high', 'rs', '31029']}\n",
      "{'set': ['St Neots continued their unbeaten run with a crushing 76-10 victory over bottom placed Stamford College Old Boys on Saturday.', 'St Neots continue unbeaten run'], 'clean_sentence': 'st neots continued unbeaten run crushing 7610 victory bottom placed stamford college old boys saturday', 'clean_compressed': 'st neots continue unbeaten run', 'sentence_tokens': ['st', 'neots', 'continued', 'unbeaten', 'run', 'crushing', '7610', 'victory', 'bottom', 'placed', 'stamford', 'college', 'old', 'boys', 'saturday'], 'compressed_tokens': ['st', 'neots', 'continue', 'unbeaten', 'run']}\n",
      "{'set': ['Bristol, RI, June 15, 2011 --- Displays2go.com, a wholesale display specialty store has just released their new line of adjustable height podiums and lecture stands.', 'Displays2go.com releases new adjustable height podiums'], 'clean_sentence': 'bristol ri june 15 2011 displays2gocom wholesale display specialty store released new line adjustable height podiums lecture stands', 'clean_compressed': 'displays2gocom releases new adjustable height podiums', 'sentence_tokens': ['bristol', 'ri', 'june', '15', '2011', 'displays2gocom', 'wholesale', 'display', 'specialty', 'store', 'released', 'new', 'line', 'adjustable', 'height', 'podiums', 'lecture', 'stands'], 'compressed_tokens': ['displays2gocom', 'releases', 'new', 'adjustable', 'height', 'podiums']}\n",
      "{'set': [\"When sun and moon campaign for BJP in Uttar Pradesh, who cares for 'star' campaigners?\", \"When sun and moon campaign who cares for the 'stars'?\"], 'clean_sentence': 'sun moon campaign bjp uttar pradesh cares star campaigners', 'clean_compressed': 'sun moon campaign cares stars', 'sentence_tokens': ['sun', 'moon', 'campaign', 'bjp', 'uttar', 'pradesh', 'cares', 'star', 'campaigners'], 'compressed_tokens': ['sun', 'moon', 'campaign', 'cares', 'stars']}\n",
      "{'set': [\"China will start issuing a new type of passport with an electronic chip that will contain a record of cardholder's personal information.\", 'China to issue passports with electronic chips'], 'clean_sentence': 'china start issuing new type passport electronic chip contain record cardholders personal information', 'clean_compressed': 'china issue passports electronic chips', 'sentence_tokens': ['china', 'start', 'issuing', 'new', 'type', 'passport', 'electronic', 'chip', 'contain', 'record', 'cardholders', 'personal', 'information'], 'compressed_tokens': ['china', 'issue', 'passports', 'electronic', 'chips']}\n",
      "{'set': [\"The first Police and Crime Commissioner for the West Midlands has stopped controversial plans to allow private firms to run parts of the force's core services.\", 'Police and Crime Commissioner stops controversial plans'], 'clean_sentence': 'first police crime commissioner west midlands stopped controversial plans allow private firms run parts forces core services', 'clean_compressed': 'police crime commissioner stops controversial plans', 'sentence_tokens': ['first', 'police', 'crime', 'commissioner', 'west', 'midlands', 'stopped', 'controversial', 'plans', 'allow', 'private', 'firms', 'run', 'parts', 'forces', 'core', 'services'], 'compressed_tokens': ['police', 'crime', 'commissioner', 'stops', 'controversial', 'plans']}\n",
      "{'set': ['Sacramento Kings rookie Thomas Robinson will be suspended for two games for throwing an elbow at Detroit Pistons forward Jonas Jerebko on Wednesday night, according to Brian Windhorst of ESPN.', 'Kings rookie Thomas Robinson suspended for thrown elbow vs. Pistons'], 'clean_sentence': 'sacramento kings rookie thomas robinson suspended two games throwing elbow detroit pistons forward jonas jerebko wednesday night according brian windhorst espn', 'clean_compressed': 'kings rookie thomas robinson suspended thrown elbow vs pistons', 'sentence_tokens': ['sacramento', 'kings', 'rookie', 'thomas', 'robinson', 'suspended', 'two', 'games', 'throwing', 'elbow', 'detroit', 'pistons', 'forward', 'jonas', 'jerebko', 'wednesday', 'night', 'according', 'brian', 'windhorst', 'espn'], 'compressed_tokens': ['kings', 'rookie', 'thomas', 'robinson', 'suspended', 'thrown', 'elbow', 'vs', 'pistons']}\n",
      "{'set': ['Three females suffer minor injuries after a rollover Monday morning into a water filled ditch south of Saskatoon.', 'Minor injuries after rollover into water filled ditch south of Saskatoon'], 'clean_sentence': 'three females suffer minor injuries rollover monday morning water filled ditch south saskatoon', 'clean_compressed': 'minor injuries rollover water filled ditch south saskatoon', 'sentence_tokens': ['three', 'females', 'suffer', 'minor', 'injuries', 'rollover', 'monday', 'morning', 'water', 'filled', 'ditch', 'south', 'saskatoon'], 'compressed_tokens': ['minor', 'injuries', 'rollover', 'water', 'filled', 'ditch', 'south', 'saskatoon']}\n",
      "{'set': ['The University of North Carolina says former Olympic sprinter Antonio Pettigrew was found dead in Chatham County early Tuesday.', 'Former olympian Antonio Pettigrew found dead'], 'clean_sentence': 'university north carolina says former olympic sprinter antonio pettigrew found dead chatham county early tuesday', 'clean_compressed': 'former olympian antonio pettigrew found dead', 'sentence_tokens': ['university', 'north', 'carolina', 'says', 'former', 'olympic', 'sprinter', 'antonio', 'pettigrew', 'found', 'dead', 'chatham', 'county', 'early', 'tuesday'], 'compressed_tokens': ['former', 'olympian', 'antonio', 'pettigrew', 'found', 'dead']}\n",
      "{'set': [\"It now appears that the chief executive of E.On, Paul Golby, said that coal plants are vital back up for the UK's energy needs.\", 'E.On says coal plants are vital for back up'], 'clean_sentence': 'appears chief executive eon paul golby said coal plants vital back uks energy needs', 'clean_compressed': 'eon says coal plants vital back', 'sentence_tokens': ['appears', 'chief', 'executive', 'eon', 'paul', 'golby', 'said', 'coal', 'plants', 'vital', 'back', 'uks', 'energy', 'needs'], 'compressed_tokens': ['eon', 'says', 'coal', 'plants', 'vital', 'back']}\n"
     ]
    }
   ],
   "execution_count": 16
  },
  {
   "cell_type": "markdown",
   "metadata": {
    "collapsed": false,
    "id": "FeF0wFd0pSOL",
    "pycharm": {
     "name": "#%% md\n"
    }
   },
   "source": [
    "Since we will need the tokenized sentences, we can use the following statement to extract them from the `train` split of our dataset."
   ]
  },
  {
   "cell_type": "code",
   "metadata": {
    "id": "qYKfXFxQpSOL",
    "pycharm": {
     "name": "#%%\n"
    },
    "ExecuteTime": {
     "end_time": "2025-04-15T12:00:39.415439Z",
     "start_time": "2025-04-15T12:00:38.014324Z"
    }
   },
   "source": [
    "tokenized_sentences = split_ds['train']['sentence_tokens']\n",
    "print(len(tokenized_sentences))\n",
    "print(tokenized_sentences[:10])"
   ],
   "outputs": [
    {
     "name": "stdout",
     "output_type": "stream",
     "text": [
      "144000\n",
      "[['gold', 'futures', 'hit', 'record', 'high', 'rs', '31029', 'per', '10', 'grams', 'thursday', 'mcx', 'investors', 'shifted', 'funds', 'yellow', 'metal', 'global', 'cues', 'weakened', 'dollar'], ['st', 'neots', 'continued', 'unbeaten', 'run', 'crushing', '7610', 'victory', 'bottom', 'placed', 'stamford', 'college', 'old', 'boys', 'saturday'], ['bristol', 'ri', 'june', '15', '2011', 'displays2gocom', 'wholesale', 'display', 'specialty', 'store', 'released', 'new', 'line', 'adjustable', 'height', 'podiums', 'lecture', 'stands'], ['sun', 'moon', 'campaign', 'bjp', 'uttar', 'pradesh', 'cares', 'star', 'campaigners'], ['china', 'start', 'issuing', 'new', 'type', 'passport', 'electronic', 'chip', 'contain', 'record', 'cardholders', 'personal', 'information'], ['first', 'police', 'crime', 'commissioner', 'west', 'midlands', 'stopped', 'controversial', 'plans', 'allow', 'private', 'firms', 'run', 'parts', 'forces', 'core', 'services'], ['sacramento', 'kings', 'rookie', 'thomas', 'robinson', 'suspended', 'two', 'games', 'throwing', 'elbow', 'detroit', 'pistons', 'forward', 'jonas', 'jerebko', 'wednesday', 'night', 'according', 'brian', 'windhorst', 'espn'], ['three', 'females', 'suffer', 'minor', 'injuries', 'rollover', 'monday', 'morning', 'water', 'filled', 'ditch', 'south', 'saskatoon'], ['university', 'north', 'carolina', 'says', 'former', 'olympic', 'sprinter', 'antonio', 'pettigrew', 'found', 'dead', 'chatham', 'county', 'early', 'tuesday'], ['appears', 'chief', 'executive', 'eon', 'paul', 'golby', 'said', 'coal', 'plants', 'vital', 'back', 'uks', 'energy', 'needs']]\n"
     ]
    }
   ],
   "execution_count": 17
  },
  {
   "cell_type": "code",
   "source": [
    "tokenized_compressed = split_ds['train']['compressed_tokens']\n",
    "print(len(tokenized_compressed))\n",
    "print(tokenized_compressed[:10])"
   ],
   "metadata": {
    "collapsed": false,
    "pycharm": {
     "name": "#%%\n"
    },
    "ExecuteTime": {
     "end_time": "2025-04-15T12:00:40.054025Z",
     "start_time": "2025-04-15T12:00:39.420854Z"
    }
   },
   "outputs": [
    {
     "name": "stdout",
     "output_type": "stream",
     "text": [
      "144000\n",
      "[['gold', 'futures', 'hit', 'record', 'high', 'rs', '31029'], ['st', 'neots', 'continue', 'unbeaten', 'run'], ['displays2gocom', 'releases', 'new', 'adjustable', 'height', 'podiums'], ['sun', 'moon', 'campaign', 'cares', 'stars'], ['china', 'issue', 'passports', 'electronic', 'chips'], ['police', 'crime', 'commissioner', 'stops', 'controversial', 'plans'], ['kings', 'rookie', 'thomas', 'robinson', 'suspended', 'thrown', 'elbow', 'vs', 'pistons'], ['minor', 'injuries', 'rollover', 'water', 'filled', 'ditch', 'south', 'saskatoon'], ['former', 'olympian', 'antonio', 'pettigrew', 'found', 'dead'], ['eon', 'says', 'coal', 'plants', 'vital', 'back']]\n"
     ]
    }
   ],
   "execution_count": 18
  },
  {
   "cell_type": "markdown",
   "metadata": {
    "id": "ZDGwEiZeCA5U",
    "pycharm": {
     "name": "#%% md\n"
    }
   },
   "source": [
    "Notice the difference in the types of the different structures we use. Run the following cell to check the types. Do they make sense to you?"
   ]
  },
  {
   "cell_type": "code",
   "metadata": {
    "id": "wKrkFmcZCtOd",
    "pycharm": {
     "name": "#%%\n"
    },
    "ExecuteTime": {
     "end_time": "2025-04-15T12:00:43.090252Z",
     "start_time": "2025-04-15T12:00:40.059531Z"
    }
   },
   "source": [
    "#type of original dataset\n",
    "print(type(split_ds))\n",
    "print(\"--\")\n",
    "#type of original sentence\n",
    "print(split_ds['train'][1])\n",
    "print(type(split_ds['train'][1]))\n",
    "print(\"--\")\n",
    "#type of pre-proceesed sentence\n",
    "print(split_ds['train']['clean_sentence'][1])\n",
    "print(type(split_ds['train']['clean_sentence'][1]))\n",
    "print(\"--\")\n",
    "#type of tokenized sentence\n",
    "print(split_ds['train']['sentence_tokens'][1])\n",
    "print(type(split_ds['train']['sentence_tokens'][1]))\n",
    "print(\"--\")"
   ],
   "outputs": [
    {
     "name": "stdout",
     "output_type": "stream",
     "text": [
      "<class 'datasets.dataset_dict.DatasetDict'>\n",
      "--\n",
      "{'set': ['St Neots continued their unbeaten run with a crushing 76-10 victory over bottom placed Stamford College Old Boys on Saturday.', 'St Neots continue unbeaten run'], 'clean_sentence': 'st neots continued unbeaten run crushing 7610 victory bottom placed stamford college old boys saturday', 'clean_compressed': 'st neots continue unbeaten run', 'sentence_tokens': ['st', 'neots', 'continued', 'unbeaten', 'run', 'crushing', '7610', 'victory', 'bottom', 'placed', 'stamford', 'college', 'old', 'boys', 'saturday'], 'compressed_tokens': ['st', 'neots', 'continue', 'unbeaten', 'run']}\n",
      "<class 'dict'>\n",
      "--\n",
      "st neots continued unbeaten run crushing 7610 victory bottom placed stamford college old boys saturday\n",
      "<class 'str'>\n",
      "--\n",
      "['st', 'neots', 'continued', 'unbeaten', 'run', 'crushing', '7610', 'victory', 'bottom', 'placed', 'stamford', 'college', 'old', 'boys', 'saturday']\n",
      "<class 'list'>\n",
      "--\n"
     ]
    }
   ],
   "execution_count": 19
  },
  {
   "cell_type": "markdown",
   "source": [
    "## 2. Bag of Words\n",
    "In this section you will built a bag-of-words representation of the dataset. We will use numpy arrays to store the results. The bag-of-words representation is a simple and effective way to represent text data. It involves creating a vocabulary of unique words from the dataset and representing each sentence as a vector of word counts. We first need the vocabulary, which we will build from both the full sentences and the compressed sentences. Similar to the first lab, the vocabulary will be a list of unique words from the dataset."
   ],
   "metadata": {
    "collapsed": false,
    "pycharm": {
     "name": "#%% md\n"
    }
   }
  },
  {
   "cell_type": "markdown",
   "source": [
    "<a name='e3'></a>\n",
    "### Exercise 3: Extracting vocabulary counts\n",
    "\n",
    "(1p) In the following cell, you will implement a function that takes a list of tokenized sentences and returns a dictionary with the counts of each word in the vocabulary. The dictionary should be of the form {word: count}. As in previous lab, you will use the `Counter` class from the `collections` module to do this."
   ],
   "metadata": {
    "collapsed": false,
    "pycharm": {
     "name": "#%% md\n"
    }
   }
  },
  {
   "cell_type": "code",
   "source": [
    "from collections import Counter\n",
    "\n",
    "\n",
    "def extract_vocabulary_counts(tokenized_sentences):\n",
    "    \"\"\"\n",
    "    Extracts the vocabulary from the tokenized sentences\n",
    "    Args:\n",
    "        tokenized_sentences: a list of lists of tokens\n",
    "\n",
    "    Returns: a Counter object with the counts of each word in the vocabulary\n",
    "    \"\"\"\n",
    "\n",
    "    ### YOUR CODE HERE\n",
    "    all_tokens = [word for sentence in tokenized_sentences for word in sentence]\n",
    "    vocab_counter = Counter(all_tokens)\n",
    "\n",
    "\n",
    "    return vocab_counter\n",
    "    ### YOUR CODE ENDS HERE"
   ],
   "metadata": {
    "collapsed": false,
    "pycharm": {
     "name": "#%%\n"
    },
    "ExecuteTime": {
     "end_time": "2025-04-15T12:00:43.098112Z",
     "start_time": "2025-04-15T12:00:43.095637Z"
    }
   },
   "outputs": [],
   "execution_count": 20
  },
  {
   "cell_type": "code",
   "source": [
    "vocab_counter = extract_vocabulary_counts(tokenized_sentences + tokenized_compressed)\n",
    "print(len(vocab_counter))\n",
    "print(vocab_counter.most_common(10))"
   ],
   "metadata": {
    "collapsed": false,
    "pycharm": {
     "name": "#%%\n"
    },
    "ExecuteTime": {
     "end_time": "2025-04-15T12:00:43.472343Z",
     "start_time": "2025-04-15T12:00:43.128138Z"
    }
   },
   "outputs": [
    {
     "name": "stdout",
     "output_type": "stream",
     "text": [
      "118862\n",
      "[('new', 20172), ('said', 19902), ('man', 11947), ('us', 11410), ('today', 9853), ('police', 9749), ('two', 9343), ('first', 7980), ('announced', 7660), ('tuesday', 7439)]\n"
     ]
    }
   ],
   "execution_count": 21
  },
  {
   "cell_type": "markdown",
   "source": [
    "As you can see the size of the vocabulary is quite large. Like the last time, we will limit the vocabulary to the most frequent words. The next cell will create a dictionary that maps each word to an index in the vocabulary. This will be used to create the bag-of-words representation of the sentences."
   ],
   "metadata": {
    "collapsed": false,
    "pycharm": {
     "name": "#%% md\n"
    }
   }
  },
  {
   "cell_type": "code",
   "source": [
    "vocab_size = 10_000\n",
    "vocab = vocab_counter.most_common(vocab_size)\n",
    "token_to_id = {word: i for i, (word, _) in enumerate(vocab)}\n",
    "print(token_to_id)"
   ],
   "metadata": {
    "collapsed": false,
    "pycharm": {
     "name": "#%%\n"
    },
    "ExecuteTime": {
     "end_time": "2025-04-15T12:00:43.573814Z",
     "start_time": "2025-04-15T12:00:43.546185Z"
    }
   },
   "outputs": [
    {
     "name": "stdout",
     "output_type": "stream",
     "text": [
      "{'new': 0, 'said': 1, 'man': 2, 'us': 3, 'today': 4, 'police': 5, 'two': 6, 'first': 7, 'announced': 8, 'tuesday': 9, 'wednesday': 10, 'monday': 11, 'thursday': 12, 'state': 13, 'year': 14, 'friday': 15, 'former': 16, 'president': 17, 'says': 18, 'million': 19, 'one': 20, 'years': 21, 'last': 22, 'county': 23, 'according': 24, 'may': 25, 'city': 26, 'woman': 27, 'saturday': 28, 'minister': 29, 'home': 30, 'three': 31, 'world': 32, 'week': 33, 'government': 34, 'sunday': 35, 'people': 36, 'company': 37, 'time': 38, 'night': 39, 'india': 40, 'killed': 41, 'bank': 42, 'national': 43, 'south': 44, 'day': 45, 'next': 46, 'arrested': 47, 'found': 48, 'court': 49, 'morning': 50, 'died': 51, 'set': 52, 'charged': 53, 'school': 54, 'would': 55, 'second': 56, 'could': 57, 'back': 58, 'obama': 59, 'reported': 60, 'market': 61, 'international': 62, 'group': 63, 'fire': 64, 'business': 65, 'open': 66, 'oil': 67, 'season': 68, 'house': 69, 'car': 70, 'china': 71, 'early': 72, 'north': 73, 'charges': 74, 'team': 75, 'service': 76, 'reports': 77, 'prices': 78, 'star': 79, 'high': 80, 'news': 81, 'united': 82, 'country': 83, 'inc': 84, 'plans': 85, 'global': 86, 'officials': 87, 'four': 88, 'dies': 89, 'guilty': 90, 'hospital': 91, 'death': 92, 'following': 93, 'public': 94, 'report': 95, 'month': 96, 'billion': 97, 'american': 98, 'services': 99, 'yesterday': 100, 'near': 101, 'york': 102, 'health': 103, 'chief': 104, 'federal': 105, 'league': 106, 'released': 107, 'hit': 108, 'office': 109, 'say': 110, 'help': 111, 'months': 112, 'show': 113, 'west': 114, '2012': 115, 'game': 116, 'end': 117, 'security': 118, 'made': 119, 'financial': 120, 'pakistan': 121, 'coach': 122, '10': 123, 'indian': 124, 'take': 125, 'economic': 126, 'make': 127, 'percent': 128, 'accused': 129, 'states': 130, 'local': 131, 'top': 132, 'five': 133, 'another': 134, 'john': 135, 'per': 136, 'play': 137, 'launched': 138, 'jobs': 139, 'official': 140, 'announces': 141, 'life': 142, 'major': 143, 'third': 144, 'expected': 145, 'british': 146, 'power': 147, 'european': 148, 'part': 149, 'cup': 150, 'work': 151, 'center': 152, 'launches': 153, 'dead': 154, 'trade': 155, 'energy': 156, 'university': 157, 'cut': 158, 'record': 159, 'media': 160, 'win': 161, 'shot': 162, 'crash': 163, 'support': 164, 'general': 165, 'held': 166, 'leader': 167, 'deal': 168, 'told': 169, 'days': 170, 'left': 171, 'return': 172, 'march': 173, '1': 174, 'get': 175, 'officer': 176, 'uk': 177, '2010': 178, 'gas': 179, 'due': 180, 'stocks': 181, 'party': 182, 'close': 183, 'free': 184, 'air': 185, 'head': 186, 'online': 187, 'street': 188, 'bill': 189, 'six': 190, 'since': 191, 'drug': 192, 'department': 193, 'foreign': 194, 'prime': 195, 'economy': 196, 'area': 197, 'london': 198, 'injured': 199, 'road': 200, 'sales': 201, 'district': 202, 'central': 203, '2011': 204, 'including': 205, 'still': 206, 'capital': 207, 'series': 208, 'launch': 209, 'weekend': 210, 'child': 211, 'face': 212, 'afternoon': 213, 'visit': 214, 'release': 215, 'start': 216, 'dollar': 217, 'students': 218, 'club': 219, 'called': 220, '20': 221, 'st': 222, 'fall': 223, 'military': 224, 'family': 225, 'shares': 226, 'mobile': 227, 'tour': 228, 'stock': 229, 'quarter': 230, 'development': 231, 'campaign': 232, 'tax': 233, 'despite': 234, '2': 235, 'david': 236, 'men': 237, 'attack': 238, 'june': 239, 'board': 240, 'big': 241, 'final': 242, 'park': 243, 'women': 244, 'system': 245, 'markets': 246, 'children': 247, 'like': 248, 'fell': 249, 'australian': 250, 'best': 251, 'industry': 252, 'football': 253, 'signed': 254, 'water': 255, 'east': 256, 'april': 257, 'wins': 258, 'across': 259, 'cancer': 260, 'data': 261, 'washington': 262, 'film': 263, 'go': 264, 'barack': 265, 'plan': 266, 'growth': 267, 'around': 268, '11': 269, 'meeting': 270, 'way': 271, 'corp': 272, 'sentenced': 273, 'afghanistan': 274, 'council': 275, 'manager': 276, 'actor': 277, 'australia': 278, 'revealed': 279, 'contract': 280, '2013': 281, 'late': 282, 'research': 283, 'gold': 284, 'buy': 285, 'san': 286, 'leading': 287, 'largest': 288, '2009': 289, 'pay': 290, 'move': 291, 'iran': 292, 'weeks': 293, 'law': 294, 'food': 295, 'program': 296, 'case': 297, 'money': 298, 'host': 299, 'talks': 300, 'price': 301, 'authorities': 302, 'run': 303, 'prison': 304, 'games': 305, 'allegedly': 306, '30': 307, 'management': 308, 'agency': 309, 'confirmed': 310, 'murder': 311, 'white': 312, 'director': 313, '3': 314, 'wants': 315, 'rate': 316, 'test': 317, 'several': 318, 'increase': 319, 'political': 320, 'chinese': 321, 'england': 322, 'michael': 323, 'conference': 324, 'agreement': 325, 'saying': 326, 'budget': 327, 'hold': 328, 'annual': 329, 'number': 330, 'crisis': 331, 'medical': 332, 'network': 333, 'private': 334, 'music': 335, 'closed': 336, 'recent': 337, 'firm': 338, 'worlds': 339, '15': 340, '12': 341, 'companies': 342, 'lead': 343, 'higher': 344, 'recently': 345, 'college': 346, 'girl': 347, 'good': 348, 'community': 349, 'union': 350, 'town': 351, 'technology': 352, 'young': 353, 'workers': 354, 'july': 355, 'surgery': 356, 'tv': 357, 'press': 358, 'investment': 359, 'actress': 360, 'continue': 361, 'well': 362, 'latest': 363, 'red': 364, 'right': 365, 'live': 366, 'use': 367, 'senior': 368, 'demand': 369, 'offer': 370, 'shooting': 371, 'opened': 372, 'rise': 373, 'making': 374, 'election': 375, 'nearly': 376, 'pm': 377, 'credit': 378, 'away': 379, 'production': 380, 'rose': 381, 'russia': 382, 'many': 383, 'taking': 384, 'share': 385, 'study': 386, 'secretary': 387, '5': 388, 'los': 389, 'place': 390, 'provider': 391, 'become': 392, 'care': 393, 'trial': 394, 'age': 395, 'congress': 396, 'cent': 397, 'special': 398, 'fight': 399, 'war': 400, 'sex': 401, 'southern': 402, 'assault': 403, 'likely': 404, 'action': 405, 'texas': 406, 'french': 407, 'signs': 408, 'body': 409, 'named': 410, 'rights': 411, 'japan': 412, 'line': 413, 'banks': 414, 'sign': 415, 'wife': 416, 'senate': 417, 'accident': 418, 'long': 419, 'store': 420, 'lower': 421, 'rates': 422, 'opens': 423, 'america': 424, 'mark': 425, 'faces': 426, 'forces': 427, 'investors': 428, 'social': 429, 'meet': 430, 'centre': 431, 'going': 432, 'russian': 433, 'also': 434, 'january': 435, 'updated': 436, 'facing': 437, 'presidential': 438, 'members': 439, 'debt': 440, 'angeles': 441, 'video': 442, 'baby': 443, 'emergency': 444, 'judge': 445, 'trading': 446, 'coast': 447, 'canada': 448, 'real': 449, 'points': 450, 'rs': 451, 'ahead': 452, 'even': 453, 'charge': 454, 'strong': 455, 'premier': 456, 'paul': 457, 'loss': 458, 'information': 459, 'singer': 460, 'small': 461, 'project': 462, 'korea': 463, 'plant': 464, 'filed': 465, 'pleaded': 466, 'grand': 467, '4': 468, 'fourth': 469, 'building': 470, 'times': 471, 'without': 472, 'products': 473, 'hours': 474, 'players': 475, 'amid': 476, 'nuclear': 477, 'ago': 478, 'israel': 479, 'past': 480, 'future': 481, 'executive': 482, 'bus': 483, 'nations': 484, 'title': 485, 'september': 486, 'boy': 487, 'fund': 488, 'region': 489, 'call': 490, 'governor': 491, 'profit': 492, 'summer': 493, 'results': 494, '100': 495, 'leaders': 496, 'race': 497, 'pleads': 498, 'google': 499, 'ministry': 500, 'took': 501, 'player': 502, '2008': 503, 'army': 504, 'human': 505, 'least': 506, 'delhi': 507, 'apple': 508, 'february': 509, 'falls': 510, 'residents': 511, 'german': 512, 'issued': 513, 'order': 514, 'calls': 515, 'interest': 516, 'taken': 517, 'reportedly': 518, 'florida': 519, 'old': 520, 'beat': 521, 'california': 522, 'student': 523, 'chairman': 524, 'heart': 525, 'coming': 526, 'working': 527, 'force': 528, 'schools': 529, 'software': 530, 'side': 531, 'agreed': 532, 'driver': 533, 'seven': 534, 'sell': 535, 'lost': 536, '25': 537, 'exchange': 538, 'northern': 539, 'leave': 540, 'asian': 541, 'cash': 542, 'cuts': 543, 'makes': 544, 'change': 545, 'airlines': 546, 'need': 547, 'victory': 548, 'forward': 549, 'james': 550, 'traffic': 551, 'africa': 552, '14': 553, 'earlier': 554, 'claims': 555, 'canadian': 556, 'europe': 557, 'site': 558, 'education': 559, 'role': 560, 'republican': 561, 'control': 562, 'half': 563, 'france': 564, 'killing': 565, 'november': 566, 'looking': 567, 'lake': 568, 'injury': 569, 'come': 570, 'operations': 571, 'job': 572, 'internet': 573, 'stop': 574, 'sector': 575, '13': 576, 'planning': 577, 'returns': 578, 'opening': 579, 'gov': 580, '21': 581, 'bid': 582, 'countrys': 583, 'great': 584, 'station': 585, 'much': 586, 'continues': 587, 'policy': 588, 'missing': 589, 'website': 590, 'fans': 591, 'domestic': 592, 'issues': 593, 'israeli': 594, 'match': 595, '50': 596, 'round': 597, 'suspended': 598, 'corporation': 599, 'jail': 600, 'keep': 601, 'led': 602, 'shows': 603, 'october': 604, 'training': 605, 'offering': 606, 'key': 607, 'george': 608, 'parliament': 609, 'sports': 610, 'brown': 611, 'co': 612, 'got': 613, 'remain': 614, 'chris': 615, 'issue': 616, 'used': 617, 'river': 618, 'evening': 619, '18': 620, 'must': 621, 'august': 622, 'running': 623, 'strike': 624, 'december': 625, 'ready': 626, 'remains': 627, 'hall': 628, '16': 629, 'property': 630, 'takes': 631, 'album': 632, 'black': 633, 'better': 634, 'received': 635, 'biggest': 636, 'vote': 637, 'put': 638, 'countries': 639, 'arrest': 640, 'insurance': 641, 'raise': 642, 'western': 643, 'want': 644, 'construction': 645, 'airport': 646, 'green': 647, 'guard': 648, 'driving': 649, 'trying': 650, 'officers': 651, 'full': 652, 'train': 653, 'consumer': 654, 'getting': 655, 'member': 656, 'customers': 657, 'association': 658, 'see': 659, 'manchester': 660, 'eight': 661, 'join': 662, 'safety': 663, 'sold': 664, 'current': 665, 'bankruptcy': 666, 'sale': 667, 'search': 668, '6': 669, 'little': 670, 'investigating': 671, 'among': 672, 'chicago': 673, 'vehicle': 674, 'ended': 675, 'euro': 676, 'troops': 677, 'giant': 678, 'commission': 679, 'field': 680, 'robert': 681, 'elections': 682, 'champion': 683, 'level': 684, '7': 685, 'soon': 686, 'event': 687, 'give': 688, 'movie': 689, 'cricket': 690, 'post': 691, 'sen': 692, 'retail': 693, 'regional': 694, 'stage': 695, 'weather': 696, 'couple': 697, 'african': 698, 'statement': 699, 'sexual': 700, 'session': 701, 'low': 702, 'along': 703, 'border': 704, 'committee': 705, '17': 706, '8': 707, 'space': 708, 'brand': 709, 'thousands': 710, 'sri': 711, 'staff': 712, 'announce': 713, 'facebook': 714, 'outside': 715, 'career': 716, 'love': 717, '22': 718, 'admitted': 719, '24': 720, 'turkey': 721, 'island': 722, 'championship': 723, 'fuel': 724, 'behind': 725, 'violence': 726, 'justice': 727, 'ban': 728, 'hollywood': 729, 'warned': 730, 'target': 731, 'phone': 732, 'son': 733, 'opposition': 734, 'awards': 735, 'systems': 736, 'based': 737, 'solutions': 738, 'rock': 739, 'mother': 740, 'debut': 741, 'recovery': 742, 'finance': 743, 'mortgage': 744, 'suicide': 745, 'later': 746, 'iraq': 747, 'claimed': 748, 'wall': 749, 'within': 750, 'singh': 751, 'upcoming': 752, 'hes': 753, 'history': 754, 'practice': 755, 'needs': 756, 'jackson': 757, 'beach': 758, 'mayor': 759, 'using': 760, 'losses': 761, 'risk': 762, 'tonight': 763, 'bay': 764, 'miss': 765, 'storm': 766, 'name': 767, 'leaving': 768, 'attacks': 769, 'anniversary': 770, 'peace': 771, 'valley': 772, 'act': 773, 'truck': 774, 'sent': 775, 'protest': 776, 'japanese': 777, 'im': 778, 'loan': 779, 'offers': 780, 'gains': 781, 'growing': 782, 'maker': 783, 'olympic': 784, 'candidate': 785, 'protection': 786, 'selling': 787, 'build': 788, 'joint': 789, 'democratic': 790, 'award': 791, 'ltd': 792, 'cost': 793, 'struck': 794, 'spending': 795, 'performance': 796, 'eastern': 797, 'decision': 798, 'middle': 799, 'mumbai': 800, 'festival': 801, 'list': 802, 'housing': 803, 'raised': 804, 'employees': 805, 'microsoft': 806, 'positive': 807, 'funds': 808, 'possible': 809, 'plane': 810, 'travel': 811, 'flu': 812, 'given': 813, 'germany': 814, 'almost': 815, 'battle': 816, 'rally': 817, 'provide': 818, 'mexico': 819, 'girls': 820, 'zealand': 821, 'fraud': 822, 'break': 823, 'legal': 824, 'captain': 825, 'showed': 826, 'less': 827, 'alleged': 828, 'businesses': 829, 'hotel': 830, 'daily': 831, 'soldiers': 832, 'continued': 833, 'costs': 834, 'natural': 835, 'confidence': 836, 'officially': 837, 'church': 838, 'acquire': 839, 'worth': 840, 'williams': 841, '9': 842, 'files': 843, 'smith': 844, 'basketball': 845, 'declared': 846, 'asked': 847, 'pressure': 848, 'approved': 849, '40': 850, 'deputy': 851, 'single': 852, 'aid': 853, 'never': 854, 'carolina': 855, 'soldier': 856, 'television': 857, 'asia': 858, '19': 859, 'heavy': 860, 'robbery': 861, 'dr': 862, 'sources': 863, 'land': 864, 'changes': 865, 'father': 866, 'britain': 867, 'drive': 868, 'known': 869, 'dont': 870, 'point': 871, 'rep': 872, 'georgia': 873, 'interview': 874, '23': 875, 'mike': 876, 'lady': 877, 'step': 878, 'survey': 879, 'serious': 880, 'baseball': 881, 'boost': 882, 'returned': 883, '31': 884, 'nation': 885, 'supply': 886, 'owner': 887, 'begin': 888, 'reserve': 889, 'ever': 890, 'stores': 891, 'facility': 892, 'increased': 893, 'nine': 894, 'defence': 895, 'stay': 896, 'seen': 897, 'un': 898, 'boston': 899, 'dropped': 900, 'justin': 901, 'veteran': 902, 'calif': 903, 'fired': 904, 'jailed': 905, 'bush': 906, 'teams': 907, 'husband': 908, 'defense': 909, 'champions': 910, 'administration': 911, 'met': 912, 'whose': 913, 'convicted': 914, 'book': 915, 'hopes': 916, 'web': 917, 'joe': 918, 'acquired': 919, 'radio': 920, 'areas': 921, 'armed': 922, 'johnson': 923, 'starting': 924, 'look': 925, 'main': 926, 'might': 927, 'playing': 928, 'spring': 929, 'warning': 930, 'daughter': 931, 'gets': 932, 'italian': 933, 'vice': 934, 'teacher': 935, 'fiscal': 936, 'drugs': 937, 'projects': 938, 'commercial': 939, 'de': 940, 'every': 941, 'falling': 942, 'christmas': 943, 'highway': 944, 'twitter': 945, 'bond': 946, 'stars': 947, 'gay': 948, 'total': 949, 'inflation': 950, 'winter': 951, 'futures': 952, 'moving': 953, 'homes': 954, 'prince': 955, 'passed': 956, 'al': 957, 'stadium': 958, 'front': 959, 'straight': 960, 'injuries': 961, 'super': 962, 'suffered': 963, 'criminal': 964, 'joined': 965, 'large': 966, 'boss': 967, 'know': 968, 'drop': 969, 'find': 970, 'earnings': 971, 'ohio': 972, 'appointed': 973, 'gun': 974, 'begins': 975, 'digital': 976, 'reached': 977, 'popular': 978, 'completed': 979, 'division': 980, 'palestinian': 981, 'decided': 982, 'expand': 983, 'common': 984, 'partnership': 985, 'went': 986, 'bring': 987, 'term': 988, 'investigation': 989, 'recession': 990, 'syria': 991, 'efforts': 992, 'king': 993, 'failed': 994, 'published': 995, 'bomb': 996, 'pakistani': 997, '27': 998, 'khan': 999, 'martin': 1000, 'tom': 1001, 'raises': 1002, 'ground': 1003, 'nfl': 1004, 'flights': 1005, '26': 1006, 'concerns': 1007, 'paid': 1008, 'scheduled': 1009, 'connection': 1010, 'turkish': 1011, 'double': 1012, 'ceo': 1013, 'problems': 1014, 'crashed': 1015, 'hits': 1016, 'supreme': 1017, 'already': 1018, 'winning': 1019, 'forced': 1020, 'create': 1021, 'communications': 1022, 'turned': 1023, 'parts': 1024, 'womens': 1025, 'la': 1026, 'ryan': 1027, 'assembly': 1028, 'wont': 1029, 'suspected': 1030, 'spokesman': 1031, 'conditions': 1032, 'dog': 1033, 'person': 1034, 'hundreds': 1035, 'base': 1036, 'stake': 1037, 'jones': 1038, 'light': 1039, 'finally': 1040, 'attacked': 1041, 'treatment': 1042, 'striker': 1043, 'goes': 1044, 'afghan': 1045, 'cooperation': 1046, 'steve': 1047, 'watch': 1048, 'civil': 1049, 'lawsuit': 1050, 'seeking': 1051, 'patients': 1052, 'unit': 1053, 'index': 1054, 'retirement': 1055, '28': 1056, 'banking': 1057, 'save': 1058, 'houston': 1059, 'yet': 1060, 'flight': 1061, 'operation': 1062, 'taylor': 1063, 'involved': 1064, 'banned': 1065, 'abuse': 1066, 'iranian': 1067, 'focus': 1068, 'illegal': 1069, 'groups': 1070, 'partner': 1071, 'stabbed': 1072, 'lanka': 1073, 'camp': 1074, 'caught': 1075, 'independent': 1076, 'access': 1077, 'caused': 1078, 'holding': 1079, 'leaves': 1080, 'suspect': 1081, 'reach': 1082, 'senator': 1083, 'started': 1084, 'attorney': 1085, 'rape': 1086, 'holiday': 1087, 'condition': 1088, 'celebrate': 1089, 'perform': 1090, 'royal': 1091, 'whether': 1092, '500': 1093, 'worldwide': 1094, 'robbed': 1095, 'incident': 1096, 'urged': 1097, 'arrived': 1098, 'gulf': 1099, 'marriage': 1100, 'process': 1101, 'earthquake': 1102, 'platform': 1103, 'primary': 1104, 'ambassador': 1105, 'sea': 1106, 'levels': 1107, 'together': 1108, 'kill': 1109, 'funding': 1110, 'dollars': 1111, 'unemployment': 1112, 'jury': 1113, 'posted': 1114, 'revenue': 1115, 'improve': 1116, 'proposed': 1117, 'ruled': 1118, 'joins': 1119, 'living': 1120, 'saudi': 1121, 'birth': 1122, 'range': 1123, 'divorce': 1124, 'jennifer': 1125, 'romney': 1126, 'nato': 1127, 'reduce': 1128, 'giving': 1129, 'kim': 1130, 'releases': 1131, 'competition': 1132, 'rising': 1133, 'syrian': 1134, 'track': 1135, 'admits': 1136, 'magazine': 1137, 'added': 1138, 'fifth': 1139, 'minor': 1140, 'personal': 1141, 'iphone': 1142, 'michigan': 1143, 'blue': 1144, 'corporate': 1145, 'available': 1146, 'birthday': 1147, 'assets': 1148, 'crude': 1149, 'companys': 1150, 'stolen': 1151, 'liverpool': 1152, 'fox': 1153, 'spain': 1154, 'fashion': 1155, 'damage': 1156, 'peter': 1157, 'industrial': 1158, 'sheriffs': 1159, 'class': 1160, 'ireland': 1161, 'marketing': 1162, 'cars': 1163, 'toronto': 1164, 'village': 1165, 'celebrates': 1166, 'eu': 1167, 'singapore': 1168, 'channel': 1169, 'equity': 1170, 'band': 1171, 'lee': 1172, 'massive': 1173, 'spanish': 1174, 'unveiled': 1175, 'period': 1176, 'split': 1177, 'crime': 1178, 'wanted': 1179, 'came': 1180, 'jan': 1181, 'producer': 1182, 'appeal': 1183, 'returning': 1184, 'records': 1185, 'province': 1186, 'entertainment': 1187, 'americans': 1188, 'minnesota': 1189, 'users': 1190, 'inside': 1191, 'steel': 1192, 'manufacturing': 1193, 'rest': 1194, 'relations': 1195, 'stealing': 1196, 'newspaper': 1197, 'comes': 1198, 'midfielder': 1199, 'affairs': 1200, 'corruption': 1201, 'tournament': 1202, 'net': 1203, 'figures': 1204, 'others': 1205, 'tony': 1206, 'ordered': 1207, 'korean': 1208, 'female': 1209, 'card': 1210, 'think': 1211, 'stand': 1212, 'model': 1213, 'calling': 1214, 'threat': 1215, 'paris': 1216, 'concert': 1217, 'scott': 1218, 'extended': 1219, 'ceremony': 1220, 'dubai': 1221, 'hard': 1222, '29': 1223, 'overnight': 1224, 'auto': 1225, 'technologies': 1226, 'solar': 1227, 'teachers': 1228, 'kansas': 1229, 'fort': 1230, 'ship': 1231, 'review': 1232, 'taliban': 1233, 'clinton': 1234, 'sydney': 1235, 'far': 1236, 'chelsea': 1237, 'ali': 1238, 'resources': 1239, 'researchers': 1240, 'began': 1241, 'offered': 1242, 'rises': 1243, 'youth': 1244, 'estate': 1245, 'deficit': 1246, 'suffering': 1247, 'friends': 1248, 'broke': 1249, 'source': 1250, 'rules': 1251, 'direct': 1252, 'challenge': 1253, 'felony': 1254, 'receive': 1255, 'disease': 1256, 'kevin': 1257, 'bridge': 1258, 'cases': 1259, 'agent': 1260, 'cabinet': 1261, 'strategic': 1262, 'barrel': 1263, 'seek': 1264, 'buying': 1265, 'fresh': 1266, 'highest': 1267, 'address': 1268, 'firefighters': 1269, 'apartment': 1270, 'parents': 1271, 'pregnant': 1272, 'planned': 1273, 'pop': 1274, 'soccer': 1275, 'turn': 1276, 'institute': 1277, 'militants': 1278, 'form': 1279, 'partners': 1280, 'helped': 1281, 'expects': 1282, 'discuss': 1283, 'previous': 1284, 'downtown': 1285, 'cause': 1286, 'boat': 1287, 'doctors': 1288, 'played': 1289, 'moved': 1290, 'morgan': 1291, 'potential': 1292, 'tiger': 1293, 'operator': 1294, 'jersey': 1295, 'society': 1296, 'controversial': 1297, 'las': 1298, 'victims': 1299, 'acquires': 1300, 'limited': 1301, 'wedding': 1302, 'short': 1303, 'tomorrow': 1304, 'orders': 1305, 'aircraft': 1306, 'gives': 1307, 'detroit': 1308, 'charity': 1309, 'room': 1310, 'appear': 1311, 'quality': 1312, 'coal': 1313, 'ties': 1314, 'perry': 1315, 'view': 1316, 'receives': 1317, 'hill': 1318, 'miami': 1319, 'average': 1320, 'memorial': 1321, 'programme': 1322, '200': 1323, 'voted': 1324, 'scientists': 1325, 'bail': 1326, 'dividend': 1327, 'mining': 1328, 'nba': 1329, 'denied': 1330, 'adding': 1331, 'fatal': 1332, 'talk': 1333, 'scheme': 1334, 'bills': 1335, 'product': 1336, 'fair': 1337, 'quarterly': 1338, 'winner': 1339, 'indicted': 1340, 'vehicles': 1341, 'weak': 1342, 'allow': 1343, 'starts': 1344, 'writer': 1345, 'louis': 1346, 'enough': 1347, 'airways': 1348, 'airline': 1349, 'girlfriend': 1350, 'bad': 1351, 'response': 1352, 'losing': 1353, 'terms': 1354, 'gaza': 1355, 'tried': 1356, 'rating': 1357, 'compared': 1358, 'malaysia': 1359, 'worker': 1360, 'cutting': 1361, 'port': 1362, 'taiwan': 1363, 'operating': 1364, 'brother': 1365, 'italy': 1366, 'effort': 1367, 'claim': 1368, 'leads': 1369, 'draw': 1370, 'draft': 1371, 'rangers': 1372, 'blood': 1373, 'legend': 1374, 'sells': 1375, 'boys': 1376, 'grant': 1377, 'voters': 1378, 'illinois': 1379, 'protesters': 1380, 'egypt': 1381, 'jim': 1382, 'francisco': 1383, 'acquisition': 1384, 'committed': 1385, 'hurricane': 1386, 'teen': 1387, 'libya': 1388, 'greece': 1389, 'iowa': 1390, 'fame': 1391, 'fighting': 1392, 'investigate': 1393, 'wireless': 1394, 'protect': 1395, 'governments': 1396, 'defender': 1397, 'reform': 1398, 'authority': 1399, 'exports': 1400, 'farmers': 1401, 'rescue': 1402, 'van': 1403, 'arizona': 1404, 'irish': 1405, 'celebrity': 1406, 'defeat': 1407, 'closing': 1408, 'block': 1409, 'gave': 1410, 'beating': 1411, 'dallas': 1412, 'towards': 1413, 'vegas': 1414, 'mission': 1415, 'feb': 1416, 'situation': 1417, 'celebrated': 1418, 'flood': 1419, 'academy': 1420, 'ministers': 1421, 'squad': 1422, '60': 1423, 'hospitalized': 1424, 'income': 1425, 'alex': 1426, 'tennis': 1427, 'course': 1428, 'dec': 1429, 'hand': 1430, 'colorado': 1431, 'mp': 1432, 'heard': 1433, 'doesnt': 1434, 'meets': 1435, 'restaurant': 1436, 'looks': 1437, 'hockey': 1438, 'rain': 1439, 'events': 1440, 'kelly': 1441, 'fined': 1442, 'package': 1443, 'considering': 1444, 'measures': 1445, 'virginia': 1446, 'andrew': 1447, 'pirates': 1448, 'developer': 1449, 'computer': 1450, 'brazil': 1451, 'position': 1452, 'drivers': 1453, 'hearing': 1454, 'date': 1455, 'lawmakers': 1456, 'custody': 1457, 'pacific': 1458, 'knee': 1459, 'wind': 1460, 'snow': 1461, 'equipment': 1462, 'currency': 1463, 'farm': 1464, 'retire': 1465, 'republic': 1466, 'flat': 1467, 'arrives': 1468, 'contest': 1469, 'hong': 1470, 'rival': 1471, 'introduced': 1472, 'summit': 1473, 'tim': 1474, 'shut': 1475, 'richard': 1476, 'decline': 1477, 'saw': 1478, 'slightly': 1479, 'replace': 1480, 'atlanta': 1481, 'though': 1482, 'climate': 1483, 'madrid': 1484, 'runs': 1485, 'diego': 1486, 'rescued': 1487, 'elderly': 1488, 'reporting': 1489, 'rugby': 1490, 'swine': 1491, 'separate': 1492, 'conduct': 1493, 'lose': 1494, 'currently': 1495, 'pulled': 1496, 'different': 1497, 'present': 1498, 'families': 1499, 'environment': 1500, 'securities': 1501, 'critical': 1502, 'attempt': 1503, 'moves': 1504, 'lot': 1505, 'ben': 1506, 'millions': 1507, 'severe': 1508, 'benefits': 1509, 'dispute': 1510, 'forecast': 1511, 'threatened': 1512, 'cross': 1513, 'engaged': 1514, 'kong': 1515, 'bonds': 1516, 'labor': 1517, 'mccain': 1518, 'kate': 1519, 'woods': 1520, 'greek': 1521, 'queen': 1522, 'films': 1523, 'worst': 1524, 'additional': 1525, 'matt': 1526, 'friend': 1527, 'navy': 1528, 'theft': 1529, 'beginning': 1530, 'successful': 1531, 'progress': 1532, 'boyfriend': 1533, 'organization': 1534, 'completes': 1535, 'headed': 1536, 'elected': 1537, 'kills': 1538, 'effective': 1539, 'brought': 1540, 'awarded': 1541, 'x': 1542, 'venture': 1543, 'becoming': 1544, 'develop': 1545, 'loans': 1546, 'broken': 1547, 'transfer': 1548, 'mr': 1549, 'headquarters': 1550, 'fears': 1551, 'chance': 1552, 'chase': 1553, 'owners': 1554, 'motor': 1555, 'sets': 1556, 'holds': 1557, 'nov': 1558, 'mixed': 1559, 'wayne': 1560, 'believe': 1561, 'azerbaijan': 1562, 'resume': 1563, 'ratings': 1564, 'victim': 1565, 'spot': 1566, 'andy': 1567, 'launching': 1568, 'believes': 1569, 'gaga': 1570, 'avoid': 1571, 'die': 1572, 'william': 1573, 'cloud': 1574, 'beijing': 1575, 'result': 1576, 'kashmir': 1577, 'shop': 1578, 'impact': 1579, 'electric': 1580, 'consumers': 1581, 'brain': 1582, 'safe': 1583, 'shes': 1584, 'turns': 1585, 'ending': 1586, 'complex': 1587, 'quarterback': 1588, 'harry': 1589, 'indonesia': 1590, 'networks': 1591, 'involving': 1592, 'cant': 1593, 'giants': 1594, 'multiple': 1595, 'bringing': 1596, 'cell': 1597, 'forest': 1598, 'rebels': 1599, 'alliance': 1600, 'english': 1601, 'minutes': 1602, 'arts': 1603, 'retailer': 1604, 'zone': 1605, 'hope': 1606, 'ice': 1607, 'foundation': 1608, 'crashes': 1609, 'rupee': 1610, 'art': 1611, 'huge': 1612, 'lindsay': 1613, 'problem': 1614, 'milan': 1615, 'steps': 1616, 'lohan': 1617, 'raising': 1618, 'ends': 1619, 'gone': 1620, 'weapons': 1621, 'tests': 1622, 'sir': 1623, 'value': 1624, 'doctor': 1625, 'resigned': 1626, 'professional': 1627, 'assistant': 1628, 'science': 1629, 'aug': 1630, 'tree': 1631, 'helping': 1632, 'grow': 1633, 'animal': 1634, 'didnt': 1635, 'bob': 1636, 'tribute': 1637, 'bollywood': 1638, 'reality': 1639, 'golf': 1640, 'cleared': 1641, 'firms': 1642, 'needed': 1643, 'lives': 1644, 'row': 1645, 'reelection': 1646, 'relationship': 1647, 'ford': 1648, 'capacity': 1649, 'ill': 1650, 'expansion': 1651, 'story': 1652, 'journal': 1653, 'showing': 1654, 'lines': 1655, 'scored': 1656, 'cities': 1657, 'sanctions': 1658, 'mountain': 1659, 'telecom': 1660, 'visits': 1661, 'resign': 1662, 'stewart': 1663, 'solution': 1664, 'citing': 1665, 'charlie': 1666, 'seeks': 1667, 'married': 1668, 'missouri': 1669, 'tourism': 1670, 'parties': 1671, 'commissioner': 1672, 'various': 1673, 'feels': 1674, 'directors': 1675, 'via': 1676, 'activity': 1677, 'protests': 1678, 'hot': 1679, 'struggling': 1680, 'became': 1681, 'remained': 1682, 'kardashian': 1683, 'design': 1684, 'transport': 1685, 'increases': 1686, 'profits': 1687, 'oct': 1688, 'marijuana': 1689, 'outlook': 1690, 'trip': 1691, 'strategy': 1692, 'samsung': 1693, 'delivery': 1694, 'environmental': 1695, 'investor': 1696, 'seattle': 1697, 'barcelona': 1698, 'carrier': 1699, 'indiana': 1700, 'version': 1701, 'rick': 1702, 'charles': 1703, 'effect': 1704, 'brian': 1705, 'signing': 1706, 'fan': 1707, 'happy': 1708, 'leg': 1709, 'poor': 1710, 'advanced': 1711, 'account': 1712, 'invest': 1713, 'santa': 1714, 'seriously': 1715, 'clear': 1716, 'distribution': 1717, '2007': 1718, 'mens': 1719, 'important': 1720, 'simon': 1721, 'jason': 1722, 'citizens': 1723, 'punjab': 1724, 'politics': 1725, 'seized': 1726, 'passes': 1727, 'square': 1728, 'idol': 1729, 'philadelphia': 1730, 'moscow': 1731, 'industries': 1732, 'chain': 1733, 'trust': 1734, 'attempted': 1735, 'debate': 1736, 'aimed': 1737, 'cleveland': 1738, 'classic': 1739, 'labour': 1740, 'causing': 1741, 'jack': 1742, 'bowl': 1743, 'terror': 1744, 'heat': 1745, 'things': 1746, 'app': 1747, 'wisconsin': 1748, 'battery': 1749, 'lawyer': 1750, 'bangladesh': 1751, 'entered': 1752, 'kids': 1753, 'motors': 1754, 'quit': 1755, 'relief': 1756, 'associated': 1757, 'manufacturer': 1758, 'embassy': 1759, 'stephen': 1760, 'benefit': 1761, 'healthcare': 1762, 'fast': 1763, 'township': 1764, 'warns': 1765, 'historic': 1766, 'vs': 1767, 'sony': 1768, 'appoints': 1769, 'song': 1770, '1000': 1771, 'toyota': 1772, 'strikes': 1773, 'sox': 1774, 'gordon': 1775, 'really': 1776, 'patent': 1777, 'disaster': 1778, 'mitt': 1779, 'plants': 1780, 'box': 1781, 'always': 1782, 'application': 1783, 'employee': 1784, 'secret': 1785, 'auction': 1786, 'placed': 1787, 'discovered': 1788, 'mass': 1789, 'anthony': 1790, 'arsenal': 1791, 'file': 1792, 'rule': 1793, 'schedule': 1794, 'denies': 1795, 'bar': 1796, 'ii': 1797, 'sarah': 1798, 'experts': 1799, 'usa': 1800, 'motorcycle': 1801, 'recovering': 1802, 'swiss': 1803, 'recall': 1804, 'fc': 1805, 'attend': 1806, 'expecting': 1807, 'prevent': 1808, 'homicide': 1809, 'nationwide': 1810, 'holdings': 1811, 'allegations': 1812, 'olympics': 1813, 'comments': 1814, 'majority': 1815, 'content': 1816, 'wake': 1817, 'increasing': 1818, 'ongoing': 1819, 'toward': 1820, 'cameron': 1821, 'cruise': 1822, 'dutch': 1823, 'allen': 1824, 'carrying': 1825, 'posts': 1826, 'southwest': 1827, 'sexually': 1828, 'thomas': 1829, 'streets': 1830, 'closer': 1831, 'defensive': 1832, 'developing': 1833, 'closes': 1834, 'wide': 1835, 'offices': 1836, 'loses': 1837, 'advertising': 1838, 'jets': 1839, 'landing': 1840, 'cast': 1841, 'complete': 1842, 'ten': 1843, 'activities': 1844, 'breaks': 1845, 'send': 1846, 'factor': 1847, 'tackle': 1848, 'satellite': 1849, 'electronic': 1850, 'crimes': 1851, 'failure': 1852, 'fires': 1853, 'approves': 1854, 'leadership': 1855, 'disabled': 1856, 'russell': 1857, 'analysts': 1858, 'spent': 1859, 'arab': 1860, 'seat': 1861, 'throughout': 1862, 'able': 1863, 'helicopter': 1864, 'add': 1865, 'visited': 1866, 'ap': 1867, 'extension': 1868, 'bbc': 1869, 'teenager': 1870, 'candidates': 1871, 'campus': 1872, 'brad': 1873, 'unveils': 1874, 'regular': 1875, 'promote': 1876, 'crore': 1877, 'voice': 1878, 'pilot': 1879, 'cents': 1880, 'applications': 1881, 'related': 1882, 'jose': 1883, 'extend': 1884, 'weekly': 1885, 'infrastructure': 1886, 'scotland': 1887, 'joining': 1888, 'customer': 1889, 'significant': 1890, 'islamic': 1891, 'poll': 1892, 'subsidiary': 1893, 'activists': 1894, 'reveals': 1895, 'bieber': 1896, 'spend': 1897, 'avenue': 1898, 'identified': 1899, 'receiver': 1900, 'sending': 1901, 'works': 1902, 'windows': 1903, 'assaulting': 1904, 'enter': 1905, 'hamilton': 1906, 'clubs': 1907, 'failing': 1908, 'jr': 1909, 'deadly': 1910, 'indias': 1911, 'speed': 1912, 'commerce': 1913, 'jessica': 1914, 'express': 1915, 'polls': 1916, 'allowed': 1917, 'pick': 1918, 'selected': 1919, 'rural': 1920, 'stabbing': 1921, 'metal': 1922, 'ukraine': 1923, 'founder': 1924, 'davis': 1925, 'tech': 1926, 'prosecutors': 1927, 'metro': 1928, 'bjp': 1929, 'try': 1930, 'terrorism': 1931, 'developed': 1932, 'melbourne': 1933, 'declares': 1934, 'sharply': 1935, '300': 1936, 'expectations': 1937, '32': 1938, 'wales': 1939, 'experience': 1940, 'amy': 1941, 'pace': 1942, 'jet': 1943, 'granted': 1944, 'concern': 1945, 'chemical': 1946, 'clash': 1947, 'stimulus': 1948, 'speak': 1949, 'technical': 1950, 'immigration': 1951, 'democrats': 1952, 'settlement': 1953, 'cover': 1954, 'detained': 1955, 'plc': 1956, 'voting': 1957, 'let': 1958, 'serve': 1959, '70': 1960, 'setting': 1961, 'elizabeth': 1962, 'purchase': 1963, 'violent': 1964, 'tennessee': 1965, 'designed': 1966, 'brazilian': 1967, 'kennedy': 1968, 'dc': 1969, 'scandal': 1970, 'engineering': 1971, 'consider': 1972, 'citys': 1973, 'destroyed': 1974, 'gain': 1975, 'possession': 1976, 'pass': 1977, 'goal': 1978, 'appears': 1979, 'consecutive': 1980, 'apparently': 1981, 'gary': 1982, 'done': 1983, 'continuing': 1984, 'overall': 1985, 'confirms': 1986, 'supplies': 1987, 'dating': 1988, 'hands': 1989, '75': 1990, 'thought': 1991, 'diagnosed': 1992, 'fine': 1993, 'comedy': 1994, 'beats': 1995, 'evidence': 1996, 'counts': 1997, 'christian': 1998, 'shopping': 1999, 'previously': 2000, 'hosting': 2001, 'arabia': 2002, 'sentence': 2003, 'tough': 2004, 'patrol': 2005, 'nick': 2006, 'daniel': 2007, 'yahoo': 2008, 'alcohol': 2009, 'breaking': 2010, 'offensive': 2011, '35': 2012, 'providing': 2013, 'kentucky': 2014, 'phoenix': 2015, 'rare': 2016, 'brothers': 2017, 'agencies': 2018, 'ring': 2019, 'passengers': 2020, 'agree': 2021, 'crew': 2022, 'beckham': 2023, 'longer': 2024, 'adam': 2025, 'ruling': 2026, 'hosts': 2027, 'expands': 2028, 'sun': 2029, 'author': 2030, 'activist': 2031, 'prize': 2032, 'trend': 2033, 'feel': 2034, 'decade': 2035, 'refused': 2036, 'orleans': 2037, 'iron': 2038, 'palm': 2039, 'standard': 2040, 'alabama': 2041, 'license': 2042, 'pounds': 2043, 'golden': 2044, 'decades': 2045, 'freedom': 2046, 'terrorist': 2047, 'advisory': 2048, 'appearance': 2049, 'finds': 2050, 'bin': 2051, 'speech': 2052, 'wounded': 2053, 'burglary': 2054, 'threatening': 2055, 'numbers': 2056, 'childrens': 2057, 'recovered': 2058, 'linked': 2059, 'cole': 2060, 'sept': 2061, 'chapter': 2062, 'indians': 2063, 'negative': 2064, 'hills': 2065, 'forum': 2066, 'electricity': 2067, 'honored': 2068, 'silver': 2069, 'religious': 2070, 'carbon': 2071, 'overseas': 2072, 'hour': 2073, 'beaten': 2074, 'tokyo': 2075, 'lack': 2076, 'photo': 2077, 'laws': 2078, 'created': 2079, 'units': 2080, 'electronics': 2081, 'receiving': 2082, 'frank': 2083, 'route': 2084, 'el': 2085, 'peoples': 2086, 'hurt': 2087, 'hired': 2088, 'taxes': 2089, 'changed': 2090, 'passenger': 2091, 'philippines': 2092, 'surprise': 2093, 'wild': 2094, 'n': 2095, 'ensure': 2096, 'export': 2097, 'studio': 2098, 'palin': 2099, 'muslim': 2100, 'strip': 2101, 'oklahoma': 2102, 'undergo': 2103, 'serving': 2104, 'successfully': 2105, 'statistics': 2106, 'fees': 2107, 'parliamentary': 2108, 'kyrgyzstan': 2109, 'coalition': 2110, 'email': 2111, 'denver': 2112, 'vietnam': 2113, 'urges': 2114, 'adds': 2115, 'introduces': 2116, 'fargo': 2117, 'tamil': 2118, 'heading': 2119, '80': 2120, '2014': 2121, 'claiming': 2122, 'devices': 2123, 'legislation': 2124, 'pradesh': 2125, 'wrong': 2126, 'tata': 2127, 'foot': 2128, 'hire': 2129, 'targets': 2130, 'panel': 2131, 'mine': 2132, 'cape': 2133, 'generation': 2134, 'mexican': 2135, 'prix': 2136, 'patrick': 2137, 'sundays': 2138, 'treated': 2139, 'broadband': 2140, 'walk': 2141, 'question': 2142, 'announcement': 2143, 'bear': 2144, 'friendly': 2145, 'representative': 2146, 'racing': 2147, 'dealers': 2148, 'letter': 2149, 'investments': 2150, 'b': 2151, 'cold': 2152, 'movement': 2153, 'success': 2154, 'territory': 2155, 'threats': 2156, 'goods': 2157, 'deliver': 2158, 'collision': 2159, 'toll': 2160, 'update': 2161, 'greater': 2162, 'elementary': 2163, 'facilities': 2164, 'clean': 2165, 'expanding': 2166, 'treasury': 2167, 'nokia': 2168, 'egyptian': 2169, 'sites': 2170, 'nigeria': 2171, 'qatar': 2172, 'nelson': 2173, 'extends': 2174, 'laid': 2175, 'crews': 2176, 'can': 2177, 'not': 2178, 'thanks': 2179, 'assaulted': 2180, 'wells': 2181, 'engine': 2182, 'anna': 2183, 'sees': 2184, 'roads': 2185, 'programs': 2186, 'pope': 2187, 'cuba': 2188, 'android': 2189, 'shareholders': 2190, 'victoria': 2191, 'message': 2192, 'marine': 2193, 'northwest': 2194, 'paper': 2195, 'portfolio': 2196, 'reuters': 2197, 'longtime': 2198, 'speculation': 2199, 'storage': 2200, 'zimbabwe': 2201, 'pitcher': 2202, 'medal': 2203, 'improved': 2204, 'ghana': 2205, 'bodies': 2206, 'enterprise': 2207, 'iraqi': 2208, 'kept': 2209, 'status': 2210, 'dogs': 2211, 'cable': 2212, 'cocaine': 2213, 'gandhi': 2214, 'dangerous': 2215, 'stone': 2216, 'spread': 2217, 'democracy': 2218, 'keeping': 2219, 'lending': 2220, 'weight': 2221, 'rather': 2222, 'yankees': 2223, 'tropical': 2224, 'artist': 2225, 'approval': 2226, 'options': 2227, 'parking': 2228, 'formally': 2229, 'twins': 2230, 'agents': 2231, 'branch': 2232, 'cbs': 2233, 'ny': 2234, 'built': 2235, 'proposal': 2236, 'sudan': 2237, 'moore': 2238, '45': 2239, 'duty': 2240, 'believed': 2241, 'deals': 2242, 'sixth': 2243, 'expanded': 2244, 'analyst': 2245, 'breast': 2246, 'foods': 2247, 'jordan': 2248, 'libyan': 2249, 'lewis': 2250, 'visiting': 2251, 'plea': 2252, 'bought': 2253, 'austin': 2254, 'questions': 2255, 'tickets': 2256, 'homeless': 2257, 'rehab': 2258, '400': 2259, 'supporters': 2260, 'reaches': 2261, 'scottish': 2262, 'bureau': 2263, 'provides': 2264, 'assistance': 2265, 'catholic': 2266, 'sport': 2267, 'famous': 2268, 'collection': 2269, 'appeared': 2270, 'aged': 2271, 'campbell': 2272, 'theatre': 2273, 'shoulder': 2274, 'independence': 2275, 'hillary': 2276, 'agriculture': 2277, 'rapper': 2278, 'exercise': 2279, 'spears': 2280, 'twice': 2281, 'arms': 2282, 'true': 2283, 'causes': 2284, 'cards': 2285, 'orange': 2286, 'nifty': 2287, 'usd': 2288, 'fellow': 2289, 'interior': 2290, 'murray': 2291, 'existing': 2292, 'drops': 2293, 'alive': 2294, 'suspicion': 2295, 'rejected': 2296, 'oscar': 2297, 'teenage': 2298, 'explosion': 2299, 'include': 2300, 'wilson': 2301, 'eye': 2302, 'traders': 2303, 'yen': 2304, 'push': 2305, 'congressional': 2306, 'roger': 2307, 'alert': 2308, 'rail': 2309, '90': 2310, 'journalist': 2311, 'sharp': 2312, 'certain': 2313, 'hitting': 2314, 'testing': 2315, 'strength': 2316, 'factory': 2317, 'shoot': 2318, 'stronger': 2319, '150': 2320, 'chinas': 2321, 'resigns': 2322, 'although': 2323, 'lowest': 2324, 'powerful': 2325, 'initial': 2326, 'earth': 2327, 'stations': 2328, 'enforcement': 2329, 'michelle': 2330, 'pittsburgh': 2331, 'britney': 2332, 'pro': 2333, 'eric': 2334, 'miller': 2335, 'ocean': 2336, 'venezuela': 2337, 'massachusetts': 2338, 'strengthen': 2339, 'monetary': 2340, 'pool': 2341, 'dream': 2342, 'instead': 2343, 'tells': 2344, 'stated': 2345, 'offender': 2346, 'waste': 2347, 'finish': 2348, 'residential': 2349, 'challenges': 2350, 'newly': 2351, 'katie': 2352, 'pattinson': 2353, 'rihanna': 2354, 'uae': 2355, 'americas': 2356, 'fully': 2357, 'sued': 2358, 'ipad': 2359, 'becomes': 2360, 'prisoners': 2361, 'amount': 2362, 'museum': 2363, 'springs': 2364, 'communities': 2365, 'oakland': 2366, 'screen': 2367, 'yemen': 2368, 'bp': 2369, 'formula': 2370, 'judges': 2371, 'jon': 2372, 'stable': 2373, 'owned': 2374, 'chiefs': 2375, 'details': 2376, 'honor': 2377, 'immediate': 2378, 'baltimore': 2379, 'combat': 2380, 'acting': 2381, 'buys': 2382, 'located': 2383, 'drama': 2384, 'howard': 2385, 'railway': 2386, 'nomination': 2387, 'option': 2388, 'welcome': 2389, 'recalled': 2390, 'plays': 2391, 'device': 2392, 'resident': 2393, 'library': 2394, 'hoping': 2395, 'rivals': 2396, 'produce': 2397, 'palestinians': 2398, 'milwaukee': 2399, 'regions': 2400, 'comeback': 2401, 'funeral': 2402, 'patient': 2403, 'votes': 2404, 'sam': 2405, 'zardari': 2406, 'stanley': 2407, 'garden': 2408, 'ontario': 2409, 'musical': 2410, 'malaysian': 2411, 'abu': 2412, 'note': 2413, 'contracts': 2414, 'diplomatic': 2415, 'missed': 2416, 'repair': 2417, 'journalists': 2418, 'feature': 2419, 'lifted': 2420, 'tampa': 2421, 'pension': 2422, 'ball': 2423, 'kings': 2424, 'putting': 2425, 'healthy': 2426, 'newcastle': 2427, 'check': 2428, 'britains': 2429, 'begun': 2430, 'discovery': 2431, 'phones': 2432, 'sought': 2433, 'tourists': 2434, 'recover': 2435, 'dance': 2436, 'stroke': 2437, 'sensex': 2438, 'atlantic': 2439, 'dancing': 2440, 'dozens': 2441, 'somali': 2442, 'penalty': 2443, 'brands': 2444, 'rio': 2445, 'arena': 2446, 'nights': 2447, 'fish': 2448, 'initiative': 2449, 'conservative': 2450, 'mail': 2451, 'harris': 2452, 'diamond': 2453, 'aviation': 2454, 'championships': 2455, 'vowed': 2456, 'birmingham': 2457, 'extra': 2458, 'commander': 2459, 'superstar': 2460, 'fear': 2461, 'whats': 2462, 'deaths': 2463, 'suffers': 2464, 'bailout': 2465, 'goals': 2466, 'secure': 2467, 'nationals': 2468, 'stopped': 2469, 'payment': 2470, 'nsw': 2471, 'sabha': 2472, 'thats': 2473, 'pain': 2474, 'islands': 2475, 'tigers': 2476, 'fatally': 2477, 'miles': 2478, 'culture': 2479, 'katy': 2480, 'notes': 2481, 'att': 2482, 'advance': 2483, 'smart': 2484, 'galaxy': 2485, 'hospitals': 2486, 'apparent': 2487, 'fact': 2488, 'myanmar': 2489, 'cancelled': 2490, 'lions': 2491, 'highly': 2492, 'policies': 2493, 'speaker': 2494, 'carlos': 2495, 'supports': 2496, 'kicked': 2497, 'eurozone': 2498, 'seasons': 2499, 'presence': 2500, 'window': 2501, 'copper': 2502, 'killer': 2503, 'pair': 2504, 'sides': 2505, 'reduced': 2506, 'exclusive': 2507, 'employment': 2508, 'regarding': 2509, 'arm': 2510, 'spotted': 2511, 'businessman': 2512, 'southeast': 2513, 'financing': 2514, 'expert': 2515, 'hell': 2516, 'asks': 2517, 'removed': 2518, 'j': 2519, 'ron': 2520, 'veterans': 2521, 'virus': 2522, 'buildings': 2523, 'talent': 2524, 'kumar': 2525, '65': 2526, 'utah': 2527, 'shown': 2528, 'intelligence': 2529, 'anderson': 2530, 'winehouse': 2531, 'warren': 2532, 'franchise': 2533, 'affected': 2534, 'simpson': 2535, 'considered': 2536, 'agrees': 2537, 'touch': 2538, 'northeast': 2539, 'bulgaria': 2540, 'horse': 2541, 'sheen': 2542, 'reporters': 2543, 'welcomed': 2544, 'expect': 2545, 'junior': 2546, 'dialogue': 2547, 'basis': 2548, 'abc': 2549, 'angelina': 2550, 'jolie': 2551, 'recalls': 2552, 'chavez': 2553, 'resort': 2554, 'celebrating': 2555, 'bilateral': 2556, 'monthly': 2557, 'delegation': 2558, 'pennsylvania': 2559, 'feet': 2560, 'gop': 2561, 'active': 2562, 'columbia': 2563, 'oregon': 2564, 'traded': 2565, 'winds': 2566, 'floor': 2567, 'ways': 2568, 'regime': 2569, 'doors': 2570, 'emerging': 2571, 'awareness': 2572, 'edwards': 2573, 'filing': 2574, 'preparing': 2575, 'offshore': 2576, 'w': 2577, 'masters': 2578, 'persons': 2579, 'postponed': 2580, 'cheryl': 2581, 'waters': 2582, 'fishing': 2583, 'boxing': 2584, 'output': 2585, 'ticket': 2586, 'legendary': 2587, 'asking': 2588, 'collapsed': 2589, 'confident': 2590, 'republicans': 2591, 'page': 2592, 'buffalo': 2593, 'contact': 2594, 'azerbaijani': 2595, 'places': 2596, 'demi': 2597, '10000': 2598, 'designer': 2599, 'felt': 2600, 'presented': 2601, 'mac': 2602, 'slow': 2603, 'jerry': 2604, 'delayed': 2605, 'creating': 2606, 'entire': 2607, 'tonnes': 2608, 'probation': 2609, 'matches': 2610, 'however': 2611, 'terrorists': 2612, 'australias': 2613, 'jimmy': 2614, 'transportation': 2615, 'born': 2616, 'c': 2617, 'madonna': 2618, 'counties': 2619, 'betting': 2620, 'restructuring': 2621, 'turning': 2622, 'movies': 2623, 'hudson': 2624, 'paying': 2625, 'mall': 2626, 'franklin': 2627, 'retired': 2628, 'properties': 2629, 'declined': 2630, 'native': 2631, 'vancouver': 2632, 'hero': 2633, 'demands': 2634, 'defend': 2635, 'henry': 2636, 'sworn': 2637, 'reporter': 2638, 'steven': 2639, 'ray': 2640, '41': 2641, 'negotiations': 2642, 'opportunities': 2643, 'busy': 2644, 'todays': 2645, 'outstanding': 2646, 'craig': 2647, 'invited': 2648, 'standards': 2649, 'serbia': 2650, 'columbus': 2651, 'rich': 2652, 'jeff': 2653, 'broadway': 2654, 'biden': 2655, 'enters': 2656, 'manslaughter': 2657, 'targeting': 2658, 'troubled': 2659, 'orlando': 2660, 'renewed': 2661, 'payments': 2662, 'searching': 2663, 'ad': 2664, 'phil': 2665, 'fit': 2666, 'pull': 2667, 'scene': 2668, 'thailand': 2669, 'mississippi': 2670, 'dakota': 2671, 'casino': 2672, 'approximately': 2673, 'learned': 2674, 'lawyers': 2675, 'delay': 2676, 'coverage': 2677, 'missile': 2678, 'drunk': 2679, 'edward': 2680, 'exhibition': 2681, 'lineup': 2682, 'lebanon': 2683, 'heads': 2684, 'pipeline': 2685, 'nothing': 2686, 'means': 2687, 'supplier': 2688, 'fighter': 2689, 'ankle': 2690, 'circuit': 2691, 'sprint': 2692, 'dan': 2693, 'informed': 2694, 'escaped': 2695, 'modern': 2696, 'positions': 2697, 'reforms': 2698, 'lift': 2699, 'congressman': 2700, 'czech': 2701, 'madison': 2702, '600': 2703, 'shanghai': 2704, 'helps': 2705, 'conducted': 2706, '64': 2707, 'suspends': 2708, 'clinic': 2709, 'imports': 2710, 'sean': 2711, 'suspicious': 2712, 'beyond': 2713, 'tell': 2714, 'steady': 2715, 'jumped': 2716, 'preliminary': 2717, 'andre': 2718, 'documents': 2719, 'probe': 2720, 'ask': 2721, 'population': 2722, 'bit': 2723, 'shortage': 2724, 'participate': 2725, 'complaint': 2726, 'utility': 2727, 'fake': 2728, 'deputies': 2729, 'drinking': 2730, 'notice': 2731, 'kristen': 2732, 'pornography': 2733, 'insists': 2734, 'learn': 2735, 'producers': 2736, 'clients': 2737, 'ncaa': 2738, '100000': 2739, 'hosted': 2740, 'specialist': 2741, 'portland': 2742, 'e': 2743, 'conflict': 2744, 'scam': 2745, 'carry': 2746, 'fallen': 2747, 'kidnapped': 2748, 'illness': 2749, 'rocket': 2750, 'identity': 2751, 'convention': 2752, 'welcomes': 2753, 'antonio': 2754, 'kazakhstan': 2755, 'democrat': 2756, 'performing': 2757, 'creek': 2758, 'evacuated': 2759, 'phase': 2760, 'pays': 2761, 'sky': 2762, 'sa': 2763, 'canceled': 2764, 'promotion': 2765, 'luxury': 2766, 'penn': 2767, 'fee': 2768, 'nominated': 2769, 'alan': 2770, 'noon': 2771, 'jewish': 2772, 'temporary': 2773, 'bahrain': 2774, 'deep': 2775, 'stole': 2776, 'invasion': 2777, 'blast': 2778, 'representatives': 2779, '62': 2780, 'benchmark': 2781, 'unions': 2782, 'networking': 2783, 'mount': 2784, 'saturdays': 2785, 'something': 2786, 'residence': 2787, 'disney': 2788, 'hamas': 2789, 'arkansas': 2790, 'swedish': 2791, 'tested': 2792, 'manmohan': 2793, 'cargo': 2794, 'pitt': 2795, 'bell': 2796, 'gang': 2797, 'thing': 2798, 'incidents': 2799, 'mutual': 2800, '85': 2801, 'mental': 2802, 'sentiment': 2803, 'managed': 2804, 'ease': 2805, 'wood': 2806, 'cancels': 2807, 'perfect': 2808, 'announcing': 2809, 'matter': 2810, 'figure': 2811, 'rice': 2812, 'suspension': 2813, 'taxi': 2814, 'sugar': 2815, 'appeals': 2816, 'deadline': 2817, 'ferguson': 2818, 'dedicated': 2819, 'opener': 2820, 'asset': 2821, 'smartphone': 2822, 'flag': 2823, 'threatens': 2824, 'request': 2825, 'mary': 2826, 'settle': 2827, '63': 2828, 'districts': 2829, 'defends': 2830, 'suspects': 2831, 'warrant': 2832, 'internal': 2833, 'engagement': 2834, 'argentina': 2835, 'jay': 2836, 'neighborhood': 2837, 'ive': 2838, 'coffee': 2839, 'fitness': 2840, 'wait': 2841, 'queensland': 2842, 'centers': 2843, 'goldman': 2844, 'cooper': 2845, 'immediately': 2846, 'connecticut': 2847, 'ride': 2848, 'federation': 2849, 'scientific': 2850, 'lawrence': 2851, 'jump': 2852, 'especially': 2853, 'josh': 2854, 'resolution': 2855, 'institutions': 2856, 'ag': 2857, 'drowned': 2858, 'tied': 2859, 'crossing': 2860, 'display': 2861, 'adults': 2862, 'pound': 2863, 'retailers': 2864, 'male': 2865, 'edition': 2866, 'often': 2867, 'tight': 2868, 'terry': 2869, '2000': 2870, 'dark': 2871, 'youtube': 2872, 'murdered': 2873, 'nbc': 2874, 'escape': 2875, 'warner': 2876, 'drew': 2877, 'merger': 2878, 'sends': 2879, 'learning': 2880, 'accounts': 2881, 'robin': 2882, 'traditional': 2883, 'features': 2884, 'eve': 2885, 'alaska': 2886, 'provided': 2887, 'professor': 2888, 'includes': 2889, 'books': 2890, 'choice': 2891, 'boeing': 2892, 'criticism': 2893, 'guy': 2894, 'finished': 2895, 'eagles': 2896, '5000': 2897, 'weaker': 2898, 'estimates': 2899, 'difficult': 2900, 'swimming': 2901, 'defended': 2902, 'featuring': 2903, 'improving': 2904, 'derby': 2905, 'century': 2906, 'compete': 2907, 'billy': 2908, 'swift': 2909, 'del': 2910, 'language': 2911, 'reading': 2912, 'virgin': 2913, 'onto': 2914, 'suggests': 2915, 'bears': 2916, '33': 2917, 'raid': 2918, 'barry': 2919, 'walmart': 2920, 'tender': 2921, 'bulgarian': 2922, 'responsible': 2923, '42': 2924, 'trophy': 2925, 'edge': 2926, 'premiere': 2927, 'false': 2928, 'import': 2929, 'pedestrian': 2930, 'tourist': 2931, 'marks': 2932, 'sons': 2933, 'fishermen': 2934, 'aniston': 2935, 'items': 2936, 'rookie': 2937, 'llc': 2938, 'marathon': 2939, 'secured': 2940, 'maintenance': 2941, 'registered': 2942, 'barclays': 2943, 'table': 2944, 'picked': 2945, 'marry': 2946, 'waiting': 2947, 'violations': 2948, 'battling': 2949, 'theres': 2950, 'smoking': 2951, 'barbara': 2952, 'rob': 2953, 'verizon': 2954, 'bruce': 2955, 'image': 2956, 'fifa': 2957, 'expressed': 2958, 'bradley': 2959, 'remove': 2960, 'normal': 2961, 'follow': 2962, 'personnel': 2963, 'feeling': 2964, 'neil': 2965, 'bull': 2966, 'tons': 2967, 'belarus': 2968, 'medicine': 2969, 'savings': 2970, 'god': 2971, 'philippine': 2972, 'tornado': 2973, 'broadcast': 2974, 'everything': 2975, 'lankan': 2976, 'arrests': 2977, 'recorded': 2978, 'indonesian': 2979, 'dhabi': 2980, 'rushed': 2981, 'organizations': 2982, 'withdraws': 2983, 'nhl': 2984, 'switzerland': 2985, 'compensation': 2986, 'flooding': 2987, 'worked': 2988, 'visa': 2989, 'undisclosed': 2990, 'smoke': 2991, 'ed': 2992, 'urban': 2993, 'spill': 2994, 'bulls': 2995, 'chrysler': 2996, 'armstrong': 2997, 'diabetes': 2998, 'revenues': 2999, 'supporting': 3000, 'provincial': 3001, 'investigators': 3002, 'targeted': 3003, 'delays': 3004, 'roll': 3005, 'lopez': 3006, 'inmate': 3007, 'ibm': 3008, 'trees': 3009, 'sweden': 3010, 'fail': 3011, 'slowdown': 3012, 'tea': 3013, 'haiti': 3014, 'happened': 3015, 'camera': 3016, 'tottenham': 3017, 'kingdom': 3018, 'clashes': 3019, 'interim': 3020, 'armenia': 3021, 'sachs': 3022, 'cultural': 3023, 'proud': 3024, 'shots': 3025, 'ukrainian': 3026, 'wikileaks': 3027, 'fastest': 3028, 'dealer': 3029, 'material': 3030, 'regulatory': 3031, 'europes': 3032, 'vows': 3033, 'images': 3034, 'interstate': 3035, 'wildlife': 3036, 'pilots': 3037, 'cowell': 3038, 'processing': 3039, 'brings': 3040, 'constitution': 3041, 'style': 3042, 'sister': 3043, 'decide': 3044, 'adopted': 3045, 'meetings': 3046, 'intel': 3047, 'lincoln': 3048, 'carried': 3049, 'johnny': 3050, 'transit': 3051, 'rafael': 3052, '10th': 3053, 'scores': 3054, 'seems': 3055, 'longterm': 3056, 'materials': 3057, 'resistance': 3058, 'ran': 3059, 'globe': 3060, 'reopen': 3061, 'judicial': 3062, 'cited': 3063, 'crown': 3064, 'suing': 3065, 'integrated': 3066, 'tower': 3067, 'murdering': 3068, 'register': 3069, 'cincinnati': 3070, 'nicole': 3071, 'names': 3072, 'introduce': 3073, 'knife': 3074, 'naval': 3075, 'parks': 3076, 'location': 3077, 'upper': 3078, 'door': 3079, 'takeover': 3080, 'direction': 3081, 'emirates': 3082, 'volunteers': 3083, 'cardinals': 3084, 'clark': 3085, '76': 3086, 'pitch': 3087, 'maryland': 3088, 'allowing': 3089, 'louisiana': 3090, 'civilians': 3091, 'euros': 3092, 'sure': 3093, 'managing': 3094, '34': 3095, 'lay': 3096, 'jazz': 3097, 'fleet': 3098, 'blackberry': 3099, 'section': 3100, 'assigned': 3101, '36': 3102, 'suit': 3103, 'bobby': 3104, 'kicks': 3105, 'plastic': 3106, 'mans': 3107, 'aims': 3108, 'cyrus': 3109, 'roy': 3110, 'preseason': 3111, 'mandela': 3112, 'employers': 3113, 'restore': 3114, 'reasons': 3115, 'sound': 3116, 'maintain': 3117, 'carter': 3118, 'anything': 3119, 'upgraded': 3120, 'regulators': 3121, 'reliance': 3122, 'gunpoint': 3123, 'amazon': 3124, 'benedict': 3125, 'opportunity': 3126, 'flying': 3127, 'maria': 3128, 'nashville': 3129, 'defeated': 3130, 'seventh': 3131, 'trillion': 3132, 'courts': 3133, 'mostly': 3134, 'thai': 3135, 'till': 3136, 'trafficking': 3137, 'dismissed': 3138, 'hires': 3139, 'shah': 3140, 'remaining': 3141, 'accept': 3142, 'honda': 3143, 'balance': 3144, 'gates': 3145, 'shuttle': 3146, 'idea': 3147, 'cowboys': 3148, 'honoured': 3149, 'whole': 3150, 'delivered': 3151, 'rush': 3152, 'netherlands': 3153, 'prepare': 3154, 'cap': 3155, 'organisation': 3156, 'threw': 3157, 'commitment': 3158, 'suggested': 3159, 'struggle': 3160, '911': 3161, 'houses': 3162, 'grants': 3163, 'maoists': 3164, 'principal': 3165, 'arson': 3166, '2006': 3167, 'approach': 3168, 'easy': 3169, 'upon': 3170, 'estimated': 3171, 'influence': 3172, 'alexander': 3173, 'fitch': 3174, 'parade': 3175, 'halt': 3176, 'drilling': 3177, 'nicolas': 3178, 'shortly': 3179, 'villa': 3180, 'tehran': 3181, 'prominent': 3182, 'recalling': 3183, 'hike': 3184, 'matthew': 3185, 'nasa': 3186, 'cells': 3187, 'quickly': 3188, 'ac': 3189, 'burning': 3190, 'hilton': 3191, 'classes': 3192, 'improvement': 3193, 'ufc': 3194, 'playoff': 3195, 'liberal': 3196, 'drunken': 3197, 'gained': 3198, 'unexpectedly': 3199, 'coordinator': 3200, 'degree': 3201, 'plead': 3202, 'permanent': 3203, 'charlotte': 3204, 'speaks': 3205, 'emerged': 3206, 'blow': 3207, 'rand': 3208, 'gujarat': 3209, 'trail': 3210, 'kenya': 3211, 'comedian': 3212, 'rains': 3213, 'heritage': 3214, 'blamed': 3215, 'registration': 3216, 'adult': 3217, 'word': 3218, 'handed': 3219, 'reopened': 3220, 'withdraw': 3221, 'written': 3222, 'softball': 3223, 'actually': 3224, 'cuban': 3225, 'promised': 3226, 'salman': 3227, 'jamie': 3228, 'miley': 3229, 'charter': 3230, 'asif': 3231, 'described': 3232, 'advantage': 3233, 'alone': 3234, 'core': 3235, 'isnt': 3236, '3d': 3237, 'p': 3238, 'joseph': 3239, 'older': 3240, 'pictures': 3241, 'establish': 3242, 'sparked': 3243, 'moment': 3244, 'talking': 3245, 'backed': 3246, 'athletes': 3247, 'streak': 3248, 'raped': 3249, 'occurred': 3250, 'wave': 3251, 'unchanged': 3252, 'powers': 3253, 'roster': 3254, 'tie': 3255, 'arrive': 3256, 'read': 3257, 'warriors': 3258, 'damaged': 3259, 'fbi': 3260, 'auckland': 3261, 'automotive': 3262, 'islamabad': 3263, 'hugo': 3264, 'knocked': 3265, 'exploration': 3266, 'risks': 3267, 'pc': 3268, 'performed': 3269, '37': 3270, 'collaboration': 3271, 'attention': 3272, 'parent': 3273, 'episode': 3274, 'comprehensive': 3275, 'ricky': 3276, 'endorses': 3277, 'presidents': 3278, 'sheriff': 3279, 'alternative': 3280, 'faced': 3281, 'dates': 3282, 'produced': 3283, 'pushed': 3284, 'petroleum': 3285, 'wearing': 3286, 'accepted': 3287, 'highs': 3288, 'forthcoming': 3289, 'patriots': 3290, 'restored': 3291, 'stability': 3292, 'leak': 3293, 'crowd': 3294, 'fixed': 3295, 'seize': 3296, 'undergoing': 3297, 'infection': 3298, 'condemned': 3299, 'formed': 3300, 'collins': 3301, 'gaming': 3302, 'listed': 3303, 'inquiry': 3304, 'diesel': 3305, 'probably': 3306, 'bristol': 3307, 'kind': 3308, 'worries': 3309, 'similar': 3310, 'nominee': 3311, 'animals': 3312, 'pat': 3313, 'armenian': 3314, 'rolling': 3315, 'motorcyclist': 3316, 'walking': 3317, 'reaching': 3318, 'danny': 3319, '700': 3320, 'jammu': 3321, 'athletic': 3322, 'wreck': 3323, 'stepping': 3324, 'shoots': 3325, 'minority': 3326, 'caribbean': 3327, '61': 3328, 'downturn': 3329, 'limit': 3330, 'creative': 3331, 'captured': 3332, 'focused': 3333, 'innovative': 3334, 'commodity': 3335, 'lenders': 3336, 'landed': 3337, 'resignation': 3338, 'reason': 3339, 'extending': 3340, 'lebanese': 3341, 'misdemeanor': 3342, 'petrol': 3343, 'hotels': 3344, 'fewer': 3345, 'temporarily': 3346, 'kolkata': 3347, 'cat': 3348, 'muslims': 3349, 'machine': 3350, 'defending': 3351, 'physical': 3352, '43': 3353, 'picture': 3354, 'dinner': 3355, 'competitive': 3356, 'score': 3357, 'nigerian': 3358, 'bengal': 3359, 'dave': 3360, 'medvedev': 3361, 'thompson': 3362, 'parker': 3363, 'nevada': 3364, 'hawaii': 3365, 'kick': 3366, 'conviction': 3367, 'cook': 3368, 'considers': 3369, 'violating': 3370, 'dublin': 3371, 'firefighter': 3372, 'roof': 3373, 'hair': 3374, 'sunderland': 3375, 'practices': 3376, 'presents': 3377, 'linebacker': 3378, 'blog': 3379, '55': 3380, 'nadal': 3381, 'saved': 3382, 'enhance': 3383, 'legislature': 3384, 'hp': 3385, 'royals': 3386, 'exit': 3387, 'lane': 3388, 'raiders': 3389, 'dodgers': 3390, 'greg': 3391, 'deutsche': 3392, 'witnesses': 3393, 'keen': 3394, 'lok': 3395, 'mar': 3396, 'plus': 3397, 'earned': 3398, 'hiring': 3399, 'dolphins': 3400, 'stress': 3401, 'legislative': 3402, 'politicians': 3403, 'casey': 3404, 'recording': 3405, 'duke': 3406, 'tanker': 3407, 'trucks': 3408, 'customs': 3409, 'latin': 3410, 'executives': 3411, 'liam': 3412, 'coaching': 3413, 'prior': 3414, 'sterling': 3415, 'grew': 3416, 'dick': 3417, 'montreal': 3418, 'code': 3419, 'malik': 3420, 'carl': 3421, 'kapoor': 3422, 'tools': 3423, '72': 3424, 'abroad': 3425, 'buyers': 3426, 'metals': 3427, 'hunt': 3428, 'raw': 3429, 'colombia': 3430, 'bars': 3431, 'guns': 3432, 'link': 3433, 'shell': 3434, 'virtual': 3435, 'sp': 3436, 'managers': 3437, 'dow': 3438, 'marking': 3439, 'icon': 3440, 'checks': 3441, 'outfielder': 3442, 'putin': 3443, 'larry': 3444, 'ottawa': 3445, 'roberts': 3446, 'lender': 3447, 'demanded': 3448, 'magic': 3449, 'conspiracy': 3450, 'established': 3451, 'musharraf': 3452, '250': 3453, 'sustained': 3454, 'kidnapping': 3455, 'retiring': 3456, 'nascar': 3457, 'unveil': 3458, 'guide': 3459, 'lands': 3460, 'beauty': 3461, 'zoo': 3462, 'capitol': 3463, 'restrictions': 3464, 'storms': 3465, 'reserves': 3466, 'knight': 3467, 'delta': 3468, 'gift': 3469, 'rallied': 3470, 'cyprus': 3471, 'rogers': 3472, 'strongly': 3473, 'downgraded': 3474, 'interactive': 3475, 'rome': 3476, 'billionaire': 3477, 'unique': 3478, 'georgian': 3479, 'tensions': 3480, 'municipal': 3481, 'original': 3482, 'celebration': 3483, 'puts': 3484, 'undergoes': 3485, 'bigger': 3486, 'increasingly': 3487, 'withdrawn': 3488, 'dry': 3489, 'kerala': 3490, 'bird': 3491, 'bike': 3492, 'crack': 3493, 'solo': 3494, 'knowledge': 3495, 'affect': 3496, 'prosecutor': 3497, 'attacking': 3498, 'asylum': 3499, 'communication': 3500, 'wholesale': 3501, 'collapse': 3502, 'jesse': 3503, 'shore': 3504, 'thinks': 3505, 'intends': 3506, 'endorsed': 3507, 'resolve': 3508, 'keith': 3509, 'ted': 3510, 'mps': 3511, 'nepal': 3512, 'attorneys': 3513, 'reid': 3514, 'encounter': 3515, 'tool': 3516, 'pak': 3517, 'fails': 3518, 'cubs': 3519, 'hughes': 3520, 'lightning': 3521, 'accuses': 3522, 'wealth': 3523, 'jeremy': 3524, 'guidance': 3525, 'writes': 3526, 'drought': 3527, 'hunger': 3528, 'lakers': 3529, 'fla': 3530, 'kanye': 3531, 'ashley': 3532, 'graham': 3533, 'routes': 3534, 'maine': 3535, 'prescription': 3536, 'motion': 3537, 'nebraska': 3538, 'entry': 3539, 'springfield': 3540, 'hedge': 3541, 'mtv': 3542, 'depression': 3543, 'pulls': 3544, 'currencies': 3545, 'tribal': 3546, 'chennai': 3547, 'category': 3548, 'walker': 3549, 'adviser': 3550, 'berlin': 3551, 'qantas': 3552, 'indianapolis': 3553, 'measure': 3554, 'kerry': 3555, 'motorola': 3556, 'waivers': 3557, 'drone': 3558, 'master': 3559, 'effects': 3560, 'jobless': 3561, 'espn': 3562, 'watson': 3563, 'tries': 3564, 'workforce': 3565, 'burned': 3566, 'publisher': 3567, 'heavyweight': 3568, 'era': 3569, 'inter': 3570, 'sue': 3571, 'lama': 3572, 'agreements': 3573, 'pledged': 3574, 'sciences': 3575, 'individual': 3576, 'freed': 3577, 'nc': 3578, 'retires': 3579, 'sues': 3580, 'moon': 3581, 'sacramento': 3582, 'rollover': 3583, 'entering': 3584, 'size': 3585, 'triple': 3586, 'wheat': 3587, 'bat': 3588, 'guards': 3589, 'chile': 3590, 'operators': 3591, 'prove': 3592, 'hear': 3593, 'thrown': 3594, 'cnn': 3595, 'brandon': 3596, 'japans': 3597, 'responsibility': 3598, 'analysis': 3599, 'wear': 3600, 'commonwealth': 3601, 'wine': 3602, 'accidentally': 3603, 'shipping': 3604, 'quits': 3605, 'closure': 3606, 'backs': 3607, 'publicly': 3608, 'developers': 3609, 'limits': 3610, 'starring': 3611, '44': 3612, 'prepared': 3613, 'goalkeeper': 3614, 'baghdad': 3615, 'holmes': 3616, 'injuring': 3617, 'aaron': 3618, 'afp': 3619, 'resumed': 3620, 'fields': 3621, 'toddler': 3622, 'poised': 3623, 'fly': 3624, 'pole': 3625, 'browns': 3626, 'tablet': 3627, 'prepares': 3628, 'structure': 3629, 'respect': 3630, 'pharmaceutical': 3631, 'northwestern': 3632, 'poverty': 3633, 'quite': 3634, 'skills': 3635, 'montana': 3636, 'drink': 3637, 'required': 3638, 'changing': 3639, 'coaches': 3640, 'fiji': 3641, 'welfare': 3642, 'liberty': 3643, 'mets': 3644, 'mothers': 3645, 'iii': 3646, 'spokeswoman': 3647, 'teens': 3648, 'twin': 3649, 'prospect': 3650, 'hampshire': 3651, 'settled': 3652, 'releasing': 3653, 'temple': 3654, 'reveal': 3655, 'raza': 3656, 'gilani': 3657, 'milestone': 3658, 'speaking': 3659, 'dalai': 3660, 'label': 3661, 'bomber': 3662, 'delaware': 3663, 'providers': 3664, 'fisher': 3665, 'refuses': 3666, 'directed': 3667, 'semifinal': 3668, 'ranked': 3669, 'remarks': 3670, 'promises': 3671, 'passing': 3672, 'affair': 3673, 'twoyear': 3674, 'envoy': 3675, '51': 3676, 'revolution': 3677, 'inducted': 3678, '48': 3679, 'vatican': 3680, 'potentially': 3681, 'article': 3682, 'trouble': 3683, 'promoted': 3684, 'anyone': 3685, 'tyler': 3686, 'forecasts': 3687, 'interested': 3688, 'firing': 3689, 'memory': 3690, 'obamas': 3691, 'lance': 3692, 'studies': 3693, 'pti': 3694, 'kenny': 3695, 'finding': 3696, 'vikings': 3697, 'visitors': 3698, 'reduction': 3699, 'saints': 3700, 'aston': 3701, 'path': 3702, 'universal': 3703, 'crashing': 3704, 'lakh': 3705, 'standoff': 3706, 'fed': 3707, 'involvement': 3708, 'interests': 3709, '52': 3710, 'dramatic': 3711, 'marshall': 3712, 'ross': 3713, 'flash': 3714, 'faster': 3715, 'adams': 3716, 'studios': 3717, 'actors': 3718, 'pub': 3719, 'pushing': 3720, 'colombian': 3721, 'mukherjee': 3722, 'weapon': 3723, 'lord': 3724, 'gap': 3725, 'character': 3726, 'significantly': 3727, 'everyone': 3728, 'ahmadinejad': 3729, '3000': 3730, 'palace': 3731, 'shane': 3732, 'sectors': 3733, 'karnataka': 3734, 'underwent': 3735, 'prostitution': 3736, 'bachchan': 3737, 'rejects': 3738, 'weakened': 3739, 'mills': 3740, 'innovation': 3741, 'qualifying': 3742, 'sarkozy': 3743, 'walked': 3744, 'pete': 3745, 'someone': 3746, 'controversy': 3747, 'bc': 3748, 'computers': 3749, 'fa': 3750, 'angry': 3751, 'romania': 3752, 'served': 3753, '50000': 3754, 'upgrade': 3755, 'quoted': 3756, 'sleep': 3757, 'dui': 3758, 'humanitarian': 3759, 'grove': 3760, 'tsunami': 3761, 'favourite': 3762, 'sessions': 3763, 'illegally': 3764, 'determined': 3765, 'boosted': 3766, 'salary': 3767, 'ian': 3768, 'alongside': 3769, 'jonathan': 3770, 'neck': 3771, 'actions': 3772, 'included': 3773, 'brett': 3774, 'lucky': 3775, 'crucial': 3776, 'presidency': 3777, 'holidays': 3778, '800': 3779, 'berlusconi': 3780, 'unlikely': 3781, 'theater': 3782, 'pet': 3783, 'militant': 3784, 'sustainable': 3785, 'allstar': 3786, 'imposed': 3787, 'blaze': 3788, 'enterprises': 3789, 'reducing': 3790, 'beef': 3791, 'terminal': 3792, 'rahul': 3793, 'momentum': 3794, 'declines': 3795, 'kuwait': 3796, 'opera': 3797, 'wrote': 3798, 'affordable': 3799, 'proposes': 3800, 'scale': 3801, 'tracking': 3802, 'mind': 3803, 'tracks': 3804, 'ability': 3805, 'watching': 3806, 'familiar': 3807, 'renewable': 3808, 'restaurants': 3809, 'upset': 3810, 'urging': 3811, 'christina': 3812, '46': 3813, 'vladimir': 3814, 'edged': 3815, 'zero': 3816, '82': 3817, 'photographer': 3818, 'critically': 3819, 'departments': 3820, 'stands': 3821, 'hunting': 3822, 'rebound': 3823, 'adopt': 3824, 'indies': 3825, 'corner': 3826, 'julian': 3827, 'mahmoud': 3828, 'finals': 3829, 'appointment': 3830, 'praised': 3831, 'slash': 3832, 'douglas': 3833, 'dell': 3834, 'broncos': 3835, 'insisted': 3836, 'variety': 3837, 'susan': 3838, 'theyre': 3839, 'trapped': 3840, 'gm': 3841, 'links': 3842, 'count': 3843, 'eddie': 3844, 'peak': 3845, 'commits': 3846, '900': 3847, 'vaccine': 3848, 'streaming': 3849, 'locations': 3850, 'donated': 3851, 'raping': 3852, 'milk': 3853, 'proposals': 3854, 'corps': 3855, 'fun': 3856, 'crackdown': 3857, 'perth': 3858, 'allows': 3859, 'brisbane': 3860, 'possibility': 3861, 'kidney': 3862, 'prospects': 3863, 'zuma': 3864, 'parish': 3865, 'tommy': 3866, 'songs': 3867, 'monitoring': 3868, 'acres': 3869, 'tank': 3870, 'buried': 3871, 'gunmen': 3872, 'unknown': 3873, 'pizza': 3874, 'resumes': 3875, 'string': 3876, 'beer': 3877, 'outbreak': 3878, 'rockets': 3879, 'communist': 3880, 'pleased': 3881, 'standing': 3882, 'bangalore': 3883, 'everton': 3884, 'haryana': 3885, '11th': 3886, 'semifinals': 3887, 'citizen': 3888, 'twenty20': 3889, 'senators': 3890, 'words': 3891, 'slip': 3892, 'trailer': 3893, 'poland': 3894, 'idaho': 3895, 'winners': 3896, 'youre': 3897, 'either': 3898, 'jacksonville': 3899, 'blame': 3900, 'harper': 3901, 'regulations': 3902, 'ore': 3903, 'task': 3904, 'motorists': 3905, 'forcing': 3906, 'select': 3907, 'rochester': 3908, 'monitor': 3909, 'mario': 3910, 'evans': 3911, 'gene': 3912, 'airbus': 3913, 'hip': 3914, 'pakistans': 3915, 'cairo': 3916, 'kent': 3917, 'pending': 3918, 'advice': 3919, 'earn': 3920, 'transaction': 3921, 'surge': 3922, 'photos': 3923, 'kris': 3924, 'burns': 3925, 'volume': 3926, 'sep': 3927, 'marked': 3928, 'rooney': 3929, 'pilgrims': 3930, 'chest': 3931, 'agricultural': 3932, 'papers': 3933, 'equities': 3934, 'winger': 3935, 'slipped': 3936, 'remote': 3937, 'shed': 3938, 'favorite': 3939, 'celtic': 3940, 'premium': 3941, 'temperatures': 3942, 'saving': 3943, 'minimum': 3944, 'attempts': 3945, 'approve': 3946, 'jefferson': 3947, 'sandy': 3948, 'refugees': 3949, 'accepting': 3950, 'telling': 3951, 'towns': 3952, 'ski': 3953, 'bans': 3954, 'disappointing': 3955, 'mccartney': 3956, 'costa': 3957, 'ward': 3958, 'eagle': 3959, 'opinion': 3960, 'stops': 3961, 'editor': 3962, 'abortion': 3963, 'pickup': 3964, 'tributes': 3965, 'addition': 3966, 'imf': 3967, 'shareholder': 3968, 'pit': 3969, 'uranium': 3970, 'keeps': 3971, 'revised': 3972, 'stepped': 3973, 'assange': 3974, 'loves': 3975, 'hunter': 3976, 'write': 3977, 'memphis': 3978, 'throws': 3979, 'attempting': 3980, 'hub': 3981, 'feared': 3982, 'dealing': 3983, 'models': 3984, 'adelaide': 3985, 'clarke': 3986, 'rachel': 3987, 'cancel': 3988, 'ravens': 3989, 'roman': 3990, 'discharged': 3991, 'foreclosure': 3992, 'throwing': 3993, 'pregnancy': 3994, 'stream': 3995, 'auburn': 3996, 'modi': 3997, 'telecommunications': 3998, 'carey': 3999, 'guest': 4000, 'concussion': 4001, 'aggravated': 4002, 'saint': 4003, 'grade': 4004, 'fighters': 4005, 'oneyear': 4006, 'vision': 4007, 'julia': 4008, 'munich': 4009, 'thieves': 4010, 'fares': 4011, 'clothing': 4012, 'audience': 4013, 'middleton': 4014, '38': 4015, 'clinical': 4016, 'flames': 4017, 'citigroup': 4018, 'chancellor': 4019, 'selection': 4020, 'priority': 4021, 'jerusalem': 4022, 'farmer': 4023, 'sharks': 4024, 'witness': 4025, 'privacy': 4026, 'brief': 4027, 'neutral': 4028, 'conservation': 4029, 'worse': 4030, 'cameras': 4031, 'kosovo': 4032, 'musician': 4033, 'heights': 4034, 'demanding': 4035, 'discrimination': 4036, 'ken': 4037, 'nobel': 4038, 'recycling': 4039, 'ranks': 4040, 'sponsor': 4041, 'featured': 4042, 'nightclub': 4043, 'mubarak': 4044, 'resource': 4045, 'kyle': 4046, 'hate': 4047, 'chidambaram': 4048, 'economies': 4049, 'nhs': 4050, 'argument': 4051, 'discussed': 4052, 'cruelty': 4053, 'messages': 4054, 'sovereign': 4055, 'v': 4056, 'randy': 4057, 'membership': 4058, 'replaced': 4059, 'concerned': 4060, 'filmmaker': 4061, 'supported': 4062, 'sisters': 4063, 'manage': 4064, 'catches': 4065, 'venezuelan': 4066, 'spirit': 4067, '50th': 4068, '95': 4069, 'ronaldo': 4070, 'reds': 4071, 'greatest': 4072, 'nursing': 4073, 'subject': 4074, 'queens': 4075, 'phillies': 4076, 'surplus': 4077, 'wright': 4078, 'spokesperson': 4079, 'fiveyear': 4080, 'wimbledon': 4081, 'tops': 4082, 'improves': 4083, 'innings': 4084, 'workshop': 4085, 'blues': 4086, 'landmark': 4087, 'irans': 4088, 'hanging': 4089, 'governors': 4090, 'planes': 4091, 'defenseman': 4092, 'underway': 4093, 'respond': 4094, 'jacob': 4095, 'volleyball': 4096, 'followed': 4097, 'quick': 4098, 'aim': 4099, 'picks': 4100, 'promoting': 4101, 'lily': 4102, 'wage': 4103, 'ones': 4104, 'viewers': 4105, '53': 4106, 'artists': 4107, 'skipper': 4108, 'cambridge': 4109, 'possibly': 4110, 'websites': 4111, 'bryant': 4112, 'amanda': 4113, 'wish': 4114, 'command': 4115, 'athletics': 4116, 'baseman': 4117, 'lung': 4118, 'leeds': 4119, 'floods': 4120, 'mom': 4121, 'colleges': 4122, 'abdullah': 4123, 'celebrations': 4124, 'mill': 4125, 'shelter': 4126, 'trials': 4127, 'porn': 4128, 'faith': 4129, 'cliff': 4130, 'staterun': 4131, 'commissioners': 4132, 'honorary': 4133, 'tuesdays': 4134, 'uses': 4135, 'dropping': 4136, 'emissions': 4137, 'drove': 4138, 'answer': 4139, 'immigrants': 4140, 'bombing': 4141, 'shift': 4142, 'apologized': 4143, 'lying': 4144, 'athens': 4145, 'eased': 4146, 'montgomery': 4147, 'pharmaceuticals': 4148, 'requirements': 4149, 'judiciary': 4150, 'apply': 4151, 'ericsson': 4152, 'juan': 4153, 'playstation': 4154, 'versus': 4155, 'yemeni': 4156, 'cyclist': 4157, 'apologizes': 4158, 'external': 4159, 'r': 4160, 'smartphones': 4161, 'rolled': 4162, 'maharashtra': 4163, 'treat': 4164, 'crystal': 4165, 'confirm': 4166, 'complaints': 4167, 'eat': 4168, 'riding': 4169, 'integration': 4170, 'consulting': 4171, 'arnold': 4172, 'commodities': 4173, 'austerity': 4174, 'shock': 4175, 'airports': 4176, 'universities': 4177, 'fernando': 4178, 'burn': 4179, 'implement': 4180, 'text': 4181, '77': 4182, 'performs': 4183, 'lion': 4184, 'muhammad': 4185, 'attract': 4186, 'spencer': 4187, 'vessel': 4188, 'efficiency': 4189, 'bmw': 4190, 'sacked': 4191, 'catch': 4192, 'chip': 4193, 'producing': 4194, 'donald': 4195, 'stranded': 4196, 'easing': 4197, 'violation': 4198, 'tendulkar': 4199, 'user': 4200, 'federer': 4201, 'bloomberg': 4202, 'overhaul': 4203, '67': 4204, 'peaceful': 4205, 'eighth': 4206, 'petition': 4207, 'forms': 4208, 'uncertainty': 4209, 'russias': 4210, 'assignment': 4211, 'bag': 4212, 'foster': 4213, 'roberto': 4214, 'syed': 4215, 'ace': 4216, 'danger': 4217, 'mines': 4218, 'centres': 4219, 'accusing': 4220, 'sonia': 4221, 'robbie': 4222, 'prevention': 4223, 'trades': 4224, 'nj': 4225, 'drowns': 4226, 'newest': 4227, 'mason': 4228, 'voluntary': 4229, 'easter': 4230, 'seats': 4231, 'chosen': 4232, 'solid': 4233, 'sporting': 4234, 'attending': 4235, 'superior': 4236, 'wwe': 4237, 'somalia': 4238, 'bihar': 4239, 'cbi': 4240, 'critics': 4241, 'misses': 4242, 'accidents': 4243, 'wellington': 4244, 'liquor': 4245, 'type': 4246, 'vital': 4247, 'dj': 4248, 'braves': 4249, 'acts': 4250, 'sachin': 4251, 'channels': 4252, 'murphy': 4253, '49': 4254, 'obesity': 4255, 'broad': 4256, '2015': 4257, 'polish': 4258, 'dean': 4259, 'gaddafi': 4260, 'abusing': 4261, 'heidi': 4262, 'wing': 4263, 'counterpart': 4264, 'sharif': 4265, 'phillips': 4266, 'bishop': 4267, 'abdul': 4268, 'species': 4269, 'spectrum': 4270, 'steelers': 4271, 'affiliate': 4272, 'africas': 4273, 'predicted': 4274, 'chef': 4275, 'assist': 4276, 'prostate': 4277, 'manufacturers': 4278, 'supermarket': 4279, 'ships': 4280, 'rajasthan': 4281, 'salt': 4282, 'hailed': 4283, 'blasts': 4284, 'concluded': 4285, 'contractor': 4286, 'ownership': 4287, '54': 4288, 'cinema': 4289, 'trains': 4290, 'hopeful': 4291, 'licence': 4292, 'brooklyn': 4293, '56': 4294, 'robinson': 4295, 'emma': 4296, 'identify': 4297, 'unidentified': 4298, '20th': 4299, 'thanksgiving': 4300, 'xinhua': 4301, 'redskins': 4302, 'skin': 4303, 'regulator': 4304, 'dennis': 4305, 'baldwin': 4306, 'nadu': 4307, 'naked': 4308, 'pga': 4309, 'exposure': 4310, 'dairy': 4311, 'refinance': 4312, 'verdict': 4313, 'damages': 4314, 'shops': 4315, 'martinez': 4316, 'suspend': 4317, 'jesus': 4318, 'unity': 4319, 'recognition': 4320, 'determine': 4321, 'anticipated': 4322, 'rumors': 4323, 'anc': 4324, 'finger': 4325, 'abandoned': 4326, 'widespread': 4327, 'rebel': 4328, 'completely': 4329, 'slammed': 4330, '57': 4331, 'torch': 4332, '71': 4333, 'refusing': 4334, 'commit': 4335, 'discussion': 4336, 'karzai': 4337, 'outdoor': 4338, 'seed': 4339, 'eating': 4340, 'gross': 4341, 'suzuki': 4342, 'xbox': 4343, 'seahawks': 4344, 'timberlake': 4345, 'fundraiser': 4346, 'bottom': 4347, 'rb': 4348, 'pride': 4349, 'todd': 4350, '68': 4351, 'exploded': 4352, 'basic': 4353, 'maritime': 4354, 'lil': 4355, 'frozen': 4356, 'fridays': 4357, 'mean': 4358, 'schwarzenegger': 4359, 'ambulance': 4360, 'creation': 4361, 'attended': 4362, 'computing': 4363, 'serial': 4364, 'guitarist': 4365, 'midnight': 4366, 'honour': 4367, 'oracle': 4368, 'rodriguez': 4369, 'particularly': 4370, 'anne': 4371, 'osbourne': 4372, 'warn': 4373, 'plunged': 4374, 'crushed': 4375, 'sing': 4376, 'cotton': 4377, 'uttar': 4378, 'advised': 4379, 'easily': 4380, 'rider': 4381, 'amendment': 4382, 'seeing': 4383, 'driven': 4384, 'spoke': 4385, 'surrounding': 4386, 'slashed': 4387, '125': 4388, 'throw': 4389, 'mitchell': 4390, 'vodafone': 4391, 'steal': 4392, 'karachi': 4393, 'doubled': 4394, 'unable': 4395, 'bernard': 4396, '83': 4397, 'playoffs': 4398, 'afl': 4399, 'moss': 4400, 'boycott': 4401, 'deposit': 4402, 'professionals': 4403, 'miners': 4404, 'jays': 4405, 'lawmaker': 4406, 'slide': 4407, 'billions': 4408, '120': 4409, 'robber': 4410, 'stakes': 4411, 'refinery': 4412, 'dmitry': 4413, 'suggesting': 4414, 'secondary': 4415, 'bone': 4416, 'dad': 4417, 'canadas': 4418, 'belgium': 4419, 'robberies': 4420, 'angels': 4421, 'branches': 4422, 'switch': 4423, 'wire': 4424, 'ann': 4425, 'lynch': 4426, 'holy': 4427, 'mugabe': 4428, 'heroin': 4429, 'barnes': 4430, 'remember': 4431, 'hiv': 4432, 'lt': 4433, 'swept': 4434, 'publishing': 4435, 'slump': 4436, 'makers': 4437, 'pranab': 4438, 'print': 4439, 'initiatives': 4440, 'transplant': 4441, 'ashton': 4442, 'telephone': 4443, 'completion': 4444, 'engineers': 4445, 'recognized': 4446, 'constitutional': 4447, 'advances': 4448, 'costar': 4449, 'pentagon': 4450, 'princess': 4451, 'apart': 4452, 'emotional': 4453, 'clothes': 4454, '47': 4455, 'warming': 4456, 'scrap': 4457, 'womans': 4458, 'doubles': 4459, 'defeats': 4460, 'disclosed': 4461, 'documentary': 4462, 'arctic': 4463, 'gunman': 4464, 'tape': 4465, 'gathered': 4466, 'expenses': 4467, 'gibson': 4468, 'hole': 4469, 'cisco': 4470, 'census': 4471, 'portsmouth': 4472, 'chamber': 4473, 'pricing': 4474, '12th': 4475, 'grain': 4476, 'minneapolis': 4477, 'inning': 4478, 'decisions': 4479, 'grammy': 4480, 'childhood': 4481, 'consumption': 4482, 'slowing': 4483, 'juventus': 4484, 'writing': 4485, 'posting': 4486, 'canadians': 4487, 'lovato': 4488, 'newton': 4489, 'bags': 4490, 'donates': 4491, 'feed': 4492, 'swim': 4493, 'heath': 4494, 'pink': 4495, '86': 4496, 'broadcaster': 4497, 'castro': 4498, 'evasion': 4499, 'aggressive': 4500, 'wenger': 4501, 'dame': 4502, 'marcus': 4503, 'operate': 4504, 'hu': 4505, 'sheikh': 4506, 'babies': 4507, 'machines': 4508, 'hyderabad': 4509, 'overcome': 4510, 'marc': 4511, 'piece': 4512, 'celtics': 4513, 'survive': 4514, 'youths': 4515, 'importance': 4516, 'praises': 4517, 'dozen': 4518, 'suffer': 4519, 'bands': 4520, 'johannesburg': 4521, 'drawing': 4522, 'lifetime': 4523, 'apology': 4524, 'pupils': 4525, 'sick': 4526, 'glass': 4527, 'investigated': 4528, 'occupy': 4529, 'uefa': 4530, 'warm': 4531, 'disputed': 4532, 'postal': 4533, 'gasoline': 4534, 'survived': 4535, 'brewers': 4536, 'suburban': 4537, 'rapids': 4538, 'newspapers': 4539, 'necessary': 4540, 'flagship': 4541, 'unless': 4542, '39': 4543, 'parole': 4544, 'awardwinning': 4545, 'sweep': 4546, 'empire': 4547, 'audio': 4548, '66': 4549, 'default': 4550, 'escapes': 4551, 'elton': 4552, 'academic': 4553, 'condemns': 4554, 'rolls': 4555, 'mars': 4556, 'threeday': 4557, 'hsbc': 4558, 'branded': 4559, 'installed': 4560, 'watchdog': 4561, 'unrest': 4562, 'max': 4563, 'luke': 4564, 'chart': 4565, 'garage': 4566, 'volunteer': 4567, 'achieved': 4568, 'qaeda': 4569, 'edmonton': 4570, 'meat': 4571, 'staying': 4572, 'broadcasting': 4573, 'individuals': 4574, 'seminar': 4575, 'glee': 4576, 'robbing': 4577, 'nearby': 4578, 'netanyahu': 4579, 'homeowners': 4580, 'abbas': 4581, 'observed': 4582, 'pacquiao': 4583, 'smaller': 4584, 'values': 4585, 'striking': 4586, 'whitney': 4587, '74': 4588, 'replacing': 4589, 'shared': 4590, 'offences': 4591, 'lows': 4592, 'topped': 4593, 'surveillance': 4594, 'roadside': 4595, 'ham': 4596, 'purchases': 4597, 'moderate': 4598, 'absence': 4599, 'watched': 4600, 'administrative': 4601, '20000': 4602, 'crop': 4603, 'nominations': 4604, 'freight': 4605, 'merkel': 4606, 'lights': 4607, 'briefly': 4608, 'scare': 4609, 'donations': 4610, 'stem': 4611, 'bayern': 4612, 'racist': 4613, 'crowned': 4614, 'teenagers': 4615, 'mild': 4616, 'collapses': 4617, 'spurs': 4618, 'freddie': 4619, 'yes': 4620, 'oneday': 4621, 'comment': 4622, 'contain': 4623, 'mentally': 4624, 'elephant': 4625, 'eyes': 4626, 'romanian': 4627, 'marion': 4628, '101': 4629, 'wednesdays': 4630, 'dumped': 4631, 'warehouse': 4632, 'tens': 4633, 'diplomat': 4634, 'peru': 4635, 'teaching': 4636, 'decrease': 4637, 'manhattan': 4638, 'argentine': 4639, 'laden': 4640, 'indicated': 4641, 'alberta': 4642, '500000': 4643, 'gomez': 4644, 'aboard': 4645, 'coastal': 4646, 'combined': 4647, 'statewide': 4648, 'reopens': 4649, 'races': 4650, 'prisoner': 4651, 'specialty': 4652, 'elbow': 4653, 'jonas': 4654, 'potter': 4655, 'nintendo': 4656, 'rod': 4657, 'eliminate': 4658, 'titles': 4659, 'permission': 4660, 'looked': 4661, 'maximum': 4662, '20yearold': 4663, 'rental': 4664, 'differences': 4665, 'novel': 4666, 'guarantee': 4667, 'slowed': 4668, 'vacant': 4669, 'electrical': 4670, 'detention': 4671, 'mohammed': 4672, 'wichita': 4673, 'rapid': 4674, 'enjoy': 4675, 'offset': 4676, 'ninth': 4677, 'blocked': 4678, '1500': 4679, 'hasnt': 4680, 'twoday': 4681, 'household': 4682, 'aide': 4683, 'mahindra': 4684, 'oldest': 4685, 'insider': 4686, 'bolton': 4687, 'permits': 4688, 'inaugurated': 4689, 'cool': 4690, 'slams': 4691, 'cope': 4692, 'evacuation': 4693, 'optimism': 4694, 'delivers': 4695, 'chicken': 4696, 'aberdeen': 4697, 'seoul': 4698, 'sharing': 4699, 'grocery': 4700, 'transition': 4701, 'inaugural': 4702, 'levy': 4703, 'threeyear': 4704, 'chances': 4705, 'omaha': 4706, 'unanimously': 4707, 'pioneer': 4708, 'soul': 4709, 'bed': 4710, 'fugitive': 4711, 'signal': 4712, 'h1n1': 4713, 'declining': 4714, 'convenience': 4715, 'screening': 4716, 'sanchez': 4717, 'destination': 4718, 'damascus': 4719, 'rocker': 4720, 'letters': 4721, 'operational': 4722, 'louisville': 4723, 'wages': 4724, 'rivers': 4725, 'capture': 4726, 'sense': 4727, 'ads': 4728, 'amnesty': 4729, 'diseases': 4730, 'estranged': 4731, 'serena': 4732, '73': 4733, 'arbitration': 4734, 'packers': 4735, 'fundraising': 4736, 'ridge': 4737, 'titans': 4738, 'missiles': 4739, 'odds': 4740, 'graduate': 4741, 'blocks': 4742, 'mel': 4743, 'ubs': 4744, 'client': 4745, 'doping': 4746, 'islam': 4747, 'roles': 4748, 'buses': 4749, 'weekends': 4750, 'hybrid': 4751, 'ultimate': 4752, 'scenes': 4753, 'brussels': 4754, 'occupied': 4755, 'acquitted': 4756, 'borrowing': 4757, 'jake': 4758, 'climbed': 4759, 'fled': 4760, 'inspired': 4761, 'advisor': 4762, 'referendum': 4763, 'francis': 4764, 'wasnt': 4765, 'harassment': 4766, 'leon': 4767, 'scoring': 4768, 'datuk': 4769, 'refugee': 4770, 'hearts': 4771, 'beautiful': 4772, 'glasgow': 4773, 'portugal': 4774, 'baku': 4775, 'punishment': 4776, 'carriers': 4777, 'norwegian': 4778, 'medals': 4779, 'tribune': 4780, '69': 4781, 'yields': 4782, 'pastor': 4783, 'couples': 4784, 'kabul': 4785, 'educational': 4786, 'tag': 4787, 'charging': 4788, 'manny': 4789, 'nissan': 4790, 'nature': 4791, '84': 4792, 'twilight': 4793, 'ist': 4794, 'simple': 4795, 'investing': 4796, 'aside': 4797, 'sioux': 4798, 'yard': 4799, 'plot': 4800, 'tours': 4801, 'collided': 4802, 'oak': 4803, 'serbian': 4804, 'xvi': 4805, 'treaty': 4806, 'finland': 4807, 'sitting': 4808, 'upgrades': 4809, 'responded': 4810, 'quarterfinals': 4811, 'blind': 4812, 'inmates': 4813, 'neighbors': 4814, 'orioles': 4815, 'formal': 4816, 'fix': 4817, 'nurse': 4818, 'oath': 4819, 'albert': 4820, 'wings': 4821, 'younger': 4822, 'birds': 4823, '200000': 4824, 'skip': 4825, 'extreme': 4826, 'hungary': 4827, 'richmond': 4828, '21yearold': 4829, 'surged': 4830, 'shoes': 4831, 'cardiac': 4832, 'download': 4833, 'pervez': 4834, 'midwest': 4835, 'opponents': 4836, 'duties': 4837, 'gambling': 4838, 'desperate': 4839, 'locked': 4840, 'hometown': 4841, 'hostage': 4842, '2005': 4843, 'agenda': 4844, 'calgary': 4845, 'responding': 4846, 'hamid': 4847, 'designated': 4848, 'fireworks': 4849, '360': 4850, 'coleman': 4851, 'guru': 4852, 'denmark': 4853, 'harrison': 4854, 'enable': 4855, 'silvio': 4856, 'ferrari': 4857, 'infant': 4858, 'brady': 4859, 'siemens': 4860, 'blackburn': 4861, 'behaviour': 4862, 'nancy': 4863, 'grave': 4864, 'bronze': 4865, 'quoting': 4866, 'brush': 4867, 'outfit': 4868, 'norway': 4869, 'wildfire': 4870, 'wolves': 4871, 'withdrew': 4872, 'survival': 4873, 'jewelry': 4874, 'monroe': 4875, '78': 4876, 'insurer': 4877, 'councils': 4878, 'recommended': 4879, 'discount': 4880, 'lease': 4881, 'representing': 4882, 'inquest': 4883, 'dress': 4884, 'beverly': 4885, 'drill': 4886, 'semiconductor': 4887, 'cofounder': 4888, 'covering': 4889, 'qualify': 4890, 'stones': 4891, 'bernanke': 4892, 'amber': 4893, 'northeastern': 4894, 'lottery': 4895, 'frontman': 4896, 'newport': 4897, 'challenging': 4898, 'directly': 4899, 'kitchen': 4900, 'challenged': 4901, 'iconic': 4902, 'tablets': 4903, 'mounting': 4904, 'id': 4905, 'replacement': 4906, 'bolt': 4907, 'views': 4908, 'crunch': 4909, 'blake': 4910, 'abducted': 4911, 'blair': 4912, 'titled': 4913, 'selena': 4914, 'reviews': 4915, 'electoral': 4916, 'seniors': 4917, 'larger': 4918, 'abbott': 4919, 'oscars': 4920, 'audit': 4921, 'strengthened': 4922, 'prompting': 4923, 'eva': 4924, 'santorum': 4925, 'selects': 4926, 'weakness': 4927, 'mystery': 4928, 'apa': 4929, 'bound': 4930, 'modest': 4931, 'unprecedented': 4932, 'buffett': 4933, 'colin': 4934, 'readers': 4935, 'compliance': 4936, 'enhanced': 4937, 'joel': 4938, 'darren': 4939, 'severely': 4940, 'tibetan': 4941, 'morris': 4942, 'cycling': 4943, 'largely': 4944, 'ballot': 4945, 'lexington': 4946, 'continental': 4947, 'rumours': 4948, 'righthander': 4949, 'triplea': 4950, 'impressive': 4951, 'smuggling': 4952, '88': 4953, 'quinn': 4954, 'stripped': 4955, 'emmy': 4956, 'gather': 4957, 'destroys': 4958, 'intervention': 4959, 'christie': 4960, 'promising': 4961, 'endorse': 4962, 'bids': 4963, 'gallagher': 4964, 'fill': 4965, 'apr': 4966, 'extremely': 4967, 'happen': 4968, 'johns': 4969, 'archbishop': 4970, 'murdoch': 4971, 'volatile': 4972, 'rupert': 4973, 'bashar': 4974, 'grid': 4975, 'tmz': 4976, 'migrants': 4977, 'engineer': 4978, 'stuck': 4979, 'multiyear': 4980, 'bounce': 4981, 'minute': 4982, 'ethics': 4983, 'chronic': 4984, 'opec': 4985, 'jumps': 4986, 'daughters': 4987, 'horror': 4988, 'newman': 4989, 'diplomats': 4990, 'updates': 4991, 'owen': 4992, 'hardware': 4993, 'pledge': 4994, 'ms': 4995, 'jpmorgan': 4996, 'declaration': 4997, 'priest': 4998, 'civilian': 4999, 'soft': 5000, 'appoint': 5001, 'berry': 5002, 'southeastern': 5003, 'questioned': 5004, 'pump': 5005, 'belgian': 5006, 'accepts': 5007, 'shootout': 5008, 'originally': 5009, 'farms': 5010, 'sandra': 5011, 'tentative': 5012, '30000': 5013, 'pleading': 5014, 'thomson': 5015, 'lifts': 5016, '2004': 5017, 'swap': 5018, 'ferry': 5019, '89': 5020, 'closely': 5021, 'citizenship': 5022, 'bankers': 5023, 'athlete': 5024, 'wigan': 5025, 'downgrades': 5026, 'bath': 5027, 'partys': 5028, 'leaked': 5029, 'boxer': 5030, 'prosecution': 5031, 'explosive': 5032, 'yuan': 5033, 'suv': 5034, 'teammate': 5035, 'diet': 5036, 'shape': 5037, 'philip': 5038, 'icc': 5039, 'ecommerce': 5040, 'borders': 5041, 'chemicals': 5042, 'rebounds': 5043, 'exposed': 5044, 'shark': 5045, 'backing': 5046, 'ashes': 5047, 'ceasefire': 5048, 'knot': 5049, 'tobacco': 5050, 'mt': 5051, 'amitabh': 5052, 'uks': 5053, 'pa': 5054, 'rocky': 5055, 'outlets': 5056, 'sindh': 5057, 'capable': 5058, 'ecuador': 5059, 'floyd': 5060, 'gaining': 5061, 'wrestling': 5062, 'albany': 5063, 'penguins': 5064, 'deposits': 5065, 'clooney': 5066, 'governance': 5067, 'christopher': 5068, 'stages': 5069, 'christians': 5070, 'presidentelect': 5071, 'lets': 5072, 'theme': 5073, 'controlled': 5074, 'remembered': 5075, 'tragedy': 5076, 'cheating': 5077, 'lifestyle': 5078, 'suu': 5079, 'curb': 5080, 'shoppers': 5081, 'boyle': 5082, 'deer': 5083, 'luis': 5084, 'lakes': 5085, 'pretty': 5086, 'automaker': 5087, 'capabilities': 5088, 'boats': 5089, 'obtained': 5090, 'reverse': 5091, 'ebay': 5092, '19yearold': 5093, 'wounds': 5094, 'bang': 5095, 'thousand': 5096, 'racial': 5097, 'packaging': 5098, 'camps': 5099, 'magnitude': 5100, 'freeze': 5101, 'calm': 5102, 'numerous': 5103, 'applied': 5104, 'mile': 5105, 'furniture': 5106, 'fred': 5107, 'finnish': 5108, 'michele': 5109, 'lunch': 5110, 'overdose': 5111, '81': 5112, 'organised': 5113, '1st': 5114, 'turmoil': 5115, 'insurgents': 5116, 'swing': 5117, 'prestigious': 5118, 'harbor': 5119, 'hang': 5120, 'thursdays': 5121, 'southwestern': 5122, 'jewellery': 5123, 'proceedings': 5124, 'liver': 5125, 'ethnic': 5126, 'beyonce': 5127, 'transferred': 5128, 'andhra': 5129, 'placement': 5130, 'rubber': 5131, 'poker': 5132, 'bryan': 5133, 'maruti': 5134, 'ancient': 5135, 'lesbian': 5136, 'tips': 5137, 'unbeaten': 5138, 'mondays': 5139, 'desert': 5140, 'suisse': 5141, 'warnings': 5142, 'burglaries': 5143, 'dental': 5144, 'mccarthy': 5145, 'breach': 5146, 'broker': 5147, 'couldnt': 5148, 'reward': 5149, 'g': 5150, 'understanding': 5151, 'document': 5152, 'salem': 5153, '130': 5154, 'fat': 5155, 'whos': 5156, 'alqaeda': 5157, 'employer': 5158, '4000': 5159, 'reconciliation': 5160, 'peninsula': 5161, 'widely': 5162, 'leagues': 5163, 'silence': 5164, 'cruz': 5165, 'mega': 5166, 'definitely': 5167, 'intention': 5168, 'expelled': 5169, 'aids': 5170, 'choose': 5171, 'le': 5172, 'reiterated': 5173, 'strain': 5174, 'achieve': 5175, 'staged': 5176, 'lahore': 5177, 'intent': 5178, 'defeating': 5179, 'expo': 5180, 'chair': 5181, 'suite': 5182, 'bowling': 5183, 'lp': 5184, 'favre': 5185, 'gen': 5186, 'tibet': 5187, 'chad': 5188, 'submitted': 5189, 'charleston': 5190, '100th': 5191, '22yearold': 5192, 'kyi': 5193, 'mad': 5194, 'honors': 5195, 'substance': 5196, 'eliminated': 5197, 'neighbours': 5198, 'pulling': 5199, 'knew': 5200, '350': 5201, 'medicare': 5202, 'vanessa': 5203, 'indefinite': 5204, 'tonights': 5205, 'organized': 5206, 'implementation': 5207, 'spy': 5208, 'flow': 5209, 'regulation': 5210, 'k': 5211, 'singing': 5212, 'economist': 5213, 'taipei': 5214, 'pneumonia': 5215, 'developments': 5216, 'trooper': 5217, 'pledges': 5218, '25000': 5219, 'raj': 5220, 'sensation': 5221, 'splits': 5222, 'kiss': 5223, 'mariners': 5224, 'norman': 5225, 'nrl': 5226, 'favor': 5227, 'restraining': 5228, 'sentencing': 5229, 'austria': 5230, 'oprah': 5231, 'gate': 5232, 'tesco': 5233, 'platinum': 5234, 'comic': 5235, 'narrowly': 5236, 'breakfast': 5237, 'writers': 5238, 'cyber': 5239, 'appealing': 5240, 'gear': 5241, 'sebastian': 5242, 'admitting': 5243, 'preparation': 5244, 'oman': 5245, 'pact': 5246, 'therapy': 5247, 'hd': 5248, 'jane': 5249, 'politician': 5250, 'apologised': 5251, 'lived': 5252, 'fines': 5253, 'dam': 5254, 'lg': 5255, 'norwich': 5256, 'trends': 5257, 'rudd': 5258, 'domain': 5259, 'horses': 5260, 'grounds': 5261, 'vince': 5262, 'guidelines': 5263, 'bhp': 5264, 'pharmacy': 5265, '91': 5266, 'witherspoon': 5267, '25th': 5268, 'beta': 5269, 'keys': 5270, 'angel': 5271, 'genocide': 5272, 'atomic': 5273, 'vulnerable': 5274, 'cautious': 5275, '13th': 5276, 'easier': 5277, 'rehabilitation': 5278, 'ahmed': 5279, 'nz': 5280, 'unpaid': 5281, 'preferred': 5282, 'bros': 5283, 'ivory': 5284, 'herald': 5285, 'mohamed': 5286, 'bolster': 5287, 'heavily': 5288, 'protesting': 5289, 'mainly': 5290, 'policeman': 5291, 'mayer': 5292, 'pattern': 5293, 'doubleheader': 5294, 'rallies': 5295, 'longest': 5296, 'delivering': 5297, 'underground': 5298, 'promise': 5299, 'renews': 5300, 'cues': 5301, 'butler': 5302, 'substantial': 5303, 'accounting': 5304, 'behalf': 5305, 'declare': 5306, 'controls': 5307, 'understand': 5308, '2020': 5309, 'acquiring': 5310, 'turkmenistan': 5311, 'kicking': 5312, 'christchurch': 5313, 'slam': 5314, 'pollution': 5315, 'michaels': 5316, 'eur': 5317, 'runway': 5318, 'fathers': 5319, 'gillard': 5320, 'retained': 5321, 'socalled': 5322, 'angela': 5323, 'badly': 5324, 'autopsy': 5325, 'discover': 5326, 'riot': 5327, 'licensing': 5328, 'lambert': 5329, 'definitive': 5330, 'allies': 5331, 'clerk': 5332, 'intersection': 5333, 'clearing': 5334, 'des': 5335, 'provinces': 5336, 'entitled': 5337, 'answers': 5338, 'nude': 5339, 'talked': 5340, 'relatives': 5341, 'hazare': 5342, 'loved': 5343, 'norfolk': 5344, 'thriller': 5345, 'quiet': 5346, 'hugh': 5347, 'regrets': 5348, 'complications': 5349, 'difference': 5350, 'climb': 5351, 'creator': 5352, 'valued': 5353, 'belt': 5354, 'danish': 5355, 'trainer': 5356, '7th': 5357, 'mohammad': 5358, 'htc': 5359, 'booked': 5360, 'walter': 5361, 'indefinitely': 5362, 'wheel': 5363, 'paso': 5364, 'sierra': 5365, 'tension': 5366, 'tribunal': 5367, '87': 5368, 'statements': 5369, 'assured': 5370, 'drinks': 5371, 'swat': 5372, 'wars': 5373, 'apps': 5374, 'cemetery': 5375, 'civic': 5376, 'struggles': 5377, 'speedway': 5378, 'nurses': 5379, 'triggered': 5380, '24yearold': 5381, 'narendra': 5382, 'bench': 5383, 'exwife': 5384, 'speeding': 5385, 'privately': 5386, 'mariah': 5387, 'institution': 5388, 'cycle': 5389, 'wickets': 5390, 'composer': 5391, 'wifi': 5392, 'bombs': 5393, 'syracuse': 5394, 'corn': 5395, 'bullet': 5396, 'executed': 5397, 'inspection': 5398, 'chargers': 5399, 'detective': 5400, 'mamata': 5401, 'donation': 5402, '05': 5403, 'hiding': 5404, 'malta': 5405, 'romantic': 5406, 'koreas': 5407, 'fights': 5408, 'zambia': 5409, 'pursue': 5410, 'recruiting': 5411, 'misconduct': 5412, 'molestation': 5413, 'austrian': 5414, 'lab': 5415, 'layoffs': 5416, 'parked': 5417, 'install': 5418, 'secures': 5419, 'yellow': 5420, 'bullock': 5421, 'midday': 5422, 'lisa': 5423, 'romance': 5424, 'bradford': 5425, 'dragged': 5426, 'pose': 5427, 'discussions': 5428, 'depot': 5429, 'welsh': 5430, 'logo': 5431, 'require': 5432, 'resulted': 5433, 'jumping': 5434, 'glenn': 5435, 'nathan': 5436, 'minogue': 5437, 'navigation': 5438, 'threaten': 5439, '2nd': 5440, '58': 5441, 'osama': 5442, 'maple': 5443, '79': 5444, 'personality': 5445, 'richie': 5446, 'expensive': 5447, 'hijacked': 5448, 'eds': 5449, 'acquisitions': 5450, 'relay': 5451, 'knows': 5452, 'giffords': 5453, 'brook': 5454, 'carpet': 5455, 'plate': 5456, 'historical': 5457, 'mistakes': 5458, 'moodys': 5459, '25yearold': 5460, 'ryanair': 5461, 'rays': 5462, 'risen': 5463, 'bosses': 5464, '3g': 5465, 'brooks': 5466, 'cardiff': 5467, 'monsoon': 5468, 'recovers': 5469, 'rbi': 5470, 'framework': 5471, 'hull': 5472, 'cedar': 5473, 'taxpayers': 5474, 'campaigns': 5475, 'suburb': 5476, 'overturned': 5477, 'recruit': 5478, 'circle': 5479, 'maintained': 5480, 'frontier': 5481, 'sc': 5482, 'invitation': 5483, 'genetic': 5484, 'nile': 5485, 'encourage': 5486, 'strategies': 5487, 'aiming': 5488, 'wyoming': 5489, 'councillors': 5490, 'benjamin': 5491, 'burst': 5492, 'subscribers': 5493, 'newark': 5494, 'tunisia': 5495, 'thunder': 5496, 'jamaica': 5497, 'reese': 5498, 'anchor': 5499, 'waived': 5500, 'richardson': 5501, 'dna': 5502, 'disciplinary': 5503, 'pratt': 5504, 'thinking': 5505, 'pensions': 5506, 'hosni': 5507, 'innocent': 5508, '23yearold': 5509, 'harvard': 5510, 'proved': 5511, 'pack': 5512, 'ipl': 5513, 'assessment': 5514, 'demonstration': 5515, 'ally': 5516, 'essential': 5517, 'participation': 5518, 'logistics': 5519, 'connect': 5520, 'ventures': 5521, 'unconscious': 5522, 'suggest': 5523, 'meters': 5524, 'conrad': 5525, 'intensive': 5526, 'retain': 5527, 'janata': 5528, 'cricketer': 5529, 'mortgages': 5530, 'reliever': 5531, 'insisting': 5532, 'fresno': 5533, '110': 5534, 'focusing': 5535, 'spiritual': 5536, 'explore': 5537, 'kutcher': 5538, 'catcher': 5539, 'fought': 5540, 'niagara': 5541, 'seem': 5542, 'miranda': 5543, 'canal': 5544, 'gallery': 5545, 'pond': 5546, 'shield': 5547, 'tractor': 5548, 'rockies': 5549, 'quebec': 5550, '4g': 5551, 'shoe': 5552, 'walsh': 5553, 'boulevard': 5554, 'punched': 5555, 'weighed': 5556, 'publication': 5557, 'bruins': 5558, 'gathering': 5559, 'fulham': 5560, 'server': 5561, 'lineman': 5562, 'availability': 5563, 'influential': 5564, 'wouldnt': 5565, 'londons': 5566, 'rankings': 5567, 'startup': 5568, 'sit': 5569, 'tire': 5570, '4th': 5571, 'cooperative': 5572, 'billboard': 5573, 'helicopters': 5574, 'exciting': 5575, 'railways': 5576, 'edinburgh': 5577, 'brent': 5578, 'swansea': 5579, 'bonuses': 5580, 'affecting': 5581, 'filming': 5582, 'strengthening': 5583, 'sudanese': 5584, 'wade': 5585, 'prompted': 5586, 'bowler': 5587, 'colleagues': 5588, 'protected': 5589, '15000': 5590, 'batsman': 5591, 'autism': 5592, 'confessed': 5593, 'fantasy': 5594, 'baker': 5595, 'hartford': 5596, 'button': 5597, 'chopra': 5598, 'tucson': 5599, 'disorder': 5600, 'scarlett': 5601, 'retreat': 5602, 'appointments': 5603, 'spreading': 5604, 'concerts': 5605, 'absolutely': 5606, 'trump': 5607, 'salaries': 5608, 'antigovernment': 5609, 'crossed': 5610, 'manila': 5611, 'lsu': 5612, 'kenyan': 5613, 'et': 5614, 'silicon': 5615, 'richards': 5616, 'stemming': 5617, 'thin': 5618, 'raja': 5619, 'manning': 5620, 'finances': 5621, 'rams': 5622, 'leicester': 5623, 'journey': 5624, 'distributor': 5625, 'reed': 5626, 'sustainability': 5627, 'worried': 5628, 'checkpoint': 5629, 'extradition': 5630, 'quest': 5631, 'destroy': 5632, 'profile': 5633, 'ipo': 5634, 'nonprofit': 5635, 'correspondent': 5636, 'yorkshire': 5637, 'pune': 5638, 'occasion': 5639, 'winnipeg': 5640, 'assam': 5641, 'traveling': 5642, 'fabio': 5643, 'lessons': 5644, 'turner': 5645, 'wishes': 5646, 'depp': 5647, 'airtel': 5648, 'gdp': 5649, 'recruitment': 5650, 'blacks': 5651, 'sharma': 5652, 'lloyd': 5653, 'defamation': 5654, 'mini': 5655, 'diaz': 5656, 'peterson': 5657, 'vermont': 5658, 'exporters': 5659, 'travis': 5660, 'johansson': 5661, 'settles': 5662, 'concept': 5663, 'duo': 5664, 'deported': 5665, '92': 5666, 'na': 5667, 'mountains': 5668, 'praise': 5669, 'hathaway': 5670, 'footballer': 5671, 'heroes': 5672, 'omar': 5673, 'offenders': 5674, 'mo': 5675, 'renew': 5676, 'willing': 5677, 'devastating': 5678, 'l': 5679, 'qualified': 5680, 'du': 5681, 'jharkhand': 5682, 'infringement': 5683, 'boards': 5684, 'scientist': 5685, 'shootings': 5686, 'vincent': 5687, 'ge': 5688, 'seconddegree': 5689, '000': 5690, 'fleeing': 5691, 'panasonic': 5692, 'jean': 5693, 'extensive': 5694, 'bout': 5695, 'mansion': 5696, 'transmission': 5697, 'projected': 5698, 'conn': 5699, 'soaring': 5700, 'doubt': 5701, 'emerge': 5702, 'licenses': 5703, 'likes': 5704, 'riley': 5705, 'apologises': 5706, 'reception': 5707, 'muammar': 5708, 'reduces': 5709, 'consensus': 5710, 'appearing': 5711, 'grows': 5712, 'excessive': 5713, 'ucla': 5714, 'meant': 5715, 'associate': 5716, 'tumor': 5717, 'newborn': 5718, 'arsene': 5719, 'notre': 5720, 'patil': 5721, 'xi': 5722, 'vietnamese': 5723, 'associates': 5724, 'jintao': 5725, '1200': 5726, 'blew': 5727, 'molesting': 5728, 'radical': 5729, 'symptoms': 5730, 'sydneys': 5731, 'ppp': 5732, 'segment': 5733, 'torn': 5734, 'natalie': 5735, 'effectively': 5736, 'finishing': 5737, 'adrian': 5738, 'mosque': 5739, 'lowered': 5740, 'percentage': 5741, 'certification': 5742, 'spell': 5743, 'throat': 5744, 'cannabis': 5745, 'ca': 5746, 'else': 5747, 'housewives': 5748, 'cheney': 5749, 'barn': 5750, 'ram': 5751, 'englands': 5752, 'execution': 5753, 'donate': 5754, 'unified': 5755, '14th': 5756, 'alberto': 5757, 'marlins': 5758, 'nyc': 5759, 'margaret': 5760, 'theyve': 5761, 'develops': 5762, 'stories': 5763, 'cooperate': 5764, 'productivity': 5765, 'sanjay': 5766, 'sofia': 5767, 'tsvangirai': 5768, 'noble': 5769, 'strausskahn': 5770, 'drives': 5771, 'policemen': 5772, 'imran': 5773, 'bennett': 5774, 'imported': 5775, 'filled': 5776, 'jp': 5777, 'format': 5778, 'hospitalised': 5779, 'rounds': 5780, 'ideas': 5781, 'encouraged': 5782, 'declaring': 5783, 'cox': 5784, 'doherty': 5785, 'cement': 5786, 'criminals': 5787, 'represent': 5788, 'rehman': 5789, 'wolf': 5790, 'overweight': 5791, 'experienced': 5792, 'holders': 5793, 'betty': 5794, 'knicks': 5795, 'soil': 5796, 'activated': 5797, 'mogul': 5798, 'sap': 5799, 'australians': 5800, '59': 5801, 'wonder': 5802, 'crush': 5803, 'promotions': 5804, 'arent': 5805, 'bust': 5806, 'possessing': 5807, 'dying': 5808, 'sharapova': 5809, 'villages': 5810, 'finale': 5811, 'safely': 5812, 'orissa': 5813, 'tulsa': 5814, 'carson': 5815, 'ports': 5816, 'sheffield': 5817, 'nikkei': 5818, 'supermodel': 5819, 'sensitive': 5820, 'tripoli': 5821, 'turbine': 5822, 'wrist': 5823, 'roma': 5824, 'dawn': 5825, 'miliband': 5826, 'abused': 5827, 'satyam': 5828, 'repairs': 5829, 'ranch': 5830, 'remake': 5831, 'celebrities': 5832, 'elect': 5833, 'kid': 5834, 'wed': 5835, 'outsourcing': 5836, 'vacation': 5837, 'tougher': 5838, 'palmer': 5839, 'ethiopia': 5840, 'oscarwinning': 5841, 'rajya': 5842, 'ages': 5843, 'grown': 5844, 'renowned': 5845, 'stuart': 5846, 'contractors': 5847, 'maps': 5848, 'referee': 5849, 'margin': 5850, 'picking': 5851, 'equal': 5852, 'performances': 5853, 'borough': 5854, 'paise': 5855, 'lucas': 5856, 'noel': 5857, 'withdrawal': 5858, 'derek': 5859, 'laura': 5860, 'os': 5861, 'bharti': 5862, 'seconds': 5863, 'purchased': 5864, 'mercury': 5865, 'listing': 5866, 'gray': 5867, 'handling': 5868, 'dvd': 5869, 'cuomo': 5870, 'manuel': 5871, 'pipe': 5872, 'advisers': 5873, 'resorts': 5874, 'rovers': 5875, 'weakens': 5876, 'survives': 5877, 'intended': 5878, 'boosting': 5879, 'qualifier': 5880, 'contribution': 5881, 'simply': 5882, 'headon': 5883, 'gifts': 5884, 'convertible': 5885, 'optimistic': 5886, 'resigning': 5887, 'teammates': 5888, 'investigations': 5889, 'trevor': 5890, 'ave': 5891, 'yousuf': 5892, 'cannon': 5893, 'metropolitan': 5894, '28yearold': 5895, 'collective': 5896, 'transparency': 5897, 'henderson': 5898, '2002': 5899, 'twotime': 5900, 'governing': 5901, 'buzz': 5902, 'appealed': 5903, 'container': 5904, 'riverside': 5905, 'vicepresident': 5906, 'lieutenant': 5907, 'astros': 5908, 'hawks': 5909, 'marries': 5910, 'excited': 5911, 'qb': 5912, 'encouraging': 5913, 'capello': 5914, 'spice': 5915, 'naomi': 5916, 'durham': 5917, 'survivors': 5918, 'merge': 5919, 'blagojevich': 5920, 'frances': 5921, 'f': 5922, 'routine': 5923, 'inappropriate': 5924, 'flags': 5925, 'disappointed': 5926, 'grace': 5927, 'revive': 5928, 'fruit': 5929, 'vijay': 5930, 'solve': 5931, 'tmobile': 5932, 'explain': 5933, 'orchestra': 5934, 'suppliers': 5935, 'remanded': 5936, 'fouryear': 5937, 'boom': 5938, 'halted': 5939, 'analytics': 5940, 'windsor': 5941, 'deciding': 5942, 'tinto': 5943, 'breakthrough': 5944, 'function': 5945, 'acute': 5946, 'skype': 5947, 'vendor': 5948, 'violated': 5949, 'stevens': 5950, 'lock': 5951, 'dayton': 5952, 'outage': 5953, 'contribute': 5954, 'planet': 5955, 'indecent': 5956, 'compromise': 5957, 'djokovic': 5958, 'astronaut': 5959, 'usbased': 5960, 'arthur': 5961, 'presenter': 5962, 'engines': 5963, 'walks': 5964, 'stomach': 5965, 'grass': 5966, 'fever': 5967, 'rebuild': 5968, 'flyers': 5969, 'aden': 5970, 'hornets': 5971, 'sharon': 5972, 'slated': 5973, 'spin': 5974, 'ryder': 5975, 'cornerback': 5976, 'singles': 5977, 'finishes': 5978, 'horizon': 5979, 'europa': 5980, 'blockbuster': 5981, 'handle': 5982, 'radiation': 5983, 'economics': 5984, 'somerset': 5985, 'ailing': 5986, 'oxford': 5987, 'vehicular': 5988, 'karl': 5989, 'tumbled': 5990, 'invested': 5991, 'sponsorship': 5992, 'shipments': 5993, 'castle': 5994, 'touched': 5995, 'multimillion': 5996, 'bitter': 5997, 'economists': 5998, 'kyrgyz': 5999, 'colombo': 6000, 'bailey': 6001, 'impose': 6002, 'procedure': 6003, 'petersburg': 6004, 'prepaid': 6005, 'penalties': 6006, 'extraordinary': 6007, 'inspector': 6008, 'mum': 6009, 'ronnie': 6010, 'canyon': 6011, 'retains': 6012, 'banerjee': 6013, 'consolidation': 6014, 'ios': 6015, 'participants': 6016, '94': 6017, 'catherine': 6018, 'duncan': 6019, 'brokerage': 6020, 'di': 6021, 'stretch': 6022, 'cheap': 6023, 'bengals': 6024, 'seal': 6025, 'juvenile': 6026, 'containing': 6027, 'owns': 6028, 'exactly': 6029, 'mclaren': 6030, 'universe': 6031, 'myers': 6032, 'arrival': 6033, 'endorsement': 6034, 'bend': 6035, 'invites': 6036, 'dismisses': 6037, 'adoption': 6038, '18yearold': 6039, 'resulting': 6040, 'partial': 6041, 'excellent': 6042, 'sec': 6043, 'posed': 6044, 'contained': 6045, 'suffolk': 6046, 'whale': 6047, 'portal': 6048, 'priced': 6049, 'thackeray': 6050, 'bright': 6051, 'courthouse': 6052, 'th': 6053, 'treasurer': 6054, 'invitational': 6055, 'cats': 6056, 'foreigners': 6057, 'jakarta': 6058, 'sweeping': 6059, 'strict': 6060, 'freshman': 6061, 'volatility': 6062, 'minn': 6063, 'tip': 6064, 'firearms': 6065, 'map': 6066, 'efficient': 6067, 'superintendent': 6068, 'carroll': 6069, 'surface': 6070, 'repeatedly': 6071, 'bundesliga': 6072, 'alleging': 6073, 'caps': 6074, 'globally': 6075, 'marketplace': 6076, 'trigger': 6077, 'quarterfinal': 6078, 'briefing': 6079, 'stick': 6080, 'surprised': 6081, 'huntington': 6082, 'swings': 6083, 'liquidity': 6084, 'arraigned': 6085, 'gym': 6086, 'essex': 6087, 'deployed': 6088, 'symbol': 6089, 'miner': 6090, 'consultancy': 6091, 'harvest': 6092, '18th': 6093, 'golfer': 6094, 'surcharge': 6095, 'nicki': 6096, 'bachmann': 6097, 'sena': 6098, 'paterson': 6099, 'winfrey': 6100, '225': 6101, 'acclaimed': 6102, 'diving': 6103, 'origin': 6104, 'confrontation': 6105, 'disorderly': 6106, 'organisers': 6107, 'dirty': 6108, 'load': 6109, 'greene': 6110, 'mae': 6111, 'usc': 6112, 'wii': 6113, 'premiership': 6114, 'secondlargest': 6115, 'advocates': 6116, 'heather': 6117, 'rebounded': 6118, '2016': 6119, 'katrina': 6120, 'germanys': 6121, 'exchanges': 6122, 'presentation': 6123, 'stateowned': 6124, 'jayz': 6125, 'saves': 6126, 'marco': 6127, 'specific': 6128, 'battled': 6129, 'plunge': 6130, 'unusual': 6131, 'restructure': 6132, 'garbage': 6133, 'hikes': 6134, 'glen': 6135, 'completing': 6136, 'torture': 6137, 'barton': 6138, 'plaza': 6139, 'kingston': 6140, 'cruises': 6141, 'backup': 6142, 'apparel': 6143, 'exgirlfriend': 6144, 'toss': 6145, 'religion': 6146, 'avalanche': 6147, 'jaguars': 6148, 'inventories': 6149, 'sorry': 6150, 'partially': 6151, 'hinted': 6152, 'minaj': 6153, '160': 6154, 'amtrak': 6155, 'bottle': 6156, 'kobe': 6157, 'goa': 6158, 'coroner': 6159, 'administrator': 6160, 'nervous': 6161, 'bombings': 6162, 'crazy': 6163, 'hindu': 6164, 'massacre': 6165, '17th': 6166, 'mainland': 6167, 'km': 6168, 'challenger': 6169, 'subway': 6170, 'laundering': 6171, 'vick': 6172, 'obrien': 6173, 'maintains': 6174, '30yearold': 6175, 'pointed': 6176, 'gender': 6177, 'li': 6178, 'brutal': 6179, 'aerospace': 6180, 'fierce': 6181, 'hurricanes': 6182, 'thief': 6183, 'certificate': 6184, 'serie': 6185, 'sudden': 6186, 'mavericks': 6187, 'cardinal': 6188, 'grandmother': 6189, 'rapidly': 6190, 'components': 6191, 'brawl': 6192, 'combine': 6193, 'dominique': 6194, 'detectives': 6195, 'carrie': 6196, 'webber': 6197, 'etihad': 6198, 'longoria': 6199, 'reynolds': 6200, 'rap': 6201, 'broader': 6202, 'addressing': 6203, 'contender': 6204, 'cristiano': 6205, 'apples': 6206, 'damaging': 6207, 'aaa': 6208, 'smashed': 6209, 'burlington': 6210, 'tap': 6211, 'patents': 6212, 'intellectual': 6213, 'plenty': 6214, '40th': 6215, 'nose': 6216, 'railroad': 6217, 'pretax': 6218, 'printing': 6219, 'buyout': 6220, 'crane': 6221, 'method': 6222, 'travelling': 6223, 'regain': 6224, 'hacked': 6225, 'maintaining': 6226, 'autumn': 6227, 'canucks': 6228, 'batting': 6229, 'statue': 6230, 'favour': 6231, '6000': 6232, 'bridges': 6233, 'belfast': 6234, 'stern': 6235, 'wallace': 6236, 'holder': 6237, 'dip': 6238, 'jockey': 6239, '30th': 6240, 'mercy': 6241, 'hungarian': 6242, 'istanbul': 6243, '2500': 6244, 'carmaker': 6245, 'providence': 6246, 'lte': 6247, 'congratulated': 6248, 'youngsters': 6249, 'addresses': 6250, 'slovenia': 6251, 'destinations': 6252, 'nets': 6253, 'gilbert': 6254, 'woes': 6255, 'reckless': 6256, 'robbers': 6257, 'ash': 6258, 'issuing': 6259, 'rukh': 6260, 'walt': 6261, 'maiden': 6262, 'pierce': 6263, 'portion': 6264, 'suddenly': 6265, 'meaning': 6266, '400000': 6267, 'ranking': 6268, 'adele': 6269, 'cage': 6270, 'schemes': 6271, 'improvements': 6272, 'mourinho': 6273, 'wilmington': 6274, 'testify': 6275, 'santos': 6276, 'colts': 6277, 'sluggish': 6278, 'veto': 6279, 'circumstances': 6280, 'enjoyed': 6281, 'lauren': 6282, 'consequences': 6283, 'submit': 6284, 'hamstring': 6285, 'cream': 6286, 'awaited': 6287, 'slowly': 6288, 'burma': 6289, 'perhaps': 6290, 'govt': 6291, 'starbucks': 6292, 'aguilera': 6293, 'creates': 6294, 'joey': 6295, 'israels': 6296, 'bangkok': 6297, 'imprisonment': 6298, 'hamburg': 6299, 'removal': 6300, 'recognize': 6301, 'swan': 6302, 'generate': 6303, 'tragic': 6304, 'mandatory': 6305, 'hunters': 6306, 'debts': 6307, 'nasdaq': 6308, 'nice': 6309, 'uganda': 6310, 'interbank': 6311, 'urge': 6312, 'disputes': 6313, 'saskatchewan': 6314, 'swung': 6315, 'polling': 6316, 'facilitate': 6317, 'ladies': 6318, 'tyson': 6319, 'ballots': 6320, 'neglect': 6321, 'billiton': 6322, '15yearold': 6323, 'riders': 6324, '14yearold': 6325, 'knox': 6326, 'proper': 6327, 'sergio': 6328, 'helen': 6329, 'plymouth': 6330, 'sweet': 6331, 'edges': 6332, 'spree': 6333, 'faculty': 6334, 'allocation': 6335, '1100': 6336, 'drawn': 6337, 'laser': 6338, 'jun': 6339, 'organisations': 6340, 'bancorp': 6341, 'seekers': 6342, 'merrill': 6343, 'battered': 6344, 'pressures': 6345, 'ip': 6346, 'boris': 6347, 'compact': 6348, 'megan': 6349, 'advocate': 6350, 'shocking': 6351, 'slain': 6352, 'snap': 6353, 'valuable': 6354, '300000': 6355, 'comfortable': 6356, 'novak': 6357, 'lyon': 6358, 'counter': 6359, 'organizers': 6360, 'leonardo': 6361, 'consultant': 6362, 'associations': 6363, 'councillor': 6364, 'infielder': 6365, 'texans': 6366, 'truth': 6367, 'tuition': 6368, 'offerings': 6369, '15th': 6370, 'weve': 6371, 'sleeping': 6372, 'guinea': 6373, 'programmes': 6374, 'chilean': 6375, 'assad': 6376, 'repeal': 6377, 'metres': 6378, 'creditors': 6379, 'implemented': 6380, 'volkswagen': 6381, 'arlington': 6382, 'clemens': 6383, 'gps': 6384, 'ellen': 6385, 'exhusband': 6386, 'fisherman': 6387, 'participating': 6388, 'hanged': 6389, 'sanford': 6390, 'voter': 6391, 'bribery': 6392, 'congratulates': 6393, 'da': 6394, 'daytona': 6395, 'plotting': 6396, 'epic': 6397, 'crawford': 6398, 'broking': 6399, 'coventry': 6400, 'firstquarter': 6401, 'legacy': 6402, 'gardens': 6403, 'raul': 6404, 'gala': 6405, 'lighting': 6406, 'doug': 6407, 'aung': 6408, 'underage': 6409, 'mysterious': 6410, 'baptist': 6411, 'spoken': 6412, 'dreams': 6413, 'elite': 6414, 'offense': 6415, 'connected': 6416, 'biopic': 6417, 'kurt': 6418, 'brokers': 6419, 'asean': 6420, 'ex': 6421, 'videos': 6422, 'replaces': 6423, '19th': 6424, 'rifle': 6425, 'lebron': 6426, 'voluntarily': 6427, 'mandate': 6428, 'mobility': 6429, 'enjoying': 6430, 'deployment': 6431, 'nova': 6432, 'sidelines': 6433, 'gazprom': 6434, 'fractured': 6435, 'dpa': 6436, 'dragon': 6437, 'tevez': 6438, 'decides': 6439, 'postpones': 6440, 'infosys': 6441, 'krishna': 6442, 'aamir': 6443, 'stoke': 6444, 'medicines': 6445, 'toxic': 6446, 'showcase': 6447, 'introducing': 6448, 'geneva': 6449, 'yoga': 6450, 'steep': 6451, 'powell': 6452, 'itunes': 6453, 'organic': 6454, 'ahmad': 6455, 'andrews': 6456, 'reaction': 6457, 'lionel': 6458, 'humans': 6459, 'detected': 6460, 'opposed': 6461, 'addressed': 6462, 'thunderstorm': 6463, 'carlisle': 6464, 'explains': 6465, 'distribute': 6466, 'timothy': 6467, 'legs': 6468, 'dhoni': 6469, 'revival': 6470, 'troy': 6471, 'noted': 6472, 'bold': 6473, 'fda': 6474, 'muscle': 6475, 'egypts': 6476, 'isle': 6477, 'dominican': 6478, 'approaches': 6479, 'credits': 6480, 'exercises': 6481, 'rd': 6482, 'cellular': 6483, 'reference': 6484, 'farewell': 6485, 'benitez': 6486, 'ponting': 6487, 'zones': 6488, '40000': 6489, 'blasted': 6490, 'pine': 6491, 'playboy': 6492, 'lawsuits': 6493, 'shuts': 6494, 'municipality': 6495, 'strengthens': 6496, 'demonstrators': 6497, 'nuggets': 6498, 'hundred': 6499, 'joy': 6500, 'sponsored': 6501, 'ministries': 6502, 'padres': 6503, 'desire': 6504, 'hed': 6505, 'devils': 6506, 'exclusively': 6507, 'yards': 6508, 'asthma': 6509, 'covered': 6510, 'quitting': 6511, 'renault': 6512, 'fate': 6513, 'advani': 6514, 'councilman': 6515, 'prayer': 6516, 'degrees': 6517, 'janet': 6518, 'erupted': 6519, 'burke': 6520, 'messaging': 6521, 'croatia': 6522, 'reflecting': 6523, 'wider': 6524, 'gonzalez': 6525, 'faulty': 6526, 'anger': 6527, 'puerto': 6528, 'palestine': 6529, 'capitals': 6530, 'sank': 6531, 'lashed': 6532, 'collected': 6533, 'stood': 6534, 'algeria': 6535, 'paulo': 6536, 'setback': 6537, 'charities': 6538, 'entrepreneurs': 6539, 'perez': 6540, 'anthem': 6541, 'guitar': 6542, 'sting': 6543, 'motel': 6544, 'wet': 6545, 'tear': 6546, 'trained': 6547, 'sidelined': 6548, 'guests': 6549, 'concrete': 6550, 'engage': 6551, 'amazoncom': 6552, 'pirate': 6553, 'puppy': 6554, 'attractive': 6555, 'spends': 6556, 'publish': 6557, 'ledger': 6558, 'rhode': 6559, 'transactions': 6560, 'bhd': 6561, 'notices': 6562, 'homeland': 6563, '6th': 6564, 'presenting': 6565, 'scouts': 6566, 'stressed': 6567, 'renovation': 6568, 'workplace': 6569, 'rough': 6570, 'poors': 6571, 'oppose': 6572, 'pig': 6573, 'formation': 6574, 'recommendations': 6575, 'solidarity': 6576, 'matters': 6577, 'reviewing': 6578, 'reputation': 6579, 'kirk': 6580, 'td': 6581, 'typhoon': 6582, 'shale': 6583, 'uncertain': 6584, 'zac': 6585, 'rainfall': 6586, 'stunning': 6587, 'downs': 6588, 'precious': 6589, 'poisoning': 6590, '3rd': 6591, 'incumbent': 6592, 'sum': 6593, 'oliver': 6594, 'pointing': 6595, 'wash': 6596, '16yearold': 6597, 'doubts': 6598, 'burglar': 6599, 'removing': 6600, 'achievement': 6601, 'shortfall': 6602, 'climbing': 6603, 'valencia': 6604, 'firstdegree': 6605, 'loaded': 6606, 'courses': 6607, 'aol': 6608, 'foul': 6609, 'hackers': 6610, '2001': 6611, '04': 6612, 'pursuit': 6613, 'pills': 6614, 'laptop': 6615, 'zsa': 6616, 'victorian': 6617, 'iceland': 6618, 'tanks': 6619, 'holland': 6620, 'carnival': 6621, 'cia': 6622, 'diana': 6623, '250000': 6624, 'upa': 6625, 'satellites': 6626, 'prairie': 6627, 'bernie': 6628, 'raids': 6629, 'calendar': 6630, 'requested': 6631, 'consultation': 6632, 'purpose': 6633, 'lobby': 6634, 'pensioner': 6635, 'sparks': 6636, 'ramirez': 6637, 'clears': 6638, 'ambitious': 6639, 'halifax': 6640, 'beaches': 6641, 'ousted': 6642, 'portuguese': 6643, 'reject': 6644, 'hassan': 6645, 'underwood': 6646, 'mick': 6647, 'mistake': 6648, 'institutional': 6649, 'diamondbacks': 6650, 'seasonal': 6651, 'outperform': 6652, 'subsidiaries': 6653, 'medium': 6654, 'villagers': 6655, 'counterfeit': 6656, 'covers': 6657, 'panels': 6658, 'coral': 6659, 'alicia': 6660, 'suns': 6661, 'cain': 6662, 'bullish': 6663, 'bet': 6664, 'nawaz': 6665, 'hiphop': 6666, 'reservation': 6667, 'spray': 6668, 'md': 6669, 'dengue': 6670, 'bharatiya': 6671, 'platforms': 6672, 'publishes': 6673, 'tweet': 6674, 'seng': 6675, 'turkeys': 6676, 'tel': 6677, 'laboratory': 6678, 'marines': 6679, 'geithner': 6680, 'lloyds': 6681, 'stayed': 6682, 'opposite': 6683, 'tenn': 6684, 'checked': 6685, 'falcons': 6686, 'progressive': 6687, 'shaun': 6688, 'loose': 6689, 'tvs': 6690, 'batch': 6691, 'bruno': 6692, 'anil': 6693, 'toilet': 6694, 'eligible': 6695, 'frankfurt': 6696, 'pfizer': 6697, 'counterparts': 6698, 'sanaa': 6699, 'pistorius': 6700, 'warrants': 6701, 'hart': 6702, 'tracy': 6703, 'soap': 6704, 'proceeds': 6705, 'coyotes': 6706, 'hewitt': 6707, 'hat': 6708, 'usain': 6709, 'youngest': 6710, 'dogg': 6711, 'reconstruction': 6712, 'waves': 6713, 'rory': 6714, 'relegation': 6715, 'draws': 6716, 'intense': 6717, 'simmons': 6718, 'seizure': 6719, 'hails': 6720, 'earns': 6721, 'stamford': 6722, 'wounding': 6723, 'spains': 6724, 'distributed': 6725, 'flew': 6726, 'magistrate': 6727, '17yearold': 6728, 'sat': 6729, 'exam': 6730, 'magistrates': 6731, 'thank': 6732, 'shiv': 6733, 'taste': 6734, 'greenhouse': 6735, 'relating': 6736, 'competing': 6737, 'ellis': 6738, 'mouth': 6739, 'overtime': 6740, 'sometimes': 6741, 'utilities': 6742, 'shutting': 6743, 'incentives': 6744, 'maoist': 6745, 'administrators': 6746, 'bret': 6747, 'columnist': 6748, 'altercation': 6749, 'scholarship': 6750, 'steam': 6751, 'lie': 6752, 'runner': 6753, 'chaos': 6754, 'rim': 6755, 'revealing': 6756, 'handset': 6757, 'moments': 6758, 'wbc': 6759, 'disrupted': 6760, 'cops': 6761, 'wallabies': 6762, 'sentences': 6763, 'h': 6764, 'chips': 6765, 'capsized': 6766, 'empty': 6767, 'yadav': 6768, 'counsel': 6769, 'schumacher': 6770, 'jackie': 6771, 'subsidies': 6772, 'hbo': 6773, 'macedonia': 6774, 'adjourned': 6775, 'claire': 6776, 'reunion': 6777, 'teeth': 6778, 'midland': 6779, 'tattoo': 6780, 'volcano': 6781, 'generic': 6782, 'valentines': 6783, 'clashed': 6784, 'goaltender': 6785, 'explodes': 6786, 'symphony': 6787, 'factories': 6788, 'amsterdam': 6789, 'builder': 6790, 'rig': 6791, 'generals': 6792, 'editorial': 6793, 'erie': 6794, 'moral': 6795, 'anonymous': 6796, 'subscription': 6797, 'assassination': 6798, 'succeed': 6799, 'mph': 6800, 'banning': 6801, 'hammer': 6802, 'nottingham': 6803, 'secretly': 6804, 'trader': 6805, 'approached': 6806, 'amazing': 6807, 'quarters': 6808, 'spotlight': 6809, 'shutdown': 6810, 'gubernatorial': 6811, 'vernon': 6812, 'sweeps': 6813, 'wa': 6814, 'dubbed': 6815, 'predict': 6816, 'hezbollah': 6817, 'restricted': 6818, 'patel': 6819, 'thus': 6820, 'contributions': 6821, 'singers': 6822, 'predicts': 6823, 'teach': 6824, 'ordinary': 6825, 'orbit': 6826, 'messi': 6827, 'samuel': 6828, 'purdue': 6829, 'endangered': 6830, 'protecting': 6831, 'guardian': 6832, 'countys': 6833, 'kraft': 6834, 'oasis': 6835, 'accusations': 6836, 'battles': 6837, 'questioning': 6838, 'sore': 6839, 'offseason': 6840, 'punch': 6841, 'boosts': 6842, 'dylan': 6843, 'garcia': 6844, 'quake': 6845, 'invests': 6846, 'ghost': 6847, 'reelected': 6848, 'lays': 6849, 'passport': 6850, 'prop': 6851, 'merchant': 6852, 'parkway': 6853, 'bounced': 6854, 'robust': 6855, 'earning': 6856, 'mix': 6857, 'coma': 6858, 'hampton': 6859, 'malaria': 6860, 'pages': 6861, 'carlo': 6862, 'sheet': 6863, 'friendship': 6864, '175': 6865, 'stating': 6866, 'oneal': 6867, 'johnston': 6868, 'apartments': 6869, 'accidental': 6870, 'floating': 6871, 'childs': 6872, 'packed': 6873, 'arriving': 6874, 'bombay': 6875, 'mesa': 6876, 'observers': 6877, 'kidnap': 6878, 'legislators': 6879, 'cheated': 6880, 'pitches': 6881, 'particular': 6882, 'hispanic': 6883, 'volvo': 6884, 'rica': 6885, 'drake': 6886, 'reorganization': 6887, 'rossi': 6888, 'victor': 6889, 'medicaid': 6890, 'brendan': 6891, 'bullpen': 6892, 'chuck': 6893, 'pets': 6894, 'sole': 6895, 'earthquakes': 6896, 'hopkins': 6897, 'dutt': 6898, 'tradition': 6899, 'rwanda': 6900, 'clayton': 6901, 'cal': 6902, 'desktop': 6903, 'wizards': 6904, 'rover': 6905, 'hodgson': 6906, 'florence': 6907, 'struggled': 6908, 'georgetown': 6909, 'specifically': 6910, 'ferdinand': 6911, 'fairfield': 6912, 'gunshot': 6913, 'prefer': 6914, '02': 6915, 'automation': 6916, 'ton': 6917, 'consolidate': 6918, 'yesterdays': 6919, 'stalking': 6920, 'endeavour': 6921, 'u': 6922, 'sprained': 6923, 'pearl': 6924, 'skating': 6925, 'hidden': 6926, 'ipod': 6927, 'washed': 6928, '29yearold': 6929, 'pelosi': 6930, 'yorks': 6931, 'openly': 6932, 'equality': 6933, 'excellence': 6934, 'griffin': 6935, 'collections': 6936, 'manner': 6937, 'courtroom': 6938, 'beatles': 6939, 'blackhawks': 6940, 'belmont': 6941, 'explosives': 6942, 'dominated': 6943, 'publicist': 6944, 'marie': 6945, 'singersongwriter': 6946, 'dump': 6947, 'freeway': 6948, 'heels': 6949, 'researcher': 6950, 'shocked': 6951, 'addiction': 6952, 'liability': 6953, 'demolition': 6954, 'bargain': 6955, 'alarm': 6956, 'tweets': 6957, 'f1': 6958, 'goodwill': 6959, 'felipe': 6960, 'fiery': 6961, '21st': 6962, 'sunny': 6963, 'rogue': 6964, 'criticized': 6965, 'guys': 6966, 'clinics': 6967, 'permit': 6968, '23rd': 6969, 'scout': 6970, '97': 6971, 'passage': 6972, 'gosselin': 6973, 'promotes': 6974, 'dated': 6975, 'portman': 6976, 'appreciation': 6977, 'commissioned': 6978, 'panthers': 6979, 'toledo': 6980, 'statutory': 6981, 'poses': 6982, 'cigarette': 6983, 'clegg': 6984, 'priyanka': 6985, 'islanders': 6986, 'eases': 6987, 'requires': 6988, 'moines': 6989, 'buyer': 6990, 'itv': 6991, 'revenge': 6992, 'founding': 6993, 'caution': 6994, 'coronation': 6995, 'disabilities': 6996, 'chocolate': 6997, 'gossip': 6998, '12000': 6999, 'adjusted': 7000, 'khloe': 7001, 'surgeon': 7002, 'patch': 7003, 'immigrant': 7004, 'makeover': 7005, 'aussie': 7006, 'touring': 7007, 'grenade': 7008, 'shortstop': 7009, 'graduates': 7010, 'reunited': 7011, 'operated': 7012, 'facial': 7013, 'ltte': 7014, 'firmer': 7015, 'o2': 7016, 'bee': 7017, 'ejected': 7018, 'taiwanese': 7019, 'mate': 7020, 'behavior': 7021, 'willis': 7022, 'packages': 7023, 'roughly': 7024, 'strained': 7025, 'aviv': 7026, 'va': 7027, '31yearold': 7028, 'uniform': 7029, 'snapped': 7030, 'slid': 7031, 'preserve': 7032, '201011': 7033, 'narrow': 7034, 'dressed': 7035, 'lokpal': 7036, 'nobody': 7037, 'allrounder': 7038, 'consortium': 7039, 'evacuate': 7040, 'agreeing': 7041, 'boots': 7042, 'wilkinson': 7043, 'harbour': 7044, 'miguel': 7045, 'lanes': 7046, 'folk': 7047, 'balotelli': 7048, 'cab': 7049, 'unexpected': 7050, 'lehman': 7051, 'pushes': 7052, 'zimbabwean': 7053, 'aware': 7054, 'linking': 7055, 'snoop': 7056, 'scotia': 7057, 'displaced': 7058, 'manitoba': 7059, 'filipino': 7060, 'smash': 7061, 'speeds': 7062, 'madoff': 7063, 'debates': 7064, 'flown': 7065, 'matthews': 7066, 'vettel': 7067, 'bankrupt': 7068, 'forecasters': 7069, 'controller': 7070, 'recreation': 7071, 'hussain': 7072, 'sussex': 7073, 'hacking': 7074, 'halle': 7075, 'rescues': 7076, 'adopts': 7077, 'ditch': 7078, 'permanently': 7079, 'derivatives': 7080, 'jul': 7081, 'cigarettes': 7082, 'ok': 7083, 'shaw': 7084, 'deny': 7085, 'plains': 7086, 'ea': 7087, 'peters': 7088, 'depth': 7089, 'marsh': 7090, 'albums': 7091, 'secrets': 7092, 'les': 7093, 'runoff': 7094, 'winslet': 7095, 'conducting': 7096, 'tunnel': 7097, '15day': 7098, 'humphries': 7099, 'irvine': 7100, 'sometime': 7101, 'der': 7102, 'cooking': 7103, 'meals': 7104, 'elements': 7105, 'indoor': 7106, 'bones': 7107, 'middleweight': 7108, 'posing': 7109, 'constable': 7110, 'proposing': 7111, 'lancaster': 7112, 'distributing': 7113, 'luck': 7114, 'wrap': 7115, 'troopers': 7116, 'glory': 7117, 'libel': 7118, 'forever': 7119, 'paula': 7120, 'maybe': 7121, 'hostile': 7122, 'rage': 7123, 'signals': 7124, 'inauguration': 7125, 'clippers': 7126, 'axe': 7127, 'jade': 7128, 'pancreatic': 7129, 'salvation': 7130, 'laying': 7131, 'highprofile': 7132, 'studying': 7133, 'drummer': 7134, 'hood': 7135, 'vendors': 7136, 'rev': 7137, 'reliable': 7138, 'fiat': 7139, 'hoped': 7140, 'hyundai': 7141, 'proof': 7142, 'bitten': 7143, 'criticised': 7144, 'indie': 7145, 'atletico': 7146, '201112': 7147, 'estimate': 7148, 'recommends': 7149, 'nyse': 7150, 'mirza': 7151, 'insurers': 7152, 'samantha': 7153, 'foreclosures': 7154, 'enemy': 7155, 'welterweight': 7156, 'reddy': 7157, 'treatments': 7158, 'mancini': 7159, 'surrender': 7160, 'nitish': 7161, 'citi': 7162, 'alqaida': 7163, 'slips': 7164, '99': 7165, 'slows': 7166, 'lowers': 7167, 'rocked': 7168, 'accra': 7169, 'chrome': 7170, 'approaching': 7171, 'weakening': 7172, 'concerning': 7173, 'icici': 7174, 'sequel': 7175, '105': 7176, 'vienna': 7177, 'hernandez': 7178, 'inn': 7179, 'departure': 7180, 'publishers': 7181, '49ers': 7182, 'alice': 7183, 'myspace': 7184, 'chat': 7185, 'sara': 7186, 'sergeant': 7187, 'households': 7188, 'seri': 7189, 'indicates': 7190, 'morocco': 7191, 'raymond': 7192, 'scrapped': 7193, 'toy': 7194, 'hannah': 7195, 'commissions': 7196, 'sullivan': 7197, 'eyed': 7198, 'barrier': 7199, 'signature': 7200, 'tan': 7201, 'gerrard': 7202, 'airlifted': 7203, 'popularity': 7204, 'sailors': 7205, 'arquette': 7206, 'delighted': 7207, 'indigenous': 7208, 'indeed': 7209, 'vampire': 7210, 'khalifa': 7211, 'fiance': 7212, 'withdrawing': 7213, 'avoided': 7214, 'relative': 7215, 'dhaka': 7216, 'busted': 7217, 'compound': 7218, 'commuters': 7219, 'gig': 7220, 'dover': 7221, 'forming': 7222, 'profitability': 7223, 'cheaper': 7224, 'clinched': 7225, 'diamonds': 7226, 'bnp': 7227, 'monica': 7228, 'informs': 7229, 'croatian': 7230, 'driveby': 7231, 'bae': 7232, 'duchess': 7233, 'westminster': 7234, 'olmert': 7235, 'dementia': 7236, 'indictment': 7237, 'rodgers': 7238, 'combination': 7239, 'eventually': 7240, 'prosperity': 7241, 'ounce': 7242, 'slight': 7243, 'pitching': 7244, 'planting': 7245, 'hepatitis': 7246, 'designs': 7247, 'maradona': 7248, 'ike': 7249, 'anand': 7250, 'chandigarh': 7251, 'franco': 7252, 'shortages': 7253, 'christ': 7254, 'lansing': 7255, 'generations': 7256, 'spa': 7257, 'self': 7258, 'awaiting': 7259, 'halloween': 7260, 'crosby': 7261, 'collect': 7262, 'firmly': 7263, 'reactor': 7264, 'shook': 7265, 'disappeared': 7266, 'trio': 7267, 'sailing': 7268, 'exporter': 7269, 'formerly': 7270, 'crossborder': 7271, 'bloody': 7272, 'respectively': 7273, 'cocacola': 7274, 'polar': 7275, 'wellknown': 7276, 'hazardous': 7277, '93': 7278, 'klitschko': 7279, 'italys': 7280, 'bse': 7281, '135': 7282, 'groin': 7283, 'concludes': 7284, 'contempt': 7285, 'besides': 7286, 'requests': 7287, 'usual': 7288, 'ripped': 7289, 'raleigh': 7290, 'sunshine': 7291, 'booking': 7292, 'poultry': 7293, 'abraham': 7294, 'courtney': 7295, 'regard': 7296, 'virtually': 7297, 'automatic': 7298, 'albuquerque': 7299, 'physically': 7300, 'fairfax': 7301, '1600': 7302, 'cyclone': 7303, 'lone': 7304, 'harvey': 7305, 'famed': 7306, 'triumph': 7307, 'revolutionary': 7308, 'wheelchair': 7309, 'mri': 7310, 'industrys': 7311, 'painting': 7312, 'daniels': 7313, 'preston': 7314, 'aurora': 7315, '5th': 7316, 'stanford': 7317, 'bingo': 7318, 'gabrielle': 7319, 'toys': 7320, 'sexy': 7321, 'slower': 7322, 'arrangements': 7323, '16th': 7324, 'abbey': 7325, 'acid': 7326, 'outlet': 7327, 'havoc': 7328, 'clay': 7329, 'yacht': 7330, 'injures': 7331, '140': 7332, 'antony': 7333, 'appropriate': 7334, 'heating': 7335, 'minors': 7336, 'damon': 7337, 'propose': 7338, 'mls': 7339, 'kingfisher': 7340, 'reiterates': 7341, 'hilary': 7342, 'notorious': 7343, 'alassad': 7344, 'accreditation': 7345, 'highlight': 7346, 'grandfather': 7347, 'fragile': 7348, 'error': 7349, 'headline': 7350, 'punching': 7351, 'amidst': 7352, 'canberra': 7353, 'highlights': 7354, 'charts': 7355, 'stays': 7356, 'surrey': 7357, 'accessories': 7358, 'procedures': 7359, 'introduction': 7360, 'harm': 7361, 'groupon': 7362, 'widened': 7363, 'malcolm': 7364, 'blogger': 7365, 'chester': 7366, 'russians': 7367, 'bump': 7368, 'summers': 7369, 'uzbekistan': 7370, 'brave': 7371, 'consideration': 7372, 'fielder': 7373, 'vale': 7374, 'arcelormittal': 7375, 'ethiopian': 7376, 'malawi': 7377, 'ana': 7378, 'ashok': 7379, 'eggs': 7380, 'graduation': 7381, 'upside': 7382, 'reinstated': 7383, 'ak': 7384, 'monitors': 7385, 'boil': 7386, 'portable': 7387, 'laptops': 7388, 'turnover': 7389, 'travellers': 7390, 'oval': 7391, 'directions': 7392, 'gwyneth': 7393, 'paltrow': 7394, 'survivor': 7395, 'visas': 7396, 'entrance': 7397, 'micro': 7398, 'minerals': 7399, 'trademark': 7400, 'chartered': 7401, 'upheld': 7402, 'roethlisberger': 7403, 'ethanol': 7404, 'establishment': 7405, 'hemsworth': 7406, 'silent': 7407, '8th': 7408, '60th': 7409, 'highspeed': 7410, 'integrity': 7411, 'destruction': 7412, 'repay': 7413, 'outages': 7414, 'vandals': 7415, 'astronauts': 7416, 'westwood': 7417, 'telekom': 7418, 'jared': 7419, '8000': 7420, 'barrymore': 7421, 'urgent': 7422, 'safer': 7423, 'borrowers': 7424, 'reunite': 7425, 'barrels': 7426, 'travelers': 7427, 'wr': 7428, 'theory': 7429, '27yearold': 7430, 'pawlenty': 7431, 'expresses': 7432, 'bicycle': 7433, 'infections': 7434, 'familys': 7435, 'mayoral': 7436, 'payroll': 7437, 'constituency': 7438, 'adaptation': 7439, 'jackpot': 7440, 'bafana': 7441, 'stalled': 7442, 'humanity': 7443, 'embezzlement': 7444, 'lords': 7445, 'inches': 7446, 'devastated': 7447, 'pure': 7448, 'requiring': 7449, 'netflix': 7450, 'tighten': 7451, 'confirmation': 7452, 'jenkins': 7453, 'dock': 7454, 'irene': 7455, 'alltime': 7456, 'ramp': 7457, 'pepper': 7458, 'installation': 7459, 'casualties': 7460, 'nutrition': 7461, 'roots': 7462, 'blames': 7463, 'testimony': 7464, 'sewer': 7465, 'casting': 7466, 'scared': 7467, 'brewer': 7468, 'sailor': 7469, 'rajapaksa': 7470, 'dicaprio': 7471, 'pmln': 7472, 'islamist': 7473, 'jointly': 7474, 'undercover': 7475, 'neighbouring': 7476, 'certainly': 7477, 'example': 7478, 'provision': 7479, 'satisfaction': 7480, 'tanzania': 7481, 'dismissal': 7482, 'kerr': 7483, 'willie': 7484, 'syndrome': 7485, 'eid': 7486, 'neighbor': 7487, 'stance': 7488, 'herman': 7489, 'corporations': 7490, 'initially': 7491, 'shahid': 7492, 'poet': 7493, 'murders': 7494, 'gadhafi': 7495, 'resolved': 7496, 'upbeat': 7497, 'uprising': 7498, 'premises': 7499, 'initiated': 7500, 'immunity': 7501, 'burnt': 7502, 'happiness': 7503, 'bible': 7504, 'visual': 7505, 'redknapp': 7506, 'abduction': 7507, 'cavaliers': 7508, 'menu': 7509, 'persistent': 7510, 'obsessed': 7511, 'chess': 7512, 'rank': 7513, 'correctional': 7514, 'vic': 7515, 'bucks': 7516, 'wipro': 7517, 'berkeley': 7518, 'shannon': 7519, 'blunt': 7520, 'thirdquarter': 7521, 'hide': 7522, 'trent': 7523, '4s': 7524, 'mayweather': 7525, 'midlands': 7526, 'characters': 7527, 'nearing': 7528, 'mila': 7529, 'instruments': 7530, 'indicating': 7531, 'felix': 7532, 'hague': 7533, 'automakers': 7534, 'bracing': 7535, 'brunswick': 7536, 'alec': 7537, 'textile': 7538, 'burton': 7539, '03': 7540, 'flooded': 7541, 'bathroom': 7542, 'pcs': 7543, 'entrepreneur': 7544, 'kidman': 7545, 'lightweight': 7546, 'donor': 7547, '2003': 7548, 'cave': 7549, 'clemson': 7550, 'ceiling': 7551, 'factors': 7552, 'kurdish': 7553, 'cleric': 7554, 'reno': 7555, 'servants': 7556, 'trustees': 7557, 'minsk': 7558, 'songwriter': 7559, 'qualifiers': 7560, 'riots': 7561, 'tycoon': 7562, '26yearold': 7563, 'programming': 7564, 'motogp': 7565, 'accountability': 7566, 'founded': 7567, 'mcilroy': 7568, 'drain': 7569, 'chose': 7570, 'embattled': 7571, 'rutgers': 7572, 'bangladeshi': 7573, 'inventory': 7574, 'burnley': 7575, 'fullback': 7576, 'recognised': 7577, 'unfair': 7578, 'vista': 7579, 'ab': 7580, 'fourthquarter': 7581, 'operates': 7582, 'vegetables': 7583, 'zimmerman': 7584, 'linda': 7585, 'palo': 7586, 'infected': 7587, 'mode': 7588, 'fertilizer': 7589, 'wanderers': 7590, 'divisions': 7591, 'warship': 7592, 'opponent': 7593, 'boise': 7594, 'interesting': 7595, 'junction': 7596, 'yearold': 7597, 'tomas': 7598, 'lynn': 7599, 'earl': 7600, 'shiite': 7601, 'aliyev': 7602, 'flee': 7603, 'majors': 7604, 'angola': 7605, 'zurich': 7606, 'balanced': 7607, 'jeffrey': 7608, 'universitys': 7609, 'contemporary': 7610, 'tweeted': 7611, 'meth': 7612, 'bombers': 7613, 'sponsors': 7614, 'newt': 7615, 'occupation': 7616, 'rent': 7617, 'gingrich': 7618, 'larceny': 7619, 'bias': 7620, 'alzheimers': 7621, 'levi': 7622, 'rcmp': 7623, 'ibrahim': 7624, 'nationally': 7625, 'ria': 7626, 'melissa': 7627, '01': 7628, 'meltdown': 7629, 'funny': 7630, 'leafs': 7631, 'telecoms': 7632, '102': 7633, 'exceed': 7634, 'tenants': 7635, 'truly': 7636, 'mitsubishi': 7637, 'doctorate': 7638, 'obligations': 7639, '107': 7640, 'waive': 7641, 'strictly': 7642, 'exhibit': 7643, 'michel': 7644, 'suspending': 7645, 'soar': 7646, 'dodge': 7647, 'inspectors': 7648, 'morrison': 7649, 'holly': 7650, 'undergone': 7651, 'mercedes': 7652, 'chambers': 7653, 'piracy': 7654, 'negotiating': 7655, 'restart': 7656, 'davies': 7657, 'vandalism': 7658, 'rico': 7659, 'admit': 7660, 'imminent': 7661, 'workout': 7662, 'medication': 7663, 'lacrosse': 7664, 'antitrust': 7665, 'locker': 7666, 'critic': 7667, 'montag': 7668, 'upward': 7669, 'sabah': 7670, 'telstra': 7671, 'champ': 7672, 'arabian': 7673, 'starter': 7674, 'blackpool': 7675, 'torres': 7676, 'crops': 7677, 'cannes': 7678, 'indexes': 7679, 'minorities': 7680, 'ind': 7681, 'greenback': 7682, 'trash': 7683, 'purchasing': 7684, 'lashes': 7685, 'crist': 7686, 'holocaust': 7687, 'marched': 7688, 'nigel': 7689, 'nd': 7690, 'describing': 7691, 'accelerated': 7692, 'animation': 7693, 'nazi': 7694, 'taught': 7695, 'dale': 7696, 'wen': 7697, 'discusses': 7698, 'convert': 7699, 'sheboygan': 7700, 'telegraph': 7701, 'deportation': 7702, 'bonus': 7703, 'belonging': 7704, 'gerard': 7705, 'unite': 7706, '450': 7707, 'eli': 7708, 'landslide': 7709, 'acknowledged': 7710, 'pray': 7711, 'emily': 7712, 'lies': 7713, 'monument': 7714, '180': 7715, 'remainder': 7716, 'venue': 7717, 'kuala': 7718, 'kunis': 7719, '32yearold': 7720, 'consulate': 7721, 'firstround': 7722, 'baba': 7723, 'cathedral': 7724, 'sand': 7725, 'tornadoes': 7726, 'requirement': 7727, 'shower': 7728, 'sovereignty': 7729, 'wachovia': 7730, 'pike': 7731, 'busch': 7732, 'pot': 7733, 'sad': 7734, 'ronson': 7735, 'efron': 7736, 'luther': 7737, 'myrtle': 7738, 'bases': 7739, 'lorry': 7740, 'atlantis': 7741, 'mvp': 7742, 'scholarships': 7743, 'subdued': 7744, 'hindi': 7745, 'tiny': 7746, 'burden': 7747, 'mechanism': 7748, 'liquid': 7749, 'conservatives': 7750, 'martial': 7751, 'sanders': 7752, 'mentor': 7753, 'huffington': 7754, 'delegates': 7755, 'rebecca': 7756, 'qld': 7757, 'monster': 7758, 'deserve': 7759, 'volumes': 7760, 'spare': 7761, 'bt': 7762, 'ga': 7763, 'blockade': 7764, 'jorge': 7765, 'preview': 7766, 'infamous': 7767, 'lawn': 7768, 'respiratory': 7769, 'pietersen': 7770, 'defrauding': 7771, 'pierre': 7772, 'vast': 7773, 'muamba': 7774, 'beloved': 7775, 'caucus': 7776, 'disasters': 7777, 'halftime': 7778, 'marginally': 7779, 'zuckerberg': 7780, 'richest': 7781, 'diane': 7782, 'scanner': 7783, 'wembley': 7784, 'kilometres': 7785, 'mediterranean': 7786, 'alto': 7787, 'attracted': 7788, 'cambodia': 7789, 'plug': 7790, 'remarkable': 7791, 'evan': 7792, 'breakdown': 7793, 'didier': 7794, 'jse': 7795, 'silva': 7796, 'annually': 7797, 'tears': 7798, 'wooden': 7799, 'flexible': 7800, 'mw': 7801, 'counting': 7802, 'grabbed': 7803, 'rahman': 7804, 'uss': 7805, 'coup': 7806, 'tebow': 7807, 'cop': 7808, 'curtis': 7809, 'semi': 7810, 'shadow': 7811, 'radcliffe': 7812, 'episodes': 7813, 'hayden': 7814, 'penny': 7815, 'toshiba': 7816, 'shifted': 7817, 'lodge': 7818, 'wrapped': 7819, 'ministerial': 7820, 'dictator': 7821, 'dramatically': 7822, 'stint': 7823, 'cleaning': 7824, 'successor': 7825, 'nielsen': 7826, 'length': 7827, 'successive': 7828, 'brooke': 7829, 'fedex': 7830, 'afford': 7831, 'margins': 7832, 'findings': 7833, 'repeat': 7834, 'pakistanis': 7835, 'item': 7836, 'fannie': 7837, 'yield': 7838, 'lots': 7839, 'blaming': 7840, 'obese': 7841, 'rid': 7842, 'arrivals': 7843, 'deliberately': 7844, 'fm': 7845, 'aftermath': 7846, 'dynamics': 7847, 'budgets': 7848, 'caroline': 7849, 'uruguay': 7850, 'peacefully': 7851, 'fortune': 7852, 'javier': 7853, 'ti': 7854, 'belgrade': 7855, 'conan': 7856, 'eden': 7857, 'greeces': 7858, 'handsets': 7859, 'biological': 7860, 'difficulties': 7861, 'confirming': 7862, 'handing': 7863, 'territorial': 7864, 'impossible': 7865, 'narrowed': 7866, 'sao': 7867, '96': 7868, '1300': 7869, 'negotiate': 7870, 'highways': 7871, 'anchorage': 7872, 'vessels': 7873, 'disruption': 7874, 'secondquarter': 7875, 'walters': 7876, 'gavin': 7877, 'killings': 7878, 'logan': 7879, 'followers': 7880, 'stamp': 7881, 'prayers': 7882, 'contestant': 7883, 'transfers': 7884, 'prefers': 7885, 'hungry': 7886, 'letterman': 7887, 'productions': 7888, 'repeated': 7889, 'unilever': 7890, 'ubisoft': 7891, 'cattle': 7892, 'tory': 7893, 'derailed': 7894, 'bride': 7895, 'distance': 7896, 'opposes': 7897, 'gore': 7898, 'demonstrations': 7899, 'kuwaiti': 7900, 'scratched': 7901, 'iphones': 7902, 'protestors': 7903, 'color': 7904, 'deepika': 7905, 'dissident': 7906, 'chevrolet': 7907, 'savannah': 7908, 'achievements': 7909, 'responds': 7910, 'airasia': 7911, 'travolta': 7912, 'bishops': 7913, 'lautner': 7914, 'captures': 7915, 'height': 7916, 'mich': 7917, 'cabin': 7918, 'jermaine': 7919, 'incentive': 7920, 'pains': 7921, 'isaac': 7922, 'gallon': 7923, 'pratibha': 7924, 'haley': 7925, 'jd': 7926, 'statistical': 7927, 'mercer': 7928, 'dual': 7929, 'anz': 7930, 'intentionally': 7931, 'paypal': 7932, 'donors': 7933, 'aging': 7934, 'kamal': 7935, 'roses': 7936, 'serves': 7937, 'tonne': 7938, 'instant': 7939, 'roommate': 7940, 'admission': 7941, 'denying': 7942, 'par': 7943, 'placing': 7944, 'adobe': 7945, 'asiapacific': 7946, 'disgraced': 7947, 'pictured': 7948, 'thunderstorms': 7949, '00': 7950, 'respects': 7951, 'honolulu': 7952, 'forgery': 7953, 'choices': 7954, 'forests': 7955, 'gloucester': 7956, 'learnt': 7957, 'obtain': 7958, 'mayo': 7959, 'shepherd': 7960, 'explained': 7961, 'tipped': 7962, 'spike': 7963, 'accord': 7964, 'laboratories': 7965, 'injection': 7966, 'relationships': 7967, 'mln': 7968, 'carr': 7969, 'beirut': 7970, 'panic': 7971, 'legends': 7972, 'flick': 7973, 'steals': 7974, 'embezzling': 7975, 'vitamin': 7976, 'appearances': 7977, '50yearold': 7978, 'kg': 7979, 'freestyle': 7980, 'sandusky': 7981, 'discipline': 7982, 'renewal': 7983, 'macau': 7984, 'transformation': 7985, '1400': 7986, 'amateur': 7987, 'implications': 7988, 'millionaire': 7989, 'avoiding': 7990, 'xperia': 7991, 'junk': 7992, 'saeed': 7993, 'lea': 7994, 'himachal': 7995, 'splitting': 7996, 'daylight': 7997, 'cleanup': 7998, 'ambush': 7999, 'afridi': 8000, 'guantanamo': 8001, 'detection': 8002, 'unmanned': 8003, 'downloads': 8004, 'judgment': 8005, 'spectacular': 8006, 'biel': 8007, 'bottles': 8008, 'lockout': 8009, 'purse': 8010, 'mcdonnell': 8011, 'curry': 8012, 'basin': 8013, 'attendance': 8014, 'knightley': 8015, 'lecture': 8016, 'discussing': 8017, 'extremists': 8018, 'gradually': 8019, 'testified': 8020, 'novosti': 8021, 'strange': 8022, 'ugly': 8023, 'strokes': 8024, 'evaluation': 8025, 'adventure': 8026, 'treasure': 8027, 'audi': 8028, 'liberation': 8029, 'lowcost': 8030, 'imaging': 8031, 'sidney': 8032, 'owes': 8033, 'errors': 8034, '12yearold': 8035, 'reflect': 8036, 'harsh': 8037, 'il': 8038, 'kodak': 8039, 'relation': 8040, 'sultan': 8041, 'contamination': 8042, 'oneill': 8043, '106': 8044, 'notebook': 8045, 'experiences': 8046, 'relatively': 8047, 'dannii': 8048, 'represents': 8049, 'ceremonies': 8050, 'harlem': 8051, 'transparent': 8052, 'internationally': 8053, 'fletcher': 8054, 'flowers': 8055, '1800': 8056, 'types': 8057, 'rss': 8058, 'afghans': 8059, '201213': 8060, 'indices': 8061, 'contaminated': 8062, 'shetty': 8063, 'literature': 8064, 'nexus': 8065, 'fourday': 8066, 'sas': 8067, 'sight': 8068, 'showdown': 8069, 'heated': 8070, 'arguing': 8071, 'preparations': 8072, 'backyard': 8073, 'prodemocracy': 8074, 'anticorruption': 8075, 'marina': 8076, '98': 8077, 'honours': 8078, 'jaguar': 8079, 'sevilla': 8080, 'leonard': 8081, 'nickel': 8082, 'affirmed': 8083, 'aides': 8084, 'klum': 8085, 'anywhere': 8086, 'extradited': 8087, 'debris': 8088, 'von': 8089, 'freeagent': 8090, 'endangerment': 8091, 'webster': 8092, 'unanimous': 8093, 'sparking': 8094, 'hogan': 8095, 'litre': 8096, 'showers': 8097, 'commencement': 8098, 'escalating': 8099, 'committees': 8100, 'array': 8101, 'eager': 8102, 'kindle': 8103, 'bart': 8104, 'happens': 8105, '104': 8106, 'mali': 8107, 'lengthy': 8108, 'processor': 8109, 'provisions': 8110, 'overwhelming': 8111, 'owens': 8112, 'supervisor': 8113, 'conway': 8114, 'establishes': 8115, 'duff': 8116, 'reservoir': 8117, 'browser': 8118, 'thermal': 8119, 'favourites': 8120, 'abdominal': 8121, 'composite': 8122, 'fidel': 8123, 'stopping': 8124, 'gearing': 8125, 'cables': 8126, 'paterno': 8127, 'psychiatric': 8128, 'commitments': 8129, 'loud': 8130, 'fog': 8131, 'securing': 8132, 'attached': 8133, 'disclosure': 8134, 'classroom': 8135, 'outgoing': 8136, 'exploring': 8137, 'aground': 8138, 'expression': 8139, 'skies': 8140, 'metric': 8141, 'acted': 8142, 'wound': 8143, 'debuts': 8144, 'unemployed': 8145, 'ralph': 8146, 'soviet': 8147, 'auctions': 8148, 'lists': 8149, 'amir': 8150, 'hai': 8151, 'vaccines': 8152, 'impersonating': 8153, 'sitcom': 8154, 'sack': 8155, 'raided': 8156, 'tariffs': 8157, 'certified': 8158, 'contador': 8159, 'salmonella': 8160, 'venus': 8161, 'maldives': 8162, 'describes': 8163, 'huntsman': 8164, 'zach': 8165, 'complained': 8166, 'goody': 8167, 'fare': 8168, 'principles': 8169, 'albion': 8170, 'massa': 8171, 'lodged': 8172, 'jenna': 8173, 'database': 8174, 'letting': 8175, 'rumor': 8176, '9th': 8177, 'clarkson': 8178, 'daytime': 8179, 'katherine': 8180, 'valuation': 8181, 'finalized': 8182, 'focuses': 8183, 'highlighting': 8184, 'colleague': 8185, 'manipur': 8186, 'expires': 8187, 'egg': 8188, 'srinagar': 8189, 'appetite': 8190, 'gabriel': 8191, 'paint': 8192, 'teaming': 8193, 'conferences': 8194, 'preventing': 8195, 'tightened': 8196, 'dentist': 8197, 'lindsey': 8198, 'evolution': 8199, 'donovan': 8200, 'monte': 8201, 'forbes': 8202, 'hospitality': 8203, '7000': 8204, 'dipped': 8205, 'lined': 8206, 'activate': 8207, 'casinos': 8208, 'collide': 8209, 'lafayette': 8210, 'afc': 8211, 'socialist': 8212, 'pieces': 8213, 'uc': 8214, 'mayors': 8215, 'aj': 8216, 'mainstream': 8217, 'actively': 8218, 'deeply': 8219, 'ipswich': 8220, 'chapel': 8221, 'yang': 8222, 'exploitation': 8223, 'sort': 8224, 'augusta': 8225, 'lehigh': 8226, 'carries': 8227, 'dana': 8228, 'commons': 8229, 'mouse': 8230, 'bullying': 8231, 'headlines': 8232, 'bargaining': 8233, 'pepsico': 8234, 'builds': 8235, 'consent': 8236, 'generating': 8237, 'clinch': 8238, 'liga': 8239, 'binghamton': 8240, 'convinced': 8241, 'ehud': 8242, 'supervisors': 8243, 'lou': 8244, '112': 8245, 'spirits': 8246, 'conceded': 8247, 'gesture': 8248, 'bulk': 8249, 'partly': 8250, 'destroying': 8251, 'methods': 8252, 'whatever': 8253, 'tumble': 8254, 'breaching': 8255, 'entertainer': 8256, 'chesapeake': 8257, 'treating': 8258, 'copa': 8259, 'batteries': 8260, 'audiences': 8261, 'grande': 8262, '35yearold': 8263, 'wifes': 8264, 'mlb': 8265, 'expense': 8266, 'witnessed': 8267, 'disorders': 8268, 'laureate': 8269, 'inner': 8270, 'deploy': 8271, 'copyright': 8272, 'ducks': 8273, 'surrendered': 8274, 'jenny': 8275, 'patience': 8276, 'mrs': 8277, 'disappointment': 8278, 'enjoys': 8279, 'shia': 8280, 'aloud': 8281, 'cure': 8282, 'campaigning': 8283, 'highlands': 8284, 'temperature': 8285, 'comcast': 8286, 'uncle': 8287, 'disposal': 8288, 'doha': 8289, 'dancer': 8290, 'rai': 8291, 'kickoff': 8292, 'astana': 8293, 'drills': 8294, 'cease': 8295, 'slovakia': 8296, 'denise': 8297, 'disturbance': 8298, 'afraid': 8299, 'attitude': 8300, 'migrant': 8301, 'bearish': 8302, 'alley': 8303, 'johan': 8304, 'victorias': 8305, 'longawaited': 8306, 'spots': 8307, 'nonstop': 8308, 'knights': 8309, 'bass': 8310, 'directing': 8311, 'aust': 8312, 'skilled': 8313, 'shahbaz': 8314, 'examine': 8315, 'telangana': 8316, 'wesley': 8317, 'monaco': 8318, 'ftse': 8319, 'omalley': 8320, 'moose': 8321, '2g': 8322, 'thefts': 8323, 'rouge': 8324, 'invite': 8325, 'keira': 8326, 'leigh': 8327, 'colbert': 8328, 'graphics': 8329, 'shrank': 8330, 'accelerate': 8331, 'rocks': 8332, 'samajwadi': 8333, 'clearly': 8334, 'triggering': 8335, 'odi': 8336, 'refuge': 8337, 'ranging': 8338, 'wholly': 8339, 'competitiveness': 8340, '2018': 8341, 'knoxville': 8342, 'motorist': 8343, 'bizarre': 8344, 'advisors': 8345, 'concentrate': 8346, 'searched': 8347, 'mob': 8348, 'epidemic': 8349, '9000': 8350, 'llp': 8351, 'chan': 8352, 'raceway': 8353, 'peruvian': 8354, 'buenos': 8355, 'aires': 8356, 'musicians': 8357, 'intoxication': 8358, 'heathrow': 8359, 'putnam': 8360, 'bite': 8361, 'literacy': 8362, 'spelling': 8363, 'peers': 8364, 'yy': 8365, 'movements': 8366, 'elects': 8367, 'aleague': 8368, 'carpenter': 8369, 'ranbir': 8370, 'en': 8371, '103': 8372, 'aquino': 8373, 'consultations': 8374, 'separated': 8375, 'alexandra': 8376, 'persian': 8377, '630': 8378, 'apologise': 8379, '750': 8380, 'chandler': 8381, 'priorities': 8382, 'follows': 8383, 'lesson': 8384, 'curfew': 8385, 'churches': 8386, 'tightening': 8387, 'fontana': 8388, 'guinness': 8389, 'surgical': 8390, 'opted': 8391, 'shortterm': 8392, 'girlfriends': 8393, 'powered': 8394, 'unsecured': 8395, 'neighbour': 8396, 'highland': 8397, 'isolated': 8398, 'freak': 8399, 'shriver': 8400, 'slim': 8401, 'balls': 8402, 'booming': 8403, 'gp': 8404, 'surging': 8405, 'hangs': 8406, 'odonnell': 8407, 'bruised': 8408, 'borrow': 8409, 'hon': 8410, 'ashore': 8411, 'automated': 8412, 'snack': 8413, 'bikini': 8414, 'kylie': 8415, 'thatcher': 8416, 'dining': 8417, 'surf': 8418, 'abandon': 8419, '115': 8420, 'jessie': 8421, 'ecb': 8422, 'cavendish': 8423, 'quietly': 8424, 'nike': 8425, 'stupid': 8426, 'norton': 8427, 'bedroom': 8428, 'fiber': 8429, 'paribas': 8430, 'nate': 8431, 'ritchie': 8432, 'rewards': 8433, 'touching': 8434, 'gunfire': 8435, 'salisbury': 8436, 'nolan': 8437, 'tajikistan': 8438, 'settlers': 8439, 'kit': 8440, 'trim': 8441, 'newsday': 8442, 'bulldogs': 8443, 'salon': 8444, 'listen': 8445, 'lumpur': 8446, 'bypass': 8447, 'establishing': 8448, 'yeddyurappa': 8449, 'shifting': 8450, 'tier': 8451, 'divided': 8452, 'physicians': 8453, 'otherwise': 8454, 'workshops': 8455, 'julius': 8456, 'bolivia': 8457, 'conjunction': 8458, 'novelist': 8459, 'bestselling': 8460, 'breakaway': 8461, 'convoy': 8462, 'joke': 8463, '150000': 8464, 'belarusian': 8465, 'seemed': 8466, 'amongst': 8467, 'spate': 8468, 'insight': 8469, '13yearold': 8470, 'steering': 8471, 'breathing': 8472, 'desk': 8473, 'mozambique': 8474, 'outreach': 8475, 'ligament': 8476, 'grizzlies': 8477, 'lovers': 8478, 'subsidy': 8479, 'procurement': 8480, 'whip': 8481, 'liberals': 8482, 'architect': 8483, 'pharma': 8484, 'firearm': 8485, 'prisons': 8486, 'lifting': 8487, 'paralympic': 8488, 'corridor': 8489, 'mtn': 8490, 'northampton': 8491, 'onevehicle': 8492, 'attracting': 8493, 'moammar': 8494, 'g20': 8495, 'fraudulent': 8496, 'mounted': 8497, 'schalke': 8498, 'concessions': 8499, 'albania': 8500, 'washing': 8501, 'dominate': 8502, 'bosnian': 8503, 'outcome': 8504, 'autobiography': 8505, 'rao': 8506, 'stray': 8507, 'multinational': 8508, 'biotechnology': 8509, 'prolonged': 8510, 'banker': 8511, 'versions': 8512, 'copies': 8513, 'sinking': 8514, 'hudgens': 8515, 'transform': 8516, '730': 8517, 'talented': 8518, 'sounds': 8519, 'repurchase': 8520, 'laurent': 8521, 'canterbury': 8522, 'fault': 8523, 'absolute': 8524, 'tube': 8525, 'attends': 8526, 'kendra': 8527, 'exboyfriend': 8528, 'principle': 8529, 'refuse': 8530, 'marvel': 8531, 'boot': 8532, 'soared': 8533, 'undefeated': 8534, 'wellness': 8535, 'husbands': 8536, 'aer': 8537, '08': 8538, 'condemn': 8539, 'chaudhry': 8540, 'spying': 8541, 'eliminating': 8542, 'booker': 8543, 'drogba': 8544, 'demolished': 8545, 'jackets': 8546, 'continuous': 8547, 'incredible': 8548, 'mellon': 8549, 'watford': 8550, 'banner': 8551, 'hillsborough': 8552, 'restoration': 8553, 'bon': 8554, 'livestock': 8555, 'julio': 8556, 'condolences': 8557, 'leaking': 8558, 'pedro': 8559, 'detailed': 8560, 'surfer': 8561, 'radar': 8562, 'lotus': 8563, 'webb': 8564, 'ammunition': 8565, 'macquarie': 8566, 'pork': 8567, 'snowmobile': 8568, 'eyeing': 8569, 'crushing': 8570, 'sprinter': 8571, 'kissing': 8572, 'robertson': 8573, '230': 8574, 'knockout': 8575, 'weighing': 8576, 'sonic': 8577, 'comparison': 8578, 'mgm': 8579, 'checking': 8580, 'precision': 8581, 'measuring': 8582, 'rubbish': 8583, 'boxes': 8584, 'lucrative': 8585, 'medalist': 8586, 'bread': 8587, 'aggregate': 8588, 'hazard': 8589, 'supposed': 8590, 'landfall': 8591, 'longrunning': 8592, 'pubs': 8593, 'dwight': 8594, 'mayawati': 8595, 'wis': 8596, 'googles': 8597, 'bayer': 8598, 'beck': 8599, 'flows': 8600, 'murderer': 8601, 'ossetia': 8602, 'narcotics': 8603, 'rivera': 8604, 'magazines': 8605, 'ho': 8606, 'intimate': 8607, 'categories': 8608, 'speakers': 8609, 'hurdle': 8610, 'brazils': 8611, 'animated': 8612, 'cumberland': 8613, 'slapped': 8614, 'dealt': 8615, 'boone': 8616, 'happening': 8617, 'conflicts': 8618, 'assess': 8619, 'surrounded': 8620, 'indication': 8621, 'shoaib': 8622, 'protested': 8623, 'intelligent': 8624, 'realty': 8625, 'sears': 8626, 'anticipation': 8627, 'leone': 8628, 'experiencing': 8629, 'disability': 8630, 'kay': 8631, 'airspace': 8632, 'colon': 8633, 'consultants': 8634, 'rupees': 8635, 'offenses': 8636, 'column': 8637, 'scherzinger': 8638, 'joan': 8639, 'carol': 8640, 'bermuda': 8641, 'stakeholders': 8642, 'bribes': 8643, 'meal': 8644, 'mcdonald': 8645, 'affirms': 8646, 'misleading': 8647, 'upsets': 8648, 'detect': 8649, 'habitat': 8650, 'ramdev': 8651, 'braced': 8652, '38yearold': 8653, 'keane': 8654, 'shelves': 8655, 'clara': 8656, 'spreads': 8657, 'barely': 8658, 'snyder': 8659, 'boutique': 8660, 'corrupt': 8661, 'smokers': 8662, 'galway': 8663, 'regina': 8664, 'refinancing': 8665, 'locals': 8666, 'sections': 8667, 'collaborate': 8668, 'evil': 8669, 'hints': 8670, 'jiabao': 8671, 'tymoshenko': 8672, 'brighton': 8673, 'identifying': 8674, 'nano': 8675, 'lure': 8676, 'allamerican': 8677, 'neither': 8678, 'oj': 8679, 'languages': 8680, 'brit': 8681, 'duck': 8682, 'baron': 8683, 'goodbye': 8684, 'spokane': 8685, 'benghazi': 8686, 'jude': 8687, 'verge': 8688, 'sands': 8689, 'colonial': 8690, 'homage': 8691, 'labourers': 8692, 'mirren': 8693, 'auctioned': 8694, 'tunisian': 8695, 'contrary': 8696, 'pawar': 8697, 'methodist': 8698, 'sinks': 8699, 'flies': 8700, 'graffiti': 8701, 'slashes': 8702, 'surges': 8703, 'enrichment': 8704, 'garner': 8705, 'steroids': 8706, 'gateway': 8707, 'deliveries': 8708, 'barred': 8709, 'passion': 8710, 'quincy': 8711, 'strongest': 8712, 'helm': 8713, 'instructor': 8714, 'patricks': 8715, 'conglomerate': 8716, 'turtle': 8717, 'cpi': 8718, 'articles': 8719, 'twovehicle': 8720, 'capped': 8721, 'theaters': 8722, 'erin': 8723, 'inform': 8724, 'waiver': 8725, 'intercontinental': 8726, 'boulder': 8727, 'ensuring': 8728, 'wore': 8729, 'weaken': 8730, '11yearold': 8731, 'hulk': 8732, '600000': 8733, 'emerges': 8734, 'frequent': 8735, 'memorandum': 8736, 'connectivity': 8737, 'shawn': 8738, 'enemies': 8739, 'honduras': 8740, 'tsx': 8741, 'cheltenham': 8742, 'samoa': 8743, 'worsening': 8744, 'lover': 8745, 'dwi': 8746, 'phillip': 8747, 'math': 8748, 'cohost': 8749, 'cutler': 8750, 'militia': 8751, 'cows': 8752, 'custom': 8753, 'nassau': 8754, 'diva': 8755, 'petty': 8756, 'emails': 8757, 'kristin': 8758, 'surpassed': 8759, 'historian': 8760, 'rooms': 8761, 'snake': 8762, 'heineken': 8763, 'finalist': 8764, 'commuter': 8765, 'chevron': 8766, 'decreased': 8767, 'bentley': 8768, 'rotary': 8769, 'halfway': 8770, 'bacteria': 8771, 'everywhere': 8772, 'choppy': 8773, 'kazakh': 8774, 'stunned': 8775, 'towers': 8776, 'donating': 8777, 'experimental': 8778, 'lucknow': 8779, 'resistances': 8780, 'contacts': 8781, 'â': 8782, 'chains': 8783, 'perdue': 8784, 'hook': 8785, '06': 8786, 'porsche': 8787, '200m': 8788, 'modified': 8789, 'hitachi': 8790, 'driveway': 8791, 'piper': 8792, 'console': 8793, 'architecture': 8794, 'freezing': 8795, 'hancock': 8796, 'integrate': 8797, 'reopening': 8798, 'gareth': 8799, 'polanski': 8800, 'tina': 8801, 'lowe': 8802, 'rescuers': 8803, 'twenty': 8804, 'karan': 8805, 'billings': 8806, 'aa': 8807, 'yearonyear': 8808, 'alonso': 8809, 'knock': 8810, 'saga': 8811, 'pretoria': 8812, 'harder': 8813, 'ideal': 8814, 'lilly': 8815, 'taxation': 8816, 'freezes': 8817, 'dunn': 8818, 'grip': 8819, 'fence': 8820, 'demonstrate': 8821, 'wrongful': 8822, 'commemorate': 8823, 'macon': 8824, 'arbor': 8825, 'mineral': 8826, 'sellers': 8827, 'incorporated': 8828, 'pleasant': 8829, 'territories': 8830, 'oilers': 8831, 'blown': 8832, 'frontline': 8833, 'automobile': 8834, 'lend': 8835, 'payne': 8836, 'rawalpindi': 8837, 'buck': 8838, 'guarantees': 8839, 'contracted': 8840, 'marilyn': 8841, 'lufthansa': 8842, 'vat': 8843, 'marred': 8844, 'highlighted': 8845, 'aquarium': 8846, 'restoring': 8847, 'ventura': 8848, 'coldplay': 8849, 'relevant': 8850, 'machinery': 8851, 'knocks': 8852, 'apprentice': 8853, 'bullets': 8854, 'cory': 8855, '145': 8856, 'issuer': 8857, 'aretha': 8858, 'furious': 8859, 'totally': 8860, 'employed': 8861, 'colour': 8862, 'coroners': 8863, 'basu': 8864, 'icy': 8865, 'baton': 8866, 'widens': 8867, 'venues': 8868, 'synthetic': 8869, 'demonstrated': 8870, 'alexandria': 8871, 'banquet': 8872, 'congo': 8873, 'surfaced': 8874, 'bloom': 8875, 'shipment': 8876, 'separation': 8877, 'slashing': 8878, 'revamped': 8879, 'missions': 8880, 'directorial': 8881, 'dundee': 8882, 'msnbc': 8883, 'swimmer': 8884, 'groundbreaking': 8885, 'polk': 8886, 'delaying': 8887, 'underlying': 8888, 'outskirts': 8889, 'jam': 8890, 'rated': 8891, 'ramesh': 8892, 'warships': 8893, 'mahendra': 8894, 'cricketers': 8895, 'topeka': 8896, 'aliens': 8897, 'patrols': 8898, 'akron': 8899, 'indicate': 8900, 'tone': 8901, 'wildfires': 8902, 'leno': 8903, 'mitch': 8904, 'fayetteville': 8905, 'daly': 8906, 'pedestrians': 8907, 'everybody': 8908, 'downing': 8909, '1960s': 8910, 'enables': 8911, 'premieres': 8912, 'timor': 8913, 'rodney': 8914, 'conditioning': 8915, '10year': 8916, 'paulson': 8917, '111': 8918, 'panda': 8919, 'oral': 8920, 'noting': 8921, 'bigg': 8922, 'usage': 8923, 'pocket': 8924, 'predicting': 8925, 'guild': 8926, 'widow': 8927, 'heres': 8928, 'wouldbe': 8929, 'cherokee': 8930, 'roanoke': 8931, 'dawson': 8932, 'trafford': 8933, 'gadkari': 8934, 'iris': 8935, 'bosnia': 8936, 'hacker': 8937, 'starred': 8938, 'interviewed': 8939, 'attendant': 8940, 'flame': 8941, 'spark': 8942, 'dumping': 8943, 'lagos': 8944, 'looming': 8945, 'duet': 8946, 'jews': 8947, 'slugger': 8948, 'elsewhere': 8949, 'troubles': 8950, 'keeper': 8951, 'frederick': 8952, 'honoring': 8953, 'sim': 8954, 'fiancee': 8955, '40yearold': 8956, 'shirley': 8957, 'marcos': 8958, 'comfort': 8959, 'ilham': 8960, 'moratorium': 8961, 'airtran': 8962, 'touches': 8963, 'graphic': 8964, 'hostages': 8965, 'pursuing': 8966, 'prom': 8967, 'fraser': 8968, 'recognizes': 8969, 'imperial': 8970, 'stormed': 8971, 'madden': 8972, 'mickey': 8973, 'tariff': 8974, 'hearings': 8975, 'polio': 8976, 'interviews': 8977, 'prostitute': 8978, 'seth': 8979, 'homer': 8980, 'lockheed': 8981, 'anaheim': 8982, 'unlawful': 8983, 'ballistic': 8984, 'disrupt': 8985, 'devon': 8986, 'postpone': 8987, 'sbi': 8988, 'olivia': 8989, 'multimedia': 8990, 'burglars': 8991, 'snowfall': 8992, 'mosley': 8993, 'overturns': 8994, 'filmed': 8995, 'screens': 8996, '07': 8997, 'filling': 8998, 'meredith': 8999, 'leinster': 9000, 'injunction': 9001, 'berkshire': 9002, 'turnout': 9003, 'catastrophic': 9004, '39yearold': 9005, 'pitched': 9006, 'crusaders': 9007, 'livingston': 9008, 'ear': 9009, 'credited': 9010, 'lap': 9011, 'kourtney': 9012, 'richter': 9013, 'exist': 9014, 'jacksons': 9015, 'firstever': 9016, 'mastercard': 9017, 'reaffirmed': 9018, 'backdrop': 9019, 'havana': 9020, 'allied': 9021, 'hayes': 9022, 'jokes': 9023, 'shake': 9024, 'underwear': 9025, 'auditorium': 9026, 'enabling': 9027, 'goalless': 9028, 'ukbased': 9029, 'jacobs': 9030, 'sewage': 9031, 'situations': 9032, 'kandahar': 9033, 'canton': 9034, 'sheep': 9035, '24th': 9036, 'peas': 9037, 'twoweek': 9038, 'dish': 9039, 'shelton': 9040, 'bassist': 9041, 'webcast': 9042, 'splash': 9043, 'paraguay': 9044, 'prof': 9045, 'fastgrowing': 9046, 'mahinda': 9047, 'catching': 9048, 'explorer': 9049, 'boca': 9050, 'concord': 9051, 'feelings': 9052, 'yusuf': 9053, 'candidacy': 9054, 'wrongly': 9055, 'mound': 9056, 'overwhelmingly': 9057, 'concession': 9058, 'emc': 9059, 'collapsing': 9060, 'pacers': 9061, 'sanctuary': 9062, 'christine': 9063, 'connecting': 9064, 'panama': 9065, 'virtualization': 9066, 'cosmetic': 9067, 'bow': 9068, 'impressed': 9069, 'styles': 9070, 'tactics': 9071, 'camden': 9072, 'qualcomm': 9073, 'vegetable': 9074, 'powder': 9075, 'gamble': 9076, 'onetime': 9077, 'huckabee': 9078, 'carlyle': 9079, 'twoyearold': 9080, 'smallest': 9081, 'reversing': 9082, 'downgrade': 9083, 'inch': 9084, 'bloc': 9085, 'committing': 9086, 'nixon': 9087, 'geological': 9088, 'jaipur': 9089, 'hurley': 9090, 'designers': 9091, 'incs': 9092, 'achieving': 9093, 'neighboring': 9094, 'observer': 9095, 'stuff': 9096, 'hewlettpackard': 9097, 'strauss': 9098, 'hates': 9099, 'alcoholic': 9100, 'endorsing': 9101, 'roland': 9102, 'understands': 9103, 'institutes': 9104, 'perjury': 9105, 'rear': 9106, 'tide': 9107, 'slumped': 9108, 'fantastic': 9109, 'tab': 9110, 'deepening': 9111, 'eminem': 9112, 'maid': 9113, 'balloon': 9114, 'havent': 9115, 'nvidia': 9116, 'icahn': 9117, 'cornell': 9118, 'clint': 9119, 'cornwall': 9120, 'skier': 9121, 'speedy': 9122, 'garrett': 9123, 'affects': 9124, 'upholds': 9125, 'warne': 9126, 'reinstate': 9127, 'halts': 9128, 'bluray': 9129, 'achieves': 9130, 'saskatoon': 9131, 'builders': 9132, 'amended': 9133, 'promotional': 9134, 'module': 9135, 'joplin': 9136, 'upstate': 9137, 'eclipse': 9138, 'greenville': 9139, 'disqualified': 9140, 'downward': 9141, 'touchdown': 9142, 'conclusion': 9143, 'aka': 9144, 'obstruction': 9145, 'seaside': 9146, 'boating': 9147, 'hotspur': 9148, 'africans': 9149, 'timing': 9150, 'cubic': 9151, 'harare': 9152, 'fundamental': 9153, 'bahamas': 9154, 'intensify': 9155, 'worry': 9156, 'jong': 9157, 'princeton': 9158, 'modestly': 9159, 'prasad': 9160, 'predators': 9161, 'exceeded': 9162, 'ups': 9163, 'twist': 9164, 'knifepoint': 9165, 'indicators': 9166, 'highlevel': 9167, 'betterthanexpected': 9168, 'paddy': 9169, 'manufacture': 9170, 'wbo': 9171, 'landfill': 9172, 'hung': 9173, 'patterson': 9174, 'lit': 9175, 'cruces': 9176, 'shrine': 9177, 'tripura': 9178, '42yearold': 9179, 'seizes': 9180, 'elimination': 9181, 'comply': 9182, 'asias': 9183, 'calf': 9184, 'nitin': 9185, 'israelis': 9186, 'legally': 9187, 'lowering': 9188, 'dismiss': 9189, 'crowe': 9190, 'se': 9191, 'credible': 9192, '31st': 9193, 'surprisingly': 9194, 'bipartisan': 9195, 'lille': 9196, 'deeper': 9197, 'jamaican': 9198, 'mid': 9199, 'roddick': 9200, 'gotten': 9201, '70000': 9202, 'contributed': 9203, 'aerial': 9204, 'atp': 9205, 'flynn': 9206, 'mcafee': 9207, 'sotomayor': 9208, 'oconnor': 9209, 'mahama': 9210, 'scenario': 9211, 'bidding': 9212, 'usher': 9213, 'terrible': 9214, 'scrutiny': 9215, 'soybean': 9216, 'immune': 9217, 'mentioned': 9218, 'enrollment': 9219, 'standout': 9220, 'candy': 9221, '27th': 9222, 'tbilisi': 9223, 'deadliest': 9224, 'interface': 9225, 'negligent': 9226, 'revoked': 9227, 'tna': 9228, 'processors': 9229, 'cohen': 9230, 'penelope': 9231, 'jerome': 9232, 'slaying': 9233, 'regulate': 9234, 'lpga': 9235, 'goodman': 9236, 'cooling': 9237, 'churchill': 9238, 'penske': 9239, 'conversation': 9240, 'closures': 9241, 'coordination': 9242, '108': 9243, 'outing': 9244, 'attacker': 9245, 'memoir': 9246, 'background': 9247, 'discounts': 9248, 'iv': 9249, 'apollo': 9250, 'bahraini': 9251, 'pill': 9252, 'swimmers': 9253, 'airstrike': 9254, 'dev': 9255, 'ahmedabad': 9256, 'slalom': 9257, 'elephants': 9258, 'sacred': 9259, 'spinal': 9260, 'poster': 9261, 'diverted': 9262, 'fibre': 9263, 'brigade': 9264, 'pools': 9265, 'mammoth': 9266, 'mickelson': 9267, 'lifeline': 9268, 'dividends': 9269, 'businessmen': 9270, 'stun': 9271, 'ipads': 9272, 'greens': 9273, 'edwin': 9274, 'alba': 9275, 'youngster': 9276, 'observe': 9277, 'gibb': 9278, 'react': 9279, 'impaired': 9280, 'inaugurates': 9281, 'pistons': 9282, 'optical': 9283, 'carney': 9284, 'grey': 9285, 'appalachian': 9286, 'adequate': 9287, 'forestry': 9288, 'aviva': 9289, 'cardiovascular': 9290, 'unwanted': 9291, 'affiliated': 9292, 'playground': 9293, 'harding': 9294, 'tenure': 9295, 'relocate': 9296, 'drones': 9297, 'grades': 9298, 'jc': 9299, 'blocking': 9300, 'slot': 9301, 'festivals': 9302, 'beverage': 9303, 'byrd': 9304, 'competitors': 9305, 'arrow': 9306, 'ft': 9307, 'gutted': 9308, 'cry': 9309, 'seals': 9310, 'sedan': 9311, 'paving': 9312, 'benson': 9313, 'viktor': 9314, 'senegal': 9315, 'shilpa': 9316, 'properly': 9317, 'hiked': 9318, 'memories': 9319, 'supermarkets': 9320, 'staging': 9321, 'lied': 9322, 'kaif': 9323, 'embrace': 9324, 'blizzard': 9325, 'intensified': 9326, 'brewing': 9327, 'improper': 9328, 'cafe': 9329, 'hospice': 9330, 'lauderdale': 9331, 'ordering': 9332, 'extinction': 9333, 'deserved': 9334, 'realtime': 9335, '22nd': 9336, 'panetta': 9337, '28th': 9338, 'sixmonth': 9339, 'sienna': 9340, 'regret': 9341, 'organ': 9342, 'opposing': 9343, 'rey': 9344, 'sights': 9345, 'closet': 9346, 'premiums': 9347, 'breached': 9348, 'batman': 9349, 'superhero': 9350, 'beau': 9351, 'vogue': 9352, 'expressing': 9353, 'connections': 9354, 'mcdonalds': 9355, 'est': 9356, 'chhattisgarh': 9357, 'landlord': 9358, 'racket': 9359, '200809': 9360, 'indy': 9361, 'spared': 9362, 'trinamool': 9363, 'promoter': 9364, 'gainesville': 9365, 'cellphone': 9366, 'aishwarya': 9367, 'widening': 9368, 'searches': 9369, 'byrne': 9370, 'grains': 9371, 'hardy': 9372, 'balcony': 9373, 'rosa': 9374, 'khyber': 9375, 'humane': 9376, 'thermo': 9377, 'lucie': 9378, 'upto': 9379, 'rings': 9380, 'journalism': 9381, 'wonderful': 9382, 'imposes': 9383, 'brilliant': 9384, 'rescheduled': 9385, 'worcester': 9386, 'supervision': 9387, 'inked': 9388, 'bhutto': 9389, 'trips': 9390, 'diversified': 9391, 'hoffman': 9392, 'bronx': 9393, 'flower': 9394, 'sail': 9395, 'unesco': 9396, 'cis': 9397, 'eleven': 9398, 'akhtar': 9399, 'lithuania': 9400, 'aluminum': 9401, 'helena': 9402, 'armenians': 9403, 'killers': 9404, 'pianist': 9405, 'schmidt': 9406, 'swayze': 9407, 'burger': 9408, 'negotiators': 9409, 'balochistan': 9410, 'commenced': 9411, 'drowning': 9412, '1970s': 9413, 'proving': 9414, 'dustin': 9415, 'spiderman': 9416, 'climbs': 9417, 'knocking': 9418, 'amend': 9419, 'suburbs': 9420, 'capsizes': 9421, 'kia': 9422, 'stuttgart': 9423, 'forget': 9424, 'divers': 9425, 'marseille': 9426, 'collides': 9427, 'plunges': 9428, 'budapest': 9429, 'a380': 9430, 'basement': 9431, 'dirt': 9432, 'ep': 9433, 'relegated': 9434, 'scottsdale': 9435, 'middlesbrough': 9436, 'loyal': 9437, 'frame': 9438, 'buccaneers': 9439, 'mirror': 9440, 'runaway': 9441, 'tense': 9442, 'crow': 9443, 'ulster': 9444, 'vicious': 9445, 'seasonally': 9446, 'rita': 9447, '1700': 9448, 'pupil': 9449, 'emission': 9450, 'firsthalf': 9451, 'daryl': 9452, 'owing': 9453, 'barker': 9454, 'patriotic': 9455, 'entirely': 9456, 'exchanged': 9457, 'dismal': 9458, 'iranians': 9459, 'corey': 9460, 'displays': 9461, 'decisive': 9462, 'please': 9463, 'sgt': 9464, '100m': 9465, 'lingering': 9466, 'ala': 9467, 'threetime': 9468, 'belong': 9469, 'mideast': 9470, 'dominant': 9471, 'xavier': 9472, 'butt': 9473, 'taxpayer': 9474, 'jihad': 9475, 'nicholas': 9476, 'cocoa': 9477, 'norms': 9478, 'flats': 9479, 'correct': 9480, 'limiting': 9481, 'stephanie': 9482, 'pleas': 9483, 'expired': 9484, 'rejecting': 9485, 'hydrogen': 9486, 'politically': 9487, 'irrigation': 9488, 'slipping': 9489, 'explosions': 9490, 'bhopal': 9491, 'rumored': 9492, 'fabrice': 9493, 'shores': 9494, 'proves': 9495, 'smashing': 9496, 'merit': 9497, 'stab': 9498, 'jaime': 9499, 'bikes': 9500, 'eugene': 9501, 'fisheries': 9502, 'lng': 9503, 'indycar': 9504, 'rainbow': 9505, 'funded': 9506, 'insurgency': 9507, 'tow': 9508, 'caucasus': 9509, 'dust': 9510, 'televised': 9511, 'courtesy': 9512, 'nda': 9513, 'landscape': 9514, 'truce': 9515, 'pumps': 9516, 'gears': 9517, '47yearold': 9518, 'cord': 9519, 'pearson': 9520, 'ariz': 9521, 'solomon': 9522, 'runners': 9523, 'righthanded': 9524, 'tomorrows': 9525, 'topic': 9526, 'shifts': 9527, 'tables': 9528, 'corrections': 9529, 'mistakenly': 9530, 'pyongyang': 9531, '2017': 9532, 'tired': 9533, 'basket': 9534, 'collecting': 9535, 'vonn': 9536, 'hottest': 9537, 'karunanidhi': 9538, 'sania': 9539, 'contention': 9540, 'weeklong': 9541, 'ronald': 9542, 'guaranteed': 9543, 'shrink': 9544, 'wears': 9545, 'orthodox': 9546, 'reagan': 9547, 'leaf': 9548, 'motorway': 9549, 'niger': 9550, 'circus': 9551, 'psychological': 9552, 'trauma': 9553, 'papua': 9554, 'handful': 9555, 'grab': 9556, 'publics': 9557, 'carla': 9558, 'luiz': 9559, 'growers': 9560, 'staples': 9561, 'switched': 9562, 'java': 9563, 'casual': 9564, 'candlestick': 9565, 'lin': 9566, 'licences': 9567, 'jindal': 9568, 'footprint': 9569, 'harold': 9570, 'whales': 9571, 'hijack': 9572, 'lingus': 9573, 'wolfsburg': 9574, 'nordic': 9575, 'shelf': 9576, 'stallone': 9577, 'physician': 9578, 'booth': 9579, 'viewing': 9580, 'hitler': 9581, 'pared': 9582, 'generally': 9583, 'onboard': 9584, 'malibu': 9585, 'darling': 9586, 'jain': 9587, 'olive': 9588, 'divorced': 9589, 'dickinson': 9590, 'confidential': 9591, 'credentials': 9592, 'quota': 9593, 'rampage': 9594, 'impending': 9595, 'sundance': 9596, 'chasing': 9597, 'facts': 9598, 'clock': 9599, 'holes': 9600, 'liz': 9601, 'debit': 9602, '220': 9603, '113': 9604, 'reshuffle': 9605, 'sophomore': 9606, 'continent': 9607, 'primarily': 9608, 'reads': 9609, 'oreilly': 9610, 'atmosphere': 9611, 'rockers': 9612, 'nicky': 9613, 'slept': 9614, 'secretarygeneral': 9615, 'dynamo': 9616, 'motivated': 9617, 'timberwolves': 9618, 'participated': 9619, 'glamour': 9620, 'selloff': 9621, 'nagar': 9622, 'acceptance': 9623, 'herbert': 9624, 'registry': 9625, '3yearold': 9626, 'fergie': 9627, 'brutally': 9628, 'meyer': 9629, 'patriot': 9630, 'suarez': 9631, 'aluminium': 9632, 'prevented': 9633, 'breaches': 9634, 'punish': 9635, 'mosquito': 9636, 'ankara': 9637, 'fiction': 9638, 'dealerships': 9639, 'lazio': 9640, 'handgun': 9641, 'colony': 9642, '14000': 9643, 'therefore': 9644, 'iraqs': 9645, 'paternity': 9646, 'theo': 9647, 'bogus': 9648, 'stimulate': 9649, 'chooses': 9650, 'saleh': 9651, 'chairperson': 9652, 'shropshire': 9653, 'nordstrom': 9654, 'cartel': 9655, 'maori': 9656, 'labels': 9657, '41yearold': 9658, 'correction': 9659, 'nh': 9660, 'deemed': 9661, 'vanderbilt': 9662, 'loyalty': 9663, 'stamps': 9664, 'phelps': 9665, 'keegan': 9666, 'bucharest': 9667, 'restrict': 9668, 'ivan': 9669, 'meningitis': 9670, 'whopping': 9671, 'soup': 9672, 'fallout': 9673, 'controlling': 9674, 'weigh': 9675, 'specialists': 9676, 'chattanooga': 9677, 'polo': 9678, 'youve': 9679, 'zoe': 9680, 'telugu': 9681, 'gcc': 9682, 'gangs': 9683, 'root': 9684, 'gibbs': 9685, 'jenner': 9686, 'waterloo': 9687, 'ethical': 9688, 'sherman': 9689, 'examination': 9690, 'cleaner': 9691, 'serb': 9692, 'exams': 9693, 'reductions': 9694, 'technological': 9695, 'punk': 9696, 'constant': 9697, 'partnerships': 9698, 'ordinance': 9699, 'chivas': 9700, 'fx': 9701, '45yearold': 9702, 'colonel': 9703, 'abuses': 9704, 'gurgaon': 9705, 'anita': 9706, 'spacecraft': 9707, 'geo': 9708, 'ole': 9709, 'gyllenhaal': 9710, 'comics': 9711, 'produces': 9712, 'newfoundland': 9713, 'woody': 9714, 'pamela': 9715, 'namibia': 9716, 'tale': 9717, 'importing': 9718, 'munster': 9719, 'thrashers': 9720, 'kan': 9721, 'bynes': 9722, 'initiates': 9723, 'campaigners': 9724, 'gangster': 9725, 'graves': 9726, 'taser': 9727, 'crossings': 9728, 'treasuries': 9729, 'dissolve': 9730, 'mere': 9731, 'axis': 9732, 'fullyear': 9733, 'waziristan': 9734, 'victories': 9735, 'lorenzo': 9736, 'bal': 9737, 'spotify': 9738, 'fixture': 9739, 'limerick': 9740, 'diver': 9741, 'lk': 9742, 'ugandan': 9743, 'lamar': 9744, 'addict': 9745, 'peacekeepers': 9746, 'cameroon': 9747, 'primetime': 9748, 'osce': 9749, 'administrations': 9750, 'threegame': 9751, 'investigator': 9752, 'sylvester': 9753, 'napa': 9754, 'expenditure': 9755, 'summoned': 9756, 'corbett': 9757, 'avery': 9758, 'supplying': 9759, 'lounge': 9760, 'tumour': 9761, 'goldberg': 9762, 'milton': 9763, 'abcs': 9764, 'ravi': 9765, 'lefthander': 9766, 'cautioned': 9767, 'piers': 9768, 'leach': 9769, 'tolerance': 9770, 'fairbanks': 9771, 'concedes': 9772, 'tongue': 9773, 'au': 9774, 'innovations': 9775, 'baxter': 9776, 'thrilled': 9777, 'davidson': 9778, 'prakash': 9779, 'southampton': 9780, 'farming': 9781, 'legion': 9782, 'dangers': 9783, 'asbestos': 9784, '09': 9785, 'diversity': 9786, 'cambodian': 9787, 'deepen': 9788, 'bajaj': 9789, '155': 9790, 'profitable': 9791, 'q': 9792, 'rebate': 9793, 'maestro': 9794, 'cairn': 9795, 'finalists': 9796, 'chen': 9797, 'hawkes': 9798, 'lunar': 9799, 'protocol': 9800, 'granting': 9801, 'abhishek': 9802, 'backlash': 9803, 'viral': 9804, 'pistol': 9805, 'grammer': 9806, 'lewd': 9807, 'dynamic': 9808, 'calvin': 9809, 'finalised': 9810, 'viagra': 9811, 'licensed': 9812, 'grim': 9813, 'lethal': 9814, 'falsely': 9815, 'voip': 9816, 'consolidated': 9817, 'advocacy': 9818, 'hobbit': 9819, 'ds': 9820, 'porter': 9821, 'overtake': 9822, 'fenway': 9823, 'publicity': 9824, 'lampard': 9825, 'forged': 9826, 'brittany': 9827, 'favorites': 9828, 'nephew': 9829, 'rbs': 9830, 'actual': 9831, 'sword': 9832, 'amendments': 9833, 'globes': 9834, 'haye': 9835, 'rejoin': 9836, 'nash': 9837, 'lancashire': 9838, 'warrior': 9839, 'lennon': 9840, 'competent': 9841, 'flint': 9842, 'shrinks': 9843, 'stockton': 9844, 'annan': 9845, 'extremism': 9846, 'lisbon': 9847, 'loving': 9848, 'napoli': 9849, 'smartrends': 9850, 'belief': 9851, 'shahrukh': 9852, 'deserves': 9853, 'bury': 9854, 'designate': 9855, 'therapeutics': 9856, 'hurting': 9857, 'mood': 9858, 'doncaster': 9859, 'clarence': 9860, 'kane': 9861, 'yanukovych': 9862, 'stafford': 9863, 'mock': 9864, 'linkedin': 9865, 'shakes': 9866, 'affleck': 9867, 'beam': 9868, 'fulltime': 9869, 'akbar': 9870, 'literally': 9871, 'alpha': 9872, 'financially': 9873, 'reversed': 9874, 'corning': 9875, 'arroyo': 9876, 'costcutting': 9877, 'bremen': 9878, 'ancelotti': 9879, 'sheryl': 9880, 'locally': 9881, '60000': 9882, 'spur': 9883, 'peyton': 9884, 'airplane': 9885, 'copenhagen': 9886, 'ghanaian': 9887, 'middletown': 9888, 'trainers': 9889, 'crowds': 9890, 'seacrest': 9891, 'dragging': 9892, 'paramedics': 9893, 'vetoes': 9894, 'eastman': 9895, 'wrestler': 9896, 'certificates': 9897, 'anfield': 9898, 'approvals': 9899, 'wba': 9900, 'bats': 9901, 'counseling': 9902, 'vocal': 9903, 'surviving': 9904, 'tenth': 9905, 'pageant': 9906, 'cow': 9907, 'capability': 9908, 'sargsyan': 9909, 'respective': 9910, 'reluctant': 9911, 'savage': 9912, 'manufactured': 9913, 'drag': 9914, 'asda': 9915, 'nepali': 9916, 'organizational': 9917, 'cult': 9918, 'megastar': 9919, 'floridas': 9920, 'stricken': 9921, 'trinidad': 9922, 'vigil': 9923, 'clijsters': 9924, 'tournaments': 9925, 'switching': 9926, 'surprising': 9927, 'horrific': 9928, 'shooter': 9929, 'closest': 9930, 'repaired': 9931, 'mercantile': 9932, 'none': 9933, 'extent': 9934, 'hoax': 9935, 'offence': 9936, 'homecoming': 9937, 'inspire': 9938, 'jetblue': 9939, 'deficits': 9940, 'awaits': 9941, 'pile': 9942, 'substitute': 9943, 'disclose': 9944, 'ringgit': 9945, 'tall': 9946, 'dot': 9947, 'precautionary': 9948, 'unlimited': 9949, 'dixon': 9950, 'malfunction': 9951, 'elvis': 9952, 'leighton': 9953, 'suicidal': 9954, 'shotgun': 9955, 'useful': 9956, 'leann': 9957, 'rimes': 9958, 'danielle': 9959, 'libraries': 9960, 'lara': 9961, 'sits': 9962, 'norris': 9963, 'elena': 9964, 'overshadowed': 9965, 'spinner': 9966, 'romo': 9967, 'cork': 9968, 'honeymoon': 9969, '29th': 9970, 'revived': 9971, 'auditions': 9972, 'equivalent': 9973, 'iftikhar': 9974, 'viewed': 9975, 'owed': 9976, 'sunset': 9977, 'retreated': 9978, 'paradise': 9979, 'vmware': 9980, 'bellevue': 9981, 'stan': 9982, 'dragons': 9983, 'jill': 9984, 'dmk': 9985, 'authors': 9986, 'assists': 9987, '170': 9988, 'weisz': 9989, 'irelands': 9990, 'reader': 9991, 'threeyearold': 9992, 'preorders': 9993, 'playbook': 9994, 'strangled': 9995, 'meter': 9996, 'rainy': 9997, 'barrett': 9998, 'crosses': 9999}\n"
     ]
    }
   ],
   "execution_count": 22
  },
  {
   "cell_type": "markdown",
   "source": [
    "<a name='e4'></a>\n",
    "### Exercise 4: Bag of Words\n",
    "(1p) Here we will create the bag-of-words representation of the sentences. The function will take a single sentence (list of tokens) and return an array of size `vocab_size` with the counts of each word in the vocabulary. The\n",
    "`vocab_size` is calculated as the length of the passed `token_to_id` dictionary. The resulting array should have zeros everywhere but the indices corresponding to the words in the vocabulary where it should have the counts of the words in the sentence. For example, if the sentence is `['fox', 'and', 'deer']` and the vocabulary is `{'fox': 0, 'and': 1, 'deer': 2}`, the resulting array should be `[1, 1, 1]`. If the sentence is `['fox', 'and', 'fox', 'deer']`, the resulting array should be `[2, 1, 1]`."
   ],
   "metadata": {
    "collapsed": false,
    "pycharm": {
     "name": "#%% md\n"
    }
   }
  },
  {
   "cell_type": "code",
   "source": [
    "def bag_of_words(sentence, token_to_id):\n",
    "    \"\"\"\n",
    "    Creates a bag-of-words representation of the sentence\n",
    "    Args:\n",
    "        sentence: a list of tokens\n",
    "        token_to_id: a dictionary mapping each word to an index in the vocabulary\n",
    "\n",
    "    Returns:: a numpy array of size vocab_size with the counts of each word in the vocabulary\n",
    "\n",
    "    \"\"\"\n",
    "    vocab_size = len(token_to_id)\n",
    "    bow = np.zeros(vocab_size, dtype=int)\n",
    "\n",
    "    ### YOUR CODE HERE\n",
    "    for word in sentence:\n",
    "        if word in token_to_id:\n",
    "            idx = token_to_id[word]\n",
    "            bow[idx] += 1\n",
    "    ### YOUR CODE ENDS HERE\n",
    "\n",
    "    return bow"
   ],
   "metadata": {
    "collapsed": false,
    "pycharm": {
     "name": "#%%\n"
    },
    "ExecuteTime": {
     "end_time": "2025-04-15T12:00:43.652573Z",
     "start_time": "2025-04-15T12:00:43.649989Z"
    }
   },
   "outputs": [],
   "execution_count": 23
  },
  {
   "cell_type": "markdown",
   "source": [
    "Let's see how the function works on a single sentence. The output should be a numpy array of size `vocab_size` with the counts of each word in the vocabulary."
   ],
   "metadata": {
    "collapsed": false,
    "pycharm": {
     "name": "#%% md\n"
    }
   }
  },
  {
   "cell_type": "code",
   "source": [
    "print('Tokenized sentence:')\n",
    "print(tokenized_sentences[0])\n",
    "sentence_bow = bag_of_words(tokenized_sentences[0], token_to_id)\n",
    "\n",
    "print('Bag of words:')\n",
    "print(sentence_bow)\n",
    "print('Type of bag of words:')\n",
    "print(type(sentence_bow))\n",
    "print('Shape of bag of words:')\n",
    "print(sentence_bow.shape)\n",
    "print('Non-zero elements in bag of words:')\n",
    "print(np.nonzero(sentence_bow)[0])"
   ],
   "metadata": {
    "collapsed": false,
    "pycharm": {
     "name": "#%%\n"
    },
    "ExecuteTime": {
     "end_time": "2025-04-15T12:00:43.735316Z",
     "start_time": "2025-04-15T12:00:43.732630Z"
    }
   },
   "outputs": [
    {
     "name": "stdout",
     "output_type": "stream",
     "text": [
      "Tokenized sentence:\n",
      "['gold', 'futures', 'hit', 'record', 'high', 'rs', '31029', 'per', '10', 'grams', 'thursday', 'mcx', 'investors', 'shifted', 'funds', 'yellow', 'metal', 'global', 'cues', 'weakened', 'dollar']\n",
      "Bag of words:\n",
      "[0 0 0 ... 0 0 0]\n",
      "Type of bag of words:\n",
      "<class 'numpy.ndarray'>\n",
      "Shape of bag of words:\n",
      "(10000,)\n",
      "Non-zero elements in bag of words:\n",
      "[  12   80   86  108  123  136  159  217  284  428  451  808  952 1922\n",
      " 3739 5301 5420 7817]\n"
     ]
    }
   ],
   "execution_count": 24
  },
  {
   "cell_type": "markdown",
   "source": [
    "We can also check in detail what words and their counts are in the bag-of-words representation."
   ],
   "metadata": {
    "collapsed": false,
    "pycharm": {
     "name": "#%% md\n"
    }
   }
  },
  {
   "cell_type": "code",
   "source": [
    "sentence_non_zero_bow = np.nonzero(sentence_bow)[0]\n",
    "print('Non-zero elements in bag of words:')\n",
    "print(sentence_non_zero_bow)\n",
    "for i in sentence_non_zero_bow:\n",
    "    print(vocab[i][0], ':', sentence_bow[i])"
   ],
   "metadata": {
    "collapsed": false,
    "pycharm": {
     "name": "#%%\n"
    },
    "ExecuteTime": {
     "end_time": "2025-04-15T12:00:43.819720Z",
     "start_time": "2025-04-15T12:00:43.817017Z"
    }
   },
   "outputs": [
    {
     "name": "stdout",
     "output_type": "stream",
     "text": [
      "Non-zero elements in bag of words:\n",
      "[  12   80   86  108  123  136  159  217  284  428  451  808  952 1922\n",
      " 3739 5301 5420 7817]\n",
      "thursday : 1\n",
      "high : 1\n",
      "global : 1\n",
      "hit : 1\n",
      "10 : 1\n",
      "per : 1\n",
      "record : 1\n",
      "dollar : 1\n",
      "gold : 1\n",
      "investors : 1\n",
      "rs : 1\n",
      "funds : 1\n",
      "futures : 1\n",
      "metal : 1\n",
      "weakened : 1\n",
      "cues : 1\n",
      "yellow : 1\n",
      "shifted : 1\n"
     ]
    }
   ],
   "execution_count": 25
  },
  {
   "cell_type": "markdown",
   "source": [
    "The following function will apply all the steps we implemented to a single sentence. It returns a bag of words representation that we will use to calculate the similarity between different sentences."
   ],
   "metadata": {
    "collapsed": false,
    "pycharm": {
     "name": "#%% md\n"
    }
   }
  },
  {
   "cell_type": "code",
   "source": [
    "def embed_text(text, clean_fn, tokenize_fn, embed_fn):\n",
    "    cleaned = clean_fn(text)\n",
    "    tokens = tokenize_fn(cleaned)\n",
    "    embedding = embed_fn(tokens)\n",
    "    return embedding"
   ],
   "metadata": {
    "collapsed": false,
    "pycharm": {
     "name": "#%%\n"
    },
    "ExecuteTime": {
     "end_time": "2025-04-15T12:00:43.917867Z",
     "start_time": "2025-04-15T12:00:43.915702Z"
    }
   },
   "outputs": [],
   "execution_count": 26
  },
  {
   "cell_type": "markdown",
   "source": [
    "<a name='e5'></a>\n",
    "### Exercise 5: Cosine Similarity between two vectors\n",
    "\n",
    "(1p) Complete the following function that given any two vectors will compute the cosine similarity. If you don't remember the formula for the cosine similarity, revisit the course material. Notice that the function receives numpy arrays and recall that you can express cosine similarity as a dot product. Use numpy functions to write an efficient implementation."
   ],
   "metadata": {
    "collapsed": false,
    "pycharm": {
     "name": "#%% md\n"
    }
   }
  },
  {
   "cell_type": "code",
   "source": [
    "def cosine_similarity(vector1, vector2):\n",
    "    \"\"\"\n",
    "    Computes the cosine similarity between two vectors\n",
    "    Args:\n",
    "        vector1: numpy array of the first vector\n",
    "        vector2: numpy array of the second vector\n",
    "\n",
    "    Returns: cosine similarity\n",
    "\n",
    "    \"\"\"\n",
    "    ### YOUR CODE HERE\n",
    "    dot_product = np.dot(vector1, vector2)\n",
    "    norm1 = np.linalg.norm(vector1)\n",
    "    norm2 = np.linalg.norm(vector2)\n",
    "    if norm1 == 0 or norm2 == 0:\n",
    "        return 0.0\n",
    "    v1 = vector1 / norm1\n",
    "    v2 = vector2 / norm2\n",
    "\n",
    "    return dot_product/(norm1*norm2)\n",
    "    ### YOUR CODE ENDS HERE"
   ],
   "metadata": {
    "collapsed": false,
    "pycharm": {
     "name": "#%%\n"
    },
    "ExecuteTime": {
     "end_time": "2025-04-15T13:22:46.263629Z",
     "start_time": "2025-04-15T13:22:46.261030Z"
    }
   },
   "outputs": [],
   "execution_count": 77
  },
  {
   "cell_type": "code",
   "source": [
    "cosine_similarity(np.array([0, 1, 2]), np.array([0, 2, 4]))"
   ],
   "metadata": {
    "collapsed": false,
    "pycharm": {
     "name": "#%%\n"
    },
    "ExecuteTime": {
     "end_time": "2025-04-15T13:22:47.826198Z",
     "start_time": "2025-04-15T13:22:47.823557Z"
    }
   },
   "outputs": [
    {
     "data": {
      "text/plain": [
       "0.9999999999999998"
      ]
     },
     "execution_count": 78,
     "metadata": {},
     "output_type": "execute_result"
    }
   ],
   "execution_count": 78
  },
  {
   "cell_type": "code",
   "source": [
    "sentences = [\n",
    "    'The quick brown fox jumps over the lazy dog.',\n",
    "    'Some interesting document containin sentences.',\n",
    "    'The quick brown fox jumps over the lazy cat and some other stuff.',\n",
    "    'Fox and deer are not friends.',\n",
    "    'Fox and deer are not friends. But this document is a lot longer than the previous one. We can add sentence by sentence and see how the embeddings change.',\n",
    "]\n",
    "embedded_sentences = [\n",
    "    embed_text(sentence, clean, tokenize, lambda x: bag_of_words(x, token_to_id))\n",
    "    for sentence in sentences\n",
    "]\n",
    "\n",
    "query = 'fox and deer'\n",
    "embedded_query = embed_text(query, clean, tokenize, lambda x: bag_of_words(x, token_to_id))\n",
    "\n",
    "cosine_similarities = [\n",
    "    cosine_similarity(embedded_query, embedded_sentence)\n",
    "    for embedded_sentence in embedded_sentences\n",
    "]\n",
    "print(f'Query: {query}')\n",
    "for sent, cos_sim in zip(sentences, cosine_similarities):\n",
    "    print(f'Cosine Similarity: {cos_sim:.4f} - Sentence: {sent}')"
   ],
   "metadata": {
    "collapsed": false,
    "pycharm": {
     "name": "#%%\n"
    },
    "ExecuteTime": {
     "end_time": "2025-04-15T13:23:02.535794Z",
     "start_time": "2025-04-15T13:23:02.527020Z"
    }
   },
   "outputs": [
    {
     "name": "stdout",
     "output_type": "stream",
     "text": [
      "Query: fox and deer\n",
      "Cosine Similarity: 0.3162 - Sentence: The quick brown fox jumps over the lazy dog.\n",
      "Cosine Similarity: 0.0000 - Sentence: Some interesting document containin sentences.\n",
      "Cosine Similarity: 0.2887 - Sentence: The quick brown fox jumps over the lazy cat and some other stuff.\n",
      "Cosine Similarity: 0.8165 - Sentence: Fox and deer are not friends.\n",
      "Cosine Similarity: 0.3651 - Sentence: Fox and deer are not friends. But this document is a lot longer than the previous one. We can add sentence by sentence and see how the embeddings change.\n"
     ]
    }
   ],
   "execution_count": 79
  },
  {
   "cell_type": "markdown",
   "source": [
    "We will apply the function to the whole dataset. This might take a while, so be patient. The result will be stored in the `sentence_bow` and `compressed_bow` fields of the dataset."
   ],
   "metadata": {
    "collapsed": false,
    "pycharm": {
     "name": "#%% md\n"
    }
   }
  },
  {
   "cell_type": "code",
   "source": [
    "def bag_of_words_dataset(example):\n",
    "    \"\"\"\n",
    "    Creates a bag-of-words representation of the sentence and compressed sentence in the example from the Dataset\n",
    "    Args:\n",
    "        example: an example from the Dataset\n",
    "\n",
    "    Returns: updated example with 'sentence_bow' and 'compressed_bow' columns\n",
    "\n",
    "    \"\"\"\n",
    "    sentence_tokens = example['sentence_tokens']\n",
    "    compressed_tokens = example['compressed_tokens']\n",
    "\n",
    "    sentence_bow = bag_of_words(sentence_tokens, token_to_id)\n",
    "    compressed_bow = bag_of_words(compressed_tokens, token_to_id)\n",
    "\n",
    "    example['sentence_bow'] = sentence_bow\n",
    "    example['compressed_bow'] = compressed_bow\n",
    "    return example"
   ],
   "metadata": {
    "collapsed": false,
    "pycharm": {
     "name": "#%%\n"
    },
    "ExecuteTime": {
     "end_time": "2025-04-15T12:00:44.303942Z",
     "start_time": "2025-04-15T12:00:44.301968Z"
    }
   },
   "outputs": [],
   "execution_count": 30
  },
  {
   "cell_type": "markdown",
   "source": [
    "The following cell will apply the function to the whole dataset. The result will be stored in the `sentence_bow` and `compressed_bow` fields of the dataset. We will also convert the dataset's fields `sentence_bow` and `compressed_bow` to numpy format for easier manipulation."
   ],
   "metadata": {
    "collapsed": false,
    "pycharm": {
     "name": "#%% md\n"
    }
   }
  },
  {
   "cell_type": "code",
   "source": [
    "test_ds = split_ds['test'].map(bag_of_words_dataset)\n",
    "test_ds = test_ds.with_format('np', columns=['sentence_bow', 'compressed_bow'], dtype=float)\n",
    "print(test_ds)"
   ],
   "metadata": {
    "collapsed": false,
    "pycharm": {
     "name": "#%%\n"
    },
    "ExecuteTime": {
     "end_time": "2025-04-15T12:00:53.529406Z",
     "start_time": "2025-04-15T12:00:44.469551Z"
    }
   },
   "outputs": [
    {
     "data": {
      "text/plain": [
       "Map:   0%|          | 0/36000 [00:00<?, ? examples/s]"
      ],
      "application/vnd.jupyter.widget-view+json": {
       "version_major": 2,
       "version_minor": 0,
       "model_id": "a1c45f97f2ad4c96a06aed9f24b85bae"
      }
     },
     "metadata": {},
     "output_type": "display_data"
    },
    {
     "name": "stdout",
     "output_type": "stream",
     "text": [
      "Dataset({\n",
      "    features: ['set', 'clean_sentence', 'clean_compressed', 'sentence_tokens', 'compressed_tokens', 'sentence_bow', 'compressed_bow'],\n",
      "    num_rows: 36000\n",
      "})\n"
     ]
    }
   ],
   "execution_count": 31
  },
  {
   "cell_type": "markdown",
   "source": [
    "Let's check the results. The `sentence_bow` and `compressed_bow` fields should contain the bag-of-words representation of the sentences and compressed sentences, respectively."
   ],
   "metadata": {
    "collapsed": false,
    "pycharm": {
     "name": "#%% md\n"
    }
   }
  },
  {
   "cell_type": "code",
   "source": [
    "print(test_ds[0])"
   ],
   "metadata": {
    "collapsed": false,
    "pycharm": {
     "name": "#%%\n"
    },
    "ExecuteTime": {
     "end_time": "2025-04-15T12:00:53.538594Z",
     "start_time": "2025-04-15T12:00:53.534584Z"
    }
   },
   "outputs": [
    {
     "name": "stdout",
     "output_type": "stream",
     "text": [
      "{'sentence_bow': array([0., 1., 0., ..., 0., 0., 0.]), 'compressed_bow': array([0., 0., 0., ..., 0., 0., 0.])}\n"
     ]
    }
   ],
   "execution_count": 32
  },
  {
   "cell_type": "code",
   "source": [
    "sentences_bows = test_ds['sentence_bow']\n",
    "print(sentences_bows.shape)"
   ],
   "metadata": {
    "collapsed": false,
    "pycharm": {
     "name": "#%%\n"
    },
    "ExecuteTime": {
     "end_time": "2025-04-15T12:00:59.721466Z",
     "start_time": "2025-04-15T12:00:53.633416Z"
    }
   },
   "outputs": [
    {
     "name": "stdout",
     "output_type": "stream",
     "text": [
      "(36000, 10000)\n"
     ]
    }
   ],
   "execution_count": 33
  },
  {
   "cell_type": "markdown",
   "source": [
    "Now we can start building a retriever based on the bag of words representation. The first step is to calculate the cosine similarity between two vectors."
   ],
   "metadata": {
    "collapsed": false,
    "pycharm": {
     "name": "#%% md\n"
    }
   }
  },
  {
   "cell_type": "markdown",
   "source": [
    "<a name='e6'></a>\n",
    "### Exercise 6: Cosine Similarity between a vector and an array of vectors\n",
    "\n",
    "(2p) The next step in our retrieval system, would be to calculate the proximity of a query to our retrieval corpus (in our case that is all the sentences).\n",
    "\n",
    "Complete the following function to calculate the cosine similarity between a vector (first parameter `vector`, that will usually be the query vector) and all other vectors (second parameter `other_vectors`, that will be the sentence embeddings in our case). Note that the `other_vectors` parameter is a single numpy array of size `N x D`, where $N$ is the number of vectors and $D$ is the dimension of each vector.\n",
    "\n",
    "For maximum efficiency (we will need it) do not use loops. Try to write the implementation with numpy functions. Hint: matrix multiplication can be seen as calculating the dot product between rows and columns of the multiplied matrices."
   ],
   "metadata": {
    "collapsed": false,
    "pycharm": {
     "name": "#%% md\n"
    }
   }
  },
  {
   "cell_type": "code",
   "metadata": {
    "id": "LgaV2b3fpSOR",
    "pycharm": {
     "name": "#%%\n"
    },
    "ExecuteTime": {
     "end_time": "2025-04-15T12:00:59.840682Z",
     "start_time": "2025-04-15T12:00:59.838260Z"
    }
   },
   "source": [
    "def cosine_similarity_1_to_n(vector, other_vectors):\n",
    "    \"\"\"\n",
    "    Calculates the cosine similarity between a single vector and other vectors.\n",
    "    Args:\n",
    "        vector: a numpy array representing a vector of D dimensions\n",
    "        other_vectors: a 2D numpy array representing other vectors (of the size NxD, where N is the number of vectors and D is their dimension)\n",
    "\n",
    "    Returns: a 1D numpy array of size N containing the cosine similarity between the vector and all the other vectors\n",
    "\n",
    "    \"\"\"\n",
    "\n",
    "    #### YOUR CODE HERE\n",
    "    dot_products = np.dot(other_vectors, vector)\n",
    "    vector_norm = np.linalg.norm(vector)\n",
    "    other_norm = np.linalg.norm(other_vectors)\n",
    "    denominator = vector_norm * other_norm\n",
    "    return dot_products / denominator\n",
    "    ### YOUR CODE ENDS HERE"
   ],
   "outputs": [],
   "execution_count": 34
  },
  {
   "cell_type": "markdown",
   "metadata": {
    "collapsed": false,
    "id": "irNqAJZLpSOR",
    "pycharm": {
     "name": "#%% md\n"
    }
   },
   "source": [
    "We will use the function to calculate the similarity of all sentences in the dataset to our query."
   ]
  },
  {
   "cell_type": "code",
   "source": [
    "query = 'fox and deer'\n",
    "embedded_query = embed_text(query, clean, tokenize, lambda x: bag_of_words(x, token_to_id))"
   ],
   "metadata": {
    "collapsed": false,
    "pycharm": {
     "name": "#%%\n"
    },
    "ExecuteTime": {
     "end_time": "2025-04-15T12:00:59.935973Z",
     "start_time": "2025-04-15T12:00:59.932278Z"
    }
   },
   "outputs": [],
   "execution_count": 35
  },
  {
   "cell_type": "code",
   "metadata": {
    "id": "uD9mVAhYpSOR",
    "pycharm": {
     "name": "#%%\n"
    },
    "ExecuteTime": {
     "end_time": "2025-04-15T12:01:00.344862Z",
     "start_time": "2025-04-15T12:01:00.010516Z"
    }
   },
   "source": [
    "query_similarity = cosine_similarity_1_to_n(embedded_query, sentences_bows)\n",
    "print(query_similarity.shape)\n",
    "print(query_similarity[:10])"
   ],
   "outputs": [
    {
     "name": "stdout",
     "output_type": "stream",
     "text": [
      "(36000,)\n",
      "[0. 0. 0. 0. 0. 0. 0. 0. 0. 0.]\n"
     ]
    }
   ],
   "execution_count": 36
  },
  {
   "cell_type": "markdown",
   "metadata": {
    "collapsed": false,
    "id": "_l3erVTNpSOR",
    "pycharm": {
     "name": "#%% md\n"
    }
   },
   "source": [
    "The following cell will select the most similar sentence."
   ]
  },
  {
   "cell_type": "code",
   "metadata": {
    "id": "0wWa4AWHpSOR",
    "pycharm": {
     "name": "#%%\n"
    },
    "ExecuteTime": {
     "end_time": "2025-04-15T12:02:10.173866Z",
     "start_time": "2025-04-15T12:02:10.171324Z"
    }
   },
   "source": [
    "most_similar = int(np.argmax(query_similarity))\n",
    "print(most_similar)\n",
    "print(query_similarity[most_similar])\n",
    "print(split_ds['test'][most_similar]['set'][0])"
   ],
   "outputs": [
    {
     "name": "stdout",
     "output_type": "stream",
     "text": [
      "28492\n",
      "0.0029328525992581484\n",
      "Fox News announced Friday that it has hired Herman Cain, the spirited former presidential candidate and ex-pizza CEO, as a contributor for Fox News Channel and Fox Business Network.\n"
     ]
    }
   ],
   "execution_count": 45
  },
  {
   "cell_type": "markdown",
   "metadata": {
    "collapsed": false,
    "id": "fpdJHFD1pSOR",
    "pycharm": {
     "name": "#%% md\n"
    }
   },
   "source": [
    "The following function will return the indices of the top-k elements in the array."
   ]
  },
  {
   "cell_type": "code",
   "metadata": {
    "id": "QFUNI9elpSOS",
    "pycharm": {
     "name": "#%%\n"
    },
    "ExecuteTime": {
     "end_time": "2025-04-15T12:02:58.421210Z",
     "start_time": "2025-04-15T12:02:58.419106Z"
    }
   },
   "source": [
    "def top_k_indices(array, k, sorted=True):\n",
    "    \"\"\"\n",
    "    Returns top-k indices from the 1D array. If `sorted` is `True` the returned indices are sorted in the descending order\n",
    "    Args:\n",
    "        array: a 1D numpy array\n",
    "        k: a number of top indices to return\n",
    "        sorted: if True, the returned indices are sorted in descending order\n",
    "\n",
    "    Returns: a 1D array containing top-k indices\n",
    "\n",
    "    \"\"\"\n",
    "    top_k = np.argpartition(array, -k)[-k:]\n",
    "    if sorted:\n",
    "        selected = array[top_k]\n",
    "        sorted_selected = (-selected).argsort()\n",
    "        top_k = top_k[sorted_selected]\n",
    "    return top_k"
   ],
   "outputs": [],
   "execution_count": 46
  },
  {
   "cell_type": "code",
   "metadata": {
    "id": "nY8vvJdepSOS",
    "pycharm": {
     "name": "#%%\n"
    },
    "ExecuteTime": {
     "end_time": "2025-04-15T12:03:02.312303Z",
     "start_time": "2025-04-15T12:03:02.308735Z"
    }
   },
   "source": [
    "top_indices = top_k_indices(query_similarity, k=10).tolist()\n",
    "for idx in top_indices:\n",
    "    print(split_ds['test'][idx]['set'][0])\n",
    "    print(f'similarity: {query_similarity[idx]}')"
   ],
   "outputs": [
    {
     "name": "stdout",
     "output_type": "stream",
     "text": [
      "Fox News announced Friday that it has hired Herman Cain, the spirited former presidential candidate and ex-pizza CEO, as a contributor for Fox News Channel and Fox Business Network.\n",
      "similarity: 0.0029328525992581484\n",
      "Large-scale power upgrades being eyed for the Red Deer region fail to look at renewable alternatives, says a Red Deer city councillor.\n",
      "similarity: 0.0019552350661720987\n",
      "Sean Hannity has re-signed a multi-year deal with FOX News Channel to continue hosting both Hannity & Colmes and Hannity's America, announced Bill Shine, Senior Vice President of Programming for FOX News Channel.\n",
      "similarity: 0.0019552350661720987\n",
      "In his broadcast pilot directing debut, Allen Hughes just signed on to direct the Fox drama pilot Gang Related, from 20th Century Fox TV and Imagine TV.\n",
      "similarity: 0.0019552350661720987\n",
      "The NFL on Wednesday extended its broadcast agreements with CBS, Fox and NBC through 2022, generating additional billions for team owners and giving NBC a Thanksgiving night game and CBS and Fox additional digital rights, including online streaming.\n",
      "similarity: 0.0019552350661720987\n",
      "Fox has apologized to Asians after a Fox Sports report made fun of Asian students' accents and knowledge of college football.\n",
      "similarity: 0.0019552350661720987\n",
      "One day after getting fired from NPR, Juan Williams has signed a new multi-year deal for an expanded role on Fox News.\n",
      "similarity: 0.0009776175330860493\n",
      "Former US Sen. Fred Thompson told Sean Hannity on Fox News Monday night that he is endorsing Newt Gingrich for president.\n",
      "similarity: 0.0009776175330860493\n",
      "There is still no sign of an inmate who escaped from the Montana State Prison in Deer Lodge more than a week ago in a prison work truck.\n",
      "similarity: 0.0009776175330860493\n",
      "Megan Fox finds it ``easy'' to control men.\n",
      "similarity: 0.0009776175330860493\n"
     ]
    }
   ],
   "execution_count": 47
  },
  {
   "cell_type": "markdown",
   "metadata": {
    "collapsed": false,
    "id": "BuRI2JzQpSOS",
    "pycharm": {
     "name": "#%% md\n"
    }
   },
   "source": [
    "<a name='e7'></a>\n",
    "### Exercise 7: Analyzing and improving BOW search results\n",
    "\n",
    "Experiment with different queries (taking into account the nature of the dataset and your insights from the analysis so far).\n",
    "Answer the following questions:\n",
    "- (5p) Does the search perform well? When does it fail? Discuss several examples that are we get an expected but also unexpected results (find at least 3 from each category). Provide reasons for the good/bad result in each case (e.g. is there some error in the data, is there some linguistic phenomenon that we don't capture, is something wrong with our modeling with average embeddings, ...)\n",
    "- (5p) If you see problems with search, how could you improve your implementation? Change the functions above, if you think there is room for improvement. Describe your changes and how they made the search better or (in case you made no changes) explain what made the search robust enough to work well."
   ]
  },
  {
   "cell_type": "code",
   "metadata": {
    "id": "sEQKHAvcpSOS",
    "pycharm": {
     "name": "#%%\n"
    },
    "ExecuteTime": {
     "end_time": "2025-04-15T12:15:46.424822Z",
     "start_time": "2025-04-15T12:15:45.739301Z"
    }
   },
   "source": [
    "#### YOUR CODE HERE\n",
    "query = \"climate change protest\"\n",
    "embedded_query = embed_text(query, clean, tokenize, lambda x: bag_of_words(x, token_to_id))\n",
    "query_similarity = cosine_similarity_1_to_n(embedded_query, sentences_bows)\n",
    "print(query_similarity.shape)\n",
    "print(query_similarity[:10])\n",
    "most_similar = int(np.argmax(query_similarity))\n",
    "print(most_similar)\n",
    "print(query_similarity[most_similar])\n",
    "top_indices = top_k_indices(query_similarity, k=10).tolist()\n",
    "\n",
    "for idx in top_indices:\n",
    "    print(split_ds['test'][idx]['set'][0])\n",
    "    print(f'similarity: {query_similarity[idx]}')\n",
    "\n",
    "\n",
    "\n",
    "### YOUR CODE ENDS HERE"
   ],
   "outputs": [
    {
     "name": "stdout",
     "output_type": "stream",
     "text": [
      "(36000,)\n",
      "[0. 0. 0. 0. 0. 0. 0. 0. 0. 0.]\n",
      "17302\n",
      "0.00319288549287903\n",
      "Namibia has launched its national climate change policy to guide efforts to mitigate the impact of climate change on the country's development.\n",
      "similarity: 0.00319288549287903\n",
      "In the build-up to the Copenhagen climate change summit, US Senator John Kerry tells Sarah Smith that the US climate targets ``may be at the lower end'' then what was hoped for.\n",
      "similarity: 0.002394664119659273\n",
      "China is hope- ful of positive results`` in the UN climate talks in Cancun, its chief negotiator to climate change talks said in comments published by state news agency Xinhua on Sunday.\n",
      "similarity: 0.002394664119659273\n",
      "You know that catchy but really stupid song on the radio that goes, ``Me and my friends, we're all misunderstood ... '' and then the incessant refrain, ``So we keep waiting, waiting on the world to change. Just keep waiting, waiting on the world to change. That's why we're waiting, waiting on the world to change...''\n",
      "similarity: 0.002394664119659273\n",
      "Now is the time to prepare for the heat waves, heavy rains and droughts that climate change will bring, a noted climate researcher told Congress.\n",
      "similarity: 0.002394664119659273\n",
      "Gordon Brown will unveil a new national security strategy this week, designed to help tackle threats like terrorism, cyber crime and climate change.\n",
      "similarity: 0.001596442746439515\n",
      "A top climate change scientist who served on the international research panel on global warming that shared the 2007 Nobel Prize with former US vice president Al Gore has died on a plane to London.\n",
      "similarity: 0.001596442746439515\n",
      "TROPICAL sea cucumbers and their faeces could save coral reefs from the harmful impacts of climate change, scientists have found.\n",
      "similarity: 0.001596442746439515\n",
      "UN climate change conference opened Monday in the Danish capital Copenhagen, with participants from 192 countries around the world.\n",
      "similarity: 0.001596442746439515\n",
      "A majority of Americans are connecting the dots between increasingly extreme weather and man-made climate change.\n",
      "similarity: 0.001596442746439515\n"
     ]
    }
   ],
   "execution_count": 51
  },
  {
   "cell_type": "markdown",
   "metadata": {
    "id": "eiIGTfq6eFI5",
    "pycharm": {
     "name": "#%% md\n"
    }
   },
   "source": [
    "ANSWER TO Q7\n",
    "\n",
    "Does the search perform well?\n",
    "it works well when the query contains words that directly appear in the dataset. But it fails in more nuanced or semantically rich queries where word forms or meanings vary\n",
    "When does it fail?\n",
    "shown with examples\n",
    "Examples:\n",
    "    Expected:\n",
    "    Namibia climate change policy - Strong topic match\n",
    "    Copenhagen summit - Closely related to climate action\n",
    "    UN climate conference - Event-related, related to activism contextually\n",
    "    Unexpected:\n",
    "    “Waiting on the world to change” lyric - Irrelevant, semantic mismatch\n",
    "    Sea cucumber study - No protest/action relevance\n",
    "    Scientist death - Climate topic but not action-related\n",
    "Seen problems:\n",
    "    Relying only on exact word matches\n",
    "    No understanding of semantics or synonyms\n",
    "    Sensitivity to common or irrelevant words\n",
    "    Ignoring word forms like “protest” vs “protesting”\n",
    "Future work to robust BOW:\n",
    "    TF-IDF: Words like \"protest\" will get more influence in similarity score, common words like \"change\" stop dominating irrelevant results.\n",
    "    Word2Vec: Greatly improves recall, especially when the right word isn’t used in both query and document.\n",
    "    Lemmatization: Query variations don’t break the search\n",
    "\n"
   ]
  },
  {
   "cell_type": "markdown",
   "source": [
    "## 3. Term Frequency - Inverse Document Frequency (TF-IDF)\n",
    "\n",
    "In this section we will implement the TF-IDF algorithm. While BOW is a simple way to represent the documents, it has some limitations. For example, it does not take into account the importance of each word in the document. TF-IDF representation takes into account the frequency of each word in the document and the frequency of the word in the whole dataset. It is a widely used technique in information retrieval and text mining. Refer to the lecture slides for more details."
   ],
   "metadata": {
    "collapsed": false,
    "pycharm": {
     "name": "#%% md\n"
    }
   }
  },
  {
   "cell_type": "markdown",
   "source": [
    "<a name='e8'></a>\n",
    "### Exercise 8: Inverse Document Frequency (IDF)\n",
    "(5p) In this exercise, you will implement the TF-IDF algorithm. First, calculate Inverse Document Frequency (IDF) for each word in the vocabulary. Intuitively, it is a measure of how informative a word is based on the whole dataset. Consult the lecture slides for the details. The IDF is calculated as follows:\n",
    "$$\n",
    "IDF(t) = log_{10}(N/df(t))$$\n",
    "where $N$ is the total number of documents (sentences) in the dataset and $df(t)$ is the number of documents containing the word $t$.\n"
   ],
   "metadata": {
    "collapsed": false,
    "pycharm": {
     "name": "#%% md\n"
    }
   }
  },
  {
   "cell_type": "code",
   "source": [
    "def calculate_idf(bows):\n",
    "    \"\"\"\n",
    "    Calculates the IDF for each word in the vocabulary\n",
    "    Args:\n",
    "        bows: numpty array of size (N x D) where N is the number of documents and D is the vocabulary size\n",
    "\n",
    "    Returns: a numpy array of size D with IDF values for each token\n",
    "    \"\"\"\n",
    "\n",
    "    ### YOUR CODE HERE\n",
    "    N = bows.shape[0]\n",
    "    df = np.count_nonzero(bows > 0, axis=0)\n",
    "    df[df==0] = 1\n",
    "    return np.log10(N/df)\n",
    "    ### YOUR CODE ENDS HERE\n",
    "\n",
    "idf = calculate_idf(sentences_bows)"
   ],
   "metadata": {
    "collapsed": false,
    "pycharm": {
     "name": "#%%\n"
    },
    "ExecuteTime": {
     "end_time": "2025-04-15T12:42:51.231969Z",
     "start_time": "2025-04-15T12:42:50.563526Z"
    }
   },
   "outputs": [
    {
     "data": {
      "text/plain": [
       "array([1.00460859, 0.86389627, 1.34786114, ..., 4.07918125, 3.71120446,\n",
       "       4.5563025 ])"
      ]
     },
     "execution_count": 54,
     "metadata": {},
     "output_type": "execute_result"
    }
   ],
   "execution_count": 54
  },
  {
   "cell_type": "markdown",
   "source": [
    "<a name='e9'></a>\n",
    "### Exercise 9: TF-IDF\n",
    "- (5p) Calculate TF-IDF on the `test` subset of the dataset.\n",
    "- (5p) Analyze the search results based on your implemented TF-IDF. Does the search perform well? When does it fail? Discuss several examples that are we get an expected but also unexpected results (find at least 3 from each category). Provide reasons for the good/bad result in each case (e.g. is there some error in the data, is there some linguistic phenomenon that we don't capture, is something wrong with our modeling with average embeddings, ...)\n",
    "- (5p) Compare the results with the ones you got with the bag-of-words representation. Discuss the differences and similarities. Do you think TF-IDF is a better representation for this task? Why or why not? Provide examples to support your arguments.\n"
   ],
   "metadata": {
    "collapsed": false,
    "pycharm": {
     "name": "#%% md\n"
    }
   }
  },
  {
   "cell_type": "code",
   "source": [
    "### YOUR CODE HERE\n",
    "test_bows = np.array([bag_of_words(tokens, token_to_id) for tokens in test_ds['sentence_tokens']])\n",
    "test_tfidf = test_bows * idf\n",
    "\n",
    "def tfidf_search(query, clean_fn, tokenize_fn, token_to_id, idf, tfidf_matrix,  dataset, top_k=10):\n",
    "    cleaned = clean_fn(query)\n",
    "    tokens = tokenize_fn(cleaned)\n",
    "    query_bow = bag_of_words(tokens, token_to_id)\n",
    "    query_tfidf = query_bow * idf\n",
    "    query_tfidf = query_tfidf / np.linalg.norm(query_tfidf)\n",
    "    similarities = cosine_similarity_1_to_n(query_tfidf, tfidf_matrix)\n",
    "    top_indices = np.argsort(similarities)[::-1][:top_k]\n",
    "    return [(dataset['test'][int(i)]['set'][0], similarities[i]) for i in top_indices]\n",
    "\n",
    "print(\"Query: \" + query)\n",
    "tfidf_search(query, clean, tokenize, token_to_id, idf, test_tfidf, split_ds)\n",
    "### YOUR CODE ENDS HERE\n",
    "\n",
    "\n",
    "### YOU CAN ADD MORE CELLS"
   ],
   "metadata": {
    "collapsed": false,
    "pycharm": {
     "name": "#%%\n"
    },
    "ExecuteTime": {
     "end_time": "2025-04-15T13:03:27.140378Z",
     "start_time": "2025-04-15T13:03:22.652772Z"
    }
   },
   "outputs": [
    {
     "name": "stdout",
     "output_type": "stream",
     "text": [
      "Query: climate change protest\n"
     ]
    },
    {
     "data": {
      "text/plain": [
       "[(\"Namibia has launched its national climate change policy to guide efforts to mitigate the impact of climate change on the country's development.\",\n",
       "  0.0032063486904244346),\n",
       " ('China is hope- ful of positive results`` in the UN climate talks in Cancun, its chief negotiator to climate change talks said in comments published by state news agency Xinhua on Sunday.',\n",
       "  0.0025052902389096996),\n",
       " ('Now is the time to prepare for the heat waves, heavy rains and droughts that climate change will bring, a noted climate researcher told Congress.',\n",
       "  0.0025052902389096996),\n",
       " (\"In the build-up to the Copenhagen climate change summit, US Senator John Kerry tells Sarah Smith that the US climate targets ``may be at the lower end'' then what was hoped for.\",\n",
       "  0.0025052902389096996),\n",
       " (\"You know that catchy but really stupid song on the radio that goes, ``Me and my friends, we're all misunderstood ... '' and then the incessant refrain, ``So we keep waiting, waiting on the world to change. Just keep waiting, waiting on the world to change. That's why we're waiting, waiting on the world to change...''\",\n",
       "  0.0021031753545442044),\n",
       " ('A new study has shown that climate change will yield more extreme rainfall in the future.',\n",
       "  0.0016031743452122173),\n",
       " ('A top government health official said Wednesday that climate change is expected to have a significant impact on health in the next few decades, with certain regions of the country -- and the elderly and children -- most vulnerable to increased health problems.',\n",
       "  0.0016031743452122173),\n",
       " ('The largest and most important UN climate change conference in history opened today, with organizers warning diplomats from 192 nations that this could be the best, last chance for a deal to protect the world from calamitous global warming.',\n",
       "  0.0016031743452122173),\n",
       " ('THE polar bear, the symbol of the effects of climate change on the sensitive Arctic environment, is in trouble but it is not endangered or threatened with extinction, an advisory panel says.',\n",
       "  0.0016031743452122173),\n",
       " ('Manama, July 4 Parliamentary delegation led by MP Khamis Al Rumaihi will take part in international parliamentary conference on climate change which will be held in London from 5th of July until 11th.',\n",
       "  0.0016031743452122173)]"
      ]
     },
     "execution_count": 63,
     "metadata": {},
     "output_type": "execute_result"
    }
   ],
   "execution_count": 63
  },
  {
   "cell_type": "markdown",
   "source": [
    "ANSWER TO Q9\n",
    "\n",
    "We evaluated the TF-IDF search using the query \"climate change protest\". The top results mostly included climate-related articles, showing TF-IDF’s strength in emphasizing rare and informative words. Results such as policy announcements and UN climate conferences were expected and relevant, with strong keyword overlap.\n",
    "However, some results were unexpected — such as song lyrics or general climate science without any connection to protest or activism. These failures stem from TF-IDF’s inability to understand context, semantics, and intent. It relies solely on word overlap and frequency, which can be misleading when generic words like “change” dominate.\n",
    "Overall, TF-IDF performed better than raw BoW by reducing noise and prioritizing meaningful terms. Yet, it still fails in nuanced cases, and could be improved further by incorporating word embeddings, query expansion, or topic modeling."
   ],
   "metadata": {
    "collapsed": false,
    "pycharm": {
     "name": "#%% md\n"
    }
   }
  },
  {
   "cell_type": "markdown",
   "source": [
    "## 4. Word Embeddings\n",
    "\n",
    "In this section you will load the pre-trained word embeddings model - Glove. You can read more about it [here](https://aclanthology.org/D14-1162/) ([https://aclanthology.org/D14-1162/](https://aclanthology.org/D14-1162/)). The embeddings are trained on a large corpus of text and are available in different dimensions. We will start with the dimension of 100, but later you will be asked to experiment with other dimensions.\n",
    "Gensim library maintains a storage containing some pre-trained models. You can read more about it [here](https://github.com/piskvorky/gensim-data) ([https://github.com/piskvorky/gensim-data](https://github.com/piskvorky/gensim-data)). Be sure to read the README of this repository.\n",
    "\n",
    "Let's first load the info of what models are available."
   ],
   "metadata": {
    "collapsed": false,
    "pycharm": {
     "name": "#%% md\n"
    }
   }
  },
  {
   "cell_type": "code",
   "source": [
    "import json\n",
    "import gensim.downloader as api\n",
    "\n",
    "info = api.info()  # show info about available models/datasets\n",
    "print(json.dumps(info['models'], indent=2))"
   ],
   "metadata": {
    "collapsed": false,
    "pycharm": {
     "name": "#%%\n"
    },
    "ExecuteTime": {
     "end_time": "2025-04-15T13:11:01.897204Z",
     "start_time": "2025-04-15T13:11:01.808413Z"
    }
   },
   "outputs": [
    {
     "name": "stdout",
     "output_type": "stream",
     "text": [
      "{\n",
      "  \"fasttext-wiki-news-subwords-300\": {\n",
      "    \"num_records\": 999999,\n",
      "    \"file_size\": 1005007116,\n",
      "    \"base_dataset\": \"Wikipedia 2017, UMBC webbase corpus and statmt.org news dataset (16B tokens)\",\n",
      "    \"reader_code\": \"https://github.com/RaRe-Technologies/gensim-data/releases/download/fasttext-wiki-news-subwords-300/__init__.py\",\n",
      "    \"license\": \"https://creativecommons.org/licenses/by-sa/3.0/\",\n",
      "    \"parameters\": {\n",
      "      \"dimension\": 300\n",
      "    },\n",
      "    \"description\": \"1 million word vectors trained on Wikipedia 2017, UMBC webbase corpus and statmt.org news dataset (16B tokens).\",\n",
      "    \"read_more\": [\n",
      "      \"https://fasttext.cc/docs/en/english-vectors.html\",\n",
      "      \"https://arxiv.org/abs/1712.09405\",\n",
      "      \"https://arxiv.org/abs/1607.01759\"\n",
      "    ],\n",
      "    \"checksum\": \"de2bb3a20c46ce65c9c131e1ad9a77af\",\n",
      "    \"file_name\": \"fasttext-wiki-news-subwords-300.gz\",\n",
      "    \"parts\": 1\n",
      "  },\n",
      "  \"conceptnet-numberbatch-17-06-300\": {\n",
      "    \"num_records\": 1917247,\n",
      "    \"file_size\": 1225497562,\n",
      "    \"base_dataset\": \"ConceptNet, word2vec, GloVe, and OpenSubtitles 2016\",\n",
      "    \"reader_code\": \"https://github.com/RaRe-Technologies/gensim-data/releases/download/conceptnet-numberbatch-17-06-300/__init__.py\",\n",
      "    \"license\": \"https://github.com/commonsense/conceptnet-numberbatch/blob/master/LICENSE.txt\",\n",
      "    \"parameters\": {\n",
      "      \"dimension\": 300\n",
      "    },\n",
      "    \"description\": \"ConceptNet Numberbatch consists of state-of-the-art semantic vectors (also known as word embeddings) that can be used directly as a representation of word meanings or as a starting point for further machine learning. ConceptNet Numberbatch is part of the ConceptNet open data project. ConceptNet provides lots of ways to compute with word meanings, one of which is word embeddings. ConceptNet Numberbatch is a snapshot of just the word embeddings. It is built using an ensemble that combines data from ConceptNet, word2vec, GloVe, and OpenSubtitles 2016, using a variation on retrofitting.\",\n",
      "    \"read_more\": [\n",
      "      \"http://aaai.org/ocs/index.php/AAAI/AAAI17/paper/view/14972\",\n",
      "      \"https://github.com/commonsense/conceptnet-numberbatch\",\n",
      "      \"http://conceptnet.io/\"\n",
      "    ],\n",
      "    \"checksum\": \"fd642d457adcd0ea94da0cd21b150847\",\n",
      "    \"file_name\": \"conceptnet-numberbatch-17-06-300.gz\",\n",
      "    \"parts\": 1\n",
      "  },\n",
      "  \"word2vec-ruscorpora-300\": {\n",
      "    \"num_records\": 184973,\n",
      "    \"file_size\": 208427381,\n",
      "    \"base_dataset\": \"Russian National Corpus (about 250M words)\",\n",
      "    \"reader_code\": \"https://github.com/RaRe-Technologies/gensim-data/releases/download/word2vec-ruscorpora-300/__init__.py\",\n",
      "    \"license\": \"https://creativecommons.org/licenses/by/4.0/deed.en\",\n",
      "    \"parameters\": {\n",
      "      \"dimension\": 300,\n",
      "      \"window_size\": 10\n",
      "    },\n",
      "    \"description\": \"Word2vec Continuous Skipgram vectors trained on full Russian National Corpus (about 250M words). The model contains 185K words.\",\n",
      "    \"preprocessing\": \"The corpus was lemmatized and tagged with Universal PoS\",\n",
      "    \"read_more\": [\n",
      "      \"https://www.academia.edu/24306935/WebVectors_a_Toolkit_for_Building_Web_Interfaces_for_Vector_Semantic_Models\",\n",
      "      \"http://rusvectores.org/en/\",\n",
      "      \"https://github.com/RaRe-Technologies/gensim-data/issues/3\"\n",
      "    ],\n",
      "    \"checksum\": \"9bdebdc8ae6d17d20839dd9b5af10bc4\",\n",
      "    \"file_name\": \"word2vec-ruscorpora-300.gz\",\n",
      "    \"parts\": 1\n",
      "  },\n",
      "  \"word2vec-google-news-300\": {\n",
      "    \"num_records\": 3000000,\n",
      "    \"file_size\": 1743563840,\n",
      "    \"base_dataset\": \"Google News (about 100 billion words)\",\n",
      "    \"reader_code\": \"https://github.com/RaRe-Technologies/gensim-data/releases/download/word2vec-google-news-300/__init__.py\",\n",
      "    \"license\": \"not found\",\n",
      "    \"parameters\": {\n",
      "      \"dimension\": 300\n",
      "    },\n",
      "    \"description\": \"Pre-trained vectors trained on a part of the Google News dataset (about 100 billion words). The model contains 300-dimensional vectors for 3 million words and phrases. The phrases were obtained using a simple data-driven approach described in 'Distributed Representations of Words and Phrases and their Compositionality' (https://code.google.com/archive/p/word2vec/).\",\n",
      "    \"read_more\": [\n",
      "      \"https://code.google.com/archive/p/word2vec/\",\n",
      "      \"https://arxiv.org/abs/1301.3781\",\n",
      "      \"https://arxiv.org/abs/1310.4546\",\n",
      "      \"https://www.microsoft.com/en-us/research/publication/linguistic-regularities-in-continuous-space-word-representations/?from=http%3A%2F%2Fresearch.microsoft.com%2Fpubs%2F189726%2Frvecs.pdf\"\n",
      "    ],\n",
      "    \"checksum\": \"a5e5354d40acb95f9ec66d5977d140ef\",\n",
      "    \"file_name\": \"word2vec-google-news-300.gz\",\n",
      "    \"parts\": 1\n",
      "  },\n",
      "  \"glove-wiki-gigaword-50\": {\n",
      "    \"num_records\": 400000,\n",
      "    \"file_size\": 69182535,\n",
      "    \"base_dataset\": \"Wikipedia 2014 + Gigaword 5 (6B tokens, uncased)\",\n",
      "    \"reader_code\": \"https://github.com/RaRe-Technologies/gensim-data/releases/download/glove-wiki-gigaword-50/__init__.py\",\n",
      "    \"license\": \"http://opendatacommons.org/licenses/pddl/\",\n",
      "    \"parameters\": {\n",
      "      \"dimension\": 50\n",
      "    },\n",
      "    \"description\": \"Pre-trained vectors based on Wikipedia 2014 + Gigaword, 5.6B tokens, 400K vocab, uncased (https://nlp.stanford.edu/projects/glove/).\",\n",
      "    \"preprocessing\": \"Converted to w2v format with `python -m gensim.scripts.glove2word2vec -i <fname> -o glove-wiki-gigaword-50.txt`.\",\n",
      "    \"read_more\": [\n",
      "      \"https://nlp.stanford.edu/projects/glove/\",\n",
      "      \"https://nlp.stanford.edu/pubs/glove.pdf\"\n",
      "    ],\n",
      "    \"checksum\": \"c289bc5d7f2f02c6dc9f2f9b67641813\",\n",
      "    \"file_name\": \"glove-wiki-gigaword-50.gz\",\n",
      "    \"parts\": 1\n",
      "  },\n",
      "  \"glove-wiki-gigaword-100\": {\n",
      "    \"num_records\": 400000,\n",
      "    \"file_size\": 134300434,\n",
      "    \"base_dataset\": \"Wikipedia 2014 + Gigaword 5 (6B tokens, uncased)\",\n",
      "    \"reader_code\": \"https://github.com/RaRe-Technologies/gensim-data/releases/download/glove-wiki-gigaword-100/__init__.py\",\n",
      "    \"license\": \"http://opendatacommons.org/licenses/pddl/\",\n",
      "    \"parameters\": {\n",
      "      \"dimension\": 100\n",
      "    },\n",
      "    \"description\": \"Pre-trained vectors based on Wikipedia 2014 + Gigaword 5.6B tokens, 400K vocab, uncased (https://nlp.stanford.edu/projects/glove/).\",\n",
      "    \"preprocessing\": \"Converted to w2v format with `python -m gensim.scripts.glove2word2vec -i <fname> -o glove-wiki-gigaword-100.txt`.\",\n",
      "    \"read_more\": [\n",
      "      \"https://nlp.stanford.edu/projects/glove/\",\n",
      "      \"https://nlp.stanford.edu/pubs/glove.pdf\"\n",
      "    ],\n",
      "    \"checksum\": \"40ec481866001177b8cd4cb0df92924f\",\n",
      "    \"file_name\": \"glove-wiki-gigaword-100.gz\",\n",
      "    \"parts\": 1\n",
      "  },\n",
      "  \"glove-wiki-gigaword-200\": {\n",
      "    \"num_records\": 400000,\n",
      "    \"file_size\": 264336934,\n",
      "    \"base_dataset\": \"Wikipedia 2014 + Gigaword 5 (6B tokens, uncased)\",\n",
      "    \"reader_code\": \"https://github.com/RaRe-Technologies/gensim-data/releases/download/glove-wiki-gigaword-200/__init__.py\",\n",
      "    \"license\": \"http://opendatacommons.org/licenses/pddl/\",\n",
      "    \"parameters\": {\n",
      "      \"dimension\": 200\n",
      "    },\n",
      "    \"description\": \"Pre-trained vectors based on Wikipedia 2014 + Gigaword, 5.6B tokens, 400K vocab, uncased (https://nlp.stanford.edu/projects/glove/).\",\n",
      "    \"preprocessing\": \"Converted to w2v format with `python -m gensim.scripts.glove2word2vec -i <fname> -o glove-wiki-gigaword-200.txt`.\",\n",
      "    \"read_more\": [\n",
      "      \"https://nlp.stanford.edu/projects/glove/\",\n",
      "      \"https://nlp.stanford.edu/pubs/glove.pdf\"\n",
      "    ],\n",
      "    \"checksum\": \"59652db361b7a87ee73834a6c391dfc1\",\n",
      "    \"file_name\": \"glove-wiki-gigaword-200.gz\",\n",
      "    \"parts\": 1\n",
      "  },\n",
      "  \"glove-wiki-gigaword-300\": {\n",
      "    \"num_records\": 400000,\n",
      "    \"file_size\": 394362229,\n",
      "    \"base_dataset\": \"Wikipedia 2014 + Gigaword 5 (6B tokens, uncased)\",\n",
      "    \"reader_code\": \"https://github.com/RaRe-Technologies/gensim-data/releases/download/glove-wiki-gigaword-300/__init__.py\",\n",
      "    \"license\": \"http://opendatacommons.org/licenses/pddl/\",\n",
      "    \"parameters\": {\n",
      "      \"dimension\": 300\n",
      "    },\n",
      "    \"description\": \"Pre-trained vectors based on Wikipedia 2014 + Gigaword, 5.6B tokens, 400K vocab, uncased (https://nlp.stanford.edu/projects/glove/).\",\n",
      "    \"preprocessing\": \"Converted to w2v format with `python -m gensim.scripts.glove2word2vec -i <fname> -o glove-wiki-gigaword-300.txt`.\",\n",
      "    \"read_more\": [\n",
      "      \"https://nlp.stanford.edu/projects/glove/\",\n",
      "      \"https://nlp.stanford.edu/pubs/glove.pdf\"\n",
      "    ],\n",
      "    \"checksum\": \"29e9329ac2241937d55b852e8284e89b\",\n",
      "    \"file_name\": \"glove-wiki-gigaword-300.gz\",\n",
      "    \"parts\": 1\n",
      "  },\n",
      "  \"glove-twitter-25\": {\n",
      "    \"num_records\": 1193514,\n",
      "    \"file_size\": 109885004,\n",
      "    \"base_dataset\": \"Twitter (2B tweets, 27B tokens, 1.2M vocab, uncased)\",\n",
      "    \"reader_code\": \"https://github.com/RaRe-Technologies/gensim-data/releases/download/glove-twitter-25/__init__.py\",\n",
      "    \"license\": \"http://opendatacommons.org/licenses/pddl/\",\n",
      "    \"parameters\": {\n",
      "      \"dimension\": 25\n",
      "    },\n",
      "    \"description\": \"Pre-trained vectors based on 2B tweets, 27B tokens, 1.2M vocab, uncased (https://nlp.stanford.edu/projects/glove/).\",\n",
      "    \"preprocessing\": \"Converted to w2v format with `python -m gensim.scripts.glove2word2vec -i <fname> -o glove-twitter-25.txt`.\",\n",
      "    \"read_more\": [\n",
      "      \"https://nlp.stanford.edu/projects/glove/\",\n",
      "      \"https://nlp.stanford.edu/pubs/glove.pdf\"\n",
      "    ],\n",
      "    \"checksum\": \"50db0211d7e7a2dcd362c6b774762793\",\n",
      "    \"file_name\": \"glove-twitter-25.gz\",\n",
      "    \"parts\": 1\n",
      "  },\n",
      "  \"glove-twitter-50\": {\n",
      "    \"num_records\": 1193514,\n",
      "    \"file_size\": 209216938,\n",
      "    \"base_dataset\": \"Twitter (2B tweets, 27B tokens, 1.2M vocab, uncased)\",\n",
      "    \"reader_code\": \"https://github.com/RaRe-Technologies/gensim-data/releases/download/glove-twitter-50/__init__.py\",\n",
      "    \"license\": \"http://opendatacommons.org/licenses/pddl/\",\n",
      "    \"parameters\": {\n",
      "      \"dimension\": 50\n",
      "    },\n",
      "    \"description\": \"Pre-trained vectors based on 2B tweets, 27B tokens, 1.2M vocab, uncased (https://nlp.stanford.edu/projects/glove/)\",\n",
      "    \"preprocessing\": \"Converted to w2v format with `python -m gensim.scripts.glove2word2vec -i <fname> -o glove-twitter-50.txt`.\",\n",
      "    \"read_more\": [\n",
      "      \"https://nlp.stanford.edu/projects/glove/\",\n",
      "      \"https://nlp.stanford.edu/pubs/glove.pdf\"\n",
      "    ],\n",
      "    \"checksum\": \"c168f18641f8c8a00fe30984c4799b2b\",\n",
      "    \"file_name\": \"glove-twitter-50.gz\",\n",
      "    \"parts\": 1\n",
      "  },\n",
      "  \"glove-twitter-100\": {\n",
      "    \"num_records\": 1193514,\n",
      "    \"file_size\": 405932991,\n",
      "    \"base_dataset\": \"Twitter (2B tweets, 27B tokens, 1.2M vocab, uncased)\",\n",
      "    \"reader_code\": \"https://github.com/RaRe-Technologies/gensim-data/releases/download/glove-twitter-100/__init__.py\",\n",
      "    \"license\": \"http://opendatacommons.org/licenses/pddl/\",\n",
      "    \"parameters\": {\n",
      "      \"dimension\": 100\n",
      "    },\n",
      "    \"description\": \"Pre-trained vectors based on  2B tweets, 27B tokens, 1.2M vocab, uncased (https://nlp.stanford.edu/projects/glove/)\",\n",
      "    \"preprocessing\": \"Converted to w2v format with `python -m gensim.scripts.glove2word2vec -i <fname> -o glove-twitter-100.txt`.\",\n",
      "    \"read_more\": [\n",
      "      \"https://nlp.stanford.edu/projects/glove/\",\n",
      "      \"https://nlp.stanford.edu/pubs/glove.pdf\"\n",
      "    ],\n",
      "    \"checksum\": \"b04f7bed38756d64cf55b58ce7e97b15\",\n",
      "    \"file_name\": \"glove-twitter-100.gz\",\n",
      "    \"parts\": 1\n",
      "  },\n",
      "  \"glove-twitter-200\": {\n",
      "    \"num_records\": 1193514,\n",
      "    \"file_size\": 795373100,\n",
      "    \"base_dataset\": \"Twitter (2B tweets, 27B tokens, 1.2M vocab, uncased)\",\n",
      "    \"reader_code\": \"https://github.com/RaRe-Technologies/gensim-data/releases/download/glove-twitter-200/__init__.py\",\n",
      "    \"license\": \"http://opendatacommons.org/licenses/pddl/\",\n",
      "    \"parameters\": {\n",
      "      \"dimension\": 200\n",
      "    },\n",
      "    \"description\": \"Pre-trained vectors based on 2B tweets, 27B tokens, 1.2M vocab, uncased (https://nlp.stanford.edu/projects/glove/).\",\n",
      "    \"preprocessing\": \"Converted to w2v format with `python -m gensim.scripts.glove2word2vec -i <fname> -o glove-twitter-200.txt`.\",\n",
      "    \"read_more\": [\n",
      "      \"https://nlp.stanford.edu/projects/glove/\",\n",
      "      \"https://nlp.stanford.edu/pubs/glove.pdf\"\n",
      "    ],\n",
      "    \"checksum\": \"e52e8392d1860b95d5308a525817d8f9\",\n",
      "    \"file_name\": \"glove-twitter-200.gz\",\n",
      "    \"parts\": 1\n",
      "  },\n",
      "  \"__testing_word2vec-matrix-synopsis\": {\n",
      "    \"description\": \"[THIS IS ONLY FOR TESTING] Word vecrors of the movie matrix.\",\n",
      "    \"parameters\": {\n",
      "      \"dimensions\": 50\n",
      "    },\n",
      "    \"preprocessing\": \"Converted to w2v using a preprocessed corpus. Converted to w2v format with `python3.5 -m gensim.models.word2vec -train <input_filename> -iter 50 -output <output_filename>`.\",\n",
      "    \"read_more\": [],\n",
      "    \"checksum\": \"534dcb8b56a360977a269b7bfc62d124\",\n",
      "    \"file_name\": \"__testing_word2vec-matrix-synopsis.gz\",\n",
      "    \"parts\": 1\n",
      "  }\n",
      "}\n"
     ]
    }
   ],
   "execution_count": 64
  },
  {
   "cell_type": "code",
   "source": [
    "glove_model = api.load(\"glove-wiki-gigaword-100\")"
   ],
   "metadata": {
    "collapsed": false,
    "pycharm": {
     "name": "#%%\n"
    },
    "ExecuteTime": {
     "end_time": "2025-04-15T13:11:35.531804Z",
     "start_time": "2025-04-15T13:11:22.974674Z"
    }
   },
   "outputs": [],
   "execution_count": 65
  },
  {
   "cell_type": "markdown",
   "source": [
    "We can use the loaded model's `key_to_index` attribute to retrieve the whole vocabulary (aka for how many words we learned embeddings for)."
   ],
   "metadata": {
    "collapsed": false,
    "pycharm": {
     "name": "#%% md\n"
    }
   }
  },
  {
   "cell_type": "code",
   "source": [
    "vocab = list(glove_model.key_to_index)\n",
    "print(len(vocab))"
   ],
   "metadata": {
    "collapsed": false,
    "pycharm": {
     "name": "#%%\n"
    },
    "ExecuteTime": {
     "end_time": "2025-04-15T13:12:18.875205Z",
     "start_time": "2025-04-15T13:12:18.869266Z"
    }
   },
   "outputs": [
    {
     "name": "stdout",
     "output_type": "stream",
     "text": [
      "400000\n"
     ]
    }
   ],
   "execution_count": 66
  },
  {
   "cell_type": "markdown",
   "source": [
    "Let's explore a bit further the embeddings. In the following cells, the embedding of a single word is returned. Double-check the dimensions (as sanity check). This is like inspecting the `W` matrix (weights) that we discussed in the lecture."
   ],
   "metadata": {
    "collapsed": false,
    "pycharm": {
     "name": "#%% md\n"
    }
   }
  },
  {
   "cell_type": "code",
   "source": [
    "# vector of a particular model. note that it is 100 dimensional as specified.\n",
    "print(glove_model['what'])\n",
    "glove_model['what'].shape"
   ],
   "metadata": {
    "collapsed": false,
    "pycharm": {
     "name": "#%%\n"
    },
    "ExecuteTime": {
     "end_time": "2025-04-15T13:15:19.121947Z",
     "start_time": "2025-04-15T13:15:19.118894Z"
    }
   },
   "outputs": [
    {
     "name": "stdout",
     "output_type": "stream",
     "text": [
      "[-1.5180e-01  3.8409e-01  8.9340e-01 -4.2421e-01 -9.2161e-01  3.7988e-02\n",
      " -3.2026e-01  3.4119e-03  2.2101e-01 -2.2045e-01  1.6661e-01  2.1956e-01\n",
      "  2.5325e-01 -2.9267e-01  1.0171e-01 -7.5491e-02 -6.0406e-02  2.8194e-01\n",
      " -5.8519e-01  4.8271e-01  1.7504e-02 -1.2086e-01 -1.0990e-01 -6.9554e-01\n",
      "  1.5600e-01  7.0558e-02 -1.5058e-01 -8.1811e-01 -1.8535e-01 -3.6863e-01\n",
      "  3.1650e-02  7.6616e-01  8.4041e-02  2.6928e-03 -2.7440e-01  2.1815e-01\n",
      " -3.5157e-02  3.2569e-01  1.0032e-01 -6.0932e-01 -7.0316e-01  1.8299e-01\n",
      "  3.3134e-01 -1.2416e-01 -9.0542e-01 -3.9157e-02  4.4719e-01 -5.7338e-01\n",
      " -4.0172e-01 -8.2234e-01  5.5740e-01  1.5101e-01  2.4598e-01  1.0113e+00\n",
      " -4.6626e-01 -2.7133e+00  4.3273e-01 -1.6314e-01  1.5828e+00  5.5081e-01\n",
      " -2.4738e-01  1.4184e+00 -1.6867e-02 -1.9368e-01  1.0090e+00 -5.9864e-02\n",
      "  9.1853e-01  4.3022e-01 -2.0624e-01  7.6127e-02  2.1595e-01 -2.6834e-01\n",
      " -3.3342e-01 -3.7151e-01  4.5197e-01 -8.2460e-02  3.2984e-01 -5.7376e-01\n",
      " -1.3042e+00  2.7121e-01  6.6277e-01 -7.9626e-02 -7.9167e-01 -5.3662e-03\n",
      " -1.7916e+00 -3.3298e-01 -3.0698e-01 -3.3980e-01 -5.5618e-01 -6.9471e-01\n",
      "  2.7427e-01 -2.1898e-01 -2.6714e-01  2.2561e-03 -5.0178e-01 -3.2775e-01\n",
      " -4.5670e-01 -2.7123e-01  2.2157e-01  9.2112e-01]\n"
     ]
    },
    {
     "data": {
      "text/plain": [
       "(100,)"
      ]
     },
     "execution_count": 70,
     "metadata": {},
     "output_type": "execute_result"
    }
   ],
   "execution_count": 70
  },
  {
   "cell_type": "markdown",
   "source": [
    "Gensim objects offers different methods to easily run very common tasks. For example, there are different functions to find the most similar words.\n",
    "\n",
    "Check the documentation on how [`most_similar`](https://tedboy.github.io/nlps/generated/generated/gensim.models.Word2Vec.most_similar.html) and [`similar_by_word`](https://tedboy.github.io/nlps/generated/generated/gensim.models.Word2Vec.similar_by_word.html) can be used."
   ],
   "metadata": {
    "collapsed": false,
    "pycharm": {
     "name": "#%% md\n"
    }
   }
  },
  {
   "cell_type": "code",
   "source": [
    "# most similar words to a given word\n",
    "print(glove_model.most_similar('what', topn=10))\n",
    "\n",
    "# also u can use\n",
    "print(glove_model.similar_by_word('miss', topn=5))"
   ],
   "metadata": {
    "collapsed": false,
    "pycharm": {
     "name": "#%%\n"
    },
    "ExecuteTime": {
     "end_time": "2025-04-15T13:15:46.980046Z",
     "start_time": "2025-04-15T13:15:46.864872Z"
    }
   },
   "outputs": [
    {
     "name": "stdout",
     "output_type": "stream",
     "text": [
      "[('how', 0.930321455001831), ('why', 0.9196362495422363), ('fact', 0.9069437980651855), ('know', 0.8876389861106873), ('that', 0.8810365796089172), ('think', 0.8772969841957092), ('so', 0.8753098249435425), ('even', 0.8751895427703857), ('something', 0.874744176864624), ('if', 0.8702542781829834)]\n",
      "[('play', 0.6266525387763977), ('missed', 0.608065128326416), ('she', 0.596325695514679), ('chance', 0.5839369297027588), ('tournament', 0.5722586512565613)]\n"
     ]
    }
   ],
   "execution_count": 71
  },
  {
   "cell_type": "code",
   "source": [
    "print(glove_model.most_similar('why', topn=10))"
   ],
   "metadata": {
    "collapsed": false,
    "pycharm": {
     "name": "#%%\n"
    },
    "ExecuteTime": {
     "end_time": "2025-04-15T13:16:22.383352Z",
     "start_time": "2025-04-15T13:16:22.361398Z"
    }
   },
   "outputs": [
    {
     "name": "stdout",
     "output_type": "stream",
     "text": [
      "[('know', 0.9440940618515015), ('what', 0.9196362495422363), ('think', 0.9086559414863586), ('how', 0.9020735621452332), ('tell', 0.8923122882843018), (\"n't\", 0.8890628814697266), ('sure', 0.8870969414710999), ('thought', 0.8747684955596924), ('believe', 0.8745115995407104), ('say', 0.8730074763298035)]\n"
     ]
    }
   ],
   "execution_count": 72
  },
  {
   "cell_type": "code",
   "source": [
    "print(glove_model.similar_by_word('who', topn=5))"
   ],
   "metadata": {
    "collapsed": false,
    "pycharm": {
     "name": "#%%\n"
    },
    "ExecuteTime": {
     "end_time": "2025-04-15T13:16:36.958423Z",
     "start_time": "2025-04-15T13:16:36.931862Z"
    }
   },
   "outputs": [
    {
     "name": "stdout",
     "output_type": "stream",
     "text": [
      "[('whom', 0.8642492890357971), ('he', 0.8201969861984253), ('whose', 0.8143677711486816), ('had', 0.8035845160484314), ('others', 0.7708419561386108)]\n"
     ]
    }
   ],
   "execution_count": 73
  },
  {
   "cell_type": "markdown",
   "source": [
    "We can now compare our implementation with the one in the pre-trained model and confirm what we already expected."
   ],
   "metadata": {
    "collapsed": false,
    "pycharm": {
     "name": "#%% md\n"
    }
   }
  },
  {
   "cell_type": "code",
   "source": [
    "# simalarity between two words\n",
    "word1 = 'alive'\n",
    "word2 = 'biology'\n",
    "print(glove_model.similarity(word1, word2))\n",
    "print(cosine_similarity(glove_model[word1], glove_model[word2]))"
   ],
   "metadata": {
    "collapsed": false,
    "pycharm": {
     "name": "#%%\n"
    },
    "ExecuteTime": {
     "end_time": "2025-04-15T13:23:42.048073Z",
     "start_time": "2025-04-15T13:23:42.045458Z"
    }
   },
   "outputs": [
    {
     "name": "stdout",
     "output_type": "stream",
     "text": [
      "0.15712574\n",
      "0.15712576\n"
     ]
    }
   ],
   "execution_count": 80
  },
  {
   "cell_type": "code",
   "source": [
    "# simalarity between two words. similar words\n",
    "word1 = 'alive'\n",
    "word2 = 'life'\n",
    "print(glove_model.similarity(word1, word2))\n",
    "print(cosine_similarity(glove_model[word1], glove_model[word2]))"
   ],
   "metadata": {
    "collapsed": false,
    "pycharm": {
     "name": "#%%\n"
    },
    "ExecuteTime": {
     "end_time": "2025-04-15T13:24:34.388789Z",
     "start_time": "2025-04-15T13:24:34.386394Z"
    }
   },
   "outputs": [
    {
     "name": "stdout",
     "output_type": "stream",
     "text": [
      "0.6400604\n",
      "0.6400604\n"
     ]
    }
   ],
   "execution_count": 81
  },
  {
   "cell_type": "code",
   "source": [
    "# simalarity between two words. dissimilar words\n",
    "word1 = 'alive'\n",
    "word2 = 'dead'\n",
    "print(glove_model.similarity(word1, word2))\n",
    "print(cosine_similarity(glove_model[word1], glove_model[word2]))"
   ],
   "metadata": {
    "collapsed": false,
    "pycharm": {
     "name": "#%%\n"
    },
    "ExecuteTime": {
     "end_time": "2025-04-15T13:24:50.734370Z",
     "start_time": "2025-04-15T13:24:50.732011Z"
    }
   },
   "outputs": [
    {
     "name": "stdout",
     "output_type": "stream",
     "text": [
      "0.71035177\n",
      "0.71035177\n"
     ]
    }
   ],
   "execution_count": 82
  },
  {
   "cell_type": "code",
   "source": [
    "# simalarity between two words. unrelated words\n",
    "word1 = 'alive'\n",
    "word2 = 'horse'\n",
    "print(glove_model.similarity(word1, word2))\n",
    "print(cosine_similarity(glove_model[word1], glove_model[word2]))"
   ],
   "metadata": {
    "collapsed": false,
    "pycharm": {
     "name": "#%%\n"
    },
    "ExecuteTime": {
     "end_time": "2025-04-15T13:25:03.936737Z",
     "start_time": "2025-04-15T13:25:03.934473Z"
    }
   },
   "outputs": [
    {
     "name": "stdout",
     "output_type": "stream",
     "text": [
      "0.34625494\n",
      "0.34625494\n"
     ]
    }
   ],
   "execution_count": 83
  },
  {
   "cell_type": "code",
   "source": [
    "# simalarity between two SAME words\n",
    "glove_model.similarity('equal', 'equal')\n",
    "word1 = 'equal'\n",
    "word2 = 'equal'\n",
    "print(glove_model.similarity(word1, word2))\n",
    "print(cosine_similarity(glove_model[word1], glove_model[word2]))"
   ],
   "metadata": {
    "collapsed": false,
    "pycharm": {
     "name": "#%%\n"
    },
    "ExecuteTime": {
     "end_time": "2025-04-15T13:25:17.137028Z",
     "start_time": "2025-04-15T13:25:17.134620Z"
    }
   },
   "outputs": [
    {
     "name": "stdout",
     "output_type": "stream",
     "text": [
      "1.0\n",
      "1.0000001\n"
     ]
    }
   ],
   "execution_count": 84
  },
  {
   "cell_type": "markdown",
   "source": [
    "The next function contains the code to plot a similarity matrix between multiple words (e.g. if we want to compare 10 words and their pair-wise similarities). It requires a matrix with similarities (as input) and labels (aka the words) to display in the final figure."
   ],
   "metadata": {
    "collapsed": false,
    "pycharm": {
     "name": "#%% md\n"
    }
   }
  },
  {
   "cell_type": "code",
   "source": [
    "def plot_similarity_matrix(matrix, labels):\n",
    "    \"\"\"\n",
    "    Displays a plot of the `matrix` of size (N x N) with the labels specified as a list of size N\n",
    "    Args:\n",
    "        matrix: a square-sized (N x N) numpy array\n",
    "        labels: a list of strings of hte size N\n",
    "    \"\"\"\n",
    "\n",
    "    fig, ax = plt.subplots()\n",
    "    im = ax.imshow(matrix)\n",
    "\n",
    "    # Show all ticks and label them with the respective list entries\n",
    "    ax.set_xticks(np.arange(len(labels)), labels=labels)\n",
    "    ax.set_yticks(np.arange(len(labels)), labels=labels)\n",
    "\n",
    "    # Rotate the tick labels and set their alignment.\n",
    "    plt.setp(ax.get_xticklabels(), rotation=45, ha=\"right\",\n",
    "             rotation_mode=\"anchor\")\n",
    "\n",
    "    # Loop over data dimensions and create text annotations.\n",
    "    for i in range(len(labels)):\n",
    "        for j in range(len(labels)):\n",
    "            text = ax.text(j, i, f'{matrix[i, j]:.2f}',\n",
    "                           ha=\"center\", va=\"center\", color=\"w\")\n",
    "\n",
    "    # ax.set_title(\"Give a title if you want\")\n",
    "    fig.tight_layout()\n",
    "    plt.show()"
   ],
   "metadata": {
    "collapsed": false,
    "pycharm": {
     "name": "#%%\n"
    },
    "ExecuteTime": {
     "end_time": "2025-04-15T13:25:54.248065Z",
     "start_time": "2025-04-15T13:25:54.245075Z"
    }
   },
   "outputs": [],
   "execution_count": 85
  },
  {
   "cell_type": "markdown",
   "source": [
    "<a name='e10'></a>\n",
    "### Exercise 10: Plotting similarities between words\n",
    "\n",
    "(10p) In the following, we will explore some properties of word embeddings through some examples. We will use 6 example words for this purpose but experiment with other set of words as well. Fill in the next cell to create a similarity matrix between a list of words.\n",
    "\n",
    "Experiment with different words and their similarities plotted. Try at least 3 different sets of words of at least 6 words each. Use the `plot_similarity_matrix` function to visualize the results.\n",
    "Comment on the results. Do they make sense? Why some words are closer to each other than others? What does it mean?"
   ],
   "metadata": {
    "collapsed": false,
    "pycharm": {
     "name": "#%% md\n"
    }
   }
  },
  {
   "cell_type": "code",
   "source": [
    "list_of_words1 = ['love', 'hate', 'life', 'equal', 'alive', 'dead']\n",
    "list_of_words2 = ['happy', 'sad', 'joy', 'anger', 'smile', 'cry']\n",
    "list_of_words3 = ['dog', 'cat', 'tiger', 'lion', 'fish', 'apple']\n",
    "\n",
    "similarity_matrix1 = np.zeros((len(list_of_words1), len(list_of_words1)), dtype=float)\n",
    "similarity_matrix2 = np.zeros((len(list_of_words2), len(list_of_words2)), dtype=float)\n",
    "similarity_matrix3 = np.zeros((len(list_of_words3), len(list_of_words3)), dtype=float)\n",
    "\n",
    "### YOUR CODE HERE\n",
    "def fill_matrix(similarity_matrix,list_of_words):\n",
    "    for i in range(len(list_of_words)):\n",
    "        for j in range(len(list_of_words)):\n",
    "            try:\n",
    "                similarity_matrix[i, j] = glove_model.similarity(list_of_words[i], list_of_words[j])\n",
    "            except KeyError:\n",
    "                similarity_matrix[i, j] = 0.0\n",
    "\n",
    "fill_matrix(similarity_matrix1, list_of_words1)\n",
    "fill_matrix(similarity_matrix2, list_of_words2)\n",
    "fill_matrix(similarity_matrix3, list_of_words3)\n",
    "### YOUR CODE ENDS HERE\n",
    "\n",
    "\n",
    "plot_similarity_matrix(similarity_matrix1, list_of_words1)\n",
    "plot_similarity_matrix(similarity_matrix2, list_of_words2)\n",
    "plot_similarity_matrix(similarity_matrix3, list_of_words3)"
   ],
   "metadata": {
    "collapsed": false,
    "pycharm": {
     "name": "#%%\n"
    },
    "ExecuteTime": {
     "end_time": "2025-04-15T13:38:44.948468Z",
     "start_time": "2025-04-15T13:38:44.752926Z"
    }
   },
   "outputs": [
    {
     "data": {
      "text/plain": [
       "<Figure size 640x480 with 1 Axes>"
      ],
      "image/png": "[encoded data removed]"
     },
     "metadata": {},
     "output_type": "display_data"
    },
    {
     "data": {
      "text/plain": [
       "<Figure size 640x480 with 1 Axes>"
      ],
      "image/png": "[encoded data removed]"
     },
     "metadata": {},
     "output_type": "display_data"
    },
    {
     "data": {
      "text/plain": [
       "<Figure size 640x480 with 1 Axes>"
      ],
      "image/png": "[encoded data removed]"
     },
     "metadata": {},
     "output_type": "display_data"
    }
   ],
   "execution_count": 88
  },
  {
   "cell_type": "code",
   "execution_count": null,
   "outputs": [],
   "source": [
    "#### YOUR CODE HERE\n",
    "#Do they make sense?\n",
    "#the similarity matrices absolutely make sense, and they reveal a lot about the semantic structure captured by the word embeddings\n",
    "#Why some words are closer to each other than others?\n",
    "#Two words are closer if they: Frequently Appear in Similar Contexts, Belong to the Same Semantic Category, Are Antonyms but Co-occur Often\n",
    "#What does it mean?\n",
    "#It means they are semantically related even if not identical.\n",
    "### YOUR CODE ENDS HERE"
   ],
   "metadata": {
    "collapsed": false,
    "pycharm": {
     "name": "#%%\n"
    }
   }
  },
  {
   "cell_type": "markdown",
   "source": [
    "<a name='e11'></a>\n",
    "### Exercise 11: Other pre-trained word embeddings\n",
    "(10p) For this exercise, experiment with at least one different word embedding model. You can choose Glove with different dimensions or other pre-trained models. Use the gensim library to download and use the models.\n",
    "Plot similarity matrices between sets of words you used in the previous exercise and compare the results. Are there noticeable differences? Why (not)?"
   ],
   "metadata": {
    "collapsed": false,
    "pycharm": {
     "name": "#%% md\n"
    }
   }
  },
  {
   "cell_type": "code",
   "execution_count": null,
   "outputs": [],
   "source": [
    "#### YOUR CODE HERE\n",
    "\n",
    "\n",
    "\n",
    "### YOUR CODE ENDS HERE"
   ],
   "metadata": {
    "collapsed": false,
    "pycharm": {
     "name": "#%%\n"
    }
   }
  },
  {
   "cell_type": "markdown",
   "source": [
    "// your comments"
   ],
   "metadata": {
    "collapsed": false,
    "pycharm": {
     "name": "#%% md\n"
    }
   }
  },
  {
   "cell_type": "markdown",
   "source": [
    "## 5. Sentence Embeddings by Averaging Word Embeddings\n",
    "\n",
    "Word embeddings are a powerful model for representing words and their meaning (in terms of distributional similarity). As we discussed in class, we can use them in a wide variety of tasks with more complex architectures. Word vectors offer a dense vector for each word. What if we wanted to represent a sentence (or a document) based on word vectors. How can we do that?\n",
    "\n",
    "In the course, we will see different architectures that take into account the sequence of words (by combining their vectors). A first naive but simple and sometimes (as we are going to see) quite effective approach would be to represent a sentence with an embedding vector that is the average of the word vectors that form the sentence.\n",
    "\n",
    "So formally, this is what we are aiming for:\n",
    "\n",
    "$\n",
    "\\text{Sentence_Embedding} = \\frac{1}{N} \\sum_{i=1}^{N} \\text{Word_Embedding}_i\n",
    "$\n",
    "\n",
    "where:\n",
    "* $N$ is the number of words in a sentence\n",
    "* $\\text{Word_Embedding}_i$ is the word vector for the $i$-th in the sentence.\n",
    "\n",
    "Things to note:\n",
    "* The embedding vector for the sentence will obviously have the same dimension as the word embedding.\n",
    "* This representation ignores the word order (like bag-of-words). During the course we will see how we can overcome this limitation by using sequence models."
   ],
   "metadata": {
    "collapsed": false,
    "pycharm": {
     "name": "#%% md\n"
    }
   }
  },
  {
   "cell_type": "markdown",
   "source": [
    "<a name='e12'></a>\n",
    "### Exercise 12: Sentence Embedding\n",
    "\n",
    "(10p) Complete the function below that takes as input the sentence in the form of tokens (so it's a list of words) and calculates the sentence embedding vector. First, we would need to retrieve the word embeddings for each word from our loaded model and then average the vectors.\n",
    "\n",
    "Note: There can be cases where all tokens from a sentence are out-of-vocabulary words (OOV). Think what to do in this case and make sure to discuss it in the report."
   ],
   "metadata": {
    "collapsed": false,
    "pycharm": {
     "name": "#%% md\n"
    }
   }
  },
  {
   "cell_type": "code",
   "execution_count": null,
   "outputs": [],
   "source": [
    "def embed_sentence_word_model(tokens, model):\n",
    "    \"\"\"\n",
    "    Calculates the sentence embedding by averaging the embeddings of the tokens\n",
    "    Args:\n",
    "        tokens: a list of words from the sentence\n",
    "        model: a trained word embeddings model\n",
    "\n",
    "    Returns: a numpy array of the sentence embedding\n",
    "\n",
    "    \"\"\"\n",
    "    #### YOUR CODE HERE\n",
    "    #### CAUTION: be sure to cover the case where all tokens are out-of-vocabulary!!!\n",
    "\n",
    "\n",
    "\n",
    "\n",
    "    ### YOUR CODE ENDS HERE"
   ],
   "metadata": {
    "collapsed": false,
    "pycharm": {
     "name": "#%%\n"
    }
   }
  },
  {
   "cell_type": "markdown",
   "source": [
    "Now we can apply the function to the whole dataset. Here we do it both for the sentence and the compressed version. You should know it by now, but this operation might take some time. The next cells will apply your function to the whole dataset."
   ],
   "metadata": {
    "collapsed": false,
    "pycharm": {
     "name": "#%% md\n"
    }
   }
  },
  {
   "cell_type": "code",
   "execution_count": null,
   "outputs": [],
   "source": [
    "def embed_sentence_word_model_dataset(example, model):\n",
    "    \"\"\"\n",
    "    Embeds the sentence and the compressed sentence in the example from the Dataset\n",
    "    Args:\n",
    "        example: an example from the Dataset\n",
    "        model: a trained word embeddings model\n",
    "\n",
    "    Returns: updated example with 'sentence_embedding' and 'compressed_embedding' columns\n",
    "\n",
    "    \"\"\"\n",
    "    sentence_tokens = example['sentence_tokens']\n",
    "    clean_compressed = example['clean_compressed']\n",
    "    compressed_tokens = tokenize(clean_compressed)\n",
    "\n",
    "    sentence_embedding = embed_sentence_word_model(sentence_tokens, model)\n",
    "    compressed_embedding = embed_sentence_word_model(compressed_tokens, model)\n",
    "\n",
    "    example['sentence_embedding'] = sentence_embedding\n",
    "    example['compressed_embedding'] = compressed_embedding\n",
    "    return example"
   ],
   "metadata": {
    "collapsed": false,
    "pycharm": {
     "name": "#%%\n"
    }
   }
  },
  {
   "cell_type": "code",
   "execution_count": null,
   "outputs": [],
   "source": [
    "test_ds = test_ds.map(embed_sentence_word_model_dataset, fn_kwargs={'model': glove_model})\n",
    "print(test_ds)"
   ],
   "metadata": {
    "collapsed": false,
    "pycharm": {
     "name": "#%%\n"
    }
   }
  },
  {
   "cell_type": "code",
   "execution_count": null,
   "outputs": [],
   "source": [
    "for i in range(10):\n",
    "    print(test_ds[i])"
   ],
   "metadata": {
    "collapsed": false,
    "pycharm": {
     "name": "#%%\n"
    }
   }
  },
  {
   "cell_type": "markdown",
   "source": [
    "Here you can see that the new dataset returned a single numpy array containing all sentence embeddings in our dataset. This is a lot more efficient than returning a list of arrays (which is the default behaviour). Below we check the type and the dimensionality.\n",
    "\n",
    "We will be using `text` subset from our dataset to not use too much RAM."
   ],
   "metadata": {
    "collapsed": false,
    "pycharm": {
     "name": "#%% md\n"
    }
   }
  },
  {
   "cell_type": "code",
   "execution_count": null,
   "outputs": [],
   "source": [
    "sent_embedding = test_ds['sentence_embedding']\n",
    "compr_embedding = test_ds['compressed_embedding']\n",
    "print(type(sent_embedding))\n",
    "print(sent_embedding.shape)\n",
    "print(type(compr_embedding))\n",
    "print(compr_embedding.shape)"
   ],
   "metadata": {
    "collapsed": false,
    "pycharm": {
     "name": "#%%\n"
    }
   }
  },
  {
   "cell_type": "markdown",
   "source": [
    "Next we try the condensed representatin based on a simple query. Feel free to try different queries with different words. What happens if we have OOV words in a query?"
   ],
   "metadata": {
    "collapsed": false,
    "pycharm": {
     "name": "#%% md\n"
    }
   }
  },
  {
   "cell_type": "code",
   "execution_count": null,
   "outputs": [],
   "source": [
    "query = 'fox and deer'\n",
    "print(query)\n",
    "\n",
    "query_embedding = embed_text(query, clean, tokenize, lambda x: embed_sentence_word_model(x, glove_model))\n",
    "print(query_embedding.shape)\n",
    "print(query_embedding)"
   ],
   "metadata": {
    "collapsed": false,
    "pycharm": {
     "name": "#%%\n"
    }
   }
  },
  {
   "cell_type": "markdown",
   "source": [
    "<a name='e13'></a>\n",
    "### Exercise 13: Analyze sentence embeddings\n",
    "- (5p) Calculate similarity between the word embeddings representations of the selected queries and the dataset sentences.\n",
    "- (5p) Analyze the search results. Does the search work as expected? Discuss the results.\n",
    "- (5p) Compare the results with the ones you got with the bag-of-words and TF-IDF representation. Discuss the differences and similarities."
   ],
   "metadata": {
    "collapsed": false,
    "pycharm": {
     "name": "#%% md\n"
    }
   }
  },
  {
   "cell_type": "code",
   "execution_count": null,
   "outputs": [],
   "source": [
    "### YOUR CODE HERE\n",
    "\n",
    "\n",
    "\n",
    "\n",
    "### YOUR CODE ENDS HERE"
   ],
   "metadata": {
    "collapsed": false,
    "pycharm": {
     "name": "#%%\n"
    }
   }
  },
  {
   "cell_type": "markdown",
   "metadata": {
    "id": "ZY2jouFmeHOg",
    "pycharm": {
     "name": "#%% md\n"
    }
   },
   "source": [
    "## 6. Evaluating Retrieval\n",
    "\n",
    "In this last section we will try to evaluate how good our sentence retrieval system is. To keep the computational resources manageable, we will use the test set for that as its size is more manageable.\n",
    "\n",
    "Recall from the lecture in IR that there are several metrics to evaluate retrieval performance by taking into account the relevance of the retrieved results to the query. We will use Recall@K here (for more metrics and more details refer to the lecture slides and the textbooks).\n",
    "\n",
    "RRecall@K is a metric used to measure the effectiveness of a search system in retrieving relevant documents within the top $K$ retrieved documents. It calculates the proportion of relevant documents retrieved within the top-$K$ results, compared to the total number of relevant documents in the collection.\n",
    "\n",
    "$\n",
    "\\text{Recall@K} = \\frac{\\text{Number of relevant documents retrieved in the top }-K}{\\text{Total number of relevant documents}}\n",
    "$\n",
    "\n",
    "In our case, we have a sentence, and it's compressed version. To test our system, we will treat compressed sentences as the queries. Each query will have only a single relevant sentence - the corresponding uncompressed sentence.\n",
    "\n",
    "Therefore, for the calculation of Recall@K we will take into account whether the correct retrieved result is contained within the first $K$ retrieved results. For example, if for a query (i.e. a compressed sentence) we retrieve 10 results and within these we see the relevant one (i.e. the full sentence), then Recall@10 = 1."
   ]
  },
  {
   "cell_type": "markdown",
   "metadata": {
    "id": "QUKPtG-uem9f",
    "pycharm": {
     "name": "#%% md\n"
    }
   },
   "source": [
    "<a name='e14'></a>\n",
    "### Exercise 14: Cosine similarity between two sets of vectors\n",
    "\n",
    "(3p) In this exercise you will revisit your implementation of the cosine similarity. Generalize it so that it can accept two arrays containing two sets of vectors (first one containing $M$ vectors and the second one $N$ vectors). Compute the cosine similarity between each pair of vectors coming from the two sets. The result should be an array of size $M x N$.\n",
    "\n",
    "Once again, try to write an efficient code. This means no loops. Remember the relation between matrix multiplication and dot product. (Depending on your implementation of the previous function calculating cosine similarity, this one can be almost the same)"
   ]
  },
  {
   "cell_type": "code",
   "execution_count": null,
   "metadata": {
    "id": "xKiHDrN9eld7",
    "pycharm": {
     "name": "#%%\n"
    }
   },
   "outputs": [],
   "source": [
    "def cosine_similarity_m_to_n(vectors, other_vectors):\n",
    "    \"\"\"\n",
    "    Calculates the cosine similarity between a multiple vectors and other vectors.\n",
    "    Args:\n",
    "        vectors: a numpy array representing M number of vectors of D dimensions (of the size MxD)\n",
    "        other_vectors: a 2D numpy array representing other vectors (of the size NxD, where N is the number of vectors and D is their dimension)\n",
    "\n",
    "    Returns: a numpy array of cosine similarity between all the vectors and all the other vectors\n",
    "\n",
    "    \"\"\"\n",
    "\n",
    "    #### YOUR CODE HERE\n",
    "\n",
    "\n",
    "\n",
    "\n",
    "    ### YOUR CODE ENDS HERE"
   ]
  },
  {
   "cell_type": "markdown",
   "metadata": {
    "id": "qQ-Yhl1Sgoka",
    "pycharm": {
     "name": "#%% md\n"
    }
   },
   "source": [
    "The following function will use your implementation to calculate Recall@K based on the similarity matrix."
   ]
  },
  {
   "cell_type": "code",
   "execution_count": null,
   "metadata": {
    "id": "z0sLS3uRCfdh",
    "pycharm": {
     "name": "#%%\n"
    }
   },
   "outputs": [],
   "source": [
    "def calculate_recall(queries, sentences, k, batch_size=1000):\n",
    "    \"\"\"\n",
    "    Calculates recall@k given the embeddings of the queries and sentences.\n",
    "    Assumes that only a single sentence with the same index as query is relevant.\n",
    "    Batching is implemented to avoid high memory usage.\n",
    "    Args:\n",
    "        queries: a numpy array with the embeddings of N queries\n",
    "        sentences: a numpy array with the embeddings of N sentences available for retrieval\n",
    "        k: number of top results to search for the relevant sentence\n",
    "        batch_size: number of queries to process at a time\n",
    "\n",
    "    Returns: calculated recall@k\n",
    "\n",
    "    \"\"\"\n",
    "    n_queries = queries.shape[0]\n",
    "    correct = np.zeros(n_queries, dtype=bool)\n",
    "\n",
    "    with tqdm.tqdm(total=n_queries) as pbar:\n",
    "        for batch_start in range(0, n_queries, batch_size):\n",
    "            batch_end = min(batch_start + batch_size, n_queries)\n",
    "            queries_batch = queries[batch_start:batch_end]\n",
    "            batch_similarity = cosine_similarity_m_to_n(queries_batch, sentences)\n",
    "\n",
    "            for i, similarity_row in enumerate(batch_similarity):\n",
    "                query_index = batch_start + i\n",
    "                top_k = top_k_indices(similarity_row, k=k, sorted=False)\n",
    "\n",
    "                if query_index in top_k:\n",
    "                    correct[query_index] = True\n",
    "\n",
    "                pbar.update(1)\n",
    "\n",
    "    recall = np.sum(correct) / n_queries\n",
    "    return recall"
   ]
  },
  {
   "cell_type": "markdown",
   "metadata": {
    "id": "3QgAgMiDgw8m",
    "pycharm": {
     "name": "#%% md\n"
    }
   },
   "source": [
    "You can use it like so:"
   ]
  },
  {
   "cell_type": "code",
   "execution_count": null,
   "metadata": {
    "id": "Yxpex7ZxHM7c",
    "pycharm": {
     "name": "#%%\n"
    }
   },
   "outputs": [],
   "source": [
    "recall_at_1 = calculate_recall(compr_embedding, sent_embedding, k=1, batch_size=1000)\n",
    "print(f'\\n{recall_at_1 * 100:.2f}%')"
   ]
  },
  {
   "cell_type": "markdown",
   "metadata": {
    "id": "zY5ZVq5ogzMI",
    "pycharm": {
     "name": "#%% md\n"
    }
   },
   "source": [
    "<a name='e15'></a>\n",
    "### Exercise 15: Evaluating retrieval methods\n",
    "\n",
    "(10p) Calculate recall for different values of $K$ for all methods:\n",
    "- BOW,\n",
    "- TF-IDF,\n",
    "- Pre-trained embeddings.\n",
    "\n",
    "Discuss the results.\n",
    "Comment on how recall changes based on the value of $K$. Are the results expected or surprising?"
   ]
  },
  {
   "cell_type": "code",
   "execution_count": null,
   "outputs": [],
   "source": [
    "#### YOUR CODE HERE\n",
    "\n",
    "\n",
    "\n",
    "### YOUR CODE ENDS HERE"
   ],
   "metadata": {
    "collapsed": false,
    "pycharm": {
     "name": "#%%\n"
    }
   }
  },
  {
   "cell_type": "markdown",
   "source": [
    "<a name='e16'></a>\n",
    "### Exercise 16: Improving retrieval\n",
    "\n",
    "(10p) Imagine that you work at a company and are tasked with delivering the best retrieval method. Select the most promising one and try to improve the scores (e.g. by changing the vocab size, loading different model, etc.).\n",
    "Discuss the results you achieve, even if you didn't manage to improve the scores."
   ],
   "metadata": {
    "collapsed": false,
    "pycharm": {
     "name": "#%% md\n"
    }
   }
  },
  {
   "cell_type": "code",
   "execution_count": null,
   "metadata": {
    "id": "YA9bEm5ehMq8",
    "pycharm": {
     "name": "#%%\n"
    }
   },
   "outputs": [],
   "source": [
    "#### YOUR CODE HERE\n",
    "\n",
    "\n",
    "\n",
    "### YOUR CODE ENDS HERE"
   ]
  },
  {
   "cell_type": "markdown",
   "source": [
    "// your comments"
   ],
   "metadata": {
    "collapsed": false,
    "pycharm": {
     "name": "#%% md\n"
    }
   }
  }
 ],
 "metadata": {
  "colab": {
   "toc_visible": true,
   "provenance": []
  },
  "kernelspec": {
   "display_name": "Python 3",
   "language": "python",
   "name": "python3"
  },
  "language_info": {
   "codemirror_mode": {
    "name": "ipython",
    "version": 2
   },
   "file_extension": ".py",
   "mimetype": "text/x-python",
   "name": "python",
   "nbconvert_exporter": "python",
   "pygments_lexer": "ipython2",
   "version": "2.7.6"
  }
 },
 "nbformat": 4,
 "nbformat_minor": 0
}
