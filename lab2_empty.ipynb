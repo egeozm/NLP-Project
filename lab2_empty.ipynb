{
 "cells": [
  {
   "cell_type": "markdown",
   "metadata": {
    "collapsed": false,
    "id": "od2YkWY8pSOC",
    "pycharm": {
     "name": "#%% md\n"
    }
   },
   "source": [
    "# NLP 2025\n",
    "# Lab 2: Word Vectors and Information Retrieval\n",
    "\n",
    "During the first few weeks, we discussed various ways to represent text 📝. One key question was: What should be the basic unit of representation? Words are the fundamental building blocks 🧱.\n",
    "\n",
    "In this lab, we will explore different text representation models, such as Bag-of-Words (BoW), TF-IDF and word embeddings 🔤➡️🔢. Among these, word embeddings are the most effective in terms of performance. They represent each word as a vector of numbers, where each vector captures the meaning of the word 🧠📊.\n",
    "\n",
    "These numerical representations (or weights) are learned using machine learning models 🤖. We’ll dive deeper into how these vectors are learned in the next lecture 📚.\n",
    "\n",
    "For now, we’ll focus on how different representation methods affect performance in an information retrieval task 🔍."
   ]
  },
  {
   "cell_type": "markdown",
   "metadata": {
    "collapsed": false,
    "id": "s93LS5bspSOD",
    "pycharm": {
     "name": "#%% md\n"
    }
   },
   "source": [
    "By the end of this lab, you should be able to:\n",
    "\n",
    "+ 🧼🔁 Implement and/or use built-in functions to preprocess your data (once again!)\n",
    "+ 🧱👜 Build a Bag-of-Words representation of the dataset\n",
    "+ 📊✨ Implement TF-IDF\n",
    "+ 📥🔤 Load pre-trained word embeddings\n",
    "+ 🔍🧠 Inspect and test word embedding properties\n",
    "+ 🗣️➡️📐 Use word embeddings to get sentence representations (aka sentence embeddings)\n",
    "+ 🧩🔎 Use sentence embeddings to solve more complex tasks like information retrieval\n",
    "+ 🧪📏 Design evaluation frameworks for specific NLP tasks and assess their difficulty\n",
    "\n",
    "### Score breakdown\n",
    "\n",
    "| Exercise            | Points |\n",
    "|---------------------|--------|\n",
    "| [Exercise 1](#e1)   | 1      |\n",
    "| [Exercise 2](#e2)   | 1      |\n",
    "| [Exercise 3](#e3)   | 1      |\n",
    "| [Exercise 4](#e4)   | 1      |\n",
    "| [Exercise 5](#e5)   | 1      |\n",
    "| [Exercise 6](#e6)   | 2      |\n",
    "| [Exercise 7](#e7)   | 10     |\n",
    "| [Exercise 8](#e8)   | 5      |\n",
    "| [Exercise 9](#e9)   | 15     |\n",
    "| [Exercise 10](#e10) | 10     |\n",
    "| [Exercise 11](#e11) | 10     |\n",
    "| [Exercise 12](#e12) | 5      |\n",
    "| [Exercise 13](#e13) | 15     |\n",
    "| [Exercise 14](#e14) | 3      |\n",
    "| [Exercise 15](#e15) | 10     |\n",
    "| [Exercise 16](#e16) | 10     |\n",
    "| Total               | 100    |\n",
    "\n",
    "This score will be scaled down to 1 and that will be your final lab score.\n",
    "\n",
    "### 📌 **Instructions for Delivery** (📅 **Deadline: 18/Apr 18:00**, 🎭 *wildcards possible*)\n",
    "\n",
    "✅ **Submission Requirements**\n",
    "+ 📄 You need to submit a **PDF of your report** (use the templates provided in **LaTeX** 🖋️ (*preferred*) or **Word** 📑) and a **copy of your notebook** 📓 with the code.\n",
    "+ ⚡ Make sure that **all cells are executed properly** ⚙️ and that **all figures/results/plots** 📊 you include in the report are also visible in your **executed notebook**.\n",
    "\n",
    "✅ **Collaboration & Integrity**\n",
    "+ 🗣️ While you may **discuss** the lab with others, you must **write your solutions with your group only**. If you **discuss specific tasks** with others, please **include their names** in the appendix of the report.\n",
    "+ 📜 **Honor Code applies** to this lab. For more details, check **Syllabus §7.2** ⚖️.\n",
    "+ 📢 **Mandatory Disclosure**:\n",
    "   - Any **websites** 🌐 (e.g., **Stack Overflow** 💡) or **other resources** used must be **listed and disclosed**.\n",
    "   - Any **GenAI tools** 🤖 (e.g., **ChatGPT**) used must be **explicitly mentioned**.\n",
    "   - 🚨 **Failure to disclose these resources is a violation of academic integrity**. See **Syllabus §7.3** for details."
   ]
  },
  {
   "cell_type": "markdown",
   "metadata": {
    "collapsed": false,
    "id": "aHYGq5RUpSOD",
    "pycharm": {
     "name": "#%% md\n"
    }
   },
   "source": [
    "## 0. Setup\n",
    "\n",
    "As in the last lab, we will be using huggingface datasets library ([https://huggingface.co/datasets](https://huggingface.co/datasets)). You can find the detailed documentation and tutorials here: [https://huggingface.co/docs/datasets/en/index](https://huggingface.co/docs/datasets/en/index)\n",
    "\n",
    "If you don't have it installed you can run the code below or install it via `pip` in your terminal. If you are using Google Colab, you can uncomment and run the code below in a code cell. Restarting of the runtime may be required after installation (Runtime/Restart session)."
   ]
  },
  {
   "cell_type": "code",
   "metadata": {
    "id": "rhEG8hKrpSOE",
    "pycharm": {
     "name": "#%%\n"
    },
    "ExecuteTime": {
     "end_time": "2025-04-14T17:24:09.315352Z",
     "start_time": "2025-04-14T17:24:09.313505Z"
    }
   },
   "source": [
    "# ! pip install -U datasets~=3.5.0\n",
    "# ! pip install -U gensim\n",
    "# ! python -m pip install -U matplotlib\n",
    "# ! pip install nltk\n",
    "# ! pip install -U scikit-learn"
   ],
   "outputs": [],
   "execution_count": 22
  },
  {
   "cell_type": "markdown",
   "source": [
    "Previously installed datasets library version of 3.2.0 had an error when combined with numpy version >2. If you encounter an error at some point it might require to update the datasets library to the newer version. You can do that by running the code below. If you are using Google Colab, you can run the code below in a code cell. If you are using Jupyter Notebook, you can run the code below in a code cell or in a terminal."
   ],
   "metadata": {
    "collapsed": false,
    "pycharm": {
     "name": "#%% md\n"
    }
   }
  },
  {
   "cell_type": "code",
   "source": [
    "# ! pip install --upgrade --force-reinstall datasets"
   ],
   "metadata": {
    "collapsed": false,
    "pycharm": {
     "name": "#%%\n"
    },
    "ExecuteTime": {
     "end_time": "2025-04-14T17:24:09.333690Z",
     "start_time": "2025-04-14T17:24:09.332103Z"
    }
   },
   "outputs": [],
   "execution_count": 23
  },
  {
   "cell_type": "markdown",
   "metadata": {
    "collapsed": false,
    "id": "5CCI1TPJpSOF",
    "pycharm": {
     "name": "#%% md\n"
    }
   },
   "source": [
    "As usual, we start by importing some essential Python libraries and we will be using. Apart from `gensim` (which is going to be used for word embeddings), we have already seen the others."
   ]
  },
  {
   "cell_type": "code",
   "metadata": {
    "id": "CRe8W4hKpSOF",
    "pycharm": {
     "name": "#%%\n"
    },
    "ExecuteTime": {
     "end_time": "2025-04-14T17:34:33.702569Z",
     "start_time": "2025-04-14T17:34:33.610114Z"
    }
   },
   "source": [
    "import re\n",
    "import string\n",
    "\n",
    "import numpy as np\n",
    "import matplotlib.pyplot as plt\n",
    "import datasets\n",
    "import nltk\n",
    "import tqdm\n",
    "import gensim\n",
    "from nltk import word_tokenize, pos_tag, WordNetLemmatizer\n",
    "from nltk.app.wordnet_app import lemma_property\n",
    "from nltk.corpus import stopwords\n",
    "from tensorflow.python.ops.gen_math_ops import euclidean_norm\n",
    "\n",
    "nltk.download('stopwords')\n",
    "nltk.download('punkt_tab')"
   ],
   "outputs": [
    {
     "name": "stderr",
     "output_type": "stream",
     "text": [
      "[nltk_data] Downloading package stopwords to\n",
      "[nltk_data]     /Users/egeozm/nltk_data...\n",
      "[nltk_data]   Unzipping corpora/stopwords.zip.\n",
      "[nltk_data] Downloading package punkt_tab to\n",
      "[nltk_data]     /Users/egeozm/nltk_data...\n",
      "[nltk_data]   Package punkt_tab is already up-to-date!\n"
     ]
    },
    {
     "data": {
      "text/plain": [
       "True"
      ]
     },
     "execution_count": 50,
     "metadata": {},
     "output_type": "execute_result"
    }
   ],
   "execution_count": 50
  },
  {
   "cell_type": "markdown",
   "metadata": {
    "collapsed": false,
    "id": "NXy-1KiCpSOF",
    "pycharm": {
     "name": "#%% md\n"
    }
   },
   "source": [
    "## 1. Load and Preprocess Data\n",
    "\n",
    "*Sentence compression* involves rephrasing sentences to make them shorter while still retaining the original meaning. A reliable compression system would be valuable for mobile devices and could also serve as a component in an extractive summarization system.\n",
    "\n",
    "The dataset we are going to use can be found on [Huggingface](https://huggingface.co/datasets/embedding-data/sentence-compression). It concerns a set of 180,000 pairs of sentences, aka it is a parallel corpus of sentences and their equivalent compressions. It has been collected by harvesting news articles from the Internet where the headline appears to be similar to the first sentence and that property is used to find an \"extractive\" compression of the sentence.\n",
    "\n",
    "For example, for the sentence\n",
    "\n",
    "`\"Regulators Friday shut down a small Florida bank, bringing to 119 the number of US bank failures this year amid mounting loan defaults\"`\n",
    "\n",
    "the compressed equivalent (based on the dataset) is:\n",
    "\n",
    "`\"Regulators shut down small Florida bank\"`.\n",
    "\n",
    "\n",
    "For more information you can read the original paper (from Google) [here](https://aclanthology.org/D13-1155.pdf). We strongly recommend going over the paper to gain further insights. Notice that the paper is from 2013, therefore word embeddings have not been widely introduced yet in NLP tasks, meaning that the methods applied were based on the traditional NLP pipeline (feature extraction + ML)."
   ]
  },
  {
   "cell_type": "markdown",
   "metadata": {
    "collapsed": false,
    "id": "ztJX2GRVpSOF",
    "pycharm": {
     "name": "#%% md\n"
    }
   },
   "source": [
    "### 1.1 Loading the Dataset\n",
    "\n",
    "The dataset will be loaded as a Pandas DataFrame. This may take a few minutes because of the large size of the data.\n",
    "\n",
    "Make sure to inspect the dataset and make sure it is imported properly."
   ]
  },
  {
   "cell_type": "code",
   "metadata": {
    "id": "tay2NXPTpSOG",
    "pycharm": {
     "name": "#%%\n"
    },
    "ExecuteTime": {
     "end_time": "2025-04-14T17:33:30.506421Z",
     "start_time": "2025-04-14T17:33:28.885427Z"
    }
   },
   "source": [
    "ds = datasets.load_dataset('embedding-data/sentence-compression')\n",
    "print(ds)"
   ],
   "outputs": [
    {
     "name": "stdout",
     "output_type": "stream",
     "text": [
      "DatasetDict({\n",
      "    train: Dataset({\n",
      "        features: ['set'],\n",
      "        num_rows: 180000\n",
      "    })\n",
      "})\n"
     ]
    }
   ],
   "execution_count": 38
  },
  {
   "cell_type": "code",
   "metadata": {
    "id": "bUud3eZVpSOH",
    "pycharm": {
     "name": "#%%\n"
    },
    "ExecuteTime": {
     "end_time": "2025-04-14T17:33:31.875474Z",
     "start_time": "2025-04-14T17:33:31.873085Z"
    }
   },
   "source": [
    "for i in range(10):\n",
    "    print(ds['train'][i])"
   ],
   "outputs": [
    {
     "name": "stdout",
     "output_type": "stream",
     "text": [
      "{'set': [\"The USHL completed an expansion draft on Monday as 10 players who were on the rosters of USHL teams during the 2009-10 season were selected by the League's two newest entries, the Muskegon Lumberjacks and Dubuque Fighting Saints.\", 'USHL completes expansion draft']}\n",
      "{'set': ['Major League Baseball Commissioner Bud Selig will be speaking at St. Norbert College next month.', 'Bud Selig to speak at St. Norbert College']}\n",
      "{'set': [\"It's fresh cherry time in Michigan and the best time to enjoy this delicious and nutritious fruit.\", \"It's cherry time\"]}\n",
      "{'set': ['An Evesham man is facing charges in Pennsylvania after he allegedly dragged his girlfriend from the side of his pickup truck on the campus of Kutztown University in the early morning hours of Dec. 5, police said.', 'Evesham man faces charges for Pa.']}\n",
      "{'set': [\"NRT LLC, one of the nation's largest residential real estate brokerage companies, announced several executive appointments within its Coldwell Banker Residential Brokerage operations in Southern California.\", 'NRT announces executive appointments at its Coldwell Banker operations in Southern California']}\n",
      "{'set': ['THE JSE kept toying with an all time high by midday today as resources continued to fuel the bourse.', 'JSE keeps toying with all time high']}\n",
      "{'set': ['The government is defending the latest police crime statistics despite a worrying rise in the recorded amount of violent offending.', 'Government defends crime statistics']}\n",
      "{'set': ['The renovated Marappalam bridge, which had been opened for two-wheelers last week, was opened for other vehicles also on Friday.', 'Marappalam bridge opened']}\n",
      "{'set': ['A new survey shows 30 percent of Californians use Twitter, and more and more of us are using our smart phones to go online.', 'Survey: 30 percent of Californians use Twitter']}\n",
      "{'set': ['Brightpoint ,a provider of logistic services to the mobile industry, has started operations in the Turkish market.', 'Brightpoint starts operations on Turkish market']}\n"
     ]
    }
   ],
   "execution_count": 39
  },
  {
   "cell_type": "markdown",
   "metadata": {
    "collapsed": false,
    "id": "HfJSiWxrpSOH",
    "pycharm": {
     "name": "#%% md\n"
    }
   },
   "source": [
    "The dataset comes with only the `train` split so we will have to split it ourselves."
   ]
  },
  {
   "cell_type": "code",
   "metadata": {
    "id": "tATL53MWpSOH",
    "pycharm": {
     "name": "#%%\n"
    },
    "ExecuteTime": {
     "end_time": "2025-04-14T17:33:33.845544Z",
     "start_time": "2025-04-14T17:33:33.817763Z"
    }
   },
   "source": [
    "split_ds = ds['train'].train_test_split(test_size=0.2)\n",
    "print(split_ds)"
   ],
   "outputs": [
    {
     "name": "stdout",
     "output_type": "stream",
     "text": [
      "DatasetDict({\n",
      "    train: Dataset({\n",
      "        features: ['set'],\n",
      "        num_rows: 144000\n",
      "    })\n",
      "    test: Dataset({\n",
      "        features: ['set'],\n",
      "        num_rows: 36000\n",
      "    })\n",
      "})\n"
     ]
    }
   ],
   "execution_count": 40
  },
  {
   "cell_type": "markdown",
   "metadata": {
    "collapsed": false,
    "id": "L133t3CqpSOH",
    "pycharm": {
     "name": "#%% md\n"
    }
   },
   "source": [
    "### 1.2 Preprocessing the dataset\n",
    "In this section we will prepare the dataset, aka clean the sentences and tokenize.\n",
    "\n",
    "First, let's write the function to clean the text. It can be similar to the one from the previous lab (Lab1) but make sure that it makes sense for this dataset and task.\n",
    "\n",
    "More specifically, think about lower-casing, punctuation, stop-words and lemmatization/stemming and the impact it might have on the dataset. Also reflect on the fact that with word embeddings we want to uncover semantic relationships between words, whereas with bag-of-words we were trying to capture different morphological variations."
   ]
  },
  {
   "cell_type": "markdown",
   "metadata": {
    "collapsed": false,
    "id": "mQszN6GNpSOH",
    "pycharm": {
     "name": "#%% md\n"
    }
   },
   "source": [
    "<a name='e1'></a>\n",
    "### Exercise 1: Clean function\n",
    "(1p) Fill in the following function ot clean the dataset. Implement at least 3 different steps."
   ]
  },
  {
   "metadata": {
    "id": "TxjfLQj6pSOH",
    "pycharm": {
     "name": "#%%\n"
    },
    "ExecuteTime": {
     "end_time": "2025-04-14T18:16:11.456399Z",
     "start_time": "2025-04-14T18:16:11.453984Z"
    }
   },
   "cell_type": "code",
   "source": [
    "def clean(text):\n",
    "    \"\"\"\n",
    "    Cleans the given text\n",
    "    Args:\n",
    "        text: a str with the text to clean\n",
    "\n",
    "    Returns: a str with the cleaned text\n",
    "\n",
    "    \"\"\"\n",
    "\n",
    "    # Empty text\n",
    "    if text == '':\n",
    "        return text\n",
    "\n",
    "    # 'text' from the example can be of type numpy.str_, let's convert it to a python str\n",
    "    text = str(text)\n",
    "\n",
    "    #you might need more\n",
    "    #add them here\n",
    "\n",
    "    ### YOUR CODE HERE\n",
    "\n",
    "    text = text.lower() #1\n",
    "    text = re.sub(r'[^\\w\\s]', '', text) #2\n",
    "    text = re.sub(r'\\s+', ' ', text).strip()\n",
    "    words = text.split()\n",
    "    filtered_words = [word for word in words if word not in stopwords.words('english')] #3\n",
    "\n",
    "    ### YOUR CODE ENDS HERE\n",
    "\n",
    "    text = ' '.join(filtered_words)\n",
    "\n",
    "    # Update the example with the cleaned text\n",
    "    return text"
   ],
   "outputs": [],
   "execution_count": 67
  },
  {
   "cell_type": "markdown",
   "metadata": {
    "collapsed": false,
    "id": "gAqf1AoupSOJ",
    "pycharm": {
     "name": "#%% md\n"
    }
   },
   "source": [
    "The following function will apply the function (sic) you just wrote to the whole dataset. More specifically, it takes the first entry (`sentence`) from the set of uncompressed/compressed pairs, applies the `clean` function and saves the processed sentence in the field `clean_sentence`. The same is dome for the compressed version of the sentence (saved as `clean_compressed`)."
   ]
  },
  {
   "cell_type": "code",
   "metadata": {
    "id": "WZn-M4_vpSOJ",
    "pycharm": {
     "name": "#%%\n"
    },
    "ExecuteTime": {
     "end_time": "2025-04-14T17:55:44.017109Z",
     "start_time": "2025-04-14T17:55:44.015252Z"
    }
   },
   "source": [
    "def clean_dataset(example):\n",
    "    \"\"\"\n",
    "    Cleans the sentence and compressed sentence in the example from the Dataset\n",
    "    Args:\n",
    "        example: an example from the Dataset\n",
    "\n",
    "    Returns: updated example with 'clean_sentence' and 'clean_compressed' cleaned\n",
    "\n",
    "    \"\"\"\n",
    "    sentence, compressed = example['set']\n",
    "    clean_sentence = clean(sentence)\n",
    "    clean_compressed = clean(compressed)\n",
    "    example['clean_sentence'] = clean_sentence\n",
    "    example['clean_compressed'] = clean_compressed\n",
    "    return example"
   ],
   "outputs": [],
   "execution_count": 59
  },
  {
   "cell_type": "markdown",
   "metadata": {
    "collapsed": false,
    "id": "_KVujosKpSOJ",
    "pycharm": {
     "name": "#%% md\n"
    }
   },
   "source": [
    "Below we apply the function to the whole dataset (using `map`) and we can also inspect the result."
   ]
  },
  {
   "cell_type": "code",
   "metadata": {
    "id": "NBS1JbISpSOJ",
    "pycharm": {
     "name": "#%%\n"
    },
    "ExecuteTime": {
     "end_time": "2025-04-14T18:20:03.571170Z",
     "start_time": "2025-04-14T18:16:13.390808Z"
    }
   },
   "source": [
    "split_ds = split_ds.map(clean_dataset)\n",
    "print(split_ds)"
   ],
   "outputs": [
    {
     "data": {
      "text/plain": [
       "Map:   0%|          | 0/144000 [00:00<?, ? examples/s]"
      ],
      "application/vnd.jupyter.widget-view+json": {
       "version_major": 2,
       "version_minor": 0,
       "model_id": "65c617e8fce0445ba47ecb350478ebcb"
      }
     },
     "metadata": {},
     "output_type": "display_data"
    },
    {
     "data": {
      "text/plain": [
       "Map:   0%|          | 0/36000 [00:00<?, ? examples/s]"
      ],
      "application/vnd.jupyter.widget-view+json": {
       "version_major": 2,
       "version_minor": 0,
       "model_id": "eff0e1811de449688e2e3b420d8bd3f3"
      }
     },
     "metadata": {},
     "output_type": "display_data"
    },
    {
     "name": "stdout",
     "output_type": "stream",
     "text": [
      "DatasetDict({\n",
      "    train: Dataset({\n",
      "        features: ['set', 'clean_sentence', 'clean_compressed'],\n",
      "        num_rows: 144000\n",
      "    })\n",
      "    test: Dataset({\n",
      "        features: ['set', 'clean_sentence', 'clean_compressed'],\n",
      "        num_rows: 36000\n",
      "    })\n",
      "})\n"
     ]
    }
   ],
   "execution_count": 68
  },
  {
   "cell_type": "markdown",
   "metadata": {
    "collapsed": false,
    "id": "X_ThE9H-pSOJ",
    "pycharm": {
     "name": "#%% md\n"
    }
   },
   "source": [
    "Let's examine some examples from the dataset and make sure that we got the results we wanted. At this step, it might be necessary to revisit some pre-processing steps if you are not happy with the results."
   ]
  },
  {
   "cell_type": "code",
   "metadata": {
    "id": "hP-qOPijpSOJ",
    "pycharm": {
     "name": "#%%\n"
    },
    "ExecuteTime": {
     "end_time": "2025-04-14T18:20:06.563048Z",
     "start_time": "2025-04-14T18:20:06.559940Z"
    }
   },
   "source": [
    "for i in range(10):\n",
    "    print(split_ds['train'][i])"
   ],
   "outputs": [
    {
     "name": "stdout",
     "output_type": "stream",
     "text": [
      "{'set': ['A friend of the reality star said: ``Kim gushes about how happy she is with Kanye all the time and she is already talking babies with him too.', 'Kim Kardashian is talking babies with Kanye'], 'clean_sentence': 'friend reality star said kim gushes happy kanye time already talking babies', 'clean_compressed': 'kim kardashian talking babies kanye'}\n",
      "{'set': [\"A Target employee was arrested and charged with grand theft for allegedly stealing money from the cash register, according to Lee County Sheriff's Office reports.\", 'Target employee arrested for grand theft'], 'clean_sentence': 'target employee arrested charged grand theft allegedly stealing money cash register according lee county sheriffs office reports', 'clean_compressed': 'target employee arrested grand theft'}\n",
      "{'set': ['Actor Jason London is recovering from facial reconstructive surgery on Saturday following his bar fight in Arizona.', 'Jason London - Jason London recovering from reconstructive surgery'], 'clean_sentence': 'actor jason london recovering facial reconstructive surgery saturday following bar fight arizona', 'clean_compressed': 'jason london jason london recovering reconstructive surgery'}\n",
      "{'set': [\"``I am unhappy with the result but the most important thing is that we didn't concede at home which is a positive. We did what we could though we were not efficient enough to score more than one goal. We will be strong when we play in Kampala'', he said.\", 'We will be strong in Kampala --'], 'clean_sentence': 'unhappy result important thing didnt concede home positive could though efficient enough score one goal strong play kampala said', 'clean_compressed': 'strong kampala'}\n",
      "{'set': [\"But in signing a new multi-year deal with ESPN that will be formally announced Wednesday, Vitale says, ``I love my dog and still get goosebumps in arenas when they're chanting 'Dickie V'.\", \"Dick Vitale still gets goosebumps when they chant 'Dickie V'\"], 'clean_sentence': 'signing new multiyear deal espn formally announced wednesday vitale says love dog still get goosebumps arenas theyre chanting dickie v', 'clean_compressed': 'dick vitale still gets goosebumps chant dickie v'}\n",
      "{'set': ['Four people, including a child, were killed in a head-on highway crash Monday morning in La Vérendrye park, about 300 kilometres north of Gatineau.', 'Four killed in crash in La Vérendrye park'], 'clean_sentence': 'four people including child killed headon highway crash monday morning la vérendrye park 300 kilometres north gatineau', 'clean_compressed': 'four killed crash la vérendrye park'}\n",
      "{'set': ['International tourist arrivals in Cambodia increased 15 percent year-on-year in the first 10 months this year, statistics of the Tourism Ministry showed on Tuesday.', 'Tourist arrivals in Cambodia increased 15 percent'], 'clean_sentence': 'international tourist arrivals cambodia increased 15 percent yearonyear first 10 months year statistics tourism ministry showed tuesday', 'clean_compressed': 'tourist arrivals cambodia increased 15 percent'}\n",
      "{'set': ['SOFTWARE HOUSE Microsoft has hinted that its next Xbox console will be more interactive, aiming to change the future of television.', 'Microsoft hints the next Xbox console will be more interactive'], 'clean_sentence': 'software house microsoft hinted next xbox console interactive aiming change future television', 'clean_compressed': 'microsoft hints next xbox console interactive'}\n",
      "{'set': ['German exports fell in October and in Q2 2008, Germany had the smallest increase in labour costs in Europe.', 'German exports fell in October;'], 'clean_sentence': 'german exports fell october q2 2008 germany smallest increase labour costs europe', 'clean_compressed': 'german exports fell october'}\n",
      "{'set': ['Microsoft Windows lost market share last month, dropping a third of a point despite gains from Windows 7.', 'Windows loses market share'], 'clean_sentence': 'microsoft windows lost market share last month dropping third point despite gains windows 7', 'clean_compressed': 'windows loses market share'}\n"
     ]
    }
   ],
   "execution_count": 69
  },
  {
   "cell_type": "markdown",
   "metadata": {
    "collapsed": false,
    "id": "7LI2KlfypSOJ",
    "pycharm": {
     "name": "#%% md\n"
    }
   },
   "source": [
    "<a name='e2'></a>\n",
    "### Exercise 2: Tokenize function\n",
    "\n",
    "(1p) As always, we will need to tokenize the dataset in order to create bat-of-words and TF-IDF representations in the next sections. We will use the [Natural Language Toolkit (NLTK) library]([https://www.nltk.org/]) (https://www.nltk.org/). Complete the following function to split the text into tokens using the `word_tokenize()` function. Check the [documentation](https://www.nltk.org/api/nltk.tokenize.word_tokenize.html?highlight=word_tokenize) first.\n",
    "Note that there are different tokenizers e.g. `RegexpTokenizer` where you can enter your own regexp, `WhitespaceTokenizer` (similar to Python's string.split()) and `BlanklineTokenizer`."
   ]
  },
  {
   "cell_type": "code",
   "metadata": {
    "id": "sb-M3V6ApSOK",
    "pycharm": {
     "name": "#%%\n"
    },
    "ExecuteTime": {
     "end_time": "2025-04-14T18:20:56.832954Z",
     "start_time": "2025-04-14T18:20:56.831132Z"
    }
   },
   "source": [
    "def tokenize(text):\n",
    "    \"\"\"\n",
    "    Tokenizes the `text` parameter using nltk library\n",
    "    Args:\n",
    "        text: a string representing a sentence to be tokenized\n",
    "\n",
    "    Returns: a list of tokens (strings)\n",
    "\n",
    "    \"\"\"\n",
    "\n",
    "    ### YOUR CODE HERE\n",
    "\n",
    "\n",
    "    tokens = word_tokenize(text)\n",
    "\n",
    "\n",
    "    ### YOUR CODE ENDS HERE\n",
    "    return tokens"
   ],
   "outputs": [],
   "execution_count": 70
  },
  {
   "cell_type": "markdown",
   "metadata": {
    "collapsed": false,
    "id": "gwsHqZc9pSOK",
    "pycharm": {
     "name": "#%% md\n"
    }
   },
   "source": [
    "Next, the function will be applied to the whole dataset (as we did with the pre-processing) and `sentence_tokens` field will be created to store the result."
   ]
  },
  {
   "cell_type": "code",
   "metadata": {
    "id": "6sTX-AcTpSOK",
    "pycharm": {
     "name": "#%%\n"
    },
    "ExecuteTime": {
     "end_time": "2025-04-14T18:20:59.636029Z",
     "start_time": "2025-04-14T18:20:59.633985Z"
    }
   },
   "source": [
    "def tokenize_dataset(example):\n",
    "    \"\"\"\n",
    "    Tokenizes 'clean_sentence' columns in the example from the Dataset\n",
    "    Args:\n",
    "        example: an example from the Dataset\n",
    "\n",
    "    Returns: updated example with 'sentence_tokens' columns\n",
    "\n",
    "    \"\"\"\n",
    "    example['sentence_tokens'] = tokenize(example['clean_sentence'])\n",
    "    example['compressed_tokens'] = tokenize(example['clean_compressed'])\n",
    "    return example"
   ],
   "outputs": [],
   "execution_count": 71
  },
  {
   "cell_type": "code",
   "metadata": {
    "id": "jvwmXLj2pSOK",
    "pycharm": {
     "name": "#%%\n"
    },
    "ExecuteTime": {
     "end_time": "2025-04-14T18:21:20.131559Z",
     "start_time": "2025-04-14T18:21:04.689539Z"
    }
   },
   "source": [
    "split_ds = split_ds.map(tokenize_dataset)"
   ],
   "outputs": [
    {
     "data": {
      "text/plain": [
       "Map:   0%|          | 0/144000 [00:00<?, ? examples/s]"
      ],
      "application/vnd.jupyter.widget-view+json": {
       "version_major": 2,
       "version_minor": 0,
       "model_id": "a6717274e4524f858ab270cb1b0c5e18"
      }
     },
     "metadata": {},
     "output_type": "display_data"
    },
    {
     "data": {
      "text/plain": [
       "Map:   0%|          | 0/36000 [00:00<?, ? examples/s]"
      ],
      "application/vnd.jupyter.widget-view+json": {
       "version_major": 2,
       "version_minor": 0,
       "model_id": "1e8c344375db46218136698b0eeb728b"
      }
     },
     "metadata": {},
     "output_type": "display_data"
    }
   ],
   "execution_count": 72
  },
  {
   "cell_type": "code",
   "metadata": {
    "id": "yXnje31SpSOK",
    "pycharm": {
     "name": "#%%\n"
    },
    "ExecuteTime": {
     "end_time": "2025-04-14T18:21:22.681283Z",
     "start_time": "2025-04-14T18:21:22.677150Z"
    }
   },
   "source": [
    "for i in range(10):\n",
    "    print(split_ds['train'][i])"
   ],
   "outputs": [
    {
     "name": "stdout",
     "output_type": "stream",
     "text": [
      "{'set': ['A friend of the reality star said: ``Kim gushes about how happy she is with Kanye all the time and she is already talking babies with him too.', 'Kim Kardashian is talking babies with Kanye'], 'clean_sentence': 'friend reality star said kim gushes happy kanye time already talking babies', 'clean_compressed': 'kim kardashian talking babies kanye', 'sentence_tokens': ['friend', 'reality', 'star', 'said', 'kim', 'gushes', 'happy', 'kanye', 'time', 'already', 'talking', 'babies'], 'compressed_tokens': ['kim', 'kardashian', 'talking', 'babies', 'kanye']}\n",
      "{'set': [\"A Target employee was arrested and charged with grand theft for allegedly stealing money from the cash register, according to Lee County Sheriff's Office reports.\", 'Target employee arrested for grand theft'], 'clean_sentence': 'target employee arrested charged grand theft allegedly stealing money cash register according lee county sheriffs office reports', 'clean_compressed': 'target employee arrested grand theft', 'sentence_tokens': ['target', 'employee', 'arrested', 'charged', 'grand', 'theft', 'allegedly', 'stealing', 'money', 'cash', 'register', 'according', 'lee', 'county', 'sheriffs', 'office', 'reports'], 'compressed_tokens': ['target', 'employee', 'arrested', 'grand', 'theft']}\n",
      "{'set': ['Actor Jason London is recovering from facial reconstructive surgery on Saturday following his bar fight in Arizona.', 'Jason London - Jason London recovering from reconstructive surgery'], 'clean_sentence': 'actor jason london recovering facial reconstructive surgery saturday following bar fight arizona', 'clean_compressed': 'jason london jason london recovering reconstructive surgery', 'sentence_tokens': ['actor', 'jason', 'london', 'recovering', 'facial', 'reconstructive', 'surgery', 'saturday', 'following', 'bar', 'fight', 'arizona'], 'compressed_tokens': ['jason', 'london', 'jason', 'london', 'recovering', 'reconstructive', 'surgery']}\n",
      "{'set': [\"``I am unhappy with the result but the most important thing is that we didn't concede at home which is a positive. We did what we could though we were not efficient enough to score more than one goal. We will be strong when we play in Kampala'', he said.\", 'We will be strong in Kampala --'], 'clean_sentence': 'unhappy result important thing didnt concede home positive could though efficient enough score one goal strong play kampala said', 'clean_compressed': 'strong kampala', 'sentence_tokens': ['unhappy', 'result', 'important', 'thing', 'didnt', 'concede', 'home', 'positive', 'could', 'though', 'efficient', 'enough', 'score', 'one', 'goal', 'strong', 'play', 'kampala', 'said'], 'compressed_tokens': ['strong', 'kampala']}\n",
      "{'set': [\"But in signing a new multi-year deal with ESPN that will be formally announced Wednesday, Vitale says, ``I love my dog and still get goosebumps in arenas when they're chanting 'Dickie V'.\", \"Dick Vitale still gets goosebumps when they chant 'Dickie V'\"], 'clean_sentence': 'signing new multiyear deal espn formally announced wednesday vitale says love dog still get goosebumps arenas theyre chanting dickie v', 'clean_compressed': 'dick vitale still gets goosebumps chant dickie v', 'sentence_tokens': ['signing', 'new', 'multiyear', 'deal', 'espn', 'formally', 'announced', 'wednesday', 'vitale', 'says', 'love', 'dog', 'still', 'get', 'goosebumps', 'arenas', 'theyre', 'chanting', 'dickie', 'v'], 'compressed_tokens': ['dick', 'vitale', 'still', 'gets', 'goosebumps', 'chant', 'dickie', 'v']}\n",
      "{'set': ['Four people, including a child, were killed in a head-on highway crash Monday morning in La Vérendrye park, about 300 kilometres north of Gatineau.', 'Four killed in crash in La Vérendrye park'], 'clean_sentence': 'four people including child killed headon highway crash monday morning la vérendrye park 300 kilometres north gatineau', 'clean_compressed': 'four killed crash la vérendrye park', 'sentence_tokens': ['four', 'people', 'including', 'child', 'killed', 'headon', 'highway', 'crash', 'monday', 'morning', 'la', 'vérendrye', 'park', '300', 'kilometres', 'north', 'gatineau'], 'compressed_tokens': ['four', 'killed', 'crash', 'la', 'vérendrye', 'park']}\n",
      "{'set': ['International tourist arrivals in Cambodia increased 15 percent year-on-year in the first 10 months this year, statistics of the Tourism Ministry showed on Tuesday.', 'Tourist arrivals in Cambodia increased 15 percent'], 'clean_sentence': 'international tourist arrivals cambodia increased 15 percent yearonyear first 10 months year statistics tourism ministry showed tuesday', 'clean_compressed': 'tourist arrivals cambodia increased 15 percent', 'sentence_tokens': ['international', 'tourist', 'arrivals', 'cambodia', 'increased', '15', 'percent', 'yearonyear', 'first', '10', 'months', 'year', 'statistics', 'tourism', 'ministry', 'showed', 'tuesday'], 'compressed_tokens': ['tourist', 'arrivals', 'cambodia', 'increased', '15', 'percent']}\n",
      "{'set': ['SOFTWARE HOUSE Microsoft has hinted that its next Xbox console will be more interactive, aiming to change the future of television.', 'Microsoft hints the next Xbox console will be more interactive'], 'clean_sentence': 'software house microsoft hinted next xbox console interactive aiming change future television', 'clean_compressed': 'microsoft hints next xbox console interactive', 'sentence_tokens': ['software', 'house', 'microsoft', 'hinted', 'next', 'xbox', 'console', 'interactive', 'aiming', 'change', 'future', 'television'], 'compressed_tokens': ['microsoft', 'hints', 'next', 'xbox', 'console', 'interactive']}\n",
      "{'set': ['German exports fell in October and in Q2 2008, Germany had the smallest increase in labour costs in Europe.', 'German exports fell in October;'], 'clean_sentence': 'german exports fell october q2 2008 germany smallest increase labour costs europe', 'clean_compressed': 'german exports fell october', 'sentence_tokens': ['german', 'exports', 'fell', 'october', 'q2', '2008', 'germany', 'smallest', 'increase', 'labour', 'costs', 'europe'], 'compressed_tokens': ['german', 'exports', 'fell', 'october']}\n",
      "{'set': ['Microsoft Windows lost market share last month, dropping a third of a point despite gains from Windows 7.', 'Windows loses market share'], 'clean_sentence': 'microsoft windows lost market share last month dropping third point despite gains windows 7', 'clean_compressed': 'windows loses market share', 'sentence_tokens': ['microsoft', 'windows', 'lost', 'market', 'share', 'last', 'month', 'dropping', 'third', 'point', 'despite', 'gains', 'windows', '7'], 'compressed_tokens': ['windows', 'loses', 'market', 'share']}\n"
     ]
    }
   ],
   "execution_count": 73
  },
  {
   "cell_type": "markdown",
   "metadata": {
    "collapsed": false,
    "id": "FeF0wFd0pSOL",
    "pycharm": {
     "name": "#%% md\n"
    }
   },
   "source": [
    "Since we will need the tokenized sentences, we can use the following statement to extract them from the `train` split of our dataset."
   ]
  },
  {
   "cell_type": "code",
   "metadata": {
    "id": "qYKfXFxQpSOL",
    "pycharm": {
     "name": "#%%\n"
    },
    "ExecuteTime": {
     "end_time": "2025-04-14T18:21:44.363267Z",
     "start_time": "2025-04-14T18:21:43.070555Z"
    }
   },
   "source": [
    "tokenized_sentences = split_ds['train']['sentence_tokens']\n",
    "print(len(tokenized_sentences))\n",
    "print(tokenized_sentences[:10])"
   ],
   "outputs": [
    {
     "name": "stdout",
     "output_type": "stream",
     "text": [
      "144000\n",
      "[['friend', 'reality', 'star', 'said', 'kim', 'gushes', 'happy', 'kanye', 'time', 'already', 'talking', 'babies'], ['target', 'employee', 'arrested', 'charged', 'grand', 'theft', 'allegedly', 'stealing', 'money', 'cash', 'register', 'according', 'lee', 'county', 'sheriffs', 'office', 'reports'], ['actor', 'jason', 'london', 'recovering', 'facial', 'reconstructive', 'surgery', 'saturday', 'following', 'bar', 'fight', 'arizona'], ['unhappy', 'result', 'important', 'thing', 'didnt', 'concede', 'home', 'positive', 'could', 'though', 'efficient', 'enough', 'score', 'one', 'goal', 'strong', 'play', 'kampala', 'said'], ['signing', 'new', 'multiyear', 'deal', 'espn', 'formally', 'announced', 'wednesday', 'vitale', 'says', 'love', 'dog', 'still', 'get', 'goosebumps', 'arenas', 'theyre', 'chanting', 'dickie', 'v'], ['four', 'people', 'including', 'child', 'killed', 'headon', 'highway', 'crash', 'monday', 'morning', 'la', 'vérendrye', 'park', '300', 'kilometres', 'north', 'gatineau'], ['international', 'tourist', 'arrivals', 'cambodia', 'increased', '15', 'percent', 'yearonyear', 'first', '10', 'months', 'year', 'statistics', 'tourism', 'ministry', 'showed', 'tuesday'], ['software', 'house', 'microsoft', 'hinted', 'next', 'xbox', 'console', 'interactive', 'aiming', 'change', 'future', 'television'], ['german', 'exports', 'fell', 'october', 'q2', '2008', 'germany', 'smallest', 'increase', 'labour', 'costs', 'europe'], ['microsoft', 'windows', 'lost', 'market', 'share', 'last', 'month', 'dropping', 'third', 'point', 'despite', 'gains', 'windows', '7']]\n"
     ]
    }
   ],
   "execution_count": 74
  },
  {
   "cell_type": "code",
   "source": [
    "tokenized_compressed = split_ds['train']['compressed_tokens']\n",
    "print(len(tokenized_compressed))\n",
    "print(tokenized_compressed[:10])"
   ],
   "metadata": {
    "collapsed": false,
    "pycharm": {
     "name": "#%%\n"
    },
    "ExecuteTime": {
     "end_time": "2025-04-14T18:21:52.917066Z",
     "start_time": "2025-04-14T18:21:52.337888Z"
    }
   },
   "outputs": [
    {
     "name": "stdout",
     "output_type": "stream",
     "text": [
      "144000\n",
      "[['kim', 'kardashian', 'talking', 'babies', 'kanye'], ['target', 'employee', 'arrested', 'grand', 'theft'], ['jason', 'london', 'jason', 'london', 'recovering', 'reconstructive', 'surgery'], ['strong', 'kampala'], ['dick', 'vitale', 'still', 'gets', 'goosebumps', 'chant', 'dickie', 'v'], ['four', 'killed', 'crash', 'la', 'vérendrye', 'park'], ['tourist', 'arrivals', 'cambodia', 'increased', '15', 'percent'], ['microsoft', 'hints', 'next', 'xbox', 'console', 'interactive'], ['german', 'exports', 'fell', 'october'], ['windows', 'loses', 'market', 'share']]\n"
     ]
    }
   ],
   "execution_count": 75
  },
  {
   "cell_type": "markdown",
   "metadata": {
    "id": "ZDGwEiZeCA5U",
    "pycharm": {
     "name": "#%% md\n"
    }
   },
   "source": [
    "Notice the difference in the types of the different structures we use. Run the following cell to check the types. Do they make sense to you?"
   ]
  },
  {
   "cell_type": "code",
   "metadata": {
    "id": "wKrkFmcZCtOd",
    "pycharm": {
     "name": "#%%\n"
    },
    "ExecuteTime": {
     "end_time": "2025-04-14T18:22:22.774735Z",
     "start_time": "2025-04-14T18:22:20.037344Z"
    }
   },
   "source": [
    "#type of original dataset\n",
    "print(type(split_ds))\n",
    "print(\"--\")\n",
    "#type of original sentence\n",
    "print(split_ds['train'][1])\n",
    "print(type(split_ds['train'][1]))\n",
    "print(\"--\")\n",
    "#type of pre-proceesed sentence\n",
    "print(split_ds['train']['clean_sentence'][1])\n",
    "print(type(split_ds['train']['clean_sentence'][1]))\n",
    "print(\"--\")\n",
    "#type of tokenized sentence\n",
    "print(split_ds['train']['sentence_tokens'][1])\n",
    "print(type(split_ds['train']['sentence_tokens'][1]))\n",
    "print(\"--\")"
   ],
   "outputs": [
    {
     "name": "stdout",
     "output_type": "stream",
     "text": [
      "<class 'datasets.dataset_dict.DatasetDict'>\n",
      "--\n",
      "{'set': [\"A Target employee was arrested and charged with grand theft for allegedly stealing money from the cash register, according to Lee County Sheriff's Office reports.\", 'Target employee arrested for grand theft'], 'clean_sentence': 'target employee arrested charged grand theft allegedly stealing money cash register according lee county sheriffs office reports', 'clean_compressed': 'target employee arrested grand theft', 'sentence_tokens': ['target', 'employee', 'arrested', 'charged', 'grand', 'theft', 'allegedly', 'stealing', 'money', 'cash', 'register', 'according', 'lee', 'county', 'sheriffs', 'office', 'reports'], 'compressed_tokens': ['target', 'employee', 'arrested', 'grand', 'theft']}\n",
      "<class 'dict'>\n",
      "--\n",
      "target employee arrested charged grand theft allegedly stealing money cash register according lee county sheriffs office reports\n",
      "<class 'str'>\n",
      "--\n",
      "['target', 'employee', 'arrested', 'charged', 'grand', 'theft', 'allegedly', 'stealing', 'money', 'cash', 'register', 'according', 'lee', 'county', 'sheriffs', 'office', 'reports']\n",
      "<class 'list'>\n",
      "--\n"
     ]
    }
   ],
   "execution_count": 76
  },
  {
   "cell_type": "markdown",
   "source": [
    "## 2. Bag of Words\n",
    "In this section you will built a bag-of-words representation of the dataset. We will use numpy arrays to store the results. The bag-of-words representation is a simple and effective way to represent text data. It involves creating a vocabulary of unique words from the dataset and representing each sentence as a vector of word counts. We first need the vocabulary, which we will build from both the full sentences and the compressed sentences. Similar to the first lab, the vocabulary will be a list of unique words from the dataset."
   ],
   "metadata": {
    "collapsed": false,
    "pycharm": {
     "name": "#%% md\n"
    }
   }
  },
  {
   "cell_type": "markdown",
   "source": [
    "<a name='e3'></a>\n",
    "### Exercise 3: Extracting vocabulary counts\n",
    "\n",
    "(1p) In the following cell, you will implement a function that takes a list of tokenized sentences and returns a dictionary with the counts of each word in the vocabulary. The dictionary should be of the form {word: count}. As in previous lab, you will use the `Counter` class from the `collections` module to do this."
   ],
   "metadata": {
    "collapsed": false,
    "pycharm": {
     "name": "#%% md\n"
    }
   }
  },
  {
   "cell_type": "code",
   "source": [
    "from collections import Counter\n",
    "\n",
    "\n",
    "def extract_vocabulary_counts(tokenized_sentences):\n",
    "    \"\"\"\n",
    "    Extracts the vocabulary from the tokenized sentences\n",
    "    Args:\n",
    "        tokenized_sentences: a list of lists of tokens\n",
    "\n",
    "    Returns: a Counter object with the counts of each word in the vocabulary\n",
    "    \"\"\"\n",
    "\n",
    "    ### YOUR CODE HERE\n",
    "    all_tokens = [word for sentence in tokenized_sentences for word in sentence]\n",
    "    vocab_counter = Counter(all_tokens)\n",
    "\n",
    "\n",
    "    return vocab_counter\n",
    "    ### YOUR CODE ENDS HERE"
   ],
   "metadata": {
    "collapsed": false,
    "pycharm": {
     "name": "#%%\n"
    },
    "ExecuteTime": {
     "end_time": "2025-04-14T18:30:54.168883Z",
     "start_time": "2025-04-14T18:30:54.164253Z"
    }
   },
   "outputs": [],
   "execution_count": 77
  },
  {
   "cell_type": "code",
   "source": [
    "vocab_counter = extract_vocabulary_counts(tokenized_sentences + tokenized_compressed)\n",
    "print(len(vocab_counter))\n",
    "print(vocab_counter.most_common(10))"
   ],
   "metadata": {
    "collapsed": false,
    "pycharm": {
     "name": "#%%\n"
    },
    "ExecuteTime": {
     "end_time": "2025-04-14T18:31:07.146904Z",
     "start_time": "2025-04-14T18:31:06.737759Z"
    }
   },
   "outputs": [
    {
     "name": "stdout",
     "output_type": "stream",
     "text": [
      "119130\n",
      "[('new', 20256), ('said', 19976), ('man', 12034), ('us', 11490), ('today', 9896), ('police', 9796), ('two', 9378), ('first', 8066), ('announced', 7699), ('tuesday', 7477)]\n"
     ]
    }
   ],
   "execution_count": 78
  },
  {
   "cell_type": "markdown",
   "source": [
    "As you can see the size of the vocabulary is quite large. Like the last time, we will limit the vocabulary to the most frequent words. The next cell will create a dictionary that maps each word to an index in the vocabulary. This will be used to create the bag-of-words representation of the sentences."
   ],
   "metadata": {
    "collapsed": false,
    "pycharm": {
     "name": "#%% md\n"
    }
   }
  },
  {
   "cell_type": "code",
   "source": [
    "vocab_size = 10_000\n",
    "vocab = vocab_counter.most_common(vocab_size)\n",
    "token_to_id = {word: i for i, (word, _) in enumerate(vocab)}\n",
    "print(token_to_id)"
   ],
   "metadata": {
    "collapsed": false,
    "pycharm": {
     "name": "#%%\n"
    },
    "ExecuteTime": {
     "end_time": "2025-04-14T18:31:55.744454Z",
     "start_time": "2025-04-14T18:31:55.715471Z"
    }
   },
   "outputs": [
    {
     "name": "stdout",
     "output_type": "stream",
     "text": [
      "{'new': 0, 'said': 1, 'man': 2, 'us': 3, 'today': 4, 'police': 5, 'two': 6, 'first': 7, 'announced': 8, 'tuesday': 9, 'wednesday': 10, 'monday': 11, 'thursday': 12, 'year': 13, 'state': 14, 'friday': 15, 'former': 16, 'president': 17, 'says': 18, 'million': 19, 'one': 20, 'county': 21, 'years': 22, 'according': 23, 'last': 24, 'may': 25, 'city': 26, 'woman': 27, 'saturday': 28, 'minister': 29, 'week': 30, 'three': 31, 'home': 32, 'world': 33, 'sunday': 34, 'government': 35, 'people': 36, 'company': 37, 'time': 38, 'killed': 39, 'india': 40, 'national': 41, 'night': 42, 'bank': 43, 'south': 44, 'next': 45, 'day': 46, 'found': 47, 'court': 48, 'arrested': 49, 'morning': 50, 'died': 51, 'set': 52, 'charged': 53, 'school': 54, 'would': 55, 'obama': 56, 'could': 57, 'second': 58, 'reported': 59, 'back': 60, 'market': 61, 'fire': 62, 'group': 63, 'international': 64, 'business': 65, 'season': 66, 'open': 67, 'oil': 68, 'china': 69, 'house': 70, 'car': 71, 'north': 72, 'early': 73, 'team': 74, 'news': 75, 'charges': 76, 'reports': 77, 'inc': 78, 'united': 79, 'service': 80, 'high': 81, 'officials': 82, 'star': 83, 'prices': 84, 'global': 85, 'four': 86, 'plans': 87, 'country': 88, 'dies': 89, 'following': 90, 'guilty': 91, 'report': 92, 'hospital': 93, 'death': 94, 'month': 95, 'public': 96, 'services': 97, 'american': 98, 'yesterday': 99, 'billion': 100, 'york': 101, 'released': 102, 'health': 103, 'chief': 104, 'say': 105, 'league': 106, 'near': 107, 'federal': 108, 'hit': 109, 'help': 110, 'months': 111, 'show': 112, 'end': 113, 'west': 114, 'office': 115, 'security': 116, 'made': 117, 'game': 118, '2012': 119, 'financial': 120, 'make': 121, '10': 122, 'take': 123, 'accused': 124, 'indian': 125, 'pakistan': 126, 'five': 127, 'coach': 128, 'economic': 129, 'percent': 130, 'another': 131, 'states': 132, 'local': 133, 'top': 134, 'play': 135, 'per': 136, 'jobs': 137, 'power': 138, 'john': 139, 'launched': 140, 'announces': 141, 'life': 142, 'british': 143, 'expected': 144, 'official': 145, 'part': 146, 'dead': 147, 'third': 148, 'european': 149, 'major': 150, 'center': 151, 'work': 152, 'cup': 153, 'launches': 154, 'record': 155, 'deal': 156, 'energy': 157, 'trade': 158, 'held': 159, 'told': 160, 'cut': 161, 'win': 162, 'university': 163, 'crash': 164, 'media': 165, 'general': 166, 'days': 167, 'left': 168, 'return': 169, 'stocks': 170, 'march': 171, 'support': 172, '1': 173, 'close': 174, 'leader': 175, 'uk': 176, 'get': 177, 'air': 178, 'party': 179, 'due': 180, '2010': 181, 'shot': 182, 'gas': 183, 'officer': 184, 'online': 185, 'free': 186, 'since': 187, 'street': 188, 'department': 189, 'economy': 190, 'injured': 191, 'six': 192, 'foreign': 193, 'drug': 194, 'central': 195, 'child': 196, 'launch': 197, 'mobile': 198, 'bill': 199, 'prime': 200, 'head': 201, 'sales': 202, 'visit': 203, 'area': 204, 'london': 205, 'face': 206, 'start': 207, 'district': 208, 'family': 209, 'road': 210, 'afternoon': 211, 'still': 212, 'release': 213, 'called': 214, 'series': 215, '2011': 216, 'including': 217, 'weekend': 218, 'shares': 219, 'capital': 220, 'st': 221, '2': 222, 'tour': 223, 'club': 224, 'students': 225, 'system': 226, 'military': 227, 'development': 228, '20': 229, 'campaign': 230, 'stock': 231, 'quarter': 232, 'david': 233, 'park': 234, 'tax': 235, 'attack': 236, 'best': 237, 'board': 238, 'dollar': 239, 'despite': 240, 'markets': 241, 'final': 242, 'women': 243, 'april': 244, 'like': 245, 'signed': 246, 'big': 247, 'men': 248, 'fall': 249, 'australian': 250, 'june': 251, 'across': 252, 'barack': 253, 'football': 254, 'east': 255, 'wins': 256, 'go': 257, 'film': 258, '11': 259, 'water': 260, 'cancer': 261, 'children': 262, 'around': 263, 'industry': 264, 'data': 265, 'iran': 266, 'fell': 267, 'plan': 268, 'washington': 269, 'sentenced': 270, 'meeting': 271, 'way': 272, 'afghanistan': 273, 'talks': 274, 'corp': 275, 'growth': 276, 'pay': 277, 'manager': 278, 'actor': 279, '2013': 280, '2009': 281, 'gold': 282, 'council': 283, 'buy': 284, 'management': 285, 'authorities': 286, '30': 287, 'allegedly': 288, 'research': 289, 'leading': 290, 'contract': 291, 'weeks': 292, 'case': 293, 'san': 294, 'price': 295, 'revealed': 296, 'law': 297, 'australia': 298, 'food': 299, 'late': 300, 'move': 301, 'prison': 302, 'money': 303, 'director': 304, 'run': 305, 'program': 306, 'agency': 307, 'chinese': 308, 'number': 309, 'largest': 310, 'games': 311, '3': 312, 'wants': 313, 'michael': 314, '15': 315, 'political': 316, 'several': 317, 'host': 318, 'increase': 319, 'murder': 320, 'confirmed': 321, 'white': 322, 'conference': 323, 'agreement': 324, 'hold': 325, 'test': 326, 'recent': 327, 'music': 328, 'higher': 329, 'saying': 330, 'rate': 331, 'union': 332, '12': 333, 'good': 334, 'budget': 335, 'july': 336, 'medical': 337, 'annual': 338, 'england': 339, 'crisis': 340, 'worlds': 341, 'network': 342, 'town': 343, 'workers': 344, 'tv': 345, 'firm': 346, 'recently': 347, 'community': 348, 'investment': 349, 'closed': 350, 'use': 351, 'lead': 352, 'well': 353, 'private': 354, 'girl': 355, 'technology': 356, 'press': 357, 'companies': 358, 'surgery': 359, 'latest': 360, 'french': 361, 'continue': 362, 'senior': 363, 'secretary': 364, 'college': 365, 'young': 366, 'shooting': 367, 'share': 368, 'provider': 369, 'actress': 370, 'los': 371, 'making': 372, 'study': 373, 'many': 374, 'special': 375, 'russia': 376, '5': 377, 'become': 378, 'nearly': 379, 'pm': 380, 'taking': 381, 'offer': 382, 'red': 383, 'right': 384, 'live': 385, 'rise': 386, 'age': 387, 'demand': 388, 'election': 389, 'trial': 390, 'opened': 391, 'away': 392, 'sex': 393, 'lower': 394, 'wife': 395, 'senate': 396, 'southern': 397, 'body': 398, 'going': 399, 'forces': 400, 'rose': 401, 'banks': 402, 'care': 403, 'place': 404, 'likely': 405, 'congress': 406, 'meet': 407, 'line': 408, 'fight': 409, 'action': 410, 'assault': 411, 'canada': 412, 'presidential': 413, 'rates': 414, 'texas': 415, 'production': 416, 'store': 417, 'video': 418, 'angeles': 419, 'opens': 420, 'centre': 421, 'named': 422, 'sign': 423, 'japan': 424, 'war': 425, 'trading': 426, 'signs': 427, 'america': 428, 'credit': 429, 'accident': 430, 'long': 431, 'mark': 432, 'january': 433, 'updated': 434, 'also': 435, 'cent': 436, 'filed': 437, 'baby': 438, 'emergency': 439, 'facing': 440, 'rights': 441, 'rs': 442, 'members': 443, 'even': 444, 'singer': 445, 'grand': 446, 'russian': 447, 'paul': 448, 'debt': 449, 'faces': 450, 'social': 451, 'investors': 452, 'coast': 453, 'judge': 454, 'times': 455, 'korea': 456, 'premier': 457, '100': 458, 'project': 459, 'title': 460, 'products': 461, 'strong': 462, 'ahead': 463, 'information': 464, '2008': 465, 'nations': 466, 'hours': 467, 'nuclear': 468, 'loss': 469, 'results': 470, 'issued': 471, 'players': 472, 'points': 473, 'charge': 474, 'leaders': 475, 'real': 476, 'small': 477, 'fund': 478, 'profit': 479, 'israel': 480, 'player': 481, 'future': 482, 'amid': 483, 'building': 484, 'plant': 485, 'february': 486, 'region': 487, 'past': 488, 'agreed': 489, 'student': 490, 'ago': 491, 'call': 492, 'chairman': 493, 'september': 494, 'governor': 495, '4': 496, 'executive': 497, 'heart': 498, 'interest': 499, 'google': 500, 'least': 501, 'took': 502, 'army': 503, 'working': 504, 'reportedly': 505, 'delhi': 506, 'boy': 507, 'order': 508, 'german': 509, 'bus': 510, 'exchange': 511, 'pleads': 512, 'seven': 513, 'pleaded': 514, 'leave': 515, 'race': 516, 'taken': 517, 'old': 518, 'site': 519, 'summer': 520, 'fourth': 521, 'without': 522, 'california': 523, 'calls': 524, 'sell': 525, 'software': 526, 'coming': 527, 'traffic': 528, 'ministry': 529, '25': 530, 'asian': 531, 'need': 532, 'france': 533, 'role': 534, 'schools': 535, 'november': 536, 'internet': 537, 'change': 538, 'opening': 539, 'canadian': 540, 'earlier': 541, 'africa': 542, 'northern': 543, 'driver': 544, 'airlines': 545, 'beat': 546, 'apple': 547, 'education': 548, 'residents': 549, 'operations': 550, 'force': 551, 'corporation': 552, 'james': 553, 'cash': 554, 'come': 555, 'claims': 556, 'falls': 557, 'lost': 558, '14': 559, 'stop': 560, 'injury': 561, 'sector': 562, 'forward': 563, 'europe': 564, 'looking': 565, 'republican': 566, 'makes': 567, 'planning': 568, 'website': 569, 'side': 570, 'cuts': 571, 'half': 572, 'returns': 573, 'issues': 574, 'round': 575, 'much': 576, 'lake': 577, 'bid': 578, 'missing': 579, 'florida': 580, 'october': 581, 'countrys': 582, 'great': 583, 'policy': 584, 'victory': 585, 'human': 586, 'chris': 587, 'continues': 588, 'control': 589, 'fans': 590, 'suspended': 591, '50': 592, 'evening': 593, 'brown': 594, 'station': 595, 'key': 596, 'strike': 597, 'killing': 598, 'december': 599, '21': 600, 'driving': 601, 'gov': 602, 'arrest': 603, 'issue': 604, 'match': 605, 'co': 606, 'led': 607, 'better': 608, 'job': 609, 'shows': 610, '13': 611, 'guard': 612, 'river': 613, 'hall': 614, 'sports': 615, '16': 616, 'black': 617, 'training': 618, 'jail': 619, 'domestic': 620, 'raise': 621, 'parliament': 622, 'countries': 623, 'george': 624, 'must': 625, 'green': 626, 'album': 627, 'insurance': 628, 'airport': 629, '18': 630, 'ready': 631, 'israeli': 632, 'got': 633, 'running': 634, 'put': 635, 'keep': 636, 'august': 637, 'used': 638, 'remains': 639, 'join': 640, 'search': 641, 'member': 642, 'offering': 643, 'consumer': 644, 'manchester': 645, 'bankruptcy': 646, 'see': 647, 'trying': 648, 'want': 649, 'customers': 650, '6': 651, 'biggest': 652, 'takes': 653, 'weather': 654, 'chicago': 655, 'western': 656, 'full': 657, 'commission': 658, 'construction': 659, 'current': 660, 'soon': 661, 'level': 662, 'vehicle': 663, 'robert': 664, 'getting': 665, 'investigating': 666, 'troops': 667, 'sale': 668, 'facebook': 669, 'ended': 670, 'association': 671, 'giant': 672, 'euro': 673, 'brand': 674, 'remain': 675, 'african': 676, 'vote': 677, 'received': 678, 'little': 679, '8': 680, 'safety': 681, 'field': 682, 'officers': 683, 'regional': 684, 'property': 685, 'announce': 686, '17': 687, 'event': 688, 'sold': 689, 'low': 690, 'committee': 691, 'post': 692, 'sri': 693, 'eight': 694, 'give': 695, 'champion': 696, 'outside': 697, '7': 698, 'staff': 699, 'movie': 700, 'session': 701, 'among': 702, 'sen': 703, 'sexual': 704, 'love': 705, 'statement': 706, 'behind': 707, '22': 708, 'border': 709, 'cricket': 710, 'suicide': 711, 'elections': 712, 'mother': 713, 'admitted': 714, 'hollywood': 715, 'train': 716, 'stage': 717, 'retail': 718, 'thousands': 719, 'finance': 720, 'ban': 721, 'couple': 722, 'solutions': 723, 'target': 724, 'along': 725, 'valley': 726, 'championship': 727, 'island': 728, 'awards': 729, 'name': 730, 'debut': 731, '24': 732, 'iraq': 733, 'within': 734, 'opposition': 735, 'history': 736, 'positive': 737, 'justice': 738, 'systems': 739, 'needs': 740, 'career': 741, 'rock': 742, 'upcoming': 743, 'space': 744, 'im': 745, 'son': 746, 'miss': 747, 'based': 748, 'practice': 749, 'peace': 750, 'decision': 751, 'bay': 752, 'recovery': 753, 'storm': 754, 'jackson': 755, 'mortgage': 756, 'phone': 757, 'fuel': 758, 'gains': 759, 'later': 760, 'violence': 761, 'middle': 762, 'using': 763, 'risk': 764, 'hes': 765, 'performance': 766, 'warned': 767, 'build': 768, 'wall': 769, 'maker': 770, 'sent': 771, 'mayor': 772, 'singh': 773, 'struck': 774, 'anniversary': 775, 'claimed': 776, 'zealand': 777, 'candidate': 778, 'beach': 779, 'leaving': 780, 'award': 781, 'travel': 782, 'loan': 783, 'protection': 784, 'olympic': 785, 'selling': 786, 'housing': 787, 'growing': 788, 'list': 789, 'funds': 790, 'attacks': 791, 'protest': 792, 'given': 793, 'turkey': 794, 'tonight': 795, 'worth': 796, 'eastern': 797, 'officially': 798, 'raised': 799, 'acquire': 800, 'microsoft': 801, 'ever': 802, 'hotel': 803, 'battle': 804, 'festival': 805, 'williams': 806, 'germany': 807, 'spending': 808, 'ltd': 809, 'confidence': 810, 'joint': 811, 'provide': 812, 'pressure': 813, 'losses': 814, 'offers': 815, 'soldiers': 816, 'files': 817, 'possible': 818, 'mexico': 819, 'mumbai': 820, 'japanese': 821, 'continued': 822, 'businesses': 823, 'employees': 824, 'democratic': 825, 'soldier': 826, 'captain': 827, 'almost': 828, 'fraud': 829, 'owner': 830, 'showed': 831, 'act': 832, 'drive': 833, 'church': 834, 'television': 835, 'deputy': 836, 'cost': 837, 'alleged': 838, 'flu': 839, 'britain': 840, 'declared': 841, 'georgia': 842, 'truck': 843, 'robbery': 844, 'less': 845, 'johnson': 846, 'changes': 847, '19': 848, 'returned': 849, 'approved': 850, 'husband': 851, 'seen': 852, 'legal': 853, 'girls': 854, 'defense': 855, 'dr': 856, '9': 857, 'fired': 858, 'nine': 859, 'natural': 860, '23': 861, 'costs': 862, 'known': 863, 'plane': 864, 'sources': 865, 'interview': 866, 'smith': 867, 'mike': 868, 'boost': 869, 'basketball': 870, 'asia': 871, '31': 872, 'rally': 873, 'asked': 874, 'reserve': 875, 'starting': 876, 'administration': 877, 'radio': 878, 'break': 879, 'veteran': 880, 'acquired': 881, 'boston': 882, 'point': 883, 'single': 884, 'daily': 885, 'lady': 886, 'main': 887, 'falling': 888, 'defence': 889, '40': 890, 'champions': 891, 'might': 892, 'stars': 893, 'father': 894, 'un': 895, 'heavy': 896, 'gets': 897, 'highway': 898, 'never': 899, 'al': 900, 'de': 901, 'areas': 902, 'hopes': 903, 'aid': 904, 'moving': 905, 'dropped': 906, 'supply': 907, 'survey': 908, 'web': 909, 'inflation': 910, 'facility': 911, 'futures': 912, 'rep': 913, 'armed': 914, 'joe': 915, 'gay': 916, 'stay': 917, 'step': 918, 'serious': 919, 'teams': 920, 'stadium': 921, 'injuries': 922, 'nation': 923, 'every': 924, 'increased': 925, 'vice': 926, 'jailed': 927, 'met': 928, 'convicted': 929, 'commercial': 930, 'look': 931, 'fiscal': 932, 'division': 933, 'popular': 934, 'super': 935, 'italian': 936, 'calif': 937, 'whose': 938, 'homes': 939, 'drop': 940, 'dont': 941, 'begin': 942, 'carolina': 943, 'land': 944, 'king': 945, 'investigation': 946, 'find': 947, 'bush': 948, 'playing': 949, 'spring': 950, 'warning': 951, 'winter': 952, 'christmas': 953, 'flights': 954, 'concerns': 955, 'baseball': 956, 'flight': 957, 'supreme': 958, 'striker': 959, 'bond': 960, 'projects': 961, 'daughter': 962, 'justin': 963, '26': 964, 'decided': 965, 'went': 966, 'hits': 967, 'digital': 968, 'stores': 969, 'common': 970, 'turned': 971, 'drugs': 972, 'total': 973, 'appointed': 974, 'failed': 975, 'teacher': 976, 'straight': 977, 'twitter': 978, 'ground': 979, 'recession': 980, 'finally': 981, 'front': 982, 'book': 983, 'know': 984, 'passed': 985, 'martin': 986, 'conditions': 987, 'khan': 988, 'already': 989, 'yet': 990, 'double': 991, 'problems': 992, 'palestinian': 993, 'completed': 994, 'joined': 995, '27': 996, 'wont': 997, 'suspected': 998, 'expand': 999, 'suffered': 1000, 'partnership': 1001, 'spokesman': 1002, 'efforts': 1003, 'prince': 1004, 'reached': 1005, 'treatment': 1006, 'winning': 1007, 'banned': 1008, 'cooperation': 1009, 'published': 1010, 'gun': 1011, 'jones': 1012, 'person': 1013, 'ceo': 1014, 'la': 1015, 'syria': 1016, 'dog': 1017, 'term': 1018, 'connection': 1019, 'ryan': 1020, 'watch': 1021, 'bomb': 1022, 'nfl': 1023, 'bring': 1024, 'earnings': 1025, 'afghan': 1026, 'unit': 1027, 'boss': 1028, 'begins': 1029, 'criminal': 1030, 'giving': 1031, 'tom': 1032, 'abuse': 1033, 'scheduled': 1034, 'partner': 1035, 'civil': 1036, 'lawsuit': 1037, 'stake': 1038, 'houston': 1039, 'ohio': 1040, '28': 1041, 'focus': 1042, 'hundreds': 1043, 'forced': 1044, 'levels': 1045, 'paid': 1046, 'create': 1047, 'taylor': 1048, 'funding': 1049, 'reduce': 1050, 'pakistani': 1051, 'patients': 1052, 'steel': 1053, 'operation': 1054, 'jury': 1055, 'corporate': 1056, 'retirement': 1057, 'raises': 1058, 'goes': 1059, 'robbed': 1060, 'steve': 1061, 'divorce': 1062, 'leaves': 1063, 'illegal': 1064, 'crashed': 1065, 'light': 1066, 'index': 1067, 'toronto': 1068, 'large': 1069, 'started': 1070, '500': 1071, 'available': 1072, 'banking': 1073, 'communications': 1074, 'birth': 1075, 'lanka': 1076, 'suspect': 1077, 'revenue': 1078, 'assembly': 1079, 'parts': 1080, 'celebrate': 1081, 'iranian': 1082, 'turkish': 1083, 'together': 1084, 'incident': 1085, 'improve': 1086, 'involved': 1087, 'seeking': 1088, 'access': 1089, 'process': 1090, 'range': 1091, 'caught': 1092, 'unveiled': 1093, 'reach': 1094, 'spanish': 1095, 'marriage': 1096, 'posted': 1097, 'peter': 1098, 'added': 1099, 'whether': 1100, 'ambassador': 1101, 'michigan': 1102, 'releases': 1103, 'royal': 1104, 'caused': 1105, 'fashion': 1106, 'kill': 1107, 'direct': 1108, 'attorney': 1109, 'perform': 1110, 'ruled': 1111, 'cars': 1112, 'companys': 1113, 'split': 1114, 'track': 1115, 'unemployment': 1116, 'holding': 1117, 'dubai': 1118, 'band': 1119, 'holiday': 1120, 'equity': 1121, 'womens': 1122, 'platform': 1123, 'personal': 1124, 'arrived': 1125, 'base': 1126, 'attacked': 1127, 'liverpool': 1128, 'joins': 1129, 'channel': 1130, 'inside': 1131, 'sea': 1132, 'birthday': 1133, 'industrial': 1134, 'groups': 1135, 'records': 1136, 'gulf': 1137, 'save': 1138, 'assets': 1139, 'rape': 1140, 'stabbed': 1141, 'senator': 1142, 'sheriffs': 1143, 'eu': 1144, 'broke': 1145, 'primary': 1146, 'review': 1147, 'village': 1148, 'singapore': 1149, 'saudi': 1150, 'blue': 1151, 'net': 1152, 'independent': 1153, 'urged': 1154, 'dollars': 1155, 'tournament': 1156, 'camp': 1157, 'earthquake': 1158, 'admits': 1159, 'crime': 1160, 'kim': 1161, 'nato': 1162, 'iphone': 1163, 'came': 1164, 'romney': 1165, 'spain': 1166, 'rules': 1167, 'stealing': 1168, 'fort': 1169, 'living': 1170, 'sydney': 1171, 'comes': 1172, 'jennifer': 1173, 'appeal': 1174, 'americans': 1175, 'turn': 1176, 'technologies': 1177, 'stolen': 1178, 'marketing': 1179, 'producer': 1180, 'wanted': 1181, 'minor': 1182, 'relations': 1183, 'entertainment': 1184, 'ordered': 1185, 'friends': 1186, 'think': 1187, 'rising': 1188, 'youth': 1189, 'users': 1190, 'minnesota': 1191, 'syrian': 1192, 'fox': 1193, 'agent': 1194, 'magazine': 1195, 'researchers': 1196, 'affairs': 1197, 'class': 1198, 'crude': 1199, 'jan': 1200, 'model': 1201, 'celebrates': 1202, 'scott': 1203, 'tony': 1204, 'card': 1205, 'expects': 1206, 'lee': 1207, 'manufacturing': 1208, 'suffering': 1209, 'soccer': 1210, 'ireland': 1211, 'challenge': 1212, 'female': 1213, 'rest': 1214, 'extended': 1215, 'concert': 1216, 'kansas': 1217, 'proposed': 1218, 'midfielder': 1219, 'cases': 1220, 'ship': 1221, 'strategic': 1222, 'solar': 1223, 'competition': 1224, 'period': 1225, 'teachers': 1226, 'ali': 1227, 'deficit': 1228, 'chelsea': 1229, 'disease': 1230, 'paris': 1231, 'far': 1232, 'cause': 1233, 'condition': 1234, 'fresh': 1235, 'seek': 1236, 'rises': 1237, 'corruption': 1238, 'bridge': 1239, '29': 1240, 'auto': 1241, 'potential': 1242, 'others': 1243, 'resources': 1244, 'operator': 1245, 'limited': 1246, 'damage': 1247, 'helped': 1248, 'kevin': 1249, 'hard': 1250, 'newspaper': 1251, 'clinton': 1252, 'parents': 1253, 'stand': 1254, 'figures': 1255, 'calling': 1256, 'fifth': 1257, 'province': 1258, 'returning': 1259, 'ceremony': 1260, 'partners': 1261, 'dividend': 1262, 'bills': 1263, 'form': 1264, 'pop': 1265, 'institute': 1266, 'korean': 1267, 'scientists': 1268, 'massive': 1269, 'threat': 1270, 'acquires': 1271, 'planned': 1272, 'buying': 1273, 'acquisition': 1274, 'bad': 1275, 'las': 1276, 'boat': 1277, 'felony': 1278, 'discuss': 1279, 'address': 1280, 'louis': 1281, 'overnight': 1282, 'worldwide': 1283, 'gives': 1284, 'port': 1285, 'firefighters': 1286, 'short': 1287, 'voted': 1288, 'room': 1289, 'tomorrow': 1290, 'played': 1291, 'taiwan': 1292, 'weak': 1293, 'previous': 1294, 'jersey': 1295, 'programme': 1296, 'quality': 1297, 'towards': 1298, 'downtown': 1299, 'scheme': 1300, 'barrel': 1301, 'miami': 1302, 'apartment': 1303, 'charity': 1304, 'victims': 1305, 'began': 1306, 'nba': 1307, 'militants': 1308, 'virginia': 1309, 'product': 1310, 'cabinet': 1311, 'source': 1312, 'moved': 1313, 'morgan': 1314, 'doctors': 1315, 'offered': 1316, 'pregnant': 1317, 'adding': 1318, 'teen': 1319, 'doesnt': 1320, 'taliban': 1321, 'highest': 1322, 'quarterly': 1323, 'appear': 1324, 'estate': 1325, 'brother': 1326, 'talk': 1327, 'losing': 1328, 'receive': 1329, 'perry': 1330, 'coal': 1331, 'wedding': 1332, 'colorado': 1333, 'terms': 1334, 'leads': 1335, 'vegas': 1336, 'looks': 1337, 'vehicles': 1338, 'worker': 1339, 'income': 1340, 'lot': 1341, 'allow': 1342, 'ties': 1343, 'writer': 1344, 'operating': 1345, 'alex': 1346, 'aircraft': 1347, 'view': 1348, 'receives': 1349, 'tiger': 1350, 'committed': 1351, 'denied': 1352, 'fatal': 1353, 'italy': 1354, 'brazil': 1355, 'response': 1356, 'authority': 1357, 'blood': 1358, 'course': 1359, 'memorial': 1360, 'orders': 1361, 'compared': 1362, 'average': 1363, 'airline': 1364, 'draft': 1365, 'draw': 1366, '200': 1367, 'fair': 1368, 'situation': 1369, '60': 1370, 'beating': 1371, 'mining': 1372, 'snow': 1373, 'egypt': 1374, 'effort': 1375, 'farmers': 1376, 'starts': 1377, 'closing': 1378, 'benefits': 1379, 'indicted': 1380, 'greece': 1381, 'hill': 1382, 'iowa': 1383, 'defeat': 1384, 'libya': 1385, 'winner': 1386, 'detroit': 1387, 'flat': 1388, 'feb': 1389, 'tim': 1390, 'celebrity': 1391, 'girlfriend': 1392, 'squad': 1393, 'computer': 1394, 'hospitalized': 1395, 'hand': 1396, 'airways': 1397, 'flood': 1398, 'arizona': 1399, 'hockey': 1400, 'mission': 1401, 'bail': 1402, 'illinois': 1403, 'tried': 1404, 'society': 1405, 'tennis': 1406, 'elderly': 1407, 'heard': 1408, 'andrew': 1409, 'hurricane': 1410, 'legend': 1411, 'investigate': 1412, 'though': 1413, 'reform': 1414, 'gaza': 1415, 'restaurant': 1416, 'malaysia': 1417, 'controversial': 1418, 'developer': 1419, 'gave': 1420, 'ministers': 1421, 'irish': 1422, 'climate': 1423, 'date': 1424, 'enough': 1425, 'attempt': 1426, 'package': 1427, 'jim': 1428, 'protect': 1429, 'francisco': 1430, 'governments': 1431, 'considering': 1432, 'academy': 1433, 'fighting': 1434, 'azerbaijan': 1435, 'theft': 1436, 'drivers': 1437, 'fame': 1438, 'boys': 1439, 'rescue': 1440, 'moves': 1441, 'sells': 1442, 'turns': 1443, 'fined': 1444, 'dec': 1445, 'measures': 1446, 'exports': 1447, 'rival': 1448, 'pirates': 1449, 'defender': 1450, 'claim': 1451, 'position': 1452, 'currently': 1453, 'diego': 1454, 'events': 1455, 'lawmakers': 1456, 'woods': 1457, 'replace': 1458, 'dispute': 1459, 'effective': 1460, 'cutting': 1461, 'severe': 1462, 'rating': 1463, 'contest': 1464, 'completes': 1465, 'broken': 1466, 'voters': 1467, 'grant': 1468, 'introduced': 1469, 'hong': 1470, 'engaged': 1471, 'friend': 1472, 'madrid': 1473, 'mp': 1474, 'golf': 1475, 'reporting': 1476, 'forecast': 1477, 'different': 1478, 'equipment': 1479, 'labor': 1480, 'kelly': 1481, 'rugby': 1482, 'atlanta': 1483, 'summit': 1484, 'dallas': 1485, 'rangers': 1486, 'venture': 1487, 'knee': 1488, 'families': 1489, 'additional': 1490, 'beginning': 1491, 'worst': 1492, 'shut': 1493, 'wireless': 1494, 'republic': 1495, 'rain': 1496, 'electric': 1497, 'slightly': 1498, 'resume': 1499, 'hearing': 1500, 'matt': 1501, 'greek': 1502, 'believe': 1503, 'critical': 1504, 'millions': 1505, 'wind': 1506, 'elected': 1507, 'chase': 1508, 'transfer': 1509, 'mccain': 1510, 'motor': 1511, 'owners': 1512, 'retire': 1513, 'van': 1514, 'william': 1515, 'brain': 1516, 'protesters': 1517, 'ben': 1518, 'rebels': 1519, 'swine': 1520, 'beijing': 1521, 'rescued': 1522, 'celebrated': 1523, 'custody': 1524, 'nov': 1525, 'aug': 1526, 'organization': 1527, 'lose': 1528, 'films': 1529, 'harry': 1530, 'block': 1531, 'becoming': 1532, 'x': 1533, 'richard': 1534, 'securities': 1535, 'kong': 1536, 'headquarters': 1537, 'loans': 1538, 'farm': 1539, 'hope': 1540, 'arrives': 1541, 'problem': 1542, 'environment': 1543, 'separate': 1544, 'involving': 1545, 'ford': 1546, 'meets': 1547, 'citizens': 1548, 'queen': 1549, 'navy': 1550, 'saw': 1551, 'runs': 1552, 'mixed': 1553, 'victim': 1554, 'decline': 1555, 'via': 1556, 'conduct': 1557, 'believes': 1558, 'reality': 1559, 'present': 1560, 'cross': 1561, 'ends': 1562, 'raising': 1563, 'cell': 1564, 'multiple': 1565, 'science': 1566, 'tourism': 1567, 'pulled': 1568, 'bonds': 1569, 'consumers': 1570, 'impact': 1571, 'version': 1572, 'resigned': 1573, 'currency': 1574, 'cleared': 1575, 'giants': 1576, 'pacific': 1577, 'leadership': 1578, 'sir': 1579, 'launching': 1580, 'effect': 1581, 'minutes': 1582, 'mr': 1583, 'avoid': 1584, 'develop': 1585, 'helping': 1586, 'design': 1587, 'forest': 1588, 'successful': 1589, 'chance': 1590, 'visits': 1591, 'quarterback': 1592, 'sets': 1593, 'brought': 1594, 'strategy': 1595, 'seriously': 1596, 'spot': 1597, 'lawyer': 1598, 'safe': 1599, 'relationship': 1600, 'cloud': 1601, 'moscow': 1602, 'directors': 1603, 'boyfriend': 1604, 'ending': 1605, 'progress': 1606, 'headed': 1607, 'cities': 1608, 'doctor': 1609, 'kids': 1610, 'professional': 1611, 'wayne': 1612, 'shop': 1613, 'ice': 1614, 'passes': 1615, 'result': 1616, 'attempted': 1617, 'account': 1618, 'fears': 1619, 'became': 1620, 'milan': 1621, 'song': 1622, 'kills': 1623, 'shes': 1624, 'networks': 1625, 'motors': 1626, 'landing': 1627, 'zone': 1628, 'kardashian': 1629, 'showing': 1630, 'breaks': 1631, 'holds': 1632, 'parties': 1633, 'trip': 1634, 'causing': 1635, 'oct': 1636, 'bowl': 1637, 'ill': 1638, 'simon': 1639, 'art': 1640, 'capacity': 1641, 'advanced': 1642, 'industries': 1643, 'threatened': 1644, 'various': 1645, 'steps': 1646, 'ratings': 1647, 'profits': 1648, 'tests': 1649, 'gaga': 1650, 'invest': 1651, 'missouri': 1652, 'charlie': 1653, 'increasing': 1654, 'gone': 1655, 'complex': 1656, 'jason': 1657, 'important': 1658, '1000': 1659, 'lindsay': 1660, 'married': 1661, 'huge': 1662, 'die': 1663, 'entered': 1664, 'indiana': 1665, 'weapons': 1666, 'cant': 1667, 'seeks': 1668, 'wisconsin': 1669, 'mens': 1670, 'strikes': 1671, 'environmental': 1672, 'scored': 1673, 'samsung': 1674, 'infrastructure': 1675, 'tree': 1676, 'wide': 1677, 'trust': 1678, 'hot': 1679, 'andy': 1680, 'bollywood': 1681, 'signing': 1682, 'philadelphia': 1683, 'santa': 1684, 'foundation': 1685, 'solution': 1686, 'english': 1687, 'disaster': 1688, 'outlook': 1689, 'needed': 1690, 'poor': 1691, 'citing': 1692, 'bringing': 1693, 'story': 1694, 'debate': 1695, 'resign': 1696, 'employee': 1697, 'lives': 1698, 'indonesia': 1699, 'kate': 1700, 'protests': 1701, 'brian': 1702, 'value': 1703, 'mountain': 1704, 'alliance': 1705, 'animal': 1706, 'lohan': 1707, 'swiss': 1708, 'activity': 1709, 'row': 1710, 'heat': 1711, 'reelection': 1712, 'crashes': 1713, 'bob': 1714, 'increases': 1715, 'assistant': 1716, 'jack': 1717, 'happy': 1718, 'transport': 1719, 'content': 1720, 'manufacturer': 1721, 'quit': 1722, 'associated': 1723, 'benefit': 1724, 'grow': 1725, 'awarded': 1726, 'arts': 1727, 'retailer': 1728, 'politics': 1729, 'classic': 1730, 'seattle': 1731, 'bangladesh': 1732, 'allen': 1733, 'recovering': 1734, 'arab': 1735, 'remained': 1736, 'sox': 1737, 'didnt': 1738, 'rupee': 1739, 'poll': 1740, 'metro': 1741, 'auction': 1742, 'fast': 1743, 'rick': 1744, 'charles': 1745, 'leg': 1746, 'terror': 1747, 'journal': 1748, 'township': 1749, 'distribution': 1750, 'marijuana': 1751, 'relief': 1752, '2007': 1753, 'cleveland': 1754, 'streets': 1755, 'stewart': 1756, 'application': 1757, 'cast': 1758, 'plants': 1759, 'crimes': 1760, 'seized': 1761, 'related': 1762, 'recall': 1763, 'app': 1764, 'joining': 1765, 'telecom': 1766, 'detained': 1767, '35': 1768, 'expecting': 1769, 'kashmir': 1770, 'carrier': 1771, 'usa': 1772, 'barcelona': 1773, 'labour': 1774, 'feels': 1775, 'really': 1776, 'tribute': 1777, 'file': 1778, 'struggling': 1779, 'vs': 1780, 'placed': 1781, 'able': 1782, 'idol': 1783, 'bar': 1784, '32': 1785, 'add': 1786, 'jose': 1787, 'healthcare': 1788, 'always': 1789, 'discovered': 1790, 'cruise': 1791, 'holdings': 1792, 'fan': 1793, 'gordon': 1794, 'motorcycle': 1795, 'denies': 1796, 'aimed': 1797, 'ongoing': 1798, 'jets': 1799, 'investor': 1800, 'firms': 1801, 'posts': 1802, 'unveils': 1803, 'significant': 1804, 'allegations': 1805, 'things': 1806, 'prevent': 1807, 'wake': 1808, 'olympics': 1809, 'send': 1810, 'clear': 1811, 'toward': 1812, 'pilot': 1813, 'closes': 1814, 'arsenal': 1815, 'enter': 1816, 'thomas': 1817, 'cents': 1818, 'ap': 1819, 'avenue': 1820, 'commissioner': 1821, 'metal': 1822, 'identified': 1823, 'delivery': 1824, 'square': 1825, 'bbc': 1826, 'carrying': 1827, 'satellite': 1828, 'spend': 1829, 'mass': 1830, 'commerce': 1831, 'sarah': 1832, 'toyota': 1833, 'comments': 1834, 'experts': 1835, 'disabled': 1836, 'applications': 1837, 'nationwide': 1838, 'failure': 1839, 'receiver': 1840, 'ii': 1841, 'attend': 1842, 'punjab': 1843, 'lines': 1844, 'gary': 1845, 'analysts': 1846, 'sexually': 1847, 'chain': 1848, 'clubs': 1849, 'defensive': 1850, 'developing': 1851, 'dutch': 1852, 'orleans': 1853, 'cameron': 1854, 'spent': 1855, 'deadly': 1856, 'candidates': 1857, 'regular': 1858, 'appoints': 1859, 'cole': 1860, 'fires': 1861, 'activities': 1862, 'battery': 1863, 'tackle': 1864, 'majority': 1865, 'expectations': 1866, 'extend': 1867, 'expansion': 1868, 'immigration': 1869, 'jessica': 1870, 'stephen': 1871, 'box': 1872, 'purchase': 1873, 'offensive': 1874, 'failing': 1875, 'crore': 1876, 'embassy': 1877, 'sanctions': 1878, 'hills': 1879, 'expands': 1880, 'throughout': 1881, 'chemical': 1882, 'extension': 1883, 'democrats': 1884, 'mitt': 1885, 'concern': 1886, 'rural': 1887, 'islamic': 1888, 'southwest': 1889, 'designed': 1890, 'rule': 1891, 'hamilton': 1892, 'advertising': 1893, 'warns': 1894, 'helicopter': 1895, 'offices': 1896, 'closer': 1897, 'fc': 1898, 'dc': 1899, 'alcohol': 1900, 'scotland': 1901, 'polls': 1902, 'anthony': 1903, 'sending': 1904, 'ukraine': 1905, 'patent': 1906, 'experience': 1907, 'electronic': 1908, 'possession': 1909, 'seat': 1910, 'indias': 1911, 'tech': 1912, 'factor': 1913, 'comedy': 1914, 'brothers': 1915, 'homicide': 1916, 'bin': 1917, 'sony': 1918, 'confirms': 1919, 'goal': 1920, 'windows': 1921, 'shopping': 1922, 'stimulus': 1923, 'destroyed': 1924, 'thought': 1925, 'schedule': 1926, 'loses': 1927, 'historic': 1928, 'pace': 1929, 'sharply': 1930, 'bieber': 1931, 'consider': 1932, 'standard': 1933, 'agree': 1934, 'nick': 1935, 'brazilian': 1936, 'customer': 1937, 'hour': 1938, 'speech': 1939, 'patrol': 1940, 'apparently': 1941, 'express': 1942, 'gain': 1943, 'visited': 1944, 'complete': 1945, 'kennedy': 1946, 'weekly': 1947, 'terrorism': 1948, 'prosecutors': 1949, 'recovered': 1950, 'speed': 1951, 'yahoo': 1952, 'evidence': 1953, '75': 1954, 'electricity': 1955, 'try': 1956, 'previously': 1957, 'activists': 1958, 'sentence': 1959, 'passengers': 1960, 'brad': 1961, 'beaten': 1962, 'pick': 1963, 'allowed': 1964, 'adds': 1965, 'declares': 1966, 'approves': 1967, 'citys': 1968, 'plc': 1969, 'bjp': 1970, 'parking': 1971, 'serve': 1972, 'violent': 1973, 'tough': 1974, 'trend': 1975, 'melbourne': 1976, 'agencies': 1977, 'advisory': 1978, 'daniel': 1979, 'teenager': 1980, 'clash': 1981, 'davis': 1982, 'ten': 1983, 'chapter': 1984, 'treasury': 1985, 'muslim': 1986, 'works': 1987, 'ensure': 1988, 'mexican': 1989, 'consecutive': 1990, 'jr': 1991, 'threatening': 1992, 'tennessee': 1993, 'settlement': 1994, 'campus': 1995, 'arabia': 1996, 'cocaine': 1997, 'route': 1998, 'continuing': 1999, 'crew': 2000, 'promote': 2001, 'theatre': 2002, 'russell': 2003, 'scandal': 2004, 'hosting': 2005, '300': 2006, 'parliamentary': 2007, 'wales': 2008, 'pass': 2009, 'voice': 2010, 'technical': 2011, 'appears': 2012, 'rare': 2013, 'selected': 2014, 'speak': 2015, 'philippines': 2016, 'pounds': 2017, 'introduces': 2018, 'racing': 2019, 'activist': 2020, 'stabbing': 2021, 'phoenix': 2022, 'burglary': 2023, 'iron': 2024, 'amy': 2025, 'created': 2026, 'tata': 2027, 'assaulting': 2028, 'expanding': 2029, 'update': 2030, 'cover': 2031, 'reveals': 2032, 'subsidiary': 2033, 'counts': 2034, 'el': 2035, 'feel': 2036, 'christian': 2037, 'peoples': 2038, 'developed': 2039, 'freedom': 2040, 'fees': 2041, 'decades': 2042, 'overseas': 2043, 'beckham': 2044, 'secret': 2045, 'shareholders': 2046, 'wild': 2047, 'kentucky': 2048, 'export': 2049, 'engineering': 2050, '70': 2051, 'elizabeth': 2052, 'heading': 2053, 'beats': 2054, 'pradesh': 2055, 'adam': 2056, 'panel': 2057, 'passenger': 2058, 'targets': 2059, 'terrorist': 2060, 'statistics': 2061, 'bear': 2062, 'claiming': 2063, 'providing': 2064, 'sept': 2065, 'victoria': 2066, 'fargo': 2067, 'devices': 2068, 'receiving': 2069, 'cable': 2070, 'done': 2071, 'success': 2072, 'threats': 2073, 'zimbabwe': 2074, 'honored': 2075, 'setting': 2076, 'marine': 2077, 'author': 2078, 'overall': 2079, 'lewis': 2080, 'changed': 2081, 'successfully': 2082, 'jordan': 2083, 'jet': 2084, 'broadband': 2085, 'supplies': 2086, 'forum': 2087, 'breaking': 2088, 'linked': 2089, 'letter': 2090, 'longer': 2091, 'appearance': 2092, 'fine': 2093, 'deliver': 2094, 'silver': 2095, 'voting': 2096, 'golden': 2097, 'wounded': 2098, 'qatar': 2099, 'email': 2100, 'expanded': 2101, 'denver': 2102, 'sun': 2103, 'dating': 2104, 'prix': 2105, 'finds': 2106, 'refused': 2107, 'dealers': 2108, 'hired': 2109, 'childrens': 2110, 'oklahoma': 2111, 'founder': 2112, 'enterprise': 2113, 'hands': 2114, 'let': 2115, 'carbon': 2116, 'indians': 2117, 'kyrgyzstan': 2118, 'ruling': 2119, 'agriculture': 2120, 'decade': 2121, 'frank': 2122, 'rail': 2123, 'negative': 2124, '2014': 2125, 'hurt': 2126, 'studio': 2127, 'extends': 2128, 'investments': 2129, 'serving': 2130, 'scottish': 2131, 'tokyo': 2132, 'elementary': 2133, 'license': 2134, 'campbell': 2135, 'clean': 2136, 'granted': 2137, 'prize': 2138, 'walk': 2139, 'improved': 2140, 'territory': 2141, 'announcement': 2142, 'tropical': 2143, 'lowest': 2144, 'laws': 2145, 'photo': 2146, 'generation': 2147, 'visiting': 2148, 'wrong': 2149, 'electronics': 2150, 'greater': 2151, 'bought': 2152, 'michelle': 2153, 'supporters': 2154, 'sites': 2155, 'tamil': 2156, 'vietnam': 2157, 'pope': 2158, 'palin': 2159, 'undergo': 2160, 'egyptian': 2161, 'message': 2162, '45': 2163, 'strip': 2164, 'n': 2165, 'facilities': 2166, 'portfolio': 2167, 'eye': 2168, 'surprise': 2169, 'ring': 2170, 'goods': 2171, 'questions': 2172, 'treated': 2173, 'sixth': 2174, 'oscar': 2175, 'proposal': 2176, 'assaulted': 2177, 'nelson': 2178, 'believed': 2179, 'foods': 2180, 'programs': 2181, 'toll': 2182, 'analyst': 2183, 'friendly': 2184, 'rehab': 2185, 'ghana': 2186, 'northwest': 2187, 'urges': 2188, 'engine': 2189, 'dangerous': 2190, 'appeared': 2191, 'device': 2192, 'medal': 2193, 'question': 2194, 'alert': 2195, 'note': 2196, 'collision': 2197, 'diagnosed': 2198, 'speculation': 2199, 'keeping': 2200, 'palm': 2201, 'wilson': 2202, 'orange': 2203, 'cold': 2204, 'although': 2205, 'suspicion': 2206, 'pitcher': 2207, 'bodies': 2208, 'nigeria': 2209, 'taxes': 2210, 'legislation': 2211, 'representative': 2212, 'wells': 2213, 'duty': 2214, 'coalition': 2215, 'numbers': 2216, 'units': 2217, 'traders': 2218, 'breast': 2219, 'iraqi': 2220, 'interior': 2221, 'stronger': 2222, 'reuters': 2223, 'testing': 2224, 'produce': 2225, 'approval': 2226, 'roads': 2227, 'hosts': 2228, 'pattinson': 2229, 'crews': 2230, 'religious': 2231, 'plea': 2232, 'bailout': 2233, 'resigns': 2234, 'alabama': 2235, 'sport': 2236, 'mine': 2237, 'true': 2238, 'miller': 2239, 'agents': 2240, 'lack': 2241, 'nokia': 2242, 'brands': 2243, 'famous': 2244, 'b': 2245, 'paper': 2246, '80': 2247, 'moore': 2248, 'cuba': 2249, 'jon': 2250, 'existing': 2251, 'hillary': 2252, 'ocean': 2253, 'android': 2254, 'aged': 2255, 'sundays': 2256, 'formally': 2257, 'laid': 2258, 'patrick': 2259, 'rihanna': 2260, 'residential': 2261, 'thanks': 2262, 'explosion': 2263, 'twins': 2264, 'shoot': 2265, 'chinas': 2266, 'push': 2267, 'status': 2268, 'cape': 2269, 'can': 2270, 'not': 2271, 'stated': 2272, 'prisoners': 2273, 'catholic': 2274, 'dogs': 2275, 'foot': 2276, 'drops': 2277, 'cbs': 2278, 'democracy': 2279, 'libyan': 2280, 'nomination': 2281, 'weight': 2282, 'journalists': 2283, 'rapper': 2284, 'reaches': 2285, 'funeral': 2286, 'challenges': 2287, 'rejected': 2288, 'rather': 2289, 'yemen': 2290, 'contracts': 2291, 'miles': 2292, 'abu': 2293, 'deals': 2294, 'formula': 2295, 'museum': 2296, 'eric': 2297, 'chiefs': 2298, '400': 2299, 'anna': 2300, 'factory': 2301, 'conservative': 2302, 'nifty': 2303, 'assistance': 2304, 'movement': 2305, 'artist': 2306, 'collection': 2307, 'katie': 2308, 'strength': 2309, 'stations': 2310, 'options': 2311, 'amount': 2312, 'teenage': 2313, 'galaxy': 2314, 'finish': 2315, 'gandhi': 2316, 'ny': 2317, 'massachusetts': 2318, '150': 2319, 'enforcement': 2320, 'kicked': 2321, 'kept': 2322, 'branch': 2323, 'harris': 2324, 'hell': 2325, 'fellow': 2326, 'uae': 2327, 'provides': 2328, 'zardari': 2329, 'vowed': 2330, 'storage': 2331, 'feature': 2332, 'becomes': 2333, 'arms': 2334, 'tampa': 2335, 'twice': 2336, 'homeless': 2337, 'hire': 2338, 'phones': 2339, 'diplomatic': 2340, 'superstar': 2341, 'healthy': 2342, 'policies': 2343, 'tickets': 2344, 'details': 2345, 'sees': 2346, 'plays': 2347, 'longtime': 2348, 'designer': 2349, 'bureau': 2350, 'stone': 2351, 'combat': 2352, 'venezuela': 2353, 'located': 2354, 'lending': 2355, 'pool': 2356, 'strengthen': 2357, 'milwaukee': 2358, 'built': 2359, 'immediate': 2360, 'spread': 2361, 'drama': 2362, 'spears': 2363, 'sudan': 2364, 'stanley': 2365, 'independence': 2366, 'buildings': 2367, 'cards': 2368, 'congressional': 2369, 'arena': 2370, 'yankees': 2371, 'fishing': 2372, 'screen': 2373, 'supports': 2374, 'kings': 2375, 'acting': 2376, 'regions': 2377, 'option': 2378, 'secure': 2379, 'shoulder': 2380, 'smart': 2381, 'dancing': 2382, 'horse': 2383, 'buys': 2384, 'nights': 2385, 'pittsburgh': 2386, 'certain': 2387, 'tigers': 2388, '90': 2389, 'pro': 2390, 'sabha': 2391, 'oregon': 2392, 'roger': 2393, 'include': 2394, 'dozens': 2395, 'affected': 2396, 'lifted': 2397, 'newcastle': 2398, 'votes': 2399, 'ipad': 2400, 'howard': 2401, 'vancouver': 2402, 'carlos': 2403, 'stroke': 2404, 'clinic': 2405, 'mail': 2406, 'musical': 2407, 'dialogue': 2408, 'lebanon': 2409, 'monetary': 2410, 'instead': 2411, 'repair': 2412, 'notes': 2413, 'tells': 2414, 'culture': 2415, 'palestinians': 2416, 'cheryl': 2417, 'recover': 2418, 'virus': 2419, 'eurozone': 2420, 'hospitals': 2421, 'apparent': 2422, 'exercise': 2423, 'putting': 2424, 'begun': 2425, 'communities': 2426, 'rio': 2427, 'employment': 2428, 'bulgaria': 2429, 'ron': 2430, 'check': 2431, 'britney': 2432, 'yen': 2433, 'initial': 2434, 'shown': 2435, 'simpson': 2436, 'lions': 2437, 'stopped': 2438, 'presence': 2439, 'atlantic': 2440, 'causes': 2441, 'filing': 2442, 'springs': 2443, 'somali': 2444, 'rivals': 2445, 'patient': 2446, 'seasons': 2447, 'islands': 2448, 'extra': 2449, 'intelligence': 2450, 'missed': 2451, 'removed': 2452, 'murray': 2453, 'output': 2454, 'hoping': 2455, 'deadline': 2456, 'library': 2457, 'agrees': 2458, 'henry': 2459, 'lawyers': 2460, 'delegation': 2461, 'garden': 2462, 'hitting': 2463, 'fully': 2464, 'rice': 2465, 'newly': 2466, 'jerry': 2467, 'initiative': 2468, 'earth': 2469, 'suffers': 2470, 'demi': 2471, 'cancelled': 2472, 'aviation': 2473, 'spotted': 2474, 'fact': 2475, 'diamond': 2476, 'championships': 2477, 'payment': 2478, 'goals': 2479, 'emerging': 2480, 'thats': 2481, 'doors': 2482, 'pension': 2483, 'offender': 2484, 'tourists': 2485, 'sheen': 2486, 'exclusive': 2487, 'welcome': 2488, 'dance': 2489, 'basis': 2490, 'gop': 2491, 'judges': 2492, 'austin': 2493, 'preparing': 2494, 'veterans': 2495, 'approximately': 2496, 'recalled': 2497, 'persons': 2498, 'katy': 2499, 'w': 2500, 'sa': 2501, 'touch': 2502, 'winds': 2503, 'penalty': 2504, 'ontario': 2505, 'asks': 2506, 'americas': 2507, 'drunk': 2508, 'accounts': 2509, 'sued': 2510, 'invited': 2511, 'resort': 2512, 'legendary': 2513, 'stable': 2514, 'discovery': 2515, 'orlando': 2516, 'pennsylvania': 2517, 'reduced': 2518, 'reporter': 2519, 'ways': 2520, 'regarding': 2521, 'myanmar': 2522, 'talent': 2523, 'powerful': 2524, 'networking': 2525, 'buffalo': 2526, 'malaysian': 2527, 'southeast': 2528, 'alive': 2529, 'j': 2530, 'awareness': 2531, 'dream': 2532, 'junior': 2533, 'speaker': 2534, 'enters': 2535, 'advance': 2536, 'probation': 2537, 'britains': 2538, 'birmingham': 2539, 'copper': 2540, 'att': 2541, 'warren': 2542, 'anderson': 2543, 'ad': 2544, 'preliminary': 2545, 'honor': 2546, 'presented': 2547, 'waste': 2548, 'sensex': 2549, 'hero': 2550, 'transportation': 2551, 'expect': 2552, 'railway': 2553, 'utah': 2554, 'financing': 2555, 'reporters': 2556, 'ball': 2557, 'bp': 2558, 'native': 2559, 'luxury': 2560, 'active': 2561, 'contact': 2562, 'missile': 2563, 'madonna': 2564, 'jeff': 2565, 'owned': 2566, 'thailand': 2567, 'outstanding': 2568, 'phil': 2569, 'confident': 2570, 'oakland': 2571, 'traded': 2572, 'baltimore': 2573, 'saturdays': 2574, 'creating': 2575, 'franchise': 2576, 'sharp': 2577, 'asking': 2578, 'nsw': 2579, 'madison': 2580, 'expert': 2581, 'negotiations': 2582, 'turning': 2583, 'invasion': 2584, 'population': 2585, 'resident': 2586, 'drinking': 2587, 'columbia': 2588, 'alaska': 2589, 'kumar': 2590, 'searching': 2591, 'edwards': 2592, 'c': 2593, 'nothing': 2594, 'deaths': 2595, 'offshore': 2596, 'fish': 2597, 'matches': 2598, 'casino': 2599, 'comeback': 2600, 'unions': 2601, 'pair': 2602, 'however': 2603, 'journalist': 2604, 'commander': 2605, 'mall': 2606, 'feet': 2607, 'terrorists': 2608, 'pain': 2609, '10000': 2610, 'clients': 2611, 'boxing': 2612, 'sides': 2613, 'welcomed': 2614, 'restructuring': 2615, 'columbus': 2616, 'exhibition': 2617, 'sam': 2618, 'sworn': 2619, 'celebrating': 2620, 'probe': 2621, 'mutual': 2622, 'mississippi': 2623, 'tonnes': 2624, 'circuit': 2625, 'postponed': 2626, 'floor': 2627, 'sought': 2628, 'creek': 2629, 'heads': 2630, 'renewed': 2631, 'standards': 2632, 'collapsed': 2633, 'conducted': 2634, 'waters': 2635, 'gang': 2636, 'fatally': 2637, 'winehouse': 2638, 'tested': 2639, 'performing': 2640, 'felt': 2641, 'usd': 2642, 'documents': 2643, 'kazakhstan': 2644, 'evacuated': 2645, '62': 2646, 'payments': 2647, 'nationals': 2648, '65': 2649, 'professor': 2650, 'canceled': 2651, 'male': 2652, 'northeast': 2653, 'ncaa': 2654, 'goldman': 2655, 'temporary': 2656, 'declined': 2657, 'window': 2658, 'arm': 2659, 'edge': 2660, 'manslaughter': 2661, 'busy': 2662, 'illness': 2663, 'jimmy': 2664, 'delayed': 2665, 'complaint': 2666, 'ask': 2667, 'slow': 2668, 'serbia': 2669, 'dakota': 2670, 'masters': 2671, 'youtube': 2672, 'jumped': 2673, 'hudson': 2674, 'ticket': 2675, 'e': 2676, 'jolie': 2677, 'opportunities': 2678, 'managed': 2679, 'considered': 2680, 'scene': 2681, 'notice': 2682, 'page': 2683, 'broadway': 2684, 'republicans': 2685, 'lift': 2686, 'ray': 2687, 'derby': 2688, 'abc': 2689, 'cyrus': 2690, 'argentina': 2691, 'utility': 2692, '42': 2693, 'demands': 2694, 'coverage': 2695, 'pornography': 2696, 'pipeline': 2697, 'todays': 2698, 'features': 2699, 'worked': 2700, 'normal': 2701, 'tight': 2702, '41': 2703, 'centers': 2704, 'biden': 2705, 'places': 2706, 'australias': 2707, 'helps': 2708, 'residence': 2709, 'counties': 2710, 'stole': 2711, 'fit': 2712, 'targeting': 2713, 'learned': 2714, 'fear': 2715, 'reforms': 2716, 'franklin': 2717, 'bilateral': 2718, 'means': 2719, 'fake': 2720, 'movies': 2721, 'drowned': 2722, 'imports': 2723, 'hosted': 2724, 'betting': 2725, 'deputies': 2726, 'angelina': 2727, '64': 2728, 'smoke': 2729, 'finished': 2730, 'entire': 2731, 'edward': 2732, 'monthly': 2733, 'blast': 2734, 'troubled': 2735, '100000': 2736, 'false': 2737, 'llc': 2738, 'connecticut': 2739, 'swedish': 2740, 'marks': 2741, 'lineup': 2742, 'modern': 2743, 'settle': 2744, '63': 2745, 'businessman': 2746, 'positions': 2747, '2000': 2748, 'specialist': 2749, 'dhabi': 2750, 'remove': 2751, 'display': 2752, 'shanghai': 2753, 'escaped': 2754, 'participate': 2755, 'ive': 2756, 'informed': 2757, 'belarus': 2758, 'especially': 2759, 'tender': 2760, 'andre': 2761, 'immediately': 2762, 'sky': 2763, 'insists': 2764, 'tell': 2765, 'disney': 2766, 'medicine': 2767, 'virgin': 2768, 'pull': 2769, 'congressman': 2770, 'whats': 2771, 'bahrain': 2772, 'steady': 2773, 'trophy': 2774, 'announcing': 2775, 'ankle': 2776, 'bears': 2777, 'philippine': 2778, 'sprint': 2779, 'euros': 2780, 'suspends': 2781, 'century': 2782, 'asset': 2783, 'merger': 2784, 'learn': 2785, 'responsible': 2786, 'noon': 2787, 'democrat': 2788, 'fishermen': 2789, 'recalls': 2790, 'josh': 2791, 'highly': 2792, 'ease': 2793, 'retired': 2794, 'follow': 2795, 'rich': 2796, 'sachs': 2797, 'arkansas': 2798, 'import': 2799, 'antonio': 2800, 'thing': 2801, 'mount': 2802, 'perfect': 2803, 'kidnapped': 2804, 'provided': 2805, 'cooper': 2806, 'louisiana': 2807, 'properties': 2808, 'fighter': 2809, 'steven': 2810, 'dedicated': 2811, 'smartphone': 2812, 'convention': 2813, 'kenya': 2814, 'hamas': 2815, 'welcomes': 2816, 'personnel': 2817, 'mental': 2818, 'carry': 2819, 'regime': 2820, 'tied': 2821, 'tea': 2822, 'federation': 2823, 'suspects': 2824, 'nominated': 2825, 'fee': 2826, 'wood': 2827, 'pedestrian': 2828, 'raid': 2829, 'kristen': 2830, 'bell': 2831, 'districts': 2832, 'request': 2833, 'matter': 2834, 'sugar': 2835, 'czech': 2836, 'jay': 2837, 'savings': 2838, 'kicks': 2839, 'benchmark': 2840, 'killer': 2841, 'delay': 2842, 'queensland': 2843, 'born': 2844, 'theres': 2845, 'shortage': 2846, 'phase': 2847, 'incidents': 2848, 'craig': 2849, 'ride': 2850, 'choice': 2851, 'rushed': 2852, 'seems': 2853, 'ran': 2854, 'rocket': 2855, 'warrant': 2856, 'internal': 2857, 'adults': 2858, 'identity': 2859, 'coffee': 2860, 'eagles': 2861, 'swimming': 2862, 'miley': 2863, 'bulls': 2864, '5000': 2865, 'often': 2866, 'appeals': 2867, 'defend': 2868, 'lankan': 2869, 'cancels': 2870, 'barclays': 2871, 'chavez': 2872, 'deep': 2873, 'indonesian': 2874, 'reading': 2875, 'inmate': 2876, 'guy': 2877, 'producers': 2878, 'introduce': 2879, 'learning': 2880, 'jump': 2881, 'fitness': 2882, 'cargo': 2883, 'sons': 2884, '85': 2885, 'sean': 2886, 'investigators': 2887, 'sentiment': 2888, 'chrysler': 2889, 'wave': 2890, 'johnny': 2891, 'cowell': 2892, 'nicolas': 2893, 'mac': 2894, 'criticism': 2895, 'penn': 2896, 'eve': 2897, 'armenia': 2898, 'volunteers': 2899, 'alan': 2900, 'representatives': 2901, 'picked': 2902, 'location': 2903, 'jewish': 2904, 'opener': 2905, 'preseason': 2906, 'taxi': 2907, 'engagement': 2908, 'wildlife': 2909, 'table': 2910, 'threatens': 2911, 'style': 2912, '33': 2913, 'comedian': 2914, 'edition': 2915, 'actually': 2916, 'boeing': 2917, 'aniston': 2918, 'intel': 2919, 'bit': 2920, 'crossing': 2921, 'paying': 2922, 'scientific': 2923, 'tottenham': 2924, 'something': 2925, 'tourist': 2926, 'spill': 2927, 'vows': 2928, 'image': 2929, 'difficult': 2930, 'institutions': 2931, 'tehran': 2932, 'estimates': 2933, 'crown': 2934, 'ag': 2935, 'ferguson': 2936, 'compete': 2937, 'weaker': 2938, 'promotion': 2939, 'supplier': 2940, 'defends': 2941, 'lincoln': 2942, 'suing': 2943, 'cardinals': 2944, 'happened': 2945, 'traditional': 2946, 'manmohan': 2947, '10th': 2948, 'conflict': 2949, 'dan': 2950, 'restore': 2951, 'swift': 2952, 'murdered': 2953, 'provincial': 2954, 'mary': 2955, 'reopen': 2956, 'processing': 2957, '600': 2958, 'nhl': 2959, 'integrated': 2960, 'drew': 2961, 'tons': 2962, 'neil': 2963, 'reasons': 2964, 'upper': 2965, 'language': 2966, 'maintenance': 2967, 'proud': 2968, 'figure': 2969, 'rookie': 2970, 'pays': 2971, 'sends': 2972, 'azerbaijani': 2973, 'waiting': 2974, 'onto': 2975, 'smoking': 2976, 'suspicious': 2977, 'influence': 2978, 'fail': 2979, 'remaining': 2980, 'visa': 2981, 'hike': 2982, 'walker': 2983, 'decide': 2984, 'ukrainian': 2985, 'improving': 2986, 'murdering': 2987, 'featuring': 2988, 'burning': 2989, 'battling': 2990, 'delays': 2991, 'ibm': 2992, 'pitch': 2993, 'expressed': 2994, 'allowing': 2995, 'feeling': 2996, 'pilots': 2997, 'dark': 2998, 'pound': 2999, 'robin': 3000, 'reliance': 3001, 'targeted': 3002, 'lopez': 3003, 'fallen': 3004, 'commitment': 3005, 'arrive': 3006, 'shots': 3007, 'rob': 3008, 'escape': 3009, 'regulatory': 3010, 'retailers': 3011, 'barry': 3012, 'meetings': 3013, 'terry': 3014, 'images': 3015, 'fifa': 3016, 'carter': 3017, 'roll': 3018, 'maryland': 3019, 'interstate': 3020, 'walmart': 3021, 'items': 3022, 'defeated': 3023, 'longterm': 3024, 'managing': 3025, 'registration': 3026, 'threw': 3027, 'suggests': 3028, 'drunken': 3029, 'nicole': 3030, 'wait': 3031, 'beyond': 3032, 'marathon': 3033, 'emirates': 3034, 'suggested': 3035, 'rafael': 3036, 'dates': 3037, 'suspension': 3038, 'mostly': 3039, 'portland': 3040, 'defended': 3041, 'approach': 3042, 'wikileaks': 3043, 'accept': 3044, 'organizations': 3045, 'nbc': 3046, 'lawrence': 3047, 'premiere': 3048, 'gates': 3049, 'estimated': 3050, 'charlotte': 3051, 'produced': 3052, 'broadcast': 3053, 'pitt': 3054, 'scores': 3055, 'compensation': 3056, 'materials': 3057, 'halt': 3058, 'ed': 3059, 'employers': 3060, 'bulgarian': 3061, 'tower': 3062, 'caribbean': 3063, 'sister': 3064, 'flooding': 3065, 'books': 3066, 'resolution': 3067, 'courts': 3068, 'petrol': 3069, 'includes': 3070, 'charter': 3071, 'flying': 3072, 'undisclosed': 3073, 'billy': 3074, 'lay': 3075, 'secured': 3076, 'nevada': 3077, 'blackberry': 3078, 'trafficking': 3079, 'alexander': 3080, 'warner': 3081, 'honda': 3082, 'aims': 3083, 'door': 3084, 'constitution': 3085, 'gained': 3086, 'naval': 3087, 'undergoing': 3088, 'tornado': 3089, 'parent': 3090, 'recorded': 3091, 'resistance': 3092, 'roy': 3093, 'globe': 3094, 'gunpoint': 3095, 'kolkata': 3096, 'physical': 3097, 'promised': 3098, 'urban': 3099, 'register': 3100, 'bristol': 3101, 'kick': 3102, 'revenues': 3103, 'houses': 3104, 'core': 3105, 'scam': 3106, 'abroad': 3107, 'mar': 3108, 'honoured': 3109, 'jazz': 3110, 'bruce': 3111, 'verizon': 3112, 'neighborhood': 3113, 'bradley': 3114, 'supporting': 3115, 'anything': 3116, 'unexpectedly': 3117, '36': 3118, 'haiti': 3119, 'ufc': 3120, 'whole': 3121, 'regulators': 3122, 'cincinnati': 3123, 'petroleum': 3124, 'exploration': 3125, 'occurred': 3126, 'cowboys': 3127, 'grants': 3128, 'registered': 3129, 'faced': 3130, 'everything': 3131, 'celebration': 3132, 'mans': 3133, 'carried': 3134, 'maintain': 3135, 'amazon': 3136, 'playoff': 3137, 'kingdom': 3138, 'cuban': 3139, 'bull': 3140, 'reopened': 3141, 'fastest': 3142, 'parks': 3143, 'liberal': 3144, 'softball': 3145, 'commodity': 3146, 'isnt': 3147, 'damaged': 3148, 'del': 3149, 'brings': 3150, 'performed': 3151, 'material': 3152, 'switzerland': 3153, 'interim': 3154, 'blow': 3155, 'reaching': 3156, 'liam': 3157, 'pat': 3158, 'easy': 3159, 'slowdown': 3160, 'arrests': 3161, 'pc': 3162, 'temporarily': 3163, 'cultural': 3164, 'bars': 3165, '43': 3166, 'recalling': 3167, '34': 3168, 'nominee': 3169, 'jamie': 3170, 'alternative': 3171, 'violations': 3172, 'barbara': 3173, 'bengal': 3174, 'knife': 3175, 'ac': 3176, 'suit': 3177, 'hiring': 3178, 'unchanged': 3179, 'armstrong': 3180, 'judicial': 3181, 'comprehensive': 3182, 'written': 3183, 'maria': 3184, 'palace': 3185, 'god': 3186, 'jesse': 3187, 'flag': 3188, 'dow': 3189, 'balance': 3190, 'withdraws': 3191, 'hires': 3192, 'talking': 3193, 'diesel': 3194, 'montreal': 3195, 'villa': 3196, 'maine': 3197, 'transit': 3198, 'sure': 3199, 'medvedev': 3200, 'retiring': 3201, 'seventh': 3202, 'europes': 3203, 'picture': 3204, 'probably': 3205, 'aaron': 3206, 'civilians': 3207, 'streak': 3208, 'lightning': 3209, 'handed': 3210, 'zoo': 3211, 'names': 3212, 'forthcoming': 3213, 'violating': 3214, '76': 3215, 'prominent': 3216, 'upgraded': 3217, 'word': 3218, 'dealer': 3219, 'indianapolis': 3220, 'cited': 3221, 'asif': 3222, 'pictures': 3223, 'trillion': 3224, 'blamed': 3225, 'landed': 3226, 'sweden': 3227, '2006': 3228, 'ricky': 3229, 'cook': 3230, 'prepare': 3231, 'dodgers': 3232, 'benedict': 3233, 'mandela': 3234, 'described': 3235, 'delivered': 3236, 'powers': 3237, 'improvement': 3238, 'p': 3239, 'pole': 3240, 'gaming': 3241, 'roster': 3242, 'adopted': 3243, 'diabetes': 3244, 'captured': 3245, 'trail': 3246, 'dinner': 3247, '911': 3248, 'fleet': 3249, 'toddler': 3250, 'listed': 3251, 'shoots': 3252, 'exit': 3253, 'hotels': 3254, 'larry': 3255, 'shortly': 3256, 'infection': 3257, 'bobby': 3258, 'brandon': 3259, 'opportunity': 3260, 'danny': 3261, 'advantage': 3262, 'arson': 3263, 'episode': 3264, 'bigger': 3265, 'degree': 3266, 'crowd': 3267, 'alone': 3268, 'triple': 3269, 'maoists': 3270, 'responsibility': 3271, 'restored': 3272, 'downgraded': 3273, 'speaks': 3274, 'dismissed': 3275, 'legislature': 3276, 'lama': 3277, 'clashes': 3278, 'raiders': 3279, 'linebacker': 3280, 'musharraf': 3281, 'clark': 3282, 'pub': 3283, 'similar': 3284, 'watson': 3285, 'drilling': 3286, 'joseph': 3287, 'checks': 3288, 'assigned': 3289, 'cubs': 3290, 'netherlands': 3291, 'pushed': 3292, '48': 3293, 'berlin': 3294, 'sound': 3295, 'icon': 3296, 'starring': 3297, 'upon': 3298, 'emerged': 3299, 'classes': 3300, 'trees': 3301, 'thompson': 3302, 'cnn': 3303, 'earned': 3304, 'establish': 3305, 'direction': 3306, 'dublin': 3307, 'plead': 3308, 'lender': 3309, 'kind': 3310, 'cap': 3311, 'shuttle': 3312, 'considers': 3313, 'organisation': 3314, 'legislative': 3315, 'quickly': 3316, 'hp': 3317, 'nigerian': 3318, 'formed': 3319, 'raped': 3320, 'stepping': 3321, 'parker': 3322, 'respect': 3323, 'thinks': 3324, 'dick': 3325, 'crack': 3326, 'withdraw': 3327, '37': 3328, 'athletic': 3329, 'strongly': 3330, 'interested': 3331, 'keen': 3332, 'deutsche': 3333, 'risks': 3334, 'sheriff': 3335, 'matthew': 3336, 'hedge': 3337, 'drink': 3338, 'marry': 3339, 'temple': 3340, 'section': 3341, 'presents': 3342, 'rand': 3343, 'restaurants': 3344, 'grew': 3345, 'nascar': 3346, 'lands': 3347, 'guns': 3348, 'salman': 3349, 'nepal': 3350, 'saints': 3351, 'rush': 3352, 'heritage': 3353, 'walking': 3354, 'roof': 3355, 'restrictions': 3356, 'everyone': 3357, 'inquiry': 3358, 'condemned': 3359, 'collins': 3360, 'faster': 3361, 'motion': 3362, 'cyprus': 3363, 'witnesses': 3364, 'hair': 3365, 'municipal': 3366, 'thai': 3367, 'sunderland': 3368, 'till': 3369, 'dalai': 3370, 'principal': 3371, 'dry': 3372, 'coordinator': 3373, 'individual': 3374, 'publicly': 3375, 'guide': 3376, 'older': 3377, 'customs': 3378, 'defending': 3379, 'link': 3380, 'wearing': 3381, 'accidentally': 3382, '250': 3383, 'lok': 3384, 'presidents': 3385, 'beauty': 3386, 'rains': 3387, 'agreements': 3388, 'wear': 3389, 'sp': 3390, 'athletes': 3391, 'kyle': 3392, 'latin': 3393, 'attacking': 3394, 'knowledge': 3395, 'shipping': 3396, 'enhance': 3397, 'rolling': 3398, 'moment': 3399, 'twin': 3400, 'recording': 3401, 'nashville': 3402, 'nasa': 3403, 'nebraska': 3404, 'patriots': 3405, 'served': 3406, 'putin': 3407, 'saved': 3408, 'reid': 3409, 'quite': 3410, 'conviction': 3411, 'idea': 3412, 'tribal': 3413, '82': 3414, 'kapoor': 3415, 'shed': 3416, 'stress': 3417, 'milestone': 3418, 'welfare': 3419, 'seize': 3420, 'focused': 3421, 'leak': 3422, 'kidnapping': 3423, 'tools': 3424, 'attention': 3425, 'developers': 3426, 'permanent': 3427, 'holmes': 3428, 'wealth': 3429, '55': 3430, 'royals': 3431, 'minority': 3432, 'shah': 3433, 'hawaii': 3434, 'depression': 3435, 'conspiracy': 3436, 'downturn': 3437, 'tie': 3438, 'collaboration': 3439, 'shore': 3440, 'nadal': 3441, 'sacramento': 3442, 'resolve': 3443, '44': 3444, 'armenian': 3445, 'gujarat': 3446, 'hilton': 3447, 'inter': 3448, 'chennai': 3449, 'code': 3450, 'plus': 3451, 'dave': 3452, 'increasingly': 3453, 'jammu': 3454, 'affect': 3455, 'automotive': 3456, 'ashley': 3457, 'knocked': 3458, 'wreck': 3459, 'struggle': 3460, 'freed': 3461, 'innovation': 3462, 'heavyweight': 3463, 'backed': 3464, 'outfielder': 3465, 'takeover': 3466, 'revolution': 3467, 'limit': 3468, 'billionaire': 3469, 'roberts': 3470, 'passing': 3471, 'intends': 3472, 'currencies': 3473, 'demanded': 3474, 'hear': 3475, 'greg': 3476, '61': 3477, 'original': 3478, 'prosecutor': 3479, 'lane': 3480, 'metals': 3481, 'keith': 3482, 'wholesale': 3483, 'selection': 3484, 'accuses': 3485, 'tool': 3486, 'lakers': 3487, 'endorses': 3488, 'workforce': 3489, 'delta': 3490, 'minimum': 3491, 'afp': 3492, 'sparked': 3493, 'era': 3494, 'buyers': 3495, 'encounter': 3496, 'poland': 3497, 'camera': 3498, 'undergoes': 3499, 'humanitarian': 3500, 'managers': 3501, 'coaching': 3502, 'resignation': 3503, 'ian': 3504, 'writes': 3505, 'creative': 3506, 'puts': 3507, 'obamas': 3508, 'kerry': 3509, 'colombian': 3510, 'tensions': 3511, 'unveil': 3512, 'executives': 3513, 'sue': 3514, 'universal': 3515, 'determined': 3516, 'mets': 3517, 'communication': 3518, '3000': 3519, 'adult': 3520, 'upset': 3521, 'tries': 3522, 'gap': 3523, '3d': 3524, 'tablet': 3525, 'reason': 3526, 'georgian': 3527, 'sectors': 3528, 'warriors': 3529, 'tank': 3530, 'rollover': 3531, 'virtual': 3532, 'duke': 3533, 'hunger': 3534, 'stability': 3535, 'ross': 3536, 'hughes': 3537, 'espn': 3538, 'trucks': 3539, 'solo': 3540, 'dramatic': 3541, 'graham': 3542, 'extending': 3543, 'master': 3544, 'kerala': 3545, 'bird': 3546, 'parade': 3547, 'prepared': 3548, 'entering': 3549, 'capitol': 3550, 'islamabad': 3551, 'animals': 3552, 'fitch': 3553, 'montana': 3554, 'trouble': 3555, 'kidney': 3556, 'prior': 3557, 'roman': 3558, 'firefighter': 3559, 'fewer': 3560, 'label': 3561, 'studios': 3562, 'studies': 3563, 'weapon': 3564, 'measure': 3565, 'politicians': 3566, 'hampshire': 3567, 'dolphins': 3568, 'gift': 3569, 'plastic': 3570, 'changing': 3571, 'lenders': 3572, 'accepted': 3573, 'loves': 3574, 'walked': 3575, 'illegally': 3576, 'salary': 3577, '700': 3578, 'firing': 3579, 'malik': 3580, '72': 3581, 'auckland': 3582, 'unique': 3583, 'moon': 3584, 'innovative': 3585, 'lance': 3586, 'allstar': 3587, 'practices': 3588, 'misdemeanor': 3589, 'quits': 3590, 'rallied': 3591, 'corps': 3592, 'sterling': 3593, 'task': 3594, 'kosovo': 3595, 'christina': 3596, 'score': 3597, 'interactive': 3598, 'ranked': 3599, 'attorneys': 3600, 'hugo': 3601, 'wine': 3602, 'resumed': 3603, 'controversy': 3604, 'twoyear': 3605, 'motorcyclist': 3606, 'familiar': 3607, 'adams': 3608, 'affair': 3609, 'dealing': 3610, 'mothers': 3611, 'storms': 3612, 'blog': 3613, 'machine': 3614, 'sustained': 3615, 'remarks': 3616, 'fails': 3617, 'unlikely': 3618, 'marking': 3619, 'rogers': 3620, 'rejects': 3621, 'interests': 3622, 'immigrants': 3623, 'fixed': 3624, 'knight': 3625, 'mps': 3626, 'read': 3627, 'established': 3628, 'streaming': 3629, 'pit': 3630, 'magic': 3631, 'muslims': 3632, 'standoff': 3633, 'neck': 3634, 'lebanese': 3635, 'shell': 3636, 'providers': 3637, 'analysis': 3638, 'skills': 3639, 'article': 3640, 'douglas': 3641, 'ahmadinejad': 3642, 'iii': 3643, 'required': 3644, 'ted': 3645, 'poised': 3646, 'milk': 3647, 'fun': 3648, 'publisher': 3649, 'shane': 3650, 'enterprises': 3651, 'browns': 3652, 'accepting': 3653, 'fbi': 3654, 'sciences': 3655, 'liberty': 3656, 'eddie': 3657, 'motorola': 3658, 'ottawa': 3659, 'tanker': 3660, 'commits': 3661, 'chancellor': 3662, 'ranks': 3663, 'mukherjee': 3664, '51': 3665, 'colombia': 3666, 'forcing': 3667, 'fly': 3668, 'burned': 3669, 'anyone': 3670, 'songs': 3671, 'jonathan': 3672, 'coaches': 3673, 'entry': 3674, 'bike': 3675, 'promises': 3676, 'insisted': 3677, 'injuring': 3678, 'releasing': 3679, 'sarkozy': 3680, 'collapse': 3681, 'witness': 3682, 'pak': 3683, 'resumes': 3684, 'pilgrims': 3685, 'bachchan': 3686, 'hunt': 3687, 'tyler': 3688, 'alongside': 3689, 'springfield': 3690, 'qualifying': 3691, 'included': 3692, 'wright': 3693, 'momentum': 3694, 'spokeswoman': 3695, 'perth': 3696, 'proposals': 3697, 'buried': 3698, 'competitive': 3699, 'mill': 3700, '52': 3701, 'carl': 3702, 'sharks': 3703, 'backs': 3704, 'crashing': 3705, 'rockets': 3706, 'reduction': 3707, 'approve': 3708, 'dropping': 3709, 'drought': 3710, 'directed': 3711, 'praised': 3712, 'count': 3713, 'prospect': 3714, 'vikings': 3715, 'potentially': 3716, 'standing': 3717, 'cells': 3718, 'casey': 3719, 'vision': 3720, 'rome': 3721, 'gm': 3722, 'citigroup': 3723, 'sponsor': 3724, 'highs': 3725, '38': 3726, 'fields': 3727, 'aston': 3728, 'opera': 3729, 'kuwait': 3730, 'goalkeeper': 3731, 'mind': 3732, 'twenty20': 3733, 'envoy': 3734, 'retires': 3735, 'involvement': 3736, 'path': 3737, 'mccartney': 3738, 'karnataka': 3739, 'militant': 3740, 'promoting': 3741, 'adviser': 3742, 'guidance': 3743, 'fisher': 3744, 'raza': 3745, 'thrown': 3746, 'speaking': 3747, 'structure': 3748, 'sleep': 3749, 'size': 3750, 'mahmoud': 3751, 'zuma': 3752, 'critically': 3753, 'underwent': 3754, 'locations': 3755, 'withdrawn': 3756, 'worries': 3757, 'imposed': 3758, 'fa': 3759, 'endorsed': 3760, 'fiji': 3761, 'advice': 3762, 'motorists': 3763, 'appointment': 3764, 'queens': 3765, 'category': 3766, 'baghdad': 3767, 'drone': 3768, 'grove': 3769, 'stands': 3770, 'wheat': 3771, 'lakh': 3772, 'mtv': 3773, 'lord': 3774, 'possibility': 3775, 'kris': 3776, 'addition': 3777, 'lung': 3778, 'innings': 3779, 'crucial': 3780, 'bat': 3781, 'munich': 3782, 'costa': 3783, 'edged': 3784, 'nhs': 3785, 'romania': 3786, 'raw': 3787, 'finding': 3788, 'colleges': 3789, '800': 3790, 'featured': 3791, 'telling': 3792, 'gilani': 3793, 'declines': 3794, 'demanding': 3795, '2015': 3796, 'foreclosure': 3797, 'sues': 3798, 'holidays': 3799, 'dell': 3800, 'hunting': 3801, 'acres': 3802, 'broncos': 3803, 'bans': 3804, 'pharmaceutical': 3805, 'crackdown': 3806, 'tracking': 3807, 'trailer': 3808, 'jobless': 3809, 'sustainable': 3810, 'stranded': 3811, 'brisbane': 3812, 'departments': 3813, 'answer': 3814, 'refuses': 3815, 'eagle': 3816, 'everton': 3817, 'limits': 3818, 'cairo': 3819, 'pulls': 3820, 'raping': 3821, 'japans': 3822, 'pushing': 3823, 'replaced': 3824, 'lying': 3825, 'communist': 3826, 'semifinal': 3827, 'skipper': 3828, 'blues': 3829, 'attempts': 3830, 'indies': 3831, 'sessions': 3832, 'finals': 3833, 'surge': 3834, 'volleyball': 3835, 'computers': 3836, 'monitoring': 3837, 'actions': 3838, 'routes': 3839, 'pledged': 3840, 'seats': 3841, 'theyre': 3842, 'imf': 3843, 'dui': 3844, 'terminal': 3845, 'urging': 3846, 'commonwealth': 3847, 'pti': 3848, 'select': 3849, 'senators': 3850, 'prepares': 3851, 'vladimir': 3852, 'settled': 3853, 'cat': 3854, 'fla': 3855, 'efficiency': 3856, 'priority': 3857, 'character': 3858, 'transaction': 3859, 'defenseman': 3860, 'assignment': 3861, 'theater': 3862, 'actors': 3863, 'teens': 3864, 'quoted': 3865, 'manage': 3866, 'hub': 3867, 'heights': 3868, 'writing': 3869, 'qantas': 3870, 'midnight': 3871, 'celtic': 3872, 'telecommunications': 3873, 'serial': 3874, 'operators': 3875, 'promoted': 3876, 'surplus': 3877, 'papers': 3878, 'photos': 3879, 'sovereign': 3880, 'agricultural': 3881, 'kanye': 3882, 'forecasts': 3883, 'prove': 3884, 'juan': 3885, 'asylum': 3886, 'boosted': 3887, 'plunged': 3888, 'reveal': 3889, 'rolled': 3890, 'hunter': 3891, 'wing': 3892, 'angry': 3893, 'vodafone': 3894, 'beer': 3895, 'treat': 3896, 'landmark': 3897, 'throws': 3898, 'chile': 3899, 'tributes': 3900, 'earn': 3901, 'memory': 3902, 'vatican': 3903, 'mills': 3904, 'fed': 3905, 'apologizes': 3906, 'membership': 3907, 'someone': 3908, 'closure': 3909, 'either': 3910, 'evans': 3911, 'picks': 3912, 'complaints': 3913, 'keeps': 3914, 'polish': 3915, 'slammed': 3916, 'discrimination': 3917, 'semifinals': 3918, 'abortion': 3919, 'chosen': 3920, 'shock': 3921, 'leeds': 3922, 'amanda': 3923, 'vaccine': 3924, 'wage': 3925, 'performs': 3926, 'proposes': 3927, 'susan': 3928, 'argument': 3929, 'mom': 3930, 'rooney': 3931, 'text': 3932, 'visitors': 3933, 'remote': 3934, 'pleased': 3935, 'pending': 3936, 'jefferson': 3937, 'catches': 3938, 'fernando': 3939, 'hip': 3940, 'ore': 3941, 'reducing': 3942, 'significantly': 3943, 'cyclist': 3944, 'nursing': 3945, 'photographer': 3946, '54': 3947, 'sisters': 3948, 'saint': 3949, 'citizen': 3950, 'nc': 3951, 'reserves': 3952, 'abdullah': 3953, 'centres': 3954, 'salt': 3955, 'middleton': 3956, 'burns': 3957, 'beef': 3958, 'tracks': 3959, 'pete': 3960, 'portsmouth': 3961, 'oneyear': 3962, 'pakistans': 3963, '53': 3964, 'shareholder': 3965, 'memphis': 3966, 'bomber': 3967, 'newest': 3968, 'accusing': 3969, 'bone': 3970, 'flash': 3971, 'reds': 3972, 'hole': 3973, 'neutral': 3974, 'skin': 3975, 'guards': 3976, 'kent': 3977, 'hate': 3978, 'premium': 3979, 'watching': 3980, '46': 3981, 'julian': 3982, 'parish': 3983, 'donated': 3984, 'rebound': 3985, 'adelaide': 3986, 'bottom': 3987, 'glass': 3988, 'supported': 3989, '50000': 3990, 'waivers': 3991, 'saving': 3992, 'stepped': 3993, 'drove': 3994, 'smartphones': 3995, 'effects': 3996, 'variety': 3997, 'jeremy': 3998, 'kenny': 3999, 'worse': 4000, 'airbus': 4001, 'liquor': 4002, 'chamber': 4003, 'prescription': 4004, 'weakened': 4005, 'quick': 4006, 'robinson': 4007, 'lifetime': 4008, 'abdul': 4009, 'conservation': 4010, 'towns': 4011, 'acts': 4012, 'prostitution': 4013, 'upgrade': 4014, 'species': 4015, 'subject': 4016, 'allows': 4017, 'temperatures': 4018, 'monitor': 4019, 'guest': 4020, 'lovato': 4021, 'write': 4022, 'karachi': 4023, 'spirit': 4024, 'messages': 4025, 'northwestern': 4026, 'stops': 4027, 'pregnancy': 4028, 'user': 4029, 'stream': 4030, 'winners': 4031, 'trapped': 4032, 'vessel': 4033, 'equities': 4034, 'assist': 4035, 'mario': 4036, 'irans': 4037, 'ronaldo': 4038, 'donald': 4039, 'sep': 4040, 'pharmaceuticals': 4041, 'brief': 4042, 'suspend': 4043, 'brett': 4044, 'maritime': 4045, 'implement': 4046, 'zero': 4047, 'greatest': 4048, 'jacksonville': 4049, 'filmmaker': 4050, 'models': 4051, 'nj': 4052, 'drowns': 4053, 'braves': 4054, 'deposit': 4055, 'bombing': 4056, 'foster': 4057, 'pickup': 4058, 'tendulkar': 4059, 'grade': 4060, 'harper': 4061, 'corner': 4062, 'seed': 4063, 'attract': 4064, 'spokesperson': 4065, 'uranium': 4066, 'crystal': 4067, 'disappointing': 4068, 'workshop': 4069, 'prospects': 4070, 'privacy': 4071, 'consulting': 4072, 'concluded': 4073, 'artists': 4074, 'lily': 4075, 'scale': 4076, 'delaware': 4077, 'hopeful': 4078, 'jacob': 4079, 'slip': 4080, 'carey': 4081, '39': 4082, 'assange': 4083, 'lucky': 4084, 'slipped': 4085, 'discussed': 4086, 'ken': 4087, 'apologized': 4088, 'forms': 4089, 'catch': 4090, 'wrote': 4091, 'wire': 4092, '67': 4093, 'blame': 4094, 'flames': 4095, 'auburn': 4096, 'bc': 4097, 'recycling': 4098, 'type': 4099, 'jerusalem': 4100, 'bmw': 4101, 'stakes': 4102, 'renewable': 4103, 'integration': 4104, 'presidency': 4105, 'rodriguez': 4106, 'marked': 4107, 'v': 4108, 'bloomberg': 4109, 'links': 4110, 'steelers': 4111, 'marshall': 4112, 'contractor': 4113, 'websites': 4114, 'ability': 4115, 'swept': 4116, 'poverty': 4117, 'arnold': 4118, 'chidambaram': 4119, 'revised': 4120, 'julia': 4121, 'petition': 4122, 'wellington': 4123, 'completely': 4124, 'blasts': 4125, 'clinical': 4126, 'investigated': 4127, 'affordable': 4128, 'bryant': 4129, 'followed': 4130, 'volume': 4131, 'throwing': 4132, 'riding': 4133, 'winger': 4134, 'unable': 4135, '50th': 4136, 'supermarket': 4137, 'adopt': 4138, 'driven': 4139, 'inducted': 4140, 'opinion': 4141, 'bangalore': 4142, 'ambulance': 4143, 'outbreak': 4144, 'chest': 4145, 'favourite': 4146, 'requirements': 4147, 'publishing': 4148, 'rachel': 4149, 'refinery': 4150, 'floods': 4151, 'roberto': 4152, 'maharashtra': 4153, 'external': 4154, 'particularly': 4155, 'staterun': 4156, 'modi': 4157, 'fighters': 4158, 'emma': 4159, 'governors': 4160, 'idaho': 4161, 'refinance': 4162, 'phillies': 4163, 'improves': 4164, 'slash': 4165, 'favorite': 4166, 'aggravated': 4167, 'regulations': 4168, 'rahul': 4169, 'brooklyn': 4170, 'peaceful': 4171, 'mason': 4172, 'ravens': 4173, 'remember': 4174, 'farmer': 4175, 'celebrations': 4176, 'muhammad': 4177, 'whitney': 4178, 'shift': 4179, 'comment': 4180, '86': 4181, 'anc': 4182, 'shops': 4183, 'wish': 4184, 'aim': 4185, 'trains': 4186, 'heidi': 4187, 'peak': 4188, 'concerned': 4189, 'secondary': 4190, 'diplomat': 4191, 'exposure': 4192, 'outdoor': 4193, 'resource': 4194, 'possibly': 4195, 'gomez': 4196, 'tommy': 4197, 'baseman': 4198, 'murphy': 4199, 'hanging': 4200, 'manufacturers': 4201, 'unknown': 4202, 'ace': 4203, 'underway': 4204, 'abbas': 4205, 'chip': 4206, 'musician': 4207, 'makers': 4208, 'rebel': 4209, 'bag': 4210, 'warehouse': 4211, 'affiliate': 4212, 'economies': 4213, 'attending': 4214, 'novel': 4215, 'disputed': 4216, 'aggressive': 4217, 'dairy': 4218, 'porn': 4219, 'emissions': 4220, 'producing': 4221, 'rochester': 4222, 'sonia': 4223, 'branches': 4224, 'apply': 4225, 'merkel': 4226, 'piece': 4227, 'editor': 4228, 'seahawks': 4229, 'nightclub': 4230, 'miners': 4231, 'frozen': 4232, 'rb': 4233, 'pet': 4234, 'unity': 4235, 'universities': 4236, 'ships': 4237, 'voluntary': 4238, 'identify': 4239, 'celtics': 4240, 'seeing': 4241, 'feared': 4242, 'prevention': 4243, 'mubarak': 4244, 'garage': 4245, '47': 4246, 'watchdog': 4247, 'potter': 4248, 'ultimate': 4249, 'ownership': 4250, 'mugabe': 4251, 'sing': 4252, 'mean': 4253, 'tuesdays': 4254, 'overcome': 4255, 'sporting': 4256, 'surrounding': 4257, 'respond': 4258, 'cambridge': 4259, 'brussels': 4260, 'lawmaker': 4261, 'rajasthan': 4262, 'prostate': 4263, 'gibson': 4264, 'discharged': 4265, 'nominations': 4266, 'hailed': 4267, 'offences': 4268, 'eighth': 4269, 'discussion': 4270, 'inmates': 4271, '11th': 4272, 'cinema': 4273, 'holy': 4274, 'osbourne': 4275, 'gunman': 4276, 'advised': 4277, 'youre': 4278, 'abusing': 4279, 'wimbledon': 4280, 'professionals': 4281, 'sheikh': 4282, 'necessary': 4283, 'austerity': 4284, 'confirm': 4285, 'costar': 4286, '49': 4287, 'louisville': 4288, 'cisco': 4289, 'ones': 4290, 'trades': 4291, 'mitchell': 4292, 'rapid': 4293, 'lion': 4294, 'attended': 4295, 'slashed': 4296, 'phillips': 4297, 'races': 4298, 'eating': 4299, 'marc': 4300, 'refusing': 4301, 'string': 4302, 'r': 4303, 'cameras': 4304, 'dad': 4305, 'applied': 4306, 'attempting': 4307, 'donations': 4308, '66': 4309, 'words': 4310, 'rumors': 4311, 'planes': 4312, 'scrap': 4313, 'coastal': 4314, '20yearold': 4315, 'tsunami': 4316, 'census': 4317, 'robber': 4318, 'vacant': 4319, 'venezuelan': 4320, 'haryana': 4321, '77': 4322, 'sandy': 4323, 'clothing': 4324, 'selena': 4325, 'anne': 4326, 'consumption': 4327, 'achieved': 4328, 'channels': 4329, 'cliff': 4330, 'thieves': 4331, 'gene': 4332, 'tops': 4333, 'switch': 4334, 'dean': 4335, 'owen': 4336, 'pga': 4337, 'pink': 4338, 'counterpart': 4339, 'edmonton': 4340, 'gaddafi': 4341, 'boycott': 4342, 'trials': 4343, 'airports': 4344, 'yes': 4345, 'cbi': 4346, 'broad': 4347, 'lakes': 4348, 'bayern': 4349, 'athletics': 4350, 'recognition': 4351, 'gunmen': 4352, 'beverly': 4353, 'broadcasting': 4354, 'rental': 4355, 'computing': 4356, 'syed': 4357, 'engineers': 4358, 'todd': 4359, 'commissioners': 4360, 'praises': 4361, 'constitutional': 4362, 'dmitry': 4363, 'monroe': 4364, 'sachin': 4365, 'johannesburg': 4366, '68': 4367, 'behaviour': 4368, 'playoffs': 4369, 'audience': 4370, 'marion': 4371, 'cancel': 4372, 'superior': 4373, 'importance': 4374, 'basic': 4375, 'athens': 4376, 'nancy': 4377, 'concussion': 4378, 'mines': 4379, 'documentary': 4380, 'xinhua': 4381, 'moss': 4382, '20th': 4383, 'transplant': 4384, 'fiveyear': 4385, 'hiv': 4386, 'yemeni': 4387, 'laden': 4388, 'commodities': 4389, 'fares': 4390, '120': 4391, 'torch': 4392, 'sense': 4393, 'mahindra': 4394, 'misses': 4395, 'ashton': 4396, 'christie': 4397, 'uses': 4398, '71': 4399, 'faith': 4400, 'wwe': 4401, 'screening': 4402, 'alberta': 4403, 'russias': 4404, 'dennis': 4405, 'karzai': 4406, 'honorary': 4407, 'refugees': 4408, '2005': 4409, 'sick': 4410, 'determine': 4411, 'uefa': 4412, 'berlusconi': 4413, 'thanksgiving': 4414, 'regulator': 4415, 'threeday': 4416, 'postal': 4417, 'mars': 4418, 'defeats': 4419, 'pride': 4420, 'cruelty': 4421, 'ski': 4422, 'baldwin': 4423, 'somalia': 4424, 'nature': 4425, 'babies': 4426, 'nadu': 4427, 'pranab': 4428, 'uttar': 4429, 'recognized': 4430, 'shelter': 4431, 'lows': 4432, 'quoting': 4433, 'dozen': 4434, 'creation': 4435, '74': 4436, 'chart': 4437, 'bolton': 4438, 'roles': 4439, 'eased': 4440, 'ferrari': 4441, 'childhood': 4442, 'ward': 4443, 'advances': 4444, 'meat': 4445, 'apa': 4446, 'overhaul': 4447, 'robbie': 4448, 'suffer': 4449, 'afl': 4450, 'nearby': 4451, 'spoke': 4452, 'nintendo': 4453, 'richmond': 4454, '100th': 4455, 'inning': 4456, 'sharing': 4457, 'individuals': 4458, '900': 4459, 'prisoner': 4460, 'womans': 4461, 'statewide': 4462, 'martinez': 4463, 'drawing': 4464, 'upgrades': 4465, 'expenses': 4466, 'warn': 4467, 'solid': 4468, 'burn': 4469, 'heroin': 4470, 'pastor': 4471, 'blaze': 4472, 'uks': 4473, 'spencer': 4474, 'naked': 4475, 'jesus': 4476, 'randy': 4477, 'abandoned': 4478, 'pizza': 4479, 'billions': 4480, 'absence': 4481, 'obesity': 4482, 'rolls': 4483, 'clothes': 4484, 'xbox': 4485, 'maximum': 4486, 'exploded': 4487, 'tibetan': 4488, 'directly': 4489, 'jays': 4490, 'colin': 4491, 'judiciary': 4492, 'hu': 4493, 'convenience': 4494, 'bihar': 4495, 'widespread': 4496, 'grocery': 4497, 'sacked': 4498, 'operate': 4499, 'canadas': 4500, 'versus': 4501, '83': 4502, 'awardwinning': 4503, 'damages': 4504, 'apology': 4505, 'gasoline': 4506, 'differences': 4507, 'rider': 4508, 'lil': 4509, 'cotton': 4510, 'ms': 4511, 'threeyear': 4512, 'homeowners': 4513, 'predicted': 4514, 'nrl': 4515, 'anticipated': 4516, 'dj': 4517, 'max': 4518, 'vital': 4519, 'titles': 4520, 'unidentified': 4521, 'jewelry': 4522, 'ads': 4523, 'oldest': 4524, 'investing': 4525, 'moderate': 4526, 'finger': 4527, 'critics': 4528, 'diet': 4529, 'princess': 4530, 'educational': 4531, 'crushed': 4532, 'titans': 4533, 'tribune': 4534, 'baku': 4535, 'pentagon': 4536, 'youths': 4537, 'roadside': 4538, '57': 4539, 'newton': 4540, 'oracle': 4541, 'violation': 4542, 'broadcaster': 4543, '500000': 4544, 'guarantee': 4545, 'sharif': 4546, 'honour': 4547, 'promising': 4548, 'topped': 4549, 'shared': 4550, 'priest': 4551, 'suggesting': 4552, 'slide': 4553, '73': 4554, 'guitarist': 4555, 'warming': 4556, 'bed': 4557, 'northeastern': 4558, 'viewers': 4559, 'montgomery': 4560, 'hyderabad': 4561, 'orioles': 4562, '95': 4563, 'ballot': 4564, 'watched': 4565, 'purchases': 4566, 'luke': 4567, 'fridays': 4568, '56': 4569, 'francis': 4570, 'extreme': 4571, 'ann': 4572, 'dame': 4573, 'hostage': 4574, 'ubs': 4575, 'cool': 4576, 'grave': 4577, 'unprecedented': 4578, 'eat': 4579, 'ham': 4580, 'easily': 4581, 'kitchen': 4582, 'schwarzenegger': 4583, 'elton': 4584, 'hometown': 4585, 'blocked': 4586, 'deer': 4587, 'rivers': 4588, 'ninth': 4589, 'suburban': 4590, 'mel': 4591, 'ericsson': 4592, 'posting': 4593, 'acquitted': 4594, 'slowing': 4595, 'chef': 4596, 'cofounder': 4597, 'playstation': 4598, 'serbian': 4599, 'initiatives': 4600, 'accidents': 4601, 'ceasefire': 4602, 'command': 4603, 'eva': 4604, '12th': 4605, 'htc': 4606, 'qaeda': 4607, 'freight': 4608, 'pervez': 4609, 'advisor': 4610, '81': 4611, 'norwegian': 4612, 'diplomats': 4613, 'bishop': 4614, 'danger': 4615, 'mild': 4616, '1500': 4617, 'offset': 4618, 'suzuki': 4619, 'graduate': 4620, 'tobacco': 4621, 'rupert': 4622, 'gathered': 4623, 'audio': 4624, 'commit': 4625, 'completion': 4626, 'happen': 4627, 'print': 4628, 'hasnt': 4629, 'verdict': 4630, 'downgrades': 4631, 'odds': 4632, 'redskins': 4633, 'flagship': 4634, 'timberlake': 4635, 'decisions': 4636, 'placement': 4637, 'rumours': 4638, 'condemns': 4639, 'fundraiser': 4640, '20000': 4641, 'survived': 4642, 'occupy': 4643, 'oneday': 4644, 'spectrum': 4645, 'uncertainty': 4646, 'argentine': 4647, 'contain': 4648, 'detention': 4649, 'robberies': 4650, 'administrative': 4651, 'cheating': 4652, 'bernard': 4653, 'treaty': 4654, 'wasnt': 4655, 'outfit': 4656, 'throw': 4657, 'aberdeen': 4658, 'theme': 4659, 'easing': 4660, 'guru': 4661, 'pioneer': 4662, 'africas': 4663, 'rebounds': 4664, 'rod': 4665, 'designated': 4666, 'doping': 4667, 'achieve': 4668, 'scare': 4669, 'belgium': 4670, 'replacement': 4671, 'definitive': 4672, 'looked': 4673, 'household': 4674, 'pupils': 4675, 'collapses': 4676, 'client': 4677, 'branded': 4678, 'audit': 4679, 'unless': 4680, 'bands': 4681, 'juventus': 4682, 'federer': 4683, 'aside': 4684, 'abbott': 4685, 'wildfire': 4686, 'yields': 4687, 'submitted': 4688, 'observed': 4689, 'newspapers': 4690, 'desperate': 4691, 'beautiful': 4692, 'scoring': 4693, 'daughters': 4694, 'netanyahu': 4695, 'norway': 4696, 'sitting': 4697, 'darren': 4698, 'frontman': 4699, 'fundraising': 4700, 'licence': 4701, 'doubled': 4702, 'smaller': 4703, 'decrease': 4704, 'freeze': 4705, 'angela': 4706, 'eyes': 4707, 'formal': 4708, 'twoday': 4709, 'tape': 4710, 'dam': 4711, 'briefly': 4712, 'inaugural': 4713, 'insurer': 4714, 'bernanke': 4715, '21yearold': 4716, 'quinn': 4717, 'wednesdays': 4718, '69': 4719, 'opec': 4720, 'emotional': 4721, 'plot': 4722, 'stuck': 4723, 'slams': 4724, 'spy': 4725, 'pricing': 4726, 'arctic': 4727, 'enjoy': 4728, 'skip': 4729, 'updates': 4730, 'unbeaten': 4731, 'chances': 4732, 'amendment': 4733, 'southeastern': 4734, 'presidentelect': 4735, 'grid': 4736, 'soul': 4737, 'elephant': 4738, 'lt': 4739, 'destroys': 4740, 'bronze': 4741, 'capture': 4742, 'floyd': 4743, 'bids': 4744, 'mystery': 4745, 'larger': 4746, 'feed': 4747, 'canadians': 4748, '1st': 4749, 'grain': 4750, 'mentally': 4751, 'locked': 4752, 'quarterfinals': 4753, 'lights': 4754, 'shootout': 4755, 'ram': 4756, 'values': 4757, 'hsbc': 4758, 'silence': 4759, 'thursdays': 4760, 'definitely': 4761, 'destination': 4762, 'promise': 4763, 'declining': 4764, 'nobel': 4765, 'racist': 4766, 'gross': 4767, 'aide': 4768, 'seminar': 4769, 'sanchez': 4770, 'gaining': 4771, 'teenagers': 4772, 'machines': 4773, 'stripped': 4774, 'bosses': 4775, 'evacuation': 4776, 'titled': 4777, 'electrical': 4778, 'steal': 4779, 'views': 4780, 'responding': 4781, 'swim': 4782, 'unrest': 4783, 'exposed': 4784, 'combined': 4785, 'hamid': 4786, 'doubles': 4787, 'clerk': 4788, 'climbed': 4789, 'easter': 4790, 'norwich': 4791, 'unanimously': 4792, 'johns': 4793, 'survive': 4794, 'grammy': 4795, 'academic': 4796, 'installed': 4797, 'bashar': 4798, 'inspired': 4799, 'extremely': 4800, 'chad': 4801, 'packers': 4802, 'signal': 4803, 'wenger': 4804, 'permits': 4805, 'lifestyle': 4806, 'elbow': 4807, 'diseases': 4808, 'tours': 4809, 'default': 4810, '25000': 4811, 'continental': 4812, 'albert': 4813, 'leon': 4814, 'angel': 4815, 'collided': 4816, 'wolves': 4817, 'amnesty': 4818, 'stem': 4819, 'pretty': 4820, 'fireworks': 4821, 'specialty': 4822, 'gambling': 4823, 'midwest': 4824, 'ferry': 4825, 'glee': 4826, 'estranged': 4827, 'islam': 4828, 'curb': 4829, 'telephone': 4830, 'castro': 4831, 'aids': 4832, 'obtained': 4833, 'severely': 4834, 'reverse': 4835, 'burglaries': 4836, 'agenda': 4837, 'empire': 4838, 'rapids': 4839, 'eliminate': 4840, 'clarke': 4841, 'tens': 4842, 'andhra': 4843, 'bags': 4844, 'capable': 4845, 'gather': 4846, 'escapes': 4847, 'multiyear': 4848, 'semiconductor': 4849, 'amitabh': 4850, 'sensation': 4851, 'blackburn': 4852, 'seoul': 4853, 'cyber': 4854, 'enhanced': 4855, 'shark': 4856, '130': 4857, 'volatile': 4858, 'charging': 4859, 'mile': 4860, 'misconduct': 4861, '19yearold': 4862, 'butler': 4863, 'barnes': 4864, 'discount': 4865, 'coleman': 4866, 'surveillance': 4867, 'hull': 4868, 'levy': 4869, 'nurse': 4870, 'tonights': 4871, 'occupied': 4872, 'referendum': 4873, '78': 4874, 'jonas': 4875, 'archbishop': 4876, 'damascus': 4877, 'smuggling': 4878, 'datuk': 4879, 'therapy': 4880, 'osama': 4881, 'tribunal': 4882, 'gallagher': 4883, 'transition': 4884, 'parole': 4885, 'borders': 4886, 'fled': 4887, 'controls': 4888, 'migrants': 4889, 'hungary': 4890, 'mohammed': 4891, 'righthander': 4892, 'twilight': 4893, 'regulation': 4894, 'understanding': 4895, 'thousand': 4896, 'ethnic': 4897, 'staying': 4898, 'harrison': 4899, 'suite': 4900, '360': 4901, 'newman': 4902, 'heath': 4903, 'acquiring': 4904, 'slump': 4905, 'simple': 4906, 'outlets': 4907, 'cardiac': 4908, 'iconic': 4909, 'lp': 4910, 'declare': 4911, 'bullet': 4912, 'dumped': 4913, 'ucla': 4914, 'borrowing': 4915, 'replacing': 4916, 'evasion': 4917, 'xvi': 4918, 'organised': 4919, 'ahmed': 4920, 'warm': 4921, 'hugh': 4922, 'poker': 4923, 'boats': 4924, 'lottery': 4925, 'partys': 4926, 'entitled': 4927, 'philip': 4928, 'romanian': 4929, 'endorse': 4930, 'lease': 4931, 'download': 4932, 'accepts': 4933, 'nissan': 4934, 'boyle': 4935, 'keys': 4936, 'pledge': 4937, 'abducted': 4938, 'hybrid': 4939, 'indicated': 4940, 'jake': 4941, 'santorum': 4942, 'minneapolis': 4943, 'bound': 4944, 'representing': 4945, 'wages': 4946, 'optimism': 4947, 'readers': 4948, 'controlled': 4949, 'staged': 4950, 'bankers': 4951, 'luis': 4952, 'rocker': 4953, 'bounce': 4954, 'strengthened': 4955, '2nd': 4956, 'rallies': 4957, 'duties': 4958, 'unpaid': 4959, 'defeating': 4960, 'runway': 4961, 'sioux': 4962, 'chemicals': 4963, 'letters': 4964, 'arbitration': 4965, 'lexington': 4966, 'delivers': 4967, 'splits': 4968, '92': 4969, 'worried': 4970, 'mamata': 4971, 'chicken': 4972, 'civilian': 4973, 'k': 4974, 'permission': 4975, 'h1n1': 4976, 'slowed': 4977, 'crop': 4978, 'tmz': 4979, 'cardiff': 4980, 'crunch': 4981, 'striking': 4982, 'ethics': 4983, 'suv': 4984, 'insurgents': 4985, 'availability': 4986, 'shape': 4987, 'neighbors': 4988, 'transferred': 4989, 'brewers': 4990, '91': 4991, 'reviews': 4992, 'subscribers': 4993, 'tentative': 4994, 'whos': 4995, 'organized': 4996, 'closely': 4997, 'dental': 4998, 'spurs': 4999, 'blake': 5000, 'fugitive': 5001, 'mariners': 5002, 'cycling': 5003, 'ist': 5004, 'apologised': 5005, 'drill': 5006, 'bang': 5007, 'renew': 5008, 'apart': 5009, 'recommended': 5010, 'sandra': 5011, 'lunch': 5012, 'pollution': 5013, 'blind': 5014, 'mounting': 5015, 'dna': 5016, 'hearts': 5017, 'cheney': 5018, 'swap': 5019, 'covering': 5020, 'atomic': 5021, 'portugal': 5022, 'prestigious': 5023, 'participation': 5024, 'appealing': 5025, 'freddie': 5026, 'pneumonia': 5027, 'kabul': 5028, 'yard': 5029, 'lynch': 5030, 'teaching': 5031, 'preferred': 5032, 'triplea': 5033, 'oscars': 5034, 'enable': 5035, 'prompting': 5036, 'pulling': 5037, 'shoppers': 5038, 'brush': 5039, 'bowling': 5040, 'bombs': 5041, 'mad': 5042, 'reopens': 5043, 'selects': 5044, 'cautious': 5045, 'carriers': 5046, 'neighbours': 5047, 'logistics': 5048, 'anchor': 5049, 'kicking': 5050, 'pleading': 5051, 'sebastian': 5052, 'packaging': 5053, 'furniture': 5054, 'governance': 5055, 'dress': 5056, 'substance': 5057, 'mayer': 5058, 'sweep': 5059, 'fred': 5060, 'ancient': 5061, 'buses': 5062, 'trainer': 5063, 'horror': 5064, 'disclosed': 5065, 'bench': 5066, 'vince': 5067, 'fill': 5068, 'younger': 5069, 'mega': 5070, '2020': 5071, 'icc': 5072, 'numerous': 5073, 'crowned': 5074, 'operational': 5075, 'survival': 5076, 'execution': 5077, 'couples': 5078, 'norman': 5079, '84': 5080, 'delivering': 5081, 'ecuador': 5082, 'manny': 5083, 'automaker': 5084, 'sap': 5085, '89': 5086, 'eliminated': 5087, '200000': 5088, '2004': 5089, 'insider': 5090, 'chair': 5091, 'hd': 5092, 'behalf': 5093, 'jpmorgan': 5094, 'seniors': 5095, 'austria': 5096, 'angels': 5097, 'swat': 5098, 'focusing': 5099, '125': 5100, 'scenes': 5101, 'murdoch': 5102, 'syracuse': 5103, 'backing': 5104, 'refugee': 5105, 'tragedy': 5106, 'horses': 5107, 'serena': 5108, '350': 5109, 'lambert': 5110, 'manhattan': 5111, 'thunder': 5112, 'breakfast': 5113, 'emmy': 5114, 'siemens': 5115, 'denmark': 5116, 'boxer': 5117, 'declaration': 5118, 'knew': 5119, 'newport': 5120, 'finland': 5121, 'weekends': 5122, 'pacquiao': 5123, 'widely': 5124, 'recruit': 5125, 'penguins': 5126, 'nude': 5127, 'safely': 5128, 'compliance': 5129, 'gillard': 5130, 'wings': 5131, 'understand': 5132, 'allies': 5133, 'mondays': 5134, 'nurses': 5135, 'slam': 5136, 'blocks': 5137, 'yuan': 5138, 'responded': 5139, 'originally': 5140, 'cannabis': 5141, 'gate': 5142, 'swing': 5143, 'weakness': 5144, 'kutcher': 5145, 'maple': 5146, 'navigation': 5147, 'deposits': 5148, 'jumps': 5149, 'jakarta': 5150, 'button': 5151, 'checkpoint': 5152, '24yearold': 5153, 'omaha': 5154, 'correspondent': 5155, '101': 5156, 'longest': 5157, 'impressive': 5158, 'opponents': 5159, '18th': 5160, 'id': 5161, 'easier': 5162, 'tesco': 5163, 'mo': 5164, 'couldnt': 5165, 'valued': 5166, 'batsman': 5167, 'leaked': 5168, 'stones': 5169, 'volunteer': 5170, 'gear': 5171, '4000': 5172, 'ebay': 5173, 'largely': 5174, 'bruins': 5175, 'trends': 5176, 'eds': 5177, 'inquest': 5178, 'harassment': 5179, 'writers': 5180, 'ridge': 5181, 'bros': 5182, 'soft': 5183, 'turner': 5184, 'magnitude': 5185, '79': 5186, 'badly': 5187, 'marcus': 5188, 'knot': 5189, 'corn': 5190, 'expo': 5191, 'appoint': 5192, 'gen': 5193, 'michele': 5194, 'raj': 5195, 'donates': 5196, 'wars': 5197, 'triggered': 5198, 'capabilities': 5199, 'councils': 5200, 'inspection': 5201, 'christopher': 5202, 'quebec': 5203, 'leagues': 5204, 'salem': 5205, 'wade': 5206, 'institution': 5207, 'catcher': 5208, '25th': 5209, 'wrestling': 5210, 'rankings': 5211, 'waived': 5212, 'policeman': 5213, 'chronic': 5214, 'underground': 5215, 'tips': 5216, 'taipei': 5217, 'cope': 5218, 'provinces': 5219, 'tag': 5220, 'wounds': 5221, 'speedway': 5222, 'desert': 5223, 'heavily': 5224, 'crossed': 5225, 'politician': 5226, 'oath': 5227, 'birds': 5228, 'swansea': 5229, 'overdose': 5230, 'harbor': 5231, 'broker': 5232, 'retain': 5233, 'qualify': 5234, 'ecommerce': 5235, 'tablets': 5236, 'exporters': 5237, 'statements': 5238, 'aiming': 5239, 'favor': 5240, 'mariah': 5241, 'minute': 5242, 'framework': 5243, 'orissa': 5244, 'medicare': 5245, 'warnings': 5246, 'clearing': 5247, 'retained': 5248, 'nathan': 5249, 'map': 5250, 'narrowly': 5251, 'calm': 5252, 'filled': 5253, 'guidelines': 5254, 'calgary': 5255, 'tulsa': 5256, 'indefinitely': 5257, 'innocent': 5258, 'lahore': 5259, 'roma': 5260, 'recruitment': 5261, 'le': 5262, 'jane': 5263, 'mainly': 5264, 'peninsula': 5265, 'excessive': 5266, 'developments': 5267, 'oak': 5268, 'benjamin': 5269, 'difference': 5270, '25yearold': 5271, 'wickets': 5272, 'na': 5273, 'hardware': 5274, 'excited': 5275, 'pensions': 5276, 'clooney': 5277, 'barn': 5278, 'stages': 5279, 'cycle': 5280, 'pharmacy': 5281, 'withdrew': 5282, 'aboard': 5283, 'cheap': 5284, 'install': 5285, 'finances': 5286, 'represent': 5287, 'buffett': 5288, 'robbing': 5289, '88': 5290, 'conrad': 5291, 'missiles': 5292, 'bath': 5293, 'fought': 5294, 'southwestern': 5295, 'document': 5296, 'blacks': 5297, 'fix': 5298, 'appointments': 5299, 'relatives': 5300, 'strategies': 5301, 'exwife': 5302, 'questioned': 5303, 'boards': 5304, 'pact': 5305, 'cage': 5306, 'liver': 5307, 'quiet': 5308, 'surged': 5309, 'seconds': 5310, 'itunes': 5311, 'riverside': 5312, 'prosecution': 5313, 'mohammad': 5314, 'ashes': 5315, 'cedar': 5316, 'norfolk': 5317, 'bradford': 5318, 'civic': 5319, 'restraining': 5320, 'inaugurated': 5321, 'sc': 5322, 'heroes': 5323, 'housewives': 5324, 'crush': 5325, 'layoffs': 5326, 'newark': 5327, 'apr': 5328, 'renews': 5329, 'explore': 5330, 'preparation': 5331, 'accounting': 5332, 'breach': 5333, 'intervention': 5334, 'alqaeda': 5335, 'shield': 5336, 'margin': 5337, 'scientist': 5338, 'socalled': 5339, 'walter': 5340, 'blair': 5341, 'drives': 5342, 'mini': 5343, 'licensing': 5344, 'disorder': 5345, 'challenging': 5346, 'nicki': 5347, 'thinking': 5348, 'recovers': 5349, 'invitation': 5350, 'gallery': 5351, 'supermodel': 5352, 'publication': 5353, 'grounds': 5354, 'silicon': 5355, 'baker': 5356, 'mohamed': 5357, 'infant': 5358, 'charleston': 5359, 'trooper': 5360, 'michaels': 5361, 'punishment': 5362, 'employer': 5363, 'jumping': 5364, 'sorry': 5365, 'pattern': 5366, 'pa': 5367, 'glasgow': 5368, 'naomi': 5369, 'giffords': 5370, 'distributor': 5371, 'indefinite': 5372, 'vermont': 5373, 'carpet': 5374, 'choose': 5375, 'athlete': 5376, 'sharma': 5377, 'confessed': 5378, 'farms': 5379, 'frontier': 5380, 'arent': 5381, '110': 5382, 'extraordinary': 5383, 'richards': 5384, 'taxpayers': 5385, 'minaj': 5386, 'spiritual': 5387, 'fathers': 5388, 'reiterated': 5389, 'foreigners': 5390, 'answers': 5391, 'overturned': 5392, 'rockies': 5393, 'demonstration': 5394, 'creator': 5395, 'vulnerable': 5396, 'berry': 5397, 'medals': 5398, 'paso': 5399, 'trump': 5400, 'airtel': 5401, 'sustainability': 5402, 'beyonce': 5403, 'richardson': 5404, 'planet': 5405, 'loved': 5406, 'intersection': 5407, 'urge': 5408, 'composer': 5409, 'electoral': 5410, 'suu': 5411, 'remembered': 5412, 'secures': 5413, 'singing': 5414, 'risen': 5415, 'cooperate': 5416, 'lisa': 5417, 'albany': 5418, 'footballer': 5419, 'lived': 5420, 'austrian': 5421, 'beta': 5422, 'compromise': 5423, 'pose': 5424, 'molestation': 5425, 'recruiting': 5426, 'flow': 5427, 'elite': 5428, 'executed': 5429, 'exciting': 5430, 'substantial': 5431, 'comic': 5432, 'seem': 5433, 'dawn': 5434, 'suggest': 5435, 'manning': 5436, 'camps': 5437, 'torn': 5438, 'satyam': 5439, 'reconciliation': 5440, 'rays': 5441, 'omar': 5442, 'engineer': 5443, 'wishes': 5444, 'hartford': 5445, 'apologises': 5446, 'kiss': 5447, 'oman': 5448, 'bullock': 5449, 'bharti': 5450, 'fights': 5451, 'arraigned': 5452, '58': 5453, 'turmoil': 5454, 'finnish': 5455, 'swan': 5456, 'certification': 5457, 'nonprofit': 5458, 'kenyan': 5459, 'bowler': 5460, 'throat': 5461, 'circle': 5462, 'canal': 5463, 'doubt': 5464, 'protesting': 5465, 'maruti': 5466, 'gathering': 5467, 'server': 5468, 'rocky': 5469, 'fines': 5470, 'lab': 5471, 'campaigns': 5472, 'nz': 5473, 'silvio': 5474, 'climb': 5475, 'sindh': 5476, 'joel': 5477, 'christchurch': 5478, 'hathaway': 5479, 'solve': 5480, 'mercury': 5481, 'pipe': 5482, 'crazy': 5483, 'religion': 5484, 'citizenship': 5485, 'shoes': 5486, 'implementation': 5487, 'admitting': 5488, 'reward': 5489, 'ivory': 5490, 'brady': 5491, 'peru': 5492, 'pump': 5493, 'mortgages': 5494, 'wigan': 5495, 'goa': 5496, 'creates': 5497, 'backup': 5498, 'lifts': 5499, 'overweight': 5500, '22yearold': 5501, 'rams': 5502, 'shoe': 5503, 'l': 5504, '23yearold': 5505, 'racial': 5506, 'mt': 5507, 'catherine': 5508, 'tumor': 5509, 'f': 5510, 'ronnie': 5511, '18yearold': 5512, 'unconscious': 5513, 'extradition': 5514, 'minn': 5515, 'koreas': 5516, 'rehabilitation': 5517, 'exchanges': 5518, 'encouraged': 5519, 'bennett': 5520, 'bancorp': 5521, 'genetic': 5522, 'hindu': 5523, 'thriller': 5524, 'metropolitan': 5525, 'explosive': 5526, 'speeding': 5527, 'timothy': 5528, 'rajya': 5529, 'knows': 5530, 'affecting': 5531, 'nile': 5532, 'edinburgh': 5533, 'sentencing': 5534, '7th': 5535, 'adrian': 5536, 'detective': 5537, 'remake': 5538, 'filming': 5539, 'walks': 5540, 'panasonic': 5541, 'economist': 5542, 'suisse': 5543, 'attractive': 5544, 'plate': 5545, 'kyi': 5546, 'vanessa': 5547, 'banerjee': 5548, '59': 5549, 'gardens': 5550, 'deported': 5551, 'bolster': 5552, 'routine': 5553, '15th': 5554, 'autism': 5555, 'expelled': 5556, 'amber': 5557, 'challenged': 5558, 'exactly': 5559, 'assured': 5560, 'teammate': 5561, 'concept': 5562, 'cement': 5563, 'malta': 5564, 'discussions': 5565, 'vacation': 5566, 'parked': 5567, 'hang': 5568, 'spreading': 5569, 'shootings': 5570, 'violated': 5571, 'cruz': 5572, 'promotions': 5573, '1200': 5574, 'cricketer': 5575, 'portal': 5576, 'lock': 5577, 'oprah': 5578, 'sit': 5579, 'experienced': 5580, 'prepaid': 5581, 'et': 5582, 'boosting': 5583, 'herald': 5584, 'tunisia': 5585, 'disappointed': 5586, 'liquidity': 5587, 'modest': 5588, 'jamaica': 5589, 'conn': 5590, 'rudd': 5591, 'burglar': 5592, 'chargers': 5593, 'zsa': 5594, 'settles': 5595, 'belt': 5596, 'effectively': 5597, 'du': 5598, 'doubleheader': 5599, 'teammates': 5600, 'extensive': 5601, 'appearing': 5602, 'danish': 5603, 'radical': 5604, 'fresno': 5605, 'ca': 5606, 'cemetery': 5607, 'cuomo': 5608, 'tension': 5609, 'assam': 5610, 'praise': 5611, 'maintained': 5612, 'cues': 5613, 'impose': 5614, 'imported': 5615, 'vicepresident': 5616, 'prompted': 5617, 'lets': 5618, 'ailing': 5619, 'plunge': 5620, 'johansson': 5621, 'bolt': 5622, 'covered': 5623, 'glenn': 5624, 'domain': 5625, 'riley': 5626, 'miner': 5627, 'gdp': 5628, 'tractor': 5629, 'turkmenistan': 5630, 'essential': 5631, 'christians': 5632, 'paise': 5633, 'pune': 5634, 'blagojevich': 5635, 'willing': 5636, 'grace': 5637, 'bust': 5638, 'sheffield': 5639, 'picking': 5640, 'yellow': 5641, '14th': 5642, 'richie': 5643, 'niagara': 5644, 'assessment': 5645, 'proceedings': 5646, 'depp': 5647, 'rubber': 5648, 'reliever': 5649, 'hijacked': 5650, 'betty': 5651, '30000': 5652, 'midday': 5653, 'holder': 5654, 'platinum': 5655, 'billboard': 5656, 'railways': 5657, 'henderson': 5658, 'sensitive': 5659, 'punched': 5660, 'weighed': 5661, 'relay': 5662, 'jean': 5663, '000': 5664, 'yorkshire': 5665, 'tibet': 5666, 'myspace': 5667, 'startup': 5668, 'sierra': 5669, 'stomach': 5670, 'intent': 5671, 'steam': 5672, 'coroner': 5673, 'jintao': 5674, 'proved': 5675, 'resulted': 5676, 'finale': 5677, '2016': 5678, 'survivors': 5679, 'optimistic': 5680, 'unified': 5681, 'exgirlfriend': 5682, 'disciplinary': 5683, 'welsh': 5684, 'devastating': 5685, 'jewellery': 5686, 'alleging': 5687, 'vincent': 5688, 'regrets': 5689, 'pledges': 5690, 'expensive': 5691, 'romantic': 5692, 'natalie': 5693, 'singles': 5694, 'ipo': 5695, 'witherspoon': 5696, 'arthur': 5697, 'riot': 5698, 'superintendent': 5699, 'mobility': 5700, 'hospitalised': 5701, 'apps': 5702, 'belgian': 5703, 'policemen': 5704, 'discover': 5705, 'hiding': 5706, 'cornerback': 5707, 'thomson': 5708, 'manuel': 5709, 'traveling': 5710, 'soaring': 5711, 'fever': 5712, 'ave': 5713, 'th': 5714, 'grown': 5715, 'orchestra': 5716, 'tmobile': 5717, 'indecent': 5718, 'renowned': 5719, 'favre': 5720, 'theyve': 5721, 'ports': 5722, 'statue': 5723, 'usbased': 5724, 'likes': 5725, 'meters': 5726, 'revealing': 5727, 'advisers': 5728, 'wheel': 5729, 'fat': 5730, 'lloyd': 5731, 'vendor': 5732, 'transmission': 5733, 'eur': 5734, 'pond': 5735, 'sec': 5736, 'qb': 5737, 'issuing': 5738, 'colombo': 5739, 'maintains': 5740, 'universe': 5741, 'kobe': 5742, '6000': 5743, 'thackeray': 5744, 'cain': 5745, 'derek': 5746, 'mccarthy': 5747, 'handling': 5748, 'sanjay': 5749, 'hazare': 5750, 'simply': 5751, 'muammar': 5752, '87': 5753, 'associate': 5754, 'autopsy': 5755, 'lg': 5756, 'colleagues': 5757, 'contractors': 5758, 'historical': 5759, 'fouryear': 5760, 'personality': 5761, 'scarlett': 5762, 'antigovernment': 5763, 'g': 5764, 'pack': 5765, 'stoke': 5766, 'mistakes': 5767, 'londons': 5768, 'honors': 5769, 'whale': 5770, 'hornets': 5771, 'talked': 5772, 'excellent': 5773, 'presenter': 5774, 'booked': 5775, 'bryan': 5776, '17th': 5777, 'stemming': 5778, 'reception': 5779, 'kirk': 5780, 'resigning': 5781, 'emerge': 5782, 'connect': 5783, 'sofia': 5784, 'beatles': 5785, 'helen': 5786, 'strausskahn': 5787, 'os': 5788, 'procedure': 5789, 'patil': 5790, 'holders': 5791, 'nets': 5792, 'seal': 5793, 'invites': 5794, 'licenses': 5795, 'aguilera': 5796, 'walsh': 5797, 'contribution': 5798, 'container': 5799, 'buzz': 5800, 'improvements': 5801, 'newborn': 5802, 'criminals': 5803, 'brook': 5804, 'ge': 5805, 'muscle': 5806, 'strain': 5807, 'complications': 5808, 'intensive': 5809, 'finishing': 5810, 'lebron': 5811, 'qualified': 5812, 'da': 5813, 'stretch': 5814, 'lineman': 5815, 'brent': 5816, 'valencia': 5817, 'specific': 5818, 'mosque': 5819, 'gifts': 5820, 'spell': 5821, 'merge': 5822, 'touched': 5823, 'drinks': 5824, 'repairs': 5825, 'aussie': 5826, 'mountains': 5827, 'imran': 5828, 'govt': 5829, 'wifi': 5830, '13th': 5831, 'brooks': 5832, 'rehman': 5833, 'mum': 5834, 'influential': 5835, 'wouldnt': 5836, 'duo': 5837, 'leicester': 5838, 'investigations': 5839, 'harvard': 5840, 'bangkok': 5841, 'molesting': 5842, 'ethiopia': 5843, 'humans': 5844, 'ryanair': 5845, 'monsoon': 5846, 'contribute': 5847, 'canyon': 5848, 'longoria': 5849, 'grows': 5850, 'winnipeg': 5851, 'vietnamese': 5852, 'rovers': 5853, 'jp': 5854, 'surface': 5855, 'ages': 5856, 'paterson': 5857, 'hackers': 5858, 'tripoli': 5859, 'bhp': 5860, 'raja': 5861, 'tsvangirai': 5862, 'radiation': 5863, 'ranch': 5864, 'zambia': 5865, 'concerts': 5866, 'breakthrough': 5867, 'spree': 5868, 'carson': 5869, 'occasion': 5870, 'defamation': 5871, 'lesbian': 5872, 'stevens': 5873, 'sena': 5874, 'tear': 5875, 'astronaut': 5876, 'destroy': 5877, 'morris': 5878, 'format': 5879, 'patel': 5880, 'noel': 5881, 'hurricanes': 5882, '4th': 5883, 'janata': 5884, 'fabio': 5885, 'productivity': 5886, 'gilbert': 5887, 'ideas': 5888, 'reed': 5889, 'halted': 5890, 'reese': 5891, 'analytics': 5892, 'rapidly': 5893, 'firearms': 5894, 'lobby': 5895, 'survives': 5896, 'checked': 5897, 'pursue': 5898, '15000': 5899, 'tucson': 5900, 'ipl': 5901, 'portion': 5902, 'hacked': 5903, 'inappropriate': 5904, 'dpa': 5905, 'myers': 5906, 'ally': 5907, 'arrival': 5908, 'cruises': 5909, 'strengthening': 5910, 'counter': 5911, 'collective': 5912, 'require': 5913, 'rainfall': 5914, 'lowered': 5915, 'meant': 5916, 'addressing': 5917, 'miliband': 5918, 'cats': 5919, 'hawks': 5920, 'associates': 5921, 'compact': 5922, 'chopra': 5923, 'outsourcing': 5924, 'sydneys': 5925, 'des': 5926, 'equal': 5927, 'insisting': 5928, 'tumbled': 5929, 'stateowned': 5930, 'partial': 5931, 'panthers': 5932, 'englands': 5933, 'wyoming': 5934, 'rounds': 5935, 'mistake': 5936, 'romance': 5937, 'absolutely': 5938, 'dragged': 5939, 'offenders': 5940, 'mainland': 5941, 'xi': 5942, 'stories': 5943, 'load': 5944, 'ranking': 5945, '15yearold': 5946, 'restructure': 5947, 'concrete': 5948, 'lessons': 5949, 'offense': 5950, 'transparency': 5951, 'outage': 5952, 'origin': 5953, 'oscarwinning': 5954, 'finishes': 5955, 'bitter': 5956, 'zones': 5957, 'spice': 5958, 'percentage': 5959, 'soil': 5960, 'seconddegree': 5961, 'cristiano': 5962, '2002': 5963, 'fleeing': 5964, 'vick': 5965, '3g': 5966, 'courthouse': 5967, 'slovenia': 5968, 'subway': 5969, 'harvest': 5970, 'symptoms': 5971, 'protected': 5972, 'portuguese': 5973, 'mourinho': 5974, 'colts': 5975, 'karl': 5976, 'resulting': 5977, 'kingston': 5978, 'intended': 5979, 'sudden': 5980, 'geithner': 5981, 'yousuf': 5982, 'deciding': 5983, 'boris': 5984, 'celebrities': 5985, 'cardinal': 5986, 'bout': 5987, 'voter': 5988, 'cooperative': 5989, 'laura': 5990, 'premiership': 5991, 'profile': 5992, 'toss': 5993, 'implemented': 5994, 'favour': 5995, 'bachmann': 5996, 'villages': 5997, 'lsu': 5998, 'australians': 5999, 'vijay': 6000, 'addresses': 6001, 'journey': 6002, 'donation': 6003, 'toys': 6004, 'participating': 6005, 'dismisses': 6006, 'intense': 6007, 'sponsorship': 6008, 'voluntarily': 6009, 'suburb': 6010, 'ventures': 6011, 'degrees': 6012, 'brutal': 6013, 'performances': 6014, 'falcons': 6015, 'reunion': 6016, 'rebuild': 6017, 'struggles': 6018, 'mavericks': 6019, 'scouts': 6020, 'sweet': 6021, 'economists': 6022, 'strict': 6023, 'amtrak': 6024, 'alberto': 6025, 'segment': 6026, 'brokerage': 6027, 'nice': 6028, 'slain': 6029, 'blockbuster': 6030, '05': 6031, 'collected': 6032, 'owns': 6033, 'burst': 6034, 'harvey': 6035, 'distribute': 6036, 'bottle': 6037, 'threaten': 6038, 'valuable': 6039, 'mogul': 6040, 'approaching': 6041, 'somerset': 6042, 'convertible': 6043, 'qualifier': 6044, 'marlins': 6045, 'reckless': 6046, 'resorts': 6047, 'infielder': 6048, 'volkswagen': 6049, 'railroad': 6050, 'dirty': 6051, 'salaries': 6052, 'revive': 6053, 'europa': 6054, 'peterson': 6055, 'damaging': 6056, 'retreat': 6057, 'travis': 6058, 'destinations': 6059, 'uganda': 6060, 'diaz': 6061, 'gps': 6062, 'truth': 6063, 'remanded': 6064, 'notre': 6065, 'stuart': 6066, 'quest': 6067, 'marketplace': 6068, 'coyotes': 6069, 'councillors': 6070, 'disputes': 6071, 'knicks': 6072, 'headon': 6073, 'batch': 6074, 'possessing': 6075, 'caps': 6076, 'starbucks': 6077, 'plymouth': 6078, 'magistrates': 6079, 'declaring': 6080, 'andrews': 6081, 'etihad': 6082, 'flyers': 6083, 'encourage': 6084, 'hamstring': 6085, 'hanged': 6086, 'glen': 6087, 'farewell': 6088, 'connected': 6089, 'fulham': 6090, 'partially': 6091, 'ferdinand': 6092, 'bold': 6093, 'powell': 6094, 'lucas': 6095, 'wolf': 6096, 'satellites': 6097, 'stick': 6098, 'perhaps': 6099, 'huntington': 6100, 'dying': 6101, 'boulevard': 6102, 'ppp': 6103, 'contender': 6104, 'bailey': 6105, 'pretax': 6106, 'dreams': 6107, 'boom': 6108, 'sudanese': 6109, 'detected': 6110, 'fantasy': 6111, 'treasurer': 6112, 'multimillion': 6113, 'advocates': 6114, 'miranda': 6115, '40th': 6116, 'economics': 6117, 'wonder': 6118, 'minogue': 6119, 'efficient': 6120, 'herman': 6121, 'function': 6122, 'palmer': 6123, 'cannon': 6124, 'alicia': 6125, 'lyon': 6126, 'bee': 6127, 'webber': 6128, 'intention': 6129, 'margaret': 6130, 'requested': 6131, 'hamburg': 6132, 'fierce': 6133, 'blew': 6134, '225': 6135, 'wichita': 6136, 'manila': 6137, 'twotime': 6138, 'woes': 6139, 'eligible': 6140, 'spin': 6141, 'suppliers': 6142, 'donate': 6143, 'doug': 6144, 'acute': 6145, 'belfast': 6146, 'purchased': 6147, 'narendra': 6148, 'leonardo': 6149, 'deployed': 6150, 'consultancy': 6151, 'cream': 6152, 'hammer': 6153, 'penalties': 6154, 'infringement': 6155, 'baptist': 6156, 'pointed': 6157, 'stood': 6158, 'torture': 6159, 'faculty': 6160, 'arsene': 6161, 'tyson': 6162, 'flags': 6163, 'enjoyed': 6164, 'sergio': 6165, 'debts': 6166, 'activated': 6167, 'brawl': 6168, 'diving': 6169, 'prayer': 6170, 'administrator': 6171, 'councillor': 6172, 'organizers': 6173, 'carrie': 6174, 'rbi': 6175, '21st': 6176, 'counterfeit': 6177, 'kid': 6178, 'apparel': 6179, 'nd': 6180, 'dvd': 6181, 'quarterfinal': 6182, 'metres': 6183, 'protecting': 6184, 'ash': 6185, 'logo': 6186, 'gray': 6187, 'privately': 6188, 'subsidiaries': 6189, 'adele': 6190, 'troy': 6191, 'chuck': 6192, 'genocide': 6193, 'bridges': 6194, 'hikes': 6195, 'snap': 6196, 'gym': 6197, 'jharkhand': 6198, 'sweeping': 6199, 'bright': 6200, 'orbit': 6201, 'sting': 6202, 'abused': 6203, 'geneva': 6204, 'duncan': 6205, 'briefing': 6206, 'tire': 6207, 'barton': 6208, 'lie': 6209, 'tougher': 6210, '28yearold': 6211, 'noble': 6212, 'referee': 6213, 'golfer': 6214, 'patents': 6215, 'istanbul': 6216, 'garcia': 6217, 'circumstances': 6218, 'cellular': 6219, 'bonuses': 6220, 'sharapova': 6221, 'robbers': 6222, 'stanford': 6223, 'endorsement': 6224, 'sluggish': 6225, 'appealed': 6226, 'pratt': 6227, 'oxford': 6228, 'hostile': 6229, 'israels': 6230, 'juvenile': 6231, 'combine': 6232, 'cox': 6233, 'bingo': 6234, 'clears': 6235, 'mansion': 6236, 'develops': 6237, 'weve': 6238, 'laser': 6239, 'tweet': 6240, 'hungarian': 6241, 'handle': 6242, 'rd': 6243, 'homeland': 6244, 'projected': 6245, 'narrow': 6246, 'associations': 6247, 'bruno': 6248, 'challenger': 6249, 'consensus': 6250, 'hayden': 6251, 'inspector': 6252, 'acclaimed': 6253, 'warrants': 6254, 'chips': 6255, 'underage': 6256, 'enjoying': 6257, 'hosni': 6258, 'runner': 6259, 'durham': 6260, 'fruit': 6261, 'sidelines': 6262, 'wii': 6263, 'aol': 6264, 'noted': 6265, 'garbage': 6266, 'greene': 6267, 'plotting': 6268, 'autumn': 6269, 'capello': 6270, 'displaced': 6271, 'maps': 6272, 'sleeping': 6273, 'withdrawal': 6274, 'halifax': 6275, 'crane': 6276, 'passport': 6277, 'nasdaq': 6278, 'regain': 6279, 'fisherman': 6280, 'acquisitions': 6281, 'opposed': 6282, 'essex': 6283, 'bribery': 6284, 'gender': 6285, '94': 6286, 'deployment': 6287, 'clemens': 6288, 'bombings': 6289, '300000': 6290, 'generate': 6291, 'krishna': 6292, 'mclaren': 6293, '93': 6294, 'freshman': 6295, 'reduces': 6296, 'saves': 6297, 'postpones': 6298, 'hinted': 6299, 'confrontation': 6300, 'plenty': 6301, 'unusual': 6302, 'rev': 6303, 'smashed': 6304, 'anthem': 6305, 'reputation': 6306, 'biopic': 6307, 'entrepreneurs': 6308, 'suffolk': 6309, 'rough': 6310, 'alqaida': 6311, 'apples': 6312, 'vehicular': 6313, 'stern': 6314, 'ballots': 6315, 'serie': 6316, 'constable': 6317, 'testify': 6318, 'contributions': 6319, 'aden': 6320, 'solidarity': 6321, 'ellen': 6322, '19th': 6323, 'lloyds': 6324, 'meaning': 6325, 'puerto': 6326, 'reynolds': 6327, 'spray': 6328, 'megan': 6329, 'borough': 6330, 'mysterious': 6331, 'posed': 6332, 'suns': 6333, 'trevor': 6334, 'horizon': 6335, 'winfrey': 6336, 'consultation': 6337, 'floating': 6338, 'dominican': 6339, 'congratulated': 6340, 'components': 6341, 'pensioner': 6342, 'mae': 6343, 'consolidation': 6344, 'bounced': 6345, 'puppy': 6346, 'dhoni': 6347, 'questioning': 6348, 'invitational': 6349, 'nikkei': 6350, '2500': 6351, 'hidden': 6352, 'carroll': 6353, 'toy': 6354, 'plaza': 6355, 'governing': 6356, 'nova': 6357, 'usc': 6358, 'invests': 6359, 'folk': 6360, 'grass': 6361, 'schemes': 6362, 'cia': 6363, 'hat': 6364, 'retains': 6365, 'earns': 6366, 'congratulates': 6367, 'ip': 6368, 'dayton': 6369, 'sponsored': 6370, 'battered': 6371, '1100': 6372, 'broking': 6373, 'countys': 6374, 'iceland': 6375, 'wilmington': 6376, 'greenhouse': 6377, 'youngsters': 6378, 'km': 6379, 'lashed': 6380, 'devils': 6381, 'volatility': 6382, 'overtime': 6383, 'carnival': 6384, 'elect': 6385, 'submit': 6386, 'else': 6387, 'encouraging': 6388, 'inventories': 6389, 'spains': 6390, 'nervous': 6391, 'medicaid': 6392, 'upa': 6393, 'reelected': 6394, 'gala': 6395, 'tel': 6396, 'maintaining': 6397, 'aaa': 6398, 'castle': 6399, 'djokovic': 6400, 'diana': 6401, 'paula': 6402, 'symbol': 6403, 'pierce': 6404, 'participants': 6405, 'studying': 6406, 'containing': 6407, 'jockey': 6408, 'di': 6409, 'renault': 6410, 'petersburg': 6411, 'nyc': 6412, 'repeal': 6413, 'oneal': 6414, 'td': 6415, 'jayz': 6416, 'saskatchewan': 6417, 'thief': 6418, 'interbank': 6419, 'sparks': 6420, 'sexy': 6421, 'reviewing': 6422, 'shuts': 6423, 'covers': 6424, 'sentences': 6425, 'desire': 6426, 'bengals': 6427, 'counterparts': 6428, 'disorderly': 6429, 'ryder': 6430, 'riders': 6431, 'programmes': 6432, 'macedonia': 6433, 'awaited': 6434, 'turbine': 6435, 'caution': 6436, '400000': 6437, 'disrupted': 6438, 'spoken': 6439, 'laptop': 6440, '16yearold': 6441, 'secondlargest': 6442, 'shocking': 6443, 'incumbent': 6444, 'germanys': 6445, 'mesa': 6446, 'doherty': 6447, 'adoption': 6448, 'felipe': 6449, '201011': 6450, 'capitals': 6451, 'lone': 6452, 'u': 6453, 'pursuit': 6454, 'helicopters': 6455, 'wrist': 6456, 'daytona': 6457, 'reunited': 6458, 'mandate': 6459, 'engines': 6460, 'precious': 6461, 'addressed': 6462, 'hed': 6463, 'thank': 6464, 'shaun': 6465, 'contained': 6466, 'chat': 6467, 'thus': 6468, 'bend': 6469, 'dominique': 6470, 'medicines': 6471, 'itv': 6472, 'travelling': 6473, 'swings': 6474, 'slated': 6475, 'kidnap': 6476, 'tattoo': 6477, 'posing': 6478, 'engage': 6479, 'windsor': 6480, 'bombers': 6481, 'exercises': 6482, 'lionel': 6483, 'ramirez': 6484, 'skype': 6485, 'tinto': 6486, 'edges': 6487, 'excellence': 6488, 'frances': 6489, 'carmaker': 6490, 'rukh': 6491, 'paulo': 6492, 'poisoning': 6493, '4g': 6494, 'globally': 6495, 'mph': 6496, '250000': 6497, 'marries': 6498, 'nuggets': 6499, 'assad': 6500, 'chartered': 6501, 'addiction': 6502, 'battled': 6503, 'matters': 6504, 'barrels': 6505, 'ellis': 6506, 'buyout': 6507, 'lehman': 6508, 'burlington': 6509, 'runoff': 6510, 'presentation': 6511, 'aerospace': 6512, 'laundering': 6513, 'dominated': 6514, 'trained': 6515, '30yearold': 6516, 'reservation': 6517, 'laying': 6518, 'citi': 6519, 'valentines': 6520, 'shipments': 6521, 'certificate': 6522, 'egypts': 6523, 'providence': 6524, '17yearold': 6525, 'surprised': 6526, 'comfortable': 6527, 'ahmad': 6528, 'tragic': 6529, 'hundred': 6530, 'institutional': 6531, 'opposite': 6532, 'guitar': 6533, 'wallace': 6534, 'specifically': 6535, 'asean': 6536, 'hails': 6537, 'tevez': 6538, 'completing': 6539, 'foul': 6540, 'tap': 6541, 'sidelined': 6542, 'empty': 6543, 'exhusband': 6544, 'intellectual': 6545, 'harbour': 6546, 'fda': 6547, 'publicist': 6548, 'equality': 6549, 'removal': 6550, 'brokers': 6551, 'olmert': 6552, 'veto': 6553, 'pine': 6554, 'hilary': 6555, 'approached': 6556, 'bundesliga': 6557, 'laboratory': 6558, 'teach': 6559, 'detectives': 6560, 'rap': 6561, 'youngest': 6562, 'yacht': 6563, 'claire': 6564, 'behavior': 6565, 'calendar': 6566, 'lieutenant': 6567, 'lockout': 6568, 'meals': 6569, 'shutting': 6570, 'panic': 6571, 'exclusively': 6572, 'zac': 6573, 'khalifa': 6574, 'sanaa': 6575, 'stressed': 6576, 'micro': 6577, 'graduation': 6578, 'padres': 6579, 'repeatedly': 6580, 'peters': 6581, 'showcase': 6582, 'carlisle': 6583, 'endangered': 6584, 'offseason': 6585, 'quarters': 6586, 'nielsen': 6587, 'priced': 6588, 'legs': 6589, 'tiny': 6590, 'childs': 6591, '5th': 6592, 'sore': 6593, 'heather': 6594, 'minors': 6595, 'workplace': 6596, 'asthma': 6597, 'firstdegree': 6598, 'founding': 6599, 'popularity': 6600, 'lighting': 6601, 'amazing': 6602, 'poors': 6603, 'method': 6604, 'oliver': 6605, 'subsidies': 6606, 'shutdown': 6607, 'tipped': 6608, 'steep': 6609, 'offerings': 6610, 'wed': 6611, 'jaguars': 6612, 'ladies': 6613, 'sequel': 6614, 'explain': 6615, 'stating': 6616, 'administrators': 6617, 'aamir': 6618, 'dragon': 6619, 'lays': 6620, 'wet': 6621, 'drawn': 6622, 'volcano': 6623, 'reddy': 6624, 'anger': 6625, 'accusations': 6626, 'rover': 6627, 'guinea': 6628, 'gubernatorial': 6629, 'mouth': 6630, 'bhd': 6631, 'creditors': 6632, 'approaches': 6633, 'fiery': 6634, 'wa': 6635, 'drummer': 6636, 'ousted': 6637, 'humphries': 6638, 'households': 6639, 'listing': 6640, 'texans': 6641, 'yoga': 6642, 'marginally': 6643, 'eventually': 6644, 'inauguration': 6645, 'cab': 6646, 'stunning': 6647, 'fiat': 6648, 'corrupt': 6649, 'neglect': 6650, 'novak': 6651, 'organisers': 6652, 'raids': 6653, 'moodys': 6654, 'liability': 6655, 'perez': 6656, 'rebounded': 6657, 'respectively': 6658, 'hopkins': 6659, 'quitting': 6660, 'les': 6661, 'hoped': 6662, 'joey': 6663, 'gonzalez': 6664, 'sheet': 6665, 'invested': 6666, 'ex': 6667, 'batting': 6668, 'utilities': 6669, 'revenge': 6670, 'beaches': 6671, 'revival': 6672, 'leafs': 6673, 'replaces': 6674, 'builder': 6675, 'ditch': 6676, 'generic': 6677, 'downs': 6678, 'imprisonment': 6679, 'hunters': 6680, 'surrender': 6681, 'proper': 6682, 'clashed': 6683, 'samuel': 6684, 'charities': 6685, 'yorks': 6686, 'pitches': 6687, 'graduates': 6688, '160': 6689, 'cattle': 6690, 'piracy': 6691, 'maradona': 6692, 'obrien': 6693, 'regard': 6694, 'alarm': 6695, 'grenade': 6696, 'astros': 6697, 'fate': 6698, 'consequences': 6699, 'delighted': 6700, 'anil': 6701, 'typhoon': 6702, 'merchant': 6703, 'croatia': 6704, '23rd': 6705, 'banning': 6706, '14yearold': 6707, 'blackhawks': 6708, 'victor': 6709, 'soap': 6710, 'moments': 6711, 'booking': 6712, 'singersongwriter': 6713, 'washed': 6714, 'reflecting': 6715, 'chilean': 6716, 'diamondbacks': 6717, '30th': 6718, 'sweeps': 6719, 'seasonal': 6720, 'va': 6721, 'collect': 6722, 'organic': 6723, 'rim': 6724, 'marie': 6725, 'credits': 6726, 'cyclone': 6727, 'grandmother': 6728, 'territorial': 6729, 'printing': 6730, 'relating': 6731, 'pointing': 6732, 'benitez': 6733, 'thin': 6734, 'hart': 6735, 'mercedes': 6736, 'poses': 6737, 'packed': 6738, 'amazoncom': 6739, 'demonstrators': 6740, 'shortfall': 6741, 'toilet': 6742, 'reorganization': 6743, 'spotlight': 6744, 'self': 6745, 'plains': 6746, 'punch': 6747, 'florence': 6748, 'pirate': 6749, 'underwood': 6750, 'flown': 6751, 'toxic': 6752, 'strengthens': 6753, 'weakens': 6754, 'victorian': 6755, 'katrina': 6756, 'dementia': 6757, 'bucks': 6758, 'robust': 6759, 'courses': 6760, '04': 6761, 'researcher': 6762, 'cal': 6763, 'eyed': 6764, 'earning': 6765, '175': 6766, 'videos': 6767, 'polling': 6768, 'arriving': 6769, 'lauren': 6770, 'maiden': 6771, 'halloween': 6772, 'prairie': 6773, '26yearold': 6774, 'ducks': 6775, 'yards': 6776, 'dubbed': 6777, 'automation': 6778, 'marco': 6779, 'preserve': 6780, 'hodgson': 6781, 'barrier': 6782, 'swung': 6783, 'loose': 6784, 'ios': 6785, 'integrity': 6786, 'consultant': 6787, 'symphony': 6788, 'rig': 6789, 'spends': 6790, 'guests': 6791, 'kyrgyz': 6792, 'instruments': 6793, 'formerly': 6794, 'depot': 6795, 'permit': 6796, 'revolutionary': 6797, 'brendan': 6798, 'rodgers': 6799, 'tebow': 6800, 'pressures': 6801, 'altercation': 6802, 'particular': 6803, 'reconstruction': 6804, 'cavaliers': 6805, 'slid': 6806, 'restart': 6807, 'westminster': 6808, 'publish': 6809, 'explains': 6810, 'coventry': 6811, 'firstquarter': 6812, 'surrey': 6813, 'gossip': 6814, 'georgetown': 6815, 'endeavour': 6816, 'reject': 6817, 'riots': 6818, 'luck': 6819, 'hezbollah': 6820, '15day': 6821, 'gig': 6822, 'tenn': 6823, 'weakening': 6824, 'capsized': 6825, 'snapped': 6826, '29yearold': 6827, 'amsterdam': 6828, 'palestine': 6829, 'lowers': 6830, 'recognize': 6831, 'damon': 6832, 'wellknown': 6833, 'dressed': 6834, 'canucks': 6835, '2003': 6836, 'cops': 6837, 'miguel': 6838, 'gabrielle': 6839, 'bankrupt': 6840, 'zimbabwean': 6841, 'evacuate': 6842, 'ramp': 6843, 'resolved': 6844, 'blasted': 6845, 'santos': 6846, 'relegation': 6847, 'dip': 6848, 'holland': 6849, 'midland': 6850, 'bullish': 6851, 'wounding': 6852, 'busch': 6853, 'messaging': 6854, 'travelers': 6855, 'sometime': 6856, 'handset': 6857, 'sunshine': 6858, 'motel': 6859, '2001': 6860, 'progressive': 6861, 'trader': 6862, 'commissions': 6863, 'reliable': 6864, 'villagers': 6865, 'accra': 6866, 'balotelli': 6867, 'aviv': 6868, 'sailing': 6869, 'elements': 6870, 'findings': 6871, 'outages': 6872, 'uniform': 6873, 'allrounder': 6874, 'incentives': 6875, 'islamist': 6876, 'schumacher': 6877, 'litre': 6878, 'achievement': 6879, 'cooking': 6880, 'albums': 6881, 'carlo': 6882, 'abbey': 6883, 'icici': 6884, 'advani': 6885, 'vessels': 6886, 'ejected': 6887, 'formation': 6888, 'janet': 6889, 'convert': 6890, 'jeffrey': 6891, 'exceed': 6892, 'erie': 6893, 'isle': 6894, 'marines': 6895, 'freeway': 6896, 'proceeds': 6897, 'hispanic': 6898, 'presenting': 6899, 'dutt': 6900, 'repeat': 6901, 'wr': 6902, 'explodes': 6903, 'appropriate': 6904, 'poet': 6905, 'trigger': 6906, 'h': 6907, 'erupted': 6908, 'hbo': 6909, 'accountability': 6910, 'demolition': 6911, '3rd': 6912, 'suddenly': 6913, 'anonymous': 6914, 'coral': 6915, 'pistorius': 6916, 'wizards': 6917, 'indicates': 6918, 'middleweight': 6919, 'humanity': 6920, 'courtney': 6921, 'ftse': 6922, 'slight': 6923, 'patch': 6924, 'initially': 6925, 'jun': 6926, 'advocate': 6927, '12000': 6928, 'merrill': 6929, 'signature': 6930, 'mix': 6931, 'surgeon': 6932, 'boil': 6933, 'premises': 6934, 'singers': 6935, 'bargain': 6936, 'happens': 6937, 'tanzania': 6938, 'turkeys': 6939, 'dicaprio': 6940, 'mls': 6941, 'widened': 6942, 'axe': 6943, 'accidental': 6944, 'forming': 6945, 'recommendations': 6946, 'relative': 6947, 'infected': 6948, 'jorge': 6949, 'rifle': 6950, 'chester': 6951, 'boosts': 6952, 'raul': 6953, 'uncertain': 6954, 'troopers': 6955, 'operated': 6956, 'jackie': 6957, 'scout': 6958, 'oasis': 6959, 'consolidate': 6960, 'volvo': 6961, 'municipality': 6962, 'withdrawing': 6963, 'indoor': 6964, 'murders': 6965, 'scholarship': 6966, 'hernandez': 6967, 'zuckerberg': 6968, 'goodwill': 6969, 'minerals': 6970, 'outperform': 6971, 'reference': 6972, 'aung': 6973, 'gosselin': 6974, 'messi': 6975, 'sullivan': 6976, 'wash': 6977, 'pills': 6978, 'triumph': 6979, 'f1': 6980, 'waive': 6981, 'adopts': 6982, 'facial': 6983, 'shale': 6984, 'lansing': 6985, 'wbc': 6986, 'kurt': 6987, 'touring': 6988, 'slowly': 6989, 'crossborder': 6990, 'lawsuits': 6991, 'purpose': 6992, 'filipino': 6993, 'welterweight': 6994, 'apartments': 6995, 'struggled': 6996, 'friendship': 6997, 'prop': 6998, 'yesterdays': 6999, 'factories': 7000, 'designs': 7001, 'battles': 7002, 'boots': 7003, 'hannah': 7004, 'admission': 7005, 'sussex': 7006, 'malcolm': 7007, 'combination': 7008, 'tighten': 7009, 'jointly': 7010, 'succeed': 7011, 'heating': 7012, 'conducting': 7013, 'raleigh': 7014, 'abduction': 7015, 'moral': 7016, 'shortstop': 7017, 'secretly': 7018, 'buyer': 7019, 'parkway': 7020, 'payroll': 7021, 'coronation': 7022, 'survivor': 7023, 'prayers': 7024, 'infosys': 7025, 'introduction': 7026, 'sanford': 7027, 'oppose': 7028, 'procedures': 7029, 'negotiating': 7030, 'loaded': 7031, 'burnt': 7032, 'highspeed': 7033, 'frankfurt': 7034, 'sharon': 7035, 'broader': 7036, 'legislators': 7037, 'councilman': 7038, 'opposes': 7039, 'forever': 7040, 'seri': 7041, 'taste': 7042, 'nose': 7043, 'boise': 7044, 'explosives': 7045, 'joy': 7046, 'khloe': 7047, 'mandatory': 7048, 'crawford': 7049, 'animation': 7050, 'nottingham': 7051, 'brewer': 7052, 'thunderstorm': 7053, 'ok': 7054, 'burma': 7055, 'facilitate': 7056, 'restricted': 7057, 'ripped': 7058, 'stayed': 7059, 'rogue': 7060, 'vernon': 7061, 'seizure': 7062, 'competing': 7063, 'kingfisher': 7064, 'coma': 7065, 'brunswick': 7066, 'imaging': 7067, 'eases': 7068, 'jenkins': 7069, '8000': 7070, 'arrangements': 7071, 'programming': 7072, 'deportation': 7073, 'wipro': 7074, 'bicycle': 7075, 'painting': 7076, 'duff': 7077, 'drake': 7078, 'epic': 7079, 'dated': 7080, 'knox': 7081, 'draws': 7082, 'avalanche': 7083, 'controller': 7084, 'stalled': 7085, 'billiton': 7086, 'planting': 7087, 'vettel': 7088, 'donor': 7089, 'stance': 7090, 'sara': 7091, 'medium': 7092, 'coup': 7093, '96': 7094, 'notices': 7095, 'silva': 7096, 'reaction': 7097, 'hussain': 7098, 'bernie': 7099, 'hassan': 7100, 'willis': 7101, 'rica': 7102, 'reinstated': 7103, 'grabbed': 7104, 'distributed': 7105, 'malawi': 7106, 'algeria': 7107, 'commuters': 7108, 'greenback': 7109, 'killings': 7110, 'toshiba': 7111, 'hewitt': 7112, 'alonso': 7113, 'pietersen': 7114, 'ponting': 7115, 'massacre': 7116, 'mirza': 7117, 'stamford': 7118, 'platforms': 7119, 'ike': 7120, 'disruption': 7121, 'repurchase': 7122, '450': 7123, 'doubts': 7124, 'seekers': 7125, 'bharatiya': 7126, '49ers': 7127, 'matthews': 7128, 'gazprom': 7129, 'rhode': 7130, 'proposing': 7131, 'fractured': 7132, 'length': 7133, 'shadow': 7134, '16th': 7135, 'walt': 7136, 'magistrate': 7137, 'guys': 7138, 'commissioned': 7139, 'compound': 7140, 'vale': 7141, 'agreeing': 7142, '140': 7143, 'interesting': 7144, 'kidman': 7145, 'visas': 7146, 'kraft': 7147, 'ton': 7148, 'sat': 7149, 'sanders': 7150, 'preston': 7151, 'turnover': 7152, 'decides': 7153, 'publishes': 7154, 'raymond': 7155, 'chaos': 7156, 'vitamin': 7157, 'surcharge': 7158, 'vandals': 7159, 'blames': 7160, 'showdown': 7161, 'allocation': 7162, 'installation': 7163, 'shaw': 7164, 'ambitious': 7165, 'eden': 7166, 'panels': 7167, 'accessories': 7168, 'guardian': 7169, 'ceiling': 7170, 'adventure': 7171, 'depth': 7172, 'gwyneth': 7173, 'paltrow': 7174, '31yearold': 7175, 'cigarettes': 7176, 'hague': 7177, 'dodge': 7178, 'removing': 7179, 'griffin': 7180, '99': 7181, 'nyse': 7182, 'dylan': 7183, 'departure': 7184, 'manitoba': 7185, 'unite': 7186, 'statutory': 7187, 'sunny': 7188, 'samantha': 7189, 'airlifted': 7190, 'operates': 7191, 'indicating': 7192, 'example': 7193, 'repeated': 7194, 'priyanka': 7195, 'md': 7196, 'ana': 7197, 'famed': 7198, 'astronauts': 7199, 'forecasters': 7200, 'der': 7201, 'certainly': 7202, 'mode': 7203, 'simmons': 7204, 'harm': 7205, 'manner': 7206, 'columnist': 7207, 'pig': 7208, 'setback': 7209, 'lancaster': 7210, 'tracy': 7211, 'burke': 7212, 'deny': 7213, 'maybe': 7214, 'nickel': 7215, 'smash': 7216, 'bullpen': 7217, 'busted': 7218, 'dhaka': 7219, 'dynamics': 7220, 'hood': 7221, '02': 7222, 'imminent': 7223, 'attendance': 7224, 'pierre': 7225, 'arlington': 7226, 'slips': 7227, 'blackpool': 7228, 'ugly': 7229, 'purdue': 7230, 'unexpected': 7231, 'scrapped': 7232, 'sponsors': 7233, '201112': 7234, 'lanes': 7235, 'spike': 7236, 'budgets': 7237, 'pepper': 7238, 'goaltender': 7239, 'starter': 7240, 'confirmation': 7241, 'rank': 7242, 'plunges': 7243, 'expresses': 7244, 'requiring': 7245, 'permanently': 7246, 'collections': 7247, 'jd': 7248, 'srinagar': 7249, 'monica': 7250, 'telegraph': 7251, 'dump': 7252, 'mercy': 7253, 'remainder': 7254, 'tanks': 7255, 'disclosure': 7256, 'slower': 7257, 'directions': 7258, 'champ': 7259, 'morrison': 7260, 'nolan': 7261, 'klum': 7262, 'highlights': 7263, '97': 7264, 'oilers': 7265, 'recreation': 7266, 'repay': 7267, 'italys': 7268, 'mick': 7269, 'nobody': 7270, 'alltime': 7271, 'clippers': 7272, 'ounce': 7273, 'libel': 7274, 'aware': 7275, 'semi': 7276, 'pfizer': 7277, 'rico': 7278, 'christ': 7279, 'actively': 7280, 'sometimes': 7281, 'recognised': 7282, 'diane': 7283, 'slows': 7284, 'fiance': 7285, 'profitability': 7286, 'assassination': 7287, 'alley': 7288, 'hiphop': 7289, 'clinched': 7290, 'satisfaction': 7291, 'industrys': 7292, 'headline': 7293, 'firmly': 7294, 'rated': 7295, 'pages': 7296, 'croatian': 7297, 'drain': 7298, 'wallabies': 7299, 'laboratories': 7300, 'concerning': 7301, 'li': 7302, 'introducing': 7303, 'davies': 7304, 'trio': 7305, 'requests': 7306, 'strokes': 7307, 'maoist': 7308, 'methods': 7309, 'experiences': 7310, 'relation': 7311, 'concludes': 7312, 'treasure': 7313, 'avoided': 7314, 'crops': 7315, 'lords': 7316, 'robertson': 7317, 'bret': 7318, 'rossi': 7319, 'ordinary': 7320, 'infections': 7321, 'cigarette': 7322, 'scotia': 7323, 'adjourned': 7324, 'albuquerque': 7325, 'highprofile': 7326, 'afraid': 7327, 'spa': 7328, 'flooded': 7329, 'franco': 7330, 'discusses': 7331, 'stalking': 7332, 'dengue': 7333, 'kurdish': 7334, 'shiv': 7335, 'legacy': 7336, '104': 7337, 'surrendered': 7338, 'subscription': 7339, 'nawaz': 7340, 'immunity': 7341, 'truly': 7342, 'wrap': 7343, 'cathedral': 7344, 'cheaper': 7345, 'appreciation': 7346, 'publishers': 7347, 'virtually': 7348, 'committees': 7349, 'indigenous': 7350, 'exam': 7351, 'gloucester': 7352, 'meth': 7353, 'chrome': 7354, 'speeds': 7355, 'peacefully': 7356, 'stays': 7357, 'rupees': 7358, 'abraham': 7359, 'nationally': 7360, 'kerr': 7361, 'himachal': 7362, 'treatments': 7363, 'confirming': 7364, 'yield': 7365, 'hide': 7366, 'annually': 7367, 'demolished': 7368, 'strictly': 7369, 'linking': 7370, 'counsel': 7371, 'mcdonnell': 7372, 'flee': 7373, 'predicts': 7374, 'flew': 7375, 'constituency': 7376, 'admit': 7377, 'automatic': 7378, 'chose': 7379, 'dentist': 7380, 'summers': 7381, 'wider': 7382, 'ipod': 7383, 'heels': 7384, 'isaac': 7385, 'lightweight': 7386, 'pearl': 7387, 'halftime': 7388, 'informs': 7389, 'pets': 7390, 'freeagent': 7391, 'renovation': 7392, '180': 7393, 'ministries': 7394, 'michel': 7395, 'rage': 7396, 'ak': 7397, 'advisors': 7398, 'chocolate': 7399, 'angola': 7400, 'consideration': 7401, 'entrance': 7402, 'amidst': 7403, 'sank': 7404, 'tornadoes': 7405, 'disabilities': 7406, 'audi': 7407, 'taiwanese': 7408, 'wheelchair': 7409, 'salvation': 7410, 'initiated': 7411, 'alice': 7412, 'burden': 7413, 'thunderstorms': 7414, 'laurent': 7415, 'represents': 7416, 'incentive': 7417, 'followers': 7418, 'fraser': 7419, 'acid': 7420, 'aquino': 7421, 'tan': 7422, 'generals': 7423, 'tycoon': 7424, 'bulk': 7425, 'macau': 7426, 'martial': 7427, 'klitschko': 7428, 'reactor': 7429, 'sad': 7430, 'estimate': 7431, 'tweeted': 7432, 'strained': 7433, 'usual': 7434, 'criticized': 7435, 'disappeared': 7436, 'opponent': 7437, 'shahid': 7438, 'scared': 7439, 'hampton': 7440, 'indie': 7441, 'upbeat': 7442, '35yearold': 7443, 'ceremonies': 7444, 'sergeant': 7445, 'shocked': 7446, 'madoff': 7447, 'gerrard': 7448, 'carol': 7449, 'mri': 7450, '105': 7451, 'funny': 7452, 'chandigarh': 7453, 'tweets': 7454, 'travellers': 7455, 'albion': 7456, 'bracing': 7457, 'requires': 7458, 'highlighting': 7459, 'islanders': 7460, 'locker': 7461, 'servants': 7462, 'skating': 7463, 'torres': 7464, 'fm': 7465, 'reunite': 7466, '40000': 7467, 'mayweather': 7468, 'tory': 7469, 'predict': 7470, 'ethanol': 7471, 'belmont': 7472, 'clegg': 7473, 'mancini': 7474, 'ashok': 7475, 'fullback': 7476, 'occupation': 7477, 'bentley': 7478, 'curry': 7479, 'successor': 7480, 'vista': 7481, 'disgraced': 7482, 'penny': 7483, 'consulate': 7484, 'preparations': 7485, 'jul': 7486, 'mate': 7487, 'portable': 7488, 'afford': 7489, 'deserve': 7490, 'tightened': 7491, 'blunt': 7492, 'directing': 7493, 'dock': 7494, 'arabian': 7495, 'learnt': 7496, 'oval': 7497, 'pains': 7498, 'difficulties': 7499, 'pharma': 7500, 'radcliffe': 7501, 'theory': 7502, 'classroom': 7503, 'berkeley': 7504, 'earthquakes': 7505, 'irene': 7506, 'slim': 7507, 'caroline': 7508, 'strange': 7509, 'rutgers': 7510, 'rent': 7511, 'ministerial': 7512, 'sum': 7513, 'corporations': 7514, 'westwood': 7515, 'kamal': 7516, 'sole': 7517, 'distance': 7518, 'indictment': 7519, 'bedroom': 7520, '01': 7521, 'leonard': 7522, 'respiratory': 7523, 'polar': 7524, 'automakers': 7525, 'supervisors': 7526, 'soviet': 7527, 'lynn': 7528, 'bones': 7529, 'rory': 7530, 'bitten': 7531, 'upheld': 7532, 'contestant': 7533, 'usain': 7534, 'logan': 7535, 'atletico': 7536, 'silent': 7537, 'lou': 7538, 'butt': 7539, 'gerard': 7540, 'conferences': 7541, 'toledo': 7542, 'accelerated': 7543, 'faulty': 7544, 'scanner': 7545, 'tuition': 7546, 'cocacola': 7547, 'immigrant': 7548, 'nitish': 7549, 'disturbance': 7550, 'mila': 7551, 'melissa': 7552, '6th': 7553, 'secrets': 7554, 'adjusted': 7555, 'arguing': 7556, 'majors': 7557, 'hospitality': 7558, 'johnston': 7559, 'amateur': 7560, 'respects': 7561, 'wanderers': 7562, 'error': 7563, 'telecoms': 7564, 'o2': 7565, 'vendors': 7566, 'establishment': 7567, 'ehud': 7568, 'vampire': 7569, 'persistent': 7570, 'prefer': 7571, 'ecb': 7572, 'gunshot': 7573, 'tunnel': 7574, 'dale': 7575, 'clinics': 7576, 'pratibha': 7577, 'transactions': 7578, '4s': 7579, 'enemy': 7580, 'pot': 7581, 'fairfield': 7582, 'psychiatric': 7583, 'walters': 7584, 'owens': 7585, 'antitrust': 7586, 'injures': 7587, 'rescues': 7588, 'dogg': 7589, 'upside': 7590, 'appetite': 7591, 'criticised': 7592, 'ltte': 7593, 'felix': 7594, 'achievements': 7595, 'mayors': 7596, 'medication': 7597, 'gallon': 7598, 'fare': 7599, 'trustees': 7600, 'watford': 7601, 'handing': 7602, 'sabah': 7603, 'scholarships': 7604, 'harsh': 7605, 'tradition': 7606, 'characters': 7607, 'willie': 7608, 'divisions': 7609, 'prosperity': 7610, 'montag': 7611, 'manipur': 7612, 'testified': 7613, 'accelerate': 7614, 'relationships': 7615, 'whatever': 7616, 'motogp': 7617, '8th': 7618, 'venue': 7619, 'uprising': 7620, 'editorial': 7621, 'par': 7622, 'internationally': 7623, 'courtroom': 7624, 'newt': 7625, 'gingrich': 7626, 'bnp': 7627, 'stopping': 7628, 'errors': 7629, 'casinos': 7630, 'syndrome': 7631, 'tip': 7632, 'aging': 7633, 'nexus': 7634, 'signals': 7635, 'bae': 7636, 'productions': 7637, 'fertilizer': 7638, 'neighbor': 7639, 'mechanism': 7640, 'gore': 7641, 'undercover': 7642, 'breakaway': 7643, 'shortages': 7644, 'spectacular': 7645, 'cure': 7646, 'teeth': 7647, 'earl': 7648, 'von': 7649, 'cleaning': 7650, 'generating': 7651, 'searched': 7652, 'slovakia': 7653, 'bump': 7654, 'packages': 7655, 'factors': 7656, 'mediterranean': 7657, 'groin': 7658, 'vic': 7659, 'discussing': 7660, 'lots': 7661, 'arquette': 7662, 'antony': 7663, 'ledger': 7664, 'hacking': 7665, 'injection': 7666, 'ghost': 7667, 'sailors': 7668, 'cheated': 7669, 'spirits': 7670, 'aliyev': 7671, 'dissident': 7672, 'javier': 7673, 'bet': 7674, 'grande': 7675, 'chess': 7676, 'describes': 7677, 'database': 7678, 'fourthquarter': 7679, 'neighbouring': 7680, 'climbing': 7681, 'wilkinson': 7682, 'testimony': 7683, 'alec': 7684, 'raided': 7685, 'lokpal': 7686, 'efron': 7687, 'driveby': 7688, 'inspectors': 7689, 'reiterates': 7690, 'snowmobile': 7691, 'macquarie': 7692, 'fairfax': 7693, 'hangs': 7694, 'canberra': 7695, 'dictator': 7696, 'monument': 7697, 'maldives': 7698, 'infamous': 7699, 'haley': 7700, 'dipped': 7701, 'burger': 7702, 'songwriter': 7703, 'awaiting': 7704, 'sounds': 7705, 'clayton': 7706, 'cleanup': 7707, 'seng': 7708, 'shiite': 7709, 'impaired': 7710, 'reno': 7711, 'debates': 7712, 'bloody': 7713, 'embattled': 7714, 'mineral': 7715, 'kg': 7716, 'airtran': 7717, 'dominate': 7718, 'bible': 7719, 'avoiding': 7720, 'bow': 7721, 'subdued': 7722, 'huntsman': 7723, 'havana': 7724, 'lecture': 7725, 'fog': 7726, 'malaria': 7727, 'widow': 7728, 'blockade': 7729, 'alassad': 7730, 'rocks': 7731, 'adobe': 7732, 'kunis': 7733, 'blogger': 7734, 'ria': 7735, 'huffington': 7736, '13yearold': 7737, 'amir': 7738, 'clemson': 7739, 'pitching': 7740, 'consortium': 7741, 'saeed': 7742, 'stint': 7743, 'nearing': 7744, 'indexes': 7745, 'aggregate': 7746, 'judgment': 7747, '27yearold': 7748, 'inn': 7749, 'meltdown': 7750, 'russians': 7751, 'halle': 7752, 'pray': 7753, 'afc': 7754, 'anand': 7755, 'bases': 7756, '1600': 7757, 'safer': 7758, 'redknapp': 7759, 'jessie': 7760, '32yearold': 7761, 'biological': 7762, 'rid': 7763, 'contempt': 7764, 'rcmp': 7765, 'loud': 7766, 'tomas': 7767, 'explained': 7768, 'larceny': 7769, 'contemporary': 7770, 'cop': 7771, 'upward': 7772, 'sao': 7773, 'iphones': 7774, 'lawn': 7775, 'happiness': 7776, 'deepika': 7777, 'organisations': 7778, 'mob': 7779, 'pubs': 7780, 'barrymore': 7781, 'successive': 7782, 'evolution': 7783, 'afghans': 7784, 'casting': 7785, 'kuwaiti': 7786, 'hazard': 7787, 'narrowed': 7788, 'wrapped': 7789, 'sovereignty': 7790, 'winslet': 7791, 'monitors': 7792, 'cleric': 7793, 'shawn': 7794, 'tumble': 7795, 'hillsborough': 7796, 'dover': 7797, 'treating': 7798, 'cabin': 7799, 'disasters': 7800, 'jackpot': 7801, 'alzheimers': 7802, 'audiences': 7803, 'sheboygan': 7804, 'shannon': 7805, 'requirement': 7806, 'sandusky': 7807, 'founded': 7808, 'duchess': 7809, 'bse': 7810, 'restoration': 7811, 'browser': 7812, 'passage': 7813, 'bermuda': 7814, 'pure': 7815, 'scratched': 7816, 'lehigh': 7817, 'daylight': 7818, 'conservatives': 7819, 'automated': 7820, 'promotes': 7821, 'indeed': 7822, 'dwi': 7823, 'describing': 7824, 'uzbekistan': 7825, 'medalist': 7826, 'vegetables': 7827, 'graphic': 7828, 'flexible': 7829, 'jaguar': 7830, 'yeddyurappa': 7831, 'pelosi': 7832, 'ga': 7833, 'shriver': 7834, 'roots': 7835, 'mcilroy': 7836, 'curfew': 7837, 'bread': 7838, 'trim': 7839, 'derivatives': 7840, 'theaters': 7841, 'activate': 7842, 'smokers': 7843, 'distributing': 7844, 'beirut': 7845, 'consent': 7846, 'zimmerman': 7847, 'attitude': 7848, 'unemployed': 7849, 'uss': 7850, 'serves': 7851, 'sienna': 7852, 'en': 7853, 'sparking': 7854, 'tsx': 7855, 'yearold': 7856, 'crow': 7857, 'liquid': 7858, '135': 7859, 'devastated': 7860, 'portman': 7861, 'evan': 7862, 'deploy': 7863, 'oral': 7864, 'reflect': 7865, '03': 7866, 'fortune': 7867, 'rescuers': 7868, '00': 7869, 'attends': 7870, 'lacrosse': 7871, 'worcester': 7872, 'notorious': 7873, 'bruised': 7874, 'bathroom': 7875, 'congo': 7876, 'telekom': 7877, 'iris': 7878, 'notebook': 7879, 'exhibit': 7880, 'provision': 7881, 'choices': 7882, 'quake': 7883, 'debuts': 7884, 'porsche': 7885, 'recommends': 7886, 'daytime': 7887, 'widens': 7888, 'arrivals': 7889, 'witnessed': 7890, 'hindi': 7891, 'principles': 7892, 'jade': 7893, 'snack': 7894, 'webcast': 7895, 'lorry': 7896, 'junction': 7897, 'ossetia': 7898, 'concentrate': 7899, 'besides': 7900, 'marched': 7901, 'calf': 7902, 'clay': 7903, 'autobiography': 7904, 'workout': 7905, 'minsk': 7906, 'hemsworth': 7907, 'adaptation': 7908, 'negotiate': 7909, 'roughly': 7910, 'openly': 7911, 'downloads': 7912, 'forests': 7913, 'trademark': 7914, '07': 7915, 'predators': 7916, 'bahamas': 7917, 'certified': 7918, 'detection': 7919, 'obsessed': 7920, 'ea': 7921, 'cables': 7922, 'commencement': 7923, 'lafayette': 7924, 'doha': 7925, 'aj': 7926, 'abandon': 7927, '730': 7928, 'eli': 7929, 'purchasing': 7930, 'reagan': 7931, 'placing': 7932, 'detainees': 7933, 'linda': 7934, 'husbands': 7935, 'asiapacific': 7936, 'barred': 7937, 'firmer': 7938, 'panda': 7939, 'observers': 7940, 'committing': 7941, 'caterpillar': 7942, '98': 7943, 'explorer': 7944, 'gp': 7945, 'methodist': 7946, 'impossible': 7947, 'fannie': 7948, 'rocked': 7949, 'wembley': 7950, 'roethlisberger': 7951, 'bigg': 7952, 'disorders': 7953, 'bearish': 7954, 'bart': 7955, 'boutique': 7956, 'footprint': 7957, 'stupid': 7958, 'beloved': 7959, 'cannes': 7960, 'wen': 7961, 'sack': 7962, 'fraudulent': 7963, 'pancreatic': 7964, 'desktop': 7965, 'lovers': 7966, 'paralympic': 7967, 'conglomerate': 7968, 'secondquarter': 7969, 'jared': 7970, 'nvidia': 7971, 'groupon': 7972, 'mw': 7973, 'detect': 7974, 'exploitation': 7975, 'vienna': 7976, 'tenants': 7977, 'splitting': 7978, 'tube': 7979, 'waves': 7980, 'nano': 7981, 'lodge': 7982, 'plug': 7983, 'tears': 7984, 'snoop': 7985, 'qualifiers': 7986, 'knockout': 7987, '750': 7988, 'webb': 7989, 'kindle': 7990, 'thermal': 7991, 'emails': 7992, 'enjoys': 7993, 'pushes': 7994, 'auditorium': 7995, 'wound': 7996, 'embezzlement': 7997, 'poultry': 7998, 'lindsey': 7999, 'shook': 8000, 'baba': 8001, 'cambodia': 8002, 'outgoing': 8003, 'daniels': 8004, 'diamonds': 8005, 'controlling': 8006, 'bottles': 8007, 'acknowledged': 8008, 'odi': 8009, 'situations': 8010, 'borrow': 8011, '50yearold': 8012, 'escalating': 8013, 'thirdquarter': 8014, 'zurich': 8015, 'egg': 8016, 'mich': 8017, 'ind': 8018, 'attendant': 8019, 'preventing': 8020, 'rwanda': 8021, 'burnley': 8022, 'designers': 8023, 'inches': 8024, 'dividends': 8025, 'surf': 8026, 'sort': 8027, 'honduras': 8028, 'evaluation': 8029, 'fragile': 8030, 'fourday': 8031, 'glory': 8032, 'anaheim': 8033, 'leigh': 8034, 'telstra': 8035, 'garner': 8036, 'chesapeake': 8037, 'transparent': 8038, 'hungry': 8039, 'aust': 8040, 'wildfires': 8041, 'shrank': 8042, 'havoc': 8043, 'opted': 8044, 'rosa': 8045, 'principle': 8046, 'ranbir': 8047, 'skies': 8048, 'rajapaksa': 8049, 'bombay': 8050, 'myrtle': 8051, 'balls': 8052, 'letterman': 8053, 'steroids': 8054, 'casualties': 8055, 'eager': 8056, 'cohen': 8057, 'netflix': 8058, 'amongst': 8059, 'levi': 8060, 'copa': 8061, 'mentor': 8062, 'temperature': 8063, 'hurdle': 8064, 'makeover': 8065, 'borrowers': 8066, 'item': 8067, 'ab': 8068, 'cease': 8069, 'lautner': 8070, 'sprained': 8071, 'rebecca': 8072, 'familys': 8073, 'playboy': 8074, 'prolonged': 8075, 'shower': 8076, 'campaigning': 8077, 'roommate': 8078, 'tvs': 8079, 'entrepreneur': 8080, 'polanski': 8081, '102': 8082, 'implications': 8083, 'responds': 8084, 'paternity': 8085, '103': 8086, '60th': 8087, 'worsening': 8088, 'extremists': 8089, 'burton': 8090, 'elects': 8091, 'slashes': 8092, '106': 8093, 'forgery': 8094, 'contaminated': 8095, 'spying': 8096, 'experiencing': 8097, 'contrary': 8098, 'corridor': 8099, 'dual': 8100, 'binghamton': 8101, 'intercontinental': 8102, 'drowning': 8103, 'gunfire': 8104, 'renewal': 8105, 'airspace': 8106, 'anywhere': 8107, 'desk': 8108, 'headlines': 8109, 'taught': 8110, 'forbes': 8111, 'unfair': 8112, 'physically': 8113, 'samajwadi': 8114, 'assess': 8115, 'stunned': 8116, 'kit': 8117, 'monster': 8118, 'mali': 8119, 'belgrade': 8120, 'slumped': 8121, 'menu': 8122, 'denise': 8123, 'shifted': 8124, 'incredible': 8125, 'catching': 8126, 'supervisor': 8127, 'relatively': 8128, 'bias': 8129, 'intensified': 8130, 'undergone': 8131, 'chevrolet': 8132, 'integrate': 8133, 'literacy': 8134, 'canterbury': 8135, 'clarkson': 8136, 'arcelormittal': 8137, 'processor': 8138, 'discipline': 8139, 'fence': 8140, 'debris': 8141, 'holocaust': 8142, 'copyright': 8143, 'qld': 8144, 'novosti': 8145, 'firstround': 8146, 'indication': 8147, 'telangana': 8148, 'mayo': 8149, 'correctional': 8150, 'dustin': 8151, 'irvine': 8152, 'richest': 8153, 'arbor': 8154, 'mrs': 8155, 'laptops': 8156, 'nazi': 8157, 'kay': 8158, 'minorities': 8159, 'pedro': 8160, 'yang': 8161, 'landslide': 8162, 'lte': 8163, 'muamba': 8164, 'comcast': 8165, 'trash': 8166, 'llp': 8167, 'fielder': 8168, 'donovan': 8169, 'nutrition': 8170, 'volumes': 8171, 'attracted': 8172, 'venus': 8173, 'hyundai': 8174, 'pcs': 8175, 'preview': 8176, 'biotechnology': 8177, '115': 8178, 'lists': 8179, 'height': 8180, 'highways': 8181, 'flick': 8182, 'belonging': 8183, 'stamp': 8184, 'prodemocracy': 8185, 'bynes': 8186, 'punching': 8187, 'landlord': 8188, 'hepatitis': 8189, 'expires': 8190, 'heated': 8191, 'marina': 8192, 'ensuring': 8193, 'sight': 8194, 'appearances': 8195, 'clearly': 8196, 'vandalism': 8197, 'wifes': 8198, 'diva': 8199, 'tymoshenko': 8200, 'bishops': 8201, 'pursuing': 8202, 'bass': 8203, 'chambers': 8204, 'disrupt': 8205, 'accord': 8206, 'foreclosures': 8207, 'focuses': 8208, 'garrett': 8209, 'colleague': 8210, 'sailor': 8211, 'tightening': 8212, 'suburbs': 8213, 'gateway': 8214, 'ibrahim': 8215, 'il': 8216, 'havent': 8217, 'concessions': 8218, '650': 8219, 'breakdown': 8220, 'margins': 8221, 'types': 8222, 'eugene': 8223, 'lodged': 8224, 'chaudhry': 8225, 'uncle': 8226, 'bafana': 8227, 'doctorate': 8228, 'sophomore': 8229, 'namibia': 8230, 'partly': 8231, 'inventory': 8232, 'monaco': 8233, 'bargaining': 8234, '201213': 8235, 'shortterm': 8236, 'passion': 8237, 'instant': 8238, 'steals': 8239, 'yadav': 8240, 'surpassed': 8241, 'nixon': 8242, 'greeces': 8243, 'electrocuted': 8244, 'ethiopian': 8245, 'freestyle': 8246, 'tier': 8247, 'olivia': 8248, 'mln': 8249, 'eid': 8250, 'math': 8251, 'suspending': 8252, 'conjunction': 8253, 'endangerment': 8254, 'frame': 8255, 'understands': 8256, 'se': 8257, 'millionaire': 8258, 'wesley': 8259, '28th': 8260, 'motorist': 8261, 'connections': 8262, 'publics': 8263, 'massa': 8264, 'whip': 8265, 'coldplay': 8266, 'shia': 8267, 'straw': 8268, 'hitachi': 8269, 'builds': 8270, 'settlers': 8271, 'turnout': 8272, '1800': 8273, 'metric': 8274, 'tonne': 8275, 'postpone': 8276, 'aleague': 8277, 'killers': 8278, 'shrink': 8279, 'defrauding': 8280, 'textile': 8281, 'kodak': 8282, 'prefers': 8283, 'cave': 8284, 'buenos': 8285, 'aires': 8286, 'tunisian': 8287, 'dealt': 8288, 'legends': 8289, 'nigel': 8290, 'filling': 8291, 'bonus': 8292, 'hints': 8293, 'emily': 8294, 'macon': 8295, 'incorporated': 8296, 'copies': 8297, 'pakistanis': 8298, 'uruguay': 8299, 'checking': 8300, 'honolulu': 8301, 'highland': 8302, 'charts': 8303, 'propose': 8304, 'socialist': 8305, 'inch': 8306, 'sultan': 8307, 'collide': 8308, 'captures': 8309, 'seth': 8310, 'destruction': 8311, 'augusta': 8312, 'bangladeshi': 8313, 'bloc': 8314, 'spare': 8315, 'mitsubishi': 8316, 'patience': 8317, 'grains': 8318, 'composite': 8319, 'donors': 8320, 'unilever': 8321, 'promotional': 8322, 'guantanamo': 8323, 'universitys': 8324, 'memories': 8325, 'googles': 8326, 'strongest': 8327, 'brooke': 8328, 'laureate': 8329, 'grandfather': 8330, 'landfall': 8331, 'aa': 8332, 'backyard': 8333, 'lagos': 8334, 'complained': 8335, 'finalized': 8336, 'furious': 8337, 'webster': 8338, 'julius': 8339, 'lover': 8340, 'imperial': 8341, 'hiked': 8342, 'shahbaz': 8343, 'bestselling': 8344, 'lowcost': 8345, 'securing': 8346, 'marsh': 8347, 'derailed': 8348, 'auctions': 8349, 'experimental': 8350, 'moines': 8351, '107': 8352, 'seemed': 8353, 'benson': 8354, 'color': 8355, '112': 8356, 'aground': 8357, '111': 8358, 'oj': 8359, 'articles': 8360, 'boxes': 8361, 'jude': 8362, 'intelligent': 8363, 'dramatically': 8364, 'brit': 8365, 'newsday': 8366, 'ipswich': 8367, 'johan': 8368, 'accreditation': 8369, 'revamped': 8370, 'slashing': 8371, 'mid': 8372, 'specialists': 8373, 'ukbased': 8374, 'refuge': 8375, 'ups': 8376, 'gutted': 8377, 'physicians': 8378, 'knocking': 8379, 'viral': 8380, 'salmonella': 8381, 'contamination': 8382, 'chains': 8383, 'canton': 8384, 'piper': 8385, 'sand': 8386, 'rai': 8387, 'luther': 8388, 'optical': 8389, 'pike': 8390, 'sidney': 8391, '39yearold': 8392, 'bicyclist': 8393, 'freezes': 8394, 'touching': 8395, 'bahraini': 8396, 'airasia': 8397, 'lotus': 8398, 'basu': 8399, 'ronson': 8400, 'habitat': 8401, 'jse': 8402, 'odonnell': 8403, 'curtis': 8404, 'businessmen': 8405, 'joplin': 8406, 'xperia': 8407, 'sbi': 8408, 'dismissal': 8409, 'aurora': 8410, 'banner': 8411, 'greens': 8412, 'licensed': 8413, 'travolta': 8414, 'graffiti': 8415, 'reopening': 8416, 'peas': 8417, 'midlands': 8418, 'knights': 8419, 'byrd': 8420, 'lunar': 8421, 'indices': 8422, 'apologise': 8423, 'trafford': 8424, 'vaccines': 8425, 'leaking': 8426, 'drills': 8427, 'decisive': 8428, 'auctioned': 8429, 'swimmer': 8430, 'exist': 8431, 'colon': 8432, 'critic': 8433, 'denying': 8434, 'pill': 8435, 'lengthy': 8436, 'rear': 8437, 'homer': 8438, 'stray': 8439, 'protestors': 8440, 'rodney': 8441, 'examination': 8442, 'aliens': 8443, 'trent': 8444, 'flies': 8445, '12yearold': 8446, 'flowers': 8447, 'freezing': 8448, 'ramdev': 8449, 'morocco': 8450, 'keegan': 8451, 'sewer': 8452, '1960s': 8453, 'sevilla': 8454, 'crosby': 8455, 'livestock': 8456, 'measuring': 8457, 'splash': 8458, 'sail': 8459, 'uc': 8460, 'rumor': 8461, 'junk': 8462, 'mirror': 8463, 'affiliated': 8464, 'musicians': 8465, 'detailed': 8466, 'deepening': 8467, 'deeper': 8468, 'q': 8469, 'lure': 8470, 'wis': 8471, 'longawaited': 8472, 'pork': 8473, 'aftermath': 8474, 'sellers': 8475, 'allied': 8476, 'piers': 8477, 'clinch': 8478, 'lea': 8479, 'buccaneers': 8480, 'hayes': 8481, 'deliberately': 8482, 'camden': 8483, 'salon': 8484, 'albania': 8485, 'mercantile': 8486, 'bullets': 8487, 'urgent': 8488, 'letting': 8489, 'weaken': 8490, 'payne': 8491, 'anchorage': 8492, 'kia': 8493, 'movements': 8494, 'neighboring': 8495, 'dust': 8496, 'berkshire': 8497, 'resistances': 8498, 'visual': 8499, 'joan': 8500, 'mainstream': 8501, 'delegates': 8502, 'provisions': 8503, 'lesson': 8504, 'fundamental': 8505, 'breaching': 8506, 'greenville': 8507, 'priorities': 8508, 'personally': 8509, 'ft': 8510, 'dana': 8511, 'blown': 8512, 'attacker': 8513, 'warships': 8514, 'mgm': 8515, 'immune': 8516, 'tab': 8517, 'knoxville': 8518, 'interviews': 8519, 'injunction': 8520, 'keeper': 8521, 'hostages': 8522, 'kilometres': 8523, 'highlands': 8524, 'balloon': 8525, 'putnam': 8526, 'snyder': 8527, 'destroying': 8528, 'cricketers': 8529, 'backdrop': 8530, 'patterson': 8531, 'exporter': 8532, 'happening': 8533, 'zach': 8534, 'categories': 8535, '7000': 8536, 'generations': 8537, 'entirely': 8538, 'migrant': 8539, 'labourers': 8540, 'balanced': 8541, 'bulldogs': 8542, 'anticorruption': 8543, 'inform': 8544, 'contracted': 8545, 'obtain': 8546, 'consultants': 8547, 'grey': 8548, 'conversation': 8549, 'onevehicle': 8550, 'fault': 8551, 'commence': 8552, 'ballet': 8553, 'mayoral': 8554, 'topeka': 8555, 'indicators': 8556, 'rewards': 8557, 'hotspur': 8558, 'transform': 8559, 'prostitute': 8560, 'shake': 8561, 'crowe': 8562, 'coroners': 8563, 'fedex': 8564, 'punk': 8565, 'advocacy': 8566, 'seals': 8567, 'gradually': 8568, 'statistical': 8569, 'weigh': 8570, 'onetime': 8571, 'commons': 8572, 'pepsi': 8573, 'favourites': 8574, 'aviva': 8575, 'helm': 8576, 'pmln': 8577, '1300': 8578, 'ideal': 8579, 'fulltime': 8580, 'dish': 8581, 'driveway': 8582, 'sinking': 8583, 'est': 8584, 'exceeded': 8585, 'rubbish': 8586, 'liberals': 8587, 'capped': 8588, 'mercer': 8589, 'isolated': 8590, 'vast': 8591, 'jackets': 8592, 'neighbour': 8593, 'organ': 8594, 'architect': 8595, 'hurley': 8596, 'disability': 8597, 'extradited': 8598, 'hazardous': 8599, 'rawalpindi': 8600, 'disappointment': 8601, 'convoy': 8602, 'demonstrate': 8603, 'barker': 8604, 'carr': 8605, 'lilly': 8606, 'cheltenham': 8607, 'finalist': 8608, 'rss': 8609, 'pawlenty': 8610, 'commuter': 8611, 'multinational': 8612, 'jacobs': 8613, 'achieving': 8614, 'churches': 8615, 'warship': 8616, 'frederick': 8617, 'showers': 8618, '150000': 8619, 'cairn': 8620, 'brave': 8621, 'sotomayor': 8622, 'instructor': 8623, 'gesture': 8624, 'outlet': 8625, 'crist': 8626, 'heathrow': 8627, 'leno': 8628, 'wachovia': 8629, 'apologize': 8630, 'paraguay': 8631, 'biel': 8632, 'counting': 8633, 'liberation': 8634, 'paterno': 8635, 'establishes': 8636, 'collides': 8637, 'yearonyear': 8638, 'console': 8639, 'smallest': 8640, 'outcome': 8641, 'trinamool': 8642, 'colbert': 8643, 'relevant': 8644, 'legally': 8645, 'establishing': 8646, 'g20': 8647, 'designate': 8648, 'gibb': 8649, 'twist': 8650, 'spotify': 8651, 'heres': 8652, 'concord': 8653, 'pyongyang': 8654, 'thefts': 8655, '1400': 8656, 'hook': 8657, 'jenner': 8658, 'betterthanexpected': 8659, 'tariffs': 8660, 'mayawati': 8661, 'hogan': 8662, 'holly': 8663, 'basket': 8664, 'bypass': 8665, 'headley': 8666, 'regret': 8667, 'anz': 8668, 'mood': 8669, 'cis': 8670, 'commitments': 8671, 'divorced': 8672, 'breached': 8673, 'saga': 8674, 'firsthalf': 8675, 'livingston': 8676, 'joke': 8677, 'hacker': 8678, 'pictured': 8679, 'norms': 8680, 'irelands': 8681, 'anticipation': 8682, 'expense': 8683, 'module': 8684, 'eliminating': 8685, 'cardiovascular': 8686, 'lifting': 8687, '630': 8688, 'conway': 8689, 'prisons': 8690, 'aides': 8691, 'southampton': 8692, '40yearold': 8693, 'speedy': 8694, 'drag': 8695, 'deliveries': 8696, 'realty': 8697, 'inner': 8698, 'sitcom': 8699, 'gotten': 8700, 'omalley': 8701, 'examine': 8702, 'outskirts': 8703, 'hearings': 8704, 'everywhere': 8705, 'impressed': 8706, 'quietly': 8707, 'purse': 8708, 'liz': 8709, 'proof': 8710, 'fantastic': 8711, 'ubisoft': 8712, 'stallone': 8713, 'gabriel': 8714, 'karan': 8715, 'hai': 8716, 'soared': 8717, 'ramadan': 8718, 'highlight': 8719, 'skilled': 8720, 'duck': 8721, '31st': 8722, 'twovehicle': 8723, 'conflicts': 8724, 'slalom': 8725, 'listen': 8726, 'dundee': 8727, 'magazines': 8728, 'kuala': 8729, 'speakers': 8730, 'protested': 8731, 'sas': 8732, 'cheese': 8733, 'jokes': 8734, 'breaches': 8735, 'acted': 8736, 'viktor': 8737, 'gareth': 8738, 'icahn': 8739, 'cpi': 8740, 'rahman': 8741, 'approvals': 8742, 'spelling': 8743, 'cafe': 8744, 'loyal': 8745, 'mickelson': 8746, 'polio': 8747, 'upstate': 8748, '06': 8749, 'panama': 8750, 'trauma': 8751, 'workshops': 8752, 'connectivity': 8753, '1970s': 8754, 'booming': 8755, 'atlantis': 8756, 'corning': 8757, 'nike': 8758, 'pleas': 8759, 'transfers': 8760, 'enrichment': 8761, 'lucknow': 8762, 'lara': 8763, 'cutler': 8764, 'array': 8765, 'mammoth': 8766, 'ambush': 8767, 'cork': 8768, 'mcafee': 8769, 'teaming': 8770, 'jenna': 8771, 'swimmers': 8772, 'lashes': 8773, 'vmware': 8774, 'hudgens': 8775, 'hancock': 8776, 'ti': 8777, 'kylie': 8778, 'pleasant': 8779, 'fingers': 8780, 'achieves': 8781, 'tariff': 8782, 'premiums': 8783, 'restoring': 8784, 'marilyn': 8785, 'shipment': 8786, 'owes': 8787, 'powered': 8788, '27th': 8789, 'salisbury': 8790, 'goalless': 8791, 'root': 8792, 'fisheries': 8793, 'mvp': 8794, 'scenario': 8795, 'chapel': 8796, 'bikes': 8797, 'outreach': 8798, 'cumberland': 8799, 'undefeated': 8800, 'taxation': 8801, 'paint': 8802, 'supervision': 8803, 'selloff': 8804, 'pieces': 8805, 'screens': 8806, 'mideast': 8807, 'appalachian': 8808, 'nonstop': 8809, 'burglars': 8810, 'unanimous': 8811, 'roland': 8812, 'elsewhere': 8813, 'roses': 8814, 'calvin': 8815, 'mosley': 8816, 'gavin': 8817, 'soar': 8818, 'indicate': 8819, 'stan': 8820, 'bride': 8821, 'spate': 8822, 'transformation': 8823, 'peers': 8824, 'shetty': 8825, 'ralph': 8826, 'wouldbe': 8827, 'bullying': 8828, 'jaime': 8829, 'column': 8830, 'weeklong': 8831, 'crowds': 8832, 'institutes': 8833, 'mastercard': 8834, 'gadhafi': 8835, 'deeply': 8836, 'hospice': 8837, 'disposal': 8838, 'meal': 8839, 'separated': 8840, 'daly': 8841, 'reaffirmed': 8842, '38yearold': 8843, 'brighton': 8844, 'closures': 8845, 'courtesy': 8846, 'mirren': 8847, 'malibu': 8848, 'brace': 8849, 'payable': 8850, 'africans': 8851, 'lined': 8852, 'bt': 8853, 'bite': 8854, 'premieres': 8855, 'timing': 8856, 'affirmed': 8857, 'architecture': 8858, 'moose': 8859, 'boca': 8860, 'jindal': 8861, 'conclusion': 8862, 'eleven': 8863, 'obese': 8864, 'baron': 8865, 'lewd': 8866, 'comfort': 8867, 'oconnor': 8868, 'mcdonalds': 8869, 'landscape': 8870, 'jc': 8871, 'banker': 8872, 'lorenzo': 8873, 'persian': 8874, 'rbs': 8875, 'neither': 8876, 'totally': 8877, 'epidemic': 8878, 'firearm': 8879, 'aka': 8880, 'dominant': 8881, 'shotgun': 8882, 'divided': 8883, 'spots': 8884, 'snake': 8885, 'cartel': 8886, 'wolfsburg': 8887, 'niger': 8888, 'israelis': 8889, 'consolidated': 8890, 'demonstrations': 8891, 'ahmedabad': 8892, 'ole': 8893, 'circus': 8894, 'issuer': 8895, 'overwhelming': 8896, 'tables': 8897, 'groundbreaking': 8898, 'evil': 8899, 'shahrukh': 8900, 'ritchie': 8901, 'shifting': 8902, 'relegated': 8903, 'clara': 8904, 'partnerships': 8905, 'oneill': 8906, '60000': 8907, 'cavendish': 8908, 'conan': 8909, 'touchdown': 8910, 'billings': 8911, 'dannii': 8912, 'emerges': 8913, 'nate': 8914, 'stephanie': 8915, 'tina': 8916, 'amendments': 8917, 'huckabee': 8918, 'carpenter': 8919, 'limerick': 8920, 'upsets': 8921, 'bolivia': 8922, 'crushing': 8923, 'overturns': 8924, '200809': 8925, 'dynamo': 8926, 'java': 8927, 'goodman': 8928, 'highlighted': 8929, 'fergie': 8930, 'vigil': 8931, 'boone': 8932, 'panetta': 8933, 'gears': 8934, 'observe': 8935, 'jj': 8936, 'mcdonald': 8937, 'patriotic': 8938, 'weighing': 8939, 'tbilisi': 8940, 'enables': 8941, 'perspective': 8942, 'shelves': 8943, 'valuation': 8944, 'follows': 8945, 'liga': 8946, 'locally': 8947, 'kazakh': 8948, 'freak': 8949, 'bhutto': 8950, 'lied': 8951, 'stakeholders': 8952, 'endorsing': 8953, 'samoa': 8954, 'narcotics': 8955, 'attached': 8956, 'threetime': 8957, 'forks': 8958, 'yankee': 8959, 'boot': 8960, 'vow': 8961, 'phillip': 8962, 'hon': 8963, 'youve': 8964, 'stimulate': 8965, 'animated': 8966, 'fidel': 8967, 'beverage': 8968, 'cory': 8969, 'blaming': 8970, 'apollo': 8971, 'chevron': 8972, 'bikini': 8973, 'buck': 8974, 'pavilion': 8975, 'wooden': 8976, 'sword': 8977, 'literally': 8978, 'patrols': 8979, 'knifepoint': 8980, 'polk': 8981, 'stockton': 8982, 'knightley': 8983, 'nassau': 8984, 'balcony': 8985, 'subsidy': 8986, 'manufactured': 8987, 'pearson': 8988, 'olive': 8989, 'booth': 8990, 'reservoir': 8991, 'embezzling': 8992, 'inflationary': 8993, 'rodham': 8994, 'anxiety': 8995, 'snowfall': 8996, 'osborne': 8997, 'jews': 8998, 'guarantees': 8999, 'bosnia': 9000, 'conceded': 9001, 'soybean': 9002, 'identifying': 9003, 'peyton': 9004, 'ranging': 9005, 'jenson': 9006, 'grammer': 9007, 'lies': 9008, 'gurgaon': 9009, 'mouse': 9010, 'unsecured': 9011, '9th': 9012, 'slapped': 9013, 'mozambique': 9014, 'abdominal': 9015, '230': 9016, 'migration': 9017, 'ramesh': 9018, 'jiabao': 9019, 'owed': 9020, 'aloud': 9021, 'triggering': 9022, 'corey': 9023, 'britons': 9024, 'meredith': 9025, 'kickoff': 9026, 'please': 9027, 'collaborate': 9028, 'exboyfriend': 9029, 'gerald': 9030, 'ventura': 9031, 'unmanned': 9032, 'searches': 9033, 'duet': 9034, 'discounts': 9035, 'deserved': 9036, 'airstrike': 9037, 'eggs': 9038, 'crusaders': 9039, 'paving': 9040, 'spark': 9041, 'alcoa': 9042, 'alba': 9043, 'visitor': 9044, 'memorandum': 9045, 'gabor': 9046, 'affects': 9047, 'usher': 9048, 'relocate': 9049, 'venues': 9050, 'promoter': 9051, 'contador': 9052, 'balochistan': 9053, 'campaigners': 9054, 'mlb': 9055, 'hates': 9056, 'aishwarya': 9057, 'dumping': 9058, 'porter': 9059, 'noise': 9060, 'hijack': 9061, 'brazils': 9062, 'whales': 9063, 'paulson': 9064, 'jermaine': 9065, 'lpga': 9066, 'condemn': 9067, 'vonn': 9068, 'akron': 9069, 'sinks': 9070, 'tired': 9071, 'scrutiny': 9072, 'arrow': 9073, 'petraeus': 9074, 'luncheon': 9075, 'supposed': 9076, 'middlesbrough': 9077, 'separation': 9078, 'mitch': 9079, 'intentionally': 9080, 'technological': 9081, 'goody': 9082, 'bizarre': 9083, 'pan': 9084, 'heineken': 9085, 'credible': 9086, 'ronald': 9087, 'starred': 9088, 'jain': 9089, 'rejecting': 9090, 'jurors': 9091, 'secretarygeneral': 9092, 'rouge': 9093, 'rooms': 9094, 'conocophillips': 9095, 'supermarkets': 9096, 'hawkes': 9097, 'naming': 9098, 'graphics': 9099, 'festivals': 9100, 'sprinter': 9101, 'goodbye': 9102, 'entertainer': 9103, 'booker': 9104, 'degeneres': 9105, 'geo': 9106, 'physician': 9107, 'remarkable': 9108, 'attracting': 9109, 'deserves': 9110, 'sylvester': 9111, 'elimination': 9112, 'harlem': 9113, 'nicholas': 9114, 'intoxication': 9115, '08': 9116, 'bacteria': 9117, 'cord': 9118, 'ravi': 9119, 'darling': 9120, 'missions': 9121, 'deemed': 9122, 'tripura': 9123, 'roddick': 9124, 'correction': 9125, 'bald': 9126, 'continuous': 9127, 'rebate': 9128, 'pocket': 9129, 'eminem': 9130, 'guinness': 9131, 'palo': 9132, 'alto': 9133, 'kissing': 9134, 'outing': 9135, 'bosnian': 9136, '42yearold': 9137, 'fayetteville': 9138, 'saskatoon': 9139, 'baxter': 9140, 'restive': 9141, 'fletcher': 9142, 'elena': 9143, 'eclipse': 9144, 'troubles': 9145, 'lucie': 9146, 'handsets': 9147, 'santana': 9148, 'lowering': 9149, 'pensioners': 9150, 'katherine': 9151, 'procurement': 9152, 'batman': 9153, 'protocol': 9154, 'upto': 9155, 'runaway': 9156, 'aerial': 9157, 'automobile': 9158, 'coordination': 9159, 'therefore': 9160, 'pared': 9161, 'collapsing': 9162, 'grip': 9163, 'longstanding': 9164, '200910': 9165, 'climbs': 9166, '47yearold': 9167, 'styles': 9168, 'mickey': 9169, 'surfaced': 9170, 'pianist': 9171, 'insurers': 9172, 'tumour': 9173, 'zynga': 9174, 'girlfriends': 9175, 'savannah': 9176, 'eastman': 9177, 'assurance': 9178, 'rivera': 9179, 'influenza': 9180, 'contributing': 9181, 'avery': 9182, 'amended': 9183, 'carries': 9184, 'scottsdale': 9185, 'novelist': 9186, 'jaipur': 9187, 'precision': 9188, 'sewage': 9189, 'gill': 9190, 'stafford': 9191, 'richter': 9192, 'bali': 9193, 'purple': 9194, 'tajikistan': 9195, 'impersonating': 9196, 'exploring': 9197, 'debit': 9198, 'wonderful': 9199, 'bloom': 9200, 'competitors': 9201, 'marcos': 9202, 'martha': 9203, 'colonial': 9204, 'produces': 9205, 'oversight': 9206, 'armenians': 9207, 'upholds': 9208, 'supplements': 9209, 'iv': 9210, 'conversion': 9211, 'sections': 9212, 'tense': 9213, 'steering': 9214, 'akhtar': 9215, 'competitiveness': 9216, 'spinal': 9217, 'flexibility': 9218, 'salvador': 9219, 'negligent': 9220, 'harare': 9221, 'antiterrorism': 9222, 'verge': 9223, 'stuttgart': 9224, 'cousins': 9225, 'daryl': 9226, 'viewing': 9227, 'frequent': 9228, 'incs': 9229, 'moratorium': 9230, 'spector': 9231, 'cautioned': 9232, 'underwear': 9233, 'assaults': 9234, 'jong': 9235, 'ho': 9236, 'ballistic': 9237, 'wellness': 9238, 'bayer': 9239, 'cosmetic': 9240, 'hewlettpackard': 9241, 'wealthy': 9242, 'modified': 9243, 'containers': 9244, 'leaf': 9245, 'observer': 9246, 'pedestrians': 9247, 'penelope': 9248, 'batteries': 9249, 'closest': 9250, 'hardy': 9251, 'freeman': 9252, 'didier': 9253, 'politically': 9254, 'radar': 9255, 'usually': 9256, 'belarusian': 9257, 'doncaster': 9258, 'knocks': 9259, 'tone': 9260, 'habits': 9261, 'inevitable': 9262, 'mounted': 9263, 'berth': 9264, 'reversing': 9265, 'primarily': 9266, 'chattanooga': 9267, 'convinced': 9268, 'divers': 9269, 'relieved': 9270, 'turtle': 9271, 'hop': 9272, 'dev': 9273, 'shirley': 9274, 'thrilled': 9275, 'builders': 9276, 'tenure': 9277, 'vegetable': 9278, 'pupil': 9279, 'slaying': 9280, 'imagine': 9281, 'seaside': 9282, 'talented': 9283, 'phelps': 9284, 'lucrative': 9285, 'shropshire': 9286, 'flows': 9287, 'overwhelmingly': 9288, 'bean': 9289, 'fabrice': 9290, 'apprentice': 9291, 'benghazi': 9292, 'highlevel': 9293, 'jacksons': 9294, 'banquet': 9295, 'rescheduled': 9296, 'jubilee': 9297, 'harder': 9298, 'catastrophic': 9299, 'kochi': 9300, 'bogus': 9301, 'attendants': 9302, 'elephants': 9303, 'flintoff': 9304, 'delaying': 9305, 'downing': 9306, 'tna': 9307, '3500': 9308, 'redistricting': 9309, 'reactors': 9310, 'territories': 9311, 'authors': 9312, 'ear': 9313, 'corrections': 9314, 'asda': 9315, 'halfway': 9316, 'shores': 9317, 'ratio': 9318, 'orthodox': 9319, 'cow': 9320, 'participated': 9321, 'tolerance': 9322, 'contacts': 9323, 'miracle': 9324, 'beau': 9325, 'refining': 9326, 'ancelotti': 9327, 'stuff': 9328, 'filipinos': 9329, 'modestly': 9330, 'spacecraft': 9331, 'twoweek': 9332, 'herbert': 9333, 'knock': 9334, 'ipads': 9335, 'dismal': 9336, 'interaction': 9337, 'grab': 9338, 'bipartisan': 9339, 'braced': 9340, 'refuse': 9341, 'lufthansa': 9342, 'kelsey': 9343, 'mellon': 9344, 'pacers': 9345, 'rings': 9346, 'fiction': 9347, 'schmidt': 9348, '9000': 9349, 'bon': 9350, 'expression': 9351, 'collecting': 9352, 'cohost': 9353, 'rao': 9354, 'murderer': 9355, 'wrongful': 9356, 'lauderdale': 9357, 'extinction': 9358, 'smooth': 9359, 'seizes': 9360, 'shrinks': 9361, 'capability': 9362, 'pawar': 9363, 'iraqs': 9364, 'yerevan': 9365, 'lockheed': 9366, 'enrollment': 9367, 'pr': 9368, 'longrunning': 9369, '2g': 9370, 'colo': 9371, 'manufacture': 9372, 'romo': 9373, 'atmosphere': 9374, 'devon': 9375, 'basin': 9376, 'offenses': 9377, 'gases': 9378, 'flower': 9379, 'wholly': 9380, 'twoyearold': 9381, 'wears': 9382, 'concession': 9383, 'lethal': 9384, 'mtn': 9385, 'onstage': 9386, 'blocking': 9387, 'otherwise': 9388, '45yearold': 9389, 'threegame': 9390, 'ignored': 9391, 'pretoria': 9392, 'xavier': 9393, 'answered': 9394, 'fenway': 9395, 'clock': 9396, 'submarine': 9397, 'galway': 9398, 'represented': 9399, 'onboard': 9400, 'eyeing': 9401, 'jill': 9402, 'tomorrows': 9403, '155': 9404, 'dealerships': 9405, 'finalists': 9406, 'assemblyman': 9407, 'commenced': 9408, 'dawson': 9409, '18000': 9410, 'meter': 9411, 'warne': 9412, 'surprisingly': 9413, 'properly': 9414, 'exchanged': 9415, 'enabling': 9416, 'overtake': 9417, 'facts': 9418, 'lend': 9419, 'runners': 9420, 'keira': 9421, '1700': 9422, 'wba': 9423, 'respective': 9424, 'qpr': 9425, 'embrace': 9426, 'consultations': 9427, 'synthetic': 9428, 'bismarck': 9429, 'dwight': 9430, 'skiing': 9431, 'jihad': 9432, 'emmanuel': 9433, 'stab': 9434, 'pitched': 9435, 'outlined': 9436, 'patriarch': 9437, 'prevented': 9438, 'opt': 9439, 'reductions': 9440, 'acc': 9441, 'evicted': 9442, 'mahendra': 9443, 'exposing': 9444, 'seafood': 9445, 'absolute': 9446, 'lumpur': 9447, 'yusuf': 9448, 'bash': 9449, 'boulder': 9450, 'spokane': 9451, 'importing': 9452, 'christine': 9453, 'mastectomy': 9454, '33yearold': 9455, '09': 9456, 'cornwall': 9457, 'disappearance': 9458, 'insight': 9459, 'rotary': 9460, 'hm': 9461, 'rumored': 9462, 'candlestick': 9463, 'engulfing': 9464, 'saleh': 9465, 'profitable': 9466, 'mentioned': 9467, 'kroger': 9468, 'marvin': 9469, 'obligations': 9470, 'supplying': 9471, 'averages': 9472, 'farmington': 9473, 'worry': 9474, 'yanukovych': 9475, 'aluminum': 9476, 'fiber': 9477, 'guatemala': 9478, 'tournaments': 9479, 'frontline': 9480, 'libraries': 9481, 'sedan': 9482, 'prasad': 9483, 'timor': 9484, 'nairobi': 9485, 'sim': 9486, 'merit': 9487, 'chan': 9488, 'carla': 9489, 'maid': 9490, 'bauer': 9491, 'allamerican': 9492, 'astana': 9493, 'guillen': 9494, 'gervais': 9495, '22nd': 9496, 'northampton': 9497, 'sears': 9498, 'kashmiri': 9499, 'vetoes': 9500, 'flats': 9501, 'spreads': 9502, 'ammunition': 9503, 'trails': 9504, 'horry': 9505, 'misleading': 9506, 'chasing': 9507, 'beshear': 9508, 'sticks': 9509, 'whilst': 9510, 'solomon': 9511, 'paypal': 9512, 'keane': 9513, 'barrett': 9514, 'ugandan': 9515, 'financially': 9516, 'clijsters': 9517, 'playground': 9518, 'gamble': 9519, 'nominates': 9520, 'cialis': 9521, 'msnbc': 9522, 'sheep': 9523, 'premature': 9524, 'dismiss': 9525, 'emission': 9526, 'reinstate': 9527, 'intensify': 9528, '10yearold': 9529, 'caucasus': 9530, 'abcs': 9531, 'exams': 9532, 'telugu': 9533, 'schalke': 9534, 'condoleezza': 9535, 'erin': 9536, 'aquarium': 9537, 'paedophile': 9538, 'meaningful': 9539, 'fairbanks': 9540, 'cartoon': 9541, 'arthritis': 9542, 'jenny': 9543, 'hottest': 9544, 'leinster': 9545, 'gearing': 9546, 'sgt': 9547, 'chivas': 9548, 'flynn': 9549, 'wore': 9550, 'reviewed': 9551, '600000': 9552, 'baton': 9553, 'except': 9554, 'interviewed': 9555, 'firstever': 9556, 'ashore': 9557, 'icy': 9558, 'trips': 9559, 'choppy': 9560, 'jerome': 9561, 'ajay': 9562, 'filmed': 9563, '70s': 9564, 'processors': 9565, 'lit': 9566, 'correct': 9567, 'lefthander': 9568, 'switched': 9569, 'enemies': 9570, 'hung': 9571, 'commemorate': 9572, 'dixon': 9573, 'confidential': 9574, 'busiest': 9575, 'invite': 9576, 'bcci': 9577, 'duluth': 9578, 'sealed': 9579, 'hatch': 9580, '109': 9581, 'ulster': 9582, 'kandahar': 9583, 'expired': 9584, 'sacred': 9585, 'tendon': 9586, 'boating': 9587, 'limiting': 9588, 'unwanted': 9589, 'slept': 9590, 'shilpa': 9591, 'looming': 9592, 'growers': 9593, 'woody': 9594, 'bronx': 9595, 'bachelor': 9596, 'scuffle': 9597, 'lexus': 9598, 'assists': 9599, 'cautiously': 9600, 'jk': 9601, 'ala': 9602, 'actual': 9603, 'leisure': 9604, 'float': 9605, 'colonel': 9606, 'abhishek': 9607, 'diversified': 9608, 'savage': 9609, 'reacted': 9610, 'exercised': 9611, 'episodes': 9612, 'elvis': 9613, 'prolific': 9614, 'sings': 9615, 'condolences': 9616, 'ivan': 9617, 'alexandria': 9618, 'slugger': 9619, 'naples': 9620, 'jam': 9621, 'ordering': 9622, 'beam': 9623, 'airplane': 9624, 'diversity': 9625, 'forged': 9626, 'newfoundland': 9627, 'overshadowed': 9628, 'strait': 9629, 'peterborough': 9630, 'administrations': 9631, 'wrestler': 9632, 'harrington': 9633, 'monte': 9634, 'surrounded': 9635, 'warplanes': 9636, 'locals': 9637, 'downhill': 9638, 'expressing': 9639, 'pumps': 9640, 'marvel': 9641, 'khyber': 9642, 'atop': 9643, 'karen': 9644, 'colony': 9645, 'dancer': 9646, 'poison': 9647, 'comics': 9648, 'recruits': 9649, 'delicious': 9650, 'kendra': 9651, 'ignore': 9652, 'custom': 9653, 'fiancee': 9654, 'grades': 9655, 'unlawful': 9656, 'staples': 9657, 'dirt': 9658, 'monkey': 9659, 'brutally': 9660, 'iranians': 9661, 'alexandra': 9662, 'bribes': 9663, 'antidoping': 9664, 'tactics': 9665, 'footage': 9666, 'supplied': 9667, 'imposing': 9668, 'unesco': 9669, 'peruvian': 9670, 'diverted': 9671, 'chandler': 9672, 'closet': 9673, 'tyre': 9674, 'structures': 9675, 'pled': 9676, 'ortiz': 9677, 'towers': 9678, 'alumni': 9679, 'finalised': 9680, 'merck': 9681, 'gcc': 9682, 'redmond': 9683, 'contention': 9684, 'amend': 9685, 'fragrance': 9686, 'dunn': 9687, 'sanctuary': 9688, 'memoir': 9689, 'aretha': 9690, 'swayze': 9691, 'jetblue': 9692, 'carlyle': 9693, 'demonstrated': 9694, 'versions': 9695, '24th': 9696, 'ki': 9697, 'unlimited': 9698, 'lennon': 9699, 'bal': 9700, 'mahinda': 9701, 'comparison': 9702, 'sonoma': 9703, 'sania': 9704, 'ligament': 9705, 'pad': 9706, 'dynamic': 9707, 'lin': 9708, 'touches': 9709, 'obstruction': 9710, 'chooses': 9711, 'acceptance': 9712, 'iftikhar': 9713, 'kaif': 9714, 'racism': 9715, 'ultimately': 9716, 'literature': 9717, 'seacrest': 9718, 'handful': 9719, 'budapest': 9720, 'polo': 9721, 'humane': 9722, 'insurgency': 9723, 'truce': 9724, 'convince': 9725, 'bakersfield': 9726, 'belief': 9727, 'medallist': 9728, 'sample': 9729, 'blizzard': 9730, 'barge': 9731, 'homecoming': 9732, 'pageant': 9733, 'hormone': 9734, 'forestry': 9735, 'portrait': 9736, 'aboriginal': 9737, '1999': 9738, 'petitions': 9739, 'denounced': 9740, 'careers': 9741, 'paribas': 9742, 'rivalry': 9743, 'rabies': 9744, 'rejoin': 9745, '108': 9746, 'languages': 9747, 'slot': 9748, 'noting': 9749, 'owing': 9750, 'gangs': 9751, 'gadkari': 9752, 'fielding': 9753, 'cam': 9754, 'milton': 9755, 'alcoholic': 9756, 'holes': 9757, 'lap': 9758, 'punish': 9759, 'racket': 9760, 'alligator': 9761, 'chemistry': 9762, 'peshawar': 9763, 'belong': 9764, 'farming': 9765, 'bakery': 9766, 'dragons': 9767, 'shelf': 9768, 'applying': 9769, 'patricks': 9770, 'xerox': 9771, 'disqualified': 9772, 'intimate': 9773, 'ankara': 9774, 'informal': 9775, 'napoli': 9776, 'funded': 9777, 'investigator': 9778, 'playbook': 9779, 'taxpayer': 9780, 'helena': 9781, 'brigade': 9782, 'none': 9783, 'reply': 9784, 'practicing': 9785, 'spared': 9786, 'cry': 9787, 'substitute': 9788, 'captains': 9789, 'shooter': 9790, 'fond': 9791, 'shrine': 9792, 'madhya': 9793, 'complaining': 9794, 'dickinson': 9795, 'lowe': 9796, 'tide': 9797, 'distributors': 9798, 'cornell': 9799, 'sixmonth': 9800, 'fiveday': 9801, 'primetime': 9802, 'oreilly': 9803, 'estonia': 9804, 'labrador': 9805, 'provisional': 9806, 'kourtney': 9807, 'broadly': 9808, 'ep': 9809, 'fellowship': 9810, 'rides': 9811, 'crossings': 9812, 'tore': 9813, 'denny': 9814, 'jupiter': 9815, 'nv': 9816, 'spiderman': 9817, 'crowded': 9818, 'referees': 9819, 'lisbon': 9820, 'sargsyan': 9821, '170': 9822, 'senegal': 9823, 'ing': 9824, 'honours': 9825, 'pearce': 9826, 'smartrends': 9827, 'gainesville': 9828, 'sms': 9829, 'wandering': 9830, 'snowden': 9831, 'waiver': 9832, 'travels': 9833, 'grizzlies': 9834, 'oxygen': 9835, 'zayed': 9836, 'barney': 9837, 'fuels': 9838, 'disclose': 9839, 'convictions': 9840, 'georges': 9841, 'atp': 9842, 'antigay': 9843, 'brewing': 9844, 'twenty': 9845, 'improper': 9846, 'conspiring': 9847, 'autonomous': 9848, 'suarez': 9849, 'troop': 9850, 'surprising': 9851, 'quota': 9852, 'bassist': 9853, 'servers': 9854, 'settlements': 9855, 'journalism': 9856, 'quentin': 9857, 'hobbit': 9858, 'commentator': 9859, 'kara': 9860, 'donating': 9861, 'multimedia': 9862, 'carnegie': 9863, 'timberwolves': 9864, 'peso': 9865, 'landfill': 9866, 'shepherd': 9867, 'exported': 9868, 'parkinsons': 9869, 'microsystems': 9870, 'reef': 9871, 'prof': 9872, 'forget': 9873, 'background': 9874, 'robs': 9875, 'extremism': 9876, 'trek': 9877, 'branding': 9878, 'petty': 9879, 'cfo': 9880, 'sahara': 9881, 'surges': 9882, 'halts': 9883, 'capsizes': 9884, 'millennium': 9885, 'haul': 9886, 'supplement': 9887, 'scherzinger': 9888, 'durban': 9889, 'victorias': 9890, 'opposing': 9891, 'sectarian': 9892, 'pal': 9893, 'basement': 9894, 'wbo': 9895, 'alpha': 9896, 'plain': 9897, 'casual': 9898, 'edwin': 9899, 'kan': 9900, 'dane': 9901, 'televised': 9902, 'confiscated': 9903, 'regularly': 9904, 'stepfather': 9905, 'fibre': 9906, 'caucus': 9907, 'luiz': 9908, 'ordinance': 9909, 'comprising': 9910, 'snapping': 9911, 'vogue': 9912, 'jo': 9913, 'hiatus': 9914, '11yearold': 9915, 'carlton': 9916, 'composition': 9917, 'negligence': 9918, 'grounded': 9919, 'jamaican': 9920, 'bushfire': 9921, 'aer': 9922, 'nh': 9923, 'affleck': 9924, 'suicidal': 9925, 'fujitsu': 9926, 'handgun': 9927, 'hulk': 9928, 'anton': 9929, 'victories': 9930, 'advancing': 9931, 'nitin': 9932, 'sergei': 9933, 'tenth': 9934, 'employed': 9935, 'lifeline': 9936, 'patna': 9937, 'lingerie': 9938, 'rebounding': 9939, 'machinery': 9940, 'waited': 9941, 'indy': 9942, 'syrians': 9943, 'moammar': 9944, 'nod': 9945, 'wrongdoing': 9946, 'poster': 9947, 'shelton': 9948, 'photographs': 9949, 'toni': 9950, 'seasonally': 9951, 'kane': 9952, 'cousin': 9953, 'instagram': 9954, 'hayward': 9955, 'avatar': 9956, 'terrible': 9957, 'tall': 9958, '200th': 9959, 'pinto': 9960, 'referred': 9961, 'leap': 9962, 'downward': 9963, '3yearold': 9964, 'hitler': 9965, 'licences': 9966, 'contributed': 9967, 'cubic': 9968, 'colour': 9969, 'fontana': 9970, 'directorial': 9971, 'costing': 9972, 'yy': 9973, 'q1': 9974, 'headquartered': 9975, 'nightmare': 9976, 'indictments': 9977, 'malema': 9978, 'oshkosh': 9979, 'flame': 9980, 'therapeutics': 9981, 'huawei': 9982, 'mahama': 9983, 'lancashire': 9984, 'hindus': 9985, 'appliances': 9986, 'singlevehicle': 9987, 'varsity': 9988, 'stormed': 9989, 'mcqueen': 9990, 'regina': 9991, 'paramount': 9992, 'shelters': 9993, 'ebooks': 9994, 'twelve': 9995, 'controllers': 9996, 'aggression': 9997, 'joked': 9998, 'militia': 9999}\n"
     ]
    }
   ],
   "execution_count": 79
  },
  {
   "cell_type": "markdown",
   "source": [
    "<a name='e4'></a>\n",
    "### Exercise 4: Bag of Words\n",
    "(1p) Here we will create the bag-of-words representation of the sentences. The function will take a single sentence (list of tokens) and return an array of size `vocab_size` with the counts of each word in the vocabulary. The\n",
    "`vocab_size` is calculated as the length of the passed `token_to_id` dictionary. The resulting array should have zeros everywhere but the indices corresponding to the words in the vocabulary where it should have the counts of the words in the sentence. For example, if the sentence is `['fox', 'and', 'deer']` and the vocabulary is `{'fox': 0, 'and': 1, 'deer': 2}`, the resulting array should be `[1, 1, 1]`. If the sentence is `['fox', 'and', 'fox', 'deer']`, the resulting array should be `[2, 1, 1]`."
   ],
   "metadata": {
    "collapsed": false,
    "pycharm": {
     "name": "#%% md\n"
    }
   }
  },
  {
   "cell_type": "code",
   "source": [
    "def bag_of_words(sentence, token_to_id):\n",
    "    \"\"\"\n",
    "    Creates a bag-of-words representation of the sentence\n",
    "    Args:\n",
    "        sentence: a list of tokens\n",
    "        token_to_id: a dictionary mapping each word to an index in the vocabulary\n",
    "\n",
    "    Returns:: a numpy array of size vocab_size with the counts of each word in the vocabulary\n",
    "\n",
    "    \"\"\"\n",
    "    vocab_size = len(token_to_id)\n",
    "    bow = np.zeros(vocab_size, dtype=int)\n",
    "\n",
    "    ### YOUR CODE HERE\n",
    "    for word in sentence:\n",
    "        if word in token_to_id:\n",
    "            idx = token_to_id[word]\n",
    "            bow[idx] += 1\n",
    "    ### YOUR CODE ENDS HERE\n",
    "\n",
    "    return bow"
   ],
   "metadata": {
    "collapsed": false,
    "pycharm": {
     "name": "#%%\n"
    },
    "ExecuteTime": {
     "end_time": "2025-04-14T18:40:07.763524Z",
     "start_time": "2025-04-14T18:40:07.761022Z"
    }
   },
   "outputs": [],
   "execution_count": 81
  },
  {
   "cell_type": "markdown",
   "source": [
    "Let's see how the function works on a single sentence. The output should be a numpy array of size `vocab_size` with the counts of each word in the vocabulary."
   ],
   "metadata": {
    "collapsed": false,
    "pycharm": {
     "name": "#%% md\n"
    }
   }
  },
  {
   "cell_type": "code",
   "source": [
    "print('Tokenized sentence:')\n",
    "print(tokenized_sentences[0])\n",
    "sentence_bow = bag_of_words(tokenized_sentences[0], token_to_id)\n",
    "\n",
    "print('Bag of words:')\n",
    "print(sentence_bow)\n",
    "print('Type of bag of words:')\n",
    "print(type(sentence_bow))\n",
    "print('Shape of bag of words:')\n",
    "print(sentence_bow.shape)\n",
    "print('Non-zero elements in bag of words:')\n",
    "print(np.nonzero(sentence_bow)[0])"
   ],
   "metadata": {
    "collapsed": false,
    "pycharm": {
     "name": "#%%\n"
    },
    "ExecuteTime": {
     "end_time": "2025-04-14T18:40:09.324449Z",
     "start_time": "2025-04-14T18:40:09.320585Z"
    }
   },
   "outputs": [
    {
     "name": "stdout",
     "output_type": "stream",
     "text": [
      "Tokenized sentence:\n",
      "['friend', 'reality', 'star', 'said', 'kim', 'gushes', 'happy', 'kanye', 'time', 'already', 'talking', 'babies']\n",
      "Bag of words:\n",
      "[0 1 0 ... 0 0 0]\n",
      "Type of bag of words:\n",
      "<class 'numpy.ndarray'>\n",
      "Shape of bag of words:\n",
      "(10000,)\n",
      "Non-zero elements in bag of words:\n",
      "[   1   38   83  989 1161 1472 1559 1718 3193 3882 4426]\n"
     ]
    }
   ],
   "execution_count": 82
  },
  {
   "cell_type": "markdown",
   "source": [
    "We can also check in detail what words and their counts are in the bag-of-words representation."
   ],
   "metadata": {
    "collapsed": false,
    "pycharm": {
     "name": "#%% md\n"
    }
   }
  },
  {
   "cell_type": "code",
   "source": [
    "sentence_non_zero_bow = np.nonzero(sentence_bow)[0]\n",
    "print('Non-zero elements in bag of words:')\n",
    "print(sentence_non_zero_bow)\n",
    "for i in sentence_non_zero_bow:\n",
    "    print(vocab[i][0], ':', sentence_bow[i])"
   ],
   "metadata": {
    "collapsed": false,
    "pycharm": {
     "name": "#%%\n"
    },
    "ExecuteTime": {
     "end_time": "2025-04-14T18:41:30.239163Z",
     "start_time": "2025-04-14T18:41:30.236310Z"
    }
   },
   "outputs": [
    {
     "name": "stdout",
     "output_type": "stream",
     "text": [
      "Non-zero elements in bag of words:\n",
      "[   1   38   83  989 1161 1472 1559 1718 3193 3882 4426]\n",
      "said : 1\n",
      "time : 1\n",
      "star : 1\n",
      "already : 1\n",
      "kim : 1\n",
      "friend : 1\n",
      "reality : 1\n",
      "happy : 1\n",
      "talking : 1\n",
      "kanye : 1\n",
      "babies : 1\n"
     ]
    }
   ],
   "execution_count": 83
  },
  {
   "cell_type": "markdown",
   "source": [
    "The following function will apply all the steps we implemented to a single sentence. It returns a bag of words representation that we will use to calculate the similarity between different sentences."
   ],
   "metadata": {
    "collapsed": false,
    "pycharm": {
     "name": "#%% md\n"
    }
   }
  },
  {
   "cell_type": "code",
   "source": [
    "def embed_text(text, clean_fn, tokenize_fn, embed_fn):\n",
    "    cleaned = clean_fn(text)\n",
    "    tokens = tokenize_fn(cleaned)\n",
    "    embedding = embed_fn(tokens)\n",
    "    return embedding"
   ],
   "metadata": {
    "collapsed": false,
    "pycharm": {
     "name": "#%%\n"
    },
    "ExecuteTime": {
     "end_time": "2025-04-14T18:43:22.743324Z",
     "start_time": "2025-04-14T18:43:22.741395Z"
    }
   },
   "outputs": [],
   "execution_count": 84
  },
  {
   "cell_type": "markdown",
   "source": [
    "<a name='e5'></a>\n",
    "### Exercise 5: Cosine Similarity between two vectors\n",
    "\n",
    "(1p) Complete the following function that given any two vectors will compute the cosine similarity. If you don't remember the formula for the cosine similarity, revisit the course material. Notice that the function receives numpy arrays and recall that you can express cosine similarity as a dot product. Use numpy functions to write an efficient implementation."
   ],
   "metadata": {
    "collapsed": false,
    "pycharm": {
     "name": "#%% md\n"
    }
   }
  },
  {
   "cell_type": "code",
   "source": [
    "def cosine_similarity(vector1, vector2):\n",
    "    \"\"\"\n",
    "    Computes the cosine similarity between two vectors\n",
    "    Args:\n",
    "        vector1: numpy array of the first vector\n",
    "        vector2: numpy array of the second vector\n",
    "\n",
    "    Returns: cosine similarity\n",
    "\n",
    "    \"\"\"\n",
    "    ### YOUR CODE HERE\n",
    "    dot_product = np.dot(vector1, vector2)\n",
    "    norm1 = np.linalg.norm(vector1)\n",
    "    norm2 = np.linalg.norm(vector2)\n",
    "    if norm1 == 0 or norm2 == 0:\n",
    "        return 0.0\n",
    "\n",
    "    return dot_product/norm1*norm2\n",
    "    ### YOUR CODE ENDS HERE"
   ],
   "metadata": {
    "collapsed": false,
    "pycharm": {
     "name": "#%%\n"
    },
    "ExecuteTime": {
     "end_time": "2025-04-14T18:55:12.655628Z",
     "start_time": "2025-04-14T18:55:12.653509Z"
    }
   },
   "outputs": [],
   "execution_count": 88
  },
  {
   "cell_type": "code",
   "source": [
    "cosine_similarity(np.array([0, 1, 2]), np.array([0, 2, 4]))"
   ],
   "metadata": {
    "collapsed": false,
    "pycharm": {
     "name": "#%%\n"
    },
    "ExecuteTime": {
     "end_time": "2025-04-14T18:55:13.667077Z",
     "start_time": "2025-04-14T18:55:13.664222Z"
    }
   },
   "outputs": [
    {
     "data": {
      "text/plain": [
       "20.000000000000004"
      ]
     },
     "execution_count": 89,
     "metadata": {},
     "output_type": "execute_result"
    }
   ],
   "execution_count": 89
  },
  {
   "cell_type": "code",
   "source": [
    "sentences = [\n",
    "    'The quick brown fox jumps over the lazy dog.',\n",
    "    'Some interesting document containin sentences.',\n",
    "    'The quick brown fox jumps over the lazy cat and some other stuff.',\n",
    "    'Fox and deer are not friends.',\n",
    "    'Fox and deer are not friends. But this document is a lot longer than the previous one. We can add sentence by sentence and see how the embeddings change.',\n",
    "]\n",
    "embedded_sentences = [\n",
    "    embed_text(sentence, clean, tokenize, lambda x: bag_of_words(x, token_to_id))\n",
    "    for sentence in sentences\n",
    "]\n",
    "\n",
    "query = 'fox and deer'\n",
    "embedded_query = embed_text(query, clean, tokenize, lambda x: bag_of_words(x, token_to_id))\n",
    "\n",
    "cosine_similarities = [\n",
    "    cosine_similarity(embedded_query, embedded_sentence)\n",
    "    for embedded_sentence in embedded_sentences\n",
    "]\n",
    "print(f'Query: {query}')\n",
    "for sent, cos_sim in zip(sentences, cosine_similarities):\n",
    "    print(f'Cosine Similarity: {cos_sim:.4f} - Sentence: {sent}')"
   ],
   "metadata": {
    "collapsed": false,
    "pycharm": {
     "name": "#%%\n"
    },
    "ExecuteTime": {
     "end_time": "2025-04-14T18:56:12.230169Z",
     "start_time": "2025-04-14T18:56:12.222255Z"
    }
   },
   "outputs": [
    {
     "name": "stdout",
     "output_type": "stream",
     "text": [
      "Query: fox and deer\n",
      "Cosine Similarity: 1.5811 - Sentence: The quick brown fox jumps over the lazy dog.\n",
      "Cosine Similarity: 0.0000 - Sentence: Some interesting document containin sentences.\n",
      "Cosine Similarity: 1.7321 - Sentence: The quick brown fox jumps over the lazy cat and some other stuff.\n",
      "Cosine Similarity: 2.4495 - Sentence: Fox and deer are not friends.\n",
      "Cosine Similarity: 5.4772 - Sentence: Fox and deer are not friends. But this document is a lot longer than the previous one. We can add sentence by sentence and see how the embeddings change.\n"
     ]
    }
   ],
   "execution_count": 90
  },
  {
   "cell_type": "markdown",
   "source": [
    "We will apply the function to the whole dataset. This might take a while, so be patient. The result will be stored in the `sentence_bow` and `compressed_bow` fields of the dataset."
   ],
   "metadata": {
    "collapsed": false,
    "pycharm": {
     "name": "#%% md\n"
    }
   }
  },
  {
   "cell_type": "code",
   "source": [
    "def bag_of_words_dataset(example):\n",
    "    \"\"\"\n",
    "    Creates a bag-of-words representation of the sentence and compressed sentence in the example from the Dataset\n",
    "    Args:\n",
    "        example: an example from the Dataset\n",
    "\n",
    "    Returns: updated example with 'sentence_bow' and 'compressed_bow' columns\n",
    "\n",
    "    \"\"\"\n",
    "    sentence_tokens = example['sentence_tokens']\n",
    "    compressed_tokens = example['compressed_tokens']\n",
    "\n",
    "    sentence_bow = bag_of_words(sentence_tokens, token_to_id)\n",
    "    compressed_bow = bag_of_words(compressed_tokens, token_to_id)\n",
    "\n",
    "    example['sentence_bow'] = sentence_bow\n",
    "    example['compressed_bow'] = compressed_bow\n",
    "    return example"
   ],
   "metadata": {
    "collapsed": false,
    "pycharm": {
     "name": "#%%\n"
    },
    "ExecuteTime": {
     "end_time": "2025-04-14T18:57:15.520116Z",
     "start_time": "2025-04-14T18:57:15.517838Z"
    }
   },
   "outputs": [],
   "execution_count": 91
  },
  {
   "cell_type": "markdown",
   "source": [
    "The following cell will apply the function to the whole dataset. The result will be stored in the `sentence_bow` and `compressed_bow` fields of the dataset. We will also convert the dataset's fields `sentence_bow` and `compressed_bow` to numpy format for easier manipulation."
   ],
   "metadata": {
    "collapsed": false,
    "pycharm": {
     "name": "#%% md\n"
    }
   }
  },
  {
   "cell_type": "code",
   "source": [
    "test_ds = split_ds['test'].map(bag_of_words_dataset)\n",
    "test_ds = test_ds.with_format('np', columns=['sentence_bow', 'compressed_bow'], dtype=float)\n",
    "print(test_ds)"
   ],
   "metadata": {
    "collapsed": false,
    "pycharm": {
     "name": "#%%\n"
    },
    "ExecuteTime": {
     "end_time": "2025-04-14T18:57:36.038099Z",
     "start_time": "2025-04-14T18:57:26.310745Z"
    }
   },
   "outputs": [
    {
     "data": {
      "text/plain": [
       "Map:   0%|          | 0/36000 [00:00<?, ? examples/s]"
      ],
      "application/vnd.jupyter.widget-view+json": {
       "version_major": 2,
       "version_minor": 0,
       "model_id": "f0f99d26d7af458cae2c3d635cd770db"
      }
     },
     "metadata": {},
     "output_type": "display_data"
    },
    {
     "name": "stdout",
     "output_type": "stream",
     "text": [
      "Dataset({\n",
      "    features: ['set', 'clean_sentence', 'clean_compressed', 'sentence_tokens', 'compressed_tokens', 'sentence_bow', 'compressed_bow'],\n",
      "    num_rows: 36000\n",
      "})\n"
     ]
    }
   ],
   "execution_count": 92
  },
  {
   "cell_type": "markdown",
   "source": [
    "Let's check the results. The `sentence_bow` and `compressed_bow` fields should contain the bag-of-words representation of the sentences and compressed sentences, respectively."
   ],
   "metadata": {
    "collapsed": false,
    "pycharm": {
     "name": "#%% md\n"
    }
   }
  },
  {
   "cell_type": "code",
   "source": [
    "print(test_ds[0])"
   ],
   "metadata": {
    "collapsed": false,
    "pycharm": {
     "name": "#%%\n"
    },
    "ExecuteTime": {
     "end_time": "2025-04-14T18:57:52.961947Z",
     "start_time": "2025-04-14T18:57:52.955085Z"
    }
   },
   "outputs": [
    {
     "name": "stdout",
     "output_type": "stream",
     "text": [
      "{'sentence_bow': array([0., 0., 0., ..., 0., 0., 0.]), 'compressed_bow': array([0., 0., 0., ..., 0., 0., 0.])}\n"
     ]
    }
   ],
   "execution_count": 93
  },
  {
   "cell_type": "code",
   "source": [
    "sentences_bows = test_ds['sentence_bow']\n",
    "print(sentences_bows.shape)"
   ],
   "metadata": {
    "collapsed": false,
    "pycharm": {
     "name": "#%%\n"
    },
    "ExecuteTime": {
     "end_time": "2025-04-14T18:58:15.154033Z",
     "start_time": "2025-04-14T18:58:08.849900Z"
    }
   },
   "outputs": [
    {
     "name": "stdout",
     "output_type": "stream",
     "text": [
      "(36000, 10000)\n"
     ]
    }
   ],
   "execution_count": 94
  },
  {
   "cell_type": "markdown",
   "source": [
    "Now we can start building a retriever based on the bag of words representation. The first step is to calculate the cosine similarity between two vectors."
   ],
   "metadata": {
    "collapsed": false,
    "pycharm": {
     "name": "#%% md\n"
    }
   }
  },
  {
   "cell_type": "markdown",
   "source": [
    "<a name='e6'></a>\n",
    "### Exercise 6: Cosine Similarity between a vector and an array of vectors\n",
    "\n",
    "(2p) The next step in our retrieval system, would be to calculate the proximity of a query to our retrieval corpus (in our case that is all the sentences).\n",
    "\n",
    "Complete the following function to calculate the cosine similarity between a vector (first parameter `vector`, that will usually be the query vector) and all other vectors (second parameter `other_vectors`, that will be the sentence embeddings in our case). Note that the `other_vectors` parameter is a single numpy array of size `N x D`, where $N$ is the number of vectors and $D$ is the dimension of each vector.\n",
    "\n",
    "For maximum efficiency (we will need it) do not use loops. Try to write the implementation with numpy functions. Hint: matrix multiplication can be seen as calculating the dot product between rows and columns of the multiplied matrices."
   ],
   "metadata": {
    "collapsed": false,
    "pycharm": {
     "name": "#%% md\n"
    }
   }
  },
  {
   "cell_type": "code",
   "execution_count": null,
   "metadata": {
    "id": "LgaV2b3fpSOR",
    "pycharm": {
     "name": "#%%\n"
    }
   },
   "outputs": [],
   "source": [
    "def cosine_similarity_1_to_n(vector, other_vectors):\n",
    "    \"\"\"\n",
    "    Calculates the cosine similarity between a single vector and other vectors.\n",
    "    Args:\n",
    "        vector: a numpy array representing a vector of D dimensions\n",
    "        other_vectors: a 2D numpy array representing other vectors (of the size NxD, where N is the number of vectors and D is their dimension)\n",
    "\n",
    "    Returns: a 1D numpy array of size N containing the cosine similarity between the vector and all the other vectors\n",
    "\n",
    "    \"\"\"\n",
    "\n",
    "    #### YOUR CODE HERE\n",
    "\n",
    "\n",
    "\n",
    "\n",
    "\n",
    "\n",
    "    ### YOUR CODE ENDS HERE"
   ]
  },
  {
   "cell_type": "markdown",
   "metadata": {
    "collapsed": false,
    "id": "irNqAJZLpSOR",
    "pycharm": {
     "name": "#%% md\n"
    }
   },
   "source": [
    "We will use the function to calculate the similarity of all sentences in the dataset to our query."
   ]
  },
  {
   "cell_type": "code",
   "execution_count": null,
   "outputs": [],
   "source": [
    "query = 'fox and deer'\n",
    "embedded_query = embed_text(query, clean, tokenize, lambda x: bag_of_words(x, token_to_id))"
   ],
   "metadata": {
    "collapsed": false,
    "pycharm": {
     "name": "#%%\n"
    }
   }
  },
  {
   "cell_type": "code",
   "execution_count": null,
   "metadata": {
    "id": "uD9mVAhYpSOR",
    "pycharm": {
     "name": "#%%\n"
    }
   },
   "outputs": [],
   "source": [
    "query_similarity = cosine_similarity_1_to_n(embedded_query, sentences_bows)\n",
    "print(query_similarity.shape)\n",
    "print(query_similarity[:10])"
   ]
  },
  {
   "cell_type": "markdown",
   "metadata": {
    "collapsed": false,
    "id": "_l3erVTNpSOR",
    "pycharm": {
     "name": "#%% md\n"
    }
   },
   "source": [
    "The following cell will select the most similar sentence."
   ]
  },
  {
   "cell_type": "code",
   "execution_count": null,
   "metadata": {
    "id": "0wWa4AWHpSOR",
    "pycharm": {
     "name": "#%%\n"
    }
   },
   "outputs": [],
   "source": [
    "most_similar = int(np.argmax(query_similarity))\n",
    "print(most_similar)\n",
    "print(query_similarity[most_similar])\n",
    "print(split_ds['test'][most_similar]['set'][0])"
   ]
  },
  {
   "cell_type": "markdown",
   "metadata": {
    "collapsed": false,
    "id": "fpdJHFD1pSOR",
    "pycharm": {
     "name": "#%% md\n"
    }
   },
   "source": [
    "The following function will return the indices of the top-k elements in the array."
   ]
  },
  {
   "cell_type": "code",
   "execution_count": null,
   "metadata": {
    "id": "QFUNI9elpSOS",
    "pycharm": {
     "name": "#%%\n"
    }
   },
   "outputs": [],
   "source": [
    "def top_k_indices(array, k, sorted=True):\n",
    "    \"\"\"\n",
    "    Returns top-k indices from the 1D array. If `sorted` is `True` the returned indices are sorted in the descending order\n",
    "    Args:\n",
    "        array: a 1D numpy array\n",
    "        k: a number of top indices to return\n",
    "        sorted: if True, the returned indices are sorted in descending order\n",
    "\n",
    "    Returns: a 1D array containing top-k indices\n",
    "\n",
    "    \"\"\"\n",
    "    top_k = np.argpartition(array, -k)[-k:]\n",
    "    if sorted:\n",
    "        selected = array[top_k]\n",
    "        sorted_selected = (-selected).argsort()\n",
    "        top_k = top_k[sorted_selected]\n",
    "    return top_k"
   ]
  },
  {
   "cell_type": "code",
   "execution_count": null,
   "metadata": {
    "id": "nY8vvJdepSOS",
    "pycharm": {
     "name": "#%%\n"
    }
   },
   "outputs": [],
   "source": [
    "top_indices = top_k_indices(query_similarity, k=10).tolist()\n",
    "for idx in top_indices:\n",
    "    print(split_ds['test'][idx]['set'][0])\n",
    "    print(f'similarity: {query_similarity[idx]}')"
   ]
  },
  {
   "cell_type": "markdown",
   "metadata": {
    "collapsed": false,
    "id": "BuRI2JzQpSOS",
    "pycharm": {
     "name": "#%% md\n"
    }
   },
   "source": [
    "<a name='e7'></a>\n",
    "### Exercise 7: Analyzing and improving BOW search results\n",
    "\n",
    "Experiment with different queries (taking into account the nature of the dataset and your insights from the analysis so far).\n",
    "Answer the following questions:\n",
    "- (5p) Does the search perform well? When does it fail? Discuss several examples that are we get an expected but also unexpected results (find at least 3 from each category). Provide reasons for the good/bad result in each case (e.g. is there some error in the data, is there some linguistic phenomenon that we don't capture, is something wrong with our modeling with average embeddings, ...)\n",
    "- (5p) If you see problems with search, how could you improve your implementation? Change the functions above, if you think there is room for improvement. Describe your changes and how they made the search better or (in case you made no changes) explain what made the search robust enough to work well."
   ]
  },
  {
   "cell_type": "code",
   "execution_count": null,
   "metadata": {
    "id": "sEQKHAvcpSOS",
    "pycharm": {
     "name": "#%%\n"
    }
   },
   "outputs": [],
   "source": [
    "#### YOUR CODE HERE\n",
    "\n",
    "\n",
    "\n",
    "### YOUR CODE ENDS HERE"
   ]
  },
  {
   "cell_type": "markdown",
   "metadata": {
    "id": "eiIGTfq6eFI5",
    "pycharm": {
     "name": "#%% md\n"
    }
   },
   "source": [
    "// your comments"
   ]
  },
  {
   "cell_type": "markdown",
   "source": [
    "## 3. Term Frequency - Inverse Document Frequency (TF-IDF)\n",
    "\n",
    "In this section we will implement the TF-IDF algorithm. While BOW is a simple way to represent the documents, it has some limitations. For example, it does not take into account the importance of each word in the document. TF-IDF representation takes into account the frequency of each word in the document and the frequency of the word in the whole dataset. It is a widely used technique in information retrieval and text mining. Refer to the lecture slides for more details."
   ],
   "metadata": {
    "collapsed": false,
    "pycharm": {
     "name": "#%% md\n"
    }
   }
  },
  {
   "cell_type": "markdown",
   "source": [
    "<a name='e8'></a>\n",
    "### Exercise 8: Inverse Document Frequency (IDF)\n",
    "(5p) In this exercise, you will implement the TF-IDF algorithm. First, calculate Inverse Document Frequency (IDF) for each word in the vocabulary. Intuitively, it is a measure of how informative a word is based on the whole dataset. Consult the lecture slides for the details. The IDF is calculated as follows:\n",
    "$$\n",
    "IDF(t) = log_{10}(N/df(t))$$\n",
    "where $N$ is the total number of documents (sentences) in the dataset and $df(t)$ is the number of documents containing the word $t$.\n"
   ],
   "metadata": {
    "collapsed": false,
    "pycharm": {
     "name": "#%% md\n"
    }
   }
  },
  {
   "cell_type": "code",
   "execution_count": null,
   "outputs": [],
   "source": [
    "def calculate_idf(bows):\n",
    "    \"\"\"\n",
    "    Calculates the IDF for each word in the vocabulary\n",
    "    Args:\n",
    "        bows: numpty array of size (N x D) where N is the number of documents and D is the vocabulary size\n",
    "\n",
    "    Returns: a numpy array of size D with IDF values for each token\n",
    "    \"\"\"\n",
    "\n",
    "    ### YOUR CODE HERE\n",
    "\n",
    "\n",
    "\n",
    "    ### YOUR CODE ENDS HERE\n",
    "\n",
    "idf = calculate_idf(sentences_bows)"
   ],
   "metadata": {
    "collapsed": false,
    "pycharm": {
     "name": "#%%\n"
    }
   }
  },
  {
   "cell_type": "markdown",
   "source": [
    "<a name='e9'></a>\n",
    "### Exercise 9: TF-IDF\n",
    "- (5p) Calculate TF-IDF on the `test` subset of the dataset.\n",
    "- (5p) Analyze the search results based on your implemented TF-IDF. Does the search perform well? When does it fail? Discuss several examples that are we get an expected but also unexpected results (find at least 3 from each category). Provide reasons for the good/bad result in each case (e.g. is there some error in the data, is there some linguistic phenomenon that we don't capture, is something wrong with our modeling with average embeddings, ...)\n",
    "- (5p) Compare the results with the ones you got with the bag-of-words representation. Discuss the differences and similarities. Do you think TF-IDF is a better representation for this task? Why or why not? Provide examples to support your arguments.\n"
   ],
   "metadata": {
    "collapsed": false,
    "pycharm": {
     "name": "#%% md\n"
    }
   }
  },
  {
   "cell_type": "code",
   "execution_count": null,
   "outputs": [],
   "source": [
    "### YOUR CODE HERE\n",
    "\n",
    "\n",
    "\n",
    "\n",
    "### YOUR CODE ENDS HERE\n",
    "\n",
    "### YOU CAN ADD MORE CELLS"
   ],
   "metadata": {
    "collapsed": false,
    "pycharm": {
     "name": "#%%\n"
    }
   }
  },
  {
   "cell_type": "markdown",
   "source": [
    "// your comments"
   ],
   "metadata": {
    "collapsed": false,
    "pycharm": {
     "name": "#%% md\n"
    }
   }
  },
  {
   "cell_type": "markdown",
   "source": [
    "## 4. Word Embeddings\n",
    "\n",
    "In this section you will load the pre-trained word embeddings model - Glove. You can read more about it [here](https://aclanthology.org/D14-1162/) ([https://aclanthology.org/D14-1162/](https://aclanthology.org/D14-1162/)). The embeddings are trained on a large corpus of text and are available in different dimensions. We will start with the dimension of 100, but later you will be asked to experiment with other dimensions.\n",
    "Gensim library maintains a storage containing some pre-trained models. You can read more about it [here](https://github.com/piskvorky/gensim-data) ([https://github.com/piskvorky/gensim-data](https://github.com/piskvorky/gensim-data)). Be sure to read the README of this repository.\n",
    "\n",
    "Let's first load the info of what models are available."
   ],
   "metadata": {
    "collapsed": false,
    "pycharm": {
     "name": "#%% md\n"
    }
   }
  },
  {
   "cell_type": "code",
   "execution_count": null,
   "outputs": [],
   "source": [
    "import json\n",
    "import gensim.downloader as api\n",
    "\n",
    "info = api.info()  # show info about available models/datasets\n",
    "print(json.dumps(info['models'], indent=2))"
   ],
   "metadata": {
    "collapsed": false,
    "pycharm": {
     "name": "#%%\n"
    }
   }
  },
  {
   "cell_type": "code",
   "execution_count": null,
   "outputs": [],
   "source": [
    "glove_model = api.load(\"glove-wiki-gigaword-100\")"
   ],
   "metadata": {
    "collapsed": false,
    "pycharm": {
     "name": "#%%\n"
    }
   }
  },
  {
   "cell_type": "markdown",
   "source": [
    "We can use the loaded model's `key_to_index` attribute to retrieve the whole vocabulary (aka for how many words we learned embeddings for)."
   ],
   "metadata": {
    "collapsed": false,
    "pycharm": {
     "name": "#%% md\n"
    }
   }
  },
  {
   "cell_type": "code",
   "execution_count": null,
   "outputs": [],
   "source": [
    "vocab = list(glove_model.key_to_index)\n",
    "print(len(vocab))"
   ],
   "metadata": {
    "collapsed": false,
    "pycharm": {
     "name": "#%%\n"
    }
   }
  },
  {
   "cell_type": "markdown",
   "source": [
    "Let's explore a bit further the embeddings. In the following cells, the embedding of a single word is returned. Double-check the dimensions (as sanity check). This is like inspecting the `W` matrix (weights) that we discussed in the lecture."
   ],
   "metadata": {
    "collapsed": false,
    "pycharm": {
     "name": "#%% md\n"
    }
   }
  },
  {
   "cell_type": "code",
   "execution_count": null,
   "outputs": [],
   "source": [
    "# vector of a particular model. note that it is 100 dimensional as specified.\n",
    "glove_model['what']"
   ],
   "metadata": {
    "collapsed": false,
    "pycharm": {
     "name": "#%%\n"
    }
   }
  },
  {
   "cell_type": "markdown",
   "source": [
    "Gensim objects offers different methods to easily run very common tasks. For example, there are different functions to find the most similar words.\n",
    "\n",
    "Check the documentation on how [`most_similar`](https://tedboy.github.io/nlps/generated/generated/gensim.models.Word2Vec.most_similar.html) and [`similar_by_word`](https://tedboy.github.io/nlps/generated/generated/gensim.models.Word2Vec.similar_by_word.html) can be used."
   ],
   "metadata": {
    "collapsed": false,
    "pycharm": {
     "name": "#%% md\n"
    }
   }
  },
  {
   "cell_type": "code",
   "execution_count": null,
   "outputs": [],
   "source": [
    "# most similar words to a given word\n",
    "print(glove_model.most_similar('what', topn=10))\n",
    "\n",
    "# also u can use\n",
    "print(glove_model.similar_by_word('miss', topn=5))"
   ],
   "metadata": {
    "collapsed": false,
    "pycharm": {
     "name": "#%%\n"
    }
   }
  },
  {
   "cell_type": "code",
   "execution_count": null,
   "outputs": [],
   "source": [
    "print(glove_model.most_similar('why', topn=10))"
   ],
   "metadata": {
    "collapsed": false,
    "pycharm": {
     "name": "#%%\n"
    }
   }
  },
  {
   "cell_type": "code",
   "execution_count": null,
   "outputs": [],
   "source": [
    "print(glove_model.similar_by_word('who', topn=5))"
   ],
   "metadata": {
    "collapsed": false,
    "pycharm": {
     "name": "#%%\n"
    }
   }
  },
  {
   "cell_type": "markdown",
   "source": [
    "We can now compare our implementation with the one in the pre-trained model and confirm what we already expected."
   ],
   "metadata": {
    "collapsed": false,
    "pycharm": {
     "name": "#%% md\n"
    }
   }
  },
  {
   "cell_type": "code",
   "execution_count": null,
   "outputs": [],
   "source": [
    "# simalarity between two words\n",
    "word1 = 'alive'\n",
    "word2 = 'biology'\n",
    "print(glove_model.similarity(word1, word2))\n",
    "print(cosine_similarity(glove_model[word1], glove_model[word2]))"
   ],
   "metadata": {
    "collapsed": false,
    "pycharm": {
     "name": "#%%\n"
    }
   }
  },
  {
   "cell_type": "code",
   "execution_count": null,
   "outputs": [],
   "source": [
    "# simalarity between two words. similar words\n",
    "word1 = 'alive'\n",
    "word2 = 'life'\n",
    "print(glove_model.similarity(word1, word2))\n",
    "print(cosine_similarity(glove_model[word1], glove_model[word2]))"
   ],
   "metadata": {
    "collapsed": false,
    "pycharm": {
     "name": "#%%\n"
    }
   }
  },
  {
   "cell_type": "code",
   "execution_count": null,
   "outputs": [],
   "source": [
    "# simalarity between two words. dissimilar words\n",
    "word1 = 'alive'\n",
    "word2 = 'dead'\n",
    "print(glove_model.similarity(word1, word2))\n",
    "print(cosine_similarity(glove_model[word1], glove_model[word2]))"
   ],
   "metadata": {
    "collapsed": false,
    "pycharm": {
     "name": "#%%\n"
    }
   }
  },
  {
   "cell_type": "code",
   "execution_count": null,
   "outputs": [],
   "source": [
    "# simalarity between two words. unrelated words\n",
    "word1 = 'alive'\n",
    "word2 = 'horse'\n",
    "print(glove_model.similarity(word1, word2))\n",
    "print(cosine_similarity(glove_model[word1], glove_model[word2]))"
   ],
   "metadata": {
    "collapsed": false,
    "pycharm": {
     "name": "#%%\n"
    }
   }
  },
  {
   "cell_type": "code",
   "execution_count": null,
   "outputs": [],
   "source": [
    "# simalarity between two SAME words\n",
    "glove_model.similarity('equal', 'equal')\n",
    "word1 = 'equal'\n",
    "word2 = 'equal'\n",
    "print(glove_model.similarity(word1, word2))\n",
    "print(cosine_similarity(glove_model[word1], glove_model[word2]))"
   ],
   "metadata": {
    "collapsed": false,
    "pycharm": {
     "name": "#%%\n"
    }
   }
  },
  {
   "cell_type": "markdown",
   "source": [
    "The next function contains the code to plot a similarity matrix between multiple words (e.g. if we want to compare 10 words and their pair-wise similarities). It requires a matrix with similarities (as input) and labels (aka the words) to display in the final figure."
   ],
   "metadata": {
    "collapsed": false,
    "pycharm": {
     "name": "#%% md\n"
    }
   }
  },
  {
   "cell_type": "code",
   "execution_count": null,
   "outputs": [],
   "source": [
    "def plot_similarity_matrix(matrix, labels):\n",
    "    \"\"\"\n",
    "    Displays a plot of the `matrix` of size (N x N) with the labels specified as a list of size N\n",
    "    Args:\n",
    "        matrix: a square-sized (N x N) numpy array\n",
    "        labels: a list of strings of hte size N\n",
    "    \"\"\"\n",
    "\n",
    "    fig, ax = plt.subplots()\n",
    "    im = ax.imshow(matrix)\n",
    "\n",
    "    # Show all ticks and label them with the respective list entries\n",
    "    ax.set_xticks(np.arange(len(labels)), labels=labels)\n",
    "    ax.set_yticks(np.arange(len(labels)), labels=labels)\n",
    "\n",
    "    # Rotate the tick labels and set their alignment.\n",
    "    plt.setp(ax.get_xticklabels(), rotation=45, ha=\"right\",\n",
    "             rotation_mode=\"anchor\")\n",
    "\n",
    "    # Loop over data dimensions and create text annotations.\n",
    "    for i in range(len(labels)):\n",
    "        for j in range(len(labels)):\n",
    "            text = ax.text(j, i, f'{matrix[i, j]:.2f}',\n",
    "                           ha=\"center\", va=\"center\", color=\"w\")\n",
    "\n",
    "    # ax.set_title(\"Give a title if you want\")\n",
    "    fig.tight_layout()\n",
    "    plt.show()"
   ],
   "metadata": {
    "collapsed": false,
    "pycharm": {
     "name": "#%%\n"
    }
   }
  },
  {
   "cell_type": "markdown",
   "source": [
    "<a name='e10'></a>\n",
    "### Exercise 10: Plotting similarities between words\n",
    "\n",
    "(10p) In the following, we will explore some properties of word embeddings through some examples. We will use 6 example words for this purpose but experiment with other set of words as well. Fill in the next cell to create a similarity matrix between a list of words.\n",
    "\n",
    "Experiment with different words and their similarities plotted. Try at least 3 different sets of words of at least 6 words each. Use the `plot_similarity_matrix` function to visualize the results.\n",
    "Comment on the results. Do they make sense? Why some words are closer to each other than others? What does it mean?"
   ],
   "metadata": {
    "collapsed": false,
    "pycharm": {
     "name": "#%% md\n"
    }
   }
  },
  {
   "cell_type": "code",
   "execution_count": null,
   "outputs": [],
   "source": [
    "list_of_words = ['love', 'hate', 'life', 'equal', 'alive', 'dead']\n",
    "\n",
    "similarity_matrix = np.zeros((len(list_of_words), len(list_of_words)), dtype=float)\n",
    "\n",
    "### YOUR CODE HERE\n",
    "\n",
    "\n",
    "\n",
    "\n",
    "\n",
    "### YOUR CODE ENDS HERE\n",
    "\n",
    "\n",
    "plot_similarity_matrix(similarity_matrix, list_of_words)"
   ],
   "metadata": {
    "collapsed": false,
    "pycharm": {
     "name": "#%%\n"
    }
   }
  },
  {
   "cell_type": "code",
   "execution_count": null,
   "outputs": [],
   "source": [
    "#### YOUR CODE HERE\n",
    "\n",
    "\n",
    "\n",
    "### YOUR CODE ENDS HERE"
   ],
   "metadata": {
    "collapsed": false,
    "pycharm": {
     "name": "#%%\n"
    }
   }
  },
  {
   "cell_type": "markdown",
   "source": [
    "<a name='e11'></a>\n",
    "### Exercise 11: Other pre-trained word embeddings\n",
    "(10p) For this exercise, experiment with at least one different word embedding model. You can choose Glove with different dimensions or other pre-trained models. Use the gensim library to download and use the models.\n",
    "Plot similarity matrices between sets of words you used in the previous exercise and compare the results. Are there noticeable differences? Why (not)?"
   ],
   "metadata": {
    "collapsed": false,
    "pycharm": {
     "name": "#%% md\n"
    }
   }
  },
  {
   "cell_type": "code",
   "execution_count": null,
   "outputs": [],
   "source": [
    "#### YOUR CODE HERE\n",
    "\n",
    "\n",
    "\n",
    "### YOUR CODE ENDS HERE"
   ],
   "metadata": {
    "collapsed": false,
    "pycharm": {
     "name": "#%%\n"
    }
   }
  },
  {
   "cell_type": "markdown",
   "source": [
    "// your comments"
   ],
   "metadata": {
    "collapsed": false,
    "pycharm": {
     "name": "#%% md\n"
    }
   }
  },
  {
   "cell_type": "markdown",
   "source": [
    "## 5. Sentence Embeddings by Averaging Word Embeddings\n",
    "\n",
    "Word embeddings are a powerful model for representing words and their meaning (in terms of distributional similarity). As we discussed in class, we can use them in a wide variety of tasks with more complex architectures. Word vectors offer a dense vector for each word. What if we wanted to represent a sentence (or a document) based on word vectors. How can we do that?\n",
    "\n",
    "In the course, we will see different architectures that take into account the sequence of words (by combining their vectors). A first naive but simple and sometimes (as we are going to see) quite effective approach would be to represent a sentence with an embedding vector that is the average of the word vectors that form the sentence.\n",
    "\n",
    "So formally, this is what we are aiming for:\n",
    "\n",
    "$\n",
    "\\text{Sentence_Embedding} = \\frac{1}{N} \\sum_{i=1}^{N} \\text{Word_Embedding}_i\n",
    "$\n",
    "\n",
    "where:\n",
    "* $N$ is the number of words in a sentence\n",
    "* $\\text{Word_Embedding}_i$ is the word vector for the $i$-th in the sentence.\n",
    "\n",
    "Things to note:\n",
    "* The embedding vector for the sentence will obviously have the same dimension as the word embedding.\n",
    "* This representation ignores the word order (like bag-of-words). During the course we will see how we can overcome this limitation by using sequence models."
   ],
   "metadata": {
    "collapsed": false,
    "pycharm": {
     "name": "#%% md\n"
    }
   }
  },
  {
   "cell_type": "markdown",
   "source": [
    "<a name='e12'></a>\n",
    "### Exercise 12: Sentence Embedding\n",
    "\n",
    "(10p) Complete the function below that takes as input the sentence in the form of tokens (so it's a list of words) and calculates the sentence embedding vector. First, we would need to retrieve the word embeddings for each word from our loaded model and then average the vectors.\n",
    "\n",
    "Note: There can be cases where all tokens from a sentence are out-of-vocabulary words (OOV). Think what to do in this case and make sure to discuss it in the report."
   ],
   "metadata": {
    "collapsed": false,
    "pycharm": {
     "name": "#%% md\n"
    }
   }
  },
  {
   "cell_type": "code",
   "execution_count": null,
   "outputs": [],
   "source": [
    "def embed_sentence_word_model(tokens, model):\n",
    "    \"\"\"\n",
    "    Calculates the sentence embedding by averaging the embeddings of the tokens\n",
    "    Args:\n",
    "        tokens: a list of words from the sentence\n",
    "        model: a trained word embeddings model\n",
    "\n",
    "    Returns: a numpy array of the sentence embedding\n",
    "\n",
    "    \"\"\"\n",
    "    #### YOUR CODE HERE\n",
    "    #### CAUTION: be sure to cover the case where all tokens are out-of-vocabulary!!!\n",
    "\n",
    "\n",
    "\n",
    "\n",
    "    ### YOUR CODE ENDS HERE"
   ],
   "metadata": {
    "collapsed": false,
    "pycharm": {
     "name": "#%%\n"
    }
   }
  },
  {
   "cell_type": "markdown",
   "source": [
    "Now we can apply the function to the whole dataset. Here we do it both for the sentence and the compressed version. You should know it by now, but this operation might take some time. The next cells will apply your function to the whole dataset."
   ],
   "metadata": {
    "collapsed": false,
    "pycharm": {
     "name": "#%% md\n"
    }
   }
  },
  {
   "cell_type": "code",
   "execution_count": null,
   "outputs": [],
   "source": [
    "def embed_sentence_word_model_dataset(example, model):\n",
    "    \"\"\"\n",
    "    Embeds the sentence and the compressed sentence in the example from the Dataset\n",
    "    Args:\n",
    "        example: an example from the Dataset\n",
    "        model: a trained word embeddings model\n",
    "\n",
    "    Returns: updated example with 'sentence_embedding' and 'compressed_embedding' columns\n",
    "\n",
    "    \"\"\"\n",
    "    sentence_tokens = example['sentence_tokens']\n",
    "    clean_compressed = example['clean_compressed']\n",
    "    compressed_tokens = tokenize(clean_compressed)\n",
    "\n",
    "    sentence_embedding = embed_sentence_word_model(sentence_tokens, model)\n",
    "    compressed_embedding = embed_sentence_word_model(compressed_tokens, model)\n",
    "\n",
    "    example['sentence_embedding'] = sentence_embedding\n",
    "    example['compressed_embedding'] = compressed_embedding\n",
    "    return example"
   ],
   "metadata": {
    "collapsed": false,
    "pycharm": {
     "name": "#%%\n"
    }
   }
  },
  {
   "cell_type": "code",
   "execution_count": null,
   "outputs": [],
   "source": [
    "test_ds = test_ds.map(embed_sentence_word_model_dataset, fn_kwargs={'model': glove_model})\n",
    "print(test_ds)"
   ],
   "metadata": {
    "collapsed": false,
    "pycharm": {
     "name": "#%%\n"
    }
   }
  },
  {
   "cell_type": "code",
   "execution_count": null,
   "outputs": [],
   "source": [
    "for i in range(10):\n",
    "    print(test_ds[i])"
   ],
   "metadata": {
    "collapsed": false,
    "pycharm": {
     "name": "#%%\n"
    }
   }
  },
  {
   "cell_type": "markdown",
   "source": [
    "Here you can see that the new dataset returned a single numpy array containing all sentence embeddings in our dataset. This is a lot more efficient than returning a list of arrays (which is the default behaviour). Below we check the type and the dimensionality.\n",
    "\n",
    "We will be using `text` subset from our dataset to not use too much RAM."
   ],
   "metadata": {
    "collapsed": false,
    "pycharm": {
     "name": "#%% md\n"
    }
   }
  },
  {
   "cell_type": "code",
   "execution_count": null,
   "outputs": [],
   "source": [
    "sent_embedding = test_ds['sentence_embedding']\n",
    "compr_embedding = test_ds['compressed_embedding']\n",
    "print(type(sent_embedding))\n",
    "print(sent_embedding.shape)\n",
    "print(type(compr_embedding))\n",
    "print(compr_embedding.shape)"
   ],
   "metadata": {
    "collapsed": false,
    "pycharm": {
     "name": "#%%\n"
    }
   }
  },
  {
   "cell_type": "markdown",
   "source": [
    "Next we try the condensed representatin based on a simple query. Feel free to try different queries with different words. What happens if we have OOV words in a query?"
   ],
   "metadata": {
    "collapsed": false,
    "pycharm": {
     "name": "#%% md\n"
    }
   }
  },
  {
   "cell_type": "code",
   "execution_count": null,
   "outputs": [],
   "source": [
    "query = 'fox and deer'\n",
    "print(query)\n",
    "\n",
    "query_embedding = embed_text(query, clean, tokenize, lambda x: embed_sentence_word_model(x, glove_model))\n",
    "print(query_embedding.shape)\n",
    "print(query_embedding)"
   ],
   "metadata": {
    "collapsed": false,
    "pycharm": {
     "name": "#%%\n"
    }
   }
  },
  {
   "cell_type": "markdown",
   "source": [
    "<a name='e13'></a>\n",
    "### Exercise 13: Analyze sentence embeddings\n",
    "- (5p) Calculate similarity between the word embeddings representations of the selected queries and the dataset sentences.\n",
    "- (5p) Analyze the search results. Does the search work as expected? Discuss the results.\n",
    "- (5p) Compare the results with the ones you got with the bag-of-words and TF-IDF representation. Discuss the differences and similarities."
   ],
   "metadata": {
    "collapsed": false,
    "pycharm": {
     "name": "#%% md\n"
    }
   }
  },
  {
   "cell_type": "code",
   "execution_count": null,
   "outputs": [],
   "source": [
    "### YOUR CODE HERE\n",
    "\n",
    "\n",
    "\n",
    "\n",
    "### YOUR CODE ENDS HERE"
   ],
   "metadata": {
    "collapsed": false,
    "pycharm": {
     "name": "#%%\n"
    }
   }
  },
  {
   "cell_type": "markdown",
   "metadata": {
    "id": "ZY2jouFmeHOg",
    "pycharm": {
     "name": "#%% md\n"
    }
   },
   "source": [
    "## 6. Evaluating Retrieval\n",
    "\n",
    "In this last section we will try to evaluate how good our sentence retrieval system is. To keep the computational resources manageable, we will use the test set for that as its size is more manageable.\n",
    "\n",
    "Recall from the lecture in IR that there are several metrics to evaluate retrieval performance by taking into account the relevance of the retrieved results to the query. We will use Recall@K here (for more metrics and more details refer to the lecture slides and the textbooks).\n",
    "\n",
    "RRecall@K is a metric used to measure the effectiveness of a search system in retrieving relevant documents within the top $K$ retrieved documents. It calculates the proportion of relevant documents retrieved within the top-$K$ results, compared to the total number of relevant documents in the collection.\n",
    "\n",
    "$\n",
    "\\text{Recall@K} = \\frac{\\text{Number of relevant documents retrieved in the top }-K}{\\text{Total number of relevant documents}}\n",
    "$\n",
    "\n",
    "In our case, we have a sentence, and it's compressed version. To test our system, we will treat compressed sentences as the queries. Each query will have only a single relevant sentence - the corresponding uncompressed sentence.\n",
    "\n",
    "Therefore, for the calculation of Recall@K we will take into account whether the correct retrieved result is contained within the first $K$ retrieved results. For example, if for a query (i.e. a compressed sentence) we retrieve 10 results and within these we see the relevant one (i.e. the full sentence), then Recall@10 = 1."
   ]
  },
  {
   "cell_type": "markdown",
   "metadata": {
    "id": "QUKPtG-uem9f",
    "pycharm": {
     "name": "#%% md\n"
    }
   },
   "source": [
    "<a name='e14'></a>\n",
    "### Exercise 14: Cosine similarity between two sets of vectors\n",
    "\n",
    "(3p) In this exercise you will revisit your implementation of the cosine similarity. Generalize it so that it can accept two arrays containing two sets of vectors (first one containing $M$ vectors and the second one $N$ vectors). Compute the cosine similarity between each pair of vectors coming from the two sets. The result should be an array of size $M x N$.\n",
    "\n",
    "Once again, try to write an efficient code. This means no loops. Remember the relation between matrix multiplication and dot product. (Depending on your implementation of the previous function calculating cosine similarity, this one can be almost the same)"
   ]
  },
  {
   "cell_type": "code",
   "execution_count": null,
   "metadata": {
    "id": "xKiHDrN9eld7",
    "pycharm": {
     "name": "#%%\n"
    }
   },
   "outputs": [],
   "source": [
    "def cosine_similarity_m_to_n(vectors, other_vectors):\n",
    "    \"\"\"\n",
    "    Calculates the cosine similarity between a multiple vectors and other vectors.\n",
    "    Args:\n",
    "        vectors: a numpy array representing M number of vectors of D dimensions (of the size MxD)\n",
    "        other_vectors: a 2D numpy array representing other vectors (of the size NxD, where N is the number of vectors and D is their dimension)\n",
    "\n",
    "    Returns: a numpy array of cosine similarity between all the vectors and all the other vectors\n",
    "\n",
    "    \"\"\"\n",
    "\n",
    "    #### YOUR CODE HERE\n",
    "\n",
    "\n",
    "\n",
    "\n",
    "    ### YOUR CODE ENDS HERE"
   ]
  },
  {
   "cell_type": "markdown",
   "metadata": {
    "id": "qQ-Yhl1Sgoka",
    "pycharm": {
     "name": "#%% md\n"
    }
   },
   "source": [
    "The following function will use your implementation to calculate Recall@K based on the similarity matrix."
   ]
  },
  {
   "cell_type": "code",
   "execution_count": null,
   "metadata": {
    "id": "z0sLS3uRCfdh",
    "pycharm": {
     "name": "#%%\n"
    }
   },
   "outputs": [],
   "source": [
    "def calculate_recall(queries, sentences, k, batch_size=1000):\n",
    "    \"\"\"\n",
    "    Calculates recall@k given the embeddings of the queries and sentences.\n",
    "    Assumes that only a single sentence with the same index as query is relevant.\n",
    "    Batching is implemented to avoid high memory usage.\n",
    "    Args:\n",
    "        queries: a numpy array with the embeddings of N queries\n",
    "        sentences: a numpy array with the embeddings of N sentences available for retrieval\n",
    "        k: number of top results to search for the relevant sentence\n",
    "        batch_size: number of queries to process at a time\n",
    "\n",
    "    Returns: calculated recall@k\n",
    "\n",
    "    \"\"\"\n",
    "    n_queries = queries.shape[0]\n",
    "    correct = np.zeros(n_queries, dtype=bool)\n",
    "\n",
    "    with tqdm.tqdm(total=n_queries) as pbar:\n",
    "        for batch_start in range(0, n_queries, batch_size):\n",
    "            batch_end = min(batch_start + batch_size, n_queries)\n",
    "            queries_batch = queries[batch_start:batch_end]\n",
    "            batch_similarity = cosine_similarity_m_to_n(queries_batch, sentences)\n",
    "\n",
    "            for i, similarity_row in enumerate(batch_similarity):\n",
    "                query_index = batch_start + i\n",
    "                top_k = top_k_indices(similarity_row, k=k, sorted=False)\n",
    "\n",
    "                if query_index in top_k:\n",
    "                    correct[query_index] = True\n",
    "\n",
    "                pbar.update(1)\n",
    "\n",
    "    recall = np.sum(correct) / n_queries\n",
    "    return recall"
   ]
  },
  {
   "cell_type": "markdown",
   "metadata": {
    "id": "3QgAgMiDgw8m",
    "pycharm": {
     "name": "#%% md\n"
    }
   },
   "source": [
    "You can use it like so:"
   ]
  },
  {
   "cell_type": "code",
   "execution_count": null,
   "metadata": {
    "id": "Yxpex7ZxHM7c",
    "pycharm": {
     "name": "#%%\n"
    }
   },
   "outputs": [],
   "source": [
    "recall_at_1 = calculate_recall(compr_embedding, sent_embedding, k=1, batch_size=1000)\n",
    "print(f'\\n{recall_at_1 * 100:.2f}%')"
   ]
  },
  {
   "cell_type": "markdown",
   "metadata": {
    "id": "zY5ZVq5ogzMI",
    "pycharm": {
     "name": "#%% md\n"
    }
   },
   "source": [
    "<a name='e15'></a>\n",
    "### Exercise 15: Evaluating retrieval methods\n",
    "\n",
    "(10p) Calculate recall for different values of $K$ for all methods:\n",
    "- BOW,\n",
    "- TF-IDF,\n",
    "- Pre-trained embeddings.\n",
    "\n",
    "Discuss the results.\n",
    "Comment on how recall changes based on the value of $K$. Are the results expected or surprising?"
   ]
  },
  {
   "cell_type": "code",
   "execution_count": null,
   "outputs": [],
   "source": [
    "#### YOUR CODE HERE\n",
    "\n",
    "\n",
    "\n",
    "### YOUR CODE ENDS HERE"
   ],
   "metadata": {
    "collapsed": false,
    "pycharm": {
     "name": "#%%\n"
    }
   }
  },
  {
   "cell_type": "markdown",
   "source": [
    "<a name='e16'></a>\n",
    "### Exercise 16: Improving retrieval\n",
    "\n",
    "(10p) Imagine that you work at a company and are tasked with delivering the best retrieval method. Select the most promising one and try to improve the scores (e.g. by changing the vocab size, loading different model, etc.).\n",
    "Discuss the results you achieve, even if you didn't manage to improve the scores."
   ],
   "metadata": {
    "collapsed": false,
    "pycharm": {
     "name": "#%% md\n"
    }
   }
  },
  {
   "cell_type": "code",
   "execution_count": null,
   "metadata": {
    "id": "YA9bEm5ehMq8",
    "pycharm": {
     "name": "#%%\n"
    }
   },
   "outputs": [],
   "source": [
    "#### YOUR CODE HERE\n",
    "\n",
    "\n",
    "\n",
    "### YOUR CODE ENDS HERE"
   ]
  },
  {
   "cell_type": "markdown",
   "source": [
    "// your comments"
   ],
   "metadata": {
    "collapsed": false,
    "pycharm": {
     "name": "#%% md\n"
    }
   }
  }
 ],
 "metadata": {
  "colab": {
   "toc_visible": true,
   "provenance": []
  },
  "kernelspec": {
   "display_name": "Python 3",
   "language": "python",
   "name": "python3"
  },
  "language_info": {
   "codemirror_mode": {
    "name": "ipython",
    "version": 2
   },
   "file_extension": ".py",
   "mimetype": "text/x-python",
   "name": "python",
   "nbconvert_exporter": "python",
   "pygments_lexer": "ipython2",
   "version": "2.7.6"
  }
 },
 "nbformat": 4,
 "nbformat_minor": 0
}
