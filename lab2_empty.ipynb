{
 "cells": [
  {
   "cell_type": "markdown",
   "metadata": {
    "collapsed": false,
    "id": "od2YkWY8pSOC",
    "jupyter": {
     "outputs_hidden": false
    },
    "pycharm": {
     "name": "#%% md\n"
    }
   },
   "source": [
    "# NLP 2025\n",
    "# Lab 2: Word Vectors and Information Retrieval\n",
    "\n",
    "During the first few weeks, we discussed various ways to represent text 📝. One key question was: What should be the basic unit of representation? Words are the fundamental building blocks 🧱.\n",
    "\n",
    "In this lab, we will explore different text representation models, such as Bag-of-Words (BoW), TF-IDF and word embeddings 🔤➡️🔢. Among these, word embeddings are the most effective in terms of performance. They represent each word as a vector of numbers, where each vector captures the meaning of the word 🧠📊.\n",
    "\n",
    "These numerical representations (or weights) are learned using machine learning models 🤖. We’ll dive deeper into how these vectors are learned in the next lecture 📚.\n",
    "\n",
    "For now, we’ll focus on how different representation methods affect performance in an information retrieval task 🔍."
   ]
  },
  {
   "cell_type": "markdown",
   "metadata": {
    "collapsed": false,
    "id": "s93LS5bspSOD",
    "jupyter": {
     "outputs_hidden": false
    },
    "pycharm": {
     "name": "#%% md\n"
    }
   },
   "source": [
    "By the end of this lab, you should be able to:\n",
    "\n",
    "+ 🧼🔁 Implement and/or use built-in functions to preprocess your data (once again!)\n",
    "+ 🧱👜 Build a Bag-of-Words representation of the dataset\n",
    "+ 📊✨ Implement TF-IDF\n",
    "+ 📥🔤 Load pre-trained word embeddings\n",
    "+ 🔍🧠 Inspect and test word embedding properties\n",
    "+ 🗣️➡️📐 Use word embeddings to get sentence representations (aka sentence embeddings)\n",
    "+ 🧩🔎 Use sentence embeddings to solve more complex tasks like information retrieval\n",
    "+ 🧪📏 Design evaluation frameworks for specific NLP tasks and assess their difficulty\n",
    "\n",
    "### Score breakdown\n",
    "\n",
    "| Exercise            | Points |\n",
    "|---------------------|--------|\n",
    "| [Exercise 1](#e1)   | 1      |\n",
    "| [Exercise 2](#e2)   | 1      |\n",
    "| [Exercise 3](#e3)   | 1      |\n",
    "| [Exercise 4](#e4)   | 1      |\n",
    "| [Exercise 5](#e5)   | 1      |\n",
    "| [Exercise 6](#e6)   | 2      |\n",
    "| [Exercise 7](#e7)   | 10     |\n",
    "| [Exercise 8](#e8)   | 5      |\n",
    "| [Exercise 9](#e9)   | 15     |\n",
    "| [Exercise 10](#e10) | 10     |\n",
    "| [Exercise 11](#e11) | 10     |\n",
    "| [Exercise 12](#e12) | 5      |\n",
    "| [Exercise 13](#e13) | 15     |\n",
    "| [Exercise 14](#e14) | 3      |\n",
    "| [Exercise 15](#e15) | 10     |\n",
    "| [Exercise 16](#e16) | 10     |\n",
    "| Total               | 100    |\n",
    "\n",
    "This score will be scaled down to 1 and that will be your final lab score.\n",
    "\n",
    "### 📌 **Instructions for Delivery** (📅 **Deadline: 18/Apr 18:00**, 🎭 *wildcards possible*)\n",
    "\n",
    "✅ **Submission Requirements**\n",
    "+ 📄 You need to submit a **PDF of your report** (use the templates provided in **LaTeX** 🖋️ (*preferred*) or **Word** 📑) and a **copy of your notebook** 📓 with the code.\n",
    "+ ⚡ Make sure that **all cells are executed properly** ⚙️ and that **all figures/results/plots** 📊 you include in the report are also visible in your **executed notebook**.\n",
    "\n",
    "✅ **Collaboration & Integrity**\n",
    "+ 🗣️ While you may **discuss** the lab with others, you must **write your solutions with your group only**. If you **discuss specific tasks** with others, please **include their names** in the appendix of the report.\n",
    "+ 📜 **Honor Code applies** to this lab. For more details, check **Syllabus §7.2** ⚖️.\n",
    "+ 📢 **Mandatory Disclosure**:\n",
    "   - Any **websites** 🌐 (e.g., **Stack Overflow** 💡) or **other resources** used must be **listed and disclosed**.\n",
    "   - Any **GenAI tools** 🤖 (e.g., **ChatGPT**) used must be **explicitly mentioned**.\n",
    "   - 🚨 **Failure to disclose these resources is a violation of academic integrity**. See **Syllabus §7.3** for details."
   ]
  },
  {
   "cell_type": "markdown",
   "metadata": {
    "collapsed": false,
    "id": "aHYGq5RUpSOD",
    "jupyter": {
     "outputs_hidden": false
    },
    "pycharm": {
     "name": "#%% md\n"
    }
   },
   "source": [
    "## 0. Setup\n",
    "\n",
    "As in the last lab, we will be using huggingface datasets library ([https://huggingface.co/datasets](https://huggingface.co/datasets)). You can find the detailed documentation and tutorials here: [https://huggingface.co/docs/datasets/en/index](https://huggingface.co/docs/datasets/en/index)\n",
    "\n",
    "If you don't have it installed you can run the code below or install it via `pip` in your terminal. If you are using Google Colab, you can uncomment and run the code below in a code cell. Restarting of the runtime may be required after installation (Runtime/Restart session)."
   ]
  },
  {
   "cell_type": "code",
   "execution_count": 13,
   "metadata": {
    "ExecuteTime": {
     "end_time": "2025-04-15T11:56:11.445958Z",
     "start_time": "2025-04-15T11:56:11.444070Z"
    },
    "id": "rhEG8hKrpSOE",
    "pycharm": {
     "name": "#%%\n"
    }
   },
   "outputs": [
    {
     "name": "stdout",
     "output_type": "stream",
     "text": [
      "Requirement already satisfied: datasets~=3.5.0 in c:\\users\\mertb\\appdata\\local\\programs\\python\\python312\\lib\\site-packages (3.5.0)\n",
      "Requirement already satisfied: filelock in c:\\users\\mertb\\appdata\\local\\programs\\python\\python312\\lib\\site-packages (from datasets~=3.5.0) (3.18.0)\n",
      "Requirement already satisfied: numpy>=1.17 in c:\\users\\mertb\\appdata\\local\\programs\\python\\python312\\lib\\site-packages (from datasets~=3.5.0) (2.2.5)\n",
      "Requirement already satisfied: pyarrow>=15.0.0 in c:\\users\\mertb\\appdata\\local\\programs\\python\\python312\\lib\\site-packages (from datasets~=3.5.0) (19.0.1)\n",
      "Requirement already satisfied: dill<0.3.9,>=0.3.0 in c:\\users\\mertb\\appdata\\local\\programs\\python\\python312\\lib\\site-packages (from datasets~=3.5.0) (0.3.8)\n",
      "Requirement already satisfied: pandas in c:\\users\\mertb\\appdata\\local\\programs\\python\\python312\\lib\\site-packages (from datasets~=3.5.0) (2.2.3)\n",
      "Requirement already satisfied: requests>=2.32.2 in c:\\users\\mertb\\appdata\\local\\programs\\python\\python312\\lib\\site-packages (from datasets~=3.5.0) (2.32.3)\n",
      "Requirement already satisfied: tqdm>=4.66.3 in c:\\users\\mertb\\appdata\\local\\programs\\python\\python312\\lib\\site-packages (from datasets~=3.5.0) (4.67.1)\n",
      "Requirement already satisfied: xxhash in c:\\users\\mertb\\appdata\\local\\programs\\python\\python312\\lib\\site-packages (from datasets~=3.5.0) (3.5.0)\n",
      "Requirement already satisfied: multiprocess<0.70.17 in c:\\users\\mertb\\appdata\\local\\programs\\python\\python312\\lib\\site-packages (from datasets~=3.5.0) (0.70.16)\n",
      "Requirement already satisfied: fsspec<=2024.12.0,>=2023.1.0 in c:\\users\\mertb\\appdata\\local\\programs\\python\\python312\\lib\\site-packages (from fsspec[http]<=2024.12.0,>=2023.1.0->datasets~=3.5.0) (2024.12.0)\n",
      "Requirement already satisfied: aiohttp in c:\\users\\mertb\\appdata\\local\\programs\\python\\python312\\lib\\site-packages (from datasets~=3.5.0) (3.11.17)\n",
      "Requirement already satisfied: huggingface-hub>=0.24.0 in c:\\users\\mertb\\appdata\\local\\programs\\python\\python312\\lib\\site-packages (from datasets~=3.5.0) (0.30.2)\n",
      "Requirement already satisfied: packaging in c:\\users\\mertb\\appdata\\local\\programs\\python\\python312\\lib\\site-packages (from datasets~=3.5.0) (25.0)\n",
      "Requirement already satisfied: pyyaml>=5.1 in c:\\users\\mertb\\appdata\\local\\programs\\python\\python312\\lib\\site-packages (from datasets~=3.5.0) (6.0.2)\n",
      "Requirement already satisfied: aiohappyeyeballs>=2.3.0 in c:\\users\\mertb\\appdata\\local\\programs\\python\\python312\\lib\\site-packages (from aiohttp->datasets~=3.5.0) (2.6.1)\n",
      "Requirement already satisfied: aiosignal>=1.1.2 in c:\\users\\mertb\\appdata\\local\\programs\\python\\python312\\lib\\site-packages (from aiohttp->datasets~=3.5.0) (1.3.2)\n",
      "Requirement already satisfied: attrs>=17.3.0 in c:\\users\\mertb\\appdata\\local\\programs\\python\\python312\\lib\\site-packages (from aiohttp->datasets~=3.5.0) (25.3.0)\n",
      "Requirement already satisfied: frozenlist>=1.1.1 in c:\\users\\mertb\\appdata\\local\\programs\\python\\python312\\lib\\site-packages (from aiohttp->datasets~=3.5.0) (1.6.0)\n",
      "Requirement already satisfied: multidict<7.0,>=4.5 in c:\\users\\mertb\\appdata\\local\\programs\\python\\python312\\lib\\site-packages (from aiohttp->datasets~=3.5.0) (6.4.3)\n",
      "Requirement already satisfied: propcache>=0.2.0 in c:\\users\\mertb\\appdata\\local\\programs\\python\\python312\\lib\\site-packages (from aiohttp->datasets~=3.5.0) (0.3.1)\n",
      "Requirement already satisfied: yarl<2.0,>=1.17.0 in c:\\users\\mertb\\appdata\\local\\programs\\python\\python312\\lib\\site-packages (from aiohttp->datasets~=3.5.0) (1.20.0)\n",
      "Requirement already satisfied: typing-extensions>=3.7.4.3 in c:\\users\\mertb\\appdata\\local\\programs\\python\\python312\\lib\\site-packages (from huggingface-hub>=0.24.0->datasets~=3.5.0) (4.13.2)\n",
      "Requirement already satisfied: charset-normalizer<4,>=2 in c:\\users\\mertb\\appdata\\local\\programs\\python\\python312\\lib\\site-packages (from requests>=2.32.2->datasets~=3.5.0) (3.4.1)\n",
      "Requirement already satisfied: idna<4,>=2.5 in c:\\users\\mertb\\appdata\\local\\programs\\python\\python312\\lib\\site-packages (from requests>=2.32.2->datasets~=3.5.0) (3.10)\n",
      "Requirement already satisfied: urllib3<3,>=1.21.1 in c:\\users\\mertb\\appdata\\local\\programs\\python\\python312\\lib\\site-packages (from requests>=2.32.2->datasets~=3.5.0) (2.4.0)\n",
      "Requirement already satisfied: certifi>=2017.4.17 in c:\\users\\mertb\\appdata\\local\\programs\\python\\python312\\lib\\site-packages (from requests>=2.32.2->datasets~=3.5.0) (2025.1.31)\n",
      "Requirement already satisfied: colorama in c:\\users\\mertb\\appdata\\local\\programs\\python\\python312\\lib\\site-packages (from tqdm>=4.66.3->datasets~=3.5.0) (0.4.6)\n",
      "Requirement already satisfied: python-dateutil>=2.8.2 in c:\\users\\mertb\\appdata\\local\\programs\\python\\python312\\lib\\site-packages (from pandas->datasets~=3.5.0) (2.9.0.post0)\n",
      "Requirement already satisfied: pytz>=2020.1 in c:\\users\\mertb\\appdata\\local\\programs\\python\\python312\\lib\\site-packages (from pandas->datasets~=3.5.0) (2025.2)\n",
      "Requirement already satisfied: tzdata>=2022.7 in c:\\users\\mertb\\appdata\\local\\programs\\python\\python312\\lib\\site-packages (from pandas->datasets~=3.5.0) (2025.2)\n",
      "Requirement already satisfied: six>=1.5 in c:\\users\\mertb\\appdata\\local\\programs\\python\\python312\\lib\\site-packages (from python-dateutil>=2.8.2->pandas->datasets~=3.5.0) (1.17.0)\n"
     ]
    },
    {
     "name": "stderr",
     "output_type": "stream",
     "text": [
      "WARNING: Ignoring invalid distribution ~cipy (C:\\Users\\mertb\\AppData\\Local\\Programs\\Python\\Python312\\Lib\\site-packages)\n",
      "WARNING: Ignoring invalid distribution ~cipy (C:\\Users\\mertb\\AppData\\Local\\Programs\\Python\\Python312\\Lib\\site-packages)\n",
      "WARNING: Ignoring invalid distribution ~cipy (C:\\Users\\mertb\\AppData\\Local\\Programs\\Python\\Python312\\Lib\\site-packages)\n",
      "WARNING: Ignoring invalid distribution ~cipy (C:\\Users\\mertb\\AppData\\Local\\Programs\\Python\\Python312\\Lib\\site-packages)\n"
     ]
    },
    {
     "name": "stdout",
     "output_type": "stream",
     "text": [
      "Requirement already satisfied: gensim in c:\\users\\mertb\\appdata\\local\\programs\\python\\python312\\lib\\site-packages (4.3.3)\n",
      "Collecting numpy<2.0,>=1.18.5 (from gensim)\n",
      "  Using cached numpy-1.26.4-cp312-cp312-win_amd64.whl.metadata (61 kB)\n",
      "Requirement already satisfied: scipy<1.14.0,>=1.7.0 in c:\\users\\mertb\\appdata\\local\\programs\\python\\python312\\lib\\site-packages (from gensim) (1.13.1)\n",
      "Requirement already satisfied: smart-open>=1.8.1 in c:\\users\\mertb\\appdata\\local\\programs\\python\\python312\\lib\\site-packages (from gensim) (7.1.0)\n",
      "Requirement already satisfied: wrapt in c:\\users\\mertb\\appdata\\local\\programs\\python\\python312\\lib\\site-packages (from smart-open>=1.8.1->gensim) (1.17.2)\n",
      "Using cached numpy-1.26.4-cp312-cp312-win_amd64.whl (15.5 MB)\n",
      "Installing collected packages: numpy\n",
      "  Attempting uninstall: numpy\n",
      "    Found existing installation: numpy 2.2.5\n",
      "    Uninstalling numpy-2.2.5:\n",
      "      Successfully uninstalled numpy-2.2.5\n",
      "Successfully installed numpy-1.26.4\n"
     ]
    },
    {
     "name": "stderr",
     "output_type": "stream",
     "text": [
      "WARNING: Ignoring invalid distribution ~cipy (C:\\Users\\mertb\\AppData\\Local\\Programs\\Python\\Python312\\Lib\\site-packages)\n",
      "WARNING: Ignoring invalid distribution ~cipy (C:\\Users\\mertb\\AppData\\Local\\Programs\\Python\\Python312\\Lib\\site-packages)\n",
      "WARNING: Ignoring invalid distribution ~cipy (C:\\Users\\mertb\\AppData\\Local\\Programs\\Python\\Python312\\Lib\\site-packages)\n",
      "WARNING: Ignoring invalid distribution ~cipy (C:\\Users\\mertb\\AppData\\Local\\Programs\\Python\\Python312\\Lib\\site-packages)\n"
     ]
    },
    {
     "name": "stdout",
     "output_type": "stream",
     "text": [
      "Requirement already satisfied: matplotlib in c:\\users\\mertb\\appdata\\local\\programs\\python\\python312\\lib\\site-packages (3.10.1)\n",
      "Requirement already satisfied: contourpy>=1.0.1 in c:\\users\\mertb\\appdata\\local\\programs\\python\\python312\\lib\\site-packages (from matplotlib) (1.2.0)\n",
      "Requirement already satisfied: cycler>=0.10 in c:\\users\\mertb\\appdata\\local\\programs\\python\\python312\\lib\\site-packages (from matplotlib) (0.12.1)\n",
      "Requirement already satisfied: fonttools>=4.22.0 in c:\\users\\mertb\\appdata\\local\\programs\\python\\python312\\lib\\site-packages (from matplotlib) (4.49.0)\n",
      "Requirement already satisfied: kiwisolver>=1.3.1 in c:\\users\\mertb\\appdata\\local\\programs\\python\\python312\\lib\\site-packages (from matplotlib) (1.4.5)\n",
      "Requirement already satisfied: numpy>=1.23 in c:\\users\\mertb\\appdata\\local\\programs\\python\\python312\\lib\\site-packages (from matplotlib) (1.26.4)\n",
      "Requirement already satisfied: packaging>=20.0 in c:\\users\\mertb\\appdata\\local\\programs\\python\\python312\\lib\\site-packages (from matplotlib) (25.0)\n",
      "Requirement already satisfied: pillow>=8 in c:\\users\\mertb\\appdata\\local\\programs\\python\\python312\\lib\\site-packages (from matplotlib) (10.2.0)\n",
      "Requirement already satisfied: pyparsing>=2.3.1 in c:\\users\\mertb\\appdata\\local\\programs\\python\\python312\\lib\\site-packages (from matplotlib) (3.1.1)\n",
      "Requirement already satisfied: python-dateutil>=2.7 in c:\\users\\mertb\\appdata\\local\\programs\\python\\python312\\lib\\site-packages (from matplotlib) (2.9.0.post0)\n",
      "Requirement already satisfied: six>=1.5 in c:\\users\\mertb\\appdata\\local\\programs\\python\\python312\\lib\\site-packages (from python-dateutil>=2.7->matplotlib) (1.17.0)\n"
     ]
    },
    {
     "name": "stderr",
     "output_type": "stream",
     "text": [
      "WARNING: Ignoring invalid distribution ~cipy (C:\\Users\\mertb\\AppData\\Local\\Programs\\Python\\Python312\\Lib\\site-packages)\n",
      "WARNING: Ignoring invalid distribution ~cipy (C:\\Users\\mertb\\AppData\\Local\\Programs\\Python\\Python312\\Lib\\site-packages)\n",
      "WARNING: Ignoring invalid distribution ~cipy (C:\\Users\\mertb\\AppData\\Local\\Programs\\Python\\Python312\\Lib\\site-packages)\n",
      "WARNING: Ignoring invalid distribution ~cipy (C:\\Users\\mertb\\AppData\\Local\\Programs\\Python\\Python312\\Lib\\site-packages)\n"
     ]
    },
    {
     "name": "stdout",
     "output_type": "stream",
     "text": [
      "Requirement already satisfied: nltk in c:\\users\\mertb\\appdata\\local\\programs\\python\\python312\\lib\\site-packages (3.9.1)\n",
      "Requirement already satisfied: click in c:\\users\\mertb\\appdata\\local\\programs\\python\\python312\\lib\\site-packages (from nltk) (8.1.8)\n",
      "Requirement already satisfied: joblib in c:\\users\\mertb\\appdata\\local\\programs\\python\\python312\\lib\\site-packages (from nltk) (1.4.2)\n",
      "Requirement already satisfied: regex>=2021.8.3 in c:\\users\\mertb\\appdata\\local\\programs\\python\\python312\\lib\\site-packages (from nltk) (2024.11.6)\n",
      "Requirement already satisfied: tqdm in c:\\users\\mertb\\appdata\\local\\programs\\python\\python312\\lib\\site-packages (from nltk) (4.67.1)\n",
      "Requirement already satisfied: colorama in c:\\users\\mertb\\appdata\\local\\programs\\python\\python312\\lib\\site-packages (from click->nltk) (0.4.6)\n"
     ]
    },
    {
     "name": "stderr",
     "output_type": "stream",
     "text": [
      "WARNING: Ignoring invalid distribution ~cipy (C:\\Users\\mertb\\AppData\\Local\\Programs\\Python\\Python312\\Lib\\site-packages)\n",
      "WARNING: Ignoring invalid distribution ~cipy (C:\\Users\\mertb\\AppData\\Local\\Programs\\Python\\Python312\\Lib\\site-packages)\n",
      "WARNING: Ignoring invalid distribution ~cipy (C:\\Users\\mertb\\AppData\\Local\\Programs\\Python\\Python312\\Lib\\site-packages)\n",
      "WARNING: Ignoring invalid distribution ~cipy (C:\\Users\\mertb\\AppData\\Local\\Programs\\Python\\Python312\\Lib\\site-packages)\n"
     ]
    },
    {
     "name": "stdout",
     "output_type": "stream",
     "text": [
      "Requirement already satisfied: scikit-learn in c:\\users\\mertb\\appdata\\local\\programs\\python\\python312\\lib\\site-packages (1.6.1)\n",
      "Requirement already satisfied: numpy>=1.19.5 in c:\\users\\mertb\\appdata\\local\\programs\\python\\python312\\lib\\site-packages (from scikit-learn) (1.26.4)\n",
      "Requirement already satisfied: scipy>=1.6.0 in c:\\users\\mertb\\appdata\\local\\programs\\python\\python312\\lib\\site-packages (from scikit-learn) (1.13.1)\n",
      "Requirement already satisfied: joblib>=1.2.0 in c:\\users\\mertb\\appdata\\local\\programs\\python\\python312\\lib\\site-packages (from scikit-learn) (1.4.2)\n",
      "Requirement already satisfied: threadpoolctl>=3.1.0 in c:\\users\\mertb\\appdata\\local\\programs\\python\\python312\\lib\\site-packages (from scikit-learn) (3.6.0)\n"
     ]
    },
    {
     "name": "stderr",
     "output_type": "stream",
     "text": [
      "WARNING: Ignoring invalid distribution ~cipy (C:\\Users\\mertb\\AppData\\Local\\Programs\\Python\\Python312\\Lib\\site-packages)\n",
      "WARNING: Ignoring invalid distribution ~cipy (C:\\Users\\mertb\\AppData\\Local\\Programs\\Python\\Python312\\Lib\\site-packages)\n",
      "WARNING: Ignoring invalid distribution ~cipy (C:\\Users\\mertb\\AppData\\Local\\Programs\\Python\\Python312\\Lib\\site-packages)\n",
      "WARNING: Ignoring invalid distribution ~cipy (C:\\Users\\mertb\\AppData\\Local\\Programs\\Python\\Python312\\Lib\\site-packages)\n"
     ]
    }
   ],
   "source": [
    "! pip install -U datasets~=3.5.0\n",
    "! pip install -U gensim\n",
    "! python -m pip install -U matplotlib\n",
    "! pip install nltk\n",
    "! pip install -U scikit-learn"
   ]
  },
  {
   "cell_type": "markdown",
   "metadata": {
    "collapsed": false,
    "jupyter": {
     "outputs_hidden": false
    },
    "pycharm": {
     "name": "#%% md\n"
    }
   },
   "source": [
    "Previously installed datasets library version of 3.2.0 had an error when combined with numpy version >2. If you encounter an error at some point it might require to update the datasets library to the newer version. You can do that by running the code below. If you are using Google Colab, you can run the code below in a code cell. If you are using Jupyter Notebook, you can run the code below in a code cell or in a terminal."
   ]
  },
  {
   "cell_type": "code",
   "execution_count": 11,
   "metadata": {
    "ExecuteTime": {
     "end_time": "2025-04-15T11:56:11.474198Z",
     "start_time": "2025-04-15T11:56:11.472427Z"
    },
    "collapsed": false,
    "jupyter": {
     "outputs_hidden": false
    },
    "pycharm": {
     "name": "#%%\n"
    }
   },
   "outputs": [
    {
     "name": "stdout",
     "output_type": "stream",
     "text": [
      "Collecting datasets\n",
      "  Using cached datasets-3.5.0-py3-none-any.whl.metadata (19 kB)\n",
      "Collecting filelock (from datasets)\n",
      "  Using cached filelock-3.18.0-py3-none-any.whl.metadata (2.9 kB)\n",
      "Collecting numpy>=1.17 (from datasets)\n",
      "  Using cached numpy-2.2.5-cp312-cp312-win_amd64.whl.metadata (60 kB)\n",
      "Collecting pyarrow>=15.0.0 (from datasets)\n",
      "  Using cached pyarrow-19.0.1-cp312-cp312-win_amd64.whl.metadata (3.4 kB)\n",
      "Collecting dill<0.3.9,>=0.3.0 (from datasets)\n",
      "  Using cached dill-0.3.8-py3-none-any.whl.metadata (10 kB)\n",
      "Collecting pandas (from datasets)\n",
      "  Using cached pandas-2.2.3-cp312-cp312-win_amd64.whl.metadata (19 kB)\n",
      "Collecting requests>=2.32.2 (from datasets)\n",
      "  Using cached requests-2.32.3-py3-none-any.whl.metadata (4.6 kB)\n",
      "Collecting tqdm>=4.66.3 (from datasets)\n",
      "  Using cached tqdm-4.67.1-py3-none-any.whl.metadata (57 kB)\n",
      "Collecting xxhash (from datasets)\n",
      "  Using cached xxhash-3.5.0-cp312-cp312-win_amd64.whl.metadata (13 kB)\n",
      "Collecting multiprocess<0.70.17 (from datasets)\n",
      "  Using cached multiprocess-0.70.16-py312-none-any.whl.metadata (7.2 kB)\n",
      "Collecting fsspec<=2024.12.0,>=2023.1.0 (from fsspec[http]<=2024.12.0,>=2023.1.0->datasets)\n",
      "  Using cached fsspec-2024.12.0-py3-none-any.whl.metadata (11 kB)\n",
      "Collecting aiohttp (from datasets)\n",
      "  Using cached aiohttp-3.11.17-cp312-cp312-win_amd64.whl.metadata (8.0 kB)\n",
      "Collecting huggingface-hub>=0.24.0 (from datasets)\n",
      "  Using cached huggingface_hub-0.30.2-py3-none-any.whl.metadata (13 kB)\n",
      "Collecting packaging (from datasets)\n",
      "  Using cached packaging-25.0-py3-none-any.whl.metadata (3.3 kB)\n",
      "Collecting pyyaml>=5.1 (from datasets)\n",
      "  Using cached PyYAML-6.0.2-cp312-cp312-win_amd64.whl.metadata (2.1 kB)\n",
      "Collecting aiohappyeyeballs>=2.3.0 (from aiohttp->datasets)\n",
      "  Using cached aiohappyeyeballs-2.6.1-py3-none-any.whl.metadata (5.9 kB)\n",
      "Collecting aiosignal>=1.1.2 (from aiohttp->datasets)\n",
      "  Using cached aiosignal-1.3.2-py2.py3-none-any.whl.metadata (3.8 kB)\n",
      "Collecting attrs>=17.3.0 (from aiohttp->datasets)\n",
      "  Using cached attrs-25.3.0-py3-none-any.whl.metadata (10 kB)\n",
      "Collecting frozenlist>=1.1.1 (from aiohttp->datasets)\n",
      "  Using cached frozenlist-1.6.0-cp312-cp312-win_amd64.whl.metadata (16 kB)\n",
      "Collecting multidict<7.0,>=4.5 (from aiohttp->datasets)\n",
      "  Using cached multidict-6.4.3-cp312-cp312-win_amd64.whl.metadata (5.5 kB)\n",
      "Collecting propcache>=0.2.0 (from aiohttp->datasets)\n",
      "  Using cached propcache-0.3.1-cp312-cp312-win_amd64.whl.metadata (11 kB)\n",
      "Collecting yarl<2.0,>=1.17.0 (from aiohttp->datasets)\n",
      "  Using cached yarl-1.20.0-cp312-cp312-win_amd64.whl.metadata (74 kB)\n",
      "Collecting typing-extensions>=3.7.4.3 (from huggingface-hub>=0.24.0->datasets)\n",
      "  Using cached typing_extensions-4.13.2-py3-none-any.whl.metadata (3.0 kB)\n",
      "Collecting charset-normalizer<4,>=2 (from requests>=2.32.2->datasets)\n",
      "  Using cached charset_normalizer-3.4.1-cp312-cp312-win_amd64.whl.metadata (36 kB)\n",
      "Collecting idna<4,>=2.5 (from requests>=2.32.2->datasets)\n",
      "  Using cached idna-3.10-py3-none-any.whl.metadata (10 kB)\n",
      "Collecting urllib3<3,>=1.21.1 (from requests>=2.32.2->datasets)\n",
      "  Using cached urllib3-2.4.0-py3-none-any.whl.metadata (6.5 kB)\n",
      "Collecting certifi>=2017.4.17 (from requests>=2.32.2->datasets)\n",
      "  Using cached certifi-2025.1.31-py3-none-any.whl.metadata (2.5 kB)\n",
      "Collecting colorama (from tqdm>=4.66.3->datasets)\n",
      "  Using cached colorama-0.4.6-py2.py3-none-any.whl.metadata (17 kB)\n",
      "Collecting python-dateutil>=2.8.2 (from pandas->datasets)\n",
      "  Using cached python_dateutil-2.9.0.post0-py2.py3-none-any.whl.metadata (8.4 kB)\n",
      "Collecting pytz>=2020.1 (from pandas->datasets)\n",
      "  Using cached pytz-2025.2-py2.py3-none-any.whl.metadata (22 kB)\n",
      "Collecting tzdata>=2022.7 (from pandas->datasets)\n",
      "  Using cached tzdata-2025.2-py2.py3-none-any.whl.metadata (1.4 kB)\n",
      "Collecting six>=1.5 (from python-dateutil>=2.8.2->pandas->datasets)\n",
      "  Using cached six-1.17.0-py2.py3-none-any.whl.metadata (1.7 kB)\n",
      "Using cached datasets-3.5.0-py3-none-any.whl (491 kB)\n",
      "Using cached dill-0.3.8-py3-none-any.whl (116 kB)\n",
      "Using cached fsspec-2024.12.0-py3-none-any.whl (183 kB)\n",
      "Using cached aiohttp-3.11.17-cp312-cp312-win_amd64.whl (439 kB)\n",
      "Using cached huggingface_hub-0.30.2-py3-none-any.whl (481 kB)\n",
      "Using cached multiprocess-0.70.16-py312-none-any.whl (146 kB)\n",
      "Using cached numpy-2.2.5-cp312-cp312-win_amd64.whl (12.6 MB)\n",
      "Using cached packaging-25.0-py3-none-any.whl (66 kB)\n",
      "Using cached pyarrow-19.0.1-cp312-cp312-win_amd64.whl (25.3 MB)\n",
      "Using cached PyYAML-6.0.2-cp312-cp312-win_amd64.whl (156 kB)\n",
      "Using cached requests-2.32.3-py3-none-any.whl (64 kB)\n",
      "Using cached tqdm-4.67.1-py3-none-any.whl (78 kB)\n",
      "Using cached filelock-3.18.0-py3-none-any.whl (16 kB)\n",
      "Using cached pandas-2.2.3-cp312-cp312-win_amd64.whl (11.5 MB)\n",
      "Using cached xxhash-3.5.0-cp312-cp312-win_amd64.whl (30 kB)\n",
      "Using cached aiohappyeyeballs-2.6.1-py3-none-any.whl (15 kB)\n",
      "Using cached aiosignal-1.3.2-py2.py3-none-any.whl (7.6 kB)\n",
      "Using cached attrs-25.3.0-py3-none-any.whl (63 kB)\n",
      "Using cached certifi-2025.1.31-py3-none-any.whl (166 kB)\n",
      "Using cached charset_normalizer-3.4.1-cp312-cp312-win_amd64.whl (102 kB)\n",
      "Using cached frozenlist-1.6.0-cp312-cp312-win_amd64.whl (120 kB)\n",
      "Using cached idna-3.10-py3-none-any.whl (70 kB)\n",
      "Using cached multidict-6.4.3-cp312-cp312-win_amd64.whl (38 kB)\n",
      "Using cached propcache-0.3.1-cp312-cp312-win_amd64.whl (44 kB)\n",
      "Using cached python_dateutil-2.9.0.post0-py2.py3-none-any.whl (229 kB)\n",
      "Using cached pytz-2025.2-py2.py3-none-any.whl (509 kB)\n",
      "Using cached typing_extensions-4.13.2-py3-none-any.whl (45 kB)\n",
      "Using cached tzdata-2025.2-py2.py3-none-any.whl (347 kB)\n",
      "Using cached urllib3-2.4.0-py3-none-any.whl (128 kB)\n",
      "Using cached yarl-1.20.0-cp312-cp312-win_amd64.whl (92 kB)\n",
      "Using cached colorama-0.4.6-py2.py3-none-any.whl (25 kB)\n",
      "Using cached six-1.17.0-py2.py3-none-any.whl (11 kB)\n",
      "Installing collected packages: pytz, xxhash, urllib3, tzdata, typing-extensions, six, pyyaml, pyarrow, propcache, packaging, numpy, multidict, idna, fsspec, frozenlist, filelock, dill, colorama, charset-normalizer, certifi, attrs, aiohappyeyeballs, yarl, tqdm, requests, python-dateutil, multiprocess, aiosignal, pandas, huggingface-hub, aiohttp, datasets\n",
      "  Attempting uninstall: pytz\n",
      "    Found existing installation: pytz 2025.2\n",
      "    Uninstalling pytz-2025.2:\n",
      "      Successfully uninstalled pytz-2025.2\n",
      "  Attempting uninstall: xxhash\n",
      "    Found existing installation: xxhash 3.5.0\n",
      "    Uninstalling xxhash-3.5.0:\n",
      "      Successfully uninstalled xxhash-3.5.0\n",
      "  Attempting uninstall: urllib3\n",
      "    Found existing installation: urllib3 2.4.0\n",
      "    Uninstalling urllib3-2.4.0:\n",
      "      Successfully uninstalled urllib3-2.4.0\n",
      "  Attempting uninstall: tzdata\n",
      "    Found existing installation: tzdata 2025.2\n",
      "    Uninstalling tzdata-2025.2:\n",
      "      Successfully uninstalled tzdata-2025.2\n",
      "  Attempting uninstall: typing-extensions\n",
      "    Found existing installation: typing_extensions 4.13.2\n",
      "    Uninstalling typing_extensions-4.13.2:\n",
      "      Successfully uninstalled typing_extensions-4.13.2\n",
      "  Attempting uninstall: six\n",
      "    Found existing installation: six 1.17.0\n",
      "    Uninstalling six-1.17.0:\n",
      "      Successfully uninstalled six-1.17.0\n",
      "  Attempting uninstall: pyyaml\n",
      "    Found existing installation: PyYAML 6.0.2\n",
      "    Uninstalling PyYAML-6.0.2:\n",
      "      Successfully uninstalled PyYAML-6.0.2\n",
      "  Attempting uninstall: pyarrow\n",
      "    Found existing installation: pyarrow 19.0.1\n",
      "    Uninstalling pyarrow-19.0.1:\n",
      "      Successfully uninstalled pyarrow-19.0.1\n",
      "  Attempting uninstall: propcache\n",
      "    Found existing installation: propcache 0.3.1\n",
      "    Uninstalling propcache-0.3.1:\n",
      "      Successfully uninstalled propcache-0.3.1\n",
      "  Attempting uninstall: packaging\n",
      "    Found existing installation: packaging 25.0\n",
      "    Uninstalling packaging-25.0:\n",
      "      Successfully uninstalled packaging-25.0\n",
      "  Attempting uninstall: numpy\n",
      "    Found existing installation: numpy 1.26.4\n",
      "    Uninstalling numpy-1.26.4:\n",
      "      Successfully uninstalled numpy-1.26.4\n",
      "  Attempting uninstall: multidict\n",
      "    Found existing installation: multidict 6.4.3\n",
      "    Uninstalling multidict-6.4.3:\n",
      "      Successfully uninstalled multidict-6.4.3\n",
      "  Attempting uninstall: idna\n",
      "    Found existing installation: idna 3.10\n",
      "    Uninstalling idna-3.10:\n",
      "      Successfully uninstalled idna-3.10\n",
      "  Attempting uninstall: fsspec\n",
      "    Found existing installation: fsspec 2024.12.0\n",
      "    Uninstalling fsspec-2024.12.0:\n",
      "      Successfully uninstalled fsspec-2024.12.0\n",
      "  Attempting uninstall: frozenlist\n",
      "    Found existing installation: frozenlist 1.6.0\n",
      "    Uninstalling frozenlist-1.6.0:\n",
      "      Successfully uninstalled frozenlist-1.6.0\n",
      "  Attempting uninstall: filelock\n",
      "    Found existing installation: filelock 3.18.0\n",
      "    Uninstalling filelock-3.18.0:\n",
      "      Successfully uninstalled filelock-3.18.0\n",
      "  Attempting uninstall: dill\n",
      "    Found existing installation: dill 0.3.8\n",
      "    Uninstalling dill-0.3.8:\n",
      "      Successfully uninstalled dill-0.3.8\n",
      "  Attempting uninstall: colorama\n",
      "    Found existing installation: colorama 0.4.6\n",
      "    Uninstalling colorama-0.4.6:\n",
      "      Successfully uninstalled colorama-0.4.6\n",
      "  Attempting uninstall: charset-normalizer\n",
      "    Found existing installation: charset-normalizer 3.4.1\n",
      "    Uninstalling charset-normalizer-3.4.1:\n",
      "      Successfully uninstalled charset-normalizer-3.4.1\n",
      "  Attempting uninstall: certifi\n",
      "    Found existing installation: certifi 2025.1.31\n",
      "    Uninstalling certifi-2025.1.31:\n",
      "      Successfully uninstalled certifi-2025.1.31\n",
      "  Attempting uninstall: attrs\n",
      "    Found existing installation: attrs 25.3.0\n",
      "    Uninstalling attrs-25.3.0:\n",
      "      Successfully uninstalled attrs-25.3.0\n",
      "  Attempting uninstall: aiohappyeyeballs\n",
      "    Found existing installation: aiohappyeyeballs 2.6.1\n",
      "    Uninstalling aiohappyeyeballs-2.6.1:\n",
      "      Successfully uninstalled aiohappyeyeballs-2.6.1\n",
      "  Attempting uninstall: yarl\n",
      "    Found existing installation: yarl 1.20.0\n",
      "    Uninstalling yarl-1.20.0:\n",
      "      Successfully uninstalled yarl-1.20.0\n",
      "  Attempting uninstall: tqdm\n",
      "    Found existing installation: tqdm 4.67.1\n",
      "    Uninstalling tqdm-4.67.1:\n",
      "      Successfully uninstalled tqdm-4.67.1\n",
      "  Attempting uninstall: requests\n",
      "    Found existing installation: requests 2.32.3\n",
      "    Uninstalling requests-2.32.3:\n",
      "      Successfully uninstalled requests-2.32.3\n",
      "  Attempting uninstall: python-dateutil\n",
      "    Found existing installation: python-dateutil 2.9.0.post0\n",
      "    Uninstalling python-dateutil-2.9.0.post0:\n",
      "      Successfully uninstalled python-dateutil-2.9.0.post0\n",
      "  Attempting uninstall: multiprocess\n",
      "    Found existing installation: multiprocess 0.70.16\n",
      "    Uninstalling multiprocess-0.70.16:\n",
      "      Successfully uninstalled multiprocess-0.70.16\n",
      "  Attempting uninstall: aiosignal\n",
      "    Found existing installation: aiosignal 1.3.2\n",
      "    Uninstalling aiosignal-1.3.2:\n",
      "      Successfully uninstalled aiosignal-1.3.2\n",
      "  Attempting uninstall: pandas\n",
      "    Found existing installation: pandas 2.2.3\n",
      "    Uninstalling pandas-2.2.3:\n",
      "      Successfully uninstalled pandas-2.2.3\n",
      "  Attempting uninstall: huggingface-hub\n",
      "    Found existing installation: huggingface-hub 0.30.2\n",
      "    Uninstalling huggingface-hub-0.30.2:\n",
      "      Successfully uninstalled huggingface-hub-0.30.2\n",
      "  Attempting uninstall: aiohttp\n",
      "    Found existing installation: aiohttp 3.11.17\n",
      "    Uninstalling aiohttp-3.11.17:\n",
      "      Successfully uninstalled aiohttp-3.11.17\n",
      "  Attempting uninstall: datasets\n",
      "    Found existing installation: datasets 3.5.0\n",
      "    Uninstalling datasets-3.5.0:\n",
      "      Successfully uninstalled datasets-3.5.0\n",
      "Successfully installed aiohappyeyeballs-2.6.1 aiohttp-3.11.17 aiosignal-1.3.2 attrs-25.3.0 certifi-2025.1.31 charset-normalizer-3.4.1 colorama-0.4.6 datasets-3.5.0 dill-0.3.8 filelock-3.18.0 frozenlist-1.6.0 fsspec-2024.12.0 huggingface-hub-0.30.2 idna-3.10 multidict-6.4.3 multiprocess-0.70.16 numpy-2.2.5 packaging-25.0 pandas-2.2.3 propcache-0.3.1 pyarrow-19.0.1 python-dateutil-2.9.0.post0 pytz-2025.2 pyyaml-6.0.2 requests-2.32.3 six-1.17.0 tqdm-4.67.1 typing-extensions-4.13.2 tzdata-2025.2 urllib3-2.4.0 xxhash-3.5.0 yarl-1.20.0\n"
     ]
    },
    {
     "name": "stderr",
     "output_type": "stream",
     "text": [
      "WARNING: Ignoring invalid distribution ~cipy (C:\\Users\\mertb\\AppData\\Local\\Programs\\Python\\Python312\\Lib\\site-packages)\n",
      "WARNING: Ignoring invalid distribution ~cipy (C:\\Users\\mertb\\AppData\\Local\\Programs\\Python\\Python312\\Lib\\site-packages)\n",
      "WARNING: Ignoring invalid distribution ~cipy (C:\\Users\\mertb\\AppData\\Local\\Programs\\Python\\Python312\\Lib\\site-packages)\n",
      "WARNING: Ignoring invalid distribution ~cipy (C:\\Users\\mertb\\AppData\\Local\\Programs\\Python\\Python312\\Lib\\site-packages)\n",
      "ERROR: pip's dependency resolver does not currently take into account all the packages that are installed. This behaviour is the source of the following dependency conflicts.\n",
      "contourpy 1.2.0 requires numpy<2.0,>=1.20, but you have numpy 2.2.5 which is incompatible.\n",
      "gensim 4.3.3 requires numpy<2.0,>=1.18.5, but you have numpy 2.2.5 which is incompatible.\n",
      "statsmodels 0.14.1 requires numpy<2,>=1.18, but you have numpy 2.2.5 which is incompatible.\n"
     ]
    }
   ],
   "source": [
    "! pip install --upgrade --force-reinstall datasets"
   ]
  },
  {
   "cell_type": "markdown",
   "metadata": {
    "collapsed": false,
    "id": "5CCI1TPJpSOF",
    "jupyter": {
     "outputs_hidden": false
    },
    "pycharm": {
     "name": "#%% md\n"
    }
   },
   "source": [
    "As usual, we start by importing some essential Python libraries and we will be using. Apart from `gensim` (which is going to be used for word embeddings), we have already seen the others."
   ]
  },
  {
   "cell_type": "code",
   "execution_count": 20,
   "metadata": {
    "ExecuteTime": {
     "end_time": "2025-04-15T11:56:31.519934Z",
     "start_time": "2025-04-15T11:56:11.484992Z"
    },
    "id": "CRe8W4hKpSOF",
    "pycharm": {
     "name": "#%%\n"
    }
   },
   "outputs": [
    {
     "name": "stderr",
     "output_type": "stream",
     "text": [
      "[nltk_data] Downloading package stopwords to\n",
      "[nltk_data]     C:\\Users\\mertb\\AppData\\Roaming\\nltk_data...\n",
      "[nltk_data]   Package stopwords is already up-to-date!\n",
      "[nltk_data] Downloading package punkt_tab to\n",
      "[nltk_data]     C:\\Users\\mertb\\AppData\\Roaming\\nltk_data...\n",
      "[nltk_data]   Package punkt_tab is already up-to-date!\n"
     ]
    },
    {
     "data": {
      "text/plain": [
       "True"
      ]
     },
     "execution_count": 20,
     "metadata": {},
     "output_type": "execute_result"
    }
   ],
   "source": [
    "import re\n",
    "import string\n",
    "\n",
    "import numpy as np\n",
    "import matplotlib.pyplot as plt\n",
    "import datasets\n",
    "import nltk\n",
    "import tqdm\n",
    "import gensim\n",
    "from nltk import word_tokenize, pos_tag, WordNetLemmatizer\n",
    "from nltk.app.wordnet_app import lemma_property\n",
    "from nltk.corpus import stopwords\n",
    "#from tensorflow.python.ops.gen_math_ops import euclidean_norm\n",
    "\n",
    "nltk.download('stopwords')\n",
    "nltk.download('punkt_tab')"
   ]
  },
  {
   "cell_type": "markdown",
   "metadata": {
    "collapsed": false,
    "id": "NXy-1KiCpSOF",
    "jupyter": {
     "outputs_hidden": false
    },
    "pycharm": {
     "name": "#%% md\n"
    }
   },
   "source": [
    "## 1. Load and Preprocess Data\n",
    "\n",
    "*Sentence compression* involves rephrasing sentences to make them shorter while still retaining the original meaning. A reliable compression system would be valuable for mobile devices and could also serve as a component in an extractive summarization system.\n",
    "\n",
    "The dataset we are going to use can be found on [Huggingface](https://huggingface.co/datasets/embedding-data/sentence-compression). It concerns a set of 180,000 pairs of sentences, aka it is a parallel corpus of sentences and their equivalent compressions. It has been collected by harvesting news articles from the Internet where the headline appears to be similar to the first sentence and that property is used to find an \"extractive\" compression of the sentence.\n",
    "\n",
    "For example, for the sentence\n",
    "\n",
    "`\"Regulators Friday shut down a small Florida bank, bringing to 119 the number of US bank failures this year amid mounting loan defaults\"`\n",
    "\n",
    "the compressed equivalent (based on the dataset) is:\n",
    "\n",
    "`\"Regulators shut down small Florida bank\"`.\n",
    "\n",
    "\n",
    "For more information you can read the original paper (from Google) [here](https://aclanthology.org/D13-1155.pdf). We strongly recommend going over the paper to gain further insights. Notice that the paper is from 2013, therefore word embeddings have not been widely introduced yet in NLP tasks, meaning that the methods applied were based on the traditional NLP pipeline (feature extraction + ML)."
   ]
  },
  {
   "cell_type": "markdown",
   "metadata": {
    "collapsed": false,
    "id": "ztJX2GRVpSOF",
    "jupyter": {
     "outputs_hidden": false
    },
    "pycharm": {
     "name": "#%% md\n"
    }
   },
   "source": [
    "### 1.1 Loading the Dataset\n",
    "\n",
    "The dataset will be loaded as a Pandas DataFrame. This may take a few minutes because of the large size of the data.\n",
    "\n",
    "Make sure to inspect the dataset and make sure it is imported properly."
   ]
  },
  {
   "cell_type": "code",
   "execution_count": 21,
   "metadata": {
    "ExecuteTime": {
     "end_time": "2025-04-15T11:56:33.537629Z",
     "start_time": "2025-04-15T11:56:31.527753Z"
    },
    "id": "tay2NXPTpSOG",
    "pycharm": {
     "name": "#%%\n"
    },
    "scrolled": true
   },
   "outputs": [
    {
     "name": "stderr",
     "output_type": "stream",
     "text": [
      "C:\\Users\\mertb\\AppData\\Local\\Programs\\Python\\Python312\\Lib\\site-packages\\huggingface_hub\\file_download.py:144: UserWarning: `huggingface_hub` cache-system uses symlinks by default to efficiently store duplicated files but your machine does not support them in C:\\Users\\mertb\\.cache\\huggingface\\hub\\datasets--embedding-data--sentence-compression. Caching files will still work but in a degraded version that might require more space on your disk. This warning can be disabled by setting the `HF_HUB_DISABLE_SYMLINKS_WARNING` environment variable. For more details, see https://huggingface.co/docs/huggingface_hub/how-to-cache#limitations.\n",
      "To support symlinks on Windows, you either need to activate Developer Mode or to run Python as an administrator. In order to activate developer mode, see this article: https://docs.microsoft.com/en-us/windows/apps/get-started/enable-your-device-for-development\n",
      "  warnings.warn(message)\n",
      "Generating train split: 100%|███████████████████████████████████████████████████████████████████████████| 180000/180000 [00:00<00:00, 756480.87 examples/s]"
     ]
    },
    {
     "name": "stdout",
     "output_type": "stream",
     "text": [
      "DatasetDict({\n",
      "    train: Dataset({\n",
      "        features: ['set'],\n",
      "        num_rows: 180000\n",
      "    })\n",
      "})\n"
     ]
    },
    {
     "name": "stderr",
     "output_type": "stream",
     "text": [
      "\n"
     ]
    }
   ],
   "source": [
    "ds = datasets.load_dataset('embedding-data/sentence-compression')\n",
    "print(ds)"
   ]
  },
  {
   "cell_type": "code",
   "execution_count": 24,
   "metadata": {
    "ExecuteTime": {
     "end_time": "2025-04-15T11:56:33.548860Z",
     "start_time": "2025-04-15T11:56:33.544983Z"
    },
    "id": "bUud3eZVpSOH",
    "pycharm": {
     "name": "#%%\n"
    }
   },
   "outputs": [
    {
     "name": "stdout",
     "output_type": "stream",
     "text": [
      "{'set': [\"The USHL completed an expansion draft on Monday as 10 players who were on the rosters of USHL teams during the 2009-10 season were selected by the League's two newest entries, the Muskegon Lumberjacks and Dubuque Fighting Saints.\", 'USHL completes expansion draft']}\n",
      "{'set': ['Major League Baseball Commissioner Bud Selig will be speaking at St. Norbert College next month.', 'Bud Selig to speak at St. Norbert College']}\n",
      "{'set': [\"It's fresh cherry time in Michigan and the best time to enjoy this delicious and nutritious fruit.\", \"It's cherry time\"]}\n",
      "{'set': ['An Evesham man is facing charges in Pennsylvania after he allegedly dragged his girlfriend from the side of his pickup truck on the campus of Kutztown University in the early morning hours of Dec. 5, police said.', 'Evesham man faces charges for Pa.']}\n",
      "{'set': [\"NRT LLC, one of the nation's largest residential real estate brokerage companies, announced several executive appointments within its Coldwell Banker Residential Brokerage operations in Southern California.\", 'NRT announces executive appointments at its Coldwell Banker operations in Southern California']}\n",
      "{'set': ['THE JSE kept toying with an all time high by midday today as resources continued to fuel the bourse.', 'JSE keeps toying with all time high']}\n",
      "{'set': ['The government is defending the latest police crime statistics despite a worrying rise in the recorded amount of violent offending.', 'Government defends crime statistics']}\n",
      "{'set': ['The renovated Marappalam bridge, which had been opened for two-wheelers last week, was opened for other vehicles also on Friday.', 'Marappalam bridge opened']}\n",
      "{'set': ['A new survey shows 30 percent of Californians use Twitter, and more and more of us are using our smart phones to go online.', 'Survey: 30 percent of Californians use Twitter']}\n",
      "{'set': ['Brightpoint ,a provider of logistic services to the mobile industry, has started operations in the Turkish market.', 'Brightpoint starts operations on Turkish market']}\n"
     ]
    }
   ],
   "source": [
    "for i in range(10):\n",
    "    print(ds['train'][i])"
   ]
  },
  {
   "cell_type": "markdown",
   "metadata": {
    "collapsed": false,
    "id": "HfJSiWxrpSOH",
    "jupyter": {
     "outputs_hidden": false
    },
    "pycharm": {
     "name": "#%% md\n"
    }
   },
   "source": [
    "The dataset comes with only the `train` split so we will have to split it ourselves."
   ]
  },
  {
   "cell_type": "code",
   "execution_count": 25,
   "metadata": {
    "ExecuteTime": {
     "end_time": "2025-04-15T11:56:33.591718Z",
     "start_time": "2025-04-15T11:56:33.563193Z"
    },
    "id": "tATL53MWpSOH",
    "pycharm": {
     "name": "#%%\n"
    }
   },
   "outputs": [
    {
     "name": "stdout",
     "output_type": "stream",
     "text": [
      "DatasetDict({\n",
      "    train: Dataset({\n",
      "        features: ['set'],\n",
      "        num_rows: 144000\n",
      "    })\n",
      "    test: Dataset({\n",
      "        features: ['set'],\n",
      "        num_rows: 36000\n",
      "    })\n",
      "})\n"
     ]
    }
   ],
   "source": [
    "split_ds = ds['train'].train_test_split(test_size=0.2)\n",
    "print(split_ds)"
   ]
  },
  {
   "cell_type": "markdown",
   "metadata": {
    "collapsed": false,
    "id": "L133t3CqpSOH",
    "jupyter": {
     "outputs_hidden": false
    },
    "pycharm": {
     "name": "#%% md\n"
    }
   },
   "source": [
    "### 1.2 Preprocessing the dataset\n",
    "In this section we will prepare the dataset, aka clean the sentences and tokenize.\n",
    "\n",
    "First, let's write the function to clean the text. It can be similar to the one from the previous lab (Lab1) but make sure that it makes sense for this dataset and task.\n",
    "\n",
    "More specifically, think about lower-casing, punctuation, stop-words and lemmatization/stemming and the impact it might have on the dataset. Also reflect on the fact that with word embeddings we want to uncover semantic relationships between words, whereas with bag-of-words we were trying to capture different morphological variations."
   ]
  },
  {
   "cell_type": "markdown",
   "metadata": {
    "collapsed": false,
    "id": "mQszN6GNpSOH",
    "jupyter": {
     "outputs_hidden": false
    },
    "pycharm": {
     "name": "#%% md\n"
    }
   },
   "source": [
    "<a name='e1'></a>\n",
    "### Exercise 1: Clean function\n",
    "(1p) Fill in the following function ot clean the dataset. Implement at least 3 different steps."
   ]
  },
  {
   "cell_type": "code",
   "execution_count": 26,
   "metadata": {
    "ExecuteTime": {
     "end_time": "2025-04-15T11:56:33.598569Z",
     "start_time": "2025-04-15T11:56:33.596323Z"
    },
    "id": "TxjfLQj6pSOH",
    "pycharm": {
     "name": "#%%\n"
    }
   },
   "outputs": [],
   "source": [
    "def clean(text):\n",
    "    \"\"\"\n",
    "    Cleans the given text\n",
    "    Args:\n",
    "        text: a str with the text to clean\n",
    "\n",
    "    Returns: a str with the cleaned text\n",
    "\n",
    "    \"\"\"\n",
    "\n",
    "    # Empty text\n",
    "    if text == '':\n",
    "        return text\n",
    "\n",
    "    # 'text' from the example can be of type numpy.str_, let's convert it to a python str\n",
    "    text = str(text)\n",
    "\n",
    "    #you might need more\n",
    "    #add them here\n",
    "\n",
    "    ### YOUR CODE HERE\n",
    "\n",
    "    text = text.lower() #1\n",
    "    text = re.sub(r'[^\\w\\s]', '', text) #2\n",
    "    text = re.sub(r'\\s+', ' ', text).strip()\n",
    "    words = text.split()\n",
    "    filtered_words = [word for word in words if word not in stopwords.words('english')] #3\n",
    "\n",
    "    ### YOUR CODE ENDS HERE\n",
    "\n",
    "    text = ' '.join(filtered_words)\n",
    "\n",
    "    # Update the example with the cleaned text\n",
    "    return text"
   ]
  },
  {
   "cell_type": "markdown",
   "metadata": {
    "collapsed": false,
    "id": "gAqf1AoupSOJ",
    "jupyter": {
     "outputs_hidden": false
    },
    "pycharm": {
     "name": "#%% md\n"
    }
   },
   "source": [
    "The following function will apply the function (sic) you just wrote to the whole dataset. More specifically, it takes the first entry (`sentence`) from the set of uncompressed/compressed pairs, applies the `clean` function and saves the processed sentence in the field `clean_sentence`. The same is dome for the compressed version of the sentence (saved as `clean_compressed`)."
   ]
  },
  {
   "cell_type": "code",
   "execution_count": 27,
   "metadata": {
    "ExecuteTime": {
     "end_time": "2025-04-15T11:56:33.615392Z",
     "start_time": "2025-04-15T11:56:33.613418Z"
    },
    "id": "WZn-M4_vpSOJ",
    "pycharm": {
     "name": "#%%\n"
    }
   },
   "outputs": [],
   "source": [
    "def clean_dataset(example):\n",
    "    \"\"\"\n",
    "    Cleans the sentence and compressed sentence in the example from the Dataset\n",
    "    Args:\n",
    "        example: an example from the Dataset\n",
    "\n",
    "    Returns: updated example with 'clean_sentence' and 'clean_compressed' cleaned\n",
    "\n",
    "    \"\"\"\n",
    "    sentence, compressed = example['set']\n",
    "    clean_sentence = clean(sentence)\n",
    "    clean_compressed = clean(compressed)\n",
    "    example['clean_sentence'] = clean_sentence\n",
    "    example['clean_compressed'] = clean_compressed\n",
    "    return example"
   ]
  },
  {
   "cell_type": "markdown",
   "metadata": {
    "collapsed": false,
    "id": "_KVujosKpSOJ",
    "jupyter": {
     "outputs_hidden": false
    },
    "pycharm": {
     "name": "#%% md\n"
    }
   },
   "source": [
    "Below we apply the function to the whole dataset (using `map`) and we can also inspect the result."
   ]
  },
  {
   "cell_type": "code",
   "execution_count": 28,
   "metadata": {
    "ExecuteTime": {
     "end_time": "2025-04-15T12:00:22.792674Z",
     "start_time": "2025-04-15T11:56:33.626636Z"
    },
    "id": "NBS1JbISpSOJ",
    "pycharm": {
     "name": "#%%\n"
    }
   },
   "outputs": [
    {
     "name": "stderr",
     "output_type": "stream",
     "text": [
      "Map: 100%|█████████████████████████████████████████████████████████████████████████████████████████████████| 144000/144000 [13:17<00:00, 180.59 examples/s]\n",
      "Map: 100%|███████████████████████████████████████████████████████████████████████████████████████████████████| 36000/36000 [03:19<00:00, 180.10 examples/s]"
     ]
    },
    {
     "name": "stdout",
     "output_type": "stream",
     "text": [
      "DatasetDict({\n",
      "    train: Dataset({\n",
      "        features: ['set', 'clean_sentence', 'clean_compressed'],\n",
      "        num_rows: 144000\n",
      "    })\n",
      "    test: Dataset({\n",
      "        features: ['set', 'clean_sentence', 'clean_compressed'],\n",
      "        num_rows: 36000\n",
      "    })\n",
      "})\n"
     ]
    },
    {
     "name": "stderr",
     "output_type": "stream",
     "text": [
      "\n"
     ]
    }
   ],
   "source": [
    "split_ds = split_ds.map(clean_dataset)\n",
    "print(split_ds)"
   ]
  },
  {
   "cell_type": "markdown",
   "metadata": {
    "collapsed": false,
    "id": "X_ThE9H-pSOJ",
    "jupyter": {
     "outputs_hidden": false
    },
    "pycharm": {
     "name": "#%% md\n"
    }
   },
   "source": [
    "Let's examine some examples from the dataset and make sure that we got the results we wanted. At this step, it might be necessary to revisit some pre-processing steps if you are not happy with the results."
   ]
  },
  {
   "cell_type": "code",
   "execution_count": 29,
   "metadata": {
    "ExecuteTime": {
     "end_time": "2025-04-15T12:00:22.813886Z",
     "start_time": "2025-04-15T12:00:22.811383Z"
    },
    "id": "hP-qOPijpSOJ",
    "pycharm": {
     "name": "#%%\n"
    }
   },
   "outputs": [
    {
     "name": "stdout",
     "output_type": "stream",
     "text": [
      "{'set': ['German maker of personal care products Beiersdorf AG said Tuesday it has established an independent affiliate in Vietnam.', 'Beiersdorf establishes affiliate in Vietnam'], 'clean_sentence': 'german maker personal care products beiersdorf ag said tuesday established independent affiliate vietnam', 'clean_compressed': 'beiersdorf establishes affiliate vietnam'}\n",
      "{'set': ['In the wake of killing of 14 Hindi-speaking workers in Manipur, the Centre on Wednesday said there was a design to create problems in the name of language and region in various parts of the country and asked states to identify trouble spots for taking anticipatory action.', \"'There is design to create problems in name of region'\"], 'clean_sentence': 'wake killing 14 hindispeaking workers manipur centre wednesday said design create problems name language region various parts country asked states identify trouble spots taking anticipatory action', 'clean_compressed': 'design create problems name region'}\n",
      "{'set': ['Maryland State Police officials say a mother and daughter were hospitalized for serious injuries after a deer crashed into the interior of a truck in Easton Saturday morning.', 'Mother and daughter hospitalized after deer crashes into truck'], 'clean_sentence': 'maryland state police officials say mother daughter hospitalized serious injuries deer crashed interior truck easton saturday morning', 'clean_compressed': 'mother daughter hospitalized deer crashes truck'}\n",
      "{'set': ['A high wind warning is issued when sustained winds of 40 mph are expected.', 'High wind warnings issued'], 'clean_sentence': 'high wind warning issued sustained winds 40 mph expected', 'clean_compressed': 'high wind warnings issued'}\n",
      "{'set': ['The use of dietary supplements such as acai berry, cumin, herbal tea, turmeric as well as the prolonged use of garlic, according to a new report, may have an adverse effect on chemotherapy treatments.', 'Dietary supplements may have an adverse effect on chemotherapy treatments'], 'clean_sentence': 'use dietary supplements acai berry cumin herbal tea turmeric well prolonged use garlic according new report may adverse effect chemotherapy treatments', 'clean_compressed': 'dietary supplements may adverse effect chemotherapy treatments'}\n",
      "{'set': [\"In line with Caterpillar Inc.'s global commitment to sustainable development, two Caterpillar facilities achieved zero waste to landfill in 2010.\", 'Caterpillar facilities achieve zero waste to landfill in 2010'], 'clean_sentence': 'line caterpillar incs global commitment sustainable development two caterpillar facilities achieved zero waste landfill 2010', 'clean_compressed': 'caterpillar facilities achieve zero waste landfill 2010'}\n",
      "{'set': ['Former world No.1 Kim Clijsters of Belgium on Thursday announced her return to competitive tennis almost two years after retiring from the sport at just 23 years old.', 'Clijsters announces return'], 'clean_sentence': 'former world no1 kim clijsters belgium thursday announced return competitive tennis almost two years retiring sport 23 years old', 'clean_compressed': 'clijsters announces return'}\n",
      "{'set': [\"Peaches Geldof has claimed that she is ``the lowest dregs'' when it comes to fame.\", \"Peaches Geldof: ``I'm the lowest dregs''\"], 'clean_sentence': 'peaches geldof claimed lowest dregs comes fame', 'clean_compressed': 'peaches geldof im lowest dregs'}\n",
      "{'set': ['Around 43 per cent of smokers tried to quit in the year cigs were banned in public, experts reveal today.', '43 per cent of smokers tried to quit after cigs were banned in public'], 'clean_sentence': 'around 43 per cent smokers tried quit year cigs banned public experts reveal today', 'clean_compressed': '43 per cent smokers tried quit cigs banned public'}\n",
      "{'set': ['The Augustana College wrestling team is ranked No. 2 in the Northern Sun Intercollegiate Preason Coaches Poll, the NSIC released today.', 'Augustana ranked No. 2 in NSIC wrestling Preseason Coaches Poll'], 'clean_sentence': 'augustana college wrestling team ranked 2 northern sun intercollegiate preason coaches poll nsic released today', 'clean_compressed': 'augustana ranked 2 nsic wrestling preseason coaches poll'}\n"
     ]
    }
   ],
   "source": [
    "for i in range(10):\n",
    "    print(split_ds['train'][i])"
   ]
  },
  {
   "cell_type": "markdown",
   "metadata": {
    "collapsed": false,
    "id": "7LI2KlfypSOJ",
    "jupyter": {
     "outputs_hidden": false
    },
    "pycharm": {
     "name": "#%% md\n"
    }
   },
   "source": [
    "<a name='e2'></a>\n",
    "### Exercise 2: Tokenize function\n",
    "\n",
    "(1p) As always, we will need to tokenize the dataset in order to create bat-of-words and TF-IDF representations in the next sections. We will use the [Natural Language Toolkit (NLTK) library]([https://www.nltk.org/]) (https://www.nltk.org/). Complete the following function to split the text into tokens using the `word_tokenize()` function. Check the [documentation](https://www.nltk.org/api/nltk.tokenize.word_tokenize.html?highlight=word_tokenize) first.\n",
    "Note that there are different tokenizers e.g. `RegexpTokenizer` where you can enter your own regexp, `WhitespaceTokenizer` (similar to Python's string.split()) and `BlanklineTokenizer`."
   ]
  },
  {
   "cell_type": "code",
   "execution_count": 30,
   "metadata": {
    "ExecuteTime": {
     "end_time": "2025-04-15T12:00:22.860855Z",
     "start_time": "2025-04-15T12:00:22.858991Z"
    },
    "id": "sb-M3V6ApSOK",
    "pycharm": {
     "name": "#%%\n"
    }
   },
   "outputs": [],
   "source": [
    "def tokenize(text):\n",
    "    \"\"\"\n",
    "    Tokenizes the `text` parameter using nltk library\n",
    "    Args:\n",
    "        text: a string representing a sentence to be tokenized\n",
    "\n",
    "    Returns: a list of tokens (strings)\n",
    "\n",
    "    \"\"\"\n",
    "\n",
    "    ### YOUR CODE HERE\n",
    "\n",
    "\n",
    "    tokens = word_tokenize(text)\n",
    "\n",
    "\n",
    "    ### YOUR CODE ENDS HERE\n",
    "    return tokens"
   ]
  },
  {
   "cell_type": "markdown",
   "metadata": {
    "collapsed": false,
    "id": "gwsHqZc9pSOK",
    "jupyter": {
     "outputs_hidden": false
    },
    "pycharm": {
     "name": "#%% md\n"
    }
   },
   "source": [
    "Next, the function will be applied to the whole dataset (as we did with the pre-processing) and `sentence_tokens` field will be created to store the result."
   ]
  },
  {
   "cell_type": "code",
   "execution_count": 31,
   "metadata": {
    "ExecuteTime": {
     "end_time": "2025-04-15T12:00:22.887499Z",
     "start_time": "2025-04-15T12:00:22.885489Z"
    },
    "id": "6sTX-AcTpSOK",
    "pycharm": {
     "name": "#%%\n"
    }
   },
   "outputs": [],
   "source": [
    "def tokenize_dataset(example):\n",
    "    \"\"\"\n",
    "    Tokenizes 'clean_sentence' columns in the example from the Dataset\n",
    "    Args:\n",
    "        example: an example from the Dataset\n",
    "\n",
    "    Returns: updated example with 'sentence_tokens' columns\n",
    "\n",
    "    \"\"\"\n",
    "    example['sentence_tokens'] = tokenize(example['clean_sentence'])\n",
    "    example['compressed_tokens'] = tokenize(example['clean_compressed'])\n",
    "    return example"
   ]
  },
  {
   "cell_type": "code",
   "execution_count": 32,
   "metadata": {
    "ExecuteTime": {
     "end_time": "2025-04-15T12:00:37.983573Z",
     "start_time": "2025-04-15T12:00:22.920234Z"
    },
    "id": "jvwmXLj2pSOK",
    "pycharm": {
     "name": "#%%\n"
    }
   },
   "outputs": [
    {
     "name": "stderr",
     "output_type": "stream",
     "text": [
      "Map: 100%|████████████████████████████████████████████████████████████████████████████████████████████████| 144000/144000 [00:20<00:00, 6878.34 examples/s]\n",
      "Map: 100%|██████████████████████████████████████████████████████████████████████████████████████████████████| 36000/36000 [00:05<00:00, 6894.72 examples/s]\n"
     ]
    }
   ],
   "source": [
    "split_ds = split_ds.map(tokenize_dataset)"
   ]
  },
  {
   "cell_type": "code",
   "execution_count": 33,
   "metadata": {
    "ExecuteTime": {
     "end_time": "2025-04-15T12:00:37.993184Z",
     "start_time": "2025-04-15T12:00:37.989122Z"
    },
    "id": "yXnje31SpSOK",
    "pycharm": {
     "name": "#%%\n"
    }
   },
   "outputs": [
    {
     "name": "stdout",
     "output_type": "stream",
     "text": [
      "{'set': ['German maker of personal care products Beiersdorf AG said Tuesday it has established an independent affiliate in Vietnam.', 'Beiersdorf establishes affiliate in Vietnam'], 'clean_sentence': 'german maker personal care products beiersdorf ag said tuesday established independent affiliate vietnam', 'clean_compressed': 'beiersdorf establishes affiliate vietnam', 'sentence_tokens': ['german', 'maker', 'personal', 'care', 'products', 'beiersdorf', 'ag', 'said', 'tuesday', 'established', 'independent', 'affiliate', 'vietnam'], 'compressed_tokens': ['beiersdorf', 'establishes', 'affiliate', 'vietnam']}\n",
      "{'set': ['In the wake of killing of 14 Hindi-speaking workers in Manipur, the Centre on Wednesday said there was a design to create problems in the name of language and region in various parts of the country and asked states to identify trouble spots for taking anticipatory action.', \"'There is design to create problems in name of region'\"], 'clean_sentence': 'wake killing 14 hindispeaking workers manipur centre wednesday said design create problems name language region various parts country asked states identify trouble spots taking anticipatory action', 'clean_compressed': 'design create problems name region', 'sentence_tokens': ['wake', 'killing', '14', 'hindispeaking', 'workers', 'manipur', 'centre', 'wednesday', 'said', 'design', 'create', 'problems', 'name', 'language', 'region', 'various', 'parts', 'country', 'asked', 'states', 'identify', 'trouble', 'spots', 'taking', 'anticipatory', 'action'], 'compressed_tokens': ['design', 'create', 'problems', 'name', 'region']}\n",
      "{'set': ['Maryland State Police officials say a mother and daughter were hospitalized for serious injuries after a deer crashed into the interior of a truck in Easton Saturday morning.', 'Mother and daughter hospitalized after deer crashes into truck'], 'clean_sentence': 'maryland state police officials say mother daughter hospitalized serious injuries deer crashed interior truck easton saturday morning', 'clean_compressed': 'mother daughter hospitalized deer crashes truck', 'sentence_tokens': ['maryland', 'state', 'police', 'officials', 'say', 'mother', 'daughter', 'hospitalized', 'serious', 'injuries', 'deer', 'crashed', 'interior', 'truck', 'easton', 'saturday', 'morning'], 'compressed_tokens': ['mother', 'daughter', 'hospitalized', 'deer', 'crashes', 'truck']}\n",
      "{'set': ['A high wind warning is issued when sustained winds of 40 mph are expected.', 'High wind warnings issued'], 'clean_sentence': 'high wind warning issued sustained winds 40 mph expected', 'clean_compressed': 'high wind warnings issued', 'sentence_tokens': ['high', 'wind', 'warning', 'issued', 'sustained', 'winds', '40', 'mph', 'expected'], 'compressed_tokens': ['high', 'wind', 'warnings', 'issued']}\n",
      "{'set': ['The use of dietary supplements such as acai berry, cumin, herbal tea, turmeric as well as the prolonged use of garlic, according to a new report, may have an adverse effect on chemotherapy treatments.', 'Dietary supplements may have an adverse effect on chemotherapy treatments'], 'clean_sentence': 'use dietary supplements acai berry cumin herbal tea turmeric well prolonged use garlic according new report may adverse effect chemotherapy treatments', 'clean_compressed': 'dietary supplements may adverse effect chemotherapy treatments', 'sentence_tokens': ['use', 'dietary', 'supplements', 'acai', 'berry', 'cumin', 'herbal', 'tea', 'turmeric', 'well', 'prolonged', 'use', 'garlic', 'according', 'new', 'report', 'may', 'adverse', 'effect', 'chemotherapy', 'treatments'], 'compressed_tokens': ['dietary', 'supplements', 'may', 'adverse', 'effect', 'chemotherapy', 'treatments']}\n",
      "{'set': [\"In line with Caterpillar Inc.'s global commitment to sustainable development, two Caterpillar facilities achieved zero waste to landfill in 2010.\", 'Caterpillar facilities achieve zero waste to landfill in 2010'], 'clean_sentence': 'line caterpillar incs global commitment sustainable development two caterpillar facilities achieved zero waste landfill 2010', 'clean_compressed': 'caterpillar facilities achieve zero waste landfill 2010', 'sentence_tokens': ['line', 'caterpillar', 'incs', 'global', 'commitment', 'sustainable', 'development', 'two', 'caterpillar', 'facilities', 'achieved', 'zero', 'waste', 'landfill', '2010'], 'compressed_tokens': ['caterpillar', 'facilities', 'achieve', 'zero', 'waste', 'landfill', '2010']}\n",
      "{'set': ['Former world No.1 Kim Clijsters of Belgium on Thursday announced her return to competitive tennis almost two years after retiring from the sport at just 23 years old.', 'Clijsters announces return'], 'clean_sentence': 'former world no1 kim clijsters belgium thursday announced return competitive tennis almost two years retiring sport 23 years old', 'clean_compressed': 'clijsters announces return', 'sentence_tokens': ['former', 'world', 'no1', 'kim', 'clijsters', 'belgium', 'thursday', 'announced', 'return', 'competitive', 'tennis', 'almost', 'two', 'years', 'retiring', 'sport', '23', 'years', 'old'], 'compressed_tokens': ['clijsters', 'announces', 'return']}\n",
      "{'set': [\"Peaches Geldof has claimed that she is ``the lowest dregs'' when it comes to fame.\", \"Peaches Geldof: ``I'm the lowest dregs''\"], 'clean_sentence': 'peaches geldof claimed lowest dregs comes fame', 'clean_compressed': 'peaches geldof im lowest dregs', 'sentence_tokens': ['peaches', 'geldof', 'claimed', 'lowest', 'dregs', 'comes', 'fame'], 'compressed_tokens': ['peaches', 'geldof', 'im', 'lowest', 'dregs']}\n",
      "{'set': ['Around 43 per cent of smokers tried to quit in the year cigs were banned in public, experts reveal today.', '43 per cent of smokers tried to quit after cigs were banned in public'], 'clean_sentence': 'around 43 per cent smokers tried quit year cigs banned public experts reveal today', 'clean_compressed': '43 per cent smokers tried quit cigs banned public', 'sentence_tokens': ['around', '43', 'per', 'cent', 'smokers', 'tried', 'quit', 'year', 'cigs', 'banned', 'public', 'experts', 'reveal', 'today'], 'compressed_tokens': ['43', 'per', 'cent', 'smokers', 'tried', 'quit', 'cigs', 'banned', 'public']}\n",
      "{'set': ['The Augustana College wrestling team is ranked No. 2 in the Northern Sun Intercollegiate Preason Coaches Poll, the NSIC released today.', 'Augustana ranked No. 2 in NSIC wrestling Preseason Coaches Poll'], 'clean_sentence': 'augustana college wrestling team ranked 2 northern sun intercollegiate preason coaches poll nsic released today', 'clean_compressed': 'augustana ranked 2 nsic wrestling preseason coaches poll', 'sentence_tokens': ['augustana', 'college', 'wrestling', 'team', 'ranked', '2', 'northern', 'sun', 'intercollegiate', 'preason', 'coaches', 'poll', 'nsic', 'released', 'today'], 'compressed_tokens': ['augustana', 'ranked', '2', 'nsic', 'wrestling', 'preseason', 'coaches', 'poll']}\n"
     ]
    }
   ],
   "source": [
    "for i in range(10):\n",
    "    print(split_ds['train'][i])"
   ]
  },
  {
   "cell_type": "markdown",
   "metadata": {
    "collapsed": false,
    "id": "FeF0wFd0pSOL",
    "jupyter": {
     "outputs_hidden": false
    },
    "pycharm": {
     "name": "#%% md\n"
    }
   },
   "source": [
    "Since we will need the tokenized sentences, we can use the following statement to extract them from the `train` split of our dataset."
   ]
  },
  {
   "cell_type": "code",
   "execution_count": 34,
   "metadata": {
    "ExecuteTime": {
     "end_time": "2025-04-15T12:00:39.415439Z",
     "start_time": "2025-04-15T12:00:38.014324Z"
    },
    "id": "qYKfXFxQpSOL",
    "pycharm": {
     "name": "#%%\n"
    }
   },
   "outputs": [
    {
     "name": "stdout",
     "output_type": "stream",
     "text": [
      "144000\n",
      "[['german', 'maker', 'personal', 'care', 'products', 'beiersdorf', 'ag', 'said', 'tuesday', 'established', 'independent', 'affiliate', 'vietnam'], ['wake', 'killing', '14', 'hindispeaking', 'workers', 'manipur', 'centre', 'wednesday', 'said', 'design', 'create', 'problems', 'name', 'language', 'region', 'various', 'parts', 'country', 'asked', 'states', 'identify', 'trouble', 'spots', 'taking', 'anticipatory', 'action'], ['maryland', 'state', 'police', 'officials', 'say', 'mother', 'daughter', 'hospitalized', 'serious', 'injuries', 'deer', 'crashed', 'interior', 'truck', 'easton', 'saturday', 'morning'], ['high', 'wind', 'warning', 'issued', 'sustained', 'winds', '40', 'mph', 'expected'], ['use', 'dietary', 'supplements', 'acai', 'berry', 'cumin', 'herbal', 'tea', 'turmeric', 'well', 'prolonged', 'use', 'garlic', 'according', 'new', 'report', 'may', 'adverse', 'effect', 'chemotherapy', 'treatments'], ['line', 'caterpillar', 'incs', 'global', 'commitment', 'sustainable', 'development', 'two', 'caterpillar', 'facilities', 'achieved', 'zero', 'waste', 'landfill', '2010'], ['former', 'world', 'no1', 'kim', 'clijsters', 'belgium', 'thursday', 'announced', 'return', 'competitive', 'tennis', 'almost', 'two', 'years', 'retiring', 'sport', '23', 'years', 'old'], ['peaches', 'geldof', 'claimed', 'lowest', 'dregs', 'comes', 'fame'], ['around', '43', 'per', 'cent', 'smokers', 'tried', 'quit', 'year', 'cigs', 'banned', 'public', 'experts', 'reveal', 'today'], ['augustana', 'college', 'wrestling', 'team', 'ranked', '2', 'northern', 'sun', 'intercollegiate', 'preason', 'coaches', 'poll', 'nsic', 'released', 'today']]\n"
     ]
    }
   ],
   "source": [
    "tokenized_sentences = split_ds['train']['sentence_tokens']\n",
    "print(len(tokenized_sentences))\n",
    "print(tokenized_sentences[:10])"
   ]
  },
  {
   "cell_type": "code",
   "execution_count": 35,
   "metadata": {
    "ExecuteTime": {
     "end_time": "2025-04-15T12:00:40.054025Z",
     "start_time": "2025-04-15T12:00:39.420854Z"
    },
    "collapsed": false,
    "jupyter": {
     "outputs_hidden": false
    },
    "pycharm": {
     "name": "#%%\n"
    }
   },
   "outputs": [
    {
     "name": "stdout",
     "output_type": "stream",
     "text": [
      "144000\n",
      "[['beiersdorf', 'establishes', 'affiliate', 'vietnam'], ['design', 'create', 'problems', 'name', 'region'], ['mother', 'daughter', 'hospitalized', 'deer', 'crashes', 'truck'], ['high', 'wind', 'warnings', 'issued'], ['dietary', 'supplements', 'may', 'adverse', 'effect', 'chemotherapy', 'treatments'], ['caterpillar', 'facilities', 'achieve', 'zero', 'waste', 'landfill', '2010'], ['clijsters', 'announces', 'return'], ['peaches', 'geldof', 'im', 'lowest', 'dregs'], ['43', 'per', 'cent', 'smokers', 'tried', 'quit', 'cigs', 'banned', 'public'], ['augustana', 'ranked', '2', 'nsic', 'wrestling', 'preseason', 'coaches', 'poll']]\n"
     ]
    }
   ],
   "source": [
    "tokenized_compressed = split_ds['train']['compressed_tokens']\n",
    "print(len(tokenized_compressed))\n",
    "print(tokenized_compressed[:10])"
   ]
  },
  {
   "cell_type": "markdown",
   "metadata": {
    "id": "ZDGwEiZeCA5U",
    "pycharm": {
     "name": "#%% md\n"
    }
   },
   "source": [
    "Notice the difference in the types of the different structures we use. Run the following cell to check the types. Do they make sense to you?"
   ]
  },
  {
   "cell_type": "code",
   "execution_count": 36,
   "metadata": {
    "ExecuteTime": {
     "end_time": "2025-04-15T12:00:43.090252Z",
     "start_time": "2025-04-15T12:00:40.059531Z"
    },
    "id": "wKrkFmcZCtOd",
    "pycharm": {
     "name": "#%%\n"
    }
   },
   "outputs": [
    {
     "name": "stdout",
     "output_type": "stream",
     "text": [
      "<class 'datasets.dataset_dict.DatasetDict'>\n",
      "--\n",
      "{'set': ['In the wake of killing of 14 Hindi-speaking workers in Manipur, the Centre on Wednesday said there was a design to create problems in the name of language and region in various parts of the country and asked states to identify trouble spots for taking anticipatory action.', \"'There is design to create problems in name of region'\"], 'clean_sentence': 'wake killing 14 hindispeaking workers manipur centre wednesday said design create problems name language region various parts country asked states identify trouble spots taking anticipatory action', 'clean_compressed': 'design create problems name region', 'sentence_tokens': ['wake', 'killing', '14', 'hindispeaking', 'workers', 'manipur', 'centre', 'wednesday', 'said', 'design', 'create', 'problems', 'name', 'language', 'region', 'various', 'parts', 'country', 'asked', 'states', 'identify', 'trouble', 'spots', 'taking', 'anticipatory', 'action'], 'compressed_tokens': ['design', 'create', 'problems', 'name', 'region']}\n",
      "<class 'dict'>\n",
      "--\n",
      "wake killing 14 hindispeaking workers manipur centre wednesday said design create problems name language region various parts country asked states identify trouble spots taking anticipatory action\n",
      "<class 'str'>\n",
      "--\n",
      "['wake', 'killing', '14', 'hindispeaking', 'workers', 'manipur', 'centre', 'wednesday', 'said', 'design', 'create', 'problems', 'name', 'language', 'region', 'various', 'parts', 'country', 'asked', 'states', 'identify', 'trouble', 'spots', 'taking', 'anticipatory', 'action']\n",
      "<class 'list'>\n",
      "--\n"
     ]
    }
   ],
   "source": [
    "#type of original dataset\n",
    "print(type(split_ds))\n",
    "print(\"--\")\n",
    "#type of original sentence\n",
    "print(split_ds['train'][1])\n",
    "print(type(split_ds['train'][1]))\n",
    "print(\"--\")\n",
    "#type of pre-proceesed sentence\n",
    "print(split_ds['train']['clean_sentence'][1])\n",
    "print(type(split_ds['train']['clean_sentence'][1]))\n",
    "print(\"--\")\n",
    "#type of tokenized sentence\n",
    "print(split_ds['train']['sentence_tokens'][1])\n",
    "print(type(split_ds['train']['sentence_tokens'][1]))\n",
    "print(\"--\")"
   ]
  },
  {
   "cell_type": "markdown",
   "metadata": {
    "collapsed": false,
    "jupyter": {
     "outputs_hidden": false
    },
    "pycharm": {
     "name": "#%% md\n"
    }
   },
   "source": [
    "## 2. Bag of Words\n",
    "In this section you will built a bag-of-words representation of the dataset. We will use numpy arrays to store the results. The bag-of-words representation is a simple and effective way to represent text data. It involves creating a vocabulary of unique words from the dataset and representing each sentence as a vector of word counts. We first need the vocabulary, which we will build from both the full sentences and the compressed sentences. Similar to the first lab, the vocabulary will be a list of unique words from the dataset."
   ]
  },
  {
   "cell_type": "markdown",
   "metadata": {
    "collapsed": false,
    "jupyter": {
     "outputs_hidden": false
    },
    "pycharm": {
     "name": "#%% md\n"
    }
   },
   "source": [
    "<a name='e3'></a>\n",
    "### Exercise 3: Extracting vocabulary counts\n",
    "\n",
    "(1p) In the following cell, you will implement a function that takes a list of tokenized sentences and returns a dictionary with the counts of each word in the vocabulary. The dictionary should be of the form {word: count}. As in previous lab, you will use the `Counter` class from the `collections` module to do this."
   ]
  },
  {
   "cell_type": "code",
   "execution_count": 37,
   "metadata": {
    "ExecuteTime": {
     "end_time": "2025-04-15T12:00:43.098112Z",
     "start_time": "2025-04-15T12:00:43.095637Z"
    },
    "collapsed": false,
    "jupyter": {
     "outputs_hidden": false
    },
    "pycharm": {
     "name": "#%%\n"
    }
   },
   "outputs": [],
   "source": [
    "from collections import Counter\n",
    "\n",
    "\n",
    "def extract_vocabulary_counts(tokenized_sentences):\n",
    "    \"\"\"\n",
    "    Extracts the vocabulary from the tokenized sentences\n",
    "    Args:\n",
    "        tokenized_sentences: a list of lists of tokens\n",
    "\n",
    "    Returns: a Counter object with the counts of each word in the vocabulary\n",
    "    \"\"\"\n",
    "\n",
    "    ### YOUR CODE HERE\n",
    "    all_tokens = [word for sentence in tokenized_sentences for word in sentence]\n",
    "    vocab_counter = Counter(all_tokens)\n",
    "\n",
    "\n",
    "    return vocab_counter\n",
    "    ### YOUR CODE ENDS HERE"
   ]
  },
  {
   "cell_type": "code",
   "execution_count": 38,
   "metadata": {
    "ExecuteTime": {
     "end_time": "2025-04-15T12:00:43.472343Z",
     "start_time": "2025-04-15T12:00:43.128138Z"
    },
    "collapsed": false,
    "jupyter": {
     "outputs_hidden": false
    },
    "pycharm": {
     "name": "#%%\n"
    }
   },
   "outputs": [
    {
     "name": "stdout",
     "output_type": "stream",
     "text": [
      "119168\n",
      "[('new', 20125), ('said', 20048), ('man', 11998), ('us', 11527), ('today', 9863), ('police', 9826), ('two', 9335), ('first', 8000), ('announced', 7595), ('tuesday', 7368)]\n"
     ]
    }
   ],
   "source": [
    "vocab_counter = extract_vocabulary_counts(tokenized_sentences + tokenized_compressed)\n",
    "print(len(vocab_counter))\n",
    "print(vocab_counter.most_common(10))"
   ]
  },
  {
   "cell_type": "markdown",
   "metadata": {
    "collapsed": false,
    "jupyter": {
     "outputs_hidden": false
    },
    "pycharm": {
     "name": "#%% md\n"
    }
   },
   "source": [
    "As you can see the size of the vocabulary is quite large. Like the last time, we will limit the vocabulary to the most frequent words. The next cell will create a dictionary that maps each word to an index in the vocabulary. This will be used to create the bag-of-words representation of the sentences."
   ]
  },
  {
   "cell_type": "code",
   "execution_count": 39,
   "metadata": {
    "ExecuteTime": {
     "end_time": "2025-04-15T12:00:43.573814Z",
     "start_time": "2025-04-15T12:00:43.546185Z"
    },
    "collapsed": false,
    "jupyter": {
     "outputs_hidden": false
    },
    "pycharm": {
     "name": "#%%\n"
    }
   },
   "outputs": [
    {
     "name": "stdout",
     "output_type": "stream",
     "text": [
      "{'new': 0, 'said': 1, 'man': 2, 'us': 3, 'today': 4, 'police': 5, 'two': 6, 'first': 7, 'announced': 8, 'tuesday': 9, 'monday': 10, 'wednesday': 11, 'thursday': 12, 'year': 13, 'state': 14, 'friday': 15, 'president': 16, 'former': 17, 'says': 18, 'one': 19, 'million': 20, 'years': 21, 'last': 22, 'county': 23, 'according': 24, 'may': 25, 'city': 26, 'woman': 27, 'saturday': 28, 'three': 29, 'home': 30, 'minister': 31, 'week': 32, 'sunday': 33, 'world': 34, 'government': 35, 'people': 36, 'company': 37, 'time': 38, 'killed': 39, 'india': 40, 'night': 41, 'national': 42, 'bank': 43, 'south': 44, 'next': 45, 'day': 46, 'found': 47, 'morning': 48, 'arrested': 49, 'died': 50, 'court': 51, 'set': 52, 'charged': 53, 'second': 54, 'back': 55, 'would': 56, 'school': 57, 'obama': 58, 'could': 59, 'reported': 60, 'market': 61, 'fire': 62, 'group': 63, 'international': 64, 'open': 65, 'business': 66, 'oil': 67, 'season': 68, 'china': 69, 'house': 70, 'car': 71, 'early': 72, 'north': 73, 'charges': 74, 'service': 75, 'reports': 76, 'prices': 77, 'team': 78, 'news': 79, 'high': 80, 'inc': 81, 'plans': 82, 'united': 83, 'star': 84, 'global': 85, 'four': 86, 'officials': 87, 'dies': 88, 'country': 89, 'guilty': 90, 'month': 91, 'following': 92, 'hospital': 93, 'public': 94, 'death': 95, 'billion': 96, 'report': 97, 'health': 98, 'released': 99, 'near': 100, 'services': 101, 'yesterday': 102, 'york': 103, 'american': 104, 'chief': 105, 'federal': 106, 'office': 107, 'hit': 108, 'league': 109, 'show': 110, 'say': 111, 'end': 112, 'west': 113, 'help': 114, 'months': 115, 'made': 116, '2012': 117, 'security': 118, 'game': 119, 'financial': 120, 'indian': 121, 'pakistan': 122, 'make': 123, 'take': 124, 'economic': 125, '10': 126, 'accused': 127, 'percent': 128, 'five': 129, 'coach': 130, 'states': 131, 'another': 132, 'local': 133, 'per': 134, 'play': 135, 'jobs': 136, 'top': 137, 'british': 138, 'dead': 139, 'john': 140, 'launched': 141, 'life': 142, 'power': 143, 'announces': 144, 'expected': 145, 'third': 146, 'work': 147, 'official': 148, 'center': 149, 'major': 150, 'energy': 151, 'part': 152, 'cut': 153, 'european': 154, 'record': 155, 'deal': 156, 'win': 157, 'university': 158, 'launches': 159, 'trade': 160, 'cup': 161, 'told': 162, 'shot': 163, 'general': 164, 'media': 165, 'return': 166, '1': 167, 'march': 168, 'crash': 169, 'leader': 170, 'held': 171, 'stocks': 172, 'days': 173, 'support': 174, 'gas': 175, 'get': 176, 'officer': 177, 'party': 178, 'uk': 179, 'left': 180, 'air': 181, 'close': 182, 'due': 183, '2010': 184, 'online': 185, 'free': 186, 'foreign': 187, 'department': 188, 'street': 189, 'since': 190, 'economy': 191, 'area': 192, 'head': 193, 'sales': 194, 'central': 195, 'six': 196, 'injured': 197, 'drug': 198, 'child': 199, 'bill': 200, 'release': 201, 'still': 202, '2011': 203, 'district': 204, 'london': 205, 'road': 206, 'prime': 207, 'including': 208, 'launch': 209, 'family': 210, 'called': 211, 'capital': 212, 'series': 213, 'afternoon': 214, 'weekend': 215, 'mobile': 216, 'start': 217, 'visit': 218, 'face': 219, 'shares': 220, 'club': 221, 'fall': 222, 'dollar': 223, 'stock': 224, 'students': 225, 'st': 226, 'quarter': 227, 'women': 228, 'system': 229, 'david': 230, 'tax': 231, 'men': 232, 'tour': 233, 'development': 234, 'campaign': 235, 'park': 236, 'military': 237, 'june': 238, '20': 239, '2': 240, 'final': 241, 'board': 242, 'fell': 243, 'attack': 244, 'despite': 245, 'like': 246, 'australian': 247, 'east': 248, 'wins': 249, 'best': 250, 'april': 251, 'signed': 252, 'markets': 253, 'big': 254, 'across': 255, 'film': 256, 'water': 257, 'children': 258, 'cancer': 259, 'barack': 260, 'go': 261, 'council': 262, 'football': 263, '11': 264, 'plan': 265, 'washington': 266, 'meeting': 267, 'way': 268, 'corp': 269, 'industry': 270, 'iran': 271, 'sentenced': 272, 'data': 273, 'leading': 274, 'growth': 275, 'around': 276, 'afghanistan': 277, 'actor': 278, 'talks': 279, 'gold': 280, 'pay': 281, 'revealed': 282, '2009': 283, 'manager': 284, 'contract': 285, 'buy': 286, '2013': 287, 'late': 288, 'case': 289, 'research': 290, 'san': 291, 'weeks': 292, 'largest': 293, 'management': 294, '30': 295, 'price': 296, 'money': 297, 'law': 298, 'run': 299, 'allegedly': 300, 'games': 301, 'move': 302, 'australia': 303, 'authorities': 304, 'prison': 305, 'food': 306, 'director': 307, 'chinese': 308, 'conference': 309, 'agency': 310, '3': 311, 'medical': 312, 'host': 313, 'murder': 314, 'political': 315, 'wants': 316, 'agreement': 317, 'confirmed': 318, 'higher': 319, 'program': 320, 'july': 321, 'number': 322, 'several': 323, 'white': 324, 'rate': 325, 'increase': 326, 'michael': 327, 'crisis': 328, 'annual': 329, '12': 330, 'worlds': 331, 'technology': 332, 'community': 333, 'firm': 334, 'recent': 335, 'workers': 336, 'england': 337, 'hold': 338, 'recently': 339, 'town': 340, 'test': 341, 'budget': 342, 'girl': 343, 'closed': 344, '15': 345, 'saying': 346, 'use': 347, 'surgery': 348, 'network': 349, 'young': 350, 'good': 351, 'union': 352, 'press': 353, 'music': 354, 'investment': 355, 'continue': 356, 'tv': 357, 'companies': 358, 'private': 359, 'lead': 360, 'senior': 361, 'nearly': 362, 'demand': 363, 'many': 364, 'actress': 365, 'special': 366, 'college': 367, 'right': 368, 'provider': 369, 'study': 370, 'live': 371, 'rise': 372, 'well': 373, 'latest': 374, 'production': 375, 'become': 376, 'sex': 377, 'away': 378, 'pm': 379, 'rights': 380, 'opened': 381, 'rose': 382, 'lower': 383, 'russia': 384, 'place': 385, 'age': 386, 'los': 387, 'taking': 388, 'shooting': 389, 'share': 390, 'fight': 391, 'election': 392, 'southern': 393, 'secretary': 394, 'red': 395, 'french': 396, 'making': 397, 'action': 398, 'wife': 399, 'cent': 400, 'war': 401, 'meet': 402, 'likely': 403, 'trial': 404, 'offer': 405, 'mark': 406, 'forces': 407, 'named': 408, 'care': 409, 'long': 410, 'banks': 411, 'opens': 412, 'congress': 413, 'body': 414, 'texas': 415, 'store': 416, 'january': 417, 'trading': 418, 'baby': 419, 'going': 420, 'centre': 421, 'senate': 422, 'line': 423, 'rates': 424, 'accident': 425, 'updated': 426, '5': 427, 'singer': 428, 'canada': 429, 'credit': 430, 'assault': 431, 'investors': 432, 'signs': 433, 'judge': 434, 'facing': 435, 'coast': 436, 'america': 437, 'social': 438, 'korea': 439, 'angeles': 440, 'members': 441, 'presidential': 442, 'rs': 443, 'sign': 444, 'grand': 445, 'emergency': 446, 'hours': 447, 'also': 448, 'faces': 449, 'points': 450, 'profit': 451, 'boy': 452, 'debt': 453, 'ahead': 454, 'real': 455, 'japan': 456, 'leaders': 457, 'premier': 458, 'video': 459, 'information': 460, '100': 461, 'small': 462, 'filed': 463, 'strong': 464, 'amid': 465, 'project': 466, 'results': 467, 'interest': 468, 'nuclear': 469, 'working': 470, 'title': 471, 'times': 472, 'loss': 473, 'products': 474, 'paul': 475, 'region': 476, 'russian': 477, 'calls': 478, 'issued': 479, 'building': 480, 'even': 481, 'future': 482, '2008': 483, 'german': 484, 'pleaded': 485, 'plant': 486, 'ago': 487, 'ministry': 488, 'governor': 489, 'past': 490, 'least': 491, 'players': 492, 'nations': 493, 'executive': 494, 'california': 495, 'fourth': 496, 'fund': 497, 'pleads': 498, 'google': 499, 'charge': 500, 'seven': 501, 'force': 502, '4': 503, 'without': 504, 'residents': 505, 'software': 506, 'africa': 507, 'heart': 508, 'delhi': 509, 'exchange': 510, 'call': 511, 'student': 512, 'february': 513, 'army': 514, 'earlier': 515, 'chairman': 516, 'driver': 517, 'coming': 518, 'apple': 519, 'airlines': 520, '25': 521, 'player': 522, 'asian': 523, 'took': 524, 'old': 525, 'leave': 526, 'james': 527, 'september': 528, 'bus': 529, 'falls': 530, 'schools': 531, 'reportedly': 532, 'sell': 533, 'race': 534, 'israel': 535, 'france': 536, 'summer': 537, 'agreed': 538, 'makes': 539, 'site': 540, 'opening': 541, 'order': 542, 'taken': 543, 'lost': 544, 'europe': 545, 'november': 546, 'planning': 547, 'northern': 548, 'beat': 549, 'canadian': 550, 'cash': 551, 'role': 552, 'human': 553, 'bid': 554, 'forward': 555, 'corporation': 556, 'florida': 557, 'traffic': 558, 'side': 559, 'injury': 560, 'cuts': 561, 'claims': 562, 'countrys': 563, 'looking': 564, 'internet': 565, 'republican': 566, 'returns': 567, '14': 568, 'change': 569, 'half': 570, 'october': 571, 'victory': 572, 'killing': 573, 'key': 574, 'policy': 575, 'education': 576, 'suspended': 577, '13': 578, 'stop': 579, 'issues': 580, 'river': 581, 'control': 582, 'continues': 583, 'missing': 584, 'operations': 585, 'sector': 586, 'come': 587, 'fans': 588, 'much': 589, 'round': 590, 'job': 591, 'sports': 592, 'co': 593, 'album': 594, 'website': 595, 'station': 596, 'great': 597, 'gov': 598, '18': 599, 'lake': 600, 'match': 601, 'training': 602, 'need': 603, 'jail': 604, 'arrest': 605, 'led': 606, 'keep': 607, 'remain': 608, 'evening': 609, 'strike': 610, 'december': 611, 'used': 612, 'running': 613, '50': 614, '21': 615, 'issue': 616, 'raise': 617, 'guard': 618, 'parliament': 619, 'association': 620, 'offering': 621, 'trying': 622, 'getting': 623, 'got': 624, 'countries': 625, 'consumer': 626, 'israeli': 627, 'august': 628, 'better': 629, 'brown': 630, 'hall': 631, '16': 632, 'airport': 633, 'driving': 634, 'george': 635, 'chris': 636, 'put': 637, 'ready': 638, 'must': 639, 'current': 640, 'takes': 641, 'sale': 642, 'biggest': 643, 'domestic': 644, 'train': 645, 'black': 646, 'join': 647, '6': 648, 'shows': 649, 'construction': 650, 'remains': 651, 'received': 652, 'property': 653, 'manchester': 654, 'soon': 655, 'commission': 656, 'vote': 657, 'customers': 658, 'level': 659, 'member': 660, 'ended': 661, 'eight': 662, 'giant': 663, 'insurance': 664, 'euro': 665, 'want': 666, 'green': 667, 'search': 668, 'troops': 669, 'weather': 670, 'investigating': 671, 'african': 672, 'vehicle': 673, '7': 674, 'officers': 675, 'low': 676, 'western': 677, 'full': 678, 'chicago': 679, 'ban': 680, 'see': 681, 'robert': 682, 'sold': 683, 'give': 684, 'brand': 685, 'bankruptcy': 686, 'event': 687, 'committee': 688, 'facebook': 689, '8': 690, 'regional': 691, 'session': 692, 'island': 693, 'sexual': 694, 'elections': 695, 'champion': 696, 'statement': 697, 'cricket': 698, 'announce': 699, 'post': 700, 'safety': 701, 'field': 702, 'little': 703, 'among': 704, '24': 705, 'hollywood': 706, 'retail': 707, 'stage': 708, 'movie': 709, 'sri': 710, 'behind': 711, 'mother': 712, 'border': 713, '17': 714, 'thousands': 715, 'finance': 716, 'admitted': 717, 'wall': 718, 'history': 719, 'son': 720, 'sen': 721, 'staff': 722, 'love': 723, 'along': 724, 'career': 725, 'target': 726, 'warned': 727, 'turkey': 728, 'later': 729, 'solutions': 730, 'championship': 731, '22': 732, 'outside': 733, 'fuel': 734, 'iraq': 735, 'upcoming': 736, 'gains': 737, 'struck': 738, 'singh': 739, 'awards': 740, 'valley': 741, 'systems': 742, 'mortgage': 743, 'storm': 744, 'suicide': 745, 'award': 746, 'based': 747, 'space': 748, 'within': 749, 'miss': 750, 'debut': 751, 'opposition': 752, 'risk': 753, 'olympic': 754, 'recovery': 755, 'rock': 756, 'anniversary': 757, 'practice': 758, 'using': 759, 'offers': 760, 'selling': 761, 'beach': 762, 'jackson': 763, 'violence': 764, 'sent': 765, 'maker': 766, 'name': 767, 'couple': 768, 'given': 769, 'justice': 770, 'eastern': 771, 'peace': 772, 'losses': 773, 'positive': 774, 'mayor': 775, 'bay': 776, 'raised': 777, 'flu': 778, 'needs': 779, 'phone': 780, 'housing': 781, 'travel': 782, 'tonight': 783, 'middle': 784, 'hes': 785, 'claimed': 786, 'provide': 787, 'festival': 788, 'protection': 789, 'performance': 790, 'spending': 791, 'ltd': 792, 'loan': 793, 'owner': 794, 'confidence': 795, 'protest': 796, 'candidate': 797, 'leaving': 798, 'list': 799, 'im': 800, 'funds': 801, 'possible': 802, 'japanese': 803, 'mexico': 804, 'germany': 805, 'soldiers': 806, 'decision': 807, 'officially': 808, 'almost': 809, 'growing': 810, 'joint': 811, 'worth': 812, 'attacks': 813, 'build': 814, 'williams': 815, 'truck': 816, 'natural': 817, 'act': 818, 'church': 819, 'continued': 820, 'microsoft': 821, 'businesses': 822, 'democratic': 823, 'television': 824, 'girls': 825, 'files': 826, 'hotel': 827, 'cost': 828, 'zealand': 829, 'showed': 830, 'battle': 831, 'declared': 832, 'changes': 833, 'fraud': 834, 'acquire': 835, 'mumbai': 836, 'legal': 837, 'single': 838, 'less': 839, 'plane': 840, 'interview': 841, 'costs': 842, 'veteran': 843, 'deputy': 844, 'survey': 845, 'un': 846, 'approved': 847, 'robbery': 848, 'rally': 849, 'soldier': 850, 'georgia': 851, 'reserve': 852, '19': 853, 'alleged': 854, 'serious': 855, '9': 856, 'employees': 857, 'falling': 858, 'boost': 859, 'daily': 860, 'de': 861, 'johnson': 862, 'pressure': 863, 'asia': 864, 'known': 865, 'heavy': 866, 'break': 867, 'husband': 868, 'sources': 869, '31': 870, 'supply': 871, 'aid': 872, 'drive': 873, 'britain': 874, 'starting': 875, 'ever': 876, 'jailed': 877, 'smith': 878, 'warning': 879, 'stores': 880, 'inflation': 881, 'hopes': 882, 'radio': 883, 'defence': 884, '40': 885, 'defense': 886, 'stay': 887, 'mike': 888, 'dr': 889, 'popular': 890, '23': 891, 'returned': 892, 'asked': 893, 'captain': 894, 'joe': 895, 'vice': 896, 'baseball': 897, 'point': 898, 'daughter': 899, 'land': 900, 'bush': 901, 'projects': 902, 'stars': 903, 'rep': 904, 'nine': 905, 'injuries': 906, 'increased': 907, 'main': 908, 'basketball': 909, 'facility': 910, 'teams': 911, 'father': 912, 'seen': 913, 'boston': 914, 'christmas': 915, 'lady': 916, 'fired': 917, 'gets': 918, 'armed': 919, 'web': 920, 'acquired': 921, 'homes': 922, 'nation': 923, 'futures': 924, 'carolina': 925, 'italian': 926, 'administration': 927, 'drop': 928, 'calif': 929, 'division': 930, 'step': 931, 'might': 932, 'dropped': 933, 'dont': 934, 'highway': 935, 'straight': 936, 'fiscal': 937, 'playing': 938, 'commercial': 939, 'gay': 940, 'areas': 941, 'every': 942, 'dog': 943, 'book': 944, 'large': 945, 'ground': 946, 'stadium': 947, 'total': 948, 'whose': 949, 'bond': 950, 'convicted': 951, 'pakistani': 952, 'passed': 953, 'spring': 954, 'appointed': 955, 'champions': 956, 'martin': 957, 'drugs': 958, 'met': 959, 'recession': 960, 'teacher': 961, 'never': 962, 'completed': 963, 'look': 964, '27': 965, 'khan': 966, 'double': 967, 'moving': 968, 'know': 969, 'palestinian': 970, 'winning': 971, 'suffered': 972, 'started': 973, 'common': 974, 'partnership': 975, 'went': 976, 'bring': 977, 'flight': 978, 'winter': 979, 'begin': 980, 'striker': 981, 'earnings': 982, 'investigation': 983, 'super': 984, 'concerns': 985, 'criminal': 986, 'communications': 987, 'failed': 988, 'syria': 989, 'wont': 990, 'hits': 991, 'flights': 992, 'gun': 993, 'efforts': 994, 'bomb': 995, 'published': 996, 'abuse': 997, 'al': 998, 'boss': 999, 'joined': 1000, 'decided': 1001, 'turned': 1002, 'reached': 1003, 'prince': 1004, 'steve': 1005, 'unit': 1006, 'justin': 1007, 'person': 1008, 'front': 1009, 'digital': 1010, 'already': 1011, 'jones': 1012, 'term': 1013, 'raises': 1014, 'ceo': 1015, 'nfl': 1016, 'la': 1017, 'paid': 1018, 'index': 1019, 'king': 1020, 'connection': 1021, 'create': 1022, 'finally': 1023, 'treatment': 1024, 'watch': 1025, 'supreme': 1026, 'forced': 1027, 'light': 1028, 'expand': 1029, 'twitter': 1030, 'parts': 1031, '26': 1032, 'civil': 1033, 'conditions': 1034, 'banned': 1035, 'suspected': 1036, 'turkish': 1037, 'cars': 1038, 'tom': 1039, 'begins': 1040, 'find': 1041, 'giving': 1042, 'goes': 1043, 'yet': 1044, 'spokesman': 1045, 'suspect': 1046, 'stake': 1047, 'problems': 1048, '28': 1049, 'seeking': 1050, 'lanka': 1051, 'operation': 1052, 'toronto': 1053, 'together': 1054, 'birth': 1055, 'partner': 1056, 'womens': 1057, 'hundreds': 1058, 'scheduled': 1059, 'celebrate': 1060, 'caught': 1061, 'ambassador': 1062, 'cooperation': 1063, 'access': 1064, 'afghan': 1065, 'caused': 1066, 'patients': 1067, 'iranian': 1068, 'ohio': 1069, 'attorney': 1070, 'improve': 1071, 'base': 1072, 'senator': 1073, 'ryan': 1074, 'robbed': 1075, 'joins': 1076, 'holding': 1077, 'attacked': 1078, 'sea': 1079, 'assembly': 1080, 'steel': 1081, 'focus': 1082, 'leaves': 1083, 'jury': 1084, 'involved': 1085, 'save': 1086, 'levels': 1087, 'process': 1088, 'crashed': 1089, 'reduce': 1090, 'marriage': 1091, 'houston': 1092, 'funding': 1093, 'assets': 1094, 'revenue': 1095, 'industrial': 1096, 'reach': 1097, 'divorce': 1098, '500': 1099, 'unemployment': 1100, 'kill': 1101, 'releases': 1102, 'review': 1103, 'illegal': 1104, 'minnesota': 1105, 'unveiled': 1106, 'track': 1107, 'banking': 1108, 'michigan': 1109, 'kim': 1110, 'added': 1111, 'holiday': 1112, 'independent': 1113, 'peter': 1114, 'ruled': 1115, 'stabbed': 1116, 'retirement': 1117, 'gulf': 1118, 'lawsuit': 1119, 'range': 1120, 'arrived': 1121, 'admits': 1122, 'relations': 1123, 'personal': 1124, 'saudi': 1125, 'available': 1126, 'corporate': 1127, 'iphone': 1128, 'camp': 1129, 'royal': 1130, 'dollars': 1131, 'rising': 1132, 'rest': 1133, 'wanted': 1134, 'clinton': 1135, 'sheriffs': 1136, 'returning': 1137, 'net': 1138, 'syrian': 1139, 'marketing': 1140, 'nato': 1141, 'minor': 1142, 'magazine': 1143, 'whether': 1144, 'taylor': 1145, 'stolen': 1146, 'birthday': 1147, 'inside': 1148, 'companys': 1149, 'records': 1150, 'bridge': 1151, 'worldwide': 1152, 'perform': 1153, 'tournament': 1154, 'crime': 1155, 'researchers': 1156, 'platform': 1157, 'posted': 1158, 'groups': 1159, 'users': 1160, 'earthquake': 1161, 'liverpool': 1162, 'affairs': 1163, 'figures': 1164, 'solar': 1165, 'singapore': 1166, 'romney': 1167, 'incident': 1168, 'youth': 1169, 'celebrates': 1170, 'friends': 1171, 'urged': 1172, 'resources': 1173, 'blue': 1174, 'agent': 1175, 'cases': 1176, 'concert': 1177, 'crude': 1178, 'lee': 1179, 'eu': 1180, 'stand': 1181, 'rape': 1182, 'turn': 1183, 'province': 1184, 'kansas': 1185, 'appeal': 1186, 'band': 1187, 'split': 1188, 'manufacturing': 1189, 'fashion': 1190, 'direct': 1191, 'producer': 1192, 'damage': 1193, 'think': 1194, 'ireland': 1195, 'short': 1196, 'condition': 1197, 'primary': 1198, 'suffering': 1199, 'equity': 1200, 'living': 1201, 'tony': 1202, 'hard': 1203, 'village': 1204, 'receive': 1205, 'broke': 1206, 'stealing': 1207, 'rises': 1208, 'period': 1209, 'spanish': 1210, 'jan': 1211, 'scott': 1212, 'technologies': 1213, 'ceremony': 1214, 'midfielder': 1215, 'dubai': 1216, 'proposed': 1217, 'form': 1218, 'fox': 1219, 'rules': 1220, 'fresh': 1221, 'channel': 1222, 'extended': 1223, 'ship': 1224, 'jennifer': 1225, 'fort': 1226, 'korean': 1227, 'came': 1228, 'chelsea': 1229, 'others': 1230, 'ordered': 1231, 'massive': 1232, 'class': 1233, 'taliban': 1234, 'corruption': 1235, 'source': 1236, 'newspaper': 1237, 'competition': 1238, 'potential': 1239, 'operator': 1240, 'disease': 1241, 'jersey': 1242, 'seek': 1243, 'institute': 1244, 'comes': 1245, 'americans': 1246, 'card': 1247, 'helped': 1248, 'female': 1249, 'gives': 1250, 'model': 1251, 'fifth': 1252, 'soccer': 1253, 'far': 1254, 'spain': 1255, 'strategic': 1256, 'scientists': 1257, 'auto': 1258, 'cause': 1259, 'offered': 1260, 'planned': 1261, 'louis': 1262, 'limited': 1263, 'calling': 1264, '200': 1265, 'cabinet': 1266, 'threat': 1267, 'discuss': 1268, 'programme': 1269, 'paris': 1270, 'orders': 1271, 'entertainment': 1272, 'downtown': 1273, 'parents': 1274, 'ali': 1275, 'pregnant': 1276, 'vehicles': 1277, 'scheme': 1278, 'kevin': 1279, 'address': 1280, 'quality': 1281, 'expects': 1282, 'apartment': 1283, 'began': 1284, 'militants': 1285, 'challenge': 1286, 'deficit': 1287, 'highest': 1288, 'firefighters': 1289, 'acquisition': 1290, 'taiwan': 1291, 'miami': 1292, 'ties': 1293, 'overnight': 1294, 'moved': 1295, '29': 1296, 'partners': 1297, 'barrel': 1298, 'bad': 1299, 'voted': 1300, 'aircraft': 1301, 'leads': 1302, 'morgan': 1303, 'previous': 1304, 'pop': 1305, 'tried': 1306, 'doctors': 1307, 'victims': 1308, 'losing': 1309, 'buying': 1310, 'felony': 1311, 'bills': 1312, 'adding': 1313, 'nba': 1314, 'brother': 1315, 'sydney': 1316, 'writer': 1317, 'terms': 1318, 'quarterly': 1319, 'brazil': 1320, 'acquires': 1321, 'egypt': 1322, 'room': 1323, 'doesnt': 1324, 'illinois': 1325, 'estate': 1326, 'teen': 1327, 'mining': 1328, 'winner': 1329, 'protect': 1330, 'hurricane': 1331, 'controversial': 1332, 'society': 1333, 'receives': 1334, 'draw': 1335, 'engaged': 1336, 'port': 1337, 'blood': 1338, 'tomorrow': 1339, 'played': 1340, 'girlfriend': 1341, 'charity': 1342, 'course': 1343, 'las': 1344, 'weak': 1345, 'alex': 1346, 'coal': 1347, 'denied': 1348, 'response': 1349, 'reform': 1350, 'view': 1351, 'looks': 1352, 'tiger': 1353, 'irish': 1354, 'operating': 1355, 'flat': 1356, 'allow': 1357, 'towards': 1358, 'italy': 1359, 'memorial': 1360, 'worker': 1361, 'date': 1362, 'dividend': 1363, 'teachers': 1364, 'sells': 1365, 'bail': 1366, 'academy': 1367, 'wedding': 1368, 'indicted': 1369, 'airline': 1370, 'appear': 1371, 'starts': 1372, 'fair': 1373, 'product': 1374, 'heard': 1375, 'rescued': 1376, 'compared': 1377, 'custody': 1378, 'fined': 1379, 'boat': 1380, 'draft': 1381, 'legend': 1382, 'hill': 1383, 'fame': 1384, 'farmers': 1385, 'governments': 1386, 'effort': 1387, 'voters': 1388, 'hospitalized': 1389, 'ministers': 1390, 'celebrated': 1391, 'elderly': 1392, 'closing': 1393, 'grant': 1394, 'claim': 1395, 'climate': 1396, 'beating': 1397, 'talk': 1398, 'committed': 1399, 'gave': 1400, 'rating': 1401, 'feb': 1402, 'azerbaijan': 1403, 'restaurant': 1404, 'measures': 1405, 'farm': 1406, 'detroit': 1407, 'snow': 1408, 'fighting': 1409, 'andrew': 1410, 'defender': 1411, 'summit': 1412, 'lose': 1413, 'swine': 1414, 'republic': 1415, '60': 1416, 'enough': 1417, 'situation': 1418, 'environment': 1419, 'investigate': 1420, 'greece': 1421, 'currently': 1422, 'arizona': 1423, 'rival': 1424, 'gaza': 1425, 'madrid': 1426, 'exports': 1427, 'colorado': 1428, 'labor': 1429, 'rescue': 1430, 'defeat': 1431, 'average': 1432, 'perry': 1433, 'cutting': 1434, 'dallas': 1435, 'airways': 1436, 'drivers': 1437, 'package': 1438, 'tennis': 1439, 'authority': 1440, 'rangers': 1441, 'income': 1442, 'attempt': 1443, 'kelly': 1444, 'iowa': 1445, 'hand': 1446, 'fatal': 1447, 'contest': 1448, 'completes': 1449, 'critical': 1450, 'protesters': 1451, 'families': 1452, 'flood': 1453, 'runs': 1454, 'effective': 1455, 'knee': 1456, 'securities': 1457, 'lot': 1458, 'chase': 1459, 'separate': 1460, 'hockey': 1461, 'electric': 1462, 'motor': 1463, 'woods': 1464, 'mp': 1465, 'celebrity': 1466, 'van': 1467, 'severe': 1468, 'vegas': 1469, 'jim': 1470, 'position': 1471, 'pirates': 1472, 'mission': 1473, 'broken': 1474, 'slightly': 1475, 'computer': 1476, 'harry': 1477, 'developer': 1478, 'equipment': 1479, 'mccain': 1480, 'libya': 1481, 'dec': 1482, 'wireless': 1483, 'millions': 1484, 'kate': 1485, 'though': 1486, 'moves': 1487, 'films': 1488, 'friend': 1489, 'rain': 1490, 'venture': 1491, 'hong': 1492, 'bonds': 1493, 'malaysia': 1494, 'saw': 1495, 'holds': 1496, 'forecast': 1497, 'diego': 1498, 'aug': 1499, 'elected': 1500, 'chance': 1501, 'worst': 1502, 'francisco': 1503, 'dispute': 1504, 'organization': 1505, 'currency': 1506, 'theft': 1507, 'shut': 1508, 'reporting': 1509, 'boys': 1510, 'decline': 1511, 'navy': 1512, 'greek': 1513, 'virginia': 1514, 'develop': 1515, 'rugby': 1516, 'hearing': 1517, 'pacific': 1518, 'visits': 1519, 'victim': 1520, 'resigned': 1521, 'quarterback': 1522, 'avoid': 1523, 'queen': 1524, 'spot': 1525, 'multiple': 1526, 'additional': 1527, 'rebels': 1528, 'retire': 1529, 'believe': 1530, 'milan': 1531, 'ends': 1532, 'ford': 1533, 'arrives': 1534, 'wind': 1535, 'different': 1536, 'lohan': 1537, 'boyfriend': 1538, 'transfer': 1539, 'progress': 1540, 'cloud': 1541, 'tim': 1542, 'believes': 1543, 'lindsay': 1544, 'important': 1545, 'events': 1546, 'beijing': 1547, 'considering': 1548, 'ben': 1549, 'kashmir': 1550, 'pulled': 1551, 'atlanta': 1552, 'networks': 1553, 'meets': 1554, 'resume': 1555, 'introduced': 1556, 'block': 1557, 'headed': 1558, 'threatened': 1559, 'township': 1560, 'directors': 1561, 'hot': 1562, 'beginning': 1563, 'cell': 1564, 'present': 1565, 'benefits': 1566, 'became': 1567, 'nov': 1568, 'poor': 1569, 'richard': 1570, 'giants': 1571, 'animal': 1572, 'cities': 1573, 'reality': 1574, 'william': 1575, 'design': 1576, 'result': 1577, 'ratings': 1578, 'kong': 1579, 'consumers': 1580, 'becoming': 1581, 'replace': 1582, 'headquarters': 1583, 'lawmakers': 1584, 'citing': 1585, 'cross': 1586, 'account': 1587, 'squad': 1588, 'shop': 1589, 'andy': 1590, 'ill': 1591, 'sets': 1592, 'mixed': 1593, 'passes': 1594, 'x': 1595, 'trip': 1596, 'brain': 1597, 'row': 1598, 'via': 1599, 'complex': 1600, 'sir': 1601, 'raising': 1602, 'awarded': 1603, 'successful': 1604, 'ice': 1605, 'indonesia': 1606, 'owners': 1607, 'huge': 1608, 'married': 1609, 'solution': 1610, 'strikes': 1611, 'matt': 1612, 'turns': 1613, 'loans': 1614, 'showing': 1615, 'trust': 1616, 'infrastructure': 1617, 'chain': 1618, 'various': 1619, 'wayne': 1620, 'invest': 1621, 'hope': 1622, 'effect': 1623, 'entered': 1624, 'fears': 1625, 'indiana': 1626, 'landing': 1627, 'art': 1628, 'toyota': 1629, 'kills': 1630, 'capacity': 1631, 'profits': 1632, 'impact': 1633, 'song': 1634, 'strategy': 1635, 'distribution': 1636, 'safe': 1637, 'bringing': 1638, 'involving': 1639, 'forest': 1640, 'mr': 1641, 'recall': 1642, 'gone': 1643, 'version': 1644, 'parties': 1645, 'weapons': 1646, 'relationship': 1647, 'remained': 1648, 'missouri': 1649, 'firms': 1650, 'stewart': 1651, 'santa': 1652, 'breaks': 1653, 'golf': 1654, 'bowl': 1655, 'assistant': 1656, 'sexually': 1657, 'shes': 1658, 'oct': 1659, 'motors': 1660, 'conduct': 1661, 'tests': 1662, 'cleared': 1663, 'value': 1664, 'kids': 1665, 'simon': 1666, 'investor': 1667, 'science': 1668, 'industries': 1669, 'seriously': 1670, 'terror': 1671, 'minutes': 1672, 'debate': 1673, 'jason': 1674, 'transport': 1675, 'poll': 1676, 'carrier': 1677, 'advanced': 1678, 'brian': 1679, 'app': 1680, 'retailer': 1681, 'signing': 1682, 'resign': 1683, 'charles': 1684, 'fan': 1685, 'journal': 1686, 'outlook': 1687, 'mountain': 1688, 'quit': 1689, 'launching': 1690, 'problem': 1691, 'heat': 1692, 'tourism': 1693, 'tree': 1694, 'seeks': 1695, 'bar': 1696, 'gaga': 1697, 'alliance': 1698, '2007': 1699, 'motorcycle': 1700, 'needed': 1701, 'telecom': 1702, 'doctor': 1703, 'healthcare': 1704, 'rick': 1705, 'charlie': 1706, 'bob': 1707, 'arab': 1708, 'tribute': 1709, 'feels': 1710, 'benefit': 1711, 'rupee': 1712, 'brought': 1713, 'philadelphia': 1714, 'crashes': 1715, 'jack': 1716, 'kardashian': 1717, 'citizens': 1718, 'seattle': 1719, 'ending': 1720, 'grow': 1721, 'helping': 1722, 'didnt': 1723, 'zone': 1724, 'vs': 1725, 'expansion': 1726, 'lives': 1727, 'cant': 1728, 'happy': 1729, 'experts': 1730, 'cleveland': 1731, 'employee': 1732, 'scored': 1733, 'protests': 1734, 'lines': 1735, 'attempted': 1736, 'arts': 1737, 'professional': 1738, 'crimes': 1739, 'environmental': 1740, 'die': 1741, 'expectations': 1742, 'jose': 1743, 'wide': 1744, 'stephen': 1745, 'cast': 1746, 'activity': 1747, 'story': 1748, 'steps': 1749, 'always': 1750, 'causing': 1751, 'bangladesh': 1752, 'historic': 1753, 'really': 1754, 'relief': 1755, 'reelection': 1756, 'classic': 1757, 'politics': 1758, 'foundation': 1759, 'related': 1760, 'tackle': 1761, 'bollywood': 1762, '1000': 1763, 'leadership': 1764, 'application': 1765, 'things': 1766, 'metal': 1767, 'schedule': 1768, 'joining': 1769, 'jessica': 1770, 'labour': 1771, 'manufacturer': 1772, 'english': 1773, 'appoints': 1774, 'wake': 1775, 'box': 1776, 'jets': 1777, 'patent': 1778, 'punjab': 1779, 'increasing': 1780, 'allen': 1781, 'disaster': 1782, 'warns': 1783, 'holdings': 1784, 'significant': 1785, 'sony': 1786, 'advertising': 1787, 'rare': 1788, 'recovering': 1789, 'ongoing': 1790, 'gary': 1791, 'denies': 1792, 'commissioner': 1793, 'discovered': 1794, 'mitt': 1795, 'struggling': 1796, 'pilot': 1797, 'closes': 1798, 'delivery': 1799, 'wisconsin': 1800, 'metro': 1801, 'golden': 1802, 'usa': 1803, 'marijuana': 1804, 'clear': 1805, 'toward': 1806, 'auction': 1807, 'posts': 1808, 'aimed': 1809, 'unveils': 1810, 'ukraine': 1811, 'defensive': 1812, 'hamilton': 1813, 'factor': 1814, 'analysts': 1815, 'mens': 1816, 'majority': 1817, 'rule': 1818, 'moscow': 1819, 'works': 1820, 'idol': 1821, 'thomas': 1822, 'homicide': 1823, 'gordon': 1824, 'extend': 1825, 'visited': 1826, 'square': 1827, 'battery': 1828, 'sox': 1829, 'regular': 1830, 'prevent': 1831, 'disabled': 1832, 'nationwide': 1833, 'receiver': 1834, 'clubs': 1835, 'attend': 1836, 'sentence': 1837, 'cruise': 1838, 'southwest': 1839, 'candidates': 1840, 'olympics': 1841, 'associated': 1842, 'activities': 1843, 'ap': 1844, 'plants': 1845, 'jr': 1846, 'cameron': 1847, 'lawyer': 1848, 'content': 1849, 'able': 1850, 'barcelona': 1851, 'samsung': 1852, 'polls': 1853, 'helicopter': 1854, 'ii': 1855, 'applications': 1856, 'immigration': 1857, 'iron': 1858, 'activists': 1859, 'sarah': 1860, 'islamic': 1861, 'enter': 1862, 'allegations': 1863, 'leg': 1864, 'activist': 1865, 'file': 1866, 'complete': 1867, 'expecting': 1868, 'placed': 1869, 'embassy': 1870, 'allowed': 1871, 'try': 1872, 'spend': 1873, 'send': 1874, 'plc': 1875, 'fast': 1876, 'increases': 1877, 'crore': 1878, 'pass': 1879, 'seized': 1880, 'sending': 1881, 'seat': 1882, 'failing': 1883, 'sanctions': 1884, 'parliamentary': 1885, 'fc': 1886, 'extension': 1887, 'expands': 1888, 'standard': 1889, 'developing': 1890, 'sharply': 1891, 'tennessee': 1892, 'windows': 1893, 'throughout': 1894, 'express': 1895, 'rural': 1896, 'customer': 1897, 'orleans': 1898, '70': 1899, 'fires': 1900, 'mass': 1901, 'pick': 1902, 'brad': 1903, 'destroyed': 1904, 'developed': 1905, 'dc': 1906, 'brothers': 1907, 'comments': 1908, 'concern': 1909, 'goal': 1910, '75': 1911, 'weekly': 1912, '32': 1913, 'russell': 1914, 'approves': 1915, 'declares': 1916, 'failure': 1917, 'avenue': 1918, 'hills': 1919, 'indias': 1920, 'closer': 1921, 'detained': 1922, '35': 1923, 'loses': 1924, 'stimulus': 1925, 'cents': 1926, 'carrying': 1927, 'offices': 1928, 'hour': 1929, 'commerce': 1930, 'apparently': 1931, 'patrol': 1932, 'counts': 1933, 'dutch': 1934, 'terrorism': 1935, 'bjp': 1936, 'melbourne': 1937, 'electronic': 1938, 'teenager': 1939, 'stabbing': 1940, 'consecutive': 1941, 'add': 1942, 'confirms': 1943, 'bbc': 1944, 'technical': 1945, 'spent': 1946, 'davis': 1947, '300': 1948, 'reveals': 1949, 'selected': 1950, 'purchase': 1951, 'voice': 1952, 'nick': 1953, 'arsenal': 1954, 'export': 1955, 'cole': 1956, 'hosting': 1957, 'anthony': 1958, 'gain': 1959, 'designed': 1960, 'violent': 1961, 'identified': 1962, 'daniel': 1963, 'done': 1964, 'alcohol': 1965, 'serve': 1966, 'experience': 1967, 'silver': 1968, 'burglary': 1969, 'promote': 1970, 'qatar': 1971, 'kentucky': 1972, 'engineering': 1973, 'agencies': 1974, 'prosecutors': 1975, 'bieber': 1976, 'providing': 1977, 'evidence': 1978, 'ten': 1979, 'cover': 1980, 'forum': 1981, 'streets': 1982, 'overseas': 1983, 'author': 1984, 'settlement': 1985, 'possession': 1986, 'generation': 1987, 'swiss': 1988, 'success': 1989, 'subsidiary': 1990, 'trend': 1991, 'wales': 1992, 'lewis': 1993, 'created': 1994, 'scandal': 1995, 'chemical': 1996, 'offensive': 1997, 'yahoo': 1998, 'scotland': 1999, 'elizabeth': 2000, 'shopping': 2001, 'refused': 2002, 'thought': 2003, 'clash': 2004, 'crew': 2005, 'tough': 2006, 'treasury': 2007, 'previously': 2008, 'assaulting': 2009, 'comedy': 2010, 'freedom': 2011, 'secret': 2012, 'brazilian': 2013, 'founder': 2014, 'announcement': 2015, 'christian': 2016, 'adam': 2017, 'arabia': 2018, 'route': 2019, 'electricity': 2020, 'wild': 2021, 'roads': 2022, 'fine': 2023, 'satellite': 2024, 'taxes': 2025, 'el': 2026, 'peoples': 2027, 'feel': 2028, 'oklahoma': 2029, 'speed': 2030, 'speech': 2031, 'amy': 2032, 'introduces': 2033, 'studio': 2034, 'supplies': 2035, 'photo': 2036, 'breaking': 2037, 'theatre': 2038, 'finds': 2039, 'longer': 2040, 'palm': 2041, 'speak': 2042, 'setting': 2043, 'carbon': 2044, 'n': 2045, 'citys': 2046, 'mexican': 2047, 'parking': 2048, 'chapter': 2049, 'phoenix': 2050, 'update': 2051, 'surprise': 2052, 'electronics': 2053, 'muslim': 2054, 'let': 2055, 'tech': 2056, 'recovered': 2057, 'jet': 2058, 'deadly': 2059, 'beaten': 2060, 'childrens': 2061, 'undergo': 2062, 'negative': 2063, 'agree': 2064, 'advisory': 2065, 'honored': 2066, 'ruling': 2067, 'decades': 2068, 'mine': 2069, 'ensure': 2070, 'clean': 2071, 'dealers': 2072, 'deliver': 2073, 'pounds': 2074, 'campus': 2075, 'passengers': 2076, 'numbers': 2077, 'indians': 2078, 'tokyo': 2079, 'democrats': 2080, 'pradesh': 2081, 'appearance': 2082, '2014': 2083, 'consider': 2084, 'crews': 2085, 'appears': 2086, 'voting': 2087, 'territory': 2088, 'tata': 2089, 'racing': 2090, 'prize': 2091, 'palin': 2092, 'pace': 2093, 'kennedy': 2094, 'overall': 2095, 'hillary': 2096, 'bin': 2097, 'zimbabwe': 2098, 'dating': 2099, 'passenger': 2100, 'adds': 2101, 'enterprise': 2102, 'serving': 2103, 'iraqi': 2104, 'walk': 2105, 'rail': 2106, 'terrorist': 2107, 'shareholders': 2108, 'sites': 2109, 'successfully': 2110, 'beckham': 2111, 'decade': 2112, 'beats': 2113, 'sun': 2114, 'heading': 2115, 'frank': 2116, 'assaulted': 2117, 'cape': 2118, 'linked': 2119, 'claiming': 2120, 'changed': 2121, 'engine': 2122, 'northwest': 2123, 'toll': 2124, 'plea': 2125, 'laws': 2126, 'ghana': 2127, 'analyst': 2128, 'continuing': 2129, 'nokia': 2130, 'panel': 2131, 'hands': 2132, 'broadband': 2133, 'targets': 2134, 'stronger': 2135, 'hired': 2136, 'improved': 2137, 'investments': 2138, 'coalition': 2139, 'granted': 2140, 'email': 2141, 'fees': 2142, 'cable': 2143, 'lowest': 2144, 'tamil': 2145, '80': 2146, 'wounded': 2147, 'wrong': 2148, 'egyptian': 2149, 'philippines': 2150, 'bodies': 2151, 'jon': 2152, 'expanding': 2153, 'thanks': 2154, 'expanded': 2155, 'statistics': 2156, 'wilson': 2157, 'pitcher': 2158, 'agriculture': 2159, 'dogs': 2160, 'units': 2161, 'devices': 2162, 'oscar': 2163, 'foods': 2164, 'campbell': 2165, 'collision': 2166, 'sixth': 2167, 'prix': 2168, 'threatening': 2169, 'question': 2170, 'treated': 2171, 'details': 2172, 'sept': 2173, 'michelle': 2174, 'laid': 2175, 'twins': 2176, 'longtime': 2177, 'threats': 2178, 'ring': 2179, 'status': 2180, 'tropical': 2181, 'ipad': 2182, 'kept': 2183, 'strip': 2184, 'produce': 2185, 'resigns': 2186, 'victoria': 2187, 'anna': 2188, 'patrick': 2189, 'hosts': 2190, 'letter': 2191, 'goods': 2192, 'fargo': 2193, 'movement': 2194, 'agents': 2195, 'chinas': 2196, 'foot': 2197, 'reuters': 2198, 'pattinson': 2199, 'vietnam': 2200, 'moore': 2201, 'scottish': 2202, 'can': 2203, 'not': 2204, 'breast': 2205, 'eye': 2206, 'orange': 2207, 'alabama': 2208, 'questions': 2209, 'appeared': 2210, 'license': 2211, 'cbs': 2212, 'extends': 2213, 'fully': 2214, '45': 2215, 'approval': 2216, 'homeless': 2217, 'stone': 2218, 'proposal': 2219, 'diagnosed': 2220, 'kyrgyzstan': 2221, 'assistance': 2222, 'b': 2223, 'bought': 2224, 'cold': 2225, 'nifty': 2226, 'yankees': 2227, 'wells': 2228, 'aged': 2229, 'nelson': 2230, 'jordan': 2231, 'urges': 2232, 'interior': 2233, 'sport': 2234, '90': 2235, 'denver': 2236, 'nigeria': 2237, 'sundays': 2238, 'rapper': 2239, 'drama': 2240, 'legislation': 2241, 'yen': 2242, 'famous': 2243, 'causes': 2244, 'hurt': 2245, 'built': 2246, 'shoot': 2247, 'friendly': 2248, 'stations': 2249, 'portfolio': 2250, 'receiving': 2251, 'dangerous': 2252, 'traders': 2253, 'elementary': 2254, 'libyan': 2255, 'collection': 2256, 'simpson': 2257, 'murray': 2258, 'representative': 2259, 'greater': 2260, 'venezuela': 2261, 'teenage': 2262, 'message': 2263, 'rehab': 2264, 'rejected': 2265, 'medal': 2266, 'branch': 2267, 'bear': 2268, 'rihanna': 2269, 'phones': 2270, 'lack': 2271, 'americas': 2272, 'keeping': 2273, 'challenges': 2274, 'duty': 2275, 'amount': 2276, 'religious': 2277, 'artist': 2278, 'although': 2279, 'fellow': 2280, 'weight': 2281, 'hire': 2282, 'massachusetts': 2283, 'paper': 2284, 'cocaine': 2285, 'lifted': 2286, 'abu': 2287, 'instead': 2288, 'speculation': 2289, 'communities': 2290, 'somali': 2291, 'formula': 2292, 'facilities': 2293, 'suspicion': 2294, 'alert': 2295, 'certain': 2296, 'storage': 2297, 'enforcement': 2298, 'visiting': 2299, 'howard': 2300, 'library': 2301, 'austin': 2302, 'supporters': 2303, 'musical': 2304, 'pope': 2305, 'marine': 2306, 'museum': 2307, 'push': 2308, 'feature': 2309, 'stanley': 2310, 'true': 2311, 'cards': 2312, 'veterans': 2313, 'ocean': 2314, 'stopped': 2315, 'myanmar': 2316, 'spears': 2317, 'reaches': 2318, 'ny': 2319, 'healthy': 2320, 'sued': 2321, 'strengthen': 2322, 'becomes': 2323, 'bailout': 2324, 'formally': 2325, 'screen': 2326, 'buys': 2327, 'islands': 2328, 'sees': 2329, 'championships': 2330, 'spread': 2331, 'testing': 2332, 'finish': 2333, 'plays': 2334, '400': 2335, 'milwaukee': 2336, 'believed': 2337, 'democracy': 2338, 'nationals': 2339, 'lions': 2340, 'arms': 2341, 'miles': 2342, 'britney': 2343, 'sharp': 2344, 'supports': 2345, 'notes': 2346, 'welcome': 2347, 'factory': 2348, 'provides': 2349, 'judges': 2350, 'regions': 2351, 'explosion': 2352, 'cuba': 2353, 'catholic': 2354, 'apparent': 2355, 'arena': 2356, 'residential': 2357, 'owned': 2358, 'programs': 2359, 'device': 2360, 'pro': 2361, 'carlos': 2362, 'android': 2363, 'reduced': 2364, 'harris': 2365, 'putting': 2366, 'begun': 2367, 'sensex': 2368, 'prisoners': 2369, 'monthly': 2370, 'payment': 2371, 'stated': 2372, 'deals': 2373, 'pittsburgh': 2374, 'monetary': 2375, 'located': 2376, 'dozens': 2377, 'kings': 2378, 'usd': 2379, 'conservative': 2380, 'rivals': 2381, 'pension': 2382, 'sudan': 2383, 'independence': 2384, 'newly': 2385, 'eric': 2386, 'offender': 2387, 'note': 2388, 'strength': 2389, 'funeral': 2390, 'hell': 2391, 'removed': 2392, 'designer': 2393, 'output': 2394, 'miller': 2395, 'lending': 2396, 'jeff': 2397, 'waste': 2398, 'bp': 2399, 'extra': 2400, 'hitting': 2401, 'journalist': 2402, 'include': 2403, 'superstar': 2404, 'tickets': 2405, 'brands': 2406, 'journalists': 2407, 'hoping': 2408, 'option': 2409, 'delegation': 2410, 'options': 2411, 'alive': 2412, 'affected': 2413, 'drops': 2414, 'repair': 2415, 'powerful': 2416, 'votes': 2417, 'window': 2418, 'garden': 2419, 'dance': 2420, 'presented': 2421, 'birmingham': 2422, 'goals': 2423, 'twice': 2424, 'contracts': 2425, 'acting': 2426, '150': 2427, 'policies': 2428, 'copper': 2429, 'uae': 2430, 'legendary': 2431, 'rio': 2432, 'sabha': 2433, 'palestinians': 2434, 'tourists': 2435, 'utah': 2436, 'ways': 2437, 'chiefs': 2438, 'mail': 2439, 'tells': 2440, 'diamond': 2441, 'existing': 2442, 'secure': 2443, 'immediate': 2444, 'manslaughter': 2445, 'smart': 2446, 'nights': 2447, 'southeast': 2448, 'resident': 2449, 'dialogue': 2450, 'rather': 2451, 'enters': 2452, 'preparing': 2453, 'britains': 2454, 'dancing': 2455, 'missed': 2456, 'biden': 2457, 'contact': 2458, 'thats': 2459, 'yemen': 2460, 'diplomatic': 2461, 'honor': 2462, 'tampa': 2463, 'check': 2464, 'kicked': 2465, 'initial': 2466, 'newcastle': 2467, 'recover': 2468, 'shown': 2469, 'basis': 2470, '65': 2471, 'discovery': 2472, 'rice': 2473, 'gandhi': 2474, 'ticket': 2475, 'cheryl': 2476, 'fish': 2477, 'hospitals': 2478, 'collapsed': 2479, 'felt': 2480, 'seasons': 2481, 'ron': 2482, 'att': 2483, 'goldman': 2484, 'regarding': 2485, 'tigers': 2486, 'horse': 2487, 'w': 2488, 'buildings': 2489, 'asks': 2490, 'mississippi': 2491, 'todays': 2492, 'welcomed': 2493, 'sam': 2494, 'dream': 2495, 'winds': 2496, 'presence': 2497, 'vancouver': 2498, 'springs': 2499, 'troubled': 2500, 'virus': 2501, 'earth': 2502, 'shoulder': 2503, 'exclusive': 2504, 'suffers': 2505, 'jimmy': 2506, 'zardari': 2507, 'junior': 2508, 'however': 2509, 'lawyers': 2510, 'bulgaria': 2511, 'katie': 2512, 'ontario': 2513, 'madonna': 2514, 'anderson': 2515, 'agrees': 2516, 'asking': 2517, 'recalled': 2518, 'orlando': 2519, 'resort': 2520, 'columbus': 2521, 'sought': 2522, 'financing': 2523, 'positions': 2524, 'comeback': 2525, 'fatally': 2526, 'culture': 2527, 'offshore': 2528, 'native': 2529, 'railway': 2530, 'fear': 2531, 'waters': 2532, 'bureau': 2533, 'spotted': 2534, 'dakota': 2535, 'properties': 2536, 'advance': 2537, 'employment': 2538, 'speaker': 2539, 'pair': 2540, 'kumar': 2541, 'doors': 2542, 'reporters': 2543, 'baltimore': 2544, 'stable': 2545, 'combat': 2546, 'stroke': 2547, 'roger': 2548, 'touch': 2549, 'approximately': 2550, 'initiative': 2551, 'fishing': 2552, 'ball': 2553, 'edwards': 2554, 'jerry': 2555, 'vowed': 2556, 'active': 2557, 'sides': 2558, 'restructuring': 2559, 'creating': 2560, 'expert': 2561, 'opportunities': 2562, 'mall': 2563, 'persons': 2564, 'lebanon': 2565, 'atlantic': 2566, 'pool': 2567, 'azerbaijani': 2568, 'aviation': 2569, 'illness': 2570, 'warren': 2571, 'heads': 2572, 'mac': 2573, 'oakland': 2574, 'considered': 2575, 'producers': 2576, '600': 2577, 'congressional': 2578, 'preliminary': 2579, 'floor': 2580, 'sheen': 2581, 'killer': 2582, 'regime': 2583, 'henry': 2584, 'searching': 2585, 'places': 2586, 'exercise': 2587, 'terrorists': 2588, 'sugar': 2589, '10000': 2590, 'demi': 2591, 'drunk': 2592, 'conducted': 2593, 'gang': 2594, 'buffalo': 2595, 'sachs': 2596, 'commander': 2597, 'deadline': 2598, 'winehouse': 2599, 'madison': 2600, 'cancelled': 2601, 'slow': 2602, 'swedish': 2603, 'matches': 2604, 'nsw': 2605, 'ad': 2606, 'nomination': 2607, 'especially': 2608, 'penn': 2609, 'networking': 2610, 'broadway': 2611, 'sprint': 2612, 'reporter': 2613, 'creek': 2614, 'opener': 2615, 'complaint': 2616, 'insists': 2617, 'pain': 2618, 'columbia': 2619, 'movies': 2620, 'recalls': 2621, 'hero': 2622, 'invited': 2623, 'deaths': 2624, 'eurozone': 2625, 'negotiations': 2626, 'performing': 2627, 'antonio': 2628, 'abc': 2629, 'fact': 2630, 'pipeline': 2631, 'intelligence': 2632, 'renewed': 2633, 'oregon': 2634, 'jumped': 2635, 'sa': 2636, 'postponed': 2637, 'casino': 2638, 'lift': 2639, 'bilateral': 2640, 'katy': 2641, 'transportation': 2642, 'penalty': 2643, 'phil': 2644, 'rich': 2645, 'hudson': 2646, 'counties': 2647, 'centers': 2648, 'highly': 2649, 'display': 2650, 'expect': 2651, 'tea': 2652, 'franklin': 2653, 'j': 2654, 'probe': 2655, 'talent': 2656, 'drinking': 2657, 'awareness': 2658, 'standards': 2659, 'circuit': 2660, 'exhibition': 2661, 'page': 2662, 'tonnes': 2663, 'republicans': 2664, 'filing': 2665, 'czech': 2666, 'delayed': 2667, '62': 2668, 'escaped': 2669, 'entire': 2670, 'arm': 2671, 'unions': 2672, 'declined': 2673, 'neighborhood': 2674, 'something': 2675, 'probation': 2676, 'jolie': 2677, 'nothing': 2678, 'helps': 2679, 'malaysian': 2680, 'celebrating': 2681, 'visa': 2682, 'emerging': 2683, 'patient': 2684, 'luxury': 2685, 'angelina': 2686, 'fee': 2687, 'serbia': 2688, 'onto': 2689, 'boxing': 2690, 'identity': 2691, 'alaska': 2692, 'kristen': 2693, 'tell': 2694, 'franchise': 2695, 'businessman': 2696, 'ray': 2697, 'traded': 2698, 'imports': 2699, 'pull': 2700, 'fit': 2701, 'fishermen': 2702, 'modern': 2703, 'confident': 2704, 'missile': 2705, '64': 2706, 'reforms': 2707, 'stole': 2708, 'immediately': 2709, 'tested': 2710, 'josh': 2711, 'masters': 2712, 'suspects': 2713, 'districts': 2714, 'demands': 2715, 'ankle': 2716, 'suspends': 2717, 'northeast': 2718, 'clients': 2719, 'smartphone': 2720, 'e': 2721, 'busy': 2722, 'chavez': 2723, 'features': 2724, 'retired': 2725, 'delays': 2726, 'mutual': 2727, 'dedicated': 2728, 'documents': 2729, 'items': 2730, 'guy': 2731, 'youtube': 2732, '41': 2733, 'figure': 2734, 'accounts': 2735, 'sky': 2736, 'c': 2737, 'derby': 2738, 'pornography': 2739, 'turning': 2740, 'residence': 2741, '5000': 2742, 'arkansas': 2743, 'eve': 2744, 'wood': 2745, 'population': 2746, 'shanghai': 2747, 'sworn': 2748, 'andre': 2749, 'deputies': 2750, 'incidents': 2751, 'bell': 2752, 'outstanding': 2753, 'portland': 2754, 'ncaa': 2755, 'galaxy': 2756, 'tornado': 2757, 'targeting': 2758, 'payments': 2759, 'learned': 2760, 'asset': 2761, 'philippine': 2762, 'feet': 2763, 'saturdays': 2764, 'sean': 2765, 'fake': 2766, 'blast': 2767, 'medicine': 2768, 'argentina': 2769, 'fighter': 2770, 'ask': 2771, 'lineup': 2772, 'scene': 2773, 'evacuated': 2774, 'organizations': 2775, 'phase': 2776, 'edward': 2777, 'sentiment': 2778, '2000': 2779, 'pennsylvania': 2780, 'gop': 2781, 'democrat': 2782, 'pedestrian': 2783, 'merger': 2784, 'defend': 2785, 'informed': 2786, 'welcomes': 2787, 'settle': 2788, 'carry': 2789, 'deep': 2790, 'normal': 2791, 'worked': 2792, 'supplier': 2793, 'alan': 2794, 'betting': 2795, 'clinic': 2796, 'notice': 2797, 'matter': 2798, 'suspicious': 2799, 'invasion': 2800, 'marks': 2801, 'representatives': 2802, 'congressman': 2803, 'edge': 2804, 'smoke': 2805, 'maintenance': 2806, 'jewish': 2807, 'aims': 2808, 'request': 2809, 'convention': 2810, 'australias': 2811, 'cyrus': 2812, 'resolution': 2813, 'scam': 2814, 'craig': 2815, 'bit': 2816, 'connecticut': 2817, 'assigned': 2818, 'choice': 2819, 'mental': 2820, 'managed': 2821, 'coverage': 2822, 'professor': 2823, 'temporary': 2824, 'delay': 2825, 'kazakhstan': 2826, 'crossing': 2827, 'cardinals': 2828, 'waiting': 2829, 'estimates': 2830, 'learn': 2831, 'conflict': 2832, 'born': 2833, 'trophy': 2834, 'announcing': 2835, 'louisiana': 2836, '85': 2837, 'sons': 2838, 'male': 2839, 'tight': 2840, 'taxi': 2841, 'ride': 2842, 'theres': 2843, 'feeling': 2844, 'mount': 2845, 'noon': 2846, 'blackberry': 2847, 'canceled': 2848, 'coffee': 2849, 'hosted': 2850, 'drew': 2851, 'specialist': 2852, 'tons': 2853, 'happened': 2854, 'utility': 2855, 'tender': 2856, 'investigators': 2857, '42': 2858, 'often': 2859, 'internal': 2860, 'ease': 2861, 'responsible': 2862, 'participate': 2863, 'ferguson': 2864, 'pitt': 2865, 'personnel': 2866, 'beyond': 2867, 'suggests': 2868, 'queensland': 2869, 'manmohan': 2870, 'means': 2871, 'defends': 2872, 'raid': 2873, 'thailand': 2874, 'steady': 2875, 'suspension': 2876, 'traditional': 2877, 'dhabi': 2878, 'import': 2879, 'steven': 2880, 'promotion': 2881, '100000': 2882, 'nicole': 2883, 'whats': 2884, 'rookie': 2885, 'shortage': 2886, 'style': 2887, 'ag': 2888, 'false': 2889, 'everything': 2890, 'intel': 2891, 'proud': 2892, 'introduce': 2893, 'compete': 2894, 'jay': 2895, 'easy': 2896, 'llc': 2897, 'reopen': 2898, 'edition': 2899, 'rocket': 2900, 'del': 2901, 'criticism': 2902, 'bears': 2903, 'dark': 2904, 'pays': 2905, 'smoking': 2906, 'marathon': 2907, 'cargo': 2908, 'thing': 2909, 'scientific': 2910, 'paying': 2911, 'fallen': 2912, 'broadcast': 2913, 'sends': 2914, 'walker': 2915, 'virgin': 2916, 'tehran': 2917, 'century': 2918, 'image': 2919, 'follow': 2920, 'kidnapped': 2921, 'bruce': 2922, '63': 2923, 'provided': 2924, 'fifa': 2925, 'miley': 2926, 'cooper': 2927, 'integrated': 2928, 'belarus': 2929, 'recorded': 2930, 'cancels': 2931, 'terry': 2932, 'kenya': 2933, 'boeing': 2934, 'reading': 2935, 'charlotte': 2936, 'federation': 2937, 'improving': 2938, 'battling': 2939, 'rob': 2940, 'appeals': 2941, 'language': 2942, 'maryland': 2943, 'provincial': 2944, 'allowing': 2945, '33': 2946, 'ac': 2947, 'registered': 2948, 'hamas': 2949, 'arrests': 2950, 'meetings': 2951, 'disney': 2952, 'chrysler': 2953, 'adopted': 2954, 'picked': 2955, 'featuring': 2956, 'inmate': 2957, 'targeted': 2958, 'spill': 2959, 'swimming': 2960, 'pitch': 2961, 'bahrain': 2962, 'ran': 2963, 'cowell': 2964, 'shots': 2965, 'fitness': 2966, 'adults': 2967, 'bobby': 2968, 'volunteers': 2969, 'arrive': 2970, 'engagement': 2971, 'reliance': 2972, 'perfect': 2973, 'eagles': 2974, 'undisclosed': 2975, 'weaker': 2976, 'euros': 2977, 'images': 2978, 'lincoln': 2979, 'indonesian': 2980, 'whole': 2981, 'registration': 2982, 'barbara': 2983, 'prepare': 2984, 'warner': 2985, 'roll': 2986, 'benchmark': 2987, 'rushed': 2988, 'emirates': 2989, 'warrant': 2990, 'approach': 2991, 'knife': 2992, 'ukrainian': 2993, 'nbc': 2994, 'armenia': 2995, '36': 2996, 'jazz': 2997, 'supporting': 2998, 'escape': 2999, 'difficult': 3000, 'alexander': 3001, 'mary': 3002, 'dan': 3003, 'violations': 3004, 'reasons': 3005, 'interstate': 3006, 'threatens': 3007, 'expressed': 3008, 'fail': 3009, 'includes': 3010, 'flooding': 3011, 'processing': 3012, 'seventh': 3013, 'blow': 3014, 'maria': 3015, 'finished': 3016, 'seems': 3017, 'suing': 3018, 'murdering': 3019, 'restore': 3020, 'jump': 3021, 'roy': 3022, 'cuban': 3023, 'lankan': 3024, 'fastest': 3025, 'ive': 3026, 'plastic': 3027, 'materials': 3028, 'kicks': 3029, 'managing': 3030, 'flag': 3031, 'remove': 3032, 'savings': 3033, 'clashes': 3034, 'books': 3035, 'wave': 3036, 'rush': 3037, 'pound': 3038, 'ed': 3039, 'threw': 3040, 'bulls': 3041, 'drowned': 3042, 'petrol': 3043, 'billy': 3044, 'charter': 3045, 'switzerland': 3046, 'constitution': 3047, 'burning': 3048, 'houses': 3049, 'upgraded': 3050, 'remaining': 3051, 'lawrence': 3052, 'wikileaks': 3053, 'courts': 3054, 'nhl': 3055, 'accept': 3056, 'damaged': 3057, 'commitment': 3058, 'rafael': 3059, 'naval': 3060, 'bull': 3061, 'sweden': 3062, 'defeated': 3063, 'scores': 3064, 'jammu': 3065, 'cowboys': 3066, 'institutions': 3067, 'similar': 3068, 'petroleum': 3069, 'dismissed': 3070, 'word': 3071, 'material': 3072, 'core': 3073, 'tourist': 3074, 'bristol': 3075, 'slowdown': 3076, 'walmart': 3077, 'influence': 3078, 'johnny': 3079, '10th': 3080, 'flying': 3081, 'listed': 3082, 'learning': 3083, 'trafficking': 3084, 'premiere': 3085, 'alternative': 3086, 'diabetes': 3087, 'europes': 3088, 'marry': 3089, 'lopez': 3090, 'bulgarian': 3091, 'lane': 3092, 'physical': 3093, 'nominated': 3094, 'reopened': 3095, 'sunderland': 3096, 'door': 3097, 'upper': 3098, 'neil': 3099, 'delivered': 3100, 'sheriff': 3101, 'kingdom': 3102, 'gunpoint': 3103, 'barclays': 3104, 'wait': 3105, 'lay': 3106, 'carter': 3107, 'interim': 3108, 'bengal': 3109, 'rand': 3110, 'robin': 3111, 'transit': 3112, 'pictures': 3113, 'liam': 3114, 'bars': 3115, 'talking': 3116, 'cultural': 3117, 'tied': 3118, 'brings': 3119, 'crown': 3120, 'hedge': 3121, 'written': 3122, 'vows': 3123, 'defended': 3124, 'sister': 3125, 'mostly': 3126, 'employers': 3127, 'maintain': 3128, 'trees': 3129, 'heritage': 3130, 'preseason': 3131, 'maoists': 3132, 'decide': 3133, 'picture': 3134, 'suggested': 3135, 'gates': 3136, 'isnt': 3137, 'firefighter': 3138, 'streak': 3139, 'exploration': 3140, 'globe': 3141, 'mans': 3142, 'improvement': 3143, 'musharraf': 3144, 'balance': 3145, 'coordinator': 3146, 'location': 3147, 'sound': 3148, 'parks': 3149, 'withdraws': 3150, 'matthew': 3151, 'checks': 3152, 'responsibility': 3153, 'celebration': 3154, 'diesel': 3155, 'anything': 3156, 'hawaii': 3157, '43': 3158, 'occurred': 3159, 'nashville': 3160, 'legislature': 3161, 'takeover': 3162, 'lightning': 3163, 'civilians': 3164, 'judicial': 3165, '911': 3166, 'hilton': 3167, 'faced': 3168, 'tool': 3169, 'described': 3170, 'dinner': 3171, 'honda': 3172, 'hike': 3173, 'ibm': 3174, 'armstrong': 3175, 'montreal': 3176, 'direction': 3177, 'parent': 3178, 'netherlands': 3179, 'risks': 3180, 'hotels': 3181, 'longterm': 3182, 'roster': 3183, 'downturn': 3184, 'carried': 3185, 'ricky': 3186, 'shah': 3187, 'armenian': 3188, 'athletes': 3189, 'sure': 3190, 'parker': 3191, 'gained': 3192, 'playoff': 3193, 'jesse': 3194, '34': 3195, '76': 3196, 'secured': 3197, 'swift': 3198, 'table': 3199, 'thai': 3200, 'p': 3201, 'temple': 3202, 'medvedev': 3203, 'fbi': 3204, 'ufc': 3205, 'powers': 3206, 'walking': 3207, 'promised': 3208, 'depression': 3209, 'violating': 3210, 'unexpectedly': 3211, 'plead': 3212, 'pole': 3213, 'speaks': 3214, 'lama': 3215, 'compensation': 3216, 'regulators': 3217, 'conviction': 3218, 'urban': 3219, 'leak': 3220, 'advantage': 3221, '700': 3222, 'cincinnati': 3223, 'wearing': 3224, 'performed': 3225, 'probably': 3226, 'recalling': 3227, 'names': 3228, 'tottenham': 3229, '2006': 3230, 'upon': 3231, 'pushed': 3232, 'produced': 3233, 'nicolas': 3234, 'link': 3235, 'actually': 3236, 'commodity': 3237, 'shortly': 3238, 'bradley': 3239, 'delta': 3240, 'dodgers': 3241, 'retiring': 3242, 'verizon': 3243, 'classes': 3244, 'icon': 3245, 'amazon': 3246, 'pat': 3247, 'forthcoming': 3248, 'establish': 3249, 'hiring': 3250, 'softball': 3251, 'trail': 3252, 'halt': 3253, 'comprehensive': 3254, 'prominent': 3255, 'idea': 3256, 'landed': 3257, 'grants': 3258, 'sacramento': 3259, 'clark': 3260, 'caribbean': 3261, 'moment': 3262, 'abroad': 3263, 'upset': 3264, 'cited': 3265, '250': 3266, 'colombia': 3267, 'presents': 3268, 'drunken': 3269, 'trillion': 3270, 'haiti': 3271, 'cap': 3272, 'milestone': 3273, 'read': 3274, 'opportunity': 3275, 'quickly': 3276, 'watson': 3277, 'comedian': 3278, 'joseph': 3279, 'creative': 3280, 'retailers': 3281, 'cook': 3282, 'malik': 3283, 'legislative': 3284, 'camera': 3285, 'arson': 3286, 'dealer': 3287, 'hires': 3288, 'dalai': 3289, 'brandon': 3290, 'revenues': 3291, 'wildlife': 3292, 'tower': 3293, 'crowd': 3294, 'cnn': 3295, 'task': 3296, 'kolkata': 3297, 'jamie': 3298, 'kick': 3299, 'restaurants': 3300, 'enhance': 3301, 'pilots': 3302, 'respect': 3303, 'nepal': 3304, 'handed': 3305, 'rains': 3306, 'murdered': 3307, 'formed': 3308, 'fleet': 3309, 'dublin': 3310, 'fitch': 3311, 'thinks': 3312, 'backed': 3313, 'liberal': 3314, 'restrictions': 3315, 'dave': 3316, 'motion': 3317, 'patriots': 3318, 'shuttle': 3319, 'knocked': 3320, 'fewer': 3321, 'guide': 3322, 'maine': 3323, 'welfare': 3324, 'shore': 3325, 'raped': 3326, 'hear': 3327, 'restored': 3328, 'executives': 3329, 'god': 3330, 'focused': 3331, 'original': 3332, 'hugo': 3333, 'inter': 3334, 'passing': 3335, 'collaboration': 3336, 'pc': 3337, 'estimated': 3338, 'recording': 3339, 'blamed': 3340, 'beauty': 3341, 'score': 3342, 'lenders': 3343, 'animals': 3344, 'deutsche': 3345, 'standoff': 3346, 'roberts': 3347, 'honoured': 3348, 'aniston': 3349, 'triple': 3350, 'raping': 3351, 'christina': 3352, 'reason': 3353, 'degree': 3354, 'permanent': 3355, 'drought': 3356, 'colombian': 3357, 'muslims': 3358, 'agreements': 3359, 'infection': 3360, 'suit': 3361, 'indianapolis': 3362, 'graham': 3363, 'quits': 3364, 'alone': 3365, 'carl': 3366, '61': 3367, 'undergoing': 3368, 'asif': 3369, 'defending': 3370, 'bird': 3371, 'collins': 3372, 'episode': 3373, 'politicians': 3374, 'organisation': 3375, 'dates': 3376, 'stepping': 3377, 'municipal': 3378, 'sparked': 3379, 'dow': 3380, 'register': 3381, 'witnesses': 3382, 'buyers': 3383, 'villa': 3384, 'linebacker': 3385, 'minority': 3386, 'machine': 3387, 'individual': 3388, 'gujarat': 3389, 'adult': 3390, 'baghdad': 3391, 'danny': 3392, 'duke': 3393, 'drilling': 3394, 'regulatory': 3395, 'gaming': 3396, 'aaron': 3397, 'considers': 3398, 'larry': 3399, 'standing': 3400, 'goalkeeper': 3401, 'sp': 3402, 'tie': 3403, 'prosecutor': 3404, 'grew': 3405, 'seize': 3406, 'kuwait': 3407, 'shoots': 3408, '51': 3409, 'kapoor': 3410, 'stability': 3411, 'interested': 3412, 'emerged': 3413, 'resistance': 3414, 'nasa': 3415, 'reaching': 3416, 'nevada': 3417, 'keen': 3418, 'selection': 3419, 'nadal': 3420, 'wholesale': 3421, 'envoy': 3422, 'lands': 3423, 'collapse': 3424, 'shipping': 3425, 'guns': 3426, 'pharmaceutical': 3427, 'outfielder': 3428, 'tribal': 3429, 'trucks': 3430, 'nominee': 3431, 'downgraded': 3432, 'gift': 3433, 'stress': 3434, 'ian': 3435, 'lok': 3436, 'billionaire': 3437, 'virtual': 3438, 'strongly': 3439, 'islamabad': 3440, 'struggle': 3441, 'attention': 3442, '3000': 3443, 'resignation': 3444, 'undergoes': 3445, 'plus': 3446, 'wreck': 3447, 'athletic': 3448, 'barry': 3449, 'section': 3450, 'older': 3451, 'entering': 3452, 'communication': 3453, 'palace': 3454, 'roof': 3455, 'mandela': 3456, 'crack': 3457, 'greg': 3458, 'competitive': 3459, 'aston': 3460, 'workforce': 3461, 'chennai': 3462, 'demanded': 3463, 'unveil': 3464, 'kidnapping': 3465, 'lakers': 3466, 'metals': 3467, 'kind': 3468, 'speaking': 3469, 'vikings': 3470, 'twin': 3471, 'warriors': 3472, 'knowledge': 3473, 'tanker': 3474, 'kerala': 3475, '3d': 3476, 'skills': 3477, 'lance': 3478, '44': 3479, 'presidents': 3480, 'hunt': 3481, 'nascar': 3482, 'adviser': 3483, 'entry': 3484, 'praised': 3485, 'automotive': 3486, 'berlin': 3487, 'studies': 3488, 'withdraw': 3489, 'drink': 3490, 'increasingly': 3491, 'rogers': 3492, 'fed': 3493, 'sessions': 3494, 'hp': 3495, 'fixed': 3496, 'someone': 3497, 'unique': 3498, 'affect': 3499, 'neck': 3500, 'edged': 3501, 'principal': 3502, '37': 3503, 'freed': 3504, 'captured': 3505, 'fiji': 3506, 'guidance': 3507, 'interactive': 3508, 'anyone': 3509, 'limit': 3510, 'conspiracy': 3511, 'sterling': 3512, 'pete': 3513, '72': 3514, 'sustained': 3515, 'releasing': 3516, 'stands': 3517, 'tries': 3518, 'minimum': 3519, 'bat': 3520, 'visitors': 3521, 'marking': 3522, 'familiar': 3523, 'streaming': 3524, 'tyler': 3525, 'ranks': 3526, 'zoo': 3527, 'inquiry': 3528, 'rolling': 3529, 'nc': 3530, 'dry': 3531, 'ore': 3532, 'endorses': 3533, 'reveal': 3534, 'illegally': 3535, 'included': 3536, 'earned': 3537, 'cyprus': 3538, 'attorneys': 3539, 'attacking': 3540, 'liberty': 3541, 'forecasts': 3542, 'reserves': 3543, 'shell': 3544, 'reid': 3545, 'managers': 3546, 'saints': 3547, 'rome': 3548, 'commonwealth': 3549, 'hair': 3550, 'thompson': 3551, 'developers': 3552, 'tracks': 3553, 'dick': 3554, 'putin': 3555, 'wear': 3556, 'remarks': 3557, 'unchanged': 3558, '800': 3559, 'prepares': 3560, 'kanye': 3561, 'fields': 3562, 'measure': 3563, 'worries': 3564, 'lakh': 3565, 'mar': 3566, 'cubs': 3567, 'prepared': 3568, '46': 3569, 'everyone': 3570, 'exit': 3571, 'fisher': 3572, 'cells': 3573, 'loves': 3574, 'parade': 3575, 'studios': 3576, 'tablet': 3577, 'firing': 3578, 'espn': 3579, 'accuses': 3580, 'rejects': 3581, 'casey': 3582, 'encounter': 3583, 'mind': 3584, 'salman': 3585, 'changing': 3586, 'code': 3587, 'cat': 3588, 'neutral': 3589, 'accepted': 3590, 'ottawa': 3591, 'revolution': 3592, 'montana': 3593, 'royals': 3594, 'storms': 3595, 'withdrawn': 3596, 'sciences': 3597, 'effects': 3598, 'pak': 3599, 'hunger': 3600, 'hughes': 3601, 'accidentally': 3602, 'till': 3603, 'wine': 3604, 'foreclosure': 3605, 'saved': 3606, 'ashley': 3607, 'resolve': 3608, 'heavyweight': 3609, 'ted': 3610, 'shed': 3611, 'innovative': 3612, 'rollover': 3613, 'kris': 3614, 'ross': 3615, 'solo': 3616, 'required': 3617, 'finals': 3618, 'puts': 3619, 'intends': 3620, 'trapped': 3621, 'established': 3622, 'qantas': 3623, 'motorists': 3624, 'insisted': 3625, 'starring': 3626, 'raza': 3627, 'injuring': 3628, 'currencies': 3629, 'pub': 3630, 'mothers': 3631, 'nigerian': 3632, 'appointment': 3633, 'extending': 3634, 'towns': 3635, 'served': 3636, 'telling': 3637, 'size': 3638, 'bans': 3639, 'agricultural': 3640, 'dui': 3641, 'pledged': 3642, 'mukherjee': 3643, 'weapon': 3644, 'chile': 3645, 'count': 3646, '54': 3647, '55': 3648, 'wealth': 3649, 'demanding': 3650, 'character': 3651, 'salary': 3652, 'publicly': 3653, '38': 3654, 'kidney': 3655, 'bigger': 3656, 'motorcyclist': 3657, 'possibility': 3658, 'tools': 3659, 'romania': 3660, 'auckland': 3661, 'munich': 3662, '50000': 3663, 'kyle': 3664, 'crucial': 3665, 'terminal': 3666, 'forcing': 3667, 'recycling': 3668, 'twoyear': 3669, 'gilani': 3670, 'fla': 3671, 'benedict': 3672, 'capitol': 3673, 'brett': 3674, 'customs': 3675, 'directed': 3676, 'temporarily': 3677, 'blues': 3678, 'jonathan': 3679, 'magic': 3680, 'twenty20': 3681, 'latin': 3682, 'reduction': 3683, 'routes': 3684, 'computers': 3685, 'hampshire': 3686, 'sectors': 3687, '82': 3688, '48': 3689, 'marked': 3690, 'memphis': 3691, 'practices': 3692, 'equities': 3693, 'saving': 3694, 'promises': 3695, 'actors': 3696, 'scale': 3697, 'thrown': 3698, 'holidays': 3699, '52': 3700, 'lender': 3701, 'photos': 3702, 'article': 3703, 'potentially': 3704, 'category': 3705, 'raw': 3706, 'fun': 3707, 'corps': 3708, 'pet': 3709, 'unlikely': 3710, 'toddler': 3711, 'prospect': 3712, 'temperatures': 3713, 'ranked': 3714, 'theyre': 3715, 'tensions': 3716, 'structure': 3717, 'write': 3718, 'wrote': 3719, 'misdemeanor': 3720, 'dealing': 3721, 'adopt': 3722, 'mtv': 3723, 'dolphins': 3724, 'links': 3725, 'upgrade': 3726, 'determined': 3727, 'settled': 3728, 'brisbane': 3729, 'lucky': 3730, 'mccartney': 3731, 'immigrants': 3732, 'japans': 3733, 'dramatic': 3734, 'spokeswoman': 3735, 'universal': 3736, 'motorola': 3737, 'springfield': 3738, 'prior': 3739, 'condemned': 3740, 'master': 3741, 'songs': 3742, 'controversy': 3743, 'tank': 3744, 'wright': 3745, 'asylum': 3746, 'fails': 3747, 'jeremy': 3748, 'analysis': 3749, 'fa': 3750, 'surge': 3751, 'witness': 3752, 'consulting': 3753, 'raiders': 3754, 'interests': 3755, 'refuses': 3756, 'tracking': 3757, 'mps': 3758, 'georgian': 3759, 'rallied': 3760, 'variety': 3761, 'enterprises': 3762, 'endorsed': 3763, 'bike': 3764, 'volleyball': 3765, 'mets': 3766, 'kenny': 3767, 'mario': 3768, 'prove': 3769, 'operators': 3770, 'costa': 3771, 'delaware': 3772, 'renewable': 3773, 'bomber': 3774, 'iii': 3775, 'keeps': 3776, 'rachel': 3777, 'resumed': 3778, 'poised': 3779, 'citizen': 3780, 'cairo': 3781, 'publisher': 3782, 'underwent': 3783, 'gunmen': 3784, 'providers': 3785, 'highs': 3786, 'theater': 3787, 'nhs': 3788, 'hip': 3789, 'critically': 3790, 'era': 3791, 'lord': 3792, 'v': 3793, '53': 3794, 'burned': 3795, 'acres': 3796, 'lebanese': 3797, 'idaho': 3798, 'vladimir': 3799, 'evans': 3800, 'stranded': 3801, 'beef': 3802, 'discharged': 3803, 'proposes': 3804, 'knight': 3805, 'commits': 3806, 'coaches': 3807, 'transaction': 3808, 'editor': 3809, 'closure': 3810, 'label': 3811, 'abdullah': 3812, 'jefferson': 3813, 'shock': 3814, 'unknown': 3815, 'militant': 3816, 'burns': 3817, 'writes': 3818, 'nursing': 3819, 'quite': 3820, 'sovereign': 3821, 'crackdown': 3822, 'sues': 3823, 'kerry': 3824, 'inducted': 3825, 'coaching': 3826, 'shareholder': 3827, 'sleep': 3828, 'poland': 3829, 'skin': 3830, 'juan': 3831, 'moss': 3832, 'zuma': 3833, 'resumes': 3834, 'eddie': 3835, 'jacksonville': 3836, 'gap': 3837, 'priority': 3838, 'pregnancy': 3839, 'pti': 3840, 'karnataka': 3841, 'blog': 3842, 'mills': 3843, 'afp': 3844, 'landmark': 3845, 'treat': 3846, 'gm': 3847, 'rebound': 3848, 'obamas': 3849, 'proposals': 3850, 'emissions': 3851, 'roman': 3852, '2015': 3853, 'memory': 3854, 'jobless': 3855, 'dell': 3856, 'kosovo': 3857, 'peak': 3858, 'innovation': 3859, 'heights': 3860, 'fly': 3861, 'mom': 3862, 'humanitarian': 3863, 'select': 3864, 'arnold': 3865, 'harper': 3866, 'pulls': 3867, 'bachchan': 3868, 'vodafone': 3869, 'faster': 3870, 'corner': 3871, 'leeds': 3872, 'winners': 3873, 'resource': 3874, 'involvement': 3875, 'affordable': 3876, 'telecommunications': 3877, 'pleased': 3878, 'milk': 3879, 'parish': 3880, 'sarkozy': 3881, 'drone': 3882, 'declines': 3883, 'actions': 3884, 'affair': 3885, 'guards': 3886, 'rochester': 3887, 'citigroup': 3888, 'filmmaker': 3889, 'alongside': 3890, 'dropping': 3891, 'sue': 3892, 'nebraska': 3893, 'sustainable': 3894, 'keith': 3895, 'papers': 3896, 'attempts': 3897, 'messages': 3898, 'douglas': 3899, 'watching': 3900, 'oneyear': 3901, 'chancellor': 3902, 'backs': 3903, 'flash': 3904, 'text': 3905, 'northwestern': 3906, 'significantly': 3907, 'commissioners': 3908, 'vaccine': 3909, 'throwing': 3910, 'answer': 3911, 'hunter': 3912, 'argument': 3913, 'berlusconi': 3914, 'approve': 3915, 'grove': 3916, 'poverty': 3917, 'retires': 3918, 'semifinals': 3919, 'photographer': 3920, 'trials': 3921, 'dean': 3922, 'cruelty': 3923, 'sharks': 3924, 'lung': 3925, 'pushing': 3926, 'favourite': 3927, 'chosen': 3928, 'abusing': 3929, 'remote': 3930, 'walked': 3931, 'pilgrims': 3932, 'julian': 3933, 'seats': 3934, 'urging': 3935, 'integration': 3936, 'perth': 3937, 'implement': 3938, 'broncos': 3939, 'brief': 3940, 'promoting': 3941, 'expenses': 3942, 'manage': 3943, 'beer': 3944, 'heidi': 3945, 'concerned': 3946, 'celtic': 3947, '11th': 3948, 'pickup': 3949, 'midnight': 3950, 'writing': 3951, 'monitoring': 3952, 'maharashtra': 3953, 'crashing': 3954, 'tributes': 3955, 'promoted': 3956, 'innings': 3957, 'shane': 3958, 'wheat': 3959, 'ahmadinejad': 3960, 'lying': 3961, 'vessel': 3962, 'julia': 3963, 'montgomery': 3964, 'trailer': 3965, 'bangalore': 3966, 'winger': 3967, 'donald': 3968, 'communist': 3969, 'venezuelan': 3970, 'finding': 3971, 'plunged': 3972, 'colleges': 3973, 'allstar': 3974, 'amanda': 3975, 'marshall': 3976, 'maritime': 3977, 'sisters': 3978, 'semifinal': 3979, 'outbreak': 3980, 'cyclist': 3981, 'models': 3982, 'abandoned': 3983, 'holmes': 3984, 'smartphones': 3985, 'slip': 3986, 'qualifying': 3987, 'skipper': 3988, 'complaints': 3989, 'celtics': 3990, 'emma': 3991, 'ability': 3992, 'rolled': 3993, 'assange': 3994, 'voluntary': 3995, 'mubarak': 3996, 'carey': 3997, 'assignment': 3998, 'mill': 3999, 'either': 4000, 'prescription': 4001, 'porn': 4002, 'governors': 4003, 'imposed': 4004, 'uranium': 4005, 'sandy': 4006, 'throws': 4007, 'trouble': 4008, 'chidambaram': 4009, 'spirit': 4010, 'assist': 4011, 'moon': 4012, 'accepting': 4013, 'allows': 4014, 'superior': 4015, 'concluded': 4016, 'ken': 4017, 'sep': 4018, 'favorite': 4019, 'pending': 4020, 'homeowners': 4021, 'quoted': 4022, 'artists': 4023, 'pakistans': 4024, 'foster': 4025, 'cameras': 4026, 'irans': 4027, 'waivers': 4028, 'underway': 4029, 'everton': 4030, 'tommy': 4031, 'hate': 4032, 'opinion': 4033, 'gaddafi': 4034, 'slammed': 4035, 'uses': 4036, 'gene': 4037, 'worse': 4038, 'middleton': 4039, 'teens': 4040, 'stakes': 4041, 'rockets': 4042, 'zero': 4043, 'browns': 4044, 'bag': 4045, 'hub': 4046, 'trades': 4047, 'external': 4048, 'stepped': 4049, 'audience': 4050, 'portsmouth': 4051, 'path': 4052, 'prevention': 4053, '900': 4054, 'prospects': 4055, 'adams': 4056, 'slash': 4057, 'saint': 4058, 'advice': 4059, 'heroin': 4060, 'mean': 4061, 'reducing': 4062, 'pharmaceuticals': 4063, 'indies': 4064, 'anne': 4065, 'danger': 4066, 'membership': 4067, 'adelaide': 4068, 'roberto': 4069, 'rooney': 4070, 'praises': 4071, 'monitor': 4072, 'floods': 4073, 'exposure': 4074, 'guest': 4075, 'contractor': 4076, 'apply': 4077, 'addition': 4078, 'shops': 4079, 'pizza': 4080, 'driven': 4081, 'wage': 4082, 'guitarist': 4083, 'kent': 4084, 'quick': 4085, 'fares': 4086, 'eagle': 4087, 'eating': 4088, 'cancel': 4089, 'pit': 4090, 'feared': 4091, 'attempting': 4092, 'seeing': 4093, 'angry': 4094, 'costar': 4095, 'boosted': 4096, 'catches': 4097, 'jerusalem': 4098, '50th': 4099, 'command': 4100, 'syed': 4101, 'shelter': 4102, 'mason': 4103, 'blaze': 4104, 'sponsor': 4105, 'bc': 4106, 'schwarzenegger': 4107, 'advised': 4108, 'weakened': 4109, 'blasts': 4110, 'confirm': 4111, 'grade': 4112, 'acts': 4113, 'brooklyn': 4114, 'r': 4115, 'refinance': 4116, 'locations': 4117, 'spokesperson': 4118, 'rodriguez': 4119, 'serial': 4120, 'spencer': 4121, 'wing': 4122, 'anc': 4123, 'volume': 4124, 'clothes': 4125, 'tendulkar': 4126, 'mahmoud': 4127, 'steelers': 4128, 'faith': 4129, 'fiveyear': 4130, 'potter': 4131, 'staterun': 4132, 'priest': 4133, 'words': 4134, 'revised': 4135, 'hunting': 4136, 'user': 4137, 'forms': 4138, 'detention': 4139, 'momentum': 4140, 'slashed': 4141, 'supported': 4142, 'redskins': 4143, 'presidency': 4144, 'picks': 4145, 'billions': 4146, '95': 4147, 'nightclub': 4148, 'brussels': 4149, 'vatican': 4150, 'prostate': 4151, 'queens': 4152, 'identify': 4153, 'thieves': 4154, 'solid': 4155, 'conservation': 4156, 'holy': 4157, 'string': 4158, 'surplus': 4159, 'limits': 4160, 'somalia': 4161, 'musician': 4162, 'ravens': 4163, 'auburn': 4164, 'liquor': 4165, 'bombing': 4166, 'mitchell': 4167, 'farmer': 4168, 'jacob': 4169, 'remember': 4170, 'widespread': 4171, 'tops': 4172, 'wellington': 4173, 'babies': 4174, 'performs': 4175, 'russias': 4176, 'ham': 4177, 'seed': 4178, 'blame': 4179, 'clinical': 4180, 'trains': 4181, 'hopeful': 4182, 'glass': 4183, 'replaced': 4184, 'cinema': 4185, 'abbas': 4186, 'aggravated': 4187, 'absence': 4188, 'economies': 4189, 'baseman': 4190, 'premium': 4191, 'lily': 4192, 'gunman': 4193, 'cliff': 4194, 'suzuki': 4195, 'naked': 4196, 'drove': 4197, 'refugees': 4198, 'workshop': 4199, 'discussed': 4200, 'evasion': 4201, 'celebrations': 4202, 'slipped': 4203, 'sporting': 4204, 'nobel': 4205, 'constitutional': 4206, 'documentary': 4207, 'apologizes': 4208, 'bottom': 4209, 'mines': 4210, 'airbus': 4211, 'attract': 4212, 'disappointing': 4213, 'wimbledon': 4214, 'alberta': 4215, 'departments': 4216, 'chest': 4217, 'riding': 4218, 'muhammad': 4219, 'ski': 4220, 'apologized': 4221, 'youre': 4222, 'ronaldo': 4223, 'particularly': 4224, 'stops': 4225, 'hiv': 4226, 'improves': 4227, 'tuesdays': 4228, 'computing': 4229, 'overcome': 4230, 'pga': 4231, 'prostitution': 4232, 'braves': 4233, 'ace': 4234, 'offences': 4235, 'surrounding': 4236, 'ownership': 4237, '1500': 4238, 'awardwinning': 4239, 'defenseman': 4240, 'petition': 4241, '83': 4242, 'stream': 4243, 'buried': 4244, 'ward': 4245, 'greatest': 4246, 'manufacturers': 4247, 'torch': 4248, 'regulator': 4249, '120': 4250, 'accusing': 4251, 'refinery': 4252, 'discrimination': 4253, 'bloomberg': 4254, 'transplant': 4255, 'bryant': 4256, 'throw': 4257, 'htc': 4258, 'bayern': 4259, 'phillies': 4260, 'centres': 4261, 'anticipated': 4262, 'karachi': 4263, 'randy': 4264, 'drawing': 4265, 'cambridge': 4266, 'swept': 4267, 'hanging': 4268, 'garage': 4269, 'dame': 4270, 'sing': 4271, 'apology': 4272, '39': 4273, 'salt': 4274, 'quinn': 4275, 'lovato': 4276, 'attending': 4277, 'abortion': 4278, 'bmw': 4279, 'vision': 4280, 'lows': 4281, 'peaceful': 4282, 'lil': 4283, 'newspapers': 4284, 'marc': 4285, 'clothing': 4286, 'concussion': 4287, 'susan': 4288, 'inmates': 4289, 'rental': 4290, 'type': 4291, 'modi': 4292, 'sachin': 4293, 'featured': 4294, 'senators': 4295, 'bone': 4296, 'obesity': 4297, 'overhaul': 4298, 'dj': 4299, 'bihar': 4300, 'rebel': 4301, 'crystal': 4302, 'bed': 4303, 'predicted': 4304, 'ferrari': 4305, 'uncertainty': 4306, 'lottery': 4307, 'warn': 4308, 'fireworks': 4309, 'subject': 4310, 'cotton': 4311, '71': 4312, 'rahul': 4313, 'broad': 4314, 'fighters': 4315, 'chamber': 4316, 'earn': 4317, 'gibson': 4318, 'rumors': 4319, 'unidentified': 4320, 'murphy': 4321, 'occupy': 4322, 'reds': 4323, 'titans': 4324, 'donated': 4325, 'catch': 4326, 'producing': 4327, 'species': 4328, 'oracle': 4329, 'professionals': 4330, 'jesus': 4331, 'haryana': 4332, 'karzai': 4333, 'yemeni': 4334, 'wish': 4335, 'unable': 4336, '66': 4337, 'eat': 4338, 'semiconductor': 4339, 'bernard': 4340, 'wwe': 4341, 'roles': 4342, 'suspend': 4343, 'drowns': 4344, 'misses': 4345, 'ericsson': 4346, 'counterpart': 4347, 'tsunami': 4348, 'lawmaker': 4349, 'commodities': 4350, 'chip': 4351, 'sheikh': 4352, 'dmitry': 4353, 'doubled': 4354, 'xinhua': 4355, 'hole': 4356, 'wire': 4357, 'capture': 4358, 'richmond': 4359, 'switch': 4360, 'robber': 4361, 'inspired': 4362, 'gomez': 4363, 'machines': 4364, 'evacuation': 4365, 'youths': 4366, 'bags': 4367, 'freight': 4368, 'planes': 4369, 'pervez': 4370, 'recognized': 4371, 'investigated': 4372, 'comment': 4373, 'sharing': 4374, 'smaller': 4375, 'aim': 4376, 'grain': 4377, 'bounce': 4378, 'threeyear': 4379, 'operate': 4380, 'pranab': 4381, 'austerity': 4382, 'versus': 4383, 'volunteer': 4384, 'sacked': 4385, 'polish': 4386, 'refusing': 4387, 'nj': 4388, 'escapes': 4389, 'buses': 4390, 'baldwin': 4391, 'hasnt': 4392, 'ships': 4393, 'hostage': 4394, 'aggressive': 4395, 'nominations': 4396, '2005': 4397, 'engineers': 4398, 'finger': 4399, 'investing': 4400, 'honour': 4401, 'shootout': 4402, 'murdoch': 4403, 'johannesburg': 4404, 'client': 4405, 'channels': 4406, 'sick': 4407, 'privacy': 4408, 'edmonton': 4409, 'deer': 4410, 'shared': 4411, 'suffer': 4412, 'newest': 4413, 'initiatives': 4414, 'sonia': 4415, 'suggesting': 4416, 'consumption': 4417, 'completely': 4418, 'requirements': 4419, 'pricing': 4420, 'thursdays': 4421, 'values': 4422, 'ambulance': 4423, 'roadside': 4424, 'respond': 4425, 'individuals': 4426, 'extreme': 4427, 'ballot': 4428, 'jays': 4429, 'brewers': 4430, '20yearold': 4431, 'uttar': 4432, 'yes': 4433, 'whitney': 4434, '68': 4435, 'grocery': 4436, 'robberies': 4437, 'stem': 4438, 'defeats': 4439, 'crushed': 4440, 'affiliate': 4441, 'achieved': 4442, 'ultimate': 4443, 'novel': 4444, 'prisoner': 4445, 'electrical': 4446, 'slams': 4447, 'followed': 4448, 'warehouse': 4449, 'donations': 4450, 'universities': 4451, 'importance': 4452, '125': 4453, 'judiciary': 4454, 'amnesty': 4455, 'twilight': 4456, 'beverly': 4457, 'broadcaster': 4458, 'robinson': 4459, 'inning': 4460, 'websites': 4461, 'sharif': 4462, 'grammy': 4463, 'sitting': 4464, 'mahindra': 4465, 'imf': 4466, 'clarke': 4467, 'rolls': 4468, 'belgium': 4469, 'arctic': 4470, 'necessary': 4471, 'elbow': 4472, 'posting': 4473, '67': 4474, 'apa': 4475, 'castro': 4476, 'pride': 4477, 'eased': 4478, 'osbourne': 4479, 'pink': 4480, 'canadas': 4481, 'shoppers': 4482, 'afl': 4483, 'reopens': 4484, 'unity': 4485, 'fridays': 4486, 'frozen': 4487, 'vital': 4488, 'teenagers': 4489, 'oldest': 4490, 'estranged': 4491, 'applied': 4492, 'secondary': 4493, 'bolton': 4494, 'spoke': 4495, 'destination': 4496, 'boycott': 4497, 'baku': 4498, 'bishop': 4499, 'scare': 4500, 'lifetime': 4501, 'hailed': 4502, 'slide': 4503, 'rupert': 4504, 'nintendo': 4505, 'cisco': 4506, 'advances': 4507, 'condemns': 4508, 'nancy': 4509, 'athletics': 4510, 'opera': 4511, 'disputed': 4512, 'athens': 4513, 'luke': 4514, '20th': 4515, 'creation': 4516, 'childhood': 4517, 'rumours': 4518, 'signal': 4519, 'threeday': 4520, '47': 4521, 'kitchen': 4522, 'deposit': 4523, 'fled': 4524, 'guarantee': 4525, 'offset': 4526, 'ubs': 4527, 'regulations': 4528, 'nearby': 4529, 'mugabe': 4530, 'discount': 4531, 'dumped': 4532, '500000': 4533, 'viewers': 4534, 'eighth': 4535, 'chances': 4536, 'agenda': 4537, 'scrap': 4538, 'commit': 4539, '12th': 4540, 'postal': 4541, 'cbi': 4542, 'plot': 4543, 'mentally': 4544, 'formal': 4545, 'damages': 4546, 'looked': 4547, 'ninth': 4548, 'easing': 4549, 'aboard': 4550, 'rapids': 4551, 'carriers': 4552, 'wasnt': 4553, 'slump': 4554, 'simple': 4555, 'blake': 4556, 'flames': 4557, 'easter': 4558, 'upgrades': 4559, 'louisville': 4560, 'gasoline': 4561, 'gross': 4562, 'downgrades': 4563, 'aids': 4564, '56': 4565, 'meat': 4566, 'default': 4567, 'outdoor': 4568, 'amendment': 4569, 'tibetan': 4570, 'completion': 4571, 'dennis': 4572, 'ones': 4573, '21yearold': 4574, 'critics': 4575, 'efficiency': 4576, 'survive': 4577, 'max': 4578, 'angels': 4579, 'laden': 4580, 'convenience': 4581, 'rod': 4582, 'dairy': 4583, 'merkel': 4584, 'unrest': 4585, 'airports': 4586, '49': 4587, 'ram': 4588, 'borders': 4589, 'cycling': 4590, '78': 4591, 'poker': 4592, 'rivers': 4593, 'staying': 4594, 'nature': 4595, 'differences': 4596, 'apart': 4597, 'topped': 4598, 'steal': 4599, 'seahawks': 4600, 'lt': 4601, 'ashes': 4602, 'attended': 4603, 'seminar': 4604, 'thanksgiving': 4605, '81': 4606, 'statewide': 4607, 'shift': 4608, 'supermarket': 4609, 'rapid': 4610, '57': 4611, 'chicken': 4612, 'stripped': 4613, 'uefa': 4614, 'survived': 4615, 'academic': 4616, '74': 4617, 'installed': 4618, 'aide': 4619, 'telephone': 4620, 'twoday': 4621, 'decisions': 4622, 'manhattan': 4623, 'xbox': 4624, 'behaviour': 4625, 'desperate': 4626, 'diplomats': 4627, 'tribune': 4628, 'discussion': 4629, 'womans': 4630, 'diplomat': 4631, 'makers': 4632, 'placement': 4633, 'jonas': 4634, 'lakes': 4635, 'yields': 4636, 'hu': 4637, 'ethnic': 4638, 'slowing': 4639, 'scoring': 4640, 'angel': 4641, 'owen': 4642, 'determine': 4643, 'dental': 4644, 'quoting': 4645, 'tobacco': 4646, 'wages': 4647, 'purchases': 4648, 'administrative': 4649, 'household': 4650, '84': 4651, 'automaker': 4652, 'delivers': 4653, 'h1n1': 4654, 'chef': 4655, 'daughters': 4656, 'vacant': 4657, 'todd': 4658, 'phillips': 4659, 'levy': 4660, 'maximum': 4661, 'hyderabad': 4662, 'fundraising': 4663, 'mars': 4664, 'suburban': 4665, 'eliminate': 4666, 'achieve': 4667, 'enjoy': 4668, 'nadu': 4669, 'crunch': 4670, 'atomic': 4671, 'races': 4672, 'permission': 4673, 'contain': 4674, 'fernando': 4675, 'inquest': 4676, '73': 4677, 'publishing': 4678, 'pastor': 4679, '4000': 4680, 'permits': 4681, 'smuggling': 4682, 'federer': 4683, 'teaching': 4684, 'audio': 4685, 'serbian': 4686, 'borrowing': 4687, 'hamid': 4688, 'warming': 4689, 'empire': 4690, 'wenger': 4691, 'princess': 4692, 'penguins': 4693, 'directly': 4694, 'newton': 4695, 'serena': 4696, 'christie': 4697, 'hybrid': 4698, 'norwegian': 4699, 'violation': 4700, 'recognition': 4701, 'hsbc': 4702, 'ashton': 4703, 'pioneer': 4704, 'doubles': 4705, 'screening': 4706, 'ann': 4707, 'collapses': 4708, 'ceasefire': 4709, 'refugee': 4710, 'pentagon': 4711, 'possibly': 4712, 'promising': 4713, 'outlets': 4714, 'iconic': 4715, 'seoul': 4716, 'watchdog': 4717, 'unanimously': 4718, 'endorse': 4719, 'maruti': 4720, 'robbing': 4721, 'peru': 4722, 'opec': 4723, 'definitive': 4724, 'briefly': 4725, 'bernanke': 4726, 'civilian': 4727, 'rb': 4728, 'census': 4729, 'basic': 4730, 'tape': 4731, '69': 4732, 'titles': 4733, 'wildfire': 4734, 'canadians': 4735, 'northeastern': 4736, 'timberlake': 4737, 'multiyear': 4738, 'replacement': 4739, 'qaeda': 4740, 'observed': 4741, 'eyes': 4742, 'licence': 4743, 'berry': 4744, 'crowned': 4745, 'hometown': 4746, 'reviews': 4747, 'dozen': 4748, 'chart': 4749, 'racist': 4750, 'surveillance': 4751, 'branded': 4752, 'obtained': 4753, 'gambling': 4754, 'selena': 4755, 'decrease': 4756, 'exploded': 4757, 'diet': 4758, 'prestigious': 4759, 'diseases': 4760, 'jake': 4761, 'hull': 4762, 'combined': 4763, '77': 4764, 'skip': 4765, 'watched': 4766, 'marion': 4767, 'rider': 4768, 'odds': 4769, 'submitted': 4770, 'climbed': 4771, 'opponents': 4772, 'appoint': 4773, 'tours': 4774, 'inaugural': 4775, 'freeze': 4776, 'blocked': 4777, 'declare': 4778, 'furniture': 4779, 'cautious': 4780, 'collided': 4781, 'teammate': 4782, 'leon': 4783, 'pupils': 4784, 'lion': 4785, 'beautiful': 4786, 'honorary': 4787, 'verdict': 4788, 'packers': 4789, 'representing': 4790, 'parole': 4791, 'wings': 4792, 'advisor': 4793, 'brady': 4794, 'packaging': 4795, 'burn': 4796, 'responded': 4797, 'pneumonia': 4798, 'infant': 4799, 'moderate': 4800, 'appealing': 4801, 'missiles': 4802, 'cool': 4803, 'fundraiser': 4804, 'governance': 4805, 'ms': 4806, 'specialty': 4807, '200000': 4808, 'cofounder': 4809, 'chad': 4810, 'ebay': 4811, 'declining': 4812, 'albert': 4813, 'coastal': 4814, 'weekends': 4815, 'sweep': 4816, '100th': 4817, 'disclosed': 4818, 'download': 4819, 'ethics': 4820, 'argentine': 4821, 'norway': 4822, 'guru': 4823, 'broadcasting': 4824, 'disorder': 4825, 'christopher': 4826, 'dad': 4827, 'acquitted': 4828, 'righthander': 4829, 'slam': 4830, 'southwestern': 4831, 'playstation': 4832, 'abdul': 4833, 'juventus': 4834, 'mayer': 4835, 'mariners': 4836, 'flagship': 4837, 'belgian': 4838, 'slowed': 4839, 'educational': 4840, 'pollution': 4841, 'oak': 4842, 'spectrum': 4843, 'dam': 4844, 'stones': 4845, 'playoffs': 4846, 'romanian': 4847, 'kabul': 4848, 'titled': 4849, 'shape': 4850, 'datuk': 4851, 'unless': 4852, 'lifestyle': 4853, '19yearold': 4854, 'sit': 4855, 'magnitude': 4856, 'unpaid': 4857, 'spurs': 4858, 'electoral': 4859, 'bands': 4860, 'gear': 4861, 'miners': 4862, 'optimism': 4863, 'jumps': 4864, 'pleading': 4865, 'donates': 4866, 'mystery': 4867, 'mel': 4868, 'tag': 4869, '130': 4870, 'couples': 4871, 'africas': 4872, 'exposed': 4873, 'desert': 4874, 'guidelines': 4875, 'oscars': 4876, 'pulling': 4877, 'norwich': 4878, 'thousand': 4879, 'burglaries': 4880, 'bowling': 4881, 'easily': 4882, 'pledge': 4883, 'colin': 4884, 'martinez': 4885, 'fat': 4886, 'dna': 4887, 'locked': 4888, 'piece': 4889, 'audit': 4890, 'misconduct': 4891, 'brush': 4892, '91': 4893, 'volatile': 4894, 'rajasthan': 4895, 'suv': 4896, 'breakfast': 4897, 'francis': 4898, 'lifts': 4899, 'leaked': 4900, 'challenging': 4901, 'partys': 4902, 'occupied': 4903, 'doping': 4904, 'emotional': 4905, 'kicking': 4906, 'finland': 4907, 'swat': 4908, 'admitting': 4909, 'younger': 4910, 'rebounds': 4911, 'ecuador': 4912, 'netanyahu': 4913, 'definitely': 4914, 'lights': 4915, 'operational': 4916, 'spy': 4917, 'bang': 4918, '86': 4919, 'strengthened': 4920, 'presidentelect': 4921, 'oneday': 4922, 'triplea': 4923, '110': 4924, 'distributor': 4925, 'referendum': 4926, 'elton': 4927, 'destroys': 4928, '2004': 4929, 'bronze': 4930, 'floyd': 4931, 'inspection': 4932, 'unprecedented': 4933, 'sensation': 4934, 'recommended': 4935, 'damascus': 4936, 'bashar': 4937, 'theme': 4938, 'sense': 4939, 'stuck': 4940, 'pact': 4941, 'expo': 4942, 'portugal': 4943, 'implementation': 4944, 'views': 4945, 'boats': 4946, 'elephant': 4947, 'graduate': 4948, 'councils': 4949, '1st': 4950, 'mild': 4951, 'sandra': 4952, 'bosses': 4953, 'ist': 4954, 'feed': 4955, 'socalled': 4956, 'wednesdays': 4957, 'replacing': 4958, 'silence': 4959, 'quiet': 4960, '25th': 4961, 'kiss': 4962, 'southeastern': 4963, 'pump': 4964, 'ahmed': 4965, 'updates': 4966, 'worried': 4967, 'sanchez': 4968, 'participation': 4969, 'islam': 4970, 'cheating': 4971, 'hugh': 4972, 'sap': 4973, 'accidents': 4974, 'civic': 4975, 'expensive': 4976, 'minute': 4977, 'invitation': 4978, 'aguilera': 4979, 'fred': 4980, 'tips': 4981, 'soft': 4982, 'birds': 4983, 'crossed': 4984, 'weakness': 4985, 'bound': 4986, 'harrison': 4987, 'cope': 4988, 'eva': 4989, 'indefinitely': 4990, 'minneapolis': 4991, 'boxer': 4992, 'cardiac': 4993, 'ecommerce': 4994, 'badly': 4995, 'easier': 4996, 'retained': 4997, 'k': 4998, 'runway': 4999, 'grid': 5000, 'happen': 5001, 'promise': 5002, 'butler': 5003, 'cyber': 5004, 'nissan': 5005, 'santorum': 5006, 'crop': 5007, 'prompting': 5008, 'swim': 5009, 'horses': 5010, 'treaty': 5011, 'arbitration': 5012, '92': 5013, 'robbie': 5014, 'organized': 5015, 'rehabilitation': 5016, 'tmz': 5017, 'entitled': 5018, 'continental': 5019, 'regulation': 5020, 'trump': 5021, 'tragedy': 5022, 'statements': 5023, 'swing': 5024, 'transferred': 5025, 'suu': 5026, 'lg': 5027, 'nathan': 5028, 'larger': 5029, 'numerous': 5030, 'rocker': 5031, 'luis': 5032, 'climb': 5033, 'grave': 5034, 'shark': 5035, 'beyonce': 5036, 'ferry': 5037, 'medals': 5038, 'print': 5039, 'orioles': 5040, 'heath': 5041, 'appointments': 5042, 'citizenship': 5043, 'newark': 5044, 'scenes': 5045, 'inaugurated': 5046, 'raj': 5047, 'wars': 5048, 'blackburn': 5049, 'johns': 5050, 'vanessa': 5051, 'closely': 5052, 'designated': 5053, 'gather': 5054, 'denmark': 5055, 'drinks': 5056, 'blair': 5057, 'sc': 5058, 'organised': 5059, 'abducted': 5060, 'jane': 5061, 'pacquiao': 5062, 'farms': 5063, 'buffett': 5064, 'proceedings': 5065, 'pledges': 5066, '3g': 5067, 'bolt': 5068, '20000': 5069, 'fines': 5070, 'singing': 5071, 'horror': 5072, 'loved': 5073, 'speedway': 5074, 'branches': 5075, 'capable': 5076, 'insurgents': 5077, 'innocent': 5078, 'silvio': 5079, 'marcus': 5080, 'transition': 5081, 'warm': 5082, 'retain': 5083, 'wichita': 5084, 'monsoon': 5085, 'lunch': 5086, 'jewelry': 5087, 'migrants': 5088, 'nurse': 5089, 'gathered': 5090, '58': 5091, 'politician': 5092, 'expelled': 5093, 'anchor': 5094, 'siemens': 5095, 'soul': 5096, 'sebastian': 5097, 'aberdeen': 5098, 'calgary': 5099, 'insisting': 5100, 'withdrew': 5101, 'corn': 5102, 'gaining': 5103, 'aside': 5104, '88': 5105, 'racial': 5106, '2020': 5107, 'andhra': 5108, 'medicare': 5109, 'executed': 5110, 'ads': 5111, 'insurer': 5112, 'fill': 5113, 'tablets': 5114, 'unbeaten': 5115, 'neighbors': 5116, 'cheney': 5117, 'keys': 5118, 'intervention': 5119, 'harassment': 5120, 'bombs': 5121, 'gallery': 5122, 'mad': 5123, 'readers': 5124, 'rallies': 5125, 'cemetery': 5126, 'mamata': 5127, 'provinces': 5128, 'gallagher': 5129, 'michaels': 5130, 'compliance': 5131, 'therapy': 5132, 'quarterfinals': 5133, 'thackeray': 5134, 'wishes': 5135, 'apr': 5136, 'couldnt': 5137, 'manny': 5138, 'bids': 5139, 'hungary': 5140, 'controls': 5141, 'kyi': 5142, 'gate': 5143, 'itunes': 5144, 'protesting': 5145, 'backing': 5146, 'blocks': 5147, 'orissa': 5148, 'staged': 5149, 'mega': 5150, 'surged': 5151, 'frontman': 5152, 'curb': 5153, 'alqaeda': 5154, 'chair': 5155, 'navigation': 5156, 'pretty': 5157, 'mohamed': 5158, 'defeating': 5159, 'omaha': 5160, 'amitabh': 5161, 'suite': 5162, 'tibet': 5163, 'largely': 5164, 'barnes': 5165, '79': 5166, 'lived': 5167, 'modest': 5168, 'gillard': 5169, 'warnings': 5170, 'selects': 5171, 'monroe': 5172, 'contribute': 5173, 'batsman': 5174, 'privately': 5175, 'norman': 5176, 'cruz': 5177, 'christians': 5178, 'substantial': 5179, 'wounds': 5180, 'angela': 5181, 'ridge': 5182, 'drill': 5183, 'bros': 5184, 'midwest': 5185, 'lease': 5186, 'freddie': 5187, 'nude': 5188, 'trends': 5189, 'execution': 5190, 'indicated': 5191, '25000': 5192, 'letters': 5193, 'knot': 5194, 'extremely': 5195, 'philip': 5196, 'widely': 5197, 'behalf': 5198, 'tesco': 5199, 'uks': 5200, '89': 5201, 'oprah': 5202, 'lahore': 5203, 'gen': 5204, 'muammar': 5205, 'joel': 5206, 'bath': 5207, 'nz': 5208, 'understanding': 5209, 'reverse': 5210, 'contractors': 5211, 'wrestling': 5212, 'cox': 5213, 'originally': 5214, 'giffords': 5215, 'th': 5216, 'glee': 5217, 'enhanced': 5218, 'comic': 5219, 'outfit': 5220, 'jumping': 5221, 'acquiring': 5222, 'austria': 5223, 'cycle': 5224, 'fix': 5225, 'assured': 5226, 'substance': 5227, 'trooper': 5228, 'taipei': 5229, 'promotions': 5230, 'pa': 5231, 'harbor': 5232, 'hearts': 5233, 'fought': 5234, 'understand': 5235, 'intersection': 5236, 'lexington': 5237, 'underground': 5238, 'punishment': 5239, 'et': 5240, '24yearold': 5241, 'duties': 5242, 'mondays': 5243, 'pharmacy': 5244, 'remembered': 5245, 'malta': 5246, 'striking': 5247, 'accounting': 5248, 'survival': 5249, 'maintained': 5250, 'difference': 5251, 'chemicals': 5252, 'lambert': 5253, 'lloyd': 5254, 'tulsa': 5255, 'xvi': 5256, 'wigan': 5257, 'swansea': 5258, 'id': 5259, 'picking': 5260, 'icc': 5261, 'housewives': 5262, 'vermont': 5263, 'yard': 5264, 'footballer': 5265, 'insider': 5266, 'archbishop': 5267, '350': 5268, 'layoffs': 5269, '1200': 5270, 'throat': 5271, 'vulnerable': 5272, 'overturned': 5273, 'yuan': 5274, 'fugitive': 5275, 'bench': 5276, 'bhp': 5277, 'coleman': 5278, 'vacation': 5279, 'grace': 5280, 'trainer': 5281, 'taxpayers': 5282, 'oath': 5283, 'enable': 5284, 'creator': 5285, 'lesbian': 5286, 'dawn': 5287, 'zambia': 5288, 'turmoil': 5289, 'deposits': 5290, 'abbott': 5291, 'indefinite': 5292, 'document': 5293, 'charging': 5294, 'rams': 5295, 'mainly': 5296, 'reiterated': 5297, 'declaration': 5298, 'scientist': 5299, 'nile': 5300, 'rudd': 5301, 'oman': 5302, 'finances': 5303, 'institution': 5304, 'thunder': 5305, 'deported': 5306, 'controlled': 5307, 'policeman': 5308, 'unconscious': 5309, 'explore': 5310, 'preferred': 5311, 'disciplinary': 5312, 'answers': 5313, 'wade': 5314, 'mohammed': 5315, 'paso': 5316, 'triggered': 5317, 'bolster': 5318, 'ranch': 5319, 'conrad': 5320, 'pattern': 5321, 'prosecution': 5322, 'lp': 5323, 'writers': 5324, 'narrowly': 5325, 'herald': 5326, 'hang': 5327, 'doherty': 5328, 'newborn': 5329, 'darren': 5330, 'amber': 5331, 'grounds': 5332, 'preparation': 5333, 'supermodel': 5334, 'osama': 5335, 'salem': 5336, '2nd': 5337, 'challenged': 5338, 'flow': 5339, 'renew': 5340, 'michele': 5341, 'ppp': 5342, 'impressive': 5343, 'covering': 5344, 'mounting': 5345, 'tens': 5346, 'complications': 5347, 'peterson': 5348, 'drives': 5349, 'shoes': 5350, 'rehman': 5351, 'jpmorgan': 5352, 'benjamin': 5353, 'nrl': 5354, 'turkmenistan': 5355, 'boosting': 5356, 'adrian': 5357, 'blind': 5358, 'bonuses': 5359, 'mile': 5360, 'exwife': 5361, 'composer': 5362, 'tribunal': 5363, 'subscribers': 5364, 'kirk': 5365, 'tentative': 5366, 'le': 5367, 'fathers': 5368, 'hijacked': 5369, 'ancient': 5370, 'wolves': 5371, 'risen': 5372, 'clerk': 5373, 'danish': 5374, 'availability': 5375, 'rankings': 5376, 'personality': 5377, 'quebec': 5378, 'ucla': 5379, '23yearold': 5380, 'edinburgh': 5381, 'hiding': 5382, 'seconds': 5383, 'encourage': 5384, 'acquisitions': 5385, 'christchurch': 5386, 'demonstration': 5387, 'engineer': 5388, 'relatives': 5389, 'install': 5390, 'delivering': 5391, 'richie': 5392, 'eur': 5393, '360': 5394, 'breach': 5395, 'booked': 5396, 'peninsula': 5397, '22yearold': 5398, 'bankers': 5399, 'recruiting': 5400, 'responding': 5401, 'conn': 5402, 'severely': 5403, 'syracuse': 5404, 'riot': 5405, 'relay': 5406, 'naomi': 5407, 'domain': 5408, 'portal': 5409, 'maple': 5410, 'liver': 5411, 'safely': 5412, 'lynch': 5413, 'calm': 5414, 'minogue': 5415, 'filming': 5416, 'henderson': 5417, 'wickets': 5418, 'cedar': 5419, 'genocide': 5420, 'stages': 5421, 'survives': 5422, 'jean': 5423, 'teammates': 5424, 'swap': 5425, 'valued': 5426, 'wifi': 5427, 'jamaica': 5428, 'sena': 5429, 'wouldnt': 5430, 'sustainability': 5431, 'mccarthy': 5432, 'connect': 5433, 'manning': 5434, 'planet': 5435, 'meters': 5436, 'favre': 5437, 'autism': 5438, 'qualify': 5439, 'concept': 5440, 'checkpoint': 5441, 'choose': 5442, 'cuomo': 5443, 'filled': 5444, 'knicks': 5445, 'chronic': 5446, 'struggles': 5447, 'affecting': 5448, 'autopsy': 5449, 'tonights': 5450, 'owns': 5451, 'charleston': 5452, 'lisa': 5453, 'mo': 5454, 'confessed': 5455, 'merge': 5456, 'framework': 5457, 'strategies': 5458, 'jewellery': 5459, 'leagues': 5460, 'midday': 5461, 'g': 5462, 'reward': 5463, 'experienced': 5464, 'sierra': 5465, 'excited': 5466, 'neighbours': 5467, 'mariah': 5468, 'yellow': 5469, 'dragged': 5470, 'blockbuster': 5471, 'notre': 5472, 'dress': 5473, '7th': 5474, 'developments': 5475, 'explosive': 5476, 'resulted': 5477, '87': 5478, 'qb': 5479, 'exporters': 5480, 'clearing': 5481, 'appearing': 5482, 'lab': 5483, 'wheel': 5484, 'grown': 5485, 'strain': 5486, 'glen': 5487, 'molestation': 5488, 'restraining': 5489, 'morris': 5490, 'tractor': 5491, 'shield': 5492, 'blacks': 5493, 'spreading': 5494, 'pose': 5495, 'ivory': 5496, 'longest': 5497, 'baker': 5498, 'rovers': 5499, 'essential': 5500, 'destroy': 5501, 'apologised': 5502, 'sioux': 5503, 'accepts': 5504, 'universe': 5505, 'employer': 5506, 'willing': 5507, 'favor': 5508, 'thomson': 5509, 'reliever': 5510, 'newport': 5511, 'molesting': 5512, 'genetic': 5513, 'heavily': 5514, 'starbucks': 5515, 'clooney': 5516, 'l': 5517, 'hathaway': 5518, 'detective': 5519, 'stomach': 5520, 'infringement': 5521, 'eds': 5522, 'hazare': 5523, 'economist': 5524, 'sindh': 5525, 'ronnie': 5526, 'thriller': 5527, 'spiritual': 5528, 'catcher': 5529, 'niagara': 5530, 'roma': 5531, 'nurses': 5532, 'intent': 5533, 'explain': 5534, 'remanded': 5535, 'fabio': 5536, 'harvard': 5537, 'represent': 5538, 'routine': 5539, 'glasgow': 5540, 'waived': 5541, 'canyon': 5542, 'lineman': 5543, 'parked': 5544, 'reconciliation': 5545, 'hungarian': 5546, 'torn': 5547, 'licensing': 5548, 'colombo': 5549, 'impose': 5550, 'secures': 5551, 'questioned': 5552, 'f': 5553, 'recruitment': 5554, 'derek': 5555, 'diving': 5556, 'mt': 5557, 'prompted': 5558, 'finnish': 5559, 'newman': 5560, 'splits': 5561, 'travelling': 5562, 'doubleheader': 5563, 'hardware': 5564, 'austrian': 5565, 'vince': 5566, 'belt': 5567, 'celebrities': 5568, 'heroes': 5569, 'nonprofit': 5570, 'boards': 5571, 'gardens': 5572, 'athlete': 5573, 'metropolitan': 5574, 'weighed': 5575, 'foreigners': 5576, 'knows': 5577, 'simply': 5578, 'disappointed': 5579, 'offenders': 5580, 'travis': 5581, 'server': 5582, 'rockies': 5583, 'silicon': 5584, 'govt': 5585, 'walter': 5586, 'londons': 5587, 'manuel': 5588, 'advisers': 5589, 'statue': 5590, 'enjoyed': 5591, 'thief': 5592, 'sorry': 5593, 'omar': 5594, 'romantic': 5595, 'sharapova': 5596, 'criminals': 5597, 'torture': 5598, 'kutcher': 5599, 'hartford': 5600, 'absolutely': 5601, 'walsh': 5602, 'sudanese': 5603, 'reed': 5604, 'voter': 5605, 'renews': 5606, 'stemming': 5607, 'seconddegree': 5608, 'influential': 5609, 'albany': 5610, 'cannabis': 5611, 'vicepresident': 5612, '05': 5613, 'violated': 5614, 'dvd': 5615, 'sydneys': 5616, 'richards': 5617, 'rubber': 5618, 'doubt': 5619, '25yearold': 5620, 'eliminated': 5621, 'seniors': 5622, 'liquidity': 5623, 'pack': 5624, 'strict': 5625, 'natalie': 5626, 'bullock': 5627, 'broker': 5628, 'excessive': 5629, 'urge': 5630, 'sheffield': 5631, 'correspondent': 5632, 'profile': 5633, 'indecent': 5634, 'os': 5635, 'repairs': 5636, 'proved': 5637, 'rays': 5638, 'imran': 5639, 'capabilities': 5640, 'beta': 5641, 'johansson': 5642, 'cues': 5643, 'imported': 5644, 'emmy': 5645, 'settles': 5646, 'overweight': 5647, 'renowned': 5648, 'reduces': 5649, 'brook': 5650, 'airtel': 5651, 'hospitalised': 5652, 'woes': 5653, 'require': 5654, 'kid': 5655, 'webber': 5656, 'des': 5657, 'billboard': 5658, 'glenn': 5659, 'rajya': 5660, 'shoe': 5661, 'bryan': 5662, 'excellent': 5663, 'suggest': 5664, 'fresno': 5665, 'xi': 5666, 'tinto': 5667, 'toss': 5668, 'arthur': 5669, 'assam': 5670, 'analytics': 5671, '28yearold': 5672, 'overdose': 5673, 'ipl': 5674, 'cannon': 5675, 'contained': 5676, 'cats': 5677, 'occasion': 5678, 'du': 5679, 'sponsorship': 5680, 'margin': 5681, 'concerts': 5682, 'handling': 5683, 'colts': 5684, 'railways': 5685, 'cream': 5686, 'deployed': 5687, 'tunisia': 5688, 'allies': 5689, 'discussions': 5690, 'margaret': 5691, '18yearold': 5692, 'turner': 5693, 'yorkshire': 5694, 'creates': 5695, 'rbi': 5696, 'mainland': 5697, 'qualified': 5698, 'whos': 5699, 'mortgages': 5700, 'tear': 5701, 'camps': 5702, 'pursue': 5703, 'pond': 5704, 'defamation': 5705, 'develops': 5706, 'lets': 5707, 'finale': 5708, 'extraordinary': 5709, 'effectively': 5710, 'obrien': 5711, 'manila': 5712, 'dying': 5713, 'crush': 5714, 'tire': 5715, 'betty': 5716, 'retreat': 5717, 'platinum': 5718, 'abused': 5719, 'finishing': 5720, 'breakthrough': 5721, 'traveling': 5722, 'lowered': 5723, 'counter': 5724, 'janata': 5725, 'goa': 5726, 'function': 5727, 'licenses': 5728, 'extensive': 5729, 'backup': 5730, 'ios': 5731, 'da': 5732, 'blagojevich': 5733, '94': 5734, 'vincent': 5735, 'gathering': 5736, 'bruins': 5737, 'freshman': 5738, 'cooperate': 5739, 'somerset': 5740, 'ailing': 5741, 'cement': 5742, 'compromise': 5743, 'speeding': 5744, 'consensus': 5745, 'addresses': 5746, 'associate': 5747, 'tripoli': 5748, 'cardiff': 5749, 'tmobile': 5750, 'touched': 5751, 'button': 5752, 'moodys': 5753, 'punched': 5754, 'campaigns': 5755, 'catherine': 5756, 'recovers': 5757, 'maps': 5758, 'depot': 5759, 'essex': 5760, 'logistics': 5761, 'bullet': 5762, 'encouraged': 5763, 'aiming': 5764, 'strausskahn': 5765, 'hamstring': 5766, 'thinking': 5767, 'canal': 5768, 'istanbul': 5769, 'bharti': 5770, 'homeland': 5771, 'format': 5772, 'riverside': 5773, 'winnipeg': 5774, 'gdp': 5775, 'focusing': 5776, 'disputes': 5777, 'hosni': 5778, 'map': 5779, 'wyoming': 5780, 'arent': 5781, 'mohammad': 5782, 'startup': 5783, 'buzz': 5784, 'associates': 5785, 'historical': 5786, 'meant': 5787, 'discover': 5788, 'bangkok': 5789, 'geneva': 5790, 'religion': 5791, 'skype': 5792, '18th': 5793, 'engines': 5794, 'ipo': 5795, 'suisse': 5796, 'sentencing': 5797, 'carlisle': 5798, 'transmission': 5799, 'fights': 5800, 'lie': 5801, 'fulham': 5802, 'percentage': 5803, 'minn': 5804, 'regrets': 5805, 'enjoying': 5806, 'banerjee': 5807, 'noel': 5808, 'bradford': 5809, 'sweeping': 5810, 'td': 5811, 'arrival': 5812, 'suburb': 5813, 'boulevard': 5814, 'slain': 5815, 'boyle': 5816, 'oscarwinning': 5817, 'fantasy': 5818, 'suppliers': 5819, 'marlins': 5820, 'donate': 5821, 'koreas': 5822, 'grass': 5823, 'ally': 5824, 'mountains': 5825, 'longoria': 5826, 'seem': 5827, 'protected': 5828, 'brooks': 5829, 'transparency': 5830, 'referee': 5831, 'bitter': 5832, 'usbased': 5833, 'recruit': 5834, 'timothy': 5835, 'holders': 5836, 'satyam': 5837, 'arsene': 5838, 'apps': 5839, 'holder': 5840, 'fouryear': 5841, 'favour': 5842, 'rocky': 5843, 'scarlett': 5844, 'exchanges': 5845, 'bowler': 5846, 'salaries': 5847, 'capello': 5848, 'publication': 5849, 'subway': 5850, '225': 5851, 'di': 5852, 'emerge': 5853, 'fleeing': 5854, 'stevens': 5855, 'kenyan': 5856, 'sec': 5857, 'mclaren': 5858, 'tweet': 5859, 'nasdaq': 5860, 'suffolk': 5861, 'spell': 5862, 'possessing': 5863, 'narendra': 5864, 'orchestra': 5865, '000': 5866, 'jharkhand': 5867, 'gray': 5868, 'implemented': 5869, 'economists': 5870, '6000': 5871, 'mosque': 5872, 'vendor': 5873, 'performances': 5874, 'gifts': 5875, 'shootings': 5876, 'na': 5877, 'barton': 5878, 'councillors': 5879, 'optimistic': 5880, 'attractive': 5881, '13th': 5882, 'boom': 5883, 'sweet': 5884, 'contribution': 5885, 'mae': 5886, 'slovenia': 5887, 'activated': 5888, 'stories': 5889, 'circumstances': 5890, 'chopra': 5891, 'foul': 5892, 'exciting': 5893, 'outsourcing': 5894, 'theyve': 5895, 'mysterious': 5896, 'nicki': 5897, 'minaj': 5898, 'ventures': 5899, 'ellen': 5900, 'thin': 5901, 'winfrey': 5902, 'barn': 5903, 'else': 5904, 'lebron': 5905, 'halted': 5906, 'saskatchewan': 5907, 'hacked': 5908, 'lyon': 5909, 'colleagues': 5910, 'endorsement': 5911, 'sharma': 5912, 'exgirlfriend': 5913, 'amtrak': 5914, 'myers': 5915, 'jintao': 5916, 'threaten': 5917, 'stuart': 5918, 'fate': 5919, 'welsh': 5920, '4th': 5921, 'outage': 5922, 'bancorp': 5923, 'swings': 5924, 'marries': 5925, 'revealing': 5926, 'praise': 5927, 'arraigned': 5928, 'quarterfinal': 5929, 'stern': 5930, 'elite': 5931, 'segment': 5932, 'rapidly': 5933, 'coroner': 5934, 'ethiopia': 5935, 'fruit': 5936, 'acclaimed': 5937, 'reynolds': 5938, 'tip': 5939, 'australians': 5940, 'boris': 5941, 'bounced': 5942, 'steam': 5943, 'harvest': 5944, 'victor': 5945, 'plunge': 5946, 'cornerback': 5947, 'honors': 5948, 'productivity': 5949, 'tougher': 5950, 'intention': 5951, 'chargers': 5952, '59': 5953, 'assessment': 5954, 'paterson': 5955, 'nets': 5956, 'sluggish': 5957, 'englands': 5958, 'kingston': 5959, 'frontier': 5960, 'stick': 5961, '15yearold': 5962, 'bennett': 5963, 'gilbert': 5964, 'hd': 5965, 'sting': 5966, 'proceeds': 5967, '101': 5968, 'depp': 5969, 'blew': 5970, 'invites': 5971, 'strengthening': 5972, 'weve': 5973, 'sleeping': 5974, 'tumor': 5975, 'addressing': 5976, 'troy': 5977, 'investigations': 5978, 'container': 5979, 'windsor': 5980, 'ages': 5981, 'projected': 5982, 'circle': 5983, 'hornets': 5984, 'policemen': 5985, 'paise': 5986, 'resigning': 5987, 'stoke': 5988, 'degrees': 5989, 'presentation': 5990, 'uganda': 5991, 'wallace': 5992, 'palmer': 5993, 'miner': 5994, 'norfolk': 5995, 'tevez': 5996, 'wonder': 5997, 'devastating': 5998, 'improvements': 5999, 'qualifier': 6000, 'duo': 6001, 'intended': 6002, 'rainfall': 6003, '2002': 6004, 'gender': 6005, 'coyotes': 6006, 'chuck': 6007, 'oxford': 6008, 'patil': 6009, 'hawks': 6010, 'certification': 6011, 'soaring': 6012, 'tension': 6013, 'extradition': 6014, 'alberto': 6015, 'portuguese': 6016, 'prayer': 6017, 'andrews': 6018, 'helen': 6019, 'sudden': 6020, 'texans': 6021, 'laptop': 6022, 'seasonal': 6023, 'durham': 6024, 'crane': 6025, 'pune': 6026, 'vehicular': 6027, 'apologises': 6028, 'hikes': 6029, 'intensive': 6030, 'noted': 6031, 'bachmann': 6032, 'yousuf': 6033, 'bridges': 6034, 'mum': 6035, 'carmaker': 6036, 'marketplace': 6037, 'cricketer': 6038, 'shipments': 6039, 'rebounded': 6040, 'sanford': 6041, 'smashed': 6042, 'capitals': 6043, 'governing': 6044, 'fisherman': 6045, '3rd': 6046, 'participants': 6047, 'mercury': 6048, 'pretax': 6049, 'romance': 6050, 'testify': 6051, 'resorts': 6052, 'geithner': 6053, 'efficient': 6054, 'organizers': 6055, 'mate': 6056, 'fierce': 6057, 'vietnamese': 6058, 'superintendent': 6059, 'deployment': 6060, 'lessons': 6061, 'ge': 6062, 'plate': 6063, 'spice': 6064, 'contributions': 6065, 'quest': 6066, 'juvenile': 6067, 'knew': 6068, 'multimillion': 6069, 'alleging': 6070, 'covers': 6071, 'suddenly': 6072, '17th': 6073, 'ryder': 6074, 'powell': 6075, 'sensitive': 6076, 'matters': 6077, 'equal': 6078, 'tsvangirai': 6079, 'stretch': 6080, 'likes': 6081, 'pratt': 6082, 'bust': 6083, 'retains': 6084, 'struggled': 6085, 'cellular': 6086, '30yearold': 6087, 'detected': 6088, 'ave': 6089, 'method': 6090, 'castle': 6091, 'mogul': 6092, 'tucson': 6093, 'sidelined': 6094, 'logo': 6095, 'revive': 6096, 'adoption': 6097, 'dominican': 6098, 'nyc': 6099, 'tattoo': 6100, 'hamburg': 6101, 'wolf': 6102, 'mandate': 6103, 'miliband': 6104, 'villages': 6105, 'credits': 6106, 'unusual': 6107, 'jockey': 6108, 'saves': 6109, 'declaring': 6110, 'cage': 6111, 'golfer': 6112, 'rounds': 6113, 'schemes': 6114, 'antigovernment': 6115, 'duncan': 6116, 'jakarta': 6117, 'mourinho': 6118, 'laura': 6119, 'fever': 6120, 'maintains': 6121, 'walks': 6122, 'cristiano': 6123, 'vijay': 6124, 'compact': 6125, '4g': 6126, 'astronaut': 6127, 'carson': 6128, 'bundesliga': 6129, '14th': 6130, 'decides': 6131, 'riley': 6132, 'grows': 6133, 'partial': 6134, 'portion': 6135, 'aerospace': 6136, '15th': 6137, 'dhoni': 6138, 'bottle': 6139, 'handle': 6140, 'singles': 6141, 'apples': 6142, 'covered': 6143, 'richardson': 6144, 'mansion': 6145, 'briefing': 6146, 'mini': 6147, 'cooperative': 6148, 'patel': 6149, 'meaning': 6150, 'petersburg': 6151, '40th': 6152, 'elect': 6153, 'soil': 6154, 'jun': 6155, 'ex': 6156, 'bend': 6157, 'components': 6158, 'trigger': 6159, 'astros': 6160, 'radical': 6161, 'muscle': 6162, '2500': 6163, 'courses': 6164, 'daytona': 6165, 'pierce': 6166, 'batch': 6167, 'canucks': 6168, 'penalties': 6169, 'addressed': 6170, 'offerings': 6171, 'adele': 6172, 'heather': 6173, 'awaited': 6174, 'padres': 6175, 'detectives': 6176, '2016': 6177, 'dirty': 6178, 'equality': 6179, 'weakens': 6180, 'edges': 6181, 'bribery': 6182, 'borough': 6183, 'nova': 6184, 'perhaps': 6185, 'partially': 6186, 'listing': 6187, 'dominique': 6188, 'firearms': 6189, 'yoga': 6190, 'leicester': 6191, 'carpet': 6192, 'thank': 6193, 'battled': 6194, 'caps': 6195, 'garcia': 6196, 'hed': 6197, 'proper': 6198, 'etihad': 6199, 'truth': 6200, 'mistakes': 6201, 'dpa': 6202, 'doug': 6203, 'isle': 6204, 'puerto': 6205, 'issuing': 6206, 'convertible': 6207, 'explains': 6208, 'avalanche': 6209, 'carnival': 6210, 'hurricanes': 6211, 'organisers': 6212, 'infosys': 6213, 'jaguars': 6214, 'brawl': 6215, 'encouraging': 6216, 'tumbled': 6217, 'steep': 6218, 'recognize': 6219, 'journey': 6220, 'aaa': 6221, 'talked': 6222, 'warrants': 6223, 'banning': 6224, 'stanford': 6225, 'spin': 6226, 'bombings': 6227, 'solidarity': 6228, 'pointed': 6229, 'plaza': 6230, 'coventry': 6231, 'swung': 6232, 'stateowned': 6233, 'plenty': 6234, 'radiation': 6235, 'builder': 6236, 'carroll': 6237, 'procedure': 6238, 'distributed': 6239, 'ladies': 6240, 'symbol': 6241, 'consultancy': 6242, 'renault': 6243, 'burglar': 6244, 'congratulates': 6245, 'ash': 6246, 'laundering': 6247, 'harvey': 6248, 'ca': 6249, '30000': 6250, 'unified': 6251, 'programmes': 6252, 'organic': 6253, 'u': 6254, 'teeth': 6255, 'origin': 6256, 'slated': 6257, 'lobby': 6258, 'premiership': 6259, 'symptoms': 6260, 'seal': 6261, 'spains': 6262, 'lock': 6263, 'completing': 6264, 'satellites': 6265, 'humans': 6266, 'publish': 6267, 'biopic': 6268, 'brokers': 6269, 'battered': 6270, 'participating': 6271, 'europa': 6272, 'offense': 6273, 'km': 6274, 'certificate': 6275, 'massacre': 6276, '15000': 6277, 'burst': 6278, 'constable': 6279, 'swan': 6280, 'purchased': 6281, 'germanys': 6282, 'wider': 6283, 'underage': 6284, 'checked': 6285, 'calendar': 6286, 'quarters': 6287, 'generate': 6288, 'fda': 6289, 'farewell': 6290, 'bout': 6291, 'surcharge': 6292, 'marie': 6293, 'valuable': 6294, 'veto': 6295, 'reject': 6296, 'asthma': 6297, 'restructure': 6298, 'bright': 6299, 'dragon': 6300, 'youngsters': 6301, 'karl': 6302, '93': 6303, 'globally': 6304, 'sharon': 6305, 'witherspoon': 6306, 'distribute': 6307, 'shuts': 6308, 'headon': 6309, 'requested': 6310, 'riders': 6311, 'exactly': 6312, 'repeat': 6313, 'rim': 6314, 'brokerage': 6315, 'lsu': 6316, 'resulting': 6317, 'grandmother': 6318, 'zsa': 6319, 'stamford': 6320, 'nuggets': 6321, 'advani': 6322, 'invitational': 6323, 'sofia': 6324, 'engage': 6325, 'survivors': 6326, 'surface': 6327, 'specific': 6328, 'collected': 6329, 'maiden': 6330, 'leonardo': 6331, 'israels': 6332, 'lionel': 6333, 'councillor': 6334, 'flags': 6335, 'rd': 6336, 'greene': 6337, 'combine': 6338, 'damaging': 6339, 'beatles': 6340, 'tyson': 6341, 'volatility': 6342, 'pressures': 6343, 'utilities': 6344, 'brent': 6345, 'administrators': 6346, 'precious': 6347, 'lucas': 6348, 'heels': 6349, 'burma': 6350, 'transactions': 6351, 'containing': 6352, 'addiction': 6353, 'ideas': 6354, 'pensions': 6355, 'ahmad': 6356, 'ryanair': 6357, 'broader': 6358, 'ports': 6359, 'bhd': 6360, 'dayton': 6361, 'rukh': 6362, 'noble': 6363, 'wii': 6364, 'hanged': 6365, 'pig': 6366, 'dogg': 6367, 'collect': 6368, 'planting': 6369, 'rev': 6370, 'passport': 6371, 'buyout': 6372, 'invested': 6373, 'appealed': 6374, 'editorial': 6375, 'folk': 6376, 'fiery': 6377, 'ranking': 6378, 'disrupted': 6379, 'jp': 6380, 'aung': 6381, 'comfortable': 6382, 'mercy': 6383, 'poors': 6384, 'motel': 6385, 'shortfall': 6386, 'stood': 6387, 'nice': 6388, 'inspector': 6389, 'mobility': 6390, 'brutal': 6391, 'broking': 6392, 'rough': 6393, 'joey': 6394, 'collective': 6395, 'rwanda': 6396, 'batting': 6397, 'finishes': 6398, 'travelers': 6399, 'intellectual': 6400, 'assad': 6401, 'myspace': 6402, 'secondlargest': 6403, 'dip': 6404, 'reckless': 6405, 'rebuild': 6406, 'maintaining': 6407, 'sponsored': 6408, 'associations': 6409, 'sanjay': 6410, 'reunited': 6411, 'repeatedly': 6412, 'diaz': 6413, 'hinted': 6414, 'popularity': 6415, 'hostile': 6416, 'moments': 6417, 'stressed': 6418, 'videos': 6419, 'spoken': 6420, 'railroad': 6421, 'ellis': 6422, 'zones': 6423, 'brendan': 6424, 'empty': 6425, 'strengthens': 6426, 'hopkins': 6427, 'aussie': 6428, 'diamondbacks': 6429, 'patents': 6430, 'dismisses': 6431, 'mph': 6432, 'administrator': 6433, 'questioning': 6434, 'cheap': 6435, 'guitar': 6436, 'wilmington': 6437, 'nd': 6438, 'ceiling': 6439, 'advocates': 6440, 'arlington': 6441, 'pointing': 6442, 'spree': 6443, 'lighting': 6444, 'automation': 6445, 'marines': 6446, 'thus': 6447, 'shutting': 6448, 'horizon': 6449, 'carrie': 6450, 'laboratory': 6451, 'laying': 6452, 'aden': 6453, 'shortstop': 6454, 'treasurer': 6455, '26yearold': 6456, 'pursuit': 6457, 'hewitt': 6458, '14yearold': 6459, 'pills': 6460, 'inventories': 6461, 'ip': 6462, 'wrist': 6463, 'ipod': 6464, 'remake': 6465, 'gonzalez': 6466, 'generals': 6467, 'ballots': 6468, 'rodgers': 6469, 'billiton': 6470, 'packed': 6471, 'connected': 6472, 'gps': 6473, 'nawaz': 6474, 'sidelines': 6475, 'mistake': 6476, 'reorganization': 6477, 'ditch': 6478, 'donation': 6479, 'workplace': 6480, 'itv': 6481, 'counterparts': 6482, 'cruises': 6483, 'demolition': 6484, 'raja': 6485, 'seekers': 6486, 'volkswagen': 6487, 'trevor': 6488, 'damon': 6489, 'acute': 6490, 'hindu': 6491, 'spray': 6492, 'reese': 6493, 'postpones': 6494, 'countys': 6495, 'floating': 6496, 'dhaka': 6497, 'withdrawal': 6498, 'destinations': 6499, 'deciding': 6500, 'adjourned': 6501, '02': 6502, 'opposite': 6503, 'burlington': 6504, 'hunters': 6505, 'tuition': 6506, 'paulo': 6507, 'lashed': 6508, 'infielder': 6509, 'procedures': 6510, 'medicines': 6511, 'peters': 6512, 'samuel': 6513, 'permit': 6514, 'paltrow': 6515, '201112': 6516, 'relegation': 6517, 'megan': 6518, 'medium': 6519, 'flyers': 6520, 'belfast': 6521, 'toys': 6522, 'hoped': 6523, '1100': 6524, 'raul': 6525, 'unemployed': 6526, 'advocate': 6527, 'tanks': 6528, 'serie': 6529, 'aamir': 6530, 'bruno': 6531, 'load': 6532, 'algeria': 6533, 'slowly': 6534, 'chocolate': 6535, 'panthers': 6536, 'miranda': 6537, 'territorial': 6538, 'aol': 6539, 'disappeared': 6540, 'consolidate': 6541, 'forecasters': 6542, 'kobe': 6543, 'reviewing': 6544, 'panasonic': 6545, 'revival': 6546, 'bengals': 6547, 'guests': 6548, 'protecting': 6549, 'crazy': 6550, 'inappropriate': 6551, 'les': 6552, 'removal': 6553, 'pensioner': 6554, 'evacuate': 6555, 'particular': 6556, 'households': 6557, '201011': 6558, 'offseason': 6559, 'janet': 6560, 'skating': 6561, 'consulate': 6562, 'robbers': 6563, 'elements': 6564, 'nose': 6565, 'solve': 6566, 'benitez': 6567, 'overtime': 6568, 'bet': 6569, 'instruments': 6570, 'anthem': 6571, 'mavericks': 6572, 'gabrielle': 6573, 'tap': 6574, 'cops': 6575, 'presenter': 6576, 'felipe': 6577, 'groin': 6578, 'subsidiaries': 6579, 'walt': 6580, 'disorderly': 6581, 'pirate': 6582, 'gwyneth': 6583, 'prepaid': 6584, 'meals': 6585, 'competing': 6586, 'frances': 6587, 'approaching': 6588, 'bankrupt': 6589, 'counterfeit': 6590, 'approached': 6591, 'pipe': 6592, 'incumbent': 6593, 'sheet': 6594, '12000': 6595, 'helicopters': 6596, 'economics': 6597, 'magistrates': 6598, 'printing': 6599, 'humphries': 6600, 'facial': 6601, 'anger': 6602, 'oppose': 6603, 'gosselin': 6604, 'weakening': 6605, 'iceland': 6606, 'regain': 6607, 'sexy': 6608, '23rd': 6609, 'cia': 6610, 'egypts': 6611, 'trader': 6612, 'usc': 6613, 'reddy': 6614, 'dreams': 6615, 'flew': 6616, 'exclusively': 6617, '300000': 6618, 'desktop': 6619, 'desire': 6620, 'loaded': 6621, 'chips': 6622, 'interbank': 6623, 'griffin': 6624, 'balotelli': 6625, 'asean': 6626, 'subsidies': 6627, 'poisoning': 6628, 'arquette': 6629, 'bailey': 6630, 'piracy': 6631, 'pfizer': 6632, 'willis': 6633, 'lawsuits': 6634, 'luck': 6635, 'congratulated': 6636, 'reception': 6637, 'incentives': 6638, '04': 6639, 'hammer': 6640, 'amazing': 6641, '21st': 6642, 'djokovic': 6643, 'wed': 6644, 'shale': 6645, 'loose': 6646, 'voluntarily': 6647, 'macedonia': 6648, 'mancini': 6649, 'fiat': 6650, 'holland': 6651, 'firstdegree': 6652, 'displaced': 6653, 'ferdinand': 6654, 'publicist': 6655, 'bombers': 6656, 'wounding': 6657, 'pearl': 6658, 'ramirez': 6659, 'restart': 6660, 'concrete': 6661, '250000': 6662, 'distributing': 6663, 'sparks': 6664, 'tiny': 6665, 'graduates': 6666, 'ousted': 6667, 'amsterdam': 6668, 'introducing': 6669, 'schumacher': 6670, 'garbage': 6671, 'welterweight': 6672, 'salvation': 6673, 'youngest': 6674, 'jayz': 6675, 'contender': 6676, 'drawn': 6677, 'buyer': 6678, 'platforms': 6679, 'knox': 6680, 'packages': 6681, 'orbit': 6682, 'li': 6683, 'santos': 6684, 'prairie': 6685, 'bold': 6686, 'hezbollah': 6687, 'self': 6688, 'confrontation': 6689, 'tragic': 6690, 'sara': 6691, 'rossi': 6692, 'beaches': 6693, 'shahid': 6694, 'gala': 6695, 'excellence': 6696, 'singersongwriter': 6697, 'scouts': 6698, 'pitches': 6699, 'twotime': 6700, 'pages': 6701, 'volcano': 6702, 'shaw': 6703, 'surrender': 6704, 'pistorius': 6705, 'spends': 6706, 'mesa': 6707, 'shaun': 6708, 'vick': 6709, 'childs': 6710, '96': 6711, 'vernon': 6712, 'snap': 6713, 'stunning': 6714, 'hat': 6715, 'integrity': 6716, 'halloween': 6717, 'sand': 6718, 'huntington': 6719, 'spa': 6720, 'institutional': 6721, 'payroll': 6722, 'claire': 6723, 'samantha': 6724, 'anonymous': 6725, 'commuters': 6726, 'usain': 6727, 'earthquakes': 6728, 'consultation': 6729, 'researcher': 6730, '30th': 6731, 'firstquarter': 6732, 'climbing': 6733, 'hbo': 6734, 'bharatiya': 6735, 'busted': 6736, 'bullish': 6737, 'wa': 6738, 'eventually': 6739, 'wr': 6740, 'portable': 6741, 'krishna': 6742, 'dylan': 6743, 'whale': 6744, 'marco': 6745, 'subscription': 6746, 'valencia': 6747, 'reunion': 6748, 'telegraph': 6749, 'hampton': 6750, 'makeover': 6751, 'erupted': 6752, 'heating': 6753, 'alicia': 6754, 'raymond': 6755, 'forming': 6756, 'cal': 6757, 'belmont': 6758, 'charities': 6759, 'zac': 6760, 'allocation': 6761, 'kingfisher': 6762, 'dynamics': 6763, 'panic': 6764, 'medicaid': 6765, 'nikkei': 6766, 'sore': 6767, 'thunderstorm': 6768, 'tycoon': 6769, 'bnp': 6770, 'hemsworth': 6771, '16th': 6772, 'inauguration': 6773, 'altercation': 6774, 'tanzania': 6775, '97': 6776, 'rover': 6777, 'poses': 6778, 'lowers': 6779, 'hails': 6780, 'adopts': 6781, 'formation': 6782, 'columnist': 6783, 'kidnap': 6784, 'challenger': 6785, 'riots': 6786, 'hood': 6787, 'eden': 6788, 'unite': 6789, 'signals': 6790, 'mix': 6791, 'scholarship': 6792, 'willie': 6793, 'baptist': 6794, 'municipality': 6795, 'vettel': 6796, 'manitoba': 6797, 'apartments': 6798, 'sanaa': 6799, 'toxic': 6800, 'runner': 6801, 'stayed': 6802, 'jade': 6803, 'reference': 6804, 'bee': 6805, 'nottingham': 6806, 'halle': 6807, 'barrels': 6808, '450': 6809, 'hundred': 6810, 'succeed': 6811, 'hart': 6812, 'nyse': 6813, 'carlo': 6814, 'posing': 6815, 'cardinal': 6816, 'repay': 6817, 'studying': 6818, 'epic': 6819, 'raids': 6820, 'coma': 6821, 'jointly': 6822, 'bloody': 6823, 'reinstated': 6824, 'creditors': 6825, 'chat': 6826, 'behavior': 6827, 'coral': 6828, 'vandals': 6829, 'arriving': 6830, 'uniform': 6831, 'committees': 6832, 'brunswick': 6833, 'lieutenant': 6834, 'highprofile': 6835, 'symphony': 6836, 'guinea': 6837, 'kurdish': 6838, 'goodwill': 6839, 'jeffrey': 6840, '19th': 6841, 'oliver': 6842, 'facilitate': 6843, 'victorian': 6844, '40000': 6845, '15day': 6846, 'ambitious': 6847, 'submit': 6848, 'clears': 6849, 'approaches': 6850, 'ea': 6851, 'marginally': 6852, 'prayers': 6853, 'blames': 6854, 'lays': 6855, 'neglect': 6856, 'counsel': 6857, '16yearold': 6858, 'trio': 6859, 'toilet': 6860, 'entrepreneurs': 6861, 'debts': 6862, 'axe': 6863, 'quitting': 6864, 'messaging': 6865, 'operated': 6866, 'shocking': 6867, 'setback': 6868, 'bargain': 6869, 'maoist': 6870, 'italys': 6871, 'eases': 6872, 'novak': 6873, '105': 6874, 'endeavour': 6875, 'alqaida': 6876, 'rica': 6877, 'uss': 6878, 'friendship': 6879, 'repeal': 6880, 'designs': 6881, 'surrey': 6882, 'widened': 6883, 'md': 6884, 'blackhawks': 6885, 'consequences': 6886, 'gunshot': 6887, 'hispanic': 6888, 'wellknown': 6889, 'barrier': 6890, 'respectively': 6891, 'faculty': 6892, 'autumn': 6893, 'greenhouse': 6894, 'shutdown': 6895, 'kyrgyz': 6896, '2001': 6897, 'ltte': 6898, 'earl': 6899, 'trustees': 6900, 'polling': 6901, 'seng': 6902, 'trained': 6903, 'toledo': 6904, 'plains': 6905, 'replaces': 6906, 'providence': 6907, 'bucks': 6908, 'crosby': 6909, 'minsk': 6910, 'h': 6911, 'florence': 6912, 'chrome': 6913, 'rogue': 6914, 'rescues': 6915, 'accusations': 6916, 'halifax': 6917, 'endangered': 6918, 'bones': 6919, 'lloyds': 6920, 'yacht': 6921, 'turbine': 6922, 'walters': 6923, 'dominated': 6924, 'gazprom': 6925, 'cain': 6926, 'snoop': 6927, 'frankfurt': 6928, 'ponting': 6929, 'clemens': 6930, 'invests': 6931, 'expresses': 6932, 'bret': 6933, 'founding': 6934, 'taiwanese': 6935, 'concerning': 6936, 'presenting': 6937, 'merchant': 6938, 'turkeys': 6939, 'harbour': 6940, 'grenade': 6941, 'shocked': 6942, 'lanes': 6943, 'summers': 6944, 'aware': 6945, 'sometimes': 6946, 'va': 6947, 'regard': 6948, 'courthouse': 6949, 'indicates': 6950, 'wilkinson': 6951, 'nobody': 6952, 'lauren': 6953, 'accelerated': 6954, 'joy': 6955, 'filipino': 6956, 'underwood': 6957, 'appropriate': 6958, 'councilman': 6959, 'gerard': 6960, 'draws': 6961, 'robust': 6962, 'palestine': 6963, 'croatia': 6964, 'uncertain': 6965, 'arrangements': 6966, 'katrina': 6967, 'himachal': 6968, 'messi': 6969, 'malawi': 6970, 'wound': 6971, 'attendance': 6972, 'specifically': 6973, 'chaos': 6974, 'stalking': 6975, 'dubbed': 6976, 'parkway': 6977, '17yearold': 6978, 'jul': 6979, 'yards': 6980, 'gossip': 6981, 'taste': 6982, 'singers': 6983, 'mandatory': 6984, 'angola': 6985, 'runoff': 6986, 'spotlight': 6987, 'embattled': 6988, 'f1': 6989, 'yesterdays': 6990, 'maybe': 6991, 'scotia': 6992, 'wipro': 6993, 'booking': 6994, 'convert': 6995, 'portman': 6996, 'criticized': 6997, 'crawford': 6998, 'tenn': 6999, 'assassination': 7000, 'silent': 7001, 'sentences': 7002, 'highspeed': 7003, 'georgetown': 7004, 'vienna': 7005, 'cooking': 7006, 'klum': 7007, 'valentines': 7008, 'magistrate': 7009, 'accountability': 7010, 'martial': 7011, 'foreclosures': 7012, 'simmons': 7013, 'reaction': 7014, 'lockout': 7015, 'radcliffe': 7016, 'franco': 7017, 'outages': 7018, 'sometime': 7019, 'showcase': 7020, 'certainly': 7021, 'organisations': 7022, 'chester': 7023, '400000': 7024, 'shiv': 7025, 'demonstrators': 7026, 'middleweight': 7027, 'caroline': 7028, 'cheaper': 7029, 'disabilities': 7030, 'ana': 7031, 'reelected': 7032, '31yearold': 7033, 'falcons': 7034, 'indie': 7035, 'represents': 7036, 'rap': 7037, 'blasted': 7038, 'bombay': 7039, 'visas': 7040, 'cyclone': 7041, 'caution': 7042, 'rico': 7043, 'surprised': 7044, 'perez': 7045, 'metres': 7046, 'morrison': 7047, 'restricted': 7048, 'hassan': 7049, 'reflecting': 7050, 'harm': 7051, 'toy': 7052, '6th': 7053, 'describing': 7054, 'lords': 7055, 'difficulties': 7056, 'generic': 7057, 'flown': 7058, 'diamonds': 7059, 'generations': 7060, 'ounce': 7061, 'travellers': 7062, 'diana': 7063, '5th': 7064, 'washed': 7065, 'starter': 7066, 'happens': 7067, 'nickel': 7068, 'aliyev': 7069, 'dismissal': 7070, 'greenback': 7071, 'experiences': 7072, 'eyed': 7073, 'isaac': 7074, 'wet': 7075, 'slower': 7076, 'surgeon': 7077, 'slight': 7078, 'chandigarh': 7079, 'micro': 7080, 'tebow': 7081, 'restoration': 7082, 'laser': 7083, 'holocaust': 7084, 'merrill': 7085, 'earns': 7086, 'exam': 7087, 'sounds': 7088, 'purpose': 7089, 'bullpen': 7090, 'sum': 7091, 'gym': 7092, 'mouth': 7093, 'miguel': 7094, 'tightened': 7095, 'quake': 7096, 'goaltender': 7097, 'dipped': 7098, 'compound': 7099, 'consolidation': 7100, 'sad': 7101, 'indicating': 7102, 'exercises': 7103, 'casinos': 7104, 'consultant': 7105, 'sergeant': 7106, '29yearold': 7107, 'tonne': 7108, 'nitish': 7109, 'capsized': 7110, 'linking': 7111, 'sweeps': 7112, 'consent': 7113, '175': 7114, 'workout': 7115, 'narrow': 7116, 'daylight': 7117, 'christ': 7118, 'indexes': 7119, 'accra': 7120, 'wash': 7121, 'islanders': 7122, 'telekom': 7123, 'sussex': 7124, 'chartered': 7125, 'physically': 7126, 'vista': 7127, 'cheated': 7128, 'amazoncom': 7129, 'sat': 7130, 'preserve': 7131, 'priyanka': 7132, 'sank': 7133, 'lafayette': 7134, 'ghost': 7135, 'clashed': 7136, 'virtually': 7137, 'accessories': 7138, 'highlight': 7139, 'placing': 7140, 'drummer': 7141, '104': 7142, 'chilean': 7143, 'plotting': 7144, 'guys': 7145, 'devils': 7146, 'opposed': 7147, 'operates': 7148, 'sanders': 7149, 'typhoon': 7150, 'insurers': 7151, 'snapped': 7152, 'fiance': 7153, 'delighted': 7154, 'fairfax': 7155, 'legislators': 7156, 'busch': 7157, 'congo': 7158, 'michel': 7159, 'imprisonment': 7160, 'stating': 7161, 'debris': 7162, 'rage': 7163, 'alarm': 7164, 'sergio': 7165, 'boil': 7166, 'relating': 7167, 'intense': 7168, 'predict': 7169, 'leafs': 7170, 'jackie': 7171, 'relative': 7172, 'rig': 7173, 'jermaine': 7174, 'exceed': 7175, 'slows': 7176, 'publishes': 7177, 'browser': 7178, 'airlifted': 7179, 'consortium': 7180, 'mln': 7181, 'requiring': 7182, '49ers': 7183, 'mercedes': 7184, 'negotiating': 7185, 'satisfaction': 7186, 'firmer': 7187, 'bottles': 7188, 'crops': 7189, 'blogger': 7190, 'preston': 7191, 'lehman': 7192, 'unfair': 7193, 'dump': 7194, 'albums': 7195, 'secondquarter': 7196, 'yadav': 7197, 'ab': 7198, 'olmert': 7199, 'crossborder': 7200, 'amidst': 7201, 'liability': 7202, 'recommends': 7203, 'gig': 7204, 'legs': 7205, 'recommendations': 7206, 'automatic': 7207, 'hernandez': 7208, 'hiphop': 7209, 'usual': 7210, 'raleigh': 7211, 'trash': 7212, 'classroom': 7213, 'rocks': 7214, 'wen': 7215, 'informs': 7216, 'balls': 7217, 'predicts': 7218, 'redknapp': 7219, 'ok': 7220, 'reservation': 7221, 'jorge': 7222, 'observers': 7223, 'requires': 7224, 'mri': 7225, 'gubernatorial': 7226, 'criticised': 7227, 'discussing': 7228, 'dressed': 7229, 'legacy': 7230, 'posed': 7231, 'roughly': 7232, 'afraid': 7233, 'hackers': 7234, 'champ': 7235, 'plymouth': 7236, 'secrets': 7237, 'upa': 7238, 'commissioned': 7239, 'cattle': 7240, 'devastated': 7241, 'treasure': 7242, 'apparel': 7243, 'methods': 7244, 'myrtle': 7245, 'fairfield': 7246, 'dumping': 7247, 'freeway': 7248, 'hostages': 7249, 'dock': 7250, 'legends': 7251, 'hague': 7252, 'vale': 7253, 'lots': 7254, 'robertson': 7255, 'irene': 7256, 'ton': 7257, 'burke': 7258, 'pine': 7259, 'battles': 7260, 'lorry': 7261, 'oneal': 7262, 'explodes': 7263, 'industrys': 7264, 'reconstruction': 7265, 'oral': 7266, 'showdown': 7267, 'lansing': 7268, 'contempt': 7269, 'ashok': 7270, 'lightweight': 7271, 'courtney': 7272, 'infected': 7273, 'priced': 7274, 'tweets': 7275, 'panels': 7276, 'ministerial': 7277, 'derivatives': 7278, 'burden': 7279, 'reliable': 7280, 'tel': 7281, 'diane': 7282, 'ministries': 7283, 'fractured': 7284, 'accidental': 7285, 'canberra': 7286, 'panama': 7287, 'albuquerque': 7288, 'allrounder': 7289, 'strained': 7290, 'glory': 7291, 'imminent': 7292, 'arabian': 7293, 'blackpool': 7294, 'permanently': 7295, 'lacrosse': 7296, 'ledger': 7297, 'dutt': 7298, 'headline': 7299, 'sitcom': 7300, 'cocacola': 7301, 'commissions': 7302, 'eli': 7303, 'fm': 7304, 'ethiopian': 7305, 'yorks': 7306, 'gallon': 7307, 'upbeat': 7308, 'kidman': 7309, 'collections': 7310, 'hacking': 7311, 'initially': 7312, 'slid': 7313, 'roots': 7314, 'volumes': 7315, 'jse': 7316, 'painting': 7317, 'recreation': 7318, 'morocco': 7319, 'kurt': 7320, 'ftse': 7321, 'soap': 7322, 'example': 7323, 'injures': 7324, 'charts': 7325, 'removing': 7326, 'graduation': 7327, 'abraham': 7328, 'nielsen': 7329, 'pcs': 7330, 'rifle': 7331, 'achievement': 7332, 'scrapped': 7333, 'troopers': 7334, 'pelosi': 7335, 'felix': 7336, 'dengue': 7337, 'curtis': 7338, 'admit': 7339, 'oasis': 7340, 'treating': 7341, 'proposing': 7342, 'passage': 7343, 'faulty': 7344, 'undercover': 7345, 'truly': 7346, 'erie': 7347, 'biotechnology': 7348, 'boise': 7349, 'minerals': 7350, 'mechanism': 7351, 'achievements': 7352, 'khalifa': 7353, 'requests': 7354, 'hayden': 7355, 'telecoms': 7356, 'khloe': 7357, 'obsessed': 7358, 'strokes': 7359, 'clinched': 7360, 'suns': 7361, 'clemson': 7362, 'disturbance': 7363, 'ronson': 7364, 'lynn': 7365, 'patch': 7366, 'disruption': 7367, 'wbc': 7368, 'confirming': 7369, 'conducting': 7370, 'rocked': 7371, 'moral': 7372, 'lawn': 7373, 'ike': 7374, 'exhusband': 7375, 'hannah': 7376, 'croatian': 7377, 'groupon': 7378, 'scanner': 7379, 'outperform': 7380, 'coup': 7381, 'notorious': 7382, 'bible': 7383, 'yearold': 7384, 'maradona': 7385, 'mvp': 7386, 'boosts': 7387, 'factors': 7388, 'controller': 7389, 'followers': 7390, 'cavaliers': 7391, 'initiated': 7392, 'ethanol': 7393, 'thunderstorms': 7394, 'sidney': 7395, 'cigarettes': 7396, 'marsh': 7397, 'formerly': 7398, '27yearold': 7399, 'stance': 7400, 'hilary': 7401, 'neighbor': 7402, 'hussain': 7403, 'spectacular': 7404, 'jenkins': 7405, 'tornadoes': 7406, 'klitschko': 7407, 'prefer': 7408, 'citi': 7409, 'mayweather': 7410, 'triumph': 7411, 'famed': 7412, 'alley': 7413, 'touring': 7414, 'poultry': 7415, 'dementia': 7416, 'mitsubishi': 7417, 'monica': 7418, 'clegg': 7419, 'flee': 7420, 'carol': 7421, 'prop': 7422, '01': 7423, 'progressive': 7424, 'prosperity': 7425, 'scout': 7426, 'islamist': 7427, 'impossible': 7428, 'pushes': 7429, 'laptops': 7430, 'brave': 7431, 'internationally': 7432, 'publishers': 7433, 'combination': 7434, 'shower': 7435, 'programming': 7436, 'funny': 7437, 'shortages': 7438, 'donor': 7439, 'speeds': 7440, 'reno': 7441, 'promotes': 7442, 'acid': 7443, 'secretly': 7444, 'javier': 7445, '160': 7446, 'yang': 7447, 'clinics': 7448, 'appearances': 7449, 'seri': 7450, 'paterno': 7451, 'dover': 7452, 'courtroom': 7453, 'husbands': 7454, 'ga': 7455, 'bump': 7456, 'pitching': 7457, 'moines': 7458, 'fortune': 7459, 'murders': 7460, 'herman': 7461, 'dicaprio': 7462, 'winslet': 7463, 'attracted': 7464, 'automakers': 7465, 'shawn': 7466, 'rory': 7467, 'atletico': 7468, 'letterman': 7469, 'strange': 7470, 'upward': 7471, 'consideration': 7472, 'vampire': 7473, 'unexpected': 7474, 'astronauts': 7475, 'alzheimers': 7476, 'manner': 7477, 'deportation': 7478, 'spirits': 7479, 'thermal': 7480, 'concludes': 7481, 'sewer': 7482, 'renovation': 7483, 'safer': 7484, 'drake': 7485, 'sullivan': 7486, 'cleanup': 7487, 'resolved': 7488, 'venue': 7489, 'havoc': 7490, 'netflix': 7491, 'teach': 7492, 'syndrome': 7493, 'survivor': 7494, 'der': 7495, 'audi': 7496, 'explained': 7497, 'reunite': 7498, 'playboy': 7499, 'yield': 7500, 'fertilizer': 7501, 'deploy': 7502, 'bse': 7503, 'waves': 7504, 'collide': 7505, 'imaging': 7506, 'notices': 7507, 'anil': 7508, 'disgraced': 7509, 'tvs': 7510, 'businessmen': 7511, 'avoided': 7512, 'toshiba': 7513, 'havana': 7514, 'abandon': 7515, 'relation': 7516, 'abbey': 7517, 'firmly': 7518, 'highlighting': 7519, 'statutory': 7520, 'katherine': 7521, 'earning': 7522, 'ak': 7523, 'monitors': 7524, 'wheelchair': 7525, 'mirza': 7526, 'abduction': 7527, 'fourthquarter': 7528, 'propose': 7529, 'revenge': 7530, 'lecture': 7531, 'lancaster': 7532, 'albion': 7533, 'suspending': 7534, 'bonus': 7535, 'endangerment': 7536, 'introduction': 7537, '03': 7538, 'cables': 7539, 'fannie': 7540, 'chesapeake': 7541, 'wizards': 7542, 'forever': 7543, 'upheld': 7544, 'establishment': 7545, '102': 7546, 'nano': 7547, 'temperature': 7548, 'revolutionary': 7549, 'samajwadi': 7550, 'vitamin': 7551, 'sequel': 7552, 'zuckerberg': 7553, '07': 7554, 'infections': 7555, 'doubts': 7556, '135': 7557, 'fullback': 7558, 'oval': 7559, 'hindi': 7560, 'nervous': 7561, 'mls': 7562, 'inspectors': 7563, 'bernie': 7564, 'estimate': 7565, 'characters': 7566, 'opponent': 7567, 'subdued': 7568, 'monaco': 7569, 'deserve': 7570, 'surpassed': 7571, 'indoor': 7572, 'clayton': 7573, 'tighten': 7574, 'error': 7575, 'reputation': 7576, 'paypal': 7577, 'depth': 7578, 'height': 7579, 'requirement': 7580, 'litre': 7581, 'openly': 7582, 'stays': 7583, 'ejected': 7584, 'poet': 7585, 'von': 7586, 'kraft': 7587, '1600': 7588, 'cop': 7589, 'airspace': 7590, 'muamba': 7591, 'hodgson': 7592, 'barrymore': 7593, 'soared': 7594, 'responds': 7595, 'enjoys': 7596, 'oneill': 7597, 'tunnel': 7598, 'aurora': 7599, 'eligible': 7600, 'minorities': 7601, 'icici': 7602, 'nearing': 7603, 'drain': 7604, 'rai': 7605, 'bingo': 7606, 'rajapaksa': 7607, 'sprained': 7608, 'punch': 7609, 'yeddyurappa': 7610, 'plunges': 7611, 'treatments': 7612, 'aging': 7613, 'debates': 7614, 'yy': 7615, 'junction': 7616, 'rcmp': 7617, 'contestant': 7618, 'confirmation': 7619, 'handset': 7620, 'worsening': 7621, 'clay': 7622, 'bae': 7623, 'shadow': 7624, 'audiences': 7625, 'withdrawing': 7626, 'majors': 7627, 'diva': 7628, 'scared': 7629, 'uzbekistan': 7630, 'constituency': 7631, 'grabbed': 7632, 'daniels': 7633, 'downs': 7634, 'lies': 7635, 'monument': 7636, 'shook': 7637, 'whatever': 7638, 'dated': 7639, 'kamal': 7640, 'bitten': 7641, 'crow': 7642, 'exhibit': 7643, 'directions': 7644, 'surrendered': 7645, 'millionaire': 7646, 'bathroom': 7647, 'borrowers': 7648, 'purdue': 7649, 'clippers': 7650, 'tracy': 7651, 'tina': 7652, 'locker': 7653, 'indigenous': 7654, 'accreditation': 7655, 'sections': 7656, 'opposes': 7657, 'duchess': 7658, 'macon': 7659, 'coronation': 7660, 'jd': 7661, 'alice': 7662, 'disorders': 7663, 'tipped': 7664, 'villagers': 7665, 'honduras': 7666, 'neighbouring': 7667, 'bestselling': 7668, 'conglomerate': 7669, 'sailor': 7670, '8000': 7671, 'persistent': 7672, 'anand': 7673, 'laurent': 7674, 'lte': 7675, 'bt': 7676, 'palo': 7677, 'ducks': 7678, 'nolan': 7679, 'sunshine': 7680, 'dale': 7681, 'puppy': 7682, 'pancreatic': 7683, 'ralph': 7684, '201213': 7685, 'pawlenty': 7686, 'concessions': 7687, 'curry': 7688, 'paula': 7689, 'vessels': 7690, 'pakistanis': 7691, 'lashes': 7692, 'volvo': 7693, 'slips': 7694, 'bypass': 7695, 'waive': 7696, 'huntsman': 7697, 'mrs': 7698, 'tomas': 7699, 'entrepreneur': 7700, 'spelling': 7701, 'melissa': 7702, 'ria': 7703, 'pets': 7704, 'handing': 7705, 'afc': 7706, '32yearold': 7707, 'critic': 7708, 'clarkson': 7709, '2003': 7710, 'smash': 7711, 'libel': 7712, 'mick': 7713, 'lone': 7714, 'bedroom': 7715, 'freezing': 7716, 'cure': 7717, 'chose': 7718, 'ehud': 7719, 'sailing': 7720, 'advisors': 7721, 'meltdown': 7722, 'srinagar': 7723, 'choices': 7724, 'tradition': 7725, 'familys': 7726, 'upside': 7727, 'uruguay': 7728, 'appreciation': 7729, 'universitys': 7730, 'spike': 7731, 'antony': 7732, 'corrupt': 7733, 'dictator': 7734, 'sole': 7735, 'sparking': 7736, 'trademark': 7737, 'shriver': 7738, 'par': 7739, 'midland': 7740, 'malcolm': 7741, 'emails': 7742, 'fraser': 7743, 'amir': 7744, 'humanity': 7745, 'belonging': 7746, 'binghamton': 7747, 'wachovia': 7748, 'dodge': 7749, 'textile': 7750, 'hidden': 7751, 'kg': 7752, 'knoxville': 7753, 'factories': 7754, 'seth': 7755, 'kuala': 7756, 'inn': 7757, 'gateway': 7758, 'arguing': 7759, 'pierre': 7760, 'guardian': 7761, 'bulk': 7762, 'cab': 7763, '60th': 7764, 'sheboygan': 7765, 'immigrant': 7766, 'rank': 7767, 'odi': 7768, 'deny': 7769, 'bulldogs': 7770, 'bart': 7771, 'strictly': 7772, 'productions': 7773, 'dentist': 7774, 'sabah': 7775, 'madoff': 7776, 'contemporary': 7777, 'cleric': 7778, 'bishops': 7779, 'blunt': 7780, 'burton': 7781, 'testimony': 7782, 'alto': 7783, 'jared': 7784, 'fragile': 7785, 'shifted': 7786, 'profitability': 7787, 'installation': 7788, 'daytime': 7789, 'migrant': 7790, 'marched': 7791, 'ceremonies': 7792, 'beloved': 7793, 'torres': 7794, 'eid': 7795, 'jackpot': 7796, 'sunny': 7797, 'sponsors': 7798, 'intercontinental': 7799, 'cease': 7800, 'attends': 7801, 'reiterates': 7802, 'laboratories': 7803, 'mayo': 7804, 'conway': 7805, 'commuter': 7806, 'malaria': 7807, 'rated': 7808, 'lou': 7809, 'clearly': 7810, 'bride': 7811, 'montag': 7812, '12yearold': 7813, '9th': 7814, 'comparison': 7815, 'mediterranean': 7816, 'pot': 7817, 'uprising': 7818, 'explosives': 7819, 'refuge': 7820, 'agreeing': 7821, 'matthews': 7822, 'implications': 7823, 'pensioners': 7824, 'demolished': 7825, 'lengthy': 7826, 'goody': 7827, 'resistances': 7828, 'expense': 7829, 'trent': 7830, 'hacker': 7831, 'corporations': 7832, 'vegetables': 7833, 'downloads': 7834, 'discusses': 7835, 'ramp': 7836, 'successive': 7837, 'alltime': 7838, 'departure': 7839, 'westminster': 7840, 'greenville': 7841, 'hazardous': 7842, 'notebook': 7843, 'chevrolet': 7844, '13yearold': 7845, 'cathedral': 7846, 'metric': 7847, 'zimbabwean': 7848, 'cabin': 7849, 'arrivals': 7850, 'renewal': 7851, 'amongst': 7852, 'dealt': 7853, 'clinch': 7854, 'pharma': 7855, 'freeagent': 7856, 'rhode': 7857, 'vendors': 7858, 'spare': 7859, 'indeed': 7860, 'seizure': 7861, 'uncle': 7862, 'backyard': 7863, 'tenants': 7864, 'ordinary': 7865, 'preparations': 7866, 'medication': 7867, 'cannes': 7868, 'indictment': 7869, 'punching': 7870, 'snowmobile': 7871, 'principle': 7872, 'caucus': 7873, 'killings': 7874, 'twist': 7875, 'respects': 7876, 'sovereignty': 7877, 'adaptation': 7878, 'accord': 7879, 'shiite': 7880, 'provisions': 7881, 'cambodia': 7882, 'reactor': 7883, 'undergone': 7884, 'augusta': 7885, 'neighboring': 7886, 'outcome': 7887, 'bearish': 7888, '00': 7889, 'skies': 7890, 'soviet': 7891, 'inches': 7892, 'reservoir': 7893, 'lagos': 7894, 'bicycle': 7895, 'leonard': 7896, 'searched': 7897, 'monster': 7898, 'semi': 7899, 'brewer': 7900, 'porsche': 7901, 'animation': 7902, 'hepatitis': 7903, 'penny': 7904, 'margins': 7905, 'brooke': 7906, 'closures': 7907, 'minors': 7908, 'ibrahim': 7909, 'tumble': 7910, 'manipur': 7911, 'prolonged': 7912, '35yearold': 7913, 'certified': 7914, 'ripped': 7915, 'pietersen': 7916, 'viral': 7917, 'chambers': 7918, 'burnt': 7919, 'adjusted': 7920, 'disability': 7921, 'leigh': 7922, 'incorporated': 7923, 'kilometres': 7924, 'fog': 7925, 'forests': 7926, 'kay': 7927, 'connections': 7928, 'watford': 7929, 'nazi': 7930, 'grandfather': 7931, 'lists': 7932, 'debuts': 7933, 'huffington': 7934, 'bracing': 7935, 'detection': 7936, 'bread': 7937, 'separated': 7938, 'blockade': 7939, 'frederick': 7940, 'firstround': 7941, 'remarkable': 7942, 'aquino': 7943, 'lodge': 7944, 'strongest': 7945, 'colleague': 7946, 'livestock': 7947, 'lucknow': 7948, 'literature': 7949, 'liberation': 7950, 'sinking': 7951, 'entrance': 7952, 'purse': 7953, 'highlights': 7954, 'episodes': 7955, 'roses': 7956, 'adventure': 7957, 'boutique': 7958, 'processor': 7959, 'indices': 7960, 'downing': 7961, 'apologise': 7962, 'raided': 7963, 'happiness': 7964, 'carries': 7965, 'shannon': 7966, 'negotiate': 7967, 'letting': 7968, 'taxation': 7969, 'statistical': 7970, 'immunity': 7971, 'steroids': 7972, 'cigarette': 7973, 'vandalism': 7974, 'exploitation': 7975, 'rupees': 7976, 'mineral': 7977, 'mali': 7978, 'alassad': 7979, 'kuwaiti': 7980, 'mentor': 7981, 'efron': 7982, 'chess': 7983, 'allamerican': 7984, 'joan': 7985, 'tory': 7986, 'hungry': 7987, 'interesting': 7988, 'skilled': 7989, 'qualifiers': 7990, 'honours': 7991, 'russians': 7992, 'transform': 7993, 'slashes': 7994, 'owens': 7995, 'gp': 7996, 'besides': 7997, 'canterbury': 7998, 'flexible': 7999, 'gavin': 8000, 'describes': 8001, 'meth': 8002, 'aground': 8003, 'nutrition': 8004, 'obese': 8005, 'caterpillar': 8006, 'marina': 8007, 'denying': 8008, 'turnover': 8009, 'remainder': 8010, 'novosti': 8011, 'cleaning': 8012, 'stamp': 8013, 'haley': 8014, 'splitting': 8015, 'overwhelming': 8016, 'qld': 8017, 'theory': 8018, 'arcelormittal': 8019, 'enrollment': 8020, 'gutted': 8021, 'deliberately': 8022, 'complained': 8023, 'nexus': 8024, 'mode': 8025, 'tube': 8026, 'songwriter': 8027, 'awaiting': 8028, 'mainstream': 8029, 'bias': 8030, 'cave': 8031, 'forbes': 8032, 'infamous': 8033, 'judgment': 8034, 'aviv': 8035, 'midlands': 8036, 'salmonella': 8037, 'stalled': 8038, 'roethlisberger': 8039, 'distance': 8040, 'menu': 8041, 'booker': 8042, 'rebecca': 8043, 'inventory': 8044, '28th': 8045, 'derailed': 8046, 'mob': 8047, 'auditorium': 8048, 'rumor': 8049, 'evan': 8050, 'hyundai': 8051, 'honolulu': 8052, 'butt': 8053, 'pmln': 8054, 'mayors': 8055, 'urgent': 8056, 'ugly': 8057, 'o2': 8058, 'generating': 8059, 'mila': 8060, 'deepika': 8061, 'mtn': 8062, 'gesture': 8063, 'burnley': 8064, 'afghans': 8065, 'odonnell': 8066, 'pedro': 8067, 'admission': 8068, 'premises': 8069, 'methodist': 8070, 'aggregate': 8071, 'contrary': 8072, 'indicate': 8073, 'tweeted': 8074, '4s': 8075, 'vaccines': 8076, 'tymoshenko': 8077, 'logan': 8078, 'rear': 8079, 'intelligent': 8080, 'destroying': 8081, 'gloucester': 8082, 'liberals': 8083, 'jindal': 8084, 'solomon': 8085, 'telangana': 8086, 'reflect': 8087, 'slalom': 8088, 'nixon': 8089, '140': 8090, 'alonso': 8091, 'guantanamo': 8092, 'landslide': 8093, 'attendant': 8094, 'macau': 8095, 'cohen': 8096, 'bahamas': 8097, 'activate': 8098, 'workshops': 8099, 'denise': 8100, 'correctional': 8101, 'kindle': 8102, 'enemy': 8103, 'basin': 8104, 'clara': 8105, 'thirdquarter': 8106, 'alexandra': 8107, 'schalke': 8108, 'reinstate': 8109, 'widens': 8110, 'spots': 8111, 'comfort': 8112, 'servants': 8113, 'modified': 8114, 'extradited': 8115, 'churches': 8116, 'outlet': 8117, 'grande': 8118, 'lovers': 8119, 'sao': 8120, 'extremists': 8121, 'prodemocracy': 8122, 'contamination': 8123, '730': 8124, 'partly': 8125, 'fiber': 8126, 'physicians': 8127, 'copyright': 8128, 'math': 8129, 'suburbs': 8130, 'bynes': 8131, '180': 8132, 'wrap': 8133, 'allied': 8134, 'luther': 8135, 'amateur': 8136, 'warship': 8137, '98': 8138, 'embezzlement': 8139, 'chevron': 8140, 'ritchie': 8141, 'chaudhry': 8142, 'follows': 8143, 'larceny': 8144, 'duck': 8145, 'dunn': 8146, 'instructor': 8147, 'jiabao': 8148, 'testified': 8149, 'duff': 8150, 'bermuda': 8151, 'pike': 8152, 'nate': 8153, 'flooded': 8154, 'wanderers': 8155, 'acknowledged': 8156, 'embezzling': 8157, 'delegates': 8158, 'rao': 8159, 'alec': 8160, 'beirut': 8161, 'lure': 8162, 'roommate': 8163, '106': 8164, 'narrowed': 8165, 'lumpur': 8166, 'mayawati': 8167, 'conservatives': 8168, 'batteries': 8169, 'obligations': 8170, 'phillip': 8171, 'lifting': 8172, 'pieces': 8173, 'linda': 8174, 'macquarie': 8175, 'lodged': 8176, 'bentley': 8177, 'atlantis': 8178, 'slovakia': 8179, 'newsday': 8180, 'habitat': 8181, 'musicians': 8182, 'stopping': 8183, 'destruction': 8184, 'peacefully': 8185, 'pepper': 8186, 'highland': 8187, 'gadhafi': 8188, 'mcdonnell': 8189, 'wallabies': 8190, 'budgets': 8191, 'divisions': 8192, 'polar': 8193, 'telstra': 8194, 'appetite': 8195, 'dwi': 8196, 'concentrate': 8197, 'prefers': 8198, 'blaming': 8199, 'inform': 8200, 'powder': 8201, 'sultan': 8202, 'length': 8203, 'oj': 8204, 'richest': 8205, 'rutgers': 8206, 'bases': 8207, 'gunfire': 8208, 'examination': 8209, 'asiapacific': 8210, 'crist': 8211, 'tajikistan': 8212, 'heated': 8213, 'machinery': 8214, 'casting': 8215, 'unsecured': 8216, 'pubs': 8217, 'casualties': 8218, 'westwood': 8219, 'panda': 8220, 'hints': 8221, 'benson': 8222, 'donors': 8223, 'pursuing': 8224, 'hon': 8225, 'establishing': 8226, 'rewards': 8227, 'sort': 8228, 'afford': 8229, 'dual': 8230, 'achieving': 8231, 'advocacy': 8232, 'ossetia': 8233, 'wesley': 8234, 'scratched': 8235, 'stint': 8236, 'jackets': 8237, 'fulltime': 8238, 'database': 8239, 'shrank': 8240, 'jenna': 8241, 'errors': 8242, 'kodak': 8243, 'gearing': 8244, 'flies': 8245, 'berkeley': 8246, 'bicyclist': 8247, 'ammunition': 8248, 'crowe': 8249, 'historian': 8250, '40yearold': 8251, 'measuring': 8252, 'accelerate': 8253, 'cricketers': 8254, 'sienna': 8255, 'touching': 8256, 'commencement': 8257, 'scholarships': 8258, 'bite': 8259, 'highways': 8260, '1400': 8261, 'expression': 8262, 'comics': 8263, 'halftime': 8264, 'lover': 8265, 'lowcost': 8266, 'detainees': 8267, '150000': 8268, 'tan': 8269, 'sailors': 8270, 'designers': 8271, 'deeper': 8272, 'exporter': 8273, 'zimmerman': 8274, 'xperia': 8275, 'kerr': 8276, 'calf': 8277, 'kunis': 8278, 'ramesh': 8279, 'mcafee': 8280, 'eliminating': 8281, 'bolivia': 8282, 'driveby': 8283, 'widow': 8284, 'hogan': 8285, 'didier': 8286, 'languages': 8287, 'kylie': 8288, 'gradually': 8289, 'purchasing': 8290, 'baron': 8291, 'polk': 8292, 'tomorrows': 8293, 'tactics': 8294, 'ind': 8295, 'saeed': 8296, 'stunned': 8297, 'camden': 8298, 'relatively': 8299, 'paint': 8300, 'transfers': 8301, 'biel': 8302, 'punk': 8303, 'conferences': 8304, 'curfew': 8305, 'upsets': 8306, 'passion': 8307, 'architecture': 8308, 'lokpal': 8309, 'thefts': 8310, 'splash': 8311, 'iphones': 8312, 'slashing': 8313, 'stakeholders': 8314, 'baba': 8315, 'signature': 8316, 'maldives': 8317, 'campaigning': 8318, 'scrutiny': 8319, 'hide': 8320, 'trim': 8321, 'reversing': 8322, '8th': 8323, 'pains': 8324, 'protestors': 8325, 'g20': 8326, 'bullying': 8327, 'stupid': 8328, 'paedophile': 8329, 'disclosure': 8330, '99': 8331, 'mcdonalds': 8332, '50yearold': 8333, 'washing': 8334, 'anchorage': 8335, 'plug': 8336, 'booming': 8337, 'medalist': 8338, 'heathrow': 8339, 'powered': 8340, 'restoring': 8341, 'directing': 8342, 'scherzinger': 8343, 'motogp': 8344, 'northampton': 8345, 'jill': 8346, 'convoy': 8347, 'isolated': 8348, 'narcotics': 8349, 'owed': 8350, 'teaming': 8351, 'pleasant': 8352, 'iris': 8353, 'snack': 8354, 'filling': 8355, 'supposed': 8356, 'realty': 8357, 'multinational': 8358, 'kit': 8359, 'evolution': 8360, 'whip': 8361, 'loud': 8362, 'doctorate': 8363, '1300': 8364, 'vast': 8365, 'entertainer': 8366, '9000': 8367, 'wooden': 8368, 'supermarkets': 8369, 'commitments': 8370, 'cooling': 8371, 'atp': 8372, 'recognised': 8373, 'injection': 8374, 'nh': 8375, 'longawaited': 8376, 'demonstrate': 8377, 'biological': 8378, 'evil': 8379, 'johnston': 8380, 'automated': 8381, 'bafana': 8382, 'physician': 8383, 'founded': 8384, 'pratibha': 8385, 'respiratory': 8386, 'gamble': 8387, 'rooms': 8388, 'balanced': 8389, 'lilly': 8390, 'mcilroy': 8391, 'hillsborough': 8392, 'durban': 8393, 'freeman': 8394, 'yankee': 8395, 'avoiding': 8396, 'auctions': 8397, 'fedex': 8398, 'hudgens': 8399, 'dana': 8400, 'carr': 8401, 'mirror': 8402, 'lewd': 8403, 'repeated': 8404, 'lautner': 8405, 'massa': 8406, 'successor': 8407, '230': 8408, 'preventing': 8409, 'colon': 8410, 'mgm': 8411, 'cheltenham': 8412, 'liquid': 8413, 'eclipse': 8414, 'turnout': 8415, 'chapel': 8416, 'fletcher': 8417, 'blown': 8418, 'travolta': 8419, 'harsh': 8420, 'supervisor': 8421, 'sprinter': 8422, 'loyal': 8423, 'ramdev': 8424, 'conan': 8425, 'underwear': 8426, 'roddick': 8427, 'grains': 8428, 'namibia': 8429, 'wrapped': 8430, 'pill': 8431, 'aftermath': 8432, 'graphic': 8433, 'psychological': 8434, 'copies': 8435, 'hitachi': 8436, 'spreads': 8437, 'findings': 8438, 'hai': 8439, 'ho': 8440, 'hazard': 8441, 'gabriel': 8442, 'flame': 8443, 'array': 8444, 'delaying': 8445, 'sword': 8446, 'onevehicle': 8447, 'contaminated': 8448, 'downgrade': 8449, 'outreach': 8450, 'fidel': 8451, 'persian': 8452, 'breached': 8453, 'evaluation': 8454, 'surf': 8455, 'kourtney': 8456, 'optical': 8457, 'architect': 8458, 'issuer': 8459, 'jews': 8460, 'nationally': 8461, '24th': 8462, 'eggs': 8463, 'breaching': 8464, 'shortterm': 8465, 'seemed': 8466, '06': 8467, 'transformation': 8468, 'catching': 8469, 'relationships': 8470, 'transparent': 8471, 'weigh': 8472, 'jude': 8473, 'forestry': 8474, 'il': 8475, 'bon': 8476, 'unmanned': 8477, 'zach': 8478, 'wholly': 8479, 'coroners': 8480, 'intimate': 8481, 'silva': 8482, 'radar': 8483, 'fence': 8484, 'backdrop': 8485, 'brighton': 8486, 'outgoing': 8487, 'galway': 8488, 'en': 8489, 'supervisors': 8490, 'righthanded': 8491, 'please': 8492, 'disposal': 8493, 'chains': 8494, 'bizarre': 8495, 'tightening': 8496, '107': 8497, 'towers': 8498, 'pared': 8499, 'highlighted': 8500, 'impaired': 8501, 'serves': 8502, 'dannii': 8503, 'annually': 8504, 'budapest': 8505, 'aj': 8506, 'shelves': 8507, 'demonstrations': 8508, 'attracting': 8509, 'committing': 8510, 'tears': 8511, 'salisbury': 8512, 'reaffirmed': 8513, 'garrett': 8514, 'fraudulent': 8515, '103': 8516, 'yearonyear': 8517, 'shepherd': 8518, 'garner': 8519, 'conceded': 8520, 'precision': 8521, 'patience': 8522, 'greeces': 8523, 'bigg': 8524, 'dramatically': 8525, 'ranbir': 8526, 'levi': 8527, 'bangladeshi': 8528, 'sandusky': 8529, 'disrupt': 8530, 'barred': 8531, '650': 8532, 'africans': 8533, 'eager': 8534, 'cairn': 8535, 'promoter': 8536, 'reagan': 8537, 'ashore': 8538, 'focuses': 8539, 'comcast': 8540, 'sikh': 8541, 'yusuf': 8542, 'dust': 8543, 'oilers': 8544, 'kickoff': 8545, 'instant': 8546, 'eugene': 8547, 'visual': 8548, 'aishwarya': 8549, 'jessie': 8550, 'wellness': 8551, 'slim': 8552, 'balcony': 8553, 'lehigh': 8554, 'oconnor': 8555, 'dixon': 8556, 'occupation': 8557, 'boots': 8558, 'smokers': 8559, 'topeka': 8560, 'ordering': 8561, 'trinamool': 8562, 'breakaway': 8563, 'balloon': 8564, 'basket': 8565, 'gore': 8566, 'buenos': 8567, 'aires': 8568, 'everywhere': 8569, 'khyber': 8570, 'handsets': 8571, 'cafe': 8572, 'ubisoft': 8573, 'conjunction': 8574, 'literacy': 8575, 'slumped': 8576, 'ep': 8577, 'shia': 8578, 'cautioned': 8579, 'organ': 8580, 'seals': 8581, 'tier': 8582, 'spared': 8583, 'trafford': 8584, 'labourers': 8585, 'provision': 8586, 'uc': 8587, 'predators': 8588, 'consolidated': 8589, 'bass': 8590, 'nvidia': 8591, 'footprint': 8592, 'showers': 8593, 'otherwise': 8594, 'fisheries': 8595, 'desk': 8596, 'saga': 8597, 'totally': 8598, 'auctioned': 8599, 'elimination': 8600, 'commons': 8601, 'doha': 8602, 'owing': 8603, 'airasia': 8604, 'pretoria': 8605, 'cpi': 8606, 'donovan': 8607, 'banker': 8608, 'slapped': 8609, 'experiencing': 8610, 'escalating': 8611, 'impressed': 8612, 'girlfriends': 8613, 'rabies': 8614, 'driveway': 8615, 'reads': 8616, 'hurdle': 8617, 'corey': 8618, 'ecb': 8619, 'canton': 8620, 'novelist': 8621, 'pure': 8622, 'peruvian': 8623, 'eminem': 8624, 'tired': 8625, 'deserves': 8626, 'undefeated': 8627, 'opted': 8628, 'shirley': 8629, 'hospice': 8630, 'knockout': 8631, 'smallest': 8632, 'kissing': 8633, 'chooses': 8634, 'belgrade': 8635, 'bahraini': 8636, 'venus': 8637, 'disqualified': 8638, 'borrow': 8639, 'southampton': 8640, 'barker': 8641, 'afridi': 8642, 'limerick': 8643, 'tariff': 8644, 'fabrice': 8645, '750': 8646, 'unilever': 8647, 'autobiography': 8648, 'aka': 8649, 'paribas': 8650, 'q': 8651, 'deepen': 8652, 'acted': 8653, 'piers': 8654, 'freezes': 8655, 'pan': 8656, 'aloud': 8657, 'stray': 8658, 'sim': 8659, 'whilst': 8660, 'davies': 8661, 'ligament': 8662, 'wildfires': 8663, 'circus': 8664, 'snowfall': 8665, 'akhtar': 8666, 'dancer': 8667, 'holly': 8668, 'divorced': 8669, 'designate': 8670, 'drowning': 8671, 'sbi': 8672, 'catastrophic': 8673, 'gingrich': 8674, 'insight': 8675, 'joke': 8676, 'manufacture': 8677, 'nigel': 8678, 'proof': 8679, 'knocks': 8680, 'integrate': 8681, 'lotus': 8682, 'arbor': 8683, 'wembley': 8684, 'participated': 8685, 'enemies': 8686, 'bullets': 8687, 'protested': 8688, 'kazakh': 8689, 'alcoholic': 8690, 'bloc': 8691, 'eleven': 8692, 'homer': 8693, 'sinks': 8694, '38yearold': 8695, 'chandler': 8696, 'expires': 8697, 'wbo': 8698, 'publics': 8699, 'leno': 8700, '200910': 8701, 'gotten': 8702, 'collaborate': 8703, 'geological': 8704, '1960s': 8705, 'pawar': 8706, '09': 8707, 'screens': 8708, 'jamaican': 8709, 'sixmonth': 8710, 'ensuring': 8711, 'fingers': 8712, 'venues': 8713, 'situations': 8714, 'norton': 8715, 'imperial': 8716, 'berkshire': 8717, 'viktor': 8718, 'richter': 8719, 'personally': 8720, 'appalachian': 8721, 'column': 8722, 'owes': 8723, 'hung': 8724, 'worcester': 8725, 'sight': 8726, 'bargaining': 8727, 'mickey': 8728, 'landlord': 8729, 'ballet': 8730, 'securing': 8731, 'revamped': 8732, 'ambush': 8733, 'billings': 8734, 'breakdown': 8735, 'shifting': 8736, '1700': 8737, 'nonstop': 8738, 'synthetic': 8739, 'detailed': 8740, 'scenario': 8741, 'degeneres': 8742, 'webster': 8743, 'pleas': 8744, 'helm': 8745, 'hook': 8746, 'mich': 8747, 'collecting': 8748, 'movements': 8749, 'freestyle': 8750, 'wis': 8751, 'injunction': 8752, 'rampage': 8753, 'locals': 8754, 'interviews': 8755, 'experimental': 8756, 'balochistan': 8757, 'incredible': 8758, 'rescuers': 8759, 'hulk': 8760, 'deeply': 8761, 'lucrative': 8762, 'nicholas': 8763, 'ilham': 8764, 'ramadan': 8765, 'mayoral': 8766, 'subsidy': 8767, 'approvals': 8768, 'item': 8769, 'discipline': 8770, 'bash': 8771, 'rent': 8772, 'disasters': 8773, 'xavier': 8774, 'ethical': 8775, 'rawalpindi': 8776, 'raceway': 8777, 'refuse': 8778, 'ukbased': 8779, 'staples': 8780, 'livingston': 8781, 'colonial': 8782, 'crushing': 8783, 'versions': 8784, 'hardy': 8785, 'boxes': 8786, 'amended': 8787, 'longrunning': 8788, 'timor': 8789, 'motorway': 8790, 'hangs': 8791, 'actively': 8792, 'warships': 8793, 'knifepoint': 8794, 'mid': 8795, 'webb': 8796, 'emily': 8797, 'surges': 8798, 'vic': 8799, 'separation': 8800, 'goodbye': 8801, 'starred': 8802, 'wifes': 8803, 'memorandum': 8804, '630': 8805, 'counting': 8806, 'cutler': 8807, 'hates': 8808, 'freak': 8809, 'grizzlies': 8810, 'automobile': 8811, 'onetime': 8812, 'albania': 8813, 'marvel': 8814, 'premiums': 8815, 'thatcher': 8816, 'burger': 8817, 'invite': 8818, 'achieves': 8819, 'elects': 8820, 'clijsters': 8821, 'keane': 8822, 'flower': 8823, '1970s': 8824, 'canadiens': 8825, 'memories': 8826, 'heres': 8827, 'boot': 8828, 'spark': 8829, 'baxter': 8830, 'pyongyang': 8831, 'missions': 8832, 'honoring': 8833, 'elsewhere': 8834, 'batman': 8835, 'dominant': 8836, 'collapsing': 8837, 'rubbish': 8838, 'ipswich': 8839, 'snyder': 8840, 'pitched': 8841, 'anaheim': 8842, 'spector': 8843, 'magazines': 8844, 'aides': 8845, 'indication': 8846, 'witnessed': 8847, 'spate': 8848, 'hiked': 8849, 'psychiatric': 8850, 'incentive': 8851, 'sail': 8852, 'rosa': 8853, 'mw': 8854, 'filmed': 8855, 'shetty': 8856, 'slur': 8857, 'spokane': 8858, 'aluminium': 8859, 'fontana': 8860, 'cork': 8861, 'ft': 8862, 'suarez': 8863, 'convinced': 8864, 'triggering': 8865, 'neighbour': 8866, 'runaway': 8867, 'shahrukh': 8868, '600000': 8869, 'unesco': 8870, 'mideast': 8871, 'brit': 8872, 'underlying': 8873, 'ratio': 8874, 'rescheduled': 8875, 'osce': 8876, '27th': 8877, '39yearold': 8878, 'detect': 8879, 'paulson': 8880, 'sheep': 8881, 'cherokee': 8882, 'shields': 8883, 'shake': 8884, 'banner': 8885, '1800': 8886, 'fourday': 8887, 'tsx': 8888, 'landscape': 8889, 'reopening': 8890, 'learnt': 8891, 'looming': 8892, 'felonies': 8893, 'rings': 8894, 'corridor': 8895, 'hospitality': 8896, 'laureate': 8897, 'hayes': 8898, 'valuation': 8899, 'soup': 8900, 'lockheed': 8901, 'nike': 8902, 'shahbaz': 8903, 'peas': 8904, '22nd': 8905, 'forks': 8906, 'sophomore': 8907, 'commenced': 8908, 'shelf': 8909, 'paraguay': 8910, 'googles': 8911, 'libraries': 8912, 'lennon': 8913, 'cosmetic': 8914, 'motorist': 8915, 'vegetable': 8916, 'dissident': 8917, 'mercantile': 8918, 'conversation': 8919, 'enrichment': 8920, 'ups': 8921, 'cohost': 8922, 'consultations': 8923, 'headlines': 8924, 'capped': 8925, 'pedestrians': 8926, 'recognizes': 8927, 'leighton': 8928, 'copa': 8929, 'killers': 8930, 'protocol': 8931, 'lied': 8932, 'soar': 8933, 'guaranteed': 8934, 'patricks': 8935, 'avery': 8936, 'cavendish': 8937, 'nassau': 8938, 'bhutto': 8939, 'keeper': 8940, 'guarantees': 8941, 'heineken': 8942, 'pearce': 8943, 'aleague': 8944, 'llp': 8945, 'java': 8946, 'landfall': 8947, 'leaking': 8948, 'postpone': 8949, '200809': 8950, 'emission': 8951, 'beau': 8952, '7000': 8953, 'observe': 8954, 'revoked': 8955, 'meter': 8956, 'akron': 8957, 'climbs': 8958, 'deepening': 8959, 'composite': 8960, 'monkey': 8961, 'karan': 8962, 'daly': 8963, 'bal': 8964, 'middlesbrough': 8965, 'junk': 8966, 'upto': 8967, 'lined': 8968, 'root': 8969, 'jacques': 8970, 'lithuania': 8971, 'ear': 8972, 'ariz': 8973, 'debit': 8974, 'apprentice': 8975, 'lend': 8976, 'lk': 8977, 'poster': 8978, 'vogue': 8979, 'icahn': 8980, 'talented': 8981, 'obtain': 8982, 'est': 8983, 'julius': 8984, 'shoaib': 8985, 'youngster': 8986, 'steals': 8987, 'saskatoon': 8988, '111': 8989, 'highlands': 8990, 'dish': 8991, 'disappointment': 8992, 'jacobs': 8993, 'marred': 8994, 'surging': 8995, 'finalized': 8996, 'chan': 8997, 'comply': 8998, 'establishes': 8999, 'fielder': 9000, 'putnam': 9001, 'journalism': 9002, '11yearold': 9003, 'wonderful': 9004, 'immune': 9005, 'finalist': 9006, 'engulfing': 9007, 'listen': 9008, 'twenty': 9009, 'elephants': 9010, 'darling': 9011, 'lpga': 9012, 'leisure': 9013, 'groundbreaking': 9014, 'steering': 9015, 'jaime': 9016, 'headquartered': 9017, 'georges': 9018, 'refinancing': 9019, 'anticorruption': 9020, 'rodham': 9021, 'switching': 9022, 'moammar': 9023, 'huckabee': 9024, 'roland': 9025, 'assess': 9026, 'noting': 9027, 'cellphone': 9028, 'apollo': 9029, 'pamela': 9030, 'cindy': 9031, 'coordination': 9032, 'donating': 9033, 'harlem': 9034, 'prostitute': 9035, 'mosquito': 9036, 'bloom': 9037, '2g': 9038, 'cis': 9039, 'frequent': 9040, 'fiction': 9041, 'kia': 9042, 'improper': 9043, 'patterson': 9044, 'barely': 9045, 'repurchase': 9046, 'console': 9047, 'decisive': 9048, 'unlawful': 9049, 'stimulate': 9050, 'halfway': 9051, 'animated': 9052, 'aust': 9053, 'sack': 9054, 'grip': 9055, 'corning': 9056, 'brewing': 9057, 'paralympic': 9058, 'precautionary': 9059, 'ballistic': 9060, 'savannah': 9061, 'pumps': 9062, '70000': 9063, 'flintoff': 9064, 'marilyn': 9065, 'prolific': 9066, 'duet': 9067, 'snake': 9068, 'choppy': 9069, 'norms': 9070, 'bribe': 9071, 'contador': 9072, 'treasuries': 9073, 'explorer': 9074, 'licensed': 9075, 'kendra': 9076, 'harder': 9077, 'searches': 9078, 'settlers': 9079, 'betterthanexpected': 9080, 'coldplay': 9081, 'priorities': 9082, 'goalless': 9083, 'abdominal': 9084, 'mahendra': 9085, 'calvin': 9086, 'irelands': 9087, 'touchdown': 9088, 'beverage': 9089, 'condolences': 9090, 'builds': 9091, 'inch': 9092, 'dining': 9093, 'olivia': 9094, 'lindsey': 9095, 'brazils': 9096, 'wrongful': 9097, 'buck': 9098, 'iranians': 9099, 'prevented': 9100, 'misleading': 9101, 'halts': 9102, 'tbilisi': 9103, 'tori': 9104, 'orthodox': 9105, 'grey': 9106, 'threetime': 9107, 'ti': 9108, 'firsthalf': 9109, 'offenses': 9110, 'ultimately': 9111, 'gerrard': 9112, 'mirren': 9113, 'courtesy': 9114, 'joplin': 9115, 'voices': 9116, 'pupil': 9117, 'conversion': 9118, 'grab': 9119, 'discounts': 9120, 'egg': 9121, 'gerald': 9122, 'attitude': 9123, 'controlling': 9124, 'preview': 9125, 'inner': 9126, 'weaken': 9127, 'bald': 9128, 'epidemic': 9129, 'categories': 9130, 'hewlettpackard': 9131, 'ahmedabad': 9132, '08': 9133, 'gurgaon': 9134, 'propaganda': 9135, 'breaches': 9136, 'socialist': 9137, 'acceptance': 9138, 'repaired': 9139, 'sonic': 9140, 'commemorate': 9141, 'drills': 9142, 'rid': 9143, 'candy': 9144, 'mozambique': 9145, 'alexandria': 9146, 'legally': 9147, 'asias': 9148, 'jong': 9149, 'reactors': 9150, 'fastgrowing': 9151, '108': 9152, 'sacred': 9153, 'slugger': 9154, 'slaying': 9155, 'crossings': 9156, 'inspections': 9157, 'candlestick': 9158, 'styles': 9159, 'knights': 9160, 'negligent': 9161, 'therefore': 9162, 'anz': 9163, 'anticipation': 9164, 'furious': 9165, 'competitors': 9166, 'diversified': 9167, 'interface': 9168, 'rivera': 9169, 'lunar': 9170, 'handgun': 9171, 'institutes': 9172, 'tables': 9173, 'icy': 9174, 'dev': 9175, 'warplanes': 9176, 'avatar': 9177, 'pacers': 9178, 'ivan': 9179, 'mounted': 9180, 'condemn': 9181, 'liz': 9182, 'bassist': 9183, 'interviewed': 9184, 'jj': 9185, 'checking': 9186, 'polio': 9187, 'rotary': 9188, 'dustin': 9189, 'oriental': 9190, 'sas': 9191, 'pray': 9192, 'tesla': 9193, 'surgical': 9194, 'understands': 9195, 'territories': 9196, 'affirmed': 9197, 'boulder': 9198, 'antitrust': 9199, 'guild': 9200, 'timberwolves': 9201, 'flick': 9202, 'mercer': 9203, 'tortured': 9204, 'basu': 9205, 'jenny': 9206, 'dynamo': 9207, '42yearold': 9208, 'absolute': 9209, 'drones': 9210, 'dominate': 9211, 'spotify': 9212, 'vmware': 9213, 'relaunch': 9214, 'bikini': 9215, 'smooth': 9216, 'breathing': 9217, 'conditioning': 9218, 'frame': 9219, 'partnerships': 9220, 'fergie': 9221, 'cypriot': 9222, 'pearson': 9223, 'hobbit': 9224, 'intoxication': 9225, 'politically': 9226, 'payne': 9227, 'helena': 9228, 'lea': 9229, 'jaipur': 9230, 'sewage': 9231, 'caucasus': 9232, 'kristin': 9233, 'jaguar': 9234, 'greens': 9235, 'tunisian': 9236, 'emc': 9237, 'johan': 9238, 'favourites': 9239, 'tab': 9240, 'petraeus': 9241, 'piper': 9242, 'overturns': 9243, 'incs': 9244, 'usage': 9245, '109': 9246, 'credited': 9247, 'flows': 9248, 'outskirts': 9249, 'verge': 9250, 'deliveries': 9251, 'nl': 9252, 'shelton': 9253, 'hurley': 9254, 'quincy': 9255, 'rejecting': 9256, 'turtle': 9257, 'color': 9258, 'fundamental': 9259, 'importing': 9260, 'playbook': 9261, 'exist': 9262, '10year': 9263, 'unanimous': 9264, 'expenditure': 9265, 'reply': 9266, 'porter': 9267, 'shrink': 9268, 'relocate': 9269, 'drag': 9270, 'intentionally': 9271, 'cartel': 9272, 'robs': 9273, 'branding': 9274, 'lifeline': 9275, 'noise': 9276, 'pistons': 9277, 'jokes': 9278, 'incredibly': 9279, 'roanoke': 9280, 'julio': 9281, 'ranging': 9282, 'quietly': 9283, 'stuff': 9284, 'maid': 9285, 'enables': 9286, 'hottest': 9287, 'irvine': 9288, 'assurance': 9289, 'rahman': 9290, 'affiliated': 9291, 'rejoin': 9292, 'stan': 9293, 'selloff': 9294, 'colbert': 9295, 'peers': 9296, 'grammer': 9297, 'none': 9298, 'dundee': 9299, 'robinho': 9300, 'fault': 9301, 'aerial': 9302, 'timing': 9303, 'wrongly': 9304, 'cory': 9305, 'fantastic': 9306, 'contention': 9307, 'mlb': 9308, 'lancashire': 9309, 'neither': 9310, 'embrace': 9311, 'graffiti': 9312, 'karen': 9313, 'exams': 9314, 'salon': 9315, 'seaside': 9316, '115': 9317, 'colour': 9318, 'stun': 9319, 'enabling': 9320, 'mastercard': 9321, 'kashmiri': 9322, 'types': 9323, 'drogba': 9324, 'divers': 9325, 'acc': 9326, 'bs': 9327, 'paddy': 9328, 'supplying': 9329, 'troubles': 9330, 'ordinance': 9331, 'oreilly': 9332, 'flowers': 9333, 'rebate': 9334, 'knocking': 9335, 'chasing': 9336, 'custom': 9337, 'whopping': 9338, 'spinal': 9339, 'bipartisan': 9340, 'jenner': 9341, 'multimedia': 9342, 'eyeing': 9343, 'linkedin': 9344, 'victorias': 9345, 'principles': 9346, 'shrine': 9347, 'intensified': 9348, 'weighing': 9349, 'q1': 9350, 'fullyear': 9351, 'builders': 9352, 'campaigners': 9353, 'theaters': 9354, 'braced': 9355, 'banquet': 9356, 'gareth': 9357, 'runners': 9358, 'liga': 9359, 'onboard': 9360, 'defrauding': 9361, 'lazio': 9362, 'blocking': 9363, 'quentin': 9364, 'moreno': 9365, 'paramedics': 9366, 'opt': 9367, 'tense': 9368, 'calhoun': 9369, 'brigade': 9370, 'surfaced': 9371, 'slot': 9372, 'abuses': 9373, 'competitiveness': 9374, 'swayze': 9375, 'sights': 9376, 'contacts': 9377, 'electrocuted': 9378, 'mahinda': 9379, 'abcs': 9380, 'cfo': 9381, 'loyalty': 9382, 'leona': 9383, 'suicidal': 9384, 'cnbc': 9385, 'jacksons': 9386, 'airstrike': 9387, 'thrilled': 9388, 'reshuffle': 9389, 'trips': 9390, 'imposes': 9391, 'attacker': 9392, 'mickelson': 9393, 'ipads': 9394, 'captures': 9395, 'administrations': 9396, 'phelps': 9397, 'fibre': 9398, 'sealed': 9399, 'indicators': 9400, 'kyiv': 9401, 'tariffs': 9402, 'perspective': 9403, 'sticks': 9404, '47yearold': 9405, 'wba': 9406, 'maestro': 9407, 'leone': 9408, '10yearold': 9409, 'controllers': 9410, 'restive': 9411, 'rip': 9412, 'jc': 9413, 'surviving': 9414, 'shotgun': 9415, 'brilliant': 9416, 'seizes': 9417, 'chi': 9418, 'antidoping': 9419, 'contracted': 9420, 'spying': 9421, 'truce': 9422, 'vocal': 9423, 'iftikhar': 9424, 'grim': 9425, 'stamps': 9426, 'patrols': 9427, 'gyllenhaal': 9428, 'patna': 9429, 'unlimited': 9430, 'carla': 9431, 'cows': 9432, 'daryl': 9433, 'funded': 9434, 'paradise': 9435, 'smartrends': 9436, 'connectivity': 9437, 'gloria': 9438, 'moratorium': 9439, 'homage': 9440, 'labels': 9441, 'divided': 9442, 'carlyle': 9443, 'bismarck': 9444, 'memoir': 9445, 'tenure': 9446, 'happening': 9447, 'literally': 9448, 'mellon': 9449, 'dawson': 9450, 'benghazi': 9451, 'downward': 9452, 'speedy': 9453, 'cardiovascular': 9454, 'bosnian': 9455, 'joyce': 9456, 'concord': 9457, 'forgery': 9458, 'boone': 9459, 'marcos': 9460, 'overwhelmingly': 9461, 'guinness': 9462, 'closest': 9463, 'khurshid': 9464, 'knowles': 9465, 'displays': 9466, 'connecting': 9467, 'pictured': 9468, 'wealthy': 9469, 'modestly': 9470, 'lisbon': 9471, 'lefthander': 9472, 'conflicts': 9473, 'dioxide': 9474, 'educators': 9475, 'amar': 9476, 'jain': 9477, 'shores': 9478, 'examine': 9479, 'trauma': 9480, 'dividends': 9481, 'outing': 9482, 'articles': 9483, 'saab': 9484, 'outer': 9485, 'boyd': 9486, 'waiver': 9487, 'capability': 9488, 'respective': 9489, 'inevitable': 9490, 'appliances': 9491, 'ulster': 9492, 'panetta': 9493, 'sergei': 9494, 'mouse': 9495, 'cambodian': 9496, 'background': 9497, 'finalised': 9498, 'extremism': 9499, 'stephanie': 9500, 'employed': 9501, 'regret': 9502, 'module': 9503, 'au': 9504, 'classified': 9505, 'jetblue': 9506, 'sylvester': 9507, 'primarily': 9508, 'taught': 9509, 'fayetteville': 9510, 'atmosphere': 9511, 'courteney': 9512, 'huawei': 9513, 'manufactured': 9514, 'haye': 9515, 'beck': 9516, 'arroyo': 9517, 'philips': 9518, 'adobe': 9519, 'eastman': 9520, 'fiancee': 9521, 'newt': 9522, 'reductions': 9523, 'detain': 9524, 'samples': 9525, 'guatemala': 9526, 'vow': 9527, 'polo': 9528, 'overtake': 9529, 'pepsico': 9530, 'mosley': 9531, 'premieres': 9532, 'upholds': 9533, 'adverse': 9534, 'wandering': 9535, 'referred': 9536, 'youve': 9537, 'stockton': 9538, 'deadliest': 9539, 'webinar': 9540, 'hawaiian': 9541, 'overshadowed': 9542, 'ankara': 9543, 'gill': 9544, 'seasonally': 9545, 'mammoth': 9546, 'maori': 9547, 'pendleton': 9548, 'sectarian': 9549, 'relevant': 9550, 'favorites': 9551, 'webcast': 9552, 'twoyearold': 9553, 'lingering': 9554, '2018': 9555, 'exceeded': 9556, 'fixture': 9557, 'amend': 9558, 'substitute': 9559, 'lufthansa': 9560, 'hoax': 9561, 'skiing': 9562, 'pre': 9563, 'twovehicle': 9564, 'comprising': 9565, 'maxwell': 9566, 'sunrise': 9567, 'mateo': 9568, 'deepwater': 9569, 'festivals': 9570, 'leap': 9571, 'confederation': 9572, 'promotional': 9573, 'meyer': 9574, 'peyton': 9575, 'mood': 9576, 'bachelor': 9577, 'monte': 9578, 'jubilee': 9579, 'bruised': 9580, 'tall': 9581, '49yearold': 9582, 'produces': 9583, 'investigator': 9584, 'persuade': 9585, 'generally': 9586, 'blizzard': 9587, 'cornwall': 9588, 'princeton': 9589, 'collides': 9590, '3500': 9591, 'pile': 9592, 'regina': 9593, 'strauss': 9594, 'lounge': 9595, 'lexus': 9596, 'prisons': 9597, 'virtualization': 9598, 'exploring': 9599, 'burglars': 9600, 'bayer': 9601, 'jihad': 9602, 'stormed': 9603, 'forged': 9604, 'ki': 9605, 'correct': 9606, 'middlesex': 9607, 'carrey': 9608, 'mulls': 9609, 'tripura': 9610, 'leaf': 9611, 'bidding': 9612, 'sands': 9613, 'alpha': 9614, 'akbar': 9615, 'rodney': 9616, 'paramount': 9617, 'prizes': 9618, 'santander': 9619, 'knightley': 9620, 'hearings': 9621, 'submarine': 9622, 'grades': 9623, 'landlords': 9624, 'naming': 9625, 'certificates': 9626, 'astana': 9627, 'cleaner': 9628, 'yerevan': 9629, 'wives': 9630, 'disappearance': 9631, 'perkins': 9632, 'litigation': 9633, 'sellers': 9634, 'se': 9635, 'intensify': 9636, 'bosnia': 9637, 'cord': 9638, 'booth': 9639, 'brutally': 9640, 'lap': 9641, 'commence': 9642, 'tumour': 9643, 'therapeutics': 9644, 'luncheon': 9645, 'upstate': 9646, 'properly': 9647, 'continent': 9648, 'vetoes': 9649, 'mentioned': 9650, 'shelters': 9651, 'cheat': 9652, 'bury': 9653, 'anywhere': 9654, 'napoli': 9655, 'concession': 9656, 'aa': 9657, 'dynamic': 9658, 'brace': 9659, 'belief': 9660, 'abhishek': 9661, 'ventura': 9662, 'jurors': 9663, 'knock': 9664, 'lasting': 9665, 'conspiring': 9666, 'harare': 9667, 'corbett': 9668, 'milton': 9669, 'aquarium': 9670, 'whales': 9671, 'continuous': 9672, 'robot': 9673, 'carpenter': 9674, 'linux': 9675, 'omalley': 9676, 'punish': 9677, 'mahama': 9678, 'primetime': 9679, 'missoula': 9680, 'forget': 9681, 'alba': 9682, 'warne': 9683, 'antiterrorism': 9684, 'miracle': 9685, 'vonn': 9686, 'applying': 9687, 'leinster': 9688, 'influenza': 9689, 'usher': 9690, 'corrections': 9691, 'wakefield': 9692, 'inflationary': 9693, 'tyre': 9694, 'shakes': 9695, 'shrinks': 9696, 'inaugurates': 9697, 'bauer': 9698, 'lin': 9699, 'revolt': 9700, '37yearold': 9701, 'trainers': 9702, 'defenceman': 9703, 'reader': 9704, 'barrett': 9705, 'affects': 9706, 'hitler': 9707, 'nitin': 9708, 'sotomayor': 9709, 'timber': 9710, 'tackling': 9711, 'extinction': 9712, 'everybody': 9713, '113': 9714, 'aviva': 9715, 'saleh': 9716, 'jerome': 9717, 'mohali': 9718, 'romo': 9719, 'bali': 9720, 'contributing': 9721, 'taj': 9722, 'hotspur': 9723, 'carlton': 9724, 'plain': 9725, 'ortiz': 9726, 'granting': 9727, 'ronald': 9728, 'motorsports': 9729, 'rouge': 9730, 'consultants': 9731, 'shipyard': 9732, 'explosions': 9733, 'airtran': 9734, 'cam': 9735, 'grounded': 9736, 'costcutting': 9737, 'umpire': 9738, 'candidacy': 9739, 'reggie': 9740, 'kochi': 9741, 'fallon': 9742, 'unnamed': 9743, 'trusted': 9744, '45yearold': 9745, 'msnbc': 9746, 'thirdlargest': 9747, 'communal': 9748, 'cumberland': 9749, 'pork': 9750, 'spinner': 9751, 'zoning': 9752, 'noida': 9753, 'react': 9754, '220': 9755, '41yearold': 9756, 'tide': 9757, 'unveiling': 9758, 'partnered': 9759, 'caretaker': 9760, 'sliding': 9761, 'harding': 9762, 'usled': 9763, 'hiatus': 9764, 'shipment': 9765, 'straw': 9766, 'trek': 9767, 'credible': 9768, 'meredith': 9769, 'fractures': 9770, 'geo': 9771, 'bikes': 9772, 'expired': 9773, 'obstruction': 9774, 'answered': 9775, 'anfield': 9776, 'bronx': 9777, 'blazers': 9778, 'graphics': 9779, 'retreated': 9780, 'petitions': 9781, 'raptors': 9782, 'mcdonald': 9783, 'belong': 9784, 'migration': 9785, 'diversity': 9786, 'pianist': 9787, 'polanski': 9788, 'cruces': 9789, 'fcc': 9790, 'deserved': 9791, 'viewing': 9792, 'attached': 9793, 'weeklong': 9794, 'surprisingly': 9795, 'baton': 9796, 'â': 9797, 'secretarygeneral': 9798, 'racket': 9799, 'standout': 9800, 'sargsyan': 9801, '112': 9802, 'processors': 9803, 'schoolgirl': 9804, 'madden': 9805, 'usually': 9806, 'cubic': 9807, 'headley': 9808, 'identifying': 9809, 'harold': 9810, 'confidential': 9811, 'prof': 9812, 'wore': 9813, 'relegated': 9814, 'convince': 9815, 'diverted': 9816, '550': 9817, 'klein': 9818, 'travels': 9819, 'rivalry': 9820, 'evicted': 9821, 'waterfront': 9822, 'dwight': 9823, 'sania': 9824, 'containers': 9825, 'woody': 9826, 'marvin': 9827, 'zinc': 9828, 'clint': 9829, 'hijack': 9830, 'rimes': 9831, 'stepfather': 9832, 'surprising': 9833, 'fare': 9834, 'buccaneers': 9835, 'broadly': 9836, 'painful': 9837, 'martha': 9838, 'stallone': 9839, 'bloomington': 9840, 'anxiety': 9841, 'pontiac': 9842, 'tale': 9843, 'symposium': 9844, 'touches': 9845, 'beam': 9846, 'mladic': 9847, 'goodman': 9848, 'bounces': 9849, 'easton': 9850, 'mia': 9851, 'cow': 9852, 'nairobi': 9853, 'refining': 9854, 'patriarch': 9855, 'proving': 9856, 'taiwans': 9857, 'kane': 9858, 'humane': 9859, 'downside': 9860, 'correction': 9861, 'superhero': 9862, 'inflows': 9863, 'onstage': 9864, 'cartoon': 9865, 'sunil': 9866, 'merck': 9867, 'switched': 9868, 'boating': 9869, 'deemed': 9870, 'functions': 9871, 'moose': 9872, 'imposing': 9873, 'wardrobe': 9874, 'lampard': 9875, '1999': 9876, 'rex': 9877, 'bluray': 9878, 'settlements': 9879, 'defined': 9880, 'bethlehem': 9881, 'delicious': 9882, 'practicing': 9883, 'endorsing': 9884, 'shakira': 9885, 'mexicos': 9886, 'impersonating': 9887, 'twelve': 9888, '31st': 9889, 'bremen': 9890, 'sgt': 9891, 'deficits': 9892, '190': 9893, 'bajaj': 9894, 'yanukovych': 9895, 'madhya': 9896, 'yorkbased': 9897, 'vaccination': 9898, 'payable': 9899, '17000': 9900, 'foiled': 9901, '33yearold': 9902, '26th': 9903, 'evangelist': 9904, 'worry': 9905, 'terrible': 9906, 'sheryl': 9907, 'raft': 9908, 'rapist': 9909, 'vigil': 9910, 'reaffirms': 9911, 'zurich': 9912, 'observer': 9913, 'conocophillips': 9914, 'lauderdale': 9915, 'arvind': 9916, 'elena': 9917, 'dissent': 9918, 'supervision': 9919, 'seafood': 9920, 'tna': 9921, 'locally': 9922, 'lesson': 9923, 'danielle': 9924, 'walgreens': 9925, 'expressing': 9926, 'wrestler': 9927, 'seller': 9928, 'olive': 9929, '18000': 9930, 'keynote': 9931, 'vat': 9932, 'imagine': 9933, 'hindus': 9934, 'peterborough': 9935, 'foray': 9936, 'hancock': 9937, 'najib': 9938, 'bean': 9939, 'dot': 9940, 'await': 9941, 'sutherland': 9942, 'kandahar': 9943, 'supremo': 9944, 'atm': 9945, 'lowering': 9946, '70s': 9947, 'impending': 9948, 'engulfed': 9949, 'tow': 9950, 'rides': 9951, 'transmitted': 9952, 'belarusian': 9953, 'pled': 9954, 'jenson': 9955, 'cody': 9956, 'cameroon': 9957, 'lng': 9958, 'claude': 9959, 'holes': 9960, 'dirt': 9961, 'igor': 9962, 'skier': 9963, 'supplied': 9964, 'naples': 9965, 'shooter': 9966, 'hawkes': 9967, 'wta': 9968, 'boca': 9969, 'devon': 9970, 'meaningful': 9971, 'malibu': 9972, 'playground': 9973, 'granite': 9974, 'victories': 9975, 'clock': 9976, 'reacted': 9977, 'photographs': 9978, 'cyclists': 9979, 'contributed': 9980, 'nina': 9981, 'cocktail': 9982, 'constant': 9983, 'vera': 9984, 'troop': 9985, 'exchanged': 9986, 'colonel': 9987, 'meal': 9988, 'holden': 9989, 'aluminum': 9990, 'lorenzo': 9991, 'sunni': 9992, 'frontline': 9993, 'hears': 9994, 'clearance': 9995, 'surrounded': 9996, 'fx': 9997, 'alcoa': 9998, 'servers': 9999}\n"
     ]
    }
   ],
   "source": [
    "vocab_size = 10_000\n",
    "vocab = vocab_counter.most_common(vocab_size)\n",
    "token_to_id = {word: i for i, (word, _) in enumerate(vocab)}\n",
    "print(token_to_id)"
   ]
  },
  {
   "cell_type": "markdown",
   "metadata": {
    "collapsed": false,
    "jupyter": {
     "outputs_hidden": false
    },
    "pycharm": {
     "name": "#%% md\n"
    }
   },
   "source": [
    "<a name='e4'></a>\n",
    "### Exercise 4: Bag of Words\n",
    "(1p) Here we will create the bag-of-words representation of the sentences. The function will take a single sentence (list of tokens) and return an array of size `vocab_size` with the counts of each word in the vocabulary. The\n",
    "`vocab_size` is calculated as the length of the passed `token_to_id` dictionary. The resulting array should have zeros everywhere but the indices corresponding to the words in the vocabulary where it should have the counts of the words in the sentence. For example, if the sentence is `['fox', 'and', 'deer']` and the vocabulary is `{'fox': 0, 'and': 1, 'deer': 2}`, the resulting array should be `[1, 1, 1]`. If the sentence is `['fox', 'and', 'fox', 'deer']`, the resulting array should be `[2, 1, 1]`."
   ]
  },
  {
   "cell_type": "code",
   "execution_count": 40,
   "metadata": {
    "ExecuteTime": {
     "end_time": "2025-04-15T12:00:43.652573Z",
     "start_time": "2025-04-15T12:00:43.649989Z"
    },
    "collapsed": false,
    "jupyter": {
     "outputs_hidden": false
    },
    "pycharm": {
     "name": "#%%\n"
    }
   },
   "outputs": [],
   "source": [
    "def bag_of_words(sentence, token_to_id):\n",
    "    \"\"\"\n",
    "    Creates a bag-of-words representation of the sentence\n",
    "    Args:\n",
    "        sentence: a list of tokens\n",
    "        token_to_id: a dictionary mapping each word to an index in the vocabulary\n",
    "\n",
    "    Returns:: a numpy array of size vocab_size with the counts of each word in the vocabulary\n",
    "\n",
    "    \"\"\"\n",
    "    vocab_size = len(token_to_id)\n",
    "    bow = np.zeros(vocab_size, dtype=int)\n",
    "\n",
    "    ### YOUR CODE HERE\n",
    "    for word in sentence:\n",
    "        if word in token_to_id:\n",
    "            idx = token_to_id[word]\n",
    "            bow[idx] += 1\n",
    "    ### YOUR CODE ENDS HERE\n",
    "\n",
    "    return bow"
   ]
  },
  {
   "cell_type": "markdown",
   "metadata": {
    "collapsed": false,
    "jupyter": {
     "outputs_hidden": false
    },
    "pycharm": {
     "name": "#%% md\n"
    }
   },
   "source": [
    "Let's see how the function works on a single sentence. The output should be a numpy array of size `vocab_size` with the counts of each word in the vocabulary."
   ]
  },
  {
   "cell_type": "code",
   "execution_count": 41,
   "metadata": {
    "ExecuteTime": {
     "end_time": "2025-04-15T12:00:43.735316Z",
     "start_time": "2025-04-15T12:00:43.732630Z"
    },
    "collapsed": false,
    "jupyter": {
     "outputs_hidden": false
    },
    "pycharm": {
     "name": "#%%\n"
    }
   },
   "outputs": [
    {
     "name": "stdout",
     "output_type": "stream",
     "text": [
      "Tokenized sentence:\n",
      "['german', 'maker', 'personal', 'care', 'products', 'beiersdorf', 'ag', 'said', 'tuesday', 'established', 'independent', 'affiliate', 'vietnam']\n",
      "Bag of words:\n",
      "[0 1 0 ... 0 0 0]\n",
      "Type of bag of words:\n",
      "<class 'numpy.ndarray'>\n",
      "Shape of bag of words:\n",
      "(10000,)\n",
      "Non-zero elements in bag of words:\n",
      "[   1    9  409  474  484  766 1113 1124 2200 2888 3622 4441]\n"
     ]
    }
   ],
   "source": [
    "print('Tokenized sentence:')\n",
    "print(tokenized_sentences[0])\n",
    "sentence_bow = bag_of_words(tokenized_sentences[0], token_to_id)\n",
    "\n",
    "print('Bag of words:')\n",
    "print(sentence_bow)\n",
    "print('Type of bag of words:')\n",
    "print(type(sentence_bow))\n",
    "print('Shape of bag of words:')\n",
    "print(sentence_bow.shape)\n",
    "print('Non-zero elements in bag of words:')\n",
    "print(np.nonzero(sentence_bow)[0])"
   ]
  },
  {
   "cell_type": "markdown",
   "metadata": {
    "collapsed": false,
    "jupyter": {
     "outputs_hidden": false
    },
    "pycharm": {
     "name": "#%% md\n"
    }
   },
   "source": [
    "We can also check in detail what words and their counts are in the bag-of-words representation."
   ]
  },
  {
   "cell_type": "code",
   "execution_count": 42,
   "metadata": {
    "ExecuteTime": {
     "end_time": "2025-04-15T12:00:43.819720Z",
     "start_time": "2025-04-15T12:00:43.817017Z"
    },
    "collapsed": false,
    "jupyter": {
     "outputs_hidden": false
    },
    "pycharm": {
     "name": "#%%\n"
    }
   },
   "outputs": [
    {
     "name": "stdout",
     "output_type": "stream",
     "text": [
      "Non-zero elements in bag of words:\n",
      "[   1    9  409  474  484  766 1113 1124 2200 2888 3622 4441]\n",
      "said : 1\n",
      "tuesday : 1\n",
      "care : 1\n",
      "products : 1\n",
      "german : 1\n",
      "maker : 1\n",
      "independent : 1\n",
      "personal : 1\n",
      "vietnam : 1\n",
      "ag : 1\n",
      "established : 1\n",
      "affiliate : 1\n"
     ]
    }
   ],
   "source": [
    "sentence_non_zero_bow = np.nonzero(sentence_bow)[0]\n",
    "print('Non-zero elements in bag of words:')\n",
    "print(sentence_non_zero_bow)\n",
    "for i in sentence_non_zero_bow:\n",
    "    print(vocab[i][0], ':', sentence_bow[i])"
   ]
  },
  {
   "cell_type": "markdown",
   "metadata": {
    "collapsed": false,
    "jupyter": {
     "outputs_hidden": false
    },
    "pycharm": {
     "name": "#%% md\n"
    }
   },
   "source": [
    "The following function will apply all the steps we implemented to a single sentence. It returns a bag of words representation that we will use to calculate the similarity between different sentences."
   ]
  },
  {
   "cell_type": "code",
   "execution_count": 43,
   "metadata": {
    "ExecuteTime": {
     "end_time": "2025-04-15T12:00:43.917867Z",
     "start_time": "2025-04-15T12:00:43.915702Z"
    },
    "collapsed": false,
    "jupyter": {
     "outputs_hidden": false
    },
    "pycharm": {
     "name": "#%%\n"
    }
   },
   "outputs": [],
   "source": [
    "def embed_text(text, clean_fn, tokenize_fn, embed_fn):\n",
    "    cleaned = clean_fn(text)\n",
    "    tokens = tokenize_fn(cleaned)\n",
    "    embedding = embed_fn(tokens)\n",
    "    return embedding"
   ]
  },
  {
   "cell_type": "markdown",
   "metadata": {
    "collapsed": false,
    "jupyter": {
     "outputs_hidden": false
    },
    "pycharm": {
     "name": "#%% md\n"
    }
   },
   "source": [
    "<a name='e5'></a>\n",
    "### Exercise 5: Cosine Similarity between two vectors\n",
    "\n",
    "(1p) Complete the following function that given any two vectors will compute the cosine similarity. If you don't remember the formula for the cosine similarity, revisit the course material. Notice that the function receives numpy arrays and recall that you can express cosine similarity as a dot product. Use numpy functions to write an efficient implementation."
   ]
  },
  {
   "cell_type": "code",
   "execution_count": 44,
   "metadata": {
    "ExecuteTime": {
     "end_time": "2025-04-15T13:22:46.263629Z",
     "start_time": "2025-04-15T13:22:46.261030Z"
    },
    "collapsed": false,
    "jupyter": {
     "outputs_hidden": false
    },
    "pycharm": {
     "name": "#%%\n"
    }
   },
   "outputs": [],
   "source": [
    "def cosine_similarity(vector1, vector2):\n",
    "    \"\"\"\n",
    "    Computes the cosine similarity between two vectors\n",
    "    Args:\n",
    "        vector1: numpy array of the first vector\n",
    "        vector2: numpy array of the second vector\n",
    "\n",
    "    Returns: cosine similarity\n",
    "\n",
    "    \"\"\"\n",
    "    ### YOUR CODE HERE\n",
    "    dot_product = np.dot(vector1, vector2)\n",
    "    norm1 = np.linalg.norm(vector1)\n",
    "    norm2 = np.linalg.norm(vector2)\n",
    "    if norm1 == 0 or norm2 == 0:\n",
    "        return 0.0\n",
    "    v1 = vector1 / norm1\n",
    "    v2 = vector2 / norm2\n",
    "\n",
    "    return dot_product/(norm1*norm2)\n",
    "    ### YOUR CODE ENDS HERE"
   ]
  },
  {
   "cell_type": "code",
   "execution_count": 45,
   "metadata": {
    "ExecuteTime": {
     "end_time": "2025-04-15T13:22:47.826198Z",
     "start_time": "2025-04-15T13:22:47.823557Z"
    },
    "collapsed": false,
    "jupyter": {
     "outputs_hidden": false
    },
    "pycharm": {
     "name": "#%%\n"
    }
   },
   "outputs": [
    {
     "data": {
      "text/plain": [
       "0.9999999999999998"
      ]
     },
     "execution_count": 45,
     "metadata": {},
     "output_type": "execute_result"
    }
   ],
   "source": [
    "cosine_similarity(np.array([0, 1, 2]), np.array([0, 2, 4]))"
   ]
  },
  {
   "cell_type": "code",
   "execution_count": 46,
   "metadata": {
    "ExecuteTime": {
     "end_time": "2025-04-15T13:23:02.535794Z",
     "start_time": "2025-04-15T13:23:02.527020Z"
    },
    "collapsed": false,
    "jupyter": {
     "outputs_hidden": false
    },
    "pycharm": {
     "name": "#%%\n"
    }
   },
   "outputs": [
    {
     "name": "stdout",
     "output_type": "stream",
     "text": [
      "Query: fox and deer\n",
      "Cosine Similarity: 0.3162 - Sentence: The quick brown fox jumps over the lazy dog.\n",
      "Cosine Similarity: 0.0000 - Sentence: Some interesting document containin sentences.\n",
      "Cosine Similarity: 0.2887 - Sentence: The quick brown fox jumps over the lazy cat and some other stuff.\n",
      "Cosine Similarity: 0.8165 - Sentence: Fox and deer are not friends.\n",
      "Cosine Similarity: 0.3651 - Sentence: Fox and deer are not friends. But this document is a lot longer than the previous one. We can add sentence by sentence and see how the embeddings change.\n"
     ]
    }
   ],
   "source": [
    "sentences = [\n",
    "    'The quick brown fox jumps over the lazy dog.',\n",
    "    'Some interesting document containin sentences.',\n",
    "    'The quick brown fox jumps over the lazy cat and some other stuff.',\n",
    "    'Fox and deer are not friends.',\n",
    "    'Fox and deer are not friends. But this document is a lot longer than the previous one. We can add sentence by sentence and see how the embeddings change.',\n",
    "]\n",
    "embedded_sentences = [\n",
    "    embed_text(sentence, clean, tokenize, lambda x: bag_of_words(x, token_to_id))\n",
    "    for sentence in sentences\n",
    "]\n",
    "\n",
    "query = 'fox and deer'\n",
    "embedded_query = embed_text(query, clean, tokenize, lambda x: bag_of_words(x, token_to_id))\n",
    "\n",
    "cosine_similarities = [\n",
    "    cosine_similarity(embedded_query, embedded_sentence)\n",
    "    for embedded_sentence in embedded_sentences\n",
    "]\n",
    "print(f'Query: {query}')\n",
    "for sent, cos_sim in zip(sentences, cosine_similarities):\n",
    "    print(f'Cosine Similarity: {cos_sim:.4f} - Sentence: {sent}')"
   ]
  },
  {
   "cell_type": "markdown",
   "metadata": {
    "collapsed": false,
    "jupyter": {
     "outputs_hidden": false
    },
    "pycharm": {
     "name": "#%% md\n"
    }
   },
   "source": [
    "We will apply the function to the whole dataset. This might take a while, so be patient. The result will be stored in the `sentence_bow` and `compressed_bow` fields of the dataset."
   ]
  },
  {
   "cell_type": "code",
   "execution_count": 47,
   "metadata": {
    "ExecuteTime": {
     "end_time": "2025-04-15T12:00:44.303942Z",
     "start_time": "2025-04-15T12:00:44.301968Z"
    },
    "collapsed": false,
    "jupyter": {
     "outputs_hidden": false
    },
    "pycharm": {
     "name": "#%%\n"
    }
   },
   "outputs": [],
   "source": [
    "def bag_of_words_dataset(example):\n",
    "    \"\"\"\n",
    "    Creates a bag-of-words representation of the sentence and compressed sentence in the example from the Dataset\n",
    "    Args:\n",
    "        example: an example from the Dataset\n",
    "\n",
    "    Returns: updated example with 'sentence_bow' and 'compressed_bow' columns\n",
    "\n",
    "    \"\"\"\n",
    "    sentence_tokens = example['sentence_tokens']\n",
    "    compressed_tokens = example['compressed_tokens']\n",
    "\n",
    "    sentence_bow = bag_of_words(sentence_tokens, token_to_id)\n",
    "    compressed_bow = bag_of_words(compressed_tokens, token_to_id)\n",
    "\n",
    "    example['sentence_bow'] = sentence_bow\n",
    "    example['compressed_bow'] = compressed_bow\n",
    "    return example"
   ]
  },
  {
   "cell_type": "markdown",
   "metadata": {
    "collapsed": false,
    "jupyter": {
     "outputs_hidden": false
    },
    "pycharm": {
     "name": "#%% md\n"
    }
   },
   "source": [
    "The following cell will apply the function to the whole dataset. The result will be stored in the `sentence_bow` and `compressed_bow` fields of the dataset. We will also convert the dataset's fields `sentence_bow` and `compressed_bow` to numpy format for easier manipulation."
   ]
  },
  {
   "cell_type": "code",
   "execution_count": 48,
   "metadata": {
    "ExecuteTime": {
     "end_time": "2025-04-15T12:00:53.529406Z",
     "start_time": "2025-04-15T12:00:44.469551Z"
    },
    "collapsed": false,
    "jupyter": {
     "outputs_hidden": false
    },
    "pycharm": {
     "name": "#%%\n"
    }
   },
   "outputs": [
    {
     "name": "stderr",
     "output_type": "stream",
     "text": [
      "Map: 100%|██████████████████████████████████████████████████████████████████████████████████████████████████| 36000/36000 [00:23<00:00, 1552.76 examples/s]"
     ]
    },
    {
     "name": "stdout",
     "output_type": "stream",
     "text": [
      "Dataset({\n",
      "    features: ['set', 'clean_sentence', 'clean_compressed', 'sentence_tokens', 'compressed_tokens', 'sentence_bow', 'compressed_bow'],\n",
      "    num_rows: 36000\n",
      "})\n"
     ]
    },
    {
     "name": "stderr",
     "output_type": "stream",
     "text": [
      "\n"
     ]
    }
   ],
   "source": [
    "test_ds = split_ds['test'].map(bag_of_words_dataset)\n",
    "test_ds = test_ds.with_format('np', columns=['sentence_bow', 'compressed_bow'], dtype=float)\n",
    "print(test_ds)"
   ]
  },
  {
   "cell_type": "markdown",
   "metadata": {
    "collapsed": false,
    "jupyter": {
     "outputs_hidden": false
    },
    "pycharm": {
     "name": "#%% md\n"
    }
   },
   "source": [
    "Let's check the results. The `sentence_bow` and `compressed_bow` fields should contain the bag-of-words representation of the sentences and compressed sentences, respectively."
   ]
  },
  {
   "cell_type": "code",
   "execution_count": 49,
   "metadata": {
    "ExecuteTime": {
     "end_time": "2025-04-15T12:00:53.538594Z",
     "start_time": "2025-04-15T12:00:53.534584Z"
    },
    "collapsed": false,
    "jupyter": {
     "outputs_hidden": false
    },
    "pycharm": {
     "name": "#%%\n"
    }
   },
   "outputs": [
    {
     "name": "stdout",
     "output_type": "stream",
     "text": [
      "{'sentence_bow': array([0., 0., 0., ..., 0., 0., 0.]), 'compressed_bow': array([0., 0., 0., ..., 0., 0., 0.])}\n"
     ]
    }
   ],
   "source": [
    "print(test_ds[0])"
   ]
  },
  {
   "cell_type": "code",
   "execution_count": 51,
   "metadata": {
    "ExecuteTime": {
     "end_time": "2025-04-15T12:00:59.721466Z",
     "start_time": "2025-04-15T12:00:53.633416Z"
    },
    "collapsed": false,
    "jupyter": {
     "outputs_hidden": false
    },
    "pycharm": {
     "name": "#%%\n"
    }
   },
   "outputs": [
    {
     "name": "stdout",
     "output_type": "stream",
     "text": [
      "(36000, 10000)\n"
     ]
    }
   ],
   "source": [
    "sentences_bows = test_ds['sentence_bow']\n",
    "print(sentences_bows.shape)"
   ]
  },
  {
   "cell_type": "markdown",
   "metadata": {
    "collapsed": false,
    "jupyter": {
     "outputs_hidden": false
    },
    "pycharm": {
     "name": "#%% md\n"
    }
   },
   "source": [
    "Now we can start building a retriever based on the bag of words representation. The first step is to calculate the cosine similarity between two vectors."
   ]
  },
  {
   "cell_type": "markdown",
   "metadata": {
    "collapsed": false,
    "jupyter": {
     "outputs_hidden": false
    },
    "pycharm": {
     "name": "#%% md\n"
    }
   },
   "source": [
    "<a name='e6'></a>\n",
    "### Exercise 6: Cosine Similarity between a vector and an array of vectors\n",
    "\n",
    "(2p) The next step in our retrieval system, would be to calculate the proximity of a query to our retrieval corpus (in our case that is all the sentences).\n",
    "\n",
    "Complete the following function to calculate the cosine similarity between a vector (first parameter `vector`, that will usually be the query vector) and all other vectors (second parameter `other_vectors`, that will be the sentence embeddings in our case). Note that the `other_vectors` parameter is a single numpy array of size `N x D`, where $N$ is the number of vectors and $D$ is the dimension of each vector.\n",
    "\n",
    "For maximum efficiency (we will need it) do not use loops. Try to write the implementation with numpy functions. Hint: matrix multiplication can be seen as calculating the dot product between rows and columns of the multiplied matrices."
   ]
  },
  {
   "cell_type": "code",
   "execution_count": 52,
   "metadata": {
    "ExecuteTime": {
     "end_time": "2025-04-15T12:00:59.840682Z",
     "start_time": "2025-04-15T12:00:59.838260Z"
    },
    "id": "LgaV2b3fpSOR",
    "pycharm": {
     "name": "#%%\n"
    }
   },
   "outputs": [],
   "source": [
    "def cosine_similarity_1_to_n(vector, other_vectors):\n",
    "    \"\"\"\n",
    "    Calculates the cosine similarity between a single vector and other vectors.\n",
    "    Args:\n",
    "        vector: a numpy array representing a vector of D dimensions\n",
    "        other_vectors: a 2D numpy array representing other vectors (of the size NxD, where N is the number of vectors and D is their dimension)\n",
    "\n",
    "    Returns: a 1D numpy array of size N containing the cosine similarity between the vector and all the other vectors\n",
    "\n",
    "    \"\"\"\n",
    "\n",
    "    #### YOUR CODE HERE\n",
    "    dot_products = np.dot(other_vectors, vector)\n",
    "    vector_norm = np.linalg.norm(vector)\n",
    "    other_norm = np.linalg.norm(other_vectors)\n",
    "    denominator = vector_norm * other_norm\n",
    "    return dot_products / denominator\n",
    "    ### YOUR CODE ENDS HERE"
   ]
  },
  {
   "cell_type": "markdown",
   "metadata": {
    "collapsed": false,
    "id": "irNqAJZLpSOR",
    "jupyter": {
     "outputs_hidden": false
    },
    "pycharm": {
     "name": "#%% md\n"
    }
   },
   "source": [
    "We will use the function to calculate the similarity of all sentences in the dataset to our query."
   ]
  },
  {
   "cell_type": "code",
   "execution_count": 53,
   "metadata": {
    "ExecuteTime": {
     "end_time": "2025-04-15T12:00:59.935973Z",
     "start_time": "2025-04-15T12:00:59.932278Z"
    },
    "collapsed": false,
    "jupyter": {
     "outputs_hidden": false
    },
    "pycharm": {
     "name": "#%%\n"
    }
   },
   "outputs": [],
   "source": [
    "query = 'fox and deer'\n",
    "embedded_query = embed_text(query, clean, tokenize, lambda x: bag_of_words(x, token_to_id))"
   ]
  },
  {
   "cell_type": "code",
   "execution_count": 54,
   "metadata": {
    "ExecuteTime": {
     "end_time": "2025-04-15T12:01:00.344862Z",
     "start_time": "2025-04-15T12:01:00.010516Z"
    },
    "id": "uD9mVAhYpSOR",
    "pycharm": {
     "name": "#%%\n"
    }
   },
   "outputs": [
    {
     "name": "stdout",
     "output_type": "stream",
     "text": [
      "(36000,)\n",
      "[0. 0. 0. 0. 0. 0. 0. 0. 0. 0.]\n"
     ]
    }
   ],
   "source": [
    "query_similarity = cosine_similarity_1_to_n(embedded_query, sentences_bows)\n",
    "print(query_similarity.shape)\n",
    "print(query_similarity[:10])"
   ]
  },
  {
   "cell_type": "markdown",
   "metadata": {
    "collapsed": false,
    "id": "_l3erVTNpSOR",
    "jupyter": {
     "outputs_hidden": false
    },
    "pycharm": {
     "name": "#%% md\n"
    }
   },
   "source": [
    "The following cell will select the most similar sentence."
   ]
  },
  {
   "cell_type": "code",
   "execution_count": 55,
   "metadata": {
    "ExecuteTime": {
     "end_time": "2025-04-15T12:02:10.173866Z",
     "start_time": "2025-04-15T12:02:10.171324Z"
    },
    "id": "0wWa4AWHpSOR",
    "pycharm": {
     "name": "#%%\n"
    }
   },
   "outputs": [
    {
     "name": "stdout",
     "output_type": "stream",
     "text": [
      "1548\n",
      "0.001948703240612243\n",
      "FOX Sports North announced today that Tom Hanneman has joined the FOX Sports North team as main studio host for the regional sports network, covering Minnesota Timberwolves, Twins, Wild and Gopher Hockey.\n"
     ]
    }
   ],
   "source": [
    "most_similar = int(np.argmax(query_similarity))\n",
    "print(most_similar)\n",
    "print(query_similarity[most_similar])\n",
    "print(split_ds['test'][most_similar]['set'][0])"
   ]
  },
  {
   "cell_type": "markdown",
   "metadata": {
    "collapsed": false,
    "id": "fpdJHFD1pSOR",
    "jupyter": {
     "outputs_hidden": false
    },
    "pycharm": {
     "name": "#%% md\n"
    }
   },
   "source": [
    "The following function will return the indices of the top-k elements in the array."
   ]
  },
  {
   "cell_type": "code",
   "execution_count": 56,
   "metadata": {
    "ExecuteTime": {
     "end_time": "2025-04-15T12:02:58.421210Z",
     "start_time": "2025-04-15T12:02:58.419106Z"
    },
    "id": "QFUNI9elpSOS",
    "pycharm": {
     "name": "#%%\n"
    }
   },
   "outputs": [],
   "source": [
    "def top_k_indices(array, k, sorted=True):\n",
    "    \"\"\"\n",
    "    Returns top-k indices from the 1D array. If `sorted` is `True` the returned indices are sorted in the descending order\n",
    "    Args:\n",
    "        array: a 1D numpy array\n",
    "        k: a number of top indices to return\n",
    "        sorted: if True, the returned indices are sorted in descending order\n",
    "\n",
    "    Returns: a 1D array containing top-k indices\n",
    "\n",
    "    \"\"\"\n",
    "    top_k = np.argpartition(array, -k)[-k:]\n",
    "    if sorted:\n",
    "        selected = array[top_k]\n",
    "        sorted_selected = (-selected).argsort()\n",
    "        top_k = top_k[sorted_selected]\n",
    "    return top_k"
   ]
  },
  {
   "cell_type": "code",
   "execution_count": 57,
   "metadata": {
    "ExecuteTime": {
     "end_time": "2025-04-15T12:03:02.312303Z",
     "start_time": "2025-04-15T12:03:02.308735Z"
    },
    "id": "nY8vvJdepSOS",
    "pycharm": {
     "name": "#%%\n"
    }
   },
   "outputs": [
    {
     "name": "stdout",
     "output_type": "stream",
     "text": [
      "The Red Sox today claimed Twins pitcher Matt Fox on waivers, less than a week after Fox made a strong start for Minnesota in his major league debut.\n",
      "similarity: 0.001948703240612243\n",
      "A Deer Lodge man was shot and killed in a weekend hunting accident at a campground southeast of Deer Lodge.\n",
      "similarity: 0.001948703240612243\n",
      "Large-scale power upgrades being eyed for the Red Deer region fail to look at renewable alternatives, says a Red Deer city councillor.\n",
      "similarity: 0.001948703240612243\n",
      "FOX Sports North announced today that Tom Hanneman has joined the FOX Sports North team as main studio host for the regional sports network, covering Minnesota Timberwolves, Twins, Wild and Gopher Hockey.\n",
      "similarity: 0.001948703240612243\n",
      "Jack Bell of the New York Times reported last Thursday that Fox has finally reached an agreement with Comcast to broadcast Fox Soccer Channel in High Definition.\n",
      "similarity: 0.001948703240612243\n",
      "The NFL on Wednesday extended its broadcast agreements with CBS, Fox and NBC through 2022, generating additional billions for team owners and giving NBC a Thanksgiving night game and CBS and Fox additional digital rights, including online streaming.\n",
      "similarity: 0.001948703240612243\n",
      "Things are picking up for actress Megan Fox, who stars in the movie Jonah Hex' and just got engaged to her on again, off again boyfriend Brian Austin Green.\n",
      "similarity: 0.0009743516203061215\n",
      "The body of a rabid fox was found in the Pleasant Point area of the city last week.\n",
      "similarity: 0.0009743516203061215\n",
      "Academy Award nominee Melanie Griffith will be part of the upcoming season of the Fox sitcom ``Raising Hope,'' according to Deadline.com.\n",
      "similarity: 0.0009743516203061215\n",
      "Pat Benatar and Neil Giraldo will be teaming up to ring in the New Year, as the duo will be featured on the All American New Year special on FOX News Channel, airing this New Year's Eve.\n",
      "similarity: 0.0009743516203061215\n"
     ]
    }
   ],
   "source": [
    "top_indices = top_k_indices(query_similarity, k=10).tolist()\n",
    "for idx in top_indices:\n",
    "    print(split_ds['test'][idx]['set'][0])\n",
    "    print(f'similarity: {query_similarity[idx]}')"
   ]
  },
  {
   "cell_type": "markdown",
   "metadata": {
    "collapsed": false,
    "id": "BuRI2JzQpSOS",
    "jupyter": {
     "outputs_hidden": false
    },
    "pycharm": {
     "name": "#%% md\n"
    }
   },
   "source": [
    "<a name='e7'></a>\n",
    "### Exercise 7: Analyzing and improving BOW search results\n",
    "\n",
    "Experiment with different queries (taking into account the nature of the dataset and your insights from the analysis so far).\n",
    "Answer the following questions:\n",
    "- (5p) Does the search perform well? When does it fail? Discuss several examples that are we get an expected but also unexpected results (find at least 3 from each category). Provide reasons for the good/bad result in each case (e.g. is there some error in the data, is there some linguistic phenomenon that we don't capture, is something wrong with our modeling with average embeddings, ...)\n",
    "- (5p) If you see problems with search, how could you improve your implementation? Change the functions above, if you think there is room for improvement. Describe your changes and how they made the search better or (in case you made no changes) explain what made the search robust enough to work well."
   ]
  },
  {
   "cell_type": "code",
   "execution_count": 58,
   "metadata": {
    "ExecuteTime": {
     "end_time": "2025-04-15T12:15:46.424822Z",
     "start_time": "2025-04-15T12:15:45.739301Z"
    },
    "id": "sEQKHAvcpSOS",
    "pycharm": {
     "name": "#%%\n"
    }
   },
   "outputs": [
    {
     "name": "stdout",
     "output_type": "stream",
     "text": [
      "(36000,)\n",
      "[0. 0. 0. 0. 0. 0. 0. 0. 0. 0.]\n",
      "22246\n",
      "0.003182219066405353\n",
      "``Agriculture can potentially be part of the solution to climate change in ways that respect and support the development and food security requirements of developing countries,'' FAO has told a UN working group preparing long-term approaches to climate change mitigation.\n",
      "similarity: 0.003182219066405353\n",
      "``Copenhagen can and must be the turning point in the international fight against climate change -- nothing has changed my confidence in that,'' said Yvo de Boer, Executive Secretary of the UN Framework Convention on Climate Change.\n",
      "similarity: 0.003182219066405353\n",
      "Cancun, Dec 7 Two Indian rag pickers took their protest against loss of livelihood to rubbish-guzzling incinerators to Cancun, seeking a role in the Global Climate Fund as they underlined the importance of recycling to combat rapid climate change.\n",
      "similarity: 0.003182219066405353\n",
      "You know that catchy but really stupid song on the radio that goes, ``Me and my friends, we're all misunderstood ... '' and then the incessant refrain, ``So we keep waiting, waiting on the world to change. Just keep waiting, waiting on the world to change. That's why we're waiting, waiting on the world to change...''\n",
      "similarity: 0.0023866642998040147\n",
      "In this week's readers' Q&A session, James Cameron, vice chairman of Climate Change Capital, answers your questions.\n",
      "similarity: 0.0015911095332026765\n",
      "Properly designed climate change legislation will provide US companies with the certainty they need to innovate, creating new market opportunities and jobs for American workers, DuPont Chair Charles O. Holliday, Jr. told the US Senate Environment and Public Works Committee here today.\n",
      "similarity: 0.0015911095332026765\n",
      "East Antarctica is experiencing a significant climate change, say scientists who claim to have found an increase of ``bomb spikes'' in the area.\n",
      "similarity: 0.0015911095332026765\n",
      "London, Oct 17 Many plants and animals, including polar bears, are shrinking due to the impact of climate change on their natural habitats, say scientists.\n",
      "similarity: 0.0015911095332026765\n",
      "CLIMATE change parliamentary secretary Greg Combet has accused the Greens of ``economic lunacy'' and warned the Liberals against creating havoc for business as the Government increases efforts to save its emissions trading scheme.\n",
      "similarity: 0.0015911095332026765\n",
      "World leaders, including New Zealand's John Key, are supporting a plan to delay a legally binding climate change pact until at least 2010 under a compromise deal for next month's Copenhagen summit.\n",
      "similarity: 0.0015911095332026765\n"
     ]
    }
   ],
   "source": [
    "#### YOUR CODE HERE\n",
    "query = \"climate change protest\"\n",
    "embedded_query = embed_text(query, clean, tokenize, lambda x: bag_of_words(x, token_to_id))\n",
    "query_similarity = cosine_similarity_1_to_n(embedded_query, sentences_bows)\n",
    "print(query_similarity.shape)\n",
    "print(query_similarity[:10])\n",
    "most_similar = int(np.argmax(query_similarity))\n",
    "print(most_similar)\n",
    "print(query_similarity[most_similar])\n",
    "top_indices = top_k_indices(query_similarity, k=10).tolist()\n",
    "\n",
    "for idx in top_indices:\n",
    "    print(split_ds['test'][idx]['set'][0])\n",
    "    print(f'similarity: {query_similarity[idx]}')\n",
    "\n",
    "\n",
    "\n",
    "### YOUR CODE ENDS HERE"
   ]
  },
  {
   "cell_type": "markdown",
   "metadata": {
    "id": "eiIGTfq6eFI5",
    "pycharm": {
     "name": "#%% md\n"
    }
   },
   "source": [
    "ANSWER TO Q7\n",
    "\n",
    "Does the search perform well?\n",
    "it works well when the query contains words that directly appear in the dataset. But it fails in more nuanced or semantically rich queries where word forms or meanings vary\n",
    "When does it fail?\n",
    "shown with examples\n",
    "Examples:\n",
    "    Expected:\n",
    "    Namibia climate change policy - Strong topic match\n",
    "    Copenhagen summit - Closely related to climate action\n",
    "    UN climate conference - Event-related, related to activism contextually\n",
    "    Unexpected:\n",
    "    “Waiting on the world to change” lyric - Irrelevant, semantic mismatch\n",
    "    Sea cucumber study - No protest/action relevance\n",
    "    Scientist death - Climate topic but not action-related\n",
    "Seen problems:\n",
    "    Relying only on exact word matches\n",
    "    No understanding of semantics or synonyms\n",
    "    Sensitivity to common or irrelevant words\n",
    "    Ignoring word forms like “protest” vs “protesting”\n",
    "Future work to robust BOW:\n",
    "    TF-IDF: Words like \"protest\" will get more influence in similarity score, common words like \"change\" stop dominating irrelevant results.\n",
    "    Word2Vec: Greatly improves recall, especially when the right word isn’t used in both query and document.\n",
    "    Lemmatization: Query variations don’t break the search\n",
    "\n"
   ]
  },
  {
   "cell_type": "markdown",
   "metadata": {
    "collapsed": false,
    "jupyter": {
     "outputs_hidden": false
    },
    "pycharm": {
     "name": "#%% md\n"
    }
   },
   "source": [
    "## 3. Term Frequency - Inverse Document Frequency (TF-IDF)\n",
    "\n",
    "In this section we will implement the TF-IDF algorithm. While BOW is a simple way to represent the documents, it has some limitations. For example, it does not take into account the importance of each word in the document. TF-IDF representation takes into account the frequency of each word in the document and the frequency of the word in the whole dataset. It is a widely used technique in information retrieval and text mining. Refer to the lecture slides for more details."
   ]
  },
  {
   "cell_type": "markdown",
   "metadata": {
    "collapsed": false,
    "jupyter": {
     "outputs_hidden": false
    },
    "pycharm": {
     "name": "#%% md\n"
    }
   },
   "source": [
    "<a name='e8'></a>\n",
    "### Exercise 8: Inverse Document Frequency (IDF)\n",
    "(5p) In this exercise, you will implement the TF-IDF algorithm. First, calculate Inverse Document Frequency (IDF) for each word in the vocabulary. Intuitively, it is a measure of how informative a word is based on the whole dataset. Consult the lecture slides for the details. The IDF is calculated as follows:\n",
    "$$\n",
    "IDF(t) = log_{10}(N/df(t))$$\n",
    "where $N$ is the total number of documents (sentences) in the dataset and $df(t)$ is the number of documents containing the word $t$.\n"
   ]
  },
  {
   "cell_type": "code",
   "execution_count": 59,
   "metadata": {
    "ExecuteTime": {
     "end_time": "2025-04-15T12:42:51.231969Z",
     "start_time": "2025-04-15T12:42:50.563526Z"
    },
    "collapsed": false,
    "jupyter": {
     "outputs_hidden": false
    },
    "pycharm": {
     "name": "#%%\n"
    }
   },
   "outputs": [],
   "source": [
    "def calculate_idf(bows):\n",
    "    \"\"\"\n",
    "    Calculates the IDF for each word in the vocabulary\n",
    "    Args:\n",
    "        bows: numpty array of size (N x D) where N is the number of documents and D is the vocabulary size\n",
    "\n",
    "    Returns: a numpy array of size D with IDF values for each token\n",
    "    \"\"\"\n",
    "\n",
    "    ### YOUR CODE HERE\n",
    "    N = bows.shape[0]\n",
    "    df = np.count_nonzero(bows > 0, axis=0)\n",
    "    df[df==0] = 1\n",
    "    return np.log10(N/df)\n",
    "    ### YOUR CODE ENDS HERE\n",
    "\n",
    "idf = calculate_idf(sentences_bows)"
   ]
  },
  {
   "cell_type": "markdown",
   "metadata": {
    "collapsed": false,
    "jupyter": {
     "outputs_hidden": false
    },
    "pycharm": {
     "name": "#%% md\n"
    }
   },
   "source": [
    "<a name='e9'></a>\n",
    "### Exercise 9: TF-IDF\n",
    "- (5p) Calculate TF-IDF on the `test` subset of the dataset.\n",
    "- (5p) Analyze the search results based on your implemented TF-IDF. Does the search perform well? When does it fail? Discuss several examples that are we get an expected but also unexpected results (find at least 3 from each category). Provide reasons for the good/bad result in each case (e.g. is there some error in the data, is there some linguistic phenomenon that we don't capture, is something wrong with our modeling with average embeddings, ...)\n",
    "- (5p) Compare the results with the ones you got with the bag-of-words representation. Discuss the differences and similarities. Do you think TF-IDF is a better representation for this task? Why or why not? Provide examples to support your arguments.\n"
   ]
  },
  {
   "cell_type": "code",
   "execution_count": 60,
   "metadata": {
    "ExecuteTime": {
     "end_time": "2025-04-15T13:03:27.140378Z",
     "start_time": "2025-04-15T13:03:22.652772Z"
    },
    "collapsed": false,
    "jupyter": {
     "outputs_hidden": false
    },
    "pycharm": {
     "name": "#%%\n"
    }
   },
   "outputs": [
    {
     "name": "stdout",
     "output_type": "stream",
     "text": [
      "Query: climate change protest\n"
     ]
    },
    {
     "data": {
      "text/plain": [
       "[('Cancun, Dec 7 Two Indian rag pickers took their protest against loss of livelihood to rubbish-guzzling incinerators to Cancun, seeking a role in the Global Climate Fund as they underlined the importance of recycling to combat rapid climate change.',\n",
       "  0.003336848765812302),\n",
       " (\"``Copenhagen can and must be the turning point in the international fight against climate change -- nothing has changed my confidence in that,'' said Yvo de Boer, Executive Secretary of the UN Framework Convention on Climate Change.\",\n",
       "  0.0032456123218997687),\n",
       " (\"``Agriculture can potentially be part of the solution to climate change in ways that respect and support the development and food security requirements of developing countries,'' FAO has told a UN working group preparing long-term approaches to climate change mitigation.\",\n",
       "  0.0032456123218997687),\n",
       " (\"You know that catchy but really stupid song on the radio that goes, ``Me and my friends, we're all misunderstood ... '' and then the incessant refrain, ``So we keep waiting, waiting on the world to change. Just keep waiting, waiting on the world to change. That's why we're waiting, waiting on the world to change...''\",\n",
       "  0.0020131187021225324),\n",
       " ('A climate change meeting to be addressed by President Jacob Zuma took an unruly turn at the Durban City Hall on Thursday.',\n",
       "  0.0016228061609498844),\n",
       " ('Australia and Indonesia will join forces to help the region cope better with extreme weather being wrought by climate change and other natural disasters.',\n",
       "  0.0016228061609498844),\n",
       " ('Prime Minister Kevin Rudd has touched down in New York for a three-day visit focused on discussions about the global financial crisis and climate change.',\n",
       "  0.0016228061609498844),\n",
       " ('TERI director general Dr RK Pachauri has been reelected by acclamation to a second term as the chairman of the intergovernmental panel on climate change at its plenary session in Geneva on 2 September.',\n",
       "  0.0016228061609498844),\n",
       " ('A major meeting on carbon markets has agreed predictable carbon pricing is needed to direct world investment flows toward an economy that could minimize climate change.',\n",
       "  0.0016228061609498844),\n",
       " ('In a joint statement issued at the conclusion of the fourth meeting of BASIC country Ministers on climate change which was organized in Rio de Janeiro on the 25th and 26th of this month they expressed their concern with the lack of operational guidelines for the provision of such resources and the need for such financing to effectively be new and additional, as well as provided as grants on a concessional basis, respecting the definitions of the UNFCCC and the understandings achieved in Copenhagen.',\n",
       "  0.0016228061609498844)]"
      ]
     },
     "execution_count": 60,
     "metadata": {},
     "output_type": "execute_result"
    }
   ],
   "source": [
    "### YOUR CODE HERE\n",
    "test_bows = np.array([bag_of_words(tokens, token_to_id) for tokens in test_ds['sentence_tokens']])\n",
    "test_tfidf = test_bows * idf\n",
    "\n",
    "def tfidf_search(query, clean_fn, tokenize_fn, token_to_id, idf, tfidf_matrix,  dataset, top_k=10):\n",
    "    cleaned = clean_fn(query)\n",
    "    tokens = tokenize_fn(cleaned)\n",
    "    query_bow = bag_of_words(tokens, token_to_id)\n",
    "    query_tfidf = query_bow * idf\n",
    "    query_tfidf = query_tfidf / np.linalg.norm(query_tfidf)\n",
    "    similarities = cosine_similarity_1_to_n(query_tfidf, tfidf_matrix)\n",
    "    top_indices = np.argsort(similarities)[::-1][:top_k]\n",
    "    return [(dataset['test'][int(i)]['set'][0], similarities[i]) for i in top_indices]\n",
    "\n",
    "print(\"Query: \" + query)\n",
    "tfidf_search(query, clean, tokenize, token_to_id, idf, test_tfidf, split_ds)\n",
    "### YOUR CODE ENDS HERE\n",
    "\n",
    "\n",
    "### YOU CAN ADD MORE CELLS"
   ]
  },
  {
   "cell_type": "markdown",
   "metadata": {
    "collapsed": false,
    "jupyter": {
     "outputs_hidden": false
    },
    "pycharm": {
     "name": "#%% md\n"
    }
   },
   "source": [
    "ANSWER TO Q9\n",
    "\n",
    "We evaluated the TF-IDF search using the query \"climate change protest\". The top results mostly included climate-related articles, showing TF-IDF’s strength in emphasizing rare and informative words. Results such as policy announcements and UN climate conferences were expected and relevant, with strong keyword overlap.\n",
    "However, some results were unexpected — such as song lyrics or general climate science without any connection to protest or activism. These failures stem from TF-IDF’s inability to understand context, semantics, and intent. It relies solely on word overlap and frequency, which can be misleading when generic words like “change” dominate.\n",
    "Overall, TF-IDF performed better than raw BoW by reducing noise and prioritizing meaningful terms. Yet, it still fails in nuanced cases, and could be improved further by incorporating word embeddings, query expansion, or topic modeling."
   ]
  },
  {
   "cell_type": "markdown",
   "metadata": {
    "collapsed": false,
    "jupyter": {
     "outputs_hidden": false
    },
    "pycharm": {
     "name": "#%% md\n"
    }
   },
   "source": [
    "## 4. Word Embeddings\n",
    "\n",
    "In this section you will load the pre-trained word embeddings model - Glove. You can read more about it [here](https://aclanthology.org/D14-1162/) ([https://aclanthology.org/D14-1162/](https://aclanthology.org/D14-1162/)). The embeddings are trained on a large corpus of text and are available in different dimensions. We will start with the dimension of 100, but later you will be asked to experiment with other dimensions.\n",
    "Gensim library maintains a storage containing some pre-trained models. You can read more about it [here](https://github.com/piskvorky/gensim-data) ([https://github.com/piskvorky/gensim-data](https://github.com/piskvorky/gensim-data)). Be sure to read the README of this repository.\n",
    "\n",
    "Let's first load the info of what models are available."
   ]
  },
  {
   "cell_type": "code",
   "execution_count": 61,
   "metadata": {
    "ExecuteTime": {
     "end_time": "2025-04-15T13:11:01.897204Z",
     "start_time": "2025-04-15T13:11:01.808413Z"
    },
    "collapsed": false,
    "jupyter": {
     "outputs_hidden": false
    },
    "pycharm": {
     "name": "#%%\n"
    }
   },
   "outputs": [
    {
     "name": "stdout",
     "output_type": "stream",
     "text": [
      "{\n",
      "  \"fasttext-wiki-news-subwords-300\": {\n",
      "    \"num_records\": 999999,\n",
      "    \"file_size\": 1005007116,\n",
      "    \"base_dataset\": \"Wikipedia 2017, UMBC webbase corpus and statmt.org news dataset (16B tokens)\",\n",
      "    \"reader_code\": \"https://github.com/RaRe-Technologies/gensim-data/releases/download/fasttext-wiki-news-subwords-300/__init__.py\",\n",
      "    \"license\": \"https://creativecommons.org/licenses/by-sa/3.0/\",\n",
      "    \"parameters\": {\n",
      "      \"dimension\": 300\n",
      "    },\n",
      "    \"description\": \"1 million word vectors trained on Wikipedia 2017, UMBC webbase corpus and statmt.org news dataset (16B tokens).\",\n",
      "    \"read_more\": [\n",
      "      \"https://fasttext.cc/docs/en/english-vectors.html\",\n",
      "      \"https://arxiv.org/abs/1712.09405\",\n",
      "      \"https://arxiv.org/abs/1607.01759\"\n",
      "    ],\n",
      "    \"checksum\": \"de2bb3a20c46ce65c9c131e1ad9a77af\",\n",
      "    \"file_name\": \"fasttext-wiki-news-subwords-300.gz\",\n",
      "    \"parts\": 1\n",
      "  },\n",
      "  \"conceptnet-numberbatch-17-06-300\": {\n",
      "    \"num_records\": 1917247,\n",
      "    \"file_size\": 1225497562,\n",
      "    \"base_dataset\": \"ConceptNet, word2vec, GloVe, and OpenSubtitles 2016\",\n",
      "    \"reader_code\": \"https://github.com/RaRe-Technologies/gensim-data/releases/download/conceptnet-numberbatch-17-06-300/__init__.py\",\n",
      "    \"license\": \"https://github.com/commonsense/conceptnet-numberbatch/blob/master/LICENSE.txt\",\n",
      "    \"parameters\": {\n",
      "      \"dimension\": 300\n",
      "    },\n",
      "    \"description\": \"ConceptNet Numberbatch consists of state-of-the-art semantic vectors (also known as word embeddings) that can be used directly as a representation of word meanings or as a starting point for further machine learning. ConceptNet Numberbatch is part of the ConceptNet open data project. ConceptNet provides lots of ways to compute with word meanings, one of which is word embeddings. ConceptNet Numberbatch is a snapshot of just the word embeddings. It is built using an ensemble that combines data from ConceptNet, word2vec, GloVe, and OpenSubtitles 2016, using a variation on retrofitting.\",\n",
      "    \"read_more\": [\n",
      "      \"http://aaai.org/ocs/index.php/AAAI/AAAI17/paper/view/14972\",\n",
      "      \"https://github.com/commonsense/conceptnet-numberbatch\",\n",
      "      \"http://conceptnet.io/\"\n",
      "    ],\n",
      "    \"checksum\": \"fd642d457adcd0ea94da0cd21b150847\",\n",
      "    \"file_name\": \"conceptnet-numberbatch-17-06-300.gz\",\n",
      "    \"parts\": 1\n",
      "  },\n",
      "  \"word2vec-ruscorpora-300\": {\n",
      "    \"num_records\": 184973,\n",
      "    \"file_size\": 208427381,\n",
      "    \"base_dataset\": \"Russian National Corpus (about 250M words)\",\n",
      "    \"reader_code\": \"https://github.com/RaRe-Technologies/gensim-data/releases/download/word2vec-ruscorpora-300/__init__.py\",\n",
      "    \"license\": \"https://creativecommons.org/licenses/by/4.0/deed.en\",\n",
      "    \"parameters\": {\n",
      "      \"dimension\": 300,\n",
      "      \"window_size\": 10\n",
      "    },\n",
      "    \"description\": \"Word2vec Continuous Skipgram vectors trained on full Russian National Corpus (about 250M words). The model contains 185K words.\",\n",
      "    \"preprocessing\": \"The corpus was lemmatized and tagged with Universal PoS\",\n",
      "    \"read_more\": [\n",
      "      \"https://www.academia.edu/24306935/WebVectors_a_Toolkit_for_Building_Web_Interfaces_for_Vector_Semantic_Models\",\n",
      "      \"http://rusvectores.org/en/\",\n",
      "      \"https://github.com/RaRe-Technologies/gensim-data/issues/3\"\n",
      "    ],\n",
      "    \"checksum\": \"9bdebdc8ae6d17d20839dd9b5af10bc4\",\n",
      "    \"file_name\": \"word2vec-ruscorpora-300.gz\",\n",
      "    \"parts\": 1\n",
      "  },\n",
      "  \"word2vec-google-news-300\": {\n",
      "    \"num_records\": 3000000,\n",
      "    \"file_size\": 1743563840,\n",
      "    \"base_dataset\": \"Google News (about 100 billion words)\",\n",
      "    \"reader_code\": \"https://github.com/RaRe-Technologies/gensim-data/releases/download/word2vec-google-news-300/__init__.py\",\n",
      "    \"license\": \"not found\",\n",
      "    \"parameters\": {\n",
      "      \"dimension\": 300\n",
      "    },\n",
      "    \"description\": \"Pre-trained vectors trained on a part of the Google News dataset (about 100 billion words). The model contains 300-dimensional vectors for 3 million words and phrases. The phrases were obtained using a simple data-driven approach described in 'Distributed Representations of Words and Phrases and their Compositionality' (https://code.google.com/archive/p/word2vec/).\",\n",
      "    \"read_more\": [\n",
      "      \"https://code.google.com/archive/p/word2vec/\",\n",
      "      \"https://arxiv.org/abs/1301.3781\",\n",
      "      \"https://arxiv.org/abs/1310.4546\",\n",
      "      \"https://www.microsoft.com/en-us/research/publication/linguistic-regularities-in-continuous-space-word-representations/?from=http%3A%2F%2Fresearch.microsoft.com%2Fpubs%2F189726%2Frvecs.pdf\"\n",
      "    ],\n",
      "    \"checksum\": \"a5e5354d40acb95f9ec66d5977d140ef\",\n",
      "    \"file_name\": \"word2vec-google-news-300.gz\",\n",
      "    \"parts\": 1\n",
      "  },\n",
      "  \"glove-wiki-gigaword-50\": {\n",
      "    \"num_records\": 400000,\n",
      "    \"file_size\": 69182535,\n",
      "    \"base_dataset\": \"Wikipedia 2014 + Gigaword 5 (6B tokens, uncased)\",\n",
      "    \"reader_code\": \"https://github.com/RaRe-Technologies/gensim-data/releases/download/glove-wiki-gigaword-50/__init__.py\",\n",
      "    \"license\": \"http://opendatacommons.org/licenses/pddl/\",\n",
      "    \"parameters\": {\n",
      "      \"dimension\": 50\n",
      "    },\n",
      "    \"description\": \"Pre-trained vectors based on Wikipedia 2014 + Gigaword, 5.6B tokens, 400K vocab, uncased (https://nlp.stanford.edu/projects/glove/).\",\n",
      "    \"preprocessing\": \"Converted to w2v format with `python -m gensim.scripts.glove2word2vec -i <fname> -o glove-wiki-gigaword-50.txt`.\",\n",
      "    \"read_more\": [\n",
      "      \"https://nlp.stanford.edu/projects/glove/\",\n",
      "      \"https://nlp.stanford.edu/pubs/glove.pdf\"\n",
      "    ],\n",
      "    \"checksum\": \"c289bc5d7f2f02c6dc9f2f9b67641813\",\n",
      "    \"file_name\": \"glove-wiki-gigaword-50.gz\",\n",
      "    \"parts\": 1\n",
      "  },\n",
      "  \"glove-wiki-gigaword-100\": {\n",
      "    \"num_records\": 400000,\n",
      "    \"file_size\": 134300434,\n",
      "    \"base_dataset\": \"Wikipedia 2014 + Gigaword 5 (6B tokens, uncased)\",\n",
      "    \"reader_code\": \"https://github.com/RaRe-Technologies/gensim-data/releases/download/glove-wiki-gigaword-100/__init__.py\",\n",
      "    \"license\": \"http://opendatacommons.org/licenses/pddl/\",\n",
      "    \"parameters\": {\n",
      "      \"dimension\": 100\n",
      "    },\n",
      "    \"description\": \"Pre-trained vectors based on Wikipedia 2014 + Gigaword 5.6B tokens, 400K vocab, uncased (https://nlp.stanford.edu/projects/glove/).\",\n",
      "    \"preprocessing\": \"Converted to w2v format with `python -m gensim.scripts.glove2word2vec -i <fname> -o glove-wiki-gigaword-100.txt`.\",\n",
      "    \"read_more\": [\n",
      "      \"https://nlp.stanford.edu/projects/glove/\",\n",
      "      \"https://nlp.stanford.edu/pubs/glove.pdf\"\n",
      "    ],\n",
      "    \"checksum\": \"40ec481866001177b8cd4cb0df92924f\",\n",
      "    \"file_name\": \"glove-wiki-gigaword-100.gz\",\n",
      "    \"parts\": 1\n",
      "  },\n",
      "  \"glove-wiki-gigaword-200\": {\n",
      "    \"num_records\": 400000,\n",
      "    \"file_size\": 264336934,\n",
      "    \"base_dataset\": \"Wikipedia 2014 + Gigaword 5 (6B tokens, uncased)\",\n",
      "    \"reader_code\": \"https://github.com/RaRe-Technologies/gensim-data/releases/download/glove-wiki-gigaword-200/__init__.py\",\n",
      "    \"license\": \"http://opendatacommons.org/licenses/pddl/\",\n",
      "    \"parameters\": {\n",
      "      \"dimension\": 200\n",
      "    },\n",
      "    \"description\": \"Pre-trained vectors based on Wikipedia 2014 + Gigaword, 5.6B tokens, 400K vocab, uncased (https://nlp.stanford.edu/projects/glove/).\",\n",
      "    \"preprocessing\": \"Converted to w2v format with `python -m gensim.scripts.glove2word2vec -i <fname> -o glove-wiki-gigaword-200.txt`.\",\n",
      "    \"read_more\": [\n",
      "      \"https://nlp.stanford.edu/projects/glove/\",\n",
      "      \"https://nlp.stanford.edu/pubs/glove.pdf\"\n",
      "    ],\n",
      "    \"checksum\": \"59652db361b7a87ee73834a6c391dfc1\",\n",
      "    \"file_name\": \"glove-wiki-gigaword-200.gz\",\n",
      "    \"parts\": 1\n",
      "  },\n",
      "  \"glove-wiki-gigaword-300\": {\n",
      "    \"num_records\": 400000,\n",
      "    \"file_size\": 394362229,\n",
      "    \"base_dataset\": \"Wikipedia 2014 + Gigaword 5 (6B tokens, uncased)\",\n",
      "    \"reader_code\": \"https://github.com/RaRe-Technologies/gensim-data/releases/download/glove-wiki-gigaword-300/__init__.py\",\n",
      "    \"license\": \"http://opendatacommons.org/licenses/pddl/\",\n",
      "    \"parameters\": {\n",
      "      \"dimension\": 300\n",
      "    },\n",
      "    \"description\": \"Pre-trained vectors based on Wikipedia 2014 + Gigaword, 5.6B tokens, 400K vocab, uncased (https://nlp.stanford.edu/projects/glove/).\",\n",
      "    \"preprocessing\": \"Converted to w2v format with `python -m gensim.scripts.glove2word2vec -i <fname> -o glove-wiki-gigaword-300.txt`.\",\n",
      "    \"read_more\": [\n",
      "      \"https://nlp.stanford.edu/projects/glove/\",\n",
      "      \"https://nlp.stanford.edu/pubs/glove.pdf\"\n",
      "    ],\n",
      "    \"checksum\": \"29e9329ac2241937d55b852e8284e89b\",\n",
      "    \"file_name\": \"glove-wiki-gigaword-300.gz\",\n",
      "    \"parts\": 1\n",
      "  },\n",
      "  \"glove-twitter-25\": {\n",
      "    \"num_records\": 1193514,\n",
      "    \"file_size\": 109885004,\n",
      "    \"base_dataset\": \"Twitter (2B tweets, 27B tokens, 1.2M vocab, uncased)\",\n",
      "    \"reader_code\": \"https://github.com/RaRe-Technologies/gensim-data/releases/download/glove-twitter-25/__init__.py\",\n",
      "    \"license\": \"http://opendatacommons.org/licenses/pddl/\",\n",
      "    \"parameters\": {\n",
      "      \"dimension\": 25\n",
      "    },\n",
      "    \"description\": \"Pre-trained vectors based on 2B tweets, 27B tokens, 1.2M vocab, uncased (https://nlp.stanford.edu/projects/glove/).\",\n",
      "    \"preprocessing\": \"Converted to w2v format with `python -m gensim.scripts.glove2word2vec -i <fname> -o glove-twitter-25.txt`.\",\n",
      "    \"read_more\": [\n",
      "      \"https://nlp.stanford.edu/projects/glove/\",\n",
      "      \"https://nlp.stanford.edu/pubs/glove.pdf\"\n",
      "    ],\n",
      "    \"checksum\": \"50db0211d7e7a2dcd362c6b774762793\",\n",
      "    \"file_name\": \"glove-twitter-25.gz\",\n",
      "    \"parts\": 1\n",
      "  },\n",
      "  \"glove-twitter-50\": {\n",
      "    \"num_records\": 1193514,\n",
      "    \"file_size\": 209216938,\n",
      "    \"base_dataset\": \"Twitter (2B tweets, 27B tokens, 1.2M vocab, uncased)\",\n",
      "    \"reader_code\": \"https://github.com/RaRe-Technologies/gensim-data/releases/download/glove-twitter-50/__init__.py\",\n",
      "    \"license\": \"http://opendatacommons.org/licenses/pddl/\",\n",
      "    \"parameters\": {\n",
      "      \"dimension\": 50\n",
      "    },\n",
      "    \"description\": \"Pre-trained vectors based on 2B tweets, 27B tokens, 1.2M vocab, uncased (https://nlp.stanford.edu/projects/glove/)\",\n",
      "    \"preprocessing\": \"Converted to w2v format with `python -m gensim.scripts.glove2word2vec -i <fname> -o glove-twitter-50.txt`.\",\n",
      "    \"read_more\": [\n",
      "      \"https://nlp.stanford.edu/projects/glove/\",\n",
      "      \"https://nlp.stanford.edu/pubs/glove.pdf\"\n",
      "    ],\n",
      "    \"checksum\": \"c168f18641f8c8a00fe30984c4799b2b\",\n",
      "    \"file_name\": \"glove-twitter-50.gz\",\n",
      "    \"parts\": 1\n",
      "  },\n",
      "  \"glove-twitter-100\": {\n",
      "    \"num_records\": 1193514,\n",
      "    \"file_size\": 405932991,\n",
      "    \"base_dataset\": \"Twitter (2B tweets, 27B tokens, 1.2M vocab, uncased)\",\n",
      "    \"reader_code\": \"https://github.com/RaRe-Technologies/gensim-data/releases/download/glove-twitter-100/__init__.py\",\n",
      "    \"license\": \"http://opendatacommons.org/licenses/pddl/\",\n",
      "    \"parameters\": {\n",
      "      \"dimension\": 100\n",
      "    },\n",
      "    \"description\": \"Pre-trained vectors based on  2B tweets, 27B tokens, 1.2M vocab, uncased (https://nlp.stanford.edu/projects/glove/)\",\n",
      "    \"preprocessing\": \"Converted to w2v format with `python -m gensim.scripts.glove2word2vec -i <fname> -o glove-twitter-100.txt`.\",\n",
      "    \"read_more\": [\n",
      "      \"https://nlp.stanford.edu/projects/glove/\",\n",
      "      \"https://nlp.stanford.edu/pubs/glove.pdf\"\n",
      "    ],\n",
      "    \"checksum\": \"b04f7bed38756d64cf55b58ce7e97b15\",\n",
      "    \"file_name\": \"glove-twitter-100.gz\",\n",
      "    \"parts\": 1\n",
      "  },\n",
      "  \"glove-twitter-200\": {\n",
      "    \"num_records\": 1193514,\n",
      "    \"file_size\": 795373100,\n",
      "    \"base_dataset\": \"Twitter (2B tweets, 27B tokens, 1.2M vocab, uncased)\",\n",
      "    \"reader_code\": \"https://github.com/RaRe-Technologies/gensim-data/releases/download/glove-twitter-200/__init__.py\",\n",
      "    \"license\": \"http://opendatacommons.org/licenses/pddl/\",\n",
      "    \"parameters\": {\n",
      "      \"dimension\": 200\n",
      "    },\n",
      "    \"description\": \"Pre-trained vectors based on 2B tweets, 27B tokens, 1.2M vocab, uncased (https://nlp.stanford.edu/projects/glove/).\",\n",
      "    \"preprocessing\": \"Converted to w2v format with `python -m gensim.scripts.glove2word2vec -i <fname> -o glove-twitter-200.txt`.\",\n",
      "    \"read_more\": [\n",
      "      \"https://nlp.stanford.edu/projects/glove/\",\n",
      "      \"https://nlp.stanford.edu/pubs/glove.pdf\"\n",
      "    ],\n",
      "    \"checksum\": \"e52e8392d1860b95d5308a525817d8f9\",\n",
      "    \"file_name\": \"glove-twitter-200.gz\",\n",
      "    \"parts\": 1\n",
      "  },\n",
      "  \"__testing_word2vec-matrix-synopsis\": {\n",
      "    \"description\": \"[THIS IS ONLY FOR TESTING] Word vecrors of the movie matrix.\",\n",
      "    \"parameters\": {\n",
      "      \"dimensions\": 50\n",
      "    },\n",
      "    \"preprocessing\": \"Converted to w2v using a preprocessed corpus. Converted to w2v format with `python3.5 -m gensim.models.word2vec -train <input_filename> -iter 50 -output <output_filename>`.\",\n",
      "    \"read_more\": [],\n",
      "    \"checksum\": \"534dcb8b56a360977a269b7bfc62d124\",\n",
      "    \"file_name\": \"__testing_word2vec-matrix-synopsis.gz\",\n",
      "    \"parts\": 1\n",
      "  }\n",
      "}\n"
     ]
    }
   ],
   "source": [
    "import json\n",
    "import gensim.downloader as api\n",
    "\n",
    "info = api.info()  # show info about available models/datasets\n",
    "print(json.dumps(info['models'], indent=2))"
   ]
  },
  {
   "cell_type": "code",
   "execution_count": 62,
   "metadata": {
    "ExecuteTime": {
     "end_time": "2025-04-15T13:11:35.531804Z",
     "start_time": "2025-04-15T13:11:22.974674Z"
    },
    "collapsed": false,
    "jupyter": {
     "outputs_hidden": false
    },
    "pycharm": {
     "name": "#%%\n"
    }
   },
   "outputs": [
    {
     "name": "stdout",
     "output_type": "stream",
     "text": [
      "[==================================================] 100.0% 128.1/128.1MB downloaded\n"
     ]
    }
   ],
   "source": [
    "glove_model = api.load(\"glove-wiki-gigaword-100\")"
   ]
  },
  {
   "cell_type": "markdown",
   "metadata": {
    "collapsed": false,
    "jupyter": {
     "outputs_hidden": false
    },
    "pycharm": {
     "name": "#%% md\n"
    }
   },
   "source": [
    "We can use the loaded model's `key_to_index` attribute to retrieve the whole vocabulary (aka for how many words we learned embeddings for)."
   ]
  },
  {
   "cell_type": "code",
   "execution_count": 63,
   "metadata": {
    "ExecuteTime": {
     "end_time": "2025-04-15T13:12:18.875205Z",
     "start_time": "2025-04-15T13:12:18.869266Z"
    },
    "collapsed": false,
    "jupyter": {
     "outputs_hidden": false
    },
    "pycharm": {
     "name": "#%%\n"
    }
   },
   "outputs": [
    {
     "name": "stdout",
     "output_type": "stream",
     "text": [
      "400000\n"
     ]
    }
   ],
   "source": [
    "vocab = list(glove_model.key_to_index)\n",
    "print(len(vocab))"
   ]
  },
  {
   "cell_type": "markdown",
   "metadata": {
    "collapsed": false,
    "jupyter": {
     "outputs_hidden": false
    },
    "pycharm": {
     "name": "#%% md\n"
    }
   },
   "source": [
    "Let's explore a bit further the embeddings. In the following cells, the embedding of a single word is returned. Double-check the dimensions (as sanity check). This is like inspecting the `W` matrix (weights) that we discussed in the lecture."
   ]
  },
  {
   "cell_type": "code",
   "execution_count": 64,
   "metadata": {
    "ExecuteTime": {
     "end_time": "2025-04-15T13:15:19.121947Z",
     "start_time": "2025-04-15T13:15:19.118894Z"
    },
    "collapsed": false,
    "jupyter": {
     "outputs_hidden": false
    },
    "pycharm": {
     "name": "#%%\n"
    }
   },
   "outputs": [
    {
     "name": "stdout",
     "output_type": "stream",
     "text": [
      "[-1.5180e-01  3.8409e-01  8.9340e-01 -4.2421e-01 -9.2161e-01  3.7988e-02\n",
      " -3.2026e-01  3.4119e-03  2.2101e-01 -2.2045e-01  1.6661e-01  2.1956e-01\n",
      "  2.5325e-01 -2.9267e-01  1.0171e-01 -7.5491e-02 -6.0406e-02  2.8194e-01\n",
      " -5.8519e-01  4.8271e-01  1.7504e-02 -1.2086e-01 -1.0990e-01 -6.9554e-01\n",
      "  1.5600e-01  7.0558e-02 -1.5058e-01 -8.1811e-01 -1.8535e-01 -3.6863e-01\n",
      "  3.1650e-02  7.6616e-01  8.4041e-02  2.6928e-03 -2.7440e-01  2.1815e-01\n",
      " -3.5157e-02  3.2569e-01  1.0032e-01 -6.0932e-01 -7.0316e-01  1.8299e-01\n",
      "  3.3134e-01 -1.2416e-01 -9.0542e-01 -3.9157e-02  4.4719e-01 -5.7338e-01\n",
      " -4.0172e-01 -8.2234e-01  5.5740e-01  1.5101e-01  2.4598e-01  1.0113e+00\n",
      " -4.6626e-01 -2.7133e+00  4.3273e-01 -1.6314e-01  1.5828e+00  5.5081e-01\n",
      " -2.4738e-01  1.4184e+00 -1.6867e-02 -1.9368e-01  1.0090e+00 -5.9864e-02\n",
      "  9.1853e-01  4.3022e-01 -2.0624e-01  7.6127e-02  2.1595e-01 -2.6834e-01\n",
      " -3.3342e-01 -3.7151e-01  4.5197e-01 -8.2460e-02  3.2984e-01 -5.7376e-01\n",
      " -1.3042e+00  2.7121e-01  6.6277e-01 -7.9626e-02 -7.9167e-01 -5.3662e-03\n",
      " -1.7916e+00 -3.3298e-01 -3.0698e-01 -3.3980e-01 -5.5618e-01 -6.9471e-01\n",
      "  2.7427e-01 -2.1898e-01 -2.6714e-01  2.2561e-03 -5.0178e-01 -3.2775e-01\n",
      " -4.5670e-01 -2.7123e-01  2.2157e-01  9.2112e-01]\n"
     ]
    },
    {
     "data": {
      "text/plain": [
       "(100,)"
      ]
     },
     "execution_count": 64,
     "metadata": {},
     "output_type": "execute_result"
    }
   ],
   "source": [
    "# vector of a particular model. note that it is 100 dimensional as specified.\n",
    "print(glove_model['what'])\n",
    "glove_model['what'].shape"
   ]
  },
  {
   "cell_type": "markdown",
   "metadata": {
    "collapsed": false,
    "jupyter": {
     "outputs_hidden": false
    },
    "pycharm": {
     "name": "#%% md\n"
    }
   },
   "source": [
    "Gensim objects offers different methods to easily run very common tasks. For example, there are different functions to find the most similar words.\n",
    "\n",
    "Check the documentation on how [`most_similar`](https://tedboy.github.io/nlps/generated/generated/gensim.models.Word2Vec.most_similar.html) and [`similar_by_word`](https://tedboy.github.io/nlps/generated/generated/gensim.models.Word2Vec.similar_by_word.html) can be used."
   ]
  },
  {
   "cell_type": "code",
   "execution_count": 65,
   "metadata": {
    "ExecuteTime": {
     "end_time": "2025-04-15T13:15:46.980046Z",
     "start_time": "2025-04-15T13:15:46.864872Z"
    },
    "collapsed": false,
    "jupyter": {
     "outputs_hidden": false
    },
    "pycharm": {
     "name": "#%%\n"
    }
   },
   "outputs": [
    {
     "name": "stdout",
     "output_type": "stream",
     "text": [
      "[('how', 0.9303215742111206), ('why', 0.9196363091468811), ('fact', 0.906943678855896), ('know', 0.8876389265060425), ('that', 0.8810365796089172), ('think', 0.8772969841957092), ('so', 0.8753098249435425), ('even', 0.8751895427703857), ('something', 0.874744176864624), ('if', 0.8702542781829834)]\n",
      "[('play', 0.6266524791717529), ('missed', 0.608065128326416), ('she', 0.596325695514679), ('chance', 0.5839369297027588), ('tournament', 0.572258710861206)]\n"
     ]
    }
   ],
   "source": [
    "# most similar words to a given word\n",
    "print(glove_model.most_similar('what', topn=10))\n",
    "\n",
    "# also u can use\n",
    "print(glove_model.similar_by_word('miss', topn=5))"
   ]
  },
  {
   "cell_type": "code",
   "execution_count": 66,
   "metadata": {
    "ExecuteTime": {
     "end_time": "2025-04-15T13:16:22.383352Z",
     "start_time": "2025-04-15T13:16:22.361398Z"
    },
    "collapsed": false,
    "jupyter": {
     "outputs_hidden": false
    },
    "pycharm": {
     "name": "#%%\n"
    }
   },
   "outputs": [
    {
     "name": "stdout",
     "output_type": "stream",
     "text": [
      "[('know', 0.944094181060791), ('what', 0.9196362495422363), ('think', 0.9086559414863586), ('how', 0.9020735621452332), ('tell', 0.8923122882843018), (\"n't\", 0.8890628814697266), ('sure', 0.8870969414710999), ('thought', 0.8747684955596924), ('believe', 0.8745115399360657), ('say', 0.8730075359344482)]\n"
     ]
    }
   ],
   "source": [
    "print(glove_model.most_similar('why', topn=10))"
   ]
  },
  {
   "cell_type": "code",
   "execution_count": 67,
   "metadata": {
    "ExecuteTime": {
     "end_time": "2025-04-15T13:16:36.958423Z",
     "start_time": "2025-04-15T13:16:36.931862Z"
    },
    "collapsed": false,
    "jupyter": {
     "outputs_hidden": false
    },
    "pycharm": {
     "name": "#%%\n"
    }
   },
   "outputs": [
    {
     "name": "stdout",
     "output_type": "stream",
     "text": [
      "[('whom', 0.8642492890357971), ('he', 0.8201969861984253), ('whose', 0.8143677711486816), ('had', 0.8035843968391418), ('others', 0.7708418965339661)]\n"
     ]
    }
   ],
   "source": [
    "print(glove_model.similar_by_word('who', topn=5))"
   ]
  },
  {
   "cell_type": "markdown",
   "metadata": {
    "collapsed": false,
    "jupyter": {
     "outputs_hidden": false
    },
    "pycharm": {
     "name": "#%% md\n"
    }
   },
   "source": [
    "We can now compare our implementation with the one in the pre-trained model and confirm what we already expected."
   ]
  },
  {
   "cell_type": "code",
   "execution_count": 68,
   "metadata": {
    "ExecuteTime": {
     "end_time": "2025-04-15T13:23:42.048073Z",
     "start_time": "2025-04-15T13:23:42.045458Z"
    },
    "collapsed": false,
    "jupyter": {
     "outputs_hidden": false
    },
    "pycharm": {
     "name": "#%%\n"
    }
   },
   "outputs": [
    {
     "name": "stdout",
     "output_type": "stream",
     "text": [
      "0.15712576\n",
      "0.15712577\n"
     ]
    }
   ],
   "source": [
    "# simalarity between two words\n",
    "word1 = 'alive'\n",
    "word2 = 'biology'\n",
    "print(glove_model.similarity(word1, word2))\n",
    "print(cosine_similarity(glove_model[word1], glove_model[word2]))"
   ]
  },
  {
   "cell_type": "code",
   "execution_count": 69,
   "metadata": {
    "ExecuteTime": {
     "end_time": "2025-04-15T13:24:34.388789Z",
     "start_time": "2025-04-15T13:24:34.386394Z"
    },
    "collapsed": false,
    "jupyter": {
     "outputs_hidden": false
    },
    "pycharm": {
     "name": "#%%\n"
    }
   },
   "outputs": [
    {
     "name": "stdout",
     "output_type": "stream",
     "text": [
      "0.6400605\n",
      "0.6400605\n"
     ]
    }
   ],
   "source": [
    "# simalarity between two words. similar words\n",
    "word1 = 'alive'\n",
    "word2 = 'life'\n",
    "print(glove_model.similarity(word1, word2))\n",
    "print(cosine_similarity(glove_model[word1], glove_model[word2]))"
   ]
  },
  {
   "cell_type": "code",
   "execution_count": 70,
   "metadata": {
    "ExecuteTime": {
     "end_time": "2025-04-15T13:24:50.734370Z",
     "start_time": "2025-04-15T13:24:50.732011Z"
    },
    "collapsed": false,
    "jupyter": {
     "outputs_hidden": false
    },
    "pycharm": {
     "name": "#%%\n"
    }
   },
   "outputs": [
    {
     "name": "stdout",
     "output_type": "stream",
     "text": [
      "0.7103517\n",
      "0.71035177\n"
     ]
    }
   ],
   "source": [
    "# simalarity between two words. dissimilar words\n",
    "word1 = 'alive'\n",
    "word2 = 'dead'\n",
    "print(glove_model.similarity(word1, word2))\n",
    "print(cosine_similarity(glove_model[word1], glove_model[word2]))"
   ]
  },
  {
   "cell_type": "code",
   "execution_count": 71,
   "metadata": {
    "ExecuteTime": {
     "end_time": "2025-04-15T13:25:03.936737Z",
     "start_time": "2025-04-15T13:25:03.934473Z"
    },
    "collapsed": false,
    "jupyter": {
     "outputs_hidden": false
    },
    "pycharm": {
     "name": "#%%\n"
    }
   },
   "outputs": [
    {
     "name": "stdout",
     "output_type": "stream",
     "text": [
      "0.34625494\n",
      "0.34625497\n"
     ]
    }
   ],
   "source": [
    "# simalarity between two words. unrelated words\n",
    "word1 = 'alive'\n",
    "word2 = 'horse'\n",
    "print(glove_model.similarity(word1, word2))\n",
    "print(cosine_similarity(glove_model[word1], glove_model[word2]))"
   ]
  },
  {
   "cell_type": "code",
   "execution_count": 72,
   "metadata": {
    "ExecuteTime": {
     "end_time": "2025-04-15T13:25:17.137028Z",
     "start_time": "2025-04-15T13:25:17.134620Z"
    },
    "collapsed": false,
    "jupyter": {
     "outputs_hidden": false
    },
    "pycharm": {
     "name": "#%%\n"
    }
   },
   "outputs": [
    {
     "name": "stdout",
     "output_type": "stream",
     "text": [
      "1.0\n",
      "1.0000001\n"
     ]
    }
   ],
   "source": [
    "# simalarity between two SAME words\n",
    "glove_model.similarity('equal', 'equal')\n",
    "word1 = 'equal'\n",
    "word2 = 'equal'\n",
    "print(glove_model.similarity(word1, word2))\n",
    "print(cosine_similarity(glove_model[word1], glove_model[word2]))"
   ]
  },
  {
   "cell_type": "markdown",
   "metadata": {
    "collapsed": false,
    "jupyter": {
     "outputs_hidden": false
    },
    "pycharm": {
     "name": "#%% md\n"
    }
   },
   "source": [
    "The next function contains the code to plot a similarity matrix between multiple words (e.g. if we want to compare 10 words and their pair-wise similarities). It requires a matrix with similarities (as input) and labels (aka the words) to display in the final figure."
   ]
  },
  {
   "cell_type": "code",
   "execution_count": 73,
   "metadata": {
    "ExecuteTime": {
     "end_time": "2025-04-15T13:25:54.248065Z",
     "start_time": "2025-04-15T13:25:54.245075Z"
    },
    "collapsed": false,
    "jupyter": {
     "outputs_hidden": false
    },
    "pycharm": {
     "name": "#%%\n"
    }
   },
   "outputs": [],
   "source": [
    "def plot_similarity_matrix(matrix, labels):\n",
    "    \"\"\"\n",
    "    Displays a plot of the `matrix` of size (N x N) with the labels specified as a list of size N\n",
    "    Args:\n",
    "        matrix: a square-sized (N x N) numpy array\n",
    "        labels: a list of strings of hte size N\n",
    "    \"\"\"\n",
    "\n",
    "    fig, ax = plt.subplots()\n",
    "    im = ax.imshow(matrix)\n",
    "\n",
    "    # Show all ticks and label them with the respective list entries\n",
    "    ax.set_xticks(np.arange(len(labels)), labels=labels)\n",
    "    ax.set_yticks(np.arange(len(labels)), labels=labels)\n",
    "\n",
    "    # Rotate the tick labels and set their alignment.\n",
    "    plt.setp(ax.get_xticklabels(), rotation=45, ha=\"right\",\n",
    "             rotation_mode=\"anchor\")\n",
    "\n",
    "    # Loop over data dimensions and create text annotations.\n",
    "    for i in range(len(labels)):\n",
    "        for j in range(len(labels)):\n",
    "            text = ax.text(j, i, f'{matrix[i, j]:.2f}',\n",
    "                           ha=\"center\", va=\"center\", color=\"w\")\n",
    "\n",
    "    # ax.set_title(\"Give a title if you want\")\n",
    "    fig.tight_layout()\n",
    "    plt.show()"
   ]
  },
  {
   "cell_type": "markdown",
   "metadata": {
    "collapsed": false,
    "jupyter": {
     "outputs_hidden": false
    },
    "pycharm": {
     "name": "#%% md\n"
    }
   },
   "source": [
    "<a name='e10'></a>\n",
    "### Exercise 10: Plotting similarities between words\n",
    "\n",
    "(10p) In the following, we will explore some properties of word embeddings through some examples. We will use 6 example words for this purpose but experiment with other set of words as well. Fill in the next cell to create a similarity matrix between a list of words.\n",
    "\n",
    "Experiment with different words and their similarities plotted. Try at least 3 different sets of words of at least 6 words each. Use the `plot_similarity_matrix` function to visualize the results.\n",
    "Comment on the results. Do they make sense? Why some words are closer to each other than others? What does it mean?"
   ]
  },
  {
   "cell_type": "code",
   "execution_count": 74,
   "metadata": {
    "ExecuteTime": {
     "end_time": "2025-04-15T13:38:44.948468Z",
     "start_time": "2025-04-15T13:38:44.752926Z"
    },
    "collapsed": false,
    "jupyter": {
     "outputs_hidden": false
    },
    "pycharm": {
     "name": "#%%\n"
    }
   },
   "outputs": [
    {
     "data": {
      "image/png": "[encoded data removed]",
      "text/plain": [
       "<Figure size 640x480 with 1 Axes>"
      ]
     },
     "metadata": {},
     "output_type": "display_data"
    },
    {
     "data": {
      "image/png": "[encoded data removed]",
      "text/plain": [
       "<Figure size 640x480 with 1 Axes>"
      ]
     },
     "metadata": {},
     "output_type": "display_data"
    },
    {
     "data": {
      "image/png": "[encoded data removed]",
      "text/plain": [
       "<Figure size 640x480 with 1 Axes>"
      ]
     },
     "metadata": {},
     "output_type": "display_data"
    }
   ],
   "source": [
    "list_of_words1 = ['love', 'hate', 'life', 'equal', 'alive', 'dead']\n",
    "list_of_words2 = ['happy', 'sad', 'joy', 'anger', 'smile', 'cry']\n",
    "list_of_words3 = ['dog', 'cat', 'tiger', 'lion', 'fish', 'apple']\n",
    "\n",
    "similarity_matrix1 = np.zeros((len(list_of_words1), len(list_of_words1)), dtype=float)\n",
    "similarity_matrix2 = np.zeros((len(list_of_words2), len(list_of_words2)), dtype=float)\n",
    "similarity_matrix3 = np.zeros((len(list_of_words3), len(list_of_words3)), dtype=float)\n",
    "\n",
    "### YOUR CODE HERE\n",
    "def fill_matrix(similarity_matrix,list_of_words):\n",
    "    for i in range(len(list_of_words)):\n",
    "        for j in range(len(list_of_words)):\n",
    "            try:\n",
    "                similarity_matrix[i, j] = glove_model.similarity(list_of_words[i], list_of_words[j])\n",
    "            except KeyError:\n",
    "                similarity_matrix[i, j] = 0.0\n",
    "\n",
    "fill_matrix(similarity_matrix1, list_of_words1)\n",
    "fill_matrix(similarity_matrix2, list_of_words2)\n",
    "fill_matrix(similarity_matrix3, list_of_words3)\n",
    "### YOUR CODE ENDS HERE\n",
    "\n",
    "\n",
    "plot_similarity_matrix(similarity_matrix1, list_of_words1)\n",
    "plot_similarity_matrix(similarity_matrix2, list_of_words2)\n",
    "plot_similarity_matrix(similarity_matrix3, list_of_words3)"
   ]
  },
  {
   "cell_type": "code",
   "execution_count": null,
   "metadata": {
    "collapsed": false,
    "jupyter": {
     "outputs_hidden": false
    },
    "pycharm": {
     "name": "#%%\n"
    }
   },
   "outputs": [],
   "source": [
    "#### YOUR CODE HERE\n",
    "#Do they make sense? \n",
    "#the similarity matrices absolutely make sense, and they reveal a lot about the semantic structure captured by the word embeddings. They capture the semantic relationships between words.\n",
    "#Why some words are closer to each other than others?\n",
    "#Two words are closer if they: Frequently Appear in Similar Contexts, Belong to the Same Semantic Category, Are Antonyms but Co-occur Often. They belong to the same semantic or emotional category (joy, happy, smile...), even antonyms such as love and hate can be considered close if they appear in similar environments.\n",
    "#What does it mean?\n",
    "#It means they are semantically related even if not identical.\n",
    "### YOUR CODE ENDS HERE"
   ]
  },
  {
   "cell_type": "markdown",
   "metadata": {
    "collapsed": false,
    "jupyter": {
     "outputs_hidden": false
    },
    "pycharm": {
     "name": "#%% md\n"
    }
   },
   "source": [
    "<a name='e11'></a>\n",
    "### Exercise 11: Other pre-trained word embeddings\n",
    "(10p) For this exercise, experiment with at least one different word embedding model. You can choose Glove with different dimensions or other pre-trained models. Use the gensim library to download and use the models.\n",
    "Plot similarity matrices between sets of words you used in the previous exercise and compare the results. Are there noticeable differences? Why (not)?"
   ]
  },
  {
   "cell_type": "code",
   "execution_count": 84,
   "metadata": {
    "collapsed": false,
    "jupyter": {
     "outputs_hidden": false
    },
    "pycharm": {
     "name": "#%%\n"
    }
   },
   "outputs": [
    {
     "data": {
      "image/png": "[encoded data removed]",
      "text/plain": [
       "<Figure size 600x500 with 1 Axes>"
      ]
     },
     "metadata": {},
     "output_type": "display_data"
    },
    {
     "data": {
      "image/png": "[encoded data removed]",
      "text/plain": [
       "<Figure size 600x500 with 1 Axes>"
      ]
     },
     "metadata": {},
     "output_type": "display_data"
    },
    {
     "data": {
      "image/png": "[encoded data removed]",
      "text/plain": [
       "<Figure size 600x500 with 1 Axes>"
      ]
     },
     "metadata": {},
     "output_type": "display_data"
    }
   ],
   "source": [
    "#### YOUR CODE HERE\n",
    "import gensim.downloader as api\n",
    "\n",
    "glove_200 = api.load(\"glove-wiki-gigaword-200\")\n",
    "\n",
    "def plot_similarity_matrix(similarity_matrix, words, title=\"Word Similarity Matrix\"):\n",
    "    plt.figure(figsize=(6, 5))\n",
    "    plt.imshow(similarity_matrix, interpolation='nearest', cmap='viridis')\n",
    "    plt.title(title, fontsize=14)\n",
    "    plt.xticks(np.arange(len(words)), words, rotation=45, ha='right', fontsize=10)\n",
    "    plt.yticks(np.arange(len(words)), words, fontsize=10)\n",
    "\n",
    "    for i in range(len(words)):\n",
    "        for j in range(len(words)):\n",
    "            value = similarity_matrix[i, j]\n",
    "            plt.text(j, i, f\"{value:.2f}\", ha='center', va='center',\n",
    "                     color='white' if value < 0.5 else 'black', fontsize=9)\n",
    "\n",
    "    plt.tight_layout()\n",
    "    plt.show()\n",
    "\n",
    "def fill_matrix(similarity_matrix, list_of_words, model):\n",
    "    for i in range(len(list_of_words)):\n",
    "        for j in range(len(list_of_words)):\n",
    "            try:\n",
    "                similarity_matrix[i, j] = model.similarity(list_of_words[i], list_of_words[j])\n",
    "            except KeyError:\n",
    "                similarity_matrix[i, j] = 0.0\n",
    "\n",
    "sim_matrix1_200 = np.zeros((len(list_of_words1), len(list_of_words1)))\n",
    "sim_matrix2_200 = np.zeros((len(list_of_words2), len(list_of_words2)))\n",
    "sim_matrix3_200 = np.zeros((len(list_of_words3), len(list_of_words3)))\n",
    "\n",
    "fill_matrix(sim_matrix1_200, list_of_words1, glove_200)\n",
    "fill_matrix(sim_matrix2_200, list_of_words2, glove_200)\n",
    "fill_matrix(sim_matrix3_200, list_of_words3, glove_200)\n",
    "\n",
    "plot_similarity_matrix(sim_matrix1_200, list_of_words1, title=\"GloVe 200d - Set 1\")\n",
    "plot_similarity_matrix(sim_matrix2_200, list_of_words2, title=\"GloVe 200d - Set 2\")\n",
    "plot_similarity_matrix(sim_matrix3_200, list_of_words3, title=\"GloVe 200d - Set 3\")\n",
    "### YOUR CODE ENDS HERE"
   ]
  },
  {
   "cell_type": "markdown",
   "metadata": {
    "collapsed": false,
    "jupyter": {
     "outputs_hidden": false
    },
    "pycharm": {
     "name": "#%% md\n"
    }
   },
   "source": [
    "// your comments"
   ]
  },
  {
   "cell_type": "code",
   "execution_count": null,
   "metadata": {},
   "outputs": [],
   "source": [
    "#we can see that the 100-dimension ended up with lower similarity scores which could mean that it had better semantic differentiation than the 100 dimension.\n",
    "#it can also be seen that words sppearing in similar context are still identified as similar.\n",
    "#Increasing dimensionality increases detail and gives the model more space to represent subtle differences between words which can lead to more precise representations but because the space is larger, words could potentially end up being far apart which could also reduce similarity scores even if they're still related.\n",
    "#finally we can say that increasing dimensionality can improve precision but could also spread out the space reducing raw similarity values slightly."
   ]
  },
  {
   "cell_type": "markdown",
   "metadata": {
    "collapsed": false,
    "jupyter": {
     "outputs_hidden": false
    },
    "pycharm": {
     "name": "#%% md\n"
    }
   },
   "source": [
    "## 5. Sentence Embeddings by Averaging Word Embeddings\n",
    "\n",
    "Word embeddings are a powerful model for representing words and their meaning (in terms of distributional similarity). As we discussed in class, we can use them in a wide variety of tasks with more complex architectures. Word vectors offer a dense vector for each word. What if we wanted to represent a sentence (or a document) based on word vectors. How can we do that?\n",
    "\n",
    "In the course, we will see different architectures that take into account the sequence of words (by combining their vectors). A first naive but simple and sometimes (as we are going to see) quite effective approach would be to represent a sentence with an embedding vector that is the average of the word vectors that form the sentence.\n",
    "\n",
    "So formally, this is what we are aiming for:\n",
    "\n",
    "$\n",
    "\\text{Sentence_Embedding} = \\frac{1}{N} \\sum_{i=1}^{N} \\text{Word_Embedding}_i\n",
    "$\n",
    "\n",
    "where:\n",
    "* $N$ is the number of words in a sentence\n",
    "* $\\text{Word_Embedding}_i$ is the word vector for the $i$-th in the sentence.\n",
    "\n",
    "Things to note:\n",
    "* The embedding vector for the sentence will obviously have the same dimension as the word embedding.\n",
    "* This representation ignores the word order (like bag-of-words). During the course we will see how we can overcome this limitation by using sequence models."
   ]
  },
  {
   "cell_type": "markdown",
   "metadata": {
    "collapsed": false,
    "jupyter": {
     "outputs_hidden": false
    },
    "pycharm": {
     "name": "#%% md\n"
    }
   },
   "source": [
    "<a name='e12'></a>\n",
    "### Exercise 12: Sentence Embedding\n",
    "\n",
    "(10p) Complete the function below that takes as input the sentence in the form of tokens (so it's a list of words) and calculates the sentence embedding vector. First, we would need to retrieve the word embeddings for each word from our loaded model and then average the vectors.\n",
    "\n",
    "Note: There can be cases where all tokens from a sentence are out-of-vocabulary words (OOV). Think what to do in this case and make sure to discuss it in the report."
   ]
  },
  {
   "cell_type": "code",
   "execution_count": null,
   "metadata": {
    "collapsed": false,
    "jupyter": {
     "outputs_hidden": false
    },
    "pycharm": {
     "name": "#%%\n"
    }
   },
   "outputs": [],
   "source": [
    "def embed_sentence_word_model(tokens, model):\n",
    "    \"\"\"\n",
    "    Calculates the sentence embedding by averaging the embeddings of the tokens\n",
    "    Args:\n",
    "        tokens: a list of words from the sentence\n",
    "        model: a trained word embeddings model\n",
    "\n",
    "    Returns: a numpy array of the sentence embedding\n",
    "\n",
    "    \"\"\"\n",
    "    #### YOUR CODE HERE\n",
    "    #### CAUTION: be sure to cover the case where all tokens are out-of-vocabulary!!!\n",
    "\n",
    "\n",
    "\n",
    "\n",
    "    ### YOUR CODE ENDS HERE"
   ]
  },
  {
   "cell_type": "markdown",
   "metadata": {
    "collapsed": false,
    "jupyter": {
     "outputs_hidden": false
    },
    "pycharm": {
     "name": "#%% md\n"
    }
   },
   "source": [
    "Now we can apply the function to the whole dataset. Here we do it both for the sentence and the compressed version. You should know it by now, but this operation might take some time. The next cells will apply your function to the whole dataset."
   ]
  },
  {
   "cell_type": "code",
   "execution_count": null,
   "metadata": {
    "collapsed": false,
    "jupyter": {
     "outputs_hidden": false
    },
    "pycharm": {
     "name": "#%%\n"
    }
   },
   "outputs": [],
   "source": [
    "def embed_sentence_word_model_dataset(example, model):\n",
    "    \"\"\"\n",
    "    Embeds the sentence and the compressed sentence in the example from the Dataset\n",
    "    Args:\n",
    "        example: an example from the Dataset\n",
    "        model: a trained word embeddings model\n",
    "\n",
    "    Returns: updated example with 'sentence_embedding' and 'compressed_embedding' columns\n",
    "\n",
    "    \"\"\"\n",
    "    sentence_tokens = example['sentence_tokens']\n",
    "    clean_compressed = example['clean_compressed']\n",
    "    compressed_tokens = tokenize(clean_compressed)\n",
    "\n",
    "    sentence_embedding = embed_sentence_word_model(sentence_tokens, model)\n",
    "    compressed_embedding = embed_sentence_word_model(compressed_tokens, model)\n",
    "\n",
    "    example['sentence_embedding'] = sentence_embedding\n",
    "    example['compressed_embedding'] = compressed_embedding\n",
    "    return example"
   ]
  },
  {
   "cell_type": "code",
   "execution_count": null,
   "metadata": {
    "collapsed": false,
    "jupyter": {
     "outputs_hidden": false
    },
    "pycharm": {
     "name": "#%%\n"
    }
   },
   "outputs": [],
   "source": [
    "test_ds = test_ds.map(embed_sentence_word_model_dataset, fn_kwargs={'model': glove_model})\n",
    "print(test_ds)"
   ]
  },
  {
   "cell_type": "code",
   "execution_count": null,
   "metadata": {
    "collapsed": false,
    "jupyter": {
     "outputs_hidden": false
    },
    "pycharm": {
     "name": "#%%\n"
    }
   },
   "outputs": [],
   "source": [
    "for i in range(10):\n",
    "    print(test_ds[i])"
   ]
  },
  {
   "cell_type": "markdown",
   "metadata": {
    "collapsed": false,
    "jupyter": {
     "outputs_hidden": false
    },
    "pycharm": {
     "name": "#%% md\n"
    }
   },
   "source": [
    "Here you can see that the new dataset returned a single numpy array containing all sentence embeddings in our dataset. This is a lot more efficient than returning a list of arrays (which is the default behaviour). Below we check the type and the dimensionality.\n",
    "\n",
    "We will be using `text` subset from our dataset to not use too much RAM."
   ]
  },
  {
   "cell_type": "code",
   "execution_count": null,
   "metadata": {
    "collapsed": false,
    "jupyter": {
     "outputs_hidden": false
    },
    "pycharm": {
     "name": "#%%\n"
    }
   },
   "outputs": [],
   "source": [
    "sent_embedding = test_ds['sentence_embedding']\n",
    "compr_embedding = test_ds['compressed_embedding']\n",
    "print(type(sent_embedding))\n",
    "print(sent_embedding.shape)\n",
    "print(type(compr_embedding))\n",
    "print(compr_embedding.shape)"
   ]
  },
  {
   "cell_type": "markdown",
   "metadata": {
    "collapsed": false,
    "jupyter": {
     "outputs_hidden": false
    },
    "pycharm": {
     "name": "#%% md\n"
    }
   },
   "source": [
    "Next we try the condensed representatin based on a simple query. Feel free to try different queries with different words. What happens if we have OOV words in a query?"
   ]
  },
  {
   "cell_type": "code",
   "execution_count": null,
   "metadata": {
    "collapsed": false,
    "jupyter": {
     "outputs_hidden": false
    },
    "pycharm": {
     "name": "#%%\n"
    }
   },
   "outputs": [],
   "source": [
    "query = 'fox and deer'\n",
    "print(query)\n",
    "\n",
    "query_embedding = embed_text(query, clean, tokenize, lambda x: embed_sentence_word_model(x, glove_model))\n",
    "print(query_embedding.shape)\n",
    "print(query_embedding)"
   ]
  },
  {
   "cell_type": "markdown",
   "metadata": {
    "collapsed": false,
    "jupyter": {
     "outputs_hidden": false
    },
    "pycharm": {
     "name": "#%% md\n"
    }
   },
   "source": [
    "<a name='e13'></a>\n",
    "### Exercise 13: Analyze sentence embeddings\n",
    "- (5p) Calculate similarity between the word embeddings representations of the selected queries and the dataset sentences.\n",
    "- (5p) Analyze the search results. Does the search work as expected? Discuss the results.\n",
    "- (5p) Compare the results with the ones you got with the bag-of-words and TF-IDF representation. Discuss the differences and similarities."
   ]
  },
  {
   "cell_type": "code",
   "execution_count": null,
   "metadata": {
    "collapsed": false,
    "jupyter": {
     "outputs_hidden": false
    },
    "pycharm": {
     "name": "#%%\n"
    }
   },
   "outputs": [],
   "source": [
    "### YOUR CODE HERE\n",
    "\n",
    "\n",
    "\n",
    "\n",
    "### YOUR CODE ENDS HERE"
   ]
  },
  {
   "cell_type": "markdown",
   "metadata": {
    "id": "ZY2jouFmeHOg",
    "pycharm": {
     "name": "#%% md\n"
    }
   },
   "source": [
    "## 6. Evaluating Retrieval\n",
    "\n",
    "In this last section we will try to evaluate how good our sentence retrieval system is. To keep the computational resources manageable, we will use the test set for that as its size is more manageable.\n",
    "\n",
    "Recall from the lecture in IR that there are several metrics to evaluate retrieval performance by taking into account the relevance of the retrieved results to the query. We will use Recall@K here (for more metrics and more details refer to the lecture slides and the textbooks).\n",
    "\n",
    "RRecall@K is a metric used to measure the effectiveness of a search system in retrieving relevant documents within the top $K$ retrieved documents. It calculates the proportion of relevant documents retrieved within the top-$K$ results, compared to the total number of relevant documents in the collection.\n",
    "\n",
    "$\n",
    "\\text{Recall@K} = \\frac{\\text{Number of relevant documents retrieved in the top }-K}{\\text{Total number of relevant documents}}\n",
    "$\n",
    "\n",
    "In our case, we have a sentence, and it's compressed version. To test our system, we will treat compressed sentences as the queries. Each query will have only a single relevant sentence - the corresponding uncompressed sentence.\n",
    "\n",
    "Therefore, for the calculation of Recall@K we will take into account whether the correct retrieved result is contained within the first $K$ retrieved results. For example, if for a query (i.e. a compressed sentence) we retrieve 10 results and within these we see the relevant one (i.e. the full sentence), then Recall@10 = 1."
   ]
  },
  {
   "cell_type": "markdown",
   "metadata": {
    "id": "QUKPtG-uem9f",
    "pycharm": {
     "name": "#%% md\n"
    }
   },
   "source": [
    "<a name='e14'></a>\n",
    "### Exercise 14: Cosine similarity between two sets of vectors\n",
    "\n",
    "(3p) In this exercise you will revisit your implementation of the cosine similarity. Generalize it so that it can accept two arrays containing two sets of vectors (first one containing $M$ vectors and the second one $N$ vectors). Compute the cosine similarity between each pair of vectors coming from the two sets. The result should be an array of size $M x N$.\n",
    "\n",
    "Once again, try to write an efficient code. This means no loops. Remember the relation between matrix multiplication and dot product. (Depending on your implementation of the previous function calculating cosine similarity, this one can be almost the same)"
   ]
  },
  {
   "cell_type": "code",
   "execution_count": null,
   "metadata": {
    "id": "xKiHDrN9eld7",
    "pycharm": {
     "name": "#%%\n"
    }
   },
   "outputs": [],
   "source": [
    "def cosine_similarity_m_to_n(vectors, other_vectors):\n",
    "    \"\"\"\n",
    "    Calculates the cosine similarity between a multiple vectors and other vectors.\n",
    "    Args:\n",
    "        vectors: a numpy array representing M number of vectors of D dimensions (of the size MxD)\n",
    "        other_vectors: a 2D numpy array representing other vectors (of the size NxD, where N is the number of vectors and D is their dimension)\n",
    "\n",
    "    Returns: a numpy array of cosine similarity between all the vectors and all the other vectors\n",
    "\n",
    "    \"\"\"\n",
    "\n",
    "    #### YOUR CODE HERE\n",
    "\n",
    "\n",
    "\n",
    "\n",
    "    ### YOUR CODE ENDS HERE"
   ]
  },
  {
   "cell_type": "markdown",
   "metadata": {
    "id": "qQ-Yhl1Sgoka",
    "pycharm": {
     "name": "#%% md\n"
    }
   },
   "source": [
    "The following function will use your implementation to calculate Recall@K based on the similarity matrix."
   ]
  },
  {
   "cell_type": "code",
   "execution_count": null,
   "metadata": {
    "id": "z0sLS3uRCfdh",
    "pycharm": {
     "name": "#%%\n"
    }
   },
   "outputs": [],
   "source": [
    "def calculate_recall(queries, sentences, k, batch_size=1000):\n",
    "    \"\"\"\n",
    "    Calculates recall@k given the embeddings of the queries and sentences.\n",
    "    Assumes that only a single sentence with the same index as query is relevant.\n",
    "    Batching is implemented to avoid high memory usage.\n",
    "    Args:\n",
    "        queries: a numpy array with the embeddings of N queries\n",
    "        sentences: a numpy array with the embeddings of N sentences available for retrieval\n",
    "        k: number of top results to search for the relevant sentence\n",
    "        batch_size: number of queries to process at a time\n",
    "\n",
    "    Returns: calculated recall@k\n",
    "\n",
    "    \"\"\"\n",
    "    n_queries = queries.shape[0]\n",
    "    correct = np.zeros(n_queries, dtype=bool)\n",
    "\n",
    "    with tqdm.tqdm(total=n_queries) as pbar:\n",
    "        for batch_start in range(0, n_queries, batch_size):\n",
    "            batch_end = min(batch_start + batch_size, n_queries)\n",
    "            queries_batch = queries[batch_start:batch_end]\n",
    "            batch_similarity = cosine_similarity_m_to_n(queries_batch, sentences)\n",
    "\n",
    "            for i, similarity_row in enumerate(batch_similarity):\n",
    "                query_index = batch_start + i\n",
    "                top_k = top_k_indices(similarity_row, k=k, sorted=False)\n",
    "\n",
    "                if query_index in top_k:\n",
    "                    correct[query_index] = True\n",
    "\n",
    "                pbar.update(1)\n",
    "\n",
    "    recall = np.sum(correct) / n_queries\n",
    "    return recall"
   ]
  },
  {
   "cell_type": "markdown",
   "metadata": {
    "id": "3QgAgMiDgw8m",
    "pycharm": {
     "name": "#%% md\n"
    }
   },
   "source": [
    "You can use it like so:"
   ]
  },
  {
   "cell_type": "code",
   "execution_count": null,
   "metadata": {
    "id": "Yxpex7ZxHM7c",
    "pycharm": {
     "name": "#%%\n"
    }
   },
   "outputs": [],
   "source": [
    "recall_at_1 = calculate_recall(compr_embedding, sent_embedding, k=1, batch_size=1000)\n",
    "print(f'\\n{recall_at_1 * 100:.2f}%')"
   ]
  },
  {
   "cell_type": "markdown",
   "metadata": {
    "id": "zY5ZVq5ogzMI",
    "pycharm": {
     "name": "#%% md\n"
    }
   },
   "source": [
    "<a name='e15'></a>\n",
    "### Exercise 15: Evaluating retrieval methods\n",
    "\n",
    "(10p) Calculate recall for different values of $K$ for all methods:\n",
    "- BOW,\n",
    "- TF-IDF,\n",
    "- Pre-trained embeddings.\n",
    "\n",
    "Discuss the results.\n",
    "Comment on how recall changes based on the value of $K$. Are the results expected or surprising?"
   ]
  },
  {
   "cell_type": "code",
   "execution_count": null,
   "metadata": {
    "collapsed": false,
    "jupyter": {
     "outputs_hidden": false
    },
    "pycharm": {
     "name": "#%%\n"
    }
   },
   "outputs": [],
   "source": [
    "#### YOUR CODE HERE\n",
    "\n",
    "\n",
    "\n",
    "### YOUR CODE ENDS HERE"
   ]
  },
  {
   "cell_type": "markdown",
   "metadata": {
    "collapsed": false,
    "jupyter": {
     "outputs_hidden": false
    },
    "pycharm": {
     "name": "#%% md\n"
    }
   },
   "source": [
    "<a name='e16'></a>\n",
    "### Exercise 16: Improving retrieval\n",
    "\n",
    "(10p) Imagine that you work at a company and are tasked with delivering the best retrieval method. Select the most promising one and try to improve the scores (e.g. by changing the vocab size, loading different model, etc.).\n",
    "Discuss the results you achieve, even if you didn't manage to improve the scores."
   ]
  },
  {
   "cell_type": "code",
   "execution_count": null,
   "metadata": {
    "id": "YA9bEm5ehMq8",
    "pycharm": {
     "name": "#%%\n"
    }
   },
   "outputs": [],
   "source": [
    "#### YOUR CODE HERE\n",
    "\n",
    "\n",
    "\n",
    "### YOUR CODE ENDS HERE"
   ]
  },
  {
   "cell_type": "markdown",
   "metadata": {
    "collapsed": false,
    "jupyter": {
     "outputs_hidden": false
    },
    "pycharm": {
     "name": "#%% md\n"
    }
   },
   "source": [
    "// your comments"
   ]
  }
 ],
 "metadata": {
  "colab": {
   "provenance": [],
   "toc_visible": true
  },
  "kernelspec": {
   "display_name": "Python 3 (ipykernel)",
   "language": "python",
   "name": "python3"
  },
  "language_info": {
   "codemirror_mode": {
    "name": "ipython",
    "version": 3
   },
   "file_extension": ".py",
   "mimetype": "text/x-python",
   "name": "python",
   "nbconvert_exporter": "python",
   "pygments_lexer": "ipython3",
   "version": "3.12.2"
  }
 },
 "nbformat": 4,
 "nbformat_minor": 4
}
